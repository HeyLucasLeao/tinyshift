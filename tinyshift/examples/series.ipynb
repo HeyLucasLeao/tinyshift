{
 "cells": [
  {
   "cell_type": "code",
   "execution_count": 1,
   "id": "f56fe688",
   "metadata": {},
   "outputs": [],
   "source": [
    "import sys\n",
    "import os\n",
    "sys.path.append(os.path.abspath(\"../..\"))\n",
    "import numpy as np\n",
    "import yfinance as yf\n",
    "import plotly.express as px\n",
    "from tinyshift.series import relative_strength_index, bollinger_bands, adi_cv, foreca, pattern_stability_index, sample_entropy, hampel_filter, hurst_exponent, standardize_returns\n",
    "from tinyshift.stats import trailing_window, mad\n",
    "from numpy.random import standard_normal"
   ]
  },
  {
   "cell_type": "code",
   "execution_count": 2,
   "id": "3e5496d5",
   "metadata": {},
   "outputs": [
    {
     "name": "stderr",
     "output_type": "stream",
     "text": [
      "[*********************100%***********************]  1 of 1 completed\n"
     ]
    }
   ],
   "source": [
    "ticker = 'PETR4.SA'\n",
    "period = '2y'\n",
    "data = yf.download(ticker, period=period, interval=\"1d\", auto_adjust=True)\n",
    "t = np.linspace(0, 10, 1000)\n",
    "pure_sine = np.sin(2 * np.pi * 1 * t)  # Perfectly forecastable"
   ]
  },
  {
   "cell_type": "code",
   "execution_count": 3,
   "id": "98b6bb91",
   "metadata": {},
   "outputs": [],
   "source": [
    "r = standardize_returns(data[\"Close\"][\"PETR4.SA\"], log=False)"
   ]
  },
  {
   "cell_type": "markdown",
   "id": "20d495d4",
   "metadata": {},
   "source": [
    "# RSI"
   ]
  },
  {
   "cell_type": "code",
   "execution_count": 4,
   "id": "6ae9593c",
   "metadata": {},
   "outputs": [],
   "source": [
    "vol_rsi = relative_strength_index(data[\"Close\"][\"PETR4.SA\"], rolling_window=14)"
   ]
  },
  {
   "cell_type": "code",
   "execution_count": 5,
   "id": "f05842ae",
   "metadata": {},
   "outputs": [
    {
     "data": {
      "application/vnd.plotly.v1+json": {
       "config": {
        "plotlyServerURL": "https://plot.ly"
       },
       "data": [
        {
         "hovertemplate": "variable=0<br>index=%{x}<br>value=%{y}<extra></extra>",
         "legendgroup": "0",
         "line": {
          "color": "#636efa",
          "dash": "solid"
         },
         "marker": {
          "symbol": "circle"
         },
         "mode": "lines",
         "name": "0",
         "orientation": "v",
         "showlegend": true,
         "type": "scatter",
         "x": {
          "bdata": "AAABAAIAAwAEAAUABgAHAAgACQAKAAsADAANAA4ADwAQABEAEgATABQAFQAWABcAGAAZABoAGwAcAB0AHgAfACAAIQAiACMAJAAlACYAJwAoACkAKgArACwALQAuAC8AMAAxADIAMwA0ADUANgA3ADgAOQA6ADsAPAA9AD4APwBAAEEAQgBDAEQARQBGAEcASABJAEoASwBMAE0ATgBPAFAAUQBSAFMAVABVAFYAVwBYAFkAWgBbAFwAXQBeAF8AYABhAGIAYwBkAGUAZgBnAGgAaQBqAGsAbABtAG4AbwBwAHEAcgBzAHQAdQB2AHcAeAB5AHoAewB8AH0AfgB/AIAAgQCCAIMAhACFAIYAhwCIAIkAigCLAIwAjQCOAI8AkACRAJIAkwCUAJUAlgCXAJgAmQCaAJsAnACdAJ4AnwCgAKEAogCjAKQApQCmAKcAqACpAKoAqwCsAK0ArgCvALAAsQCyALMAtAC1ALYAtwC4ALkAugC7ALwAvQC+AL8AwADBAMIAwwDEAMUAxgDHAMgAyQDKAMsAzADNAM4AzwDQANEA0gDTANQA1QDWANcA2ADZANoA2wDcAN0A3gDfAOAA4QDiAOMA5ADlAOYA5wDoAOkA6gDrAOwA7QDuAO8A8ADxAPIA8wD0APUA9gD3APgA+QD6APsA/AD9AP4A/wAAAQEBAgEDAQQBBQEGAQcBCAEJAQoBCwEMAQ0BDgEPARABEQESARMBFAEVARYBFwEYARkBGgEbARwBHQEeAR8BIAEhASIBIwEkASUBJgEnASgBKQEqASsBLAEtAS4BLwEwATEBMgEzATQBNQE2ATcBOAE5AToBOwE8AT0BPgE/AUABQQFCAUMBRAFFAUYBRwFIAUkBSgFLAUwBTQFOAU8BUAFRAVIBUwFUAVUBVgFXAVgBWQFaAVsBXAFdAV4BXwFgAWEBYgFjAWQBZQFmAWcBaAFpAWoBawFsAW0BbgFvAXABcQFyAXMBdAF1AXYBdwF4AXkBegF7AXwBfQF+AX8BgAGBAYIBgwGEAYUBhgGHAYgBiQGKAYsBjAGNAY4BjwGQAZEBkgGTAZQBlQGWAZcBmAGZAZoBmwGcAZ0BngGfAaABoQGiAaMBpAGlAaYBpwGoAakBqgGrAawBrQGuAa8BsAGxAbIBswG0AbUBtgG3AbgBuQG6AbsBvAG9Ab4BvwHAAcEBwgHDAcQBxQHGAccByAHJAcoBywHMAc0BzgHPAdAB0QHSAdMB1AHVAdYB1wHYAdkB2gHbAdwB3QHeAd8B4AHhAeIB4wHkAeUB5gHnAegB6QHqAesB7AHtAe4B7wHwAfEB8gHzAfQB",
          "dtype": "i2"
         },
         "xaxis": "x",
         "y": {
          "bdata": "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",
          "dtype": "f8"
         },
         "yaxis": "y"
        }
       ],
       "layout": {
        "legend": {
         "title": {
          "text": "variable"
         },
         "tracegroupgap": 0
        },
        "template": {
         "data": {
          "bar": [
           {
            "error_x": {
             "color": "#2a3f5f"
            },
            "error_y": {
             "color": "#2a3f5f"
            },
            "marker": {
             "line": {
              "color": "#E5ECF6",
              "width": 0.5
             },
             "pattern": {
              "fillmode": "overlay",
              "size": 10,
              "solidity": 0.2
             }
            },
            "type": "bar"
           }
          ],
          "barpolar": [
           {
            "marker": {
             "line": {
              "color": "#E5ECF6",
              "width": 0.5
             },
             "pattern": {
              "fillmode": "overlay",
              "size": 10,
              "solidity": 0.2
             }
            },
            "type": "barpolar"
           }
          ],
          "carpet": [
           {
            "aaxis": {
             "endlinecolor": "#2a3f5f",
             "gridcolor": "white",
             "linecolor": "white",
             "minorgridcolor": "white",
             "startlinecolor": "#2a3f5f"
            },
            "baxis": {
             "endlinecolor": "#2a3f5f",
             "gridcolor": "white",
             "linecolor": "white",
             "minorgridcolor": "white",
             "startlinecolor": "#2a3f5f"
            },
            "type": "carpet"
           }
          ],
          "choropleth": [
           {
            "colorbar": {
             "outlinewidth": 0,
             "ticks": ""
            },
            "type": "choropleth"
           }
          ],
          "contour": [
           {
            "colorbar": {
             "outlinewidth": 0,
             "ticks": ""
            },
            "colorscale": [
             [
              0,
              "#0d0887"
             ],
             [
              0.1111111111111111,
              "#46039f"
             ],
             [
              0.2222222222222222,
              "#7201a8"
             ],
             [
              0.3333333333333333,
              "#9c179e"
             ],
             [
              0.4444444444444444,
              "#bd3786"
             ],
             [
              0.5555555555555556,
              "#d8576b"
             ],
             [
              0.6666666666666666,
              "#ed7953"
             ],
             [
              0.7777777777777778,
              "#fb9f3a"
             ],
             [
              0.8888888888888888,
              "#fdca26"
             ],
             [
              1,
              "#f0f921"
             ]
            ],
            "type": "contour"
           }
          ],
          "contourcarpet": [
           {
            "colorbar": {
             "outlinewidth": 0,
             "ticks": ""
            },
            "type": "contourcarpet"
           }
          ],
          "heatmap": [
           {
            "colorbar": {
             "outlinewidth": 0,
             "ticks": ""
            },
            "colorscale": [
             [
              0,
              "#0d0887"
             ],
             [
              0.1111111111111111,
              "#46039f"
             ],
             [
              0.2222222222222222,
              "#7201a8"
             ],
             [
              0.3333333333333333,
              "#9c179e"
             ],
             [
              0.4444444444444444,
              "#bd3786"
             ],
             [
              0.5555555555555556,
              "#d8576b"
             ],
             [
              0.6666666666666666,
              "#ed7953"
             ],
             [
              0.7777777777777778,
              "#fb9f3a"
             ],
             [
              0.8888888888888888,
              "#fdca26"
             ],
             [
              1,
              "#f0f921"
             ]
            ],
            "type": "heatmap"
           }
          ],
          "histogram": [
           {
            "marker": {
             "pattern": {
              "fillmode": "overlay",
              "size": 10,
              "solidity": 0.2
             }
            },
            "type": "histogram"
           }
          ],
          "histogram2d": [
           {
            "colorbar": {
             "outlinewidth": 0,
             "ticks": ""
            },
            "colorscale": [
             [
              0,
              "#0d0887"
             ],
             [
              0.1111111111111111,
              "#46039f"
             ],
             [
              0.2222222222222222,
              "#7201a8"
             ],
             [
              0.3333333333333333,
              "#9c179e"
             ],
             [
              0.4444444444444444,
              "#bd3786"
             ],
             [
              0.5555555555555556,
              "#d8576b"
             ],
             [
              0.6666666666666666,
              "#ed7953"
             ],
             [
              0.7777777777777778,
              "#fb9f3a"
             ],
             [
              0.8888888888888888,
              "#fdca26"
             ],
             [
              1,
              "#f0f921"
             ]
            ],
            "type": "histogram2d"
           }
          ],
          "histogram2dcontour": [
           {
            "colorbar": {
             "outlinewidth": 0,
             "ticks": ""
            },
            "colorscale": [
             [
              0,
              "#0d0887"
             ],
             [
              0.1111111111111111,
              "#46039f"
             ],
             [
              0.2222222222222222,
              "#7201a8"
             ],
             [
              0.3333333333333333,
              "#9c179e"
             ],
             [
              0.4444444444444444,
              "#bd3786"
             ],
             [
              0.5555555555555556,
              "#d8576b"
             ],
             [
              0.6666666666666666,
              "#ed7953"
             ],
             [
              0.7777777777777778,
              "#fb9f3a"
             ],
             [
              0.8888888888888888,
              "#fdca26"
             ],
             [
              1,
              "#f0f921"
             ]
            ],
            "type": "histogram2dcontour"
           }
          ],
          "mesh3d": [
           {
            "colorbar": {
             "outlinewidth": 0,
             "ticks": ""
            },
            "type": "mesh3d"
           }
          ],
          "parcoords": [
           {
            "line": {
             "colorbar": {
              "outlinewidth": 0,
              "ticks": ""
             }
            },
            "type": "parcoords"
           }
          ],
          "pie": [
           {
            "automargin": true,
            "type": "pie"
           }
          ],
          "scatter": [
           {
            "fillpattern": {
             "fillmode": "overlay",
             "size": 10,
             "solidity": 0.2
            },
            "type": "scatter"
           }
          ],
          "scatter3d": [
           {
            "line": {
             "colorbar": {
              "outlinewidth": 0,
              "ticks": ""
             }
            },
            "marker": {
             "colorbar": {
              "outlinewidth": 0,
              "ticks": ""
             }
            },
            "type": "scatter3d"
           }
          ],
          "scattercarpet": [
           {
            "marker": {
             "colorbar": {
              "outlinewidth": 0,
              "ticks": ""
             }
            },
            "type": "scattercarpet"
           }
          ],
          "scattergeo": [
           {
            "marker": {
             "colorbar": {
              "outlinewidth": 0,
              "ticks": ""
             }
            },
            "type": "scattergeo"
           }
          ],
          "scattergl": [
           {
            "marker": {
             "colorbar": {
              "outlinewidth": 0,
              "ticks": ""
             }
            },
            "type": "scattergl"
           }
          ],
          "scattermap": [
           {
            "marker": {
             "colorbar": {
              "outlinewidth": 0,
              "ticks": ""
             }
            },
            "type": "scattermap"
           }
          ],
          "scattermapbox": [
           {
            "marker": {
             "colorbar": {
              "outlinewidth": 0,
              "ticks": ""
             }
            },
            "type": "scattermapbox"
           }
          ],
          "scatterpolar": [
           {
            "marker": {
             "colorbar": {
              "outlinewidth": 0,
              "ticks": ""
             }
            },
            "type": "scatterpolar"
           }
          ],
          "scatterpolargl": [
           {
            "marker": {
             "colorbar": {
              "outlinewidth": 0,
              "ticks": ""
             }
            },
            "type": "scatterpolargl"
           }
          ],
          "scatterternary": [
           {
            "marker": {
             "colorbar": {
              "outlinewidth": 0,
              "ticks": ""
             }
            },
            "type": "scatterternary"
           }
          ],
          "surface": [
           {
            "colorbar": {
             "outlinewidth": 0,
             "ticks": ""
            },
            "colorscale": [
             [
              0,
              "#0d0887"
             ],
             [
              0.1111111111111111,
              "#46039f"
             ],
             [
              0.2222222222222222,
              "#7201a8"
             ],
             [
              0.3333333333333333,
              "#9c179e"
             ],
             [
              0.4444444444444444,
              "#bd3786"
             ],
             [
              0.5555555555555556,
              "#d8576b"
             ],
             [
              0.6666666666666666,
              "#ed7953"
             ],
             [
              0.7777777777777778,
              "#fb9f3a"
             ],
             [
              0.8888888888888888,
              "#fdca26"
             ],
             [
              1,
              "#f0f921"
             ]
            ],
            "type": "surface"
           }
          ],
          "table": [
           {
            "cells": {
             "fill": {
              "color": "#EBF0F8"
             },
             "line": {
              "color": "white"
             }
            },
            "header": {
             "fill": {
              "color": "#C8D4E3"
             },
             "line": {
              "color": "white"
             }
            },
            "type": "table"
           }
          ]
         },
         "layout": {
          "annotationdefaults": {
           "arrowcolor": "#2a3f5f",
           "arrowhead": 0,
           "arrowwidth": 1
          },
          "autotypenumbers": "strict",
          "coloraxis": {
           "colorbar": {
            "outlinewidth": 0,
            "ticks": ""
           }
          },
          "colorscale": {
           "diverging": [
            [
             0,
             "#8e0152"
            ],
            [
             0.1,
             "#c51b7d"
            ],
            [
             0.2,
             "#de77ae"
            ],
            [
             0.3,
             "#f1b6da"
            ],
            [
             0.4,
             "#fde0ef"
            ],
            [
             0.5,
             "#f7f7f7"
            ],
            [
             0.6,
             "#e6f5d0"
            ],
            [
             0.7,
             "#b8e186"
            ],
            [
             0.8,
             "#7fbc41"
            ],
            [
             0.9,
             "#4d9221"
            ],
            [
             1,
             "#276419"
            ]
           ],
           "sequential": [
            [
             0,
             "#0d0887"
            ],
            [
             0.1111111111111111,
             "#46039f"
            ],
            [
             0.2222222222222222,
             "#7201a8"
            ],
            [
             0.3333333333333333,
             "#9c179e"
            ],
            [
             0.4444444444444444,
             "#bd3786"
            ],
            [
             0.5555555555555556,
             "#d8576b"
            ],
            [
             0.6666666666666666,
             "#ed7953"
            ],
            [
             0.7777777777777778,
             "#fb9f3a"
            ],
            [
             0.8888888888888888,
             "#fdca26"
            ],
            [
             1,
             "#f0f921"
            ]
           ],
           "sequentialminus": [
            [
             0,
             "#0d0887"
            ],
            [
             0.1111111111111111,
             "#46039f"
            ],
            [
             0.2222222222222222,
             "#7201a8"
            ],
            [
             0.3333333333333333,
             "#9c179e"
            ],
            [
             0.4444444444444444,
             "#bd3786"
            ],
            [
             0.5555555555555556,
             "#d8576b"
            ],
            [
             0.6666666666666666,
             "#ed7953"
            ],
            [
             0.7777777777777778,
             "#fb9f3a"
            ],
            [
             0.8888888888888888,
             "#fdca26"
            ],
            [
             1,
             "#f0f921"
            ]
           ]
          },
          "colorway": [
           "#636efa",
           "#EF553B",
           "#00cc96",
           "#ab63fa",
           "#FFA15A",
           "#19d3f3",
           "#FF6692",
           "#B6E880",
           "#FF97FF",
           "#FECB52"
          ],
          "font": {
           "color": "#2a3f5f"
          },
          "geo": {
           "bgcolor": "white",
           "lakecolor": "white",
           "landcolor": "#E5ECF6",
           "showlakes": true,
           "showland": true,
           "subunitcolor": "white"
          },
          "hoverlabel": {
           "align": "left"
          },
          "hovermode": "closest",
          "mapbox": {
           "style": "light"
          },
          "paper_bgcolor": "white",
          "plot_bgcolor": "#E5ECF6",
          "polar": {
           "angularaxis": {
            "gridcolor": "white",
            "linecolor": "white",
            "ticks": ""
           },
           "bgcolor": "#E5ECF6",
           "radialaxis": {
            "gridcolor": "white",
            "linecolor": "white",
            "ticks": ""
           }
          },
          "scene": {
           "xaxis": {
            "backgroundcolor": "#E5ECF6",
            "gridcolor": "white",
            "gridwidth": 2,
            "linecolor": "white",
            "showbackground": true,
            "ticks": "",
            "zerolinecolor": "white"
           },
           "yaxis": {
            "backgroundcolor": "#E5ECF6",
            "gridcolor": "white",
            "gridwidth": 2,
            "linecolor": "white",
            "showbackground": true,
            "ticks": "",
            "zerolinecolor": "white"
           },
           "zaxis": {
            "backgroundcolor": "#E5ECF6",
            "gridcolor": "white",
            "gridwidth": 2,
            "linecolor": "white",
            "showbackground": true,
            "ticks": "",
            "zerolinecolor": "white"
           }
          },
          "shapedefaults": {
           "line": {
            "color": "#2a3f5f"
           }
          },
          "ternary": {
           "aaxis": {
            "gridcolor": "white",
            "linecolor": "white",
            "ticks": ""
           },
           "baxis": {
            "gridcolor": "white",
            "linecolor": "white",
            "ticks": ""
           },
           "bgcolor": "#E5ECF6",
           "caxis": {
            "gridcolor": "white",
            "linecolor": "white",
            "ticks": ""
           }
          },
          "title": {
           "x": 0.05
          },
          "xaxis": {
           "automargin": true,
           "gridcolor": "white",
           "linecolor": "white",
           "ticks": "",
           "title": {
            "standoff": 15
           },
           "zerolinecolor": "white",
           "zerolinewidth": 2
          },
          "yaxis": {
           "automargin": true,
           "gridcolor": "white",
           "linecolor": "white",
           "ticks": "",
           "title": {
            "standoff": 15
           },
           "zerolinecolor": "white",
           "zerolinewidth": 2
          }
         }
        },
        "title": {
         "text": "PETR4.SA Closing Prices"
        },
        "xaxis": {
         "anchor": "y",
         "domain": [
          0,
          1
         ],
         "title": {
          "text": "index"
         }
        },
        "yaxis": {
         "anchor": "x",
         "domain": [
          0,
          1
         ],
         "title": {
          "text": "value"
         }
        }
       }
      }
     },
     "metadata": {},
     "output_type": "display_data"
    }
   ],
   "source": [
    "px.line(vol_rsi, title=f\"{ticker} Closing Prices\").show(fig_type=\"png\")"
   ]
  },
  {
   "cell_type": "markdown",
   "id": "dea4f795",
   "metadata": {},
   "source": [
    "# Entropy Volatility"
   ]
  },
  {
   "cell_type": "code",
   "execution_count": 6,
   "id": "3a839c52",
   "metadata": {},
   "outputs": [],
   "source": [
    "vol_ent = trailing_window(r, rolling_window=60, func=sample_entropy, m=1)"
   ]
  },
  {
   "cell_type": "code",
   "execution_count": 7,
   "id": "3bc31ec1",
   "metadata": {},
   "outputs": [
    {
     "data": {
      "application/vnd.plotly.v1+json": {
       "config": {
        "plotlyServerURL": "https://plot.ly"
       },
       "data": [
        {
         "hovertemplate": "variable=0<br>index=%{x}<br>value=%{y}<extra></extra>",
         "legendgroup": "0",
         "line": {
          "color": "#636efa",
          "dash": "solid"
         },
         "marker": {
          "symbol": "circle"
         },
         "mode": "lines",
         "name": "0",
         "orientation": "v",
         "showlegend": true,
         "type": "scatter",
         "x": {
          "bdata": "AAABAAIAAwAEAAUABgAHAAgACQAKAAsADAANAA4ADwAQABEAEgATABQAFQAWABcAGAAZABoAGwAcAB0AHgAfACAAIQAiACMAJAAlACYAJwAoACkAKgArACwALQAuAC8AMAAxADIAMwA0ADUANgA3ADgAOQA6ADsAPAA9AD4APwBAAEEAQgBDAEQARQBGAEcASABJAEoASwBMAE0ATgBPAFAAUQBSAFMAVABVAFYAVwBYAFkAWgBbAFwAXQBeAF8AYABhAGIAYwBkAGUAZgBnAGgAaQBqAGsAbABtAG4AbwBwAHEAcgBzAHQAdQB2AHcAeAB5AHoAewB8AH0AfgB/AIAAgQCCAIMAhACFAIYAhwCIAIkAigCLAIwAjQCOAI8AkACRAJIAkwCUAJUAlgCXAJgAmQCaAJsAnACdAJ4AnwCgAKEAogCjAKQApQCmAKcAqACpAKoAqwCsAK0ArgCvALAAsQCyALMAtAC1ALYAtwC4ALkAugC7ALwAvQC+AL8AwADBAMIAwwDEAMUAxgDHAMgAyQDKAMsAzADNAM4AzwDQANEA0gDTANQA1QDWANcA2ADZANoA2wDcAN0A3gDfAOAA4QDiAOMA5ADlAOYA5wDoAOkA6gDrAOwA7QDuAO8A8ADxAPIA8wD0APUA9gD3APgA+QD6APsA/AD9AP4A/wAAAQEBAgEDAQQBBQEGAQcBCAEJAQoBCwEMAQ0BDgEPARABEQESARMBFAEVARYBFwEYARkBGgEbARwBHQEeAR8BIAEhASIBIwEkASUBJgEnASgBKQEqASsBLAEtAS4BLwEwATEBMgEzATQBNQE2ATcBOAE5AToBOwE8AT0BPgE/AUABQQFCAUMBRAFFAUYBRwFIAUkBSgFLAUwBTQFOAU8BUAFRAVIBUwFUAVUBVgFXAVgBWQFaAVsBXAFdAV4BXwFgAWEBYgFjAWQBZQFmAWcBaAFpAWoBawFsAW0BbgFvAXABcQFyAXMBdAF1AXYBdwF4AXkBegF7AXwBfQF+AX8BgAGBAYIBgwGEAYUBhgGHAYgBiQGKAYsBjAGNAY4BjwGQAZEBkgGTAZQBlQGWAZcBmAGZAZoBmwGcAZ0BngGfAaABoQGiAaMBpAGlAaYBpwGoAakBqgGrAawBrQGuAa8BsAGxAbIBswG0AbUBtgG3AbgBuQG6AbsBvAG9Ab4BvwHAAcEBwgHDAcQBxQHGAccByAHJAcoBywHMAc0BzgHPAdAB0QHSAdMB1AHVAdYB1wHYAdkB2gHbAdwB3QHeAd8B4AHhAeIB4wHkAeUB5gHnAegB6QHqAesB7AHtAe4B7wHwAfEB8gHzAQ==",
          "dtype": "i2"
         },
         "xaxis": "x",
         "y": {
          "bdata": "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",
          "dtype": "f8"
         },
         "yaxis": "y"
        }
       ],
       "layout": {
        "legend": {
         "title": {
          "text": "variable"
         },
         "tracegroupgap": 0
        },
        "template": {
         "data": {
          "bar": [
           {
            "error_x": {
             "color": "#2a3f5f"
            },
            "error_y": {
             "color": "#2a3f5f"
            },
            "marker": {
             "line": {
              "color": "#E5ECF6",
              "width": 0.5
             },
             "pattern": {
              "fillmode": "overlay",
              "size": 10,
              "solidity": 0.2
             }
            },
            "type": "bar"
           }
          ],
          "barpolar": [
           {
            "marker": {
             "line": {
              "color": "#E5ECF6",
              "width": 0.5
             },
             "pattern": {
              "fillmode": "overlay",
              "size": 10,
              "solidity": 0.2
             }
            },
            "type": "barpolar"
           }
          ],
          "carpet": [
           {
            "aaxis": {
             "endlinecolor": "#2a3f5f",
             "gridcolor": "white",
             "linecolor": "white",
             "minorgridcolor": "white",
             "startlinecolor": "#2a3f5f"
            },
            "baxis": {
             "endlinecolor": "#2a3f5f",
             "gridcolor": "white",
             "linecolor": "white",
             "minorgridcolor": "white",
             "startlinecolor": "#2a3f5f"
            },
            "type": "carpet"
           }
          ],
          "choropleth": [
           {
            "colorbar": {
             "outlinewidth": 0,
             "ticks": ""
            },
            "type": "choropleth"
           }
          ],
          "contour": [
           {
            "colorbar": {
             "outlinewidth": 0,
             "ticks": ""
            },
            "colorscale": [
             [
              0,
              "#0d0887"
             ],
             [
              0.1111111111111111,
              "#46039f"
             ],
             [
              0.2222222222222222,
              "#7201a8"
             ],
             [
              0.3333333333333333,
              "#9c179e"
             ],
             [
              0.4444444444444444,
              "#bd3786"
             ],
             [
              0.5555555555555556,
              "#d8576b"
             ],
             [
              0.6666666666666666,
              "#ed7953"
             ],
             [
              0.7777777777777778,
              "#fb9f3a"
             ],
             [
              0.8888888888888888,
              "#fdca26"
             ],
             [
              1,
              "#f0f921"
             ]
            ],
            "type": "contour"
           }
          ],
          "contourcarpet": [
           {
            "colorbar": {
             "outlinewidth": 0,
             "ticks": ""
            },
            "type": "contourcarpet"
           }
          ],
          "heatmap": [
           {
            "colorbar": {
             "outlinewidth": 0,
             "ticks": ""
            },
            "colorscale": [
             [
              0,
              "#0d0887"
             ],
             [
              0.1111111111111111,
              "#46039f"
             ],
             [
              0.2222222222222222,
              "#7201a8"
             ],
             [
              0.3333333333333333,
              "#9c179e"
             ],
             [
              0.4444444444444444,
              "#bd3786"
             ],
             [
              0.5555555555555556,
              "#d8576b"
             ],
             [
              0.6666666666666666,
              "#ed7953"
             ],
             [
              0.7777777777777778,
              "#fb9f3a"
             ],
             [
              0.8888888888888888,
              "#fdca26"
             ],
             [
              1,
              "#f0f921"
             ]
            ],
            "type": "heatmap"
           }
          ],
          "histogram": [
           {
            "marker": {
             "pattern": {
              "fillmode": "overlay",
              "size": 10,
              "solidity": 0.2
             }
            },
            "type": "histogram"
           }
          ],
          "histogram2d": [
           {
            "colorbar": {
             "outlinewidth": 0,
             "ticks": ""
            },
            "colorscale": [
             [
              0,
              "#0d0887"
             ],
             [
              0.1111111111111111,
              "#46039f"
             ],
             [
              0.2222222222222222,
              "#7201a8"
             ],
             [
              0.3333333333333333,
              "#9c179e"
             ],
             [
              0.4444444444444444,
              "#bd3786"
             ],
             [
              0.5555555555555556,
              "#d8576b"
             ],
             [
              0.6666666666666666,
              "#ed7953"
             ],
             [
              0.7777777777777778,
              "#fb9f3a"
             ],
             [
              0.8888888888888888,
              "#fdca26"
             ],
             [
              1,
              "#f0f921"
             ]
            ],
            "type": "histogram2d"
           }
          ],
          "histogram2dcontour": [
           {
            "colorbar": {
             "outlinewidth": 0,
             "ticks": ""
            },
            "colorscale": [
             [
              0,
              "#0d0887"
             ],
             [
              0.1111111111111111,
              "#46039f"
             ],
             [
              0.2222222222222222,
              "#7201a8"
             ],
             [
              0.3333333333333333,
              "#9c179e"
             ],
             [
              0.4444444444444444,
              "#bd3786"
             ],
             [
              0.5555555555555556,
              "#d8576b"
             ],
             [
              0.6666666666666666,
              "#ed7953"
             ],
             [
              0.7777777777777778,
              "#fb9f3a"
             ],
             [
              0.8888888888888888,
              "#fdca26"
             ],
             [
              1,
              "#f0f921"
             ]
            ],
            "type": "histogram2dcontour"
           }
          ],
          "mesh3d": [
           {
            "colorbar": {
             "outlinewidth": 0,
             "ticks": ""
            },
            "type": "mesh3d"
           }
          ],
          "parcoords": [
           {
            "line": {
             "colorbar": {
              "outlinewidth": 0,
              "ticks": ""
             }
            },
            "type": "parcoords"
           }
          ],
          "pie": [
           {
            "automargin": true,
            "type": "pie"
           }
          ],
          "scatter": [
           {
            "fillpattern": {
             "fillmode": "overlay",
             "size": 10,
             "solidity": 0.2
            },
            "type": "scatter"
           }
          ],
          "scatter3d": [
           {
            "line": {
             "colorbar": {
              "outlinewidth": 0,
              "ticks": ""
             }
            },
            "marker": {
             "colorbar": {
              "outlinewidth": 0,
              "ticks": ""
             }
            },
            "type": "scatter3d"
           }
          ],
          "scattercarpet": [
           {
            "marker": {
             "colorbar": {
              "outlinewidth": 0,
              "ticks": ""
             }
            },
            "type": "scattercarpet"
           }
          ],
          "scattergeo": [
           {
            "marker": {
             "colorbar": {
              "outlinewidth": 0,
              "ticks": ""
             }
            },
            "type": "scattergeo"
           }
          ],
          "scattergl": [
           {
            "marker": {
             "colorbar": {
              "outlinewidth": 0,
              "ticks": ""
             }
            },
            "type": "scattergl"
           }
          ],
          "scattermap": [
           {
            "marker": {
             "colorbar": {
              "outlinewidth": 0,
              "ticks": ""
             }
            },
            "type": "scattermap"
           }
          ],
          "scattermapbox": [
           {
            "marker": {
             "colorbar": {
              "outlinewidth": 0,
              "ticks": ""
             }
            },
            "type": "scattermapbox"
           }
          ],
          "scatterpolar": [
           {
            "marker": {
             "colorbar": {
              "outlinewidth": 0,
              "ticks": ""
             }
            },
            "type": "scatterpolar"
           }
          ],
          "scatterpolargl": [
           {
            "marker": {
             "colorbar": {
              "outlinewidth": 0,
              "ticks": ""
             }
            },
            "type": "scatterpolargl"
           }
          ],
          "scatterternary": [
           {
            "marker": {
             "colorbar": {
              "outlinewidth": 0,
              "ticks": ""
             }
            },
            "type": "scatterternary"
           }
          ],
          "surface": [
           {
            "colorbar": {
             "outlinewidth": 0,
             "ticks": ""
            },
            "colorscale": [
             [
              0,
              "#0d0887"
             ],
             [
              0.1111111111111111,
              "#46039f"
             ],
             [
              0.2222222222222222,
              "#7201a8"
             ],
             [
              0.3333333333333333,
              "#9c179e"
             ],
             [
              0.4444444444444444,
              "#bd3786"
             ],
             [
              0.5555555555555556,
              "#d8576b"
             ],
             [
              0.6666666666666666,
              "#ed7953"
             ],
             [
              0.7777777777777778,
              "#fb9f3a"
             ],
             [
              0.8888888888888888,
              "#fdca26"
             ],
             [
              1,
              "#f0f921"
             ]
            ],
            "type": "surface"
           }
          ],
          "table": [
           {
            "cells": {
             "fill": {
              "color": "#EBF0F8"
             },
             "line": {
              "color": "white"
             }
            },
            "header": {
             "fill": {
              "color": "#C8D4E3"
             },
             "line": {
              "color": "white"
             }
            },
            "type": "table"
           }
          ]
         },
         "layout": {
          "annotationdefaults": {
           "arrowcolor": "#2a3f5f",
           "arrowhead": 0,
           "arrowwidth": 1
          },
          "autotypenumbers": "strict",
          "coloraxis": {
           "colorbar": {
            "outlinewidth": 0,
            "ticks": ""
           }
          },
          "colorscale": {
           "diverging": [
            [
             0,
             "#8e0152"
            ],
            [
             0.1,
             "#c51b7d"
            ],
            [
             0.2,
             "#de77ae"
            ],
            [
             0.3,
             "#f1b6da"
            ],
            [
             0.4,
             "#fde0ef"
            ],
            [
             0.5,
             "#f7f7f7"
            ],
            [
             0.6,
             "#e6f5d0"
            ],
            [
             0.7,
             "#b8e186"
            ],
            [
             0.8,
             "#7fbc41"
            ],
            [
             0.9,
             "#4d9221"
            ],
            [
             1,
             "#276419"
            ]
           ],
           "sequential": [
            [
             0,
             "#0d0887"
            ],
            [
             0.1111111111111111,
             "#46039f"
            ],
            [
             0.2222222222222222,
             "#7201a8"
            ],
            [
             0.3333333333333333,
             "#9c179e"
            ],
            [
             0.4444444444444444,
             "#bd3786"
            ],
            [
             0.5555555555555556,
             "#d8576b"
            ],
            [
             0.6666666666666666,
             "#ed7953"
            ],
            [
             0.7777777777777778,
             "#fb9f3a"
            ],
            [
             0.8888888888888888,
             "#fdca26"
            ],
            [
             1,
             "#f0f921"
            ]
           ],
           "sequentialminus": [
            [
             0,
             "#0d0887"
            ],
            [
             0.1111111111111111,
             "#46039f"
            ],
            [
             0.2222222222222222,
             "#7201a8"
            ],
            [
             0.3333333333333333,
             "#9c179e"
            ],
            [
             0.4444444444444444,
             "#bd3786"
            ],
            [
             0.5555555555555556,
             "#d8576b"
            ],
            [
             0.6666666666666666,
             "#ed7953"
            ],
            [
             0.7777777777777778,
             "#fb9f3a"
            ],
            [
             0.8888888888888888,
             "#fdca26"
            ],
            [
             1,
             "#f0f921"
            ]
           ]
          },
          "colorway": [
           "#636efa",
           "#EF553B",
           "#00cc96",
           "#ab63fa",
           "#FFA15A",
           "#19d3f3",
           "#FF6692",
           "#B6E880",
           "#FF97FF",
           "#FECB52"
          ],
          "font": {
           "color": "#2a3f5f"
          },
          "geo": {
           "bgcolor": "white",
           "lakecolor": "white",
           "landcolor": "#E5ECF6",
           "showlakes": true,
           "showland": true,
           "subunitcolor": "white"
          },
          "hoverlabel": {
           "align": "left"
          },
          "hovermode": "closest",
          "mapbox": {
           "style": "light"
          },
          "paper_bgcolor": "white",
          "plot_bgcolor": "#E5ECF6",
          "polar": {
           "angularaxis": {
            "gridcolor": "white",
            "linecolor": "white",
            "ticks": ""
           },
           "bgcolor": "#E5ECF6",
           "radialaxis": {
            "gridcolor": "white",
            "linecolor": "white",
            "ticks": ""
           }
          },
          "scene": {
           "xaxis": {
            "backgroundcolor": "#E5ECF6",
            "gridcolor": "white",
            "gridwidth": 2,
            "linecolor": "white",
            "showbackground": true,
            "ticks": "",
            "zerolinecolor": "white"
           },
           "yaxis": {
            "backgroundcolor": "#E5ECF6",
            "gridcolor": "white",
            "gridwidth": 2,
            "linecolor": "white",
            "showbackground": true,
            "ticks": "",
            "zerolinecolor": "white"
           },
           "zaxis": {
            "backgroundcolor": "#E5ECF6",
            "gridcolor": "white",
            "gridwidth": 2,
            "linecolor": "white",
            "showbackground": true,
            "ticks": "",
            "zerolinecolor": "white"
           }
          },
          "shapedefaults": {
           "line": {
            "color": "#2a3f5f"
           }
          },
          "ternary": {
           "aaxis": {
            "gridcolor": "white",
            "linecolor": "white",
            "ticks": ""
           },
           "baxis": {
            "gridcolor": "white",
            "linecolor": "white",
            "ticks": ""
           },
           "bgcolor": "#E5ECF6",
           "caxis": {
            "gridcolor": "white",
            "linecolor": "white",
            "ticks": ""
           }
          },
          "title": {
           "x": 0.05
          },
          "xaxis": {
           "automargin": true,
           "gridcolor": "white",
           "linecolor": "white",
           "ticks": "",
           "title": {
            "standoff": 15
           },
           "zerolinecolor": "white",
           "zerolinewidth": 2
          },
          "yaxis": {
           "automargin": true,
           "gridcolor": "white",
           "linecolor": "white",
           "ticks": "",
           "title": {
            "standoff": 15
           },
           "zerolinecolor": "white",
           "zerolinewidth": 2
          }
         }
        },
        "title": {
         "text": "PETR4.SA Closing Prices"
        },
        "xaxis": {
         "anchor": "y",
         "domain": [
          0,
          1
         ],
         "title": {
          "text": "index"
         }
        },
        "yaxis": {
         "anchor": "x",
         "domain": [
          0,
          1
         ],
         "title": {
          "text": "value"
         }
        }
       }
      }
     },
     "metadata": {},
     "output_type": "display_data"
    }
   ],
   "source": [
    "px.line(vol_ent, title=f\"{ticker} Closing Prices\").show(fig_type=\"png\")"
   ]
  },
  {
   "cell_type": "code",
   "execution_count": 8,
   "id": "ac74a098",
   "metadata": {},
   "outputs": [
    {
     "data": {
      "application/vnd.plotly.v1+json": {
       "config": {
        "plotlyServerURL": "https://plot.ly"
       },
       "data": [
        {
         "name": "Preço PETR4.SA",
         "type": "scatter",
         "x": [
          "2023-10-03T00:00:00.000000000",
          "2023-10-04T00:00:00.000000000",
          "2023-10-05T00:00:00.000000000",
          "2023-10-06T00:00:00.000000000",
          "2023-10-09T00:00:00.000000000",
          "2023-10-10T00:00:00.000000000",
          "2023-10-11T00:00:00.000000000",
          "2023-10-13T00:00:00.000000000",
          "2023-10-16T00:00:00.000000000",
          "2023-10-17T00:00:00.000000000",
          "2023-10-18T00:00:00.000000000",
          "2023-10-19T00:00:00.000000000",
          "2023-10-20T00:00:00.000000000",
          "2023-10-23T00:00:00.000000000",
          "2023-10-24T00:00:00.000000000",
          "2023-10-25T00:00:00.000000000",
          "2023-10-26T00:00:00.000000000",
          "2023-10-27T00:00:00.000000000",
          "2023-10-30T00:00:00.000000000",
          "2023-10-31T00:00:00.000000000",
          "2023-11-01T00:00:00.000000000",
          "2023-11-03T00:00:00.000000000",
          "2023-11-06T00:00:00.000000000",
          "2023-11-07T00:00:00.000000000",
          "2023-11-08T00:00:00.000000000",
          "2023-11-09T00:00:00.000000000",
          "2023-11-10T00:00:00.000000000",
          "2023-11-13T00:00:00.000000000",
          "2023-11-14T00:00:00.000000000",
          "2023-11-16T00:00:00.000000000",
          "2023-11-17T00:00:00.000000000",
          "2023-11-20T00:00:00.000000000",
          "2023-11-21T00:00:00.000000000",
          "2023-11-22T00:00:00.000000000",
          "2023-11-23T00:00:00.000000000",
          "2023-11-24T00:00:00.000000000",
          "2023-11-27T00:00:00.000000000",
          "2023-11-28T00:00:00.000000000",
          "2023-11-29T00:00:00.000000000",
          "2023-11-30T00:00:00.000000000",
          "2023-12-01T00:00:00.000000000",
          "2023-12-04T00:00:00.000000000",
          "2023-12-05T00:00:00.000000000",
          "2023-12-06T00:00:00.000000000",
          "2023-12-07T00:00:00.000000000",
          "2023-12-08T00:00:00.000000000",
          "2023-12-11T00:00:00.000000000",
          "2023-12-12T00:00:00.000000000",
          "2023-12-13T00:00:00.000000000",
          "2023-12-14T00:00:00.000000000",
          "2023-12-15T00:00:00.000000000",
          "2023-12-18T00:00:00.000000000",
          "2023-12-19T00:00:00.000000000",
          "2023-12-20T00:00:00.000000000",
          "2023-12-21T00:00:00.000000000",
          "2023-12-22T00:00:00.000000000",
          "2023-12-26T00:00:00.000000000",
          "2023-12-27T00:00:00.000000000",
          "2023-12-28T00:00:00.000000000",
          "2024-01-02T00:00:00.000000000",
          "2024-01-03T00:00:00.000000000",
          "2024-01-04T00:00:00.000000000",
          "2024-01-05T00:00:00.000000000",
          "2024-01-08T00:00:00.000000000",
          "2024-01-09T00:00:00.000000000",
          "2024-01-10T00:00:00.000000000",
          "2024-01-11T00:00:00.000000000",
          "2024-01-12T00:00:00.000000000",
          "2024-01-15T00:00:00.000000000",
          "2024-01-16T00:00:00.000000000",
          "2024-01-17T00:00:00.000000000",
          "2024-01-18T00:00:00.000000000",
          "2024-01-19T00:00:00.000000000",
          "2024-01-22T00:00:00.000000000",
          "2024-01-23T00:00:00.000000000",
          "2024-01-24T00:00:00.000000000",
          "2024-01-25T00:00:00.000000000",
          "2024-01-26T00:00:00.000000000",
          "2024-01-29T00:00:00.000000000",
          "2024-01-30T00:00:00.000000000",
          "2024-01-31T00:00:00.000000000",
          "2024-02-01T00:00:00.000000000",
          "2024-02-02T00:00:00.000000000",
          "2024-02-05T00:00:00.000000000",
          "2024-02-06T00:00:00.000000000",
          "2024-02-07T00:00:00.000000000",
          "2024-02-08T00:00:00.000000000",
          "2024-02-09T00:00:00.000000000",
          "2024-02-14T00:00:00.000000000",
          "2024-02-15T00:00:00.000000000",
          "2024-02-16T00:00:00.000000000",
          "2024-02-19T00:00:00.000000000",
          "2024-02-20T00:00:00.000000000",
          "2024-02-21T00:00:00.000000000",
          "2024-02-22T00:00:00.000000000",
          "2024-02-23T00:00:00.000000000",
          "2024-02-26T00:00:00.000000000",
          "2024-02-27T00:00:00.000000000",
          "2024-02-28T00:00:00.000000000",
          "2024-02-29T00:00:00.000000000",
          "2024-03-01T00:00:00.000000000",
          "2024-03-04T00:00:00.000000000",
          "2024-03-05T00:00:00.000000000",
          "2024-03-06T00:00:00.000000000",
          "2024-03-07T00:00:00.000000000",
          "2024-03-08T00:00:00.000000000",
          "2024-03-11T00:00:00.000000000",
          "2024-03-12T00:00:00.000000000",
          "2024-03-13T00:00:00.000000000",
          "2024-03-14T00:00:00.000000000",
          "2024-03-15T00:00:00.000000000",
          "2024-03-18T00:00:00.000000000",
          "2024-03-19T00:00:00.000000000",
          "2024-03-20T00:00:00.000000000",
          "2024-03-21T00:00:00.000000000",
          "2024-03-22T00:00:00.000000000",
          "2024-03-25T00:00:00.000000000",
          "2024-03-26T00:00:00.000000000",
          "2024-03-27T00:00:00.000000000",
          "2024-03-28T00:00:00.000000000",
          "2024-04-01T00:00:00.000000000",
          "2024-04-02T00:00:00.000000000",
          "2024-04-03T00:00:00.000000000",
          "2024-04-04T00:00:00.000000000",
          "2024-04-05T00:00:00.000000000",
          "2024-04-08T00:00:00.000000000",
          "2024-04-09T00:00:00.000000000",
          "2024-04-10T00:00:00.000000000",
          "2024-04-11T00:00:00.000000000",
          "2024-04-12T00:00:00.000000000",
          "2024-04-15T00:00:00.000000000",
          "2024-04-16T00:00:00.000000000",
          "2024-04-17T00:00:00.000000000",
          "2024-04-18T00:00:00.000000000",
          "2024-04-19T00:00:00.000000000",
          "2024-04-22T00:00:00.000000000",
          "2024-04-23T00:00:00.000000000",
          "2024-04-24T00:00:00.000000000",
          "2024-04-25T00:00:00.000000000",
          "2024-04-26T00:00:00.000000000",
          "2024-04-29T00:00:00.000000000",
          "2024-04-30T00:00:00.000000000",
          "2024-05-02T00:00:00.000000000",
          "2024-05-03T00:00:00.000000000",
          "2024-05-06T00:00:00.000000000",
          "2024-05-07T00:00:00.000000000",
          "2024-05-08T00:00:00.000000000",
          "2024-05-09T00:00:00.000000000",
          "2024-05-10T00:00:00.000000000",
          "2024-05-13T00:00:00.000000000",
          "2024-05-14T00:00:00.000000000",
          "2024-05-15T00:00:00.000000000",
          "2024-05-16T00:00:00.000000000",
          "2024-05-17T00:00:00.000000000",
          "2024-05-20T00:00:00.000000000",
          "2024-05-21T00:00:00.000000000",
          "2024-05-22T00:00:00.000000000",
          "2024-05-23T00:00:00.000000000",
          "2024-05-24T00:00:00.000000000",
          "2024-05-27T00:00:00.000000000",
          "2024-05-28T00:00:00.000000000",
          "2024-05-29T00:00:00.000000000",
          "2024-05-31T00:00:00.000000000",
          "2024-06-03T00:00:00.000000000",
          "2024-06-04T00:00:00.000000000",
          "2024-06-05T00:00:00.000000000",
          "2024-06-06T00:00:00.000000000",
          "2024-06-07T00:00:00.000000000",
          "2024-06-10T00:00:00.000000000",
          "2024-06-11T00:00:00.000000000",
          "2024-06-12T00:00:00.000000000",
          "2024-06-13T00:00:00.000000000",
          "2024-06-14T00:00:00.000000000",
          "2024-06-17T00:00:00.000000000",
          "2024-06-18T00:00:00.000000000",
          "2024-06-19T00:00:00.000000000",
          "2024-06-20T00:00:00.000000000",
          "2024-06-21T00:00:00.000000000",
          "2024-06-24T00:00:00.000000000",
          "2024-06-25T00:00:00.000000000",
          "2024-06-26T00:00:00.000000000",
          "2024-06-27T00:00:00.000000000",
          "2024-06-28T00:00:00.000000000",
          "2024-07-01T00:00:00.000000000",
          "2024-07-02T00:00:00.000000000",
          "2024-07-03T00:00:00.000000000",
          "2024-07-04T00:00:00.000000000",
          "2024-07-05T00:00:00.000000000",
          "2024-07-08T00:00:00.000000000",
          "2024-07-09T00:00:00.000000000",
          "2024-07-10T00:00:00.000000000",
          "2024-07-11T00:00:00.000000000",
          "2024-07-12T00:00:00.000000000",
          "2024-07-15T00:00:00.000000000",
          "2024-07-16T00:00:00.000000000",
          "2024-07-17T00:00:00.000000000",
          "2024-07-18T00:00:00.000000000",
          "2024-07-19T00:00:00.000000000",
          "2024-07-22T00:00:00.000000000",
          "2024-07-23T00:00:00.000000000",
          "2024-07-24T00:00:00.000000000",
          "2024-07-25T00:00:00.000000000",
          "2024-07-26T00:00:00.000000000",
          "2024-07-29T00:00:00.000000000",
          "2024-07-30T00:00:00.000000000",
          "2024-07-31T00:00:00.000000000",
          "2024-08-01T00:00:00.000000000",
          "2024-08-02T00:00:00.000000000",
          "2024-08-05T00:00:00.000000000",
          "2024-08-06T00:00:00.000000000",
          "2024-08-07T00:00:00.000000000",
          "2024-08-08T00:00:00.000000000",
          "2024-08-09T00:00:00.000000000",
          "2024-08-12T00:00:00.000000000",
          "2024-08-13T00:00:00.000000000",
          "2024-08-14T00:00:00.000000000",
          "2024-08-15T00:00:00.000000000",
          "2024-08-16T00:00:00.000000000",
          "2024-08-19T00:00:00.000000000",
          "2024-08-20T00:00:00.000000000",
          "2024-08-21T00:00:00.000000000",
          "2024-08-22T00:00:00.000000000",
          "2024-08-23T00:00:00.000000000",
          "2024-08-26T00:00:00.000000000",
          "2024-08-27T00:00:00.000000000",
          "2024-08-28T00:00:00.000000000",
          "2024-08-29T00:00:00.000000000",
          "2024-08-30T00:00:00.000000000",
          "2024-09-02T00:00:00.000000000",
          "2024-09-03T00:00:00.000000000",
          "2024-09-04T00:00:00.000000000",
          "2024-09-05T00:00:00.000000000",
          "2024-09-06T00:00:00.000000000",
          "2024-09-09T00:00:00.000000000",
          "2024-09-10T00:00:00.000000000",
          "2024-09-11T00:00:00.000000000",
          "2024-09-12T00:00:00.000000000",
          "2024-09-13T00:00:00.000000000",
          "2024-09-16T00:00:00.000000000",
          "2024-09-17T00:00:00.000000000",
          "2024-09-18T00:00:00.000000000",
          "2024-09-19T00:00:00.000000000",
          "2024-09-20T00:00:00.000000000",
          "2024-09-23T00:00:00.000000000",
          "2024-09-24T00:00:00.000000000",
          "2024-09-25T00:00:00.000000000",
          "2024-09-26T00:00:00.000000000",
          "2024-09-27T00:00:00.000000000",
          "2024-09-30T00:00:00.000000000",
          "2024-10-01T00:00:00.000000000",
          "2024-10-02T00:00:00.000000000",
          "2024-10-03T00:00:00.000000000",
          "2024-10-04T00:00:00.000000000",
          "2024-10-07T00:00:00.000000000",
          "2024-10-08T00:00:00.000000000",
          "2024-10-09T00:00:00.000000000",
          "2024-10-10T00:00:00.000000000",
          "2024-10-11T00:00:00.000000000",
          "2024-10-14T00:00:00.000000000",
          "2024-10-15T00:00:00.000000000",
          "2024-10-16T00:00:00.000000000",
          "2024-10-17T00:00:00.000000000",
          "2024-10-18T00:00:00.000000000",
          "2024-10-21T00:00:00.000000000",
          "2024-10-22T00:00:00.000000000",
          "2024-10-23T00:00:00.000000000",
          "2024-10-24T00:00:00.000000000",
          "2024-10-25T00:00:00.000000000",
          "2024-10-28T00:00:00.000000000",
          "2024-10-29T00:00:00.000000000",
          "2024-10-30T00:00:00.000000000",
          "2024-10-31T00:00:00.000000000",
          "2024-11-01T00:00:00.000000000",
          "2024-11-04T00:00:00.000000000",
          "2024-11-05T00:00:00.000000000",
          "2024-11-06T00:00:00.000000000",
          "2024-11-07T00:00:00.000000000",
          "2024-11-08T00:00:00.000000000",
          "2024-11-11T00:00:00.000000000",
          "2024-11-12T00:00:00.000000000",
          "2024-11-13T00:00:00.000000000",
          "2024-11-14T00:00:00.000000000",
          "2024-11-18T00:00:00.000000000",
          "2024-11-19T00:00:00.000000000",
          "2024-11-21T00:00:00.000000000",
          "2024-11-22T00:00:00.000000000",
          "2024-11-25T00:00:00.000000000",
          "2024-11-26T00:00:00.000000000",
          "2024-11-27T00:00:00.000000000",
          "2024-11-28T00:00:00.000000000",
          "2024-11-29T00:00:00.000000000",
          "2024-12-02T00:00:00.000000000",
          "2024-12-03T00:00:00.000000000",
          "2024-12-04T00:00:00.000000000",
          "2024-12-05T00:00:00.000000000",
          "2024-12-06T00:00:00.000000000",
          "2024-12-09T00:00:00.000000000",
          "2024-12-10T00:00:00.000000000",
          "2024-12-11T00:00:00.000000000",
          "2024-12-12T00:00:00.000000000",
          "2024-12-13T00:00:00.000000000",
          "2024-12-16T00:00:00.000000000",
          "2024-12-17T00:00:00.000000000",
          "2024-12-18T00:00:00.000000000",
          "2024-12-19T00:00:00.000000000",
          "2024-12-20T00:00:00.000000000",
          "2024-12-23T00:00:00.000000000",
          "2024-12-26T00:00:00.000000000",
          "2024-12-27T00:00:00.000000000",
          "2024-12-30T00:00:00.000000000",
          "2025-01-02T00:00:00.000000000",
          "2025-01-03T00:00:00.000000000",
          "2025-01-06T00:00:00.000000000",
          "2025-01-07T00:00:00.000000000",
          "2025-01-08T00:00:00.000000000",
          "2025-01-09T00:00:00.000000000",
          "2025-01-10T00:00:00.000000000",
          "2025-01-13T00:00:00.000000000",
          "2025-01-14T00:00:00.000000000",
          "2025-01-15T00:00:00.000000000",
          "2025-01-16T00:00:00.000000000",
          "2025-01-17T00:00:00.000000000",
          "2025-01-20T00:00:00.000000000",
          "2025-01-21T00:00:00.000000000",
          "2025-01-22T00:00:00.000000000",
          "2025-01-23T00:00:00.000000000",
          "2025-01-24T00:00:00.000000000",
          "2025-01-27T00:00:00.000000000",
          "2025-01-28T00:00:00.000000000",
          "2025-01-29T00:00:00.000000000",
          "2025-01-30T00:00:00.000000000",
          "2025-01-31T00:00:00.000000000",
          "2025-02-03T00:00:00.000000000",
          "2025-02-04T00:00:00.000000000",
          "2025-02-05T00:00:00.000000000",
          "2025-02-06T00:00:00.000000000",
          "2025-02-07T00:00:00.000000000",
          "2025-02-10T00:00:00.000000000",
          "2025-02-11T00:00:00.000000000",
          "2025-02-12T00:00:00.000000000",
          "2025-02-13T00:00:00.000000000",
          "2025-02-14T00:00:00.000000000",
          "2025-02-17T00:00:00.000000000",
          "2025-02-18T00:00:00.000000000",
          "2025-02-19T00:00:00.000000000",
          "2025-02-20T00:00:00.000000000",
          "2025-02-21T00:00:00.000000000",
          "2025-02-24T00:00:00.000000000",
          "2025-02-25T00:00:00.000000000",
          "2025-02-26T00:00:00.000000000",
          "2025-02-27T00:00:00.000000000",
          "2025-02-28T00:00:00.000000000",
          "2025-03-05T00:00:00.000000000",
          "2025-03-06T00:00:00.000000000",
          "2025-03-07T00:00:00.000000000",
          "2025-03-10T00:00:00.000000000",
          "2025-03-11T00:00:00.000000000",
          "2025-03-12T00:00:00.000000000",
          "2025-03-13T00:00:00.000000000",
          "2025-03-14T00:00:00.000000000",
          "2025-03-17T00:00:00.000000000",
          "2025-03-18T00:00:00.000000000",
          "2025-03-19T00:00:00.000000000",
          "2025-03-20T00:00:00.000000000",
          "2025-03-21T00:00:00.000000000",
          "2025-03-24T00:00:00.000000000",
          "2025-03-25T00:00:00.000000000",
          "2025-03-26T00:00:00.000000000",
          "2025-03-27T00:00:00.000000000",
          "2025-03-28T00:00:00.000000000",
          "2025-03-31T00:00:00.000000000",
          "2025-04-01T00:00:00.000000000",
          "2025-04-02T00:00:00.000000000",
          "2025-04-03T00:00:00.000000000",
          "2025-04-04T00:00:00.000000000",
          "2025-04-07T00:00:00.000000000",
          "2025-04-08T00:00:00.000000000",
          "2025-04-09T00:00:00.000000000",
          "2025-04-10T00:00:00.000000000",
          "2025-04-11T00:00:00.000000000",
          "2025-04-14T00:00:00.000000000",
          "2025-04-15T00:00:00.000000000",
          "2025-04-16T00:00:00.000000000",
          "2025-04-17T00:00:00.000000000",
          "2025-04-22T00:00:00.000000000",
          "2025-04-23T00:00:00.000000000",
          "2025-04-24T00:00:00.000000000",
          "2025-04-25T00:00:00.000000000",
          "2025-04-28T00:00:00.000000000",
          "2025-04-29T00:00:00.000000000",
          "2025-04-30T00:00:00.000000000",
          "2025-05-02T00:00:00.000000000",
          "2025-05-05T00:00:00.000000000",
          "2025-05-06T00:00:00.000000000",
          "2025-05-07T00:00:00.000000000",
          "2025-05-08T00:00:00.000000000",
          "2025-05-09T00:00:00.000000000",
          "2025-05-12T00:00:00.000000000",
          "2025-05-13T00:00:00.000000000",
          "2025-05-14T00:00:00.000000000",
          "2025-05-15T00:00:00.000000000",
          "2025-05-16T00:00:00.000000000",
          "2025-05-19T00:00:00.000000000",
          "2025-05-20T00:00:00.000000000",
          "2025-05-21T00:00:00.000000000",
          "2025-05-22T00:00:00.000000000",
          "2025-05-23T00:00:00.000000000",
          "2025-05-26T00:00:00.000000000",
          "2025-05-27T00:00:00.000000000",
          "2025-05-28T00:00:00.000000000",
          "2025-05-29T00:00:00.000000000",
          "2025-05-30T00:00:00.000000000",
          "2025-06-02T00:00:00.000000000",
          "2025-06-03T00:00:00.000000000",
          "2025-06-04T00:00:00.000000000",
          "2025-06-05T00:00:00.000000000",
          "2025-06-06T00:00:00.000000000",
          "2025-06-09T00:00:00.000000000",
          "2025-06-10T00:00:00.000000000",
          "2025-06-11T00:00:00.000000000",
          "2025-06-12T00:00:00.000000000",
          "2025-06-13T00:00:00.000000000",
          "2025-06-16T00:00:00.000000000",
          "2025-06-17T00:00:00.000000000",
          "2025-06-18T00:00:00.000000000",
          "2025-06-20T00:00:00.000000000",
          "2025-06-23T00:00:00.000000000",
          "2025-06-24T00:00:00.000000000",
          "2025-06-25T00:00:00.000000000",
          "2025-06-26T00:00:00.000000000",
          "2025-06-27T00:00:00.000000000",
          "2025-06-30T00:00:00.000000000",
          "2025-07-01T00:00:00.000000000",
          "2025-07-02T00:00:00.000000000",
          "2025-07-03T00:00:00.000000000",
          "2025-07-04T00:00:00.000000000",
          "2025-07-07T00:00:00.000000000",
          "2025-07-08T00:00:00.000000000",
          "2025-07-09T00:00:00.000000000",
          "2025-07-10T00:00:00.000000000",
          "2025-07-11T00:00:00.000000000",
          "2025-07-14T00:00:00.000000000",
          "2025-07-15T00:00:00.000000000",
          "2025-07-16T00:00:00.000000000",
          "2025-07-17T00:00:00.000000000",
          "2025-07-18T00:00:00.000000000",
          "2025-07-21T00:00:00.000000000",
          "2025-07-22T00:00:00.000000000",
          "2025-07-23T00:00:00.000000000",
          "2025-07-24T00:00:00.000000000",
          "2025-07-25T00:00:00.000000000",
          "2025-07-28T00:00:00.000000000",
          "2025-07-29T00:00:00.000000000",
          "2025-07-30T00:00:00.000000000",
          "2025-07-31T00:00:00.000000000",
          "2025-08-01T00:00:00.000000000",
          "2025-08-04T00:00:00.000000000",
          "2025-08-05T00:00:00.000000000",
          "2025-08-06T00:00:00.000000000",
          "2025-08-07T00:00:00.000000000",
          "2025-08-08T00:00:00.000000000",
          "2025-08-11T00:00:00.000000000",
          "2025-08-12T00:00:00.000000000",
          "2025-08-13T00:00:00.000000000",
          "2025-08-14T00:00:00.000000000",
          "2025-08-15T00:00:00.000000000",
          "2025-08-18T00:00:00.000000000",
          "2025-08-19T00:00:00.000000000",
          "2025-08-20T00:00:00.000000000",
          "2025-08-21T00:00:00.000000000",
          "2025-08-22T00:00:00.000000000",
          "2025-08-25T00:00:00.000000000",
          "2025-08-26T00:00:00.000000000",
          "2025-08-27T00:00:00.000000000",
          "2025-08-28T00:00:00.000000000",
          "2025-08-29T00:00:00.000000000",
          "2025-09-01T00:00:00.000000000",
          "2025-09-02T00:00:00.000000000",
          "2025-09-03T00:00:00.000000000",
          "2025-09-04T00:00:00.000000000",
          "2025-09-05T00:00:00.000000000",
          "2025-09-08T00:00:00.000000000",
          "2025-09-09T00:00:00.000000000",
          "2025-09-10T00:00:00.000000000",
          "2025-09-11T00:00:00.000000000",
          "2025-09-12T00:00:00.000000000",
          "2025-09-15T00:00:00.000000000",
          "2025-09-16T00:00:00.000000000",
          "2025-09-17T00:00:00.000000000",
          "2025-09-18T00:00:00.000000000",
          "2025-09-19T00:00:00.000000000",
          "2025-09-22T00:00:00.000000000",
          "2025-09-23T00:00:00.000000000",
          "2025-09-24T00:00:00.000000000",
          "2025-09-25T00:00:00.000000000",
          "2025-09-26T00:00:00.000000000",
          "2025-09-29T00:00:00.000000000",
          "2025-09-30T00:00:00.000000000",
          "2025-10-01T00:00:00.000000000",
          "2025-10-02T00:00:00.000000000",
          "2025-10-03T00:00:00.000000000"
         ],
         "y": {
          "bdata": "AAAAwMO1OEAAAABgX7o3QAAAAEDbzjdAAAAAoBpgOEAAAACAQWw5QAAAACCsnDlAAAAAgOmLOUAAAABg7GM6QAAAAOBorjpAAAAAgMNmO0AAAAAgDAU8QAAAAICH4ztAAAAAQEiIO0AAAABAvrY5QAAAAMBvGTpAAAAAQNE8OkAAAAAA6/c5QAAAAICAxzlAAAAA4HaEOUAAAACgJkU5QAAAAIDpizlAAAAAgB/aOUAAAACAidQ5QAAAAICrZjlAAAAAwAHbOEAAAACgOF85QAAAAEBtQTlAAAAAIA72OUAAAABgTVE6QAAAACD82zlAAAAAAP+zOkAAAABglbk6QAAAACDScjpAAAAAoPWTOkAAAAAA5ZU6QAAAAAA/qTpAAAAAIIuCOkAAAAAAG+k6QAAAAECBoTpAAAAAgBglO0AAAAAAp/Y6QAAAAMCUYzpAAAAAgJ5EOkAAAADguVI5QAAAAKA+QzlAAAAAYE4SOkAAAAAAJvk5QAAAAOD2wjlAAAAAQMkhOkAAAABA7LI6QAAAAGBnwjpAAAAA4IwXO0AAAADg42Y7QAAAAEAMgDtAAAAAoPuBO0AAAACgtsU7QAAAAMDiNzxAAAAAwLA9PEAAAABgeCY8QAAAAKD3jjxAAAAAQFBzPUAAAABAdDM9QAAAACDfRD1AAAAAgMAMPUAAAABg5Mw8QAAAAKApiTxAAAAAQBbHPEAAAADgb9o8QAAAAIDHKT1AAAAAYOTMPEAAAADAUaI8QAAAAIBKhTxAAAAAYJZePEAAAACAfH88QAAAAOBv2jxAAAAAwFGiPEAAAADgPLE9QAAAAODTND5AAAAAIN+qPkAAAACAfno+QAAAAECjzz5AAAAAwGJsP0AAAABg4wM/QAAAACC4Jj9AAAAAoEFwP0AAAACgTOY/QAAAAACBpD9AAAAAICM4P0AAAADgJfw+QAAAAACn+T9AAAAAgI8iQEAAAABA4TZAQAAAAOBWC0BAAAAAACURQEAAAABgXeQ/QAAAAOA+rD9AAAAAgI8iQEAAAABgwRxAQAAAAKDHjz5AAAAAAKlXPkAAAACgZl8+QAAAAOAMTD5AAAAA4NM0PkAAAAAAH98+QAAAAEAKiD5AAAAAgPi9O0AAAABAyPI6QAAAAKAx1TtAAAAAQAyAO0AAAADAFWE7QAAAAMBvdDtAAAAAoE54O0AAAACgDkQ7QAAAAID4vTtAAAAAIHX8OkAAAADgL0A7QAAAAICeqjtAAAAAINNoO0AAAAAA8qA7QAAAAMCwPTxAAAAAwM91PEAAAAAAhTE9QAAAAIDQCj1AAAAAgKu1PEAAAABg5Mw8QAAAAEB0Mz1AAAAAIM5GPUAAAABgOu09QAAAAKAbtT1AAAAAgHFvPUAAAABgC7c9QAAAAIDg2T1AAAAAwP4RPkAAAACAih8+QAAAAGAhoz5AAAAAINdeP0AAAADgW08/QAAAAECXKj9AAAAAgCvqP0AAAABAxy5AQAAAAACDYEBAAAAAoJRTQEAAAADAfmNAQAAAAMAfLkBAAAAAIClKQEAAAADACn1AQAAAAABsvUBAAAAA4PTmQEAAAACgnN1AQAAAAADE4UBAAAAA4OKTQEAAAACAzyY/QAAAAAA2Pj5AAAAAIK7DPUAAAACAJNA9QAAAAECbwT1AAAAAgHEpPkAAAABgmtw9QAAAAEARsz1AAAAAYCMGPkAAAADgM6o+QAAAAKDRnz5AAAAAoM13P0AAAAAgMUw/QAAAACDk8j5AAAAAIEb9PkAAAAAAqCI/QAAAAOCZ9z1AAAAAgOZrPkAAAAAAIY0+QAAAAODx4j1AAAAAIA2WPUAAAADgcu88QAAAAGA3Cz1AAAAAoAj0PUAAAADAcPo9QAAAAOAwdD5AAAAAgMWcPkAAAADgzes+QAAAACBl5T5AAAAAADbyPkAAAACgo3Y/QAAAAIBCvz9AAAAAgJIdQEAAAADAwRBAQAAAAOBnkj9AAAAAoFYjP0AAAAAgDk4/QAAAAABICUBAAAAAoDYIQEAAAACAiMM/QAAAAGAR+z9AAAAA4J7UP0AAAACAsA9AQAAAAGACBUBAAAAAgF4aQEAAAADA5BJAQAAAACD7I0BAAAAAQH6jP0AAAABA1To/QAAAAIDpej9AAAAAIDtwP0AAAADgr2c/QAAAAABbxT5AAAAAoDqUPkAAAACAjzY/QAAAAMDPvD5AAAAAALnPPUAAAABAUMk9QAAAACC+TT5AAAAAYBBDPkAAAADA8r4+QAAAAEBTdj5AAAAAoJsnP0AAAABAe/Y+QAAAAIBRgT9AAAAA4DP9P0AAAACAsA9AQAAAAABICUBAAAAAQIbyP0AAAADAZcE/QAAAAKBD2j9AAAAAQL2nP0AAAAAgO/pAQAAAAKAEwEBAAAAAwIb9QEAAAAAA399AQAAAAIBD5EBAAAAAAKC7QEAAAABgAIhAQAAAAMAZiUBAAAAAQL1uQEAAAACgXBxAQAAAACBlSUBAAAAAoDIEQEAAAADgm/8/QAAAAIBYoz9AAAAAQAB+P0AAAADACO4/QAAAAMCwyD9AAAAAoC4FP0AAAAAAix8/QAAAAEBYHT9AAAAAwJ9uP0AAAAAgk48/QAAAAODiyj9AAAAA4CUbP0AAAADgZPw+QAAAACBt5j5AAAAAgFC5P0AAAABgrBRAQAAAAMAyR0BAAAAA4DY8QEAAAACAbXZAQAAAAIDaIUBAAAAAIDvwP0AAAACAWCdAQAAAAOAMJEBAAAAAgO8tQEAAAADg4gtAQAAAAMAI7j9AAAAAoIawP0AAAABgj5o/QAAAAOAlGz9AAAAA4GT8PkAAAACAipk+QAAAAEBDzj5AAAAAoC4FP0AAAABgAPg+QAAAACBt5j5AAAAAQEfDPkAAAACgddA+QAAAAODRZD5AAAAAwGR2PkAAAADgOl4+QAAAAEBtYD5AAAAAIJd4PkAAAACgxQs/QAAAAOAlGz9AAAAAoIawP0AAAADgiqU/QAAAACA3+z9AAAAAYMFjQEAAAAAA0jdAQAAAACDnQ0BAAAAAgMHpQEAAAABAZc9AQAAAAEDnyUBAAAAAwIa6QEAAAACAl45AQAAAACCksEBAAAAAwBnMQEAAAAAAi/JAQAAAAGAV10BAAAAAgOsBQUAAAACA675AQAAAAODaLUFAAAAAYFQ+QUAAAADAQ2pBQAAAAKCFGkFAAAAAAB3/QEAAAABg1+xAQAAAAED0FUFAAAAA4OSkQEAAAABgw5NAQAAAAGBccEBAAAAAoIBxQEAAAACgJZFAQAAAAMAahEBAAAAA4PHCQEAAAADgtgdBQAAAACB52UBAAAAAAFHFQEAAAAAAnSBBQAAAACAL/UBAAAAAgAMQQUAAAADg3htBQAAAAMBIK0FAAAAAgKQNQUAAAACAXkVBQAAAAMDpKEFAAAAAwLI6QUAAAACAXkVBQAAAAACORkFAAAAA4KctQUAAAAAg1A5BQAAAAOBM+EBAAAAAoFM4QUAAAAAgZjJBQAAAAOAgF0FAAAAAwDlRQUAAAADAy3RBQAAAAKBEXkFAAAAAIGYyQUAAAACgYhJBQAAAAAAWCkFAAAAAwC/xQEAAAAAg1A5BQAAAACDUDkFAAAAAwJ3NQEAAAADgW9JAQAAAAGAnV0FAAAAAoGxyQUAAAACAPMRBQAAAAKC4zUFAAAAA4NXUQUAAAADgysdBQAAAAMDHp0FAAAAAoJ+TQUAAAACgn5NBQAAAAEC+9EBAAAAAIB6kQEAAAABgywhAQAAAAGA4vD9AAAAAIPsJQEAAAABgywhAQAAAAIBHlj9AAAAAgEeWP0AAAADg5+Y/QAAAAEAicUBAAAAAYGO/QEAAAADg8cJAQAAAAGBjv0BAAAAAoN/IQEAAAABgRQtBQAAAAMBXBUFAAAAAILonQUAAAADAOVFBQAAAAKBsckFAAAAAAPhVQUAAAACA9DVBQAAAAACORkFAAAAAwLI6QUAAAADAaqxAQAAAAMB+AEBAAAAAwB28PkAAAABATKQ9QAAAAICS2D5AAAAAYLTtPEAAAABAuoA9QAAAAGBFZD1AAAAA4Cm3PEAAAADgKbc8QAAAACCCSD1AAAAAoIRZPUAAAADgdwQ9QAAAAOBy4jxAAAAAoFH4PEAAAACAKNs8QAAAAOAJAj1AAAAAgId3PEAAAADAyT49QAAAAABXJzxAAAAAoGiePEAAAADgbcA8QAAAAOB8Jj1AAAAAgBZXPUAAAABA6Ao+QAAAAOCLfz5AAAAAQBZKPkAAAADgXUA+QAAAAADRZD5AAAAAwBhbPkAAAADAr3o+QAAAAAA1Iz5AAAAAwCW9PUAAAABAKM49QAAAAGDbtT1AAAAAQL/tPUAAAACActU9QAAAAABHpz1AAAAAYKhUPUAAAADgZYA9QAAAAECxgj1AAAAAAO2yPEAAAADgbbU8QAAAAGAHAz1AAAAAQN6FPEAAAACAJmI9QAAAAMB4XD5AAAAAYLILP0AAAABg8s4/QAAAACDYfj9AAAAAAMoaQEAAAADgCBdAQAAAACDFC0BAAAAA4EZKP0AAAAAgk6w+QAAAAOCFhD5AAAAAYBrDPkAAAADghYQ+QAAAAOATrz5AAAAA4JzKPkAAAADgylY/QAAAAABUcj9AAAAAoFBoP0AAAADgS1k/QAAAAKBxzD9AAAAAIGGaP0AAAADAWoY/QAAAAMD65z9AAAAAYFd8P0AAAADgwj0/QAAAAKC1FT9AAAAAQJvFPkAAAADgc00+QAAAAMB4XD5AAAAAgJGnPkAAAAAAxkc/QAAAAABCOz9AAAAAQEVFP0AAAACASE8/QAAAAABruD9AAAAAIIMFQEAAAACAe+o/QAAAACDYfj9AAAAAAFRyP0AAAACA4Jc/QAAAAIDjoT9AAAAAYPLOP0AAAAAgTto9QAAAAKDdCT5AAAAAIOQdPkAAAABAUeQ9QAAAAECxgj1AAAAAYDCAPUAAAAAgwK89QAAAAMClXz1AAAAAgLSMPUAAAABgOp49QAAAAOBReD5AAAAAYGamPkAAAACAFG4+QAAAAMD1qD5AAAAAgBTuPkAAAACgmRk/QAAAACCFKz9AAAAA4HpUP0AAAAAgXA8/QAAAACBcDz9AAAAAQAqXPkAAAACAwrU+QAAAAEAz8z5AAAAAYI+CP0AAAAAA12M/QAAAAIAULj9AAAAAQDNzP0AAAAAgroc/QAAAAOBRuD9AAAAAwPVoP0AAAAAgXA8/QAAAAGC4Xj9AAAAAYGbmP0AAAAAgXE9AQAAAAIAULkBAAAAAAAAgQEAAAAAgXM8/QAAAAIDCdT9AAAAAoEdhP0AAAADgehQ/QAAAAAAAAD9A",
          "dtype": "f8"
         },
         "yaxis": "y"
        },
        {
         "name": "Volatility Entropy",
         "type": "scatter",
         "x": [
          "2023-10-03T00:00:00.000000000",
          "2023-10-04T00:00:00.000000000",
          "2023-10-05T00:00:00.000000000",
          "2023-10-06T00:00:00.000000000",
          "2023-10-09T00:00:00.000000000",
          "2023-10-10T00:00:00.000000000",
          "2023-10-11T00:00:00.000000000",
          "2023-10-13T00:00:00.000000000",
          "2023-10-16T00:00:00.000000000",
          "2023-10-17T00:00:00.000000000",
          "2023-10-18T00:00:00.000000000",
          "2023-10-19T00:00:00.000000000",
          "2023-10-20T00:00:00.000000000",
          "2023-10-23T00:00:00.000000000",
          "2023-10-24T00:00:00.000000000",
          "2023-10-25T00:00:00.000000000",
          "2023-10-26T00:00:00.000000000",
          "2023-10-27T00:00:00.000000000",
          "2023-10-30T00:00:00.000000000",
          "2023-10-31T00:00:00.000000000",
          "2023-11-01T00:00:00.000000000",
          "2023-11-03T00:00:00.000000000",
          "2023-11-06T00:00:00.000000000",
          "2023-11-07T00:00:00.000000000",
          "2023-11-08T00:00:00.000000000",
          "2023-11-09T00:00:00.000000000",
          "2023-11-10T00:00:00.000000000",
          "2023-11-13T00:00:00.000000000",
          "2023-11-14T00:00:00.000000000",
          "2023-11-16T00:00:00.000000000",
          "2023-11-17T00:00:00.000000000",
          "2023-11-20T00:00:00.000000000",
          "2023-11-21T00:00:00.000000000",
          "2023-11-22T00:00:00.000000000",
          "2023-11-23T00:00:00.000000000",
          "2023-11-24T00:00:00.000000000",
          "2023-11-27T00:00:00.000000000",
          "2023-11-28T00:00:00.000000000",
          "2023-11-29T00:00:00.000000000",
          "2023-11-30T00:00:00.000000000",
          "2023-12-01T00:00:00.000000000",
          "2023-12-04T00:00:00.000000000",
          "2023-12-05T00:00:00.000000000",
          "2023-12-06T00:00:00.000000000",
          "2023-12-07T00:00:00.000000000",
          "2023-12-08T00:00:00.000000000",
          "2023-12-11T00:00:00.000000000",
          "2023-12-12T00:00:00.000000000",
          "2023-12-13T00:00:00.000000000",
          "2023-12-14T00:00:00.000000000",
          "2023-12-15T00:00:00.000000000",
          "2023-12-18T00:00:00.000000000",
          "2023-12-19T00:00:00.000000000",
          "2023-12-20T00:00:00.000000000",
          "2023-12-21T00:00:00.000000000",
          "2023-12-22T00:00:00.000000000",
          "2023-12-26T00:00:00.000000000",
          "2023-12-27T00:00:00.000000000",
          "2023-12-28T00:00:00.000000000",
          "2024-01-02T00:00:00.000000000",
          "2024-01-03T00:00:00.000000000",
          "2024-01-04T00:00:00.000000000",
          "2024-01-05T00:00:00.000000000",
          "2024-01-08T00:00:00.000000000",
          "2024-01-09T00:00:00.000000000",
          "2024-01-10T00:00:00.000000000",
          "2024-01-11T00:00:00.000000000",
          "2024-01-12T00:00:00.000000000",
          "2024-01-15T00:00:00.000000000",
          "2024-01-16T00:00:00.000000000",
          "2024-01-17T00:00:00.000000000",
          "2024-01-18T00:00:00.000000000",
          "2024-01-19T00:00:00.000000000",
          "2024-01-22T00:00:00.000000000",
          "2024-01-23T00:00:00.000000000",
          "2024-01-24T00:00:00.000000000",
          "2024-01-25T00:00:00.000000000",
          "2024-01-26T00:00:00.000000000",
          "2024-01-29T00:00:00.000000000",
          "2024-01-30T00:00:00.000000000",
          "2024-01-31T00:00:00.000000000",
          "2024-02-01T00:00:00.000000000",
          "2024-02-02T00:00:00.000000000",
          "2024-02-05T00:00:00.000000000",
          "2024-02-06T00:00:00.000000000",
          "2024-02-07T00:00:00.000000000",
          "2024-02-08T00:00:00.000000000",
          "2024-02-09T00:00:00.000000000",
          "2024-02-14T00:00:00.000000000",
          "2024-02-15T00:00:00.000000000",
          "2024-02-16T00:00:00.000000000",
          "2024-02-19T00:00:00.000000000",
          "2024-02-20T00:00:00.000000000",
          "2024-02-21T00:00:00.000000000",
          "2024-02-22T00:00:00.000000000",
          "2024-02-23T00:00:00.000000000",
          "2024-02-26T00:00:00.000000000",
          "2024-02-27T00:00:00.000000000",
          "2024-02-28T00:00:00.000000000",
          "2024-02-29T00:00:00.000000000",
          "2024-03-01T00:00:00.000000000",
          "2024-03-04T00:00:00.000000000",
          "2024-03-05T00:00:00.000000000",
          "2024-03-06T00:00:00.000000000",
          "2024-03-07T00:00:00.000000000",
          "2024-03-08T00:00:00.000000000",
          "2024-03-11T00:00:00.000000000",
          "2024-03-12T00:00:00.000000000",
          "2024-03-13T00:00:00.000000000",
          "2024-03-14T00:00:00.000000000",
          "2024-03-15T00:00:00.000000000",
          "2024-03-18T00:00:00.000000000",
          "2024-03-19T00:00:00.000000000",
          "2024-03-20T00:00:00.000000000",
          "2024-03-21T00:00:00.000000000",
          "2024-03-22T00:00:00.000000000",
          "2024-03-25T00:00:00.000000000",
          "2024-03-26T00:00:00.000000000",
          "2024-03-27T00:00:00.000000000",
          "2024-03-28T00:00:00.000000000",
          "2024-04-01T00:00:00.000000000",
          "2024-04-02T00:00:00.000000000",
          "2024-04-03T00:00:00.000000000",
          "2024-04-04T00:00:00.000000000",
          "2024-04-05T00:00:00.000000000",
          "2024-04-08T00:00:00.000000000",
          "2024-04-09T00:00:00.000000000",
          "2024-04-10T00:00:00.000000000",
          "2024-04-11T00:00:00.000000000",
          "2024-04-12T00:00:00.000000000",
          "2024-04-15T00:00:00.000000000",
          "2024-04-16T00:00:00.000000000",
          "2024-04-17T00:00:00.000000000",
          "2024-04-18T00:00:00.000000000",
          "2024-04-19T00:00:00.000000000",
          "2024-04-22T00:00:00.000000000",
          "2024-04-23T00:00:00.000000000",
          "2024-04-24T00:00:00.000000000",
          "2024-04-25T00:00:00.000000000",
          "2024-04-26T00:00:00.000000000",
          "2024-04-29T00:00:00.000000000",
          "2024-04-30T00:00:00.000000000",
          "2024-05-02T00:00:00.000000000",
          "2024-05-03T00:00:00.000000000",
          "2024-05-06T00:00:00.000000000",
          "2024-05-07T00:00:00.000000000",
          "2024-05-08T00:00:00.000000000",
          "2024-05-09T00:00:00.000000000",
          "2024-05-10T00:00:00.000000000",
          "2024-05-13T00:00:00.000000000",
          "2024-05-14T00:00:00.000000000",
          "2024-05-15T00:00:00.000000000",
          "2024-05-16T00:00:00.000000000",
          "2024-05-17T00:00:00.000000000",
          "2024-05-20T00:00:00.000000000",
          "2024-05-21T00:00:00.000000000",
          "2024-05-22T00:00:00.000000000",
          "2024-05-23T00:00:00.000000000",
          "2024-05-24T00:00:00.000000000",
          "2024-05-27T00:00:00.000000000",
          "2024-05-28T00:00:00.000000000",
          "2024-05-29T00:00:00.000000000",
          "2024-05-31T00:00:00.000000000",
          "2024-06-03T00:00:00.000000000",
          "2024-06-04T00:00:00.000000000",
          "2024-06-05T00:00:00.000000000",
          "2024-06-06T00:00:00.000000000",
          "2024-06-07T00:00:00.000000000",
          "2024-06-10T00:00:00.000000000",
          "2024-06-11T00:00:00.000000000",
          "2024-06-12T00:00:00.000000000",
          "2024-06-13T00:00:00.000000000",
          "2024-06-14T00:00:00.000000000",
          "2024-06-17T00:00:00.000000000",
          "2024-06-18T00:00:00.000000000",
          "2024-06-19T00:00:00.000000000",
          "2024-06-20T00:00:00.000000000",
          "2024-06-21T00:00:00.000000000",
          "2024-06-24T00:00:00.000000000",
          "2024-06-25T00:00:00.000000000",
          "2024-06-26T00:00:00.000000000",
          "2024-06-27T00:00:00.000000000",
          "2024-06-28T00:00:00.000000000",
          "2024-07-01T00:00:00.000000000",
          "2024-07-02T00:00:00.000000000",
          "2024-07-03T00:00:00.000000000",
          "2024-07-04T00:00:00.000000000",
          "2024-07-05T00:00:00.000000000",
          "2024-07-08T00:00:00.000000000",
          "2024-07-09T00:00:00.000000000",
          "2024-07-10T00:00:00.000000000",
          "2024-07-11T00:00:00.000000000",
          "2024-07-12T00:00:00.000000000",
          "2024-07-15T00:00:00.000000000",
          "2024-07-16T00:00:00.000000000",
          "2024-07-17T00:00:00.000000000",
          "2024-07-18T00:00:00.000000000",
          "2024-07-19T00:00:00.000000000",
          "2024-07-22T00:00:00.000000000",
          "2024-07-23T00:00:00.000000000",
          "2024-07-24T00:00:00.000000000",
          "2024-07-25T00:00:00.000000000",
          "2024-07-26T00:00:00.000000000",
          "2024-07-29T00:00:00.000000000",
          "2024-07-30T00:00:00.000000000",
          "2024-07-31T00:00:00.000000000",
          "2024-08-01T00:00:00.000000000",
          "2024-08-02T00:00:00.000000000",
          "2024-08-05T00:00:00.000000000",
          "2024-08-06T00:00:00.000000000",
          "2024-08-07T00:00:00.000000000",
          "2024-08-08T00:00:00.000000000",
          "2024-08-09T00:00:00.000000000",
          "2024-08-12T00:00:00.000000000",
          "2024-08-13T00:00:00.000000000",
          "2024-08-14T00:00:00.000000000",
          "2024-08-15T00:00:00.000000000",
          "2024-08-16T00:00:00.000000000",
          "2024-08-19T00:00:00.000000000",
          "2024-08-20T00:00:00.000000000",
          "2024-08-21T00:00:00.000000000",
          "2024-08-22T00:00:00.000000000",
          "2024-08-23T00:00:00.000000000",
          "2024-08-26T00:00:00.000000000",
          "2024-08-27T00:00:00.000000000",
          "2024-08-28T00:00:00.000000000",
          "2024-08-29T00:00:00.000000000",
          "2024-08-30T00:00:00.000000000",
          "2024-09-02T00:00:00.000000000",
          "2024-09-03T00:00:00.000000000",
          "2024-09-04T00:00:00.000000000",
          "2024-09-05T00:00:00.000000000",
          "2024-09-06T00:00:00.000000000",
          "2024-09-09T00:00:00.000000000",
          "2024-09-10T00:00:00.000000000",
          "2024-09-11T00:00:00.000000000",
          "2024-09-12T00:00:00.000000000",
          "2024-09-13T00:00:00.000000000",
          "2024-09-16T00:00:00.000000000",
          "2024-09-17T00:00:00.000000000",
          "2024-09-18T00:00:00.000000000",
          "2024-09-19T00:00:00.000000000",
          "2024-09-20T00:00:00.000000000",
          "2024-09-23T00:00:00.000000000",
          "2024-09-24T00:00:00.000000000",
          "2024-09-25T00:00:00.000000000",
          "2024-09-26T00:00:00.000000000",
          "2024-09-27T00:00:00.000000000",
          "2024-09-30T00:00:00.000000000",
          "2024-10-01T00:00:00.000000000",
          "2024-10-02T00:00:00.000000000",
          "2024-10-03T00:00:00.000000000",
          "2024-10-04T00:00:00.000000000",
          "2024-10-07T00:00:00.000000000",
          "2024-10-08T00:00:00.000000000",
          "2024-10-09T00:00:00.000000000",
          "2024-10-10T00:00:00.000000000",
          "2024-10-11T00:00:00.000000000",
          "2024-10-14T00:00:00.000000000",
          "2024-10-15T00:00:00.000000000",
          "2024-10-16T00:00:00.000000000",
          "2024-10-17T00:00:00.000000000",
          "2024-10-18T00:00:00.000000000",
          "2024-10-21T00:00:00.000000000",
          "2024-10-22T00:00:00.000000000",
          "2024-10-23T00:00:00.000000000",
          "2024-10-24T00:00:00.000000000",
          "2024-10-25T00:00:00.000000000",
          "2024-10-28T00:00:00.000000000",
          "2024-10-29T00:00:00.000000000",
          "2024-10-30T00:00:00.000000000",
          "2024-10-31T00:00:00.000000000",
          "2024-11-01T00:00:00.000000000",
          "2024-11-04T00:00:00.000000000",
          "2024-11-05T00:00:00.000000000",
          "2024-11-06T00:00:00.000000000",
          "2024-11-07T00:00:00.000000000",
          "2024-11-08T00:00:00.000000000",
          "2024-11-11T00:00:00.000000000",
          "2024-11-12T00:00:00.000000000",
          "2024-11-13T00:00:00.000000000",
          "2024-11-14T00:00:00.000000000",
          "2024-11-18T00:00:00.000000000",
          "2024-11-19T00:00:00.000000000",
          "2024-11-21T00:00:00.000000000",
          "2024-11-22T00:00:00.000000000",
          "2024-11-25T00:00:00.000000000",
          "2024-11-26T00:00:00.000000000",
          "2024-11-27T00:00:00.000000000",
          "2024-11-28T00:00:00.000000000",
          "2024-11-29T00:00:00.000000000",
          "2024-12-02T00:00:00.000000000",
          "2024-12-03T00:00:00.000000000",
          "2024-12-04T00:00:00.000000000",
          "2024-12-05T00:00:00.000000000",
          "2024-12-06T00:00:00.000000000",
          "2024-12-09T00:00:00.000000000",
          "2024-12-10T00:00:00.000000000",
          "2024-12-11T00:00:00.000000000",
          "2024-12-12T00:00:00.000000000",
          "2024-12-13T00:00:00.000000000",
          "2024-12-16T00:00:00.000000000",
          "2024-12-17T00:00:00.000000000",
          "2024-12-18T00:00:00.000000000",
          "2024-12-19T00:00:00.000000000",
          "2024-12-20T00:00:00.000000000",
          "2024-12-23T00:00:00.000000000",
          "2024-12-26T00:00:00.000000000",
          "2024-12-27T00:00:00.000000000",
          "2024-12-30T00:00:00.000000000",
          "2025-01-02T00:00:00.000000000",
          "2025-01-03T00:00:00.000000000",
          "2025-01-06T00:00:00.000000000",
          "2025-01-07T00:00:00.000000000",
          "2025-01-08T00:00:00.000000000",
          "2025-01-09T00:00:00.000000000",
          "2025-01-10T00:00:00.000000000",
          "2025-01-13T00:00:00.000000000",
          "2025-01-14T00:00:00.000000000",
          "2025-01-15T00:00:00.000000000",
          "2025-01-16T00:00:00.000000000",
          "2025-01-17T00:00:00.000000000",
          "2025-01-20T00:00:00.000000000",
          "2025-01-21T00:00:00.000000000",
          "2025-01-22T00:00:00.000000000",
          "2025-01-23T00:00:00.000000000",
          "2025-01-24T00:00:00.000000000",
          "2025-01-27T00:00:00.000000000",
          "2025-01-28T00:00:00.000000000",
          "2025-01-29T00:00:00.000000000",
          "2025-01-30T00:00:00.000000000",
          "2025-01-31T00:00:00.000000000",
          "2025-02-03T00:00:00.000000000",
          "2025-02-04T00:00:00.000000000",
          "2025-02-05T00:00:00.000000000",
          "2025-02-06T00:00:00.000000000",
          "2025-02-07T00:00:00.000000000",
          "2025-02-10T00:00:00.000000000",
          "2025-02-11T00:00:00.000000000",
          "2025-02-12T00:00:00.000000000",
          "2025-02-13T00:00:00.000000000",
          "2025-02-14T00:00:00.000000000",
          "2025-02-17T00:00:00.000000000",
          "2025-02-18T00:00:00.000000000",
          "2025-02-19T00:00:00.000000000",
          "2025-02-20T00:00:00.000000000",
          "2025-02-21T00:00:00.000000000",
          "2025-02-24T00:00:00.000000000",
          "2025-02-25T00:00:00.000000000",
          "2025-02-26T00:00:00.000000000",
          "2025-02-27T00:00:00.000000000",
          "2025-02-28T00:00:00.000000000",
          "2025-03-05T00:00:00.000000000",
          "2025-03-06T00:00:00.000000000",
          "2025-03-07T00:00:00.000000000",
          "2025-03-10T00:00:00.000000000",
          "2025-03-11T00:00:00.000000000",
          "2025-03-12T00:00:00.000000000",
          "2025-03-13T00:00:00.000000000",
          "2025-03-14T00:00:00.000000000",
          "2025-03-17T00:00:00.000000000",
          "2025-03-18T00:00:00.000000000",
          "2025-03-19T00:00:00.000000000",
          "2025-03-20T00:00:00.000000000",
          "2025-03-21T00:00:00.000000000",
          "2025-03-24T00:00:00.000000000",
          "2025-03-25T00:00:00.000000000",
          "2025-03-26T00:00:00.000000000",
          "2025-03-27T00:00:00.000000000",
          "2025-03-28T00:00:00.000000000",
          "2025-03-31T00:00:00.000000000",
          "2025-04-01T00:00:00.000000000",
          "2025-04-02T00:00:00.000000000",
          "2025-04-03T00:00:00.000000000",
          "2025-04-04T00:00:00.000000000",
          "2025-04-07T00:00:00.000000000",
          "2025-04-08T00:00:00.000000000",
          "2025-04-09T00:00:00.000000000",
          "2025-04-10T00:00:00.000000000",
          "2025-04-11T00:00:00.000000000",
          "2025-04-14T00:00:00.000000000",
          "2025-04-15T00:00:00.000000000",
          "2025-04-16T00:00:00.000000000",
          "2025-04-17T00:00:00.000000000",
          "2025-04-22T00:00:00.000000000",
          "2025-04-23T00:00:00.000000000",
          "2025-04-24T00:00:00.000000000",
          "2025-04-25T00:00:00.000000000",
          "2025-04-28T00:00:00.000000000",
          "2025-04-29T00:00:00.000000000",
          "2025-04-30T00:00:00.000000000",
          "2025-05-02T00:00:00.000000000",
          "2025-05-05T00:00:00.000000000",
          "2025-05-06T00:00:00.000000000",
          "2025-05-07T00:00:00.000000000",
          "2025-05-08T00:00:00.000000000",
          "2025-05-09T00:00:00.000000000",
          "2025-05-12T00:00:00.000000000",
          "2025-05-13T00:00:00.000000000",
          "2025-05-14T00:00:00.000000000",
          "2025-05-15T00:00:00.000000000",
          "2025-05-16T00:00:00.000000000",
          "2025-05-19T00:00:00.000000000",
          "2025-05-20T00:00:00.000000000",
          "2025-05-21T00:00:00.000000000",
          "2025-05-22T00:00:00.000000000",
          "2025-05-23T00:00:00.000000000",
          "2025-05-26T00:00:00.000000000",
          "2025-05-27T00:00:00.000000000",
          "2025-05-28T00:00:00.000000000",
          "2025-05-29T00:00:00.000000000",
          "2025-05-30T00:00:00.000000000",
          "2025-06-02T00:00:00.000000000",
          "2025-06-03T00:00:00.000000000",
          "2025-06-04T00:00:00.000000000",
          "2025-06-05T00:00:00.000000000",
          "2025-06-06T00:00:00.000000000",
          "2025-06-09T00:00:00.000000000",
          "2025-06-10T00:00:00.000000000",
          "2025-06-11T00:00:00.000000000",
          "2025-06-12T00:00:00.000000000",
          "2025-06-13T00:00:00.000000000",
          "2025-06-16T00:00:00.000000000",
          "2025-06-17T00:00:00.000000000",
          "2025-06-18T00:00:00.000000000",
          "2025-06-20T00:00:00.000000000",
          "2025-06-23T00:00:00.000000000",
          "2025-06-24T00:00:00.000000000",
          "2025-06-25T00:00:00.000000000",
          "2025-06-26T00:00:00.000000000",
          "2025-06-27T00:00:00.000000000",
          "2025-06-30T00:00:00.000000000",
          "2025-07-01T00:00:00.000000000",
          "2025-07-02T00:00:00.000000000",
          "2025-07-03T00:00:00.000000000",
          "2025-07-04T00:00:00.000000000",
          "2025-07-07T00:00:00.000000000",
          "2025-07-08T00:00:00.000000000",
          "2025-07-09T00:00:00.000000000",
          "2025-07-10T00:00:00.000000000",
          "2025-07-11T00:00:00.000000000",
          "2025-07-14T00:00:00.000000000",
          "2025-07-15T00:00:00.000000000",
          "2025-07-16T00:00:00.000000000",
          "2025-07-17T00:00:00.000000000",
          "2025-07-18T00:00:00.000000000",
          "2025-07-21T00:00:00.000000000",
          "2025-07-22T00:00:00.000000000",
          "2025-07-23T00:00:00.000000000",
          "2025-07-24T00:00:00.000000000",
          "2025-07-25T00:00:00.000000000",
          "2025-07-28T00:00:00.000000000",
          "2025-07-29T00:00:00.000000000",
          "2025-07-30T00:00:00.000000000",
          "2025-07-31T00:00:00.000000000",
          "2025-08-01T00:00:00.000000000",
          "2025-08-04T00:00:00.000000000",
          "2025-08-05T00:00:00.000000000",
          "2025-08-06T00:00:00.000000000",
          "2025-08-07T00:00:00.000000000",
          "2025-08-08T00:00:00.000000000",
          "2025-08-11T00:00:00.000000000",
          "2025-08-12T00:00:00.000000000",
          "2025-08-13T00:00:00.000000000",
          "2025-08-14T00:00:00.000000000",
          "2025-08-15T00:00:00.000000000",
          "2025-08-18T00:00:00.000000000",
          "2025-08-19T00:00:00.000000000",
          "2025-08-20T00:00:00.000000000",
          "2025-08-21T00:00:00.000000000",
          "2025-08-22T00:00:00.000000000",
          "2025-08-25T00:00:00.000000000",
          "2025-08-26T00:00:00.000000000",
          "2025-08-27T00:00:00.000000000",
          "2025-08-28T00:00:00.000000000",
          "2025-08-29T00:00:00.000000000",
          "2025-09-01T00:00:00.000000000",
          "2025-09-02T00:00:00.000000000",
          "2025-09-03T00:00:00.000000000",
          "2025-09-04T00:00:00.000000000",
          "2025-09-05T00:00:00.000000000",
          "2025-09-08T00:00:00.000000000",
          "2025-09-09T00:00:00.000000000",
          "2025-09-10T00:00:00.000000000",
          "2025-09-11T00:00:00.000000000",
          "2025-09-12T00:00:00.000000000",
          "2025-09-15T00:00:00.000000000",
          "2025-09-16T00:00:00.000000000",
          "2025-09-17T00:00:00.000000000",
          "2025-09-18T00:00:00.000000000",
          "2025-09-19T00:00:00.000000000",
          "2025-09-22T00:00:00.000000000",
          "2025-09-23T00:00:00.000000000",
          "2025-09-24T00:00:00.000000000",
          "2025-09-25T00:00:00.000000000",
          "2025-09-26T00:00:00.000000000",
          "2025-09-29T00:00:00.000000000",
          "2025-09-30T00:00:00.000000000",
          "2025-10-01T00:00:00.000000000",
          "2025-10-02T00:00:00.000000000",
          "2025-10-03T00:00:00.000000000"
         ],
         "y": {
          "bdata": "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",
          "dtype": "f8"
         },
         "yaxis": "y2"
        },
        {
         "name": "Volatility RSI",
         "type": "scatter",
         "x": [
          "2023-10-03T00:00:00.000000000",
          "2023-10-04T00:00:00.000000000",
          "2023-10-05T00:00:00.000000000",
          "2023-10-06T00:00:00.000000000",
          "2023-10-09T00:00:00.000000000",
          "2023-10-10T00:00:00.000000000",
          "2023-10-11T00:00:00.000000000",
          "2023-10-13T00:00:00.000000000",
          "2023-10-16T00:00:00.000000000",
          "2023-10-17T00:00:00.000000000",
          "2023-10-18T00:00:00.000000000",
          "2023-10-19T00:00:00.000000000",
          "2023-10-20T00:00:00.000000000",
          "2023-10-23T00:00:00.000000000",
          "2023-10-24T00:00:00.000000000",
          "2023-10-25T00:00:00.000000000",
          "2023-10-26T00:00:00.000000000",
          "2023-10-27T00:00:00.000000000",
          "2023-10-30T00:00:00.000000000",
          "2023-10-31T00:00:00.000000000",
          "2023-11-01T00:00:00.000000000",
          "2023-11-03T00:00:00.000000000",
          "2023-11-06T00:00:00.000000000",
          "2023-11-07T00:00:00.000000000",
          "2023-11-08T00:00:00.000000000",
          "2023-11-09T00:00:00.000000000",
          "2023-11-10T00:00:00.000000000",
          "2023-11-13T00:00:00.000000000",
          "2023-11-14T00:00:00.000000000",
          "2023-11-16T00:00:00.000000000",
          "2023-11-17T00:00:00.000000000",
          "2023-11-20T00:00:00.000000000",
          "2023-11-21T00:00:00.000000000",
          "2023-11-22T00:00:00.000000000",
          "2023-11-23T00:00:00.000000000",
          "2023-11-24T00:00:00.000000000",
          "2023-11-27T00:00:00.000000000",
          "2023-11-28T00:00:00.000000000",
          "2023-11-29T00:00:00.000000000",
          "2023-11-30T00:00:00.000000000",
          "2023-12-01T00:00:00.000000000",
          "2023-12-04T00:00:00.000000000",
          "2023-12-05T00:00:00.000000000",
          "2023-12-06T00:00:00.000000000",
          "2023-12-07T00:00:00.000000000",
          "2023-12-08T00:00:00.000000000",
          "2023-12-11T00:00:00.000000000",
          "2023-12-12T00:00:00.000000000",
          "2023-12-13T00:00:00.000000000",
          "2023-12-14T00:00:00.000000000",
          "2023-12-15T00:00:00.000000000",
          "2023-12-18T00:00:00.000000000",
          "2023-12-19T00:00:00.000000000",
          "2023-12-20T00:00:00.000000000",
          "2023-12-21T00:00:00.000000000",
          "2023-12-22T00:00:00.000000000",
          "2023-12-26T00:00:00.000000000",
          "2023-12-27T00:00:00.000000000",
          "2023-12-28T00:00:00.000000000",
          "2024-01-02T00:00:00.000000000",
          "2024-01-03T00:00:00.000000000",
          "2024-01-04T00:00:00.000000000",
          "2024-01-05T00:00:00.000000000",
          "2024-01-08T00:00:00.000000000",
          "2024-01-09T00:00:00.000000000",
          "2024-01-10T00:00:00.000000000",
          "2024-01-11T00:00:00.000000000",
          "2024-01-12T00:00:00.000000000",
          "2024-01-15T00:00:00.000000000",
          "2024-01-16T00:00:00.000000000",
          "2024-01-17T00:00:00.000000000",
          "2024-01-18T00:00:00.000000000",
          "2024-01-19T00:00:00.000000000",
          "2024-01-22T00:00:00.000000000",
          "2024-01-23T00:00:00.000000000",
          "2024-01-24T00:00:00.000000000",
          "2024-01-25T00:00:00.000000000",
          "2024-01-26T00:00:00.000000000",
          "2024-01-29T00:00:00.000000000",
          "2024-01-30T00:00:00.000000000",
          "2024-01-31T00:00:00.000000000",
          "2024-02-01T00:00:00.000000000",
          "2024-02-02T00:00:00.000000000",
          "2024-02-05T00:00:00.000000000",
          "2024-02-06T00:00:00.000000000",
          "2024-02-07T00:00:00.000000000",
          "2024-02-08T00:00:00.000000000",
          "2024-02-09T00:00:00.000000000",
          "2024-02-14T00:00:00.000000000",
          "2024-02-15T00:00:00.000000000",
          "2024-02-16T00:00:00.000000000",
          "2024-02-19T00:00:00.000000000",
          "2024-02-20T00:00:00.000000000",
          "2024-02-21T00:00:00.000000000",
          "2024-02-22T00:00:00.000000000",
          "2024-02-23T00:00:00.000000000",
          "2024-02-26T00:00:00.000000000",
          "2024-02-27T00:00:00.000000000",
          "2024-02-28T00:00:00.000000000",
          "2024-02-29T00:00:00.000000000",
          "2024-03-01T00:00:00.000000000",
          "2024-03-04T00:00:00.000000000",
          "2024-03-05T00:00:00.000000000",
          "2024-03-06T00:00:00.000000000",
          "2024-03-07T00:00:00.000000000",
          "2024-03-08T00:00:00.000000000",
          "2024-03-11T00:00:00.000000000",
          "2024-03-12T00:00:00.000000000",
          "2024-03-13T00:00:00.000000000",
          "2024-03-14T00:00:00.000000000",
          "2024-03-15T00:00:00.000000000",
          "2024-03-18T00:00:00.000000000",
          "2024-03-19T00:00:00.000000000",
          "2024-03-20T00:00:00.000000000",
          "2024-03-21T00:00:00.000000000",
          "2024-03-22T00:00:00.000000000",
          "2024-03-25T00:00:00.000000000",
          "2024-03-26T00:00:00.000000000",
          "2024-03-27T00:00:00.000000000",
          "2024-03-28T00:00:00.000000000",
          "2024-04-01T00:00:00.000000000",
          "2024-04-02T00:00:00.000000000",
          "2024-04-03T00:00:00.000000000",
          "2024-04-04T00:00:00.000000000",
          "2024-04-05T00:00:00.000000000",
          "2024-04-08T00:00:00.000000000",
          "2024-04-09T00:00:00.000000000",
          "2024-04-10T00:00:00.000000000",
          "2024-04-11T00:00:00.000000000",
          "2024-04-12T00:00:00.000000000",
          "2024-04-15T00:00:00.000000000",
          "2024-04-16T00:00:00.000000000",
          "2024-04-17T00:00:00.000000000",
          "2024-04-18T00:00:00.000000000",
          "2024-04-19T00:00:00.000000000",
          "2024-04-22T00:00:00.000000000",
          "2024-04-23T00:00:00.000000000",
          "2024-04-24T00:00:00.000000000",
          "2024-04-25T00:00:00.000000000",
          "2024-04-26T00:00:00.000000000",
          "2024-04-29T00:00:00.000000000",
          "2024-04-30T00:00:00.000000000",
          "2024-05-02T00:00:00.000000000",
          "2024-05-03T00:00:00.000000000",
          "2024-05-06T00:00:00.000000000",
          "2024-05-07T00:00:00.000000000",
          "2024-05-08T00:00:00.000000000",
          "2024-05-09T00:00:00.000000000",
          "2024-05-10T00:00:00.000000000",
          "2024-05-13T00:00:00.000000000",
          "2024-05-14T00:00:00.000000000",
          "2024-05-15T00:00:00.000000000",
          "2024-05-16T00:00:00.000000000",
          "2024-05-17T00:00:00.000000000",
          "2024-05-20T00:00:00.000000000",
          "2024-05-21T00:00:00.000000000",
          "2024-05-22T00:00:00.000000000",
          "2024-05-23T00:00:00.000000000",
          "2024-05-24T00:00:00.000000000",
          "2024-05-27T00:00:00.000000000",
          "2024-05-28T00:00:00.000000000",
          "2024-05-29T00:00:00.000000000",
          "2024-05-31T00:00:00.000000000",
          "2024-06-03T00:00:00.000000000",
          "2024-06-04T00:00:00.000000000",
          "2024-06-05T00:00:00.000000000",
          "2024-06-06T00:00:00.000000000",
          "2024-06-07T00:00:00.000000000",
          "2024-06-10T00:00:00.000000000",
          "2024-06-11T00:00:00.000000000",
          "2024-06-12T00:00:00.000000000",
          "2024-06-13T00:00:00.000000000",
          "2024-06-14T00:00:00.000000000",
          "2024-06-17T00:00:00.000000000",
          "2024-06-18T00:00:00.000000000",
          "2024-06-19T00:00:00.000000000",
          "2024-06-20T00:00:00.000000000",
          "2024-06-21T00:00:00.000000000",
          "2024-06-24T00:00:00.000000000",
          "2024-06-25T00:00:00.000000000",
          "2024-06-26T00:00:00.000000000",
          "2024-06-27T00:00:00.000000000",
          "2024-06-28T00:00:00.000000000",
          "2024-07-01T00:00:00.000000000",
          "2024-07-02T00:00:00.000000000",
          "2024-07-03T00:00:00.000000000",
          "2024-07-04T00:00:00.000000000",
          "2024-07-05T00:00:00.000000000",
          "2024-07-08T00:00:00.000000000",
          "2024-07-09T00:00:00.000000000",
          "2024-07-10T00:00:00.000000000",
          "2024-07-11T00:00:00.000000000",
          "2024-07-12T00:00:00.000000000",
          "2024-07-15T00:00:00.000000000",
          "2024-07-16T00:00:00.000000000",
          "2024-07-17T00:00:00.000000000",
          "2024-07-18T00:00:00.000000000",
          "2024-07-19T00:00:00.000000000",
          "2024-07-22T00:00:00.000000000",
          "2024-07-23T00:00:00.000000000",
          "2024-07-24T00:00:00.000000000",
          "2024-07-25T00:00:00.000000000",
          "2024-07-26T00:00:00.000000000",
          "2024-07-29T00:00:00.000000000",
          "2024-07-30T00:00:00.000000000",
          "2024-07-31T00:00:00.000000000",
          "2024-08-01T00:00:00.000000000",
          "2024-08-02T00:00:00.000000000",
          "2024-08-05T00:00:00.000000000",
          "2024-08-06T00:00:00.000000000",
          "2024-08-07T00:00:00.000000000",
          "2024-08-08T00:00:00.000000000",
          "2024-08-09T00:00:00.000000000",
          "2024-08-12T00:00:00.000000000",
          "2024-08-13T00:00:00.000000000",
          "2024-08-14T00:00:00.000000000",
          "2024-08-15T00:00:00.000000000",
          "2024-08-16T00:00:00.000000000",
          "2024-08-19T00:00:00.000000000",
          "2024-08-20T00:00:00.000000000",
          "2024-08-21T00:00:00.000000000",
          "2024-08-22T00:00:00.000000000",
          "2024-08-23T00:00:00.000000000",
          "2024-08-26T00:00:00.000000000",
          "2024-08-27T00:00:00.000000000",
          "2024-08-28T00:00:00.000000000",
          "2024-08-29T00:00:00.000000000",
          "2024-08-30T00:00:00.000000000",
          "2024-09-02T00:00:00.000000000",
          "2024-09-03T00:00:00.000000000",
          "2024-09-04T00:00:00.000000000",
          "2024-09-05T00:00:00.000000000",
          "2024-09-06T00:00:00.000000000",
          "2024-09-09T00:00:00.000000000",
          "2024-09-10T00:00:00.000000000",
          "2024-09-11T00:00:00.000000000",
          "2024-09-12T00:00:00.000000000",
          "2024-09-13T00:00:00.000000000",
          "2024-09-16T00:00:00.000000000",
          "2024-09-17T00:00:00.000000000",
          "2024-09-18T00:00:00.000000000",
          "2024-09-19T00:00:00.000000000",
          "2024-09-20T00:00:00.000000000",
          "2024-09-23T00:00:00.000000000",
          "2024-09-24T00:00:00.000000000",
          "2024-09-25T00:00:00.000000000",
          "2024-09-26T00:00:00.000000000",
          "2024-09-27T00:00:00.000000000",
          "2024-09-30T00:00:00.000000000",
          "2024-10-01T00:00:00.000000000",
          "2024-10-02T00:00:00.000000000",
          "2024-10-03T00:00:00.000000000",
          "2024-10-04T00:00:00.000000000",
          "2024-10-07T00:00:00.000000000",
          "2024-10-08T00:00:00.000000000",
          "2024-10-09T00:00:00.000000000",
          "2024-10-10T00:00:00.000000000",
          "2024-10-11T00:00:00.000000000",
          "2024-10-14T00:00:00.000000000",
          "2024-10-15T00:00:00.000000000",
          "2024-10-16T00:00:00.000000000",
          "2024-10-17T00:00:00.000000000",
          "2024-10-18T00:00:00.000000000",
          "2024-10-21T00:00:00.000000000",
          "2024-10-22T00:00:00.000000000",
          "2024-10-23T00:00:00.000000000",
          "2024-10-24T00:00:00.000000000",
          "2024-10-25T00:00:00.000000000",
          "2024-10-28T00:00:00.000000000",
          "2024-10-29T00:00:00.000000000",
          "2024-10-30T00:00:00.000000000",
          "2024-10-31T00:00:00.000000000",
          "2024-11-01T00:00:00.000000000",
          "2024-11-04T00:00:00.000000000",
          "2024-11-05T00:00:00.000000000",
          "2024-11-06T00:00:00.000000000",
          "2024-11-07T00:00:00.000000000",
          "2024-11-08T00:00:00.000000000",
          "2024-11-11T00:00:00.000000000",
          "2024-11-12T00:00:00.000000000",
          "2024-11-13T00:00:00.000000000",
          "2024-11-14T00:00:00.000000000",
          "2024-11-18T00:00:00.000000000",
          "2024-11-19T00:00:00.000000000",
          "2024-11-21T00:00:00.000000000",
          "2024-11-22T00:00:00.000000000",
          "2024-11-25T00:00:00.000000000",
          "2024-11-26T00:00:00.000000000",
          "2024-11-27T00:00:00.000000000",
          "2024-11-28T00:00:00.000000000",
          "2024-11-29T00:00:00.000000000",
          "2024-12-02T00:00:00.000000000",
          "2024-12-03T00:00:00.000000000",
          "2024-12-04T00:00:00.000000000",
          "2024-12-05T00:00:00.000000000",
          "2024-12-06T00:00:00.000000000",
          "2024-12-09T00:00:00.000000000",
          "2024-12-10T00:00:00.000000000",
          "2024-12-11T00:00:00.000000000",
          "2024-12-12T00:00:00.000000000",
          "2024-12-13T00:00:00.000000000",
          "2024-12-16T00:00:00.000000000",
          "2024-12-17T00:00:00.000000000",
          "2024-12-18T00:00:00.000000000",
          "2024-12-19T00:00:00.000000000",
          "2024-12-20T00:00:00.000000000",
          "2024-12-23T00:00:00.000000000",
          "2024-12-26T00:00:00.000000000",
          "2024-12-27T00:00:00.000000000",
          "2024-12-30T00:00:00.000000000",
          "2025-01-02T00:00:00.000000000",
          "2025-01-03T00:00:00.000000000",
          "2025-01-06T00:00:00.000000000",
          "2025-01-07T00:00:00.000000000",
          "2025-01-08T00:00:00.000000000",
          "2025-01-09T00:00:00.000000000",
          "2025-01-10T00:00:00.000000000",
          "2025-01-13T00:00:00.000000000",
          "2025-01-14T00:00:00.000000000",
          "2025-01-15T00:00:00.000000000",
          "2025-01-16T00:00:00.000000000",
          "2025-01-17T00:00:00.000000000",
          "2025-01-20T00:00:00.000000000",
          "2025-01-21T00:00:00.000000000",
          "2025-01-22T00:00:00.000000000",
          "2025-01-23T00:00:00.000000000",
          "2025-01-24T00:00:00.000000000",
          "2025-01-27T00:00:00.000000000",
          "2025-01-28T00:00:00.000000000",
          "2025-01-29T00:00:00.000000000",
          "2025-01-30T00:00:00.000000000",
          "2025-01-31T00:00:00.000000000",
          "2025-02-03T00:00:00.000000000",
          "2025-02-04T00:00:00.000000000",
          "2025-02-05T00:00:00.000000000",
          "2025-02-06T00:00:00.000000000",
          "2025-02-07T00:00:00.000000000",
          "2025-02-10T00:00:00.000000000",
          "2025-02-11T00:00:00.000000000",
          "2025-02-12T00:00:00.000000000",
          "2025-02-13T00:00:00.000000000",
          "2025-02-14T00:00:00.000000000",
          "2025-02-17T00:00:00.000000000",
          "2025-02-18T00:00:00.000000000",
          "2025-02-19T00:00:00.000000000",
          "2025-02-20T00:00:00.000000000",
          "2025-02-21T00:00:00.000000000",
          "2025-02-24T00:00:00.000000000",
          "2025-02-25T00:00:00.000000000",
          "2025-02-26T00:00:00.000000000",
          "2025-02-27T00:00:00.000000000",
          "2025-02-28T00:00:00.000000000",
          "2025-03-05T00:00:00.000000000",
          "2025-03-06T00:00:00.000000000",
          "2025-03-07T00:00:00.000000000",
          "2025-03-10T00:00:00.000000000",
          "2025-03-11T00:00:00.000000000",
          "2025-03-12T00:00:00.000000000",
          "2025-03-13T00:00:00.000000000",
          "2025-03-14T00:00:00.000000000",
          "2025-03-17T00:00:00.000000000",
          "2025-03-18T00:00:00.000000000",
          "2025-03-19T00:00:00.000000000",
          "2025-03-20T00:00:00.000000000",
          "2025-03-21T00:00:00.000000000",
          "2025-03-24T00:00:00.000000000",
          "2025-03-25T00:00:00.000000000",
          "2025-03-26T00:00:00.000000000",
          "2025-03-27T00:00:00.000000000",
          "2025-03-28T00:00:00.000000000",
          "2025-03-31T00:00:00.000000000",
          "2025-04-01T00:00:00.000000000",
          "2025-04-02T00:00:00.000000000",
          "2025-04-03T00:00:00.000000000",
          "2025-04-04T00:00:00.000000000",
          "2025-04-07T00:00:00.000000000",
          "2025-04-08T00:00:00.000000000",
          "2025-04-09T00:00:00.000000000",
          "2025-04-10T00:00:00.000000000",
          "2025-04-11T00:00:00.000000000",
          "2025-04-14T00:00:00.000000000",
          "2025-04-15T00:00:00.000000000",
          "2025-04-16T00:00:00.000000000",
          "2025-04-17T00:00:00.000000000",
          "2025-04-22T00:00:00.000000000",
          "2025-04-23T00:00:00.000000000",
          "2025-04-24T00:00:00.000000000",
          "2025-04-25T00:00:00.000000000",
          "2025-04-28T00:00:00.000000000",
          "2025-04-29T00:00:00.000000000",
          "2025-04-30T00:00:00.000000000",
          "2025-05-02T00:00:00.000000000",
          "2025-05-05T00:00:00.000000000",
          "2025-05-06T00:00:00.000000000",
          "2025-05-07T00:00:00.000000000",
          "2025-05-08T00:00:00.000000000",
          "2025-05-09T00:00:00.000000000",
          "2025-05-12T00:00:00.000000000",
          "2025-05-13T00:00:00.000000000",
          "2025-05-14T00:00:00.000000000",
          "2025-05-15T00:00:00.000000000",
          "2025-05-16T00:00:00.000000000",
          "2025-05-19T00:00:00.000000000",
          "2025-05-20T00:00:00.000000000",
          "2025-05-21T00:00:00.000000000",
          "2025-05-22T00:00:00.000000000",
          "2025-05-23T00:00:00.000000000",
          "2025-05-26T00:00:00.000000000",
          "2025-05-27T00:00:00.000000000",
          "2025-05-28T00:00:00.000000000",
          "2025-05-29T00:00:00.000000000",
          "2025-05-30T00:00:00.000000000",
          "2025-06-02T00:00:00.000000000",
          "2025-06-03T00:00:00.000000000",
          "2025-06-04T00:00:00.000000000",
          "2025-06-05T00:00:00.000000000",
          "2025-06-06T00:00:00.000000000",
          "2025-06-09T00:00:00.000000000",
          "2025-06-10T00:00:00.000000000",
          "2025-06-11T00:00:00.000000000",
          "2025-06-12T00:00:00.000000000",
          "2025-06-13T00:00:00.000000000",
          "2025-06-16T00:00:00.000000000",
          "2025-06-17T00:00:00.000000000",
          "2025-06-18T00:00:00.000000000",
          "2025-06-20T00:00:00.000000000",
          "2025-06-23T00:00:00.000000000",
          "2025-06-24T00:00:00.000000000",
          "2025-06-25T00:00:00.000000000",
          "2025-06-26T00:00:00.000000000",
          "2025-06-27T00:00:00.000000000",
          "2025-06-30T00:00:00.000000000",
          "2025-07-01T00:00:00.000000000",
          "2025-07-02T00:00:00.000000000",
          "2025-07-03T00:00:00.000000000",
          "2025-07-04T00:00:00.000000000",
          "2025-07-07T00:00:00.000000000",
          "2025-07-08T00:00:00.000000000",
          "2025-07-09T00:00:00.000000000",
          "2025-07-10T00:00:00.000000000",
          "2025-07-11T00:00:00.000000000",
          "2025-07-14T00:00:00.000000000",
          "2025-07-15T00:00:00.000000000",
          "2025-07-16T00:00:00.000000000",
          "2025-07-17T00:00:00.000000000",
          "2025-07-18T00:00:00.000000000",
          "2025-07-21T00:00:00.000000000",
          "2025-07-22T00:00:00.000000000",
          "2025-07-23T00:00:00.000000000",
          "2025-07-24T00:00:00.000000000",
          "2025-07-25T00:00:00.000000000",
          "2025-07-28T00:00:00.000000000",
          "2025-07-29T00:00:00.000000000",
          "2025-07-30T00:00:00.000000000",
          "2025-07-31T00:00:00.000000000",
          "2025-08-01T00:00:00.000000000",
          "2025-08-04T00:00:00.000000000",
          "2025-08-05T00:00:00.000000000",
          "2025-08-06T00:00:00.000000000",
          "2025-08-07T00:00:00.000000000",
          "2025-08-08T00:00:00.000000000",
          "2025-08-11T00:00:00.000000000",
          "2025-08-12T00:00:00.000000000",
          "2025-08-13T00:00:00.000000000",
          "2025-08-14T00:00:00.000000000",
          "2025-08-15T00:00:00.000000000",
          "2025-08-18T00:00:00.000000000",
          "2025-08-19T00:00:00.000000000",
          "2025-08-20T00:00:00.000000000",
          "2025-08-21T00:00:00.000000000",
          "2025-08-22T00:00:00.000000000",
          "2025-08-25T00:00:00.000000000",
          "2025-08-26T00:00:00.000000000",
          "2025-08-27T00:00:00.000000000",
          "2025-08-28T00:00:00.000000000",
          "2025-08-29T00:00:00.000000000",
          "2025-09-01T00:00:00.000000000",
          "2025-09-02T00:00:00.000000000",
          "2025-09-03T00:00:00.000000000",
          "2025-09-04T00:00:00.000000000",
          "2025-09-05T00:00:00.000000000",
          "2025-09-08T00:00:00.000000000",
          "2025-09-09T00:00:00.000000000",
          "2025-09-10T00:00:00.000000000",
          "2025-09-11T00:00:00.000000000",
          "2025-09-12T00:00:00.000000000",
          "2025-09-15T00:00:00.000000000",
          "2025-09-16T00:00:00.000000000",
          "2025-09-17T00:00:00.000000000",
          "2025-09-18T00:00:00.000000000",
          "2025-09-19T00:00:00.000000000",
          "2025-09-22T00:00:00.000000000",
          "2025-09-23T00:00:00.000000000",
          "2025-09-24T00:00:00.000000000",
          "2025-09-25T00:00:00.000000000",
          "2025-09-26T00:00:00.000000000",
          "2025-09-29T00:00:00.000000000",
          "2025-09-30T00:00:00.000000000",
          "2025-10-01T00:00:00.000000000",
          "2025-10-02T00:00:00.000000000",
          "2025-10-03T00:00:00.000000000"
         ],
         "y": {
          "bdata": "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",
          "dtype": "f8"
         },
         "yaxis": "y3"
        }
       ],
       "layout": {
        "legend": {
         "x": 0.01,
         "y": 0.99
        },
        "template": {
         "data": {
          "bar": [
           {
            "error_x": {
             "color": "#2a3f5f"
            },
            "error_y": {
             "color": "#2a3f5f"
            },
            "marker": {
             "line": {
              "color": "#E5ECF6",
              "width": 0.5
             },
             "pattern": {
              "fillmode": "overlay",
              "size": 10,
              "solidity": 0.2
             }
            },
            "type": "bar"
           }
          ],
          "barpolar": [
           {
            "marker": {
             "line": {
              "color": "#E5ECF6",
              "width": 0.5
             },
             "pattern": {
              "fillmode": "overlay",
              "size": 10,
              "solidity": 0.2
             }
            },
            "type": "barpolar"
           }
          ],
          "carpet": [
           {
            "aaxis": {
             "endlinecolor": "#2a3f5f",
             "gridcolor": "white",
             "linecolor": "white",
             "minorgridcolor": "white",
             "startlinecolor": "#2a3f5f"
            },
            "baxis": {
             "endlinecolor": "#2a3f5f",
             "gridcolor": "white",
             "linecolor": "white",
             "minorgridcolor": "white",
             "startlinecolor": "#2a3f5f"
            },
            "type": "carpet"
           }
          ],
          "choropleth": [
           {
            "colorbar": {
             "outlinewidth": 0,
             "ticks": ""
            },
            "type": "choropleth"
           }
          ],
          "contour": [
           {
            "colorbar": {
             "outlinewidth": 0,
             "ticks": ""
            },
            "colorscale": [
             [
              0,
              "#0d0887"
             ],
             [
              0.1111111111111111,
              "#46039f"
             ],
             [
              0.2222222222222222,
              "#7201a8"
             ],
             [
              0.3333333333333333,
              "#9c179e"
             ],
             [
              0.4444444444444444,
              "#bd3786"
             ],
             [
              0.5555555555555556,
              "#d8576b"
             ],
             [
              0.6666666666666666,
              "#ed7953"
             ],
             [
              0.7777777777777778,
              "#fb9f3a"
             ],
             [
              0.8888888888888888,
              "#fdca26"
             ],
             [
              1,
              "#f0f921"
             ]
            ],
            "type": "contour"
           }
          ],
          "contourcarpet": [
           {
            "colorbar": {
             "outlinewidth": 0,
             "ticks": ""
            },
            "type": "contourcarpet"
           }
          ],
          "heatmap": [
           {
            "colorbar": {
             "outlinewidth": 0,
             "ticks": ""
            },
            "colorscale": [
             [
              0,
              "#0d0887"
             ],
             [
              0.1111111111111111,
              "#46039f"
             ],
             [
              0.2222222222222222,
              "#7201a8"
             ],
             [
              0.3333333333333333,
              "#9c179e"
             ],
             [
              0.4444444444444444,
              "#bd3786"
             ],
             [
              0.5555555555555556,
              "#d8576b"
             ],
             [
              0.6666666666666666,
              "#ed7953"
             ],
             [
              0.7777777777777778,
              "#fb9f3a"
             ],
             [
              0.8888888888888888,
              "#fdca26"
             ],
             [
              1,
              "#f0f921"
             ]
            ],
            "type": "heatmap"
           }
          ],
          "histogram": [
           {
            "marker": {
             "pattern": {
              "fillmode": "overlay",
              "size": 10,
              "solidity": 0.2
             }
            },
            "type": "histogram"
           }
          ],
          "histogram2d": [
           {
            "colorbar": {
             "outlinewidth": 0,
             "ticks": ""
            },
            "colorscale": [
             [
              0,
              "#0d0887"
             ],
             [
              0.1111111111111111,
              "#46039f"
             ],
             [
              0.2222222222222222,
              "#7201a8"
             ],
             [
              0.3333333333333333,
              "#9c179e"
             ],
             [
              0.4444444444444444,
              "#bd3786"
             ],
             [
              0.5555555555555556,
              "#d8576b"
             ],
             [
              0.6666666666666666,
              "#ed7953"
             ],
             [
              0.7777777777777778,
              "#fb9f3a"
             ],
             [
              0.8888888888888888,
              "#fdca26"
             ],
             [
              1,
              "#f0f921"
             ]
            ],
            "type": "histogram2d"
           }
          ],
          "histogram2dcontour": [
           {
            "colorbar": {
             "outlinewidth": 0,
             "ticks": ""
            },
            "colorscale": [
             [
              0,
              "#0d0887"
             ],
             [
              0.1111111111111111,
              "#46039f"
             ],
             [
              0.2222222222222222,
              "#7201a8"
             ],
             [
              0.3333333333333333,
              "#9c179e"
             ],
             [
              0.4444444444444444,
              "#bd3786"
             ],
             [
              0.5555555555555556,
              "#d8576b"
             ],
             [
              0.6666666666666666,
              "#ed7953"
             ],
             [
              0.7777777777777778,
              "#fb9f3a"
             ],
             [
              0.8888888888888888,
              "#fdca26"
             ],
             [
              1,
              "#f0f921"
             ]
            ],
            "type": "histogram2dcontour"
           }
          ],
          "mesh3d": [
           {
            "colorbar": {
             "outlinewidth": 0,
             "ticks": ""
            },
            "type": "mesh3d"
           }
          ],
          "parcoords": [
           {
            "line": {
             "colorbar": {
              "outlinewidth": 0,
              "ticks": ""
             }
            },
            "type": "parcoords"
           }
          ],
          "pie": [
           {
            "automargin": true,
            "type": "pie"
           }
          ],
          "scatter": [
           {
            "fillpattern": {
             "fillmode": "overlay",
             "size": 10,
             "solidity": 0.2
            },
            "type": "scatter"
           }
          ],
          "scatter3d": [
           {
            "line": {
             "colorbar": {
              "outlinewidth": 0,
              "ticks": ""
             }
            },
            "marker": {
             "colorbar": {
              "outlinewidth": 0,
              "ticks": ""
             }
            },
            "type": "scatter3d"
           }
          ],
          "scattercarpet": [
           {
            "marker": {
             "colorbar": {
              "outlinewidth": 0,
              "ticks": ""
             }
            },
            "type": "scattercarpet"
           }
          ],
          "scattergeo": [
           {
            "marker": {
             "colorbar": {
              "outlinewidth": 0,
              "ticks": ""
             }
            },
            "type": "scattergeo"
           }
          ],
          "scattergl": [
           {
            "marker": {
             "colorbar": {
              "outlinewidth": 0,
              "ticks": ""
             }
            },
            "type": "scattergl"
           }
          ],
          "scattermap": [
           {
            "marker": {
             "colorbar": {
              "outlinewidth": 0,
              "ticks": ""
             }
            },
            "type": "scattermap"
           }
          ],
          "scattermapbox": [
           {
            "marker": {
             "colorbar": {
              "outlinewidth": 0,
              "ticks": ""
             }
            },
            "type": "scattermapbox"
           }
          ],
          "scatterpolar": [
           {
            "marker": {
             "colorbar": {
              "outlinewidth": 0,
              "ticks": ""
             }
            },
            "type": "scatterpolar"
           }
          ],
          "scatterpolargl": [
           {
            "marker": {
             "colorbar": {
              "outlinewidth": 0,
              "ticks": ""
             }
            },
            "type": "scatterpolargl"
           }
          ],
          "scatterternary": [
           {
            "marker": {
             "colorbar": {
              "outlinewidth": 0,
              "ticks": ""
             }
            },
            "type": "scatterternary"
           }
          ],
          "surface": [
           {
            "colorbar": {
             "outlinewidth": 0,
             "ticks": ""
            },
            "colorscale": [
             [
              0,
              "#0d0887"
             ],
             [
              0.1111111111111111,
              "#46039f"
             ],
             [
              0.2222222222222222,
              "#7201a8"
             ],
             [
              0.3333333333333333,
              "#9c179e"
             ],
             [
              0.4444444444444444,
              "#bd3786"
             ],
             [
              0.5555555555555556,
              "#d8576b"
             ],
             [
              0.6666666666666666,
              "#ed7953"
             ],
             [
              0.7777777777777778,
              "#fb9f3a"
             ],
             [
              0.8888888888888888,
              "#fdca26"
             ],
             [
              1,
              "#f0f921"
             ]
            ],
            "type": "surface"
           }
          ],
          "table": [
           {
            "cells": {
             "fill": {
              "color": "#EBF0F8"
             },
             "line": {
              "color": "white"
             }
            },
            "header": {
             "fill": {
              "color": "#C8D4E3"
             },
             "line": {
              "color": "white"
             }
            },
            "type": "table"
           }
          ]
         },
         "layout": {
          "annotationdefaults": {
           "arrowcolor": "#2a3f5f",
           "arrowhead": 0,
           "arrowwidth": 1
          },
          "autotypenumbers": "strict",
          "coloraxis": {
           "colorbar": {
            "outlinewidth": 0,
            "ticks": ""
           }
          },
          "colorscale": {
           "diverging": [
            [
             0,
             "#8e0152"
            ],
            [
             0.1,
             "#c51b7d"
            ],
            [
             0.2,
             "#de77ae"
            ],
            [
             0.3,
             "#f1b6da"
            ],
            [
             0.4,
             "#fde0ef"
            ],
            [
             0.5,
             "#f7f7f7"
            ],
            [
             0.6,
             "#e6f5d0"
            ],
            [
             0.7,
             "#b8e186"
            ],
            [
             0.8,
             "#7fbc41"
            ],
            [
             0.9,
             "#4d9221"
            ],
            [
             1,
             "#276419"
            ]
           ],
           "sequential": [
            [
             0,
             "#0d0887"
            ],
            [
             0.1111111111111111,
             "#46039f"
            ],
            [
             0.2222222222222222,
             "#7201a8"
            ],
            [
             0.3333333333333333,
             "#9c179e"
            ],
            [
             0.4444444444444444,
             "#bd3786"
            ],
            [
             0.5555555555555556,
             "#d8576b"
            ],
            [
             0.6666666666666666,
             "#ed7953"
            ],
            [
             0.7777777777777778,
             "#fb9f3a"
            ],
            [
             0.8888888888888888,
             "#fdca26"
            ],
            [
             1,
             "#f0f921"
            ]
           ],
           "sequentialminus": [
            [
             0,
             "#0d0887"
            ],
            [
             0.1111111111111111,
             "#46039f"
            ],
            [
             0.2222222222222222,
             "#7201a8"
            ],
            [
             0.3333333333333333,
             "#9c179e"
            ],
            [
             0.4444444444444444,
             "#bd3786"
            ],
            [
             0.5555555555555556,
             "#d8576b"
            ],
            [
             0.6666666666666666,
             "#ed7953"
            ],
            [
             0.7777777777777778,
             "#fb9f3a"
            ],
            [
             0.8888888888888888,
             "#fdca26"
            ],
            [
             1,
             "#f0f921"
            ]
           ]
          },
          "colorway": [
           "#636efa",
           "#EF553B",
           "#00cc96",
           "#ab63fa",
           "#FFA15A",
           "#19d3f3",
           "#FF6692",
           "#B6E880",
           "#FF97FF",
           "#FECB52"
          ],
          "font": {
           "color": "#2a3f5f"
          },
          "geo": {
           "bgcolor": "white",
           "lakecolor": "white",
           "landcolor": "#E5ECF6",
           "showlakes": true,
           "showland": true,
           "subunitcolor": "white"
          },
          "hoverlabel": {
           "align": "left"
          },
          "hovermode": "closest",
          "mapbox": {
           "style": "light"
          },
          "paper_bgcolor": "white",
          "plot_bgcolor": "#E5ECF6",
          "polar": {
           "angularaxis": {
            "gridcolor": "white",
            "linecolor": "white",
            "ticks": ""
           },
           "bgcolor": "#E5ECF6",
           "radialaxis": {
            "gridcolor": "white",
            "linecolor": "white",
            "ticks": ""
           }
          },
          "scene": {
           "xaxis": {
            "backgroundcolor": "#E5ECF6",
            "gridcolor": "white",
            "gridwidth": 2,
            "linecolor": "white",
            "showbackground": true,
            "ticks": "",
            "zerolinecolor": "white"
           },
           "yaxis": {
            "backgroundcolor": "#E5ECF6",
            "gridcolor": "white",
            "gridwidth": 2,
            "linecolor": "white",
            "showbackground": true,
            "ticks": "",
            "zerolinecolor": "white"
           },
           "zaxis": {
            "backgroundcolor": "#E5ECF6",
            "gridcolor": "white",
            "gridwidth": 2,
            "linecolor": "white",
            "showbackground": true,
            "ticks": "",
            "zerolinecolor": "white"
           }
          },
          "shapedefaults": {
           "line": {
            "color": "#2a3f5f"
           }
          },
          "ternary": {
           "aaxis": {
            "gridcolor": "white",
            "linecolor": "white",
            "ticks": ""
           },
           "baxis": {
            "gridcolor": "white",
            "linecolor": "white",
            "ticks": ""
           },
           "bgcolor": "#E5ECF6",
           "caxis": {
            "gridcolor": "white",
            "linecolor": "white",
            "ticks": ""
           }
          },
          "title": {
           "x": 0.05
          },
          "xaxis": {
           "automargin": true,
           "gridcolor": "white",
           "linecolor": "white",
           "ticks": "",
           "title": {
            "standoff": 15
           },
           "zerolinecolor": "white",
           "zerolinewidth": 2
          },
          "yaxis": {
           "automargin": true,
           "gridcolor": "white",
           "linecolor": "white",
           "ticks": "",
           "title": {
            "standoff": 15
           },
           "zerolinecolor": "white",
           "zerolinewidth": 2
          }
         }
        },
        "title": {
         "text": "Preço PETR4.SA e Volatility Entropy"
        },
        "xaxis": {
         "title": {
          "text": "Data"
         }
        },
        "yaxis": {
         "title": {
          "text": "Preço PETR4.SA"
         }
        },
        "yaxis2": {
         "overlaying": "y",
         "side": "right",
         "title": {
          "text": "Volatility Entropy"
         }
        },
        "yaxis3": {
         "anchor": "free",
         "overlaying": "y",
         "position": 1,
         "showgrid": false,
         "side": "right",
         "title": {
          "text": "Volatility RSI"
         }
        }
       }
      }
     },
     "metadata": {},
     "output_type": "display_data"
    }
   ],
   "source": [
    "import plotly.graph_objects as go\n",
    "\n",
    "fig = go.Figure()\n",
    "\n",
    "fig.add_trace(go.Scatter(\n",
    "    y=data[\"Close\"][\"PETR4.SA\"],\n",
    "    x=data.index,\n",
    "    name=\"Preço PETR4.SA\",\n",
    "    yaxis=\"y1\"\n",
    "))\n",
    "\n",
    "fig.add_trace(go.Scatter(\n",
    "    x=data.index,\n",
    "    y=vol_ent,\n",
    "    name=\"Volatility Entropy\",\n",
    "    yaxis=\"y2\"\n",
    "))\n",
    "\n",
    "fig.add_trace(go.Scatter(\n",
    "    x=data.index,\n",
    "    y=vol_rsi,\n",
    "    name=\"Volatility RSI\",\n",
    "    yaxis=\"y3\"\n",
    "))\n",
    "\n",
    "\n",
    "fig.update_layout(\n",
    "    yaxis3=dict(\n",
    "        title=\"Volatility RSI\",\n",
    "        anchor=\"free\",\n",
    "        overlaying=\"y\",\n",
    "        side=\"right\",\n",
    "        position=1.0,\n",
    "        showgrid=False\n",
    "    )\n",
    ")\n",
    "\n",
    "fig.update_layout(\n",
    "    title=\"Preço PETR4.SA e Volatility Entropy\",\n",
    "    xaxis_title=\"Data\",\n",
    "    yaxis=dict(title=\"Preço PETR4.SA\"),\n",
    "    yaxis2=dict(title=\"Volatility Entropy\", overlaying=\"y\", side=\"right\"),\n",
    "    legend=dict(x=0.01, y=0.99)\n",
    ")\n",
    "\n",
    "fig.show(fig_type=\"png\")"
   ]
  },
  {
   "cell_type": "markdown",
   "id": "b2616779",
   "metadata": {},
   "source": [
    "# Bollinger's Band"
   ]
  },
  {
   "cell_type": "code",
   "execution_count": 9,
   "id": "8294c290",
   "metadata": {},
   "outputs": [
    {
     "data": {
      "text/plain": [
       "np.int64(52)"
      ]
     },
     "execution_count": 9,
     "metadata": {},
     "output_type": "execute_result"
    }
   ],
   "source": [
    "np.sum(bollinger_bands(data[\"Close\"][\"PETR4.SA\"]))"
   ]
  },
  {
   "cell_type": "code",
   "execution_count": 10,
   "id": "9273e72e",
   "metadata": {},
   "outputs": [
    {
     "data": {
      "text/plain": [
       "np.int64(171)"
      ]
     },
     "execution_count": 10,
     "metadata": {},
     "output_type": "execute_result"
    }
   ],
   "source": [
    "np.sum(bollinger_bands(data[\"Close\"][\"PETR4.SA\"], center=np.median, spread=mad))"
   ]
  },
  {
   "cell_type": "markdown",
   "id": "418522a7",
   "metadata": {},
   "source": [
    "# Hampel Filter"
   ]
  },
  {
   "cell_type": "code",
   "execution_count": 11,
   "id": "c83ba089",
   "metadata": {},
   "outputs": [],
   "source": [
    "hf = hampel_filter(data[\"Close\"][\"PETR4.SA\"], rolling_window=7)"
   ]
  },
  {
   "cell_type": "code",
   "execution_count": 12,
   "id": "80bd8c86",
   "metadata": {},
   "outputs": [
    {
     "data": {
      "text/plain": [
       "Date\n",
       "2024-05-22    30.161888\n",
       "2024-07-04    31.138041\n",
       "2024-10-09    31.938402\n",
       "2025-02-07    33.884270\n",
       "Name: PETR4.SA, dtype: float64"
      ]
     },
     "execution_count": 12,
     "metadata": {},
     "output_type": "execute_result"
    }
   ],
   "source": [
    "data[\"Close\"][\"PETR4.SA\"][hf]"
   ]
  },
  {
   "cell_type": "markdown",
   "id": "d721a459",
   "metadata": {},
   "source": [
    "# ADI-CV Framework"
   ]
  },
  {
   "cell_type": "code",
   "execution_count": 13,
   "id": "d7ad151f",
   "metadata": {},
   "outputs": [
    {
     "data": {
      "text/plain": [
       "(np.float64(1.0), np.float64(2.200782292062898e+33))"
      ]
     },
     "execution_count": 13,
     "metadata": {},
     "output_type": "execute_result"
    }
   ],
   "source": [
    "adi_cv(r)"
   ]
  },
  {
   "cell_type": "markdown",
   "id": "b21e8f9d",
   "metadata": {},
   "source": [
    "# Sampen"
   ]
  },
  {
   "cell_type": "code",
   "execution_count": 14,
   "id": "b778bd0d",
   "metadata": {},
   "outputs": [
    {
     "data": {
      "text/plain": [
       "np.float64(1.6244757897986408)"
      ]
     },
     "execution_count": 14,
     "metadata": {},
     "output_type": "execute_result"
    }
   ],
   "source": [
    "sample_entropy(r, m=3)"
   ]
  },
  {
   "cell_type": "code",
   "execution_count": 15,
   "id": "e80832d8",
   "metadata": {},
   "outputs": [
    {
     "data": {
      "text/plain": [
       "np.float64(0.16791509477225003)"
      ]
     },
     "execution_count": 15,
     "metadata": {},
     "output_type": "execute_result"
    }
   ],
   "source": [
    "sample_entropy(pure_sine, m=2)"
   ]
  },
  {
   "cell_type": "markdown",
   "id": "64a5edd7",
   "metadata": {},
   "source": [
    "# Foreca"
   ]
  },
  {
   "cell_type": "code",
   "execution_count": 16,
   "id": "869394e7",
   "metadata": {},
   "outputs": [
    {
     "data": {
      "text/plain": [
       "0.07349900058419756"
      ]
     },
     "execution_count": 16,
     "metadata": {},
     "output_type": "execute_result"
    }
   ],
   "source": [
    "foreca(r)"
   ]
  },
  {
   "cell_type": "code",
   "execution_count": 17,
   "id": "7a6b7954",
   "metadata": {},
   "outputs": [
    {
     "data": {
      "text/plain": [
       "array([0.14383039, 0.14383039, 0.14383039, 0.14383039, 0.14383039,\n",
       "       0.14383039, 0.14383039, 0.14383039, 0.14383039, 0.14383039,\n",
       "       0.14383039, 0.14383039, 0.14383039, 0.14383039, 0.14383039,\n",
       "       0.14383039, 0.14383039, 0.14383039, 0.14383039, 0.14383039,\n",
       "       0.14383039, 0.14383039, 0.14383039, 0.14383039, 0.14383039,\n",
       "       0.14383039, 0.14383039, 0.14383039, 0.14383039, 0.14383039,\n",
       "       0.14383039, 0.14383039, 0.14383039, 0.14383039, 0.14383039,\n",
       "       0.14383039, 0.14383039, 0.14383039, 0.14383039, 0.14383039,\n",
       "       0.14383039, 0.14383039, 0.14383039, 0.14383039, 0.14383039,\n",
       "       0.14383039, 0.14383039, 0.14383039, 0.14383039, 0.14383039,\n",
       "       0.14383039, 0.14383039, 0.14383039, 0.14383039, 0.14383039,\n",
       "       0.14383039, 0.14383039, 0.14383039, 0.14383039, 0.14383039,\n",
       "       0.13523029, 0.13534312, 0.1326398 , 0.1403292 , 0.13470111,\n",
       "       0.12967813, 0.12326302, 0.12346428, 0.1143152 , 0.12105049,\n",
       "       0.12100504, 0.1164292 , 0.12136617, 0.12150749, 0.12041759,\n",
       "       0.12596476, 0.12831631, 0.13092377, 0.1325558 , 0.13255928,\n",
       "       0.12967166, 0.12928729, 0.13722269, 0.15134814, 0.15318385,\n",
       "       0.15521476, 0.1319652 , 0.11191289, 0.10817768, 0.11033642,\n",
       "       0.11129828, 0.11133019, 0.11194351, 0.11050766, 0.11168767,\n",
       "       0.10790661, 0.10420369, 0.11926462, 0.11858764, 0.12007885,\n",
       "       0.1327333 , 0.13071649, 0.12245089, 0.11394122, 0.10983047,\n",
       "       0.13388254, 0.1443098 , 0.12507437, 0.14128006, 0.14132072,\n",
       "       0.14494172, 0.15537175, 0.15238295, 0.12410221, 0.12410223,\n",
       "       0.12419582, 0.12730882, 0.119315  , 0.12316772, 0.11669383,\n",
       "       0.10343687, 0.10243362, 0.10366258, 0.10022371, 0.10464325,\n",
       "       0.10209257, 0.10697961, 0.10550386, 0.105858  , 0.11456195,\n",
       "       0.11699875, 0.11849619, 0.11642996, 0.11618546, 0.11456054,\n",
       "       0.1308436 , 0.12147834, 0.12515812, 0.13277655, 0.132259  ,\n",
       "       0.13712329, 0.14129595, 0.13402651, 0.1324734 , 0.13101321,\n",
       "       0.1240755 , 0.11199423, 0.11156456, 0.11806842, 0.11106975,\n",
       "       0.16007633, 0.15655969, 0.14614524, 0.14539423, 0.14504718,\n",
       "       0.14508321, 0.15314715, 0.14225907, 0.13889318, 0.13492255,\n",
       "       0.13521223, 0.12372752, 0.11939912, 0.11950053, 0.11203648,\n",
       "       0.10847419, 0.10975571, 0.08873008, 0.08851413, 0.09728223,\n",
       "       0.10073559, 0.09936508, 0.11324084, 0.12035906, 0.11119561,\n",
       "       0.11113656, 0.11951025, 0.12066648, 0.10901496, 0.10602864,\n",
       "       0.10818002, 0.10490523, 0.11187618, 0.10576894, 0.11461679,\n",
       "       0.11241373, 0.12489941, 0.11967748, 0.12274492, 0.1171468 ,\n",
       "       0.11572154, 0.11846978, 0.1162502 , 0.11560323, 0.11601492,\n",
       "       0.11596622, 0.1176299 , 0.14155837, 0.17035447, 0.16945788,\n",
       "       0.17115793, 0.16859129, 0.1597977 , 0.16658843, 0.1647511 ,\n",
       "       0.16193166, 0.15733912, 0.15719536, 0.15658732, 0.15613361,\n",
       "       0.1266636 , 0.11267957, 0.10108091, 0.09432221, 0.09940983,\n",
       "       0.10060997, 0.10656926, 0.1066529 , 0.11128777, 0.11139863,\n",
       "       0.11295698, 0.11250811, 0.1064    , 0.10650826, 0.09846208,\n",
       "       0.10120739, 0.0983334 , 0.08948121, 0.08852864, 0.1023226 ,\n",
       "       0.10325321, 0.10148601, 0.09695163, 0.09931988, 0.09847105,\n",
       "       0.10828016, 0.10625343, 0.10482268, 0.10590523, 0.11669146,\n",
       "       0.11300843, 0.1182242 , 0.11389014, 0.11508965, 0.12316144,\n",
       "       0.12023747, 0.11760854, 0.11668519, 0.11641584, 0.12852977,\n",
       "       0.12978764, 0.12879792, 0.13009852, 0.13933185, 0.13199129,\n",
       "       0.13506133, 0.13076529, 0.12801119, 0.12635354, 0.13137085,\n",
       "       0.12916888, 0.13007623, 0.1356203 , 0.13446173, 0.14677365,\n",
       "       0.13944439, 0.10688645, 0.10641177, 0.11192958, 0.11405004,\n",
       "       0.11287338, 0.11486705, 0.11959125, 0.11713191, 0.10625128,\n",
       "       0.09757041, 0.11316226, 0.11362924, 0.11663639, 0.11289633,\n",
       "       0.11612748, 0.11041245, 0.12765208, 0.14637623, 0.15208235,\n",
       "       0.15162396, 0.15113601, 0.14457584, 0.14291838, 0.14869746,\n",
       "       0.13881874, 0.13869559, 0.13984586, 0.12819424, 0.13365572,\n",
       "       0.14700528, 0.14239122, 0.14280041, 0.13940069, 0.14584024,\n",
       "       0.14777756, 0.15262878, 0.13344476, 0.13472387, 0.12482201,\n",
       "       0.11038632, 0.1238769 , 0.12405395, 0.12793125, 0.12754795,\n",
       "       0.11778778, 0.11837547, 0.12083039, 0.11996238, 0.1197982 ,\n",
       "       0.12381525, 0.12362444, 0.13269173, 0.12143035, 0.12177079,\n",
       "       0.13175055, 0.1334275 , 0.13064483, 0.13055539, 0.14036986,\n",
       "       0.14203134, 0.14308611, 0.14297558, 0.14600222, 0.14826608,\n",
       "       0.14754414, 0.1402882 , 0.12386225, 0.12309743, 0.12424002,\n",
       "       0.12610275, 0.13765144, 0.1392368 , 0.1074639 , 0.10533742,\n",
       "       0.1342945 , 0.14310414, 0.12407653, 0.12392561, 0.13531552,\n",
       "       0.13494201, 0.13311782, 0.13304857, 0.12408542, 0.17438363,\n",
       "       0.17776744, 0.12111158, 0.1222697 , 0.12260764, 0.13751815,\n",
       "       0.11742409, 0.11834489, 0.11834015, 0.14530287, 0.14611903,\n",
       "       0.14669662, 0.14886676, 0.16544644, 0.1617153 , 0.17010689,\n",
       "       0.16144263, 0.15952009, 0.1538916 , 0.14520509, 0.16369828,\n",
       "       0.16326814, 0.16461476, 0.17724561, 0.19296212, 0.22436142,\n",
       "       0.24461179, 0.20856463, 0.13828364, 0.13532518, 0.13457865,\n",
       "       0.12296833, 0.12125371, 0.12487571, 0.12781232, 0.124738  ,\n",
       "       0.12466292, 0.1300841 , 0.12961466, 0.13046584, 0.11864093,\n",
       "       0.11301879, 0.12360933, 0.11869655, 0.11735708, 0.12073016,\n",
       "       0.12225479, 0.12398046, 0.11959825, 0.11991468, 0.11886909,\n",
       "       0.11317881, 0.11177218, 0.11049314, 0.12134433, 0.12332503,\n",
       "       0.12141461, 0.11986946, 0.11674552, 0.1192334 , 0.10496674,\n",
       "       0.10143544, 0.10280557, 0.10207264, 0.09635471, 0.09664986,\n",
       "       0.09746239, 0.10086816, 0.11045565, 0.10940882, 0.11017129,\n",
       "       0.12011815, 0.1144457 , 0.12109675, 0.12061169, 0.11983748,\n",
       "       0.11853235, 0.11076061, 0.1155247 , 0.1107193 , 0.11063083,\n",
       "       0.10979634, 0.11045769, 0.11210824, 0.11810802, 0.14062834,\n",
       "       0.12803716, 0.12563368, 0.11297476, 0.1210811 , 0.12139588,\n",
       "       0.12668777, 0.12426037, 0.11809878, 0.11415205, 0.11083175,\n",
       "       0.11324601, 0.10681943, 0.10592772, 0.10993057, 0.11681273,\n",
       "       0.1156959 , 0.12793831, 0.12922309, 0.13064676, 0.13630983,\n",
       "       0.13501043, 0.14300652, 0.1458027 , 0.14550597, 0.13282949,\n",
       "       0.13281648, 0.1352335 , 0.13228267, 0.13175485, 0.13339248,\n",
       "       0.13596778, 0.12829316, 0.12764996, 0.12917422, 0.11432767,\n",
       "       0.1079038 , 0.11444562, 0.10388555, 0.11904961, 0.12058103,\n",
       "       0.11869331, 0.11094955, 0.09364355, 0.09191255, 0.08427491,\n",
       "       0.08991545, 0.07714269, 0.08051607, 0.08136487, 0.08389682,\n",
       "       0.08789417, 0.09375598, 0.10951575, 0.10912591, 0.10967368,\n",
       "       0.11180067, 0.12916658, 0.12677065, 0.12911438, 0.12847024,\n",
       "       0.12836328, 0.12901556, 0.1265975 , 0.12654158, 0.12880654])"
      ]
     },
     "execution_count": 17,
     "metadata": {},
     "output_type": "execute_result"
    }
   ],
   "source": [
    "trailing_window(r, rolling_window=60, func=foreca)"
   ]
  },
  {
   "cell_type": "code",
   "execution_count": 18,
   "id": "f3ce2558",
   "metadata": {},
   "outputs": [
    {
     "data": {
      "text/plain": [
       "0.9993976808641186"
      ]
     },
     "execution_count": 18,
     "metadata": {},
     "output_type": "execute_result"
    }
   ],
   "source": [
    "foreca(pure_sine)"
   ]
  },
  {
   "cell_type": "code",
   "execution_count": 19,
   "id": "78bcc5cb",
   "metadata": {},
   "outputs": [
    {
     "data": {
      "text/plain": [
       "array([0.87814292, 0.87814292, 0.87814292, 0.87814292, 0.87814292,\n",
       "       0.87814292, 0.87814292, 0.87814292, 0.87814292, 0.87814292,\n",
       "       0.87814292, 0.87814292, 0.87814292, 0.87814292, 0.87814292,\n",
       "       0.87814292, 0.87814292, 0.87814292, 0.87814292, 0.87814292,\n",
       "       0.87814292, 0.87814292, 0.87814292, 0.87814292, 0.87814292,\n",
       "       0.87814292, 0.87814292, 0.87814292, 0.87814292, 0.87814292,\n",
       "       0.87814292, 0.87814292, 0.87814292, 0.87814292, 0.87814292,\n",
       "       0.87814292, 0.87814292, 0.87814292, 0.87814292, 0.87814292,\n",
       "       0.87814292, 0.87814292, 0.87814292, 0.87814292, 0.87814292,\n",
       "       0.87814292, 0.87814292, 0.87814292, 0.87814292, 0.87814292,\n",
       "       0.87814292, 0.87814292, 0.87814292, 0.87814292, 0.87814292,\n",
       "       0.87814292, 0.87814292, 0.87814292, 0.87814292, 0.87814292,\n",
       "       0.85659439, 0.83599743, 0.81701635, 0.79995579, 0.78488091,\n",
       "       0.77171463, 0.76030651, 0.75047711, 0.74204419, 0.73483677,\n",
       "       0.72870169, 0.72350584, 0.7191359 , 0.71549702, 0.7125111 ,\n",
       "       0.71011489, 0.70825837, 0.70690328, 0.70602203, 0.70559683,\n",
       "       0.70561914, 0.70608941, 0.70701709, 0.70842091, 0.7103295 ,\n",
       "       0.71278222, 0.71583036, 0.71953856, 0.72398654, 0.7292709 ,\n",
       "       0.73550688, 0.74282964, 0.75139426, 0.76137323, 0.77294932,\n",
       "       0.78630048, 0.80157218, 0.81883082, 0.83799213, 0.85872118,\n",
       "       0.88031077, 0.90156475, 0.92073967, 0.93561753, 0.94376518,\n",
       "       0.94306497, 0.93375548, 0.91807901, 0.89846048, 0.87705837,\n",
       "       0.85553466, 0.83500622, 0.81611639, 0.79915509, 0.78417832,\n",
       "       0.7711039 , 0.75977908, 0.75002379, 0.74165607, 0.73450573,\n",
       "       0.72842062, 0.72326859, 0.7189373 , 0.7153328 , 0.71237775,\n",
       "       0.71000961, 0.70817897, 0.70684815, 0.70599004, 0.70558734,\n",
       "       0.70563197, 0.70612481, 0.70707577, 0.70850407, 0.71043884,\n",
       "       0.71292001, 0.7159995 , 0.71974266, 0.72423002, 0.72955906,\n",
       "       0.735846  , 0.74322701, 0.75185813, 0.76191257, 0.77357332,\n",
       "       0.78701749, 0.80238787, 0.81974528, 0.83899551, 0.85978801,\n",
       "       0.8813937 , 0.90258966, 0.92160557, 0.93620488, 0.94395386,\n",
       "       0.9427877 , 0.93310249, 0.91717214, 0.89741669, 0.87597363,\n",
       "       0.85447751, 0.83401918, 0.81522129, 0.79835938, 0.78348049,\n",
       "       0.77049754, 0.75925558, 0.74957392, 0.74127098, 0.73417736,\n",
       "       0.72814187, 0.72303339, 0.71874052, 0.7151702 , 0.71224587,\n",
       "       0.70990568, 0.70810083, 0.7067942 , 0.70595919, 0.70557898,\n",
       "       0.70564592, 0.70616136, 0.70713565, 0.70858849, 0.71054954,\n",
       "       0.71305929, 0.71617029, 0.71994862, 0.72447559, 0.7298496 ,\n",
       "       0.73618785, 0.7436275 , 0.75232554, 0.76245593, 0.77420178,\n",
       "       0.78773932, 0.80320856, 0.82066452, 0.84000282, 0.86085699,\n",
       "       0.88247573, 0.90360922, 0.92246047, 0.93677507, 0.94411978,\n",
       "       0.94248894, 0.93243387, 0.91625577, 0.89636879, 0.87488887,\n",
       "       0.85342306, 0.83303637, 0.81433108, 0.79756865, 0.78278741,\n",
       "       0.76989555, 0.75873597, 0.7491275 , 0.74088891, 0.73385163,\n",
       "       0.72786543, 0.72280022, 0.71854555, 0.71500922, 0.71211544,\n",
       "       0.70980307, 0.70802393, 0.70674142, 0.70592948, 0.70557173,\n",
       "       0.70566099, 0.70619905, 0.70719672, 0.70867418, 0.71066161,\n",
       "       0.71320007, 0.71634274, 0.72015644, 0.72472328, 0.73014256,\n",
       "       0.73653244, 0.74403113, 0.75279654, 0.76300333, 0.77483473,\n",
       "       0.78846601, 0.80403424, 0.82158852, 0.841014  , 0.86192797,\n",
       "       0.88355666, 0.90462317, 0.92330407, 0.93732777, 0.94426268,\n",
       "       0.94216895, 0.93174993, 0.9153302 , 0.89531703, 0.87380426,\n",
       "       0.85237141, 0.83205782, 0.81344577, 0.7967829 , 0.78209907,\n",
       "       0.76929789, 0.75822024, 0.7486845 , 0.74050985, 0.73352852,\n",
       "       0.72759129, 0.72256907, 0.71835236, 0.71484983, 0.71198647,\n",
       "       0.7097018 , 0.70794826, 0.70668982, 0.70590091, 0.7055656 ,\n",
       "       0.70567718, 0.70623789, 0.70725899, 0.70876115, 0.71077505,\n",
       "       0.71334235, 0.71651687, 0.72036614, 0.72497309, 0.73043793,\n",
       "       0.73687981, 0.74443792, 0.75327114, 0.76355479, 0.77547219,\n",
       "       0.78919755, 0.80486493, 0.82251725, 0.84202899, 0.86300086,\n",
       "       0.8846363 , 0.90563126, 0.92413607, 0.9378627 , 0.94438232,\n",
       "       0.941828  , 0.93105097, 0.91439571, 0.89426162, 0.87271997,\n",
       "       0.85132264, 0.8310836 , 0.81256538, 0.79600212, 0.78141545,\n",
       "       0.76870454, 0.75770837, 0.74824491, 0.74013376, 0.73320801,\n",
       "       0.72731944, 0.72233993, 0.71816096, 0.71469204, 0.71185893,\n",
       "       0.70960185, 0.70787384, 0.7066394 , 0.70587346, 0.70556058,\n",
       "       0.70569449, 0.70627788, 0.70732246, 0.70884939, 0.71088988,\n",
       "       0.71348615, 0.71669269, 0.72057773, 0.72522505, 0.73073575,\n",
       "       0.73722996, 0.7448479 , 0.75374936, 0.76411033, 0.77611418,\n",
       "       0.78993396, 0.80570061, 0.82345069, 0.8430477 , 0.8640755 ,\n",
       "       0.88571445, 0.90663321, 0.92495616, 0.93837954, 0.94447848,\n",
       "       0.94146637, 0.93033732, 0.9134526 , 0.89320281, 0.87163615,\n",
       "       0.85027687, 0.83011375, 0.81168991, 0.79522631, 0.78073653,\n",
       "       0.76811548, 0.75720033, 0.74780869, 0.73976063, 0.7328901 ,\n",
       "       0.72704985, 0.7221128 , 0.71797133, 0.71453584, 0.71173284,\n",
       "       0.70950323, 0.70780064, 0.70659014, 0.70584714, 0.70555668,\n",
       "       0.70571293, 0.70631901, 0.70738713, 0.70893891, 0.71100609,\n",
       "       0.71363148, 0.7168702 , 0.72079123, 0.72547916, 0.73103601,\n",
       "       0.73758292, 0.74526108, 0.75423124, 0.76466999, 0.77676071,\n",
       "       0.79067526, 0.80654129, 0.8243888 , 0.84407008, 0.86515179,\n",
       "       0.88679093, 0.90762878, 0.92576403, 0.93887801, 0.94455093,\n",
       "       0.94108433, 0.92960926, 0.91250116, 0.89214082, 0.87055297,\n",
       "       0.84923419, 0.82914832, 0.8108194 , 0.79445546, 0.7800623 ,\n",
       "       0.76753069, 0.75669609, 0.74737582, 0.73939044, 0.73257475,\n",
       "       0.72678252, 0.72188764, 0.71778346, 0.71438121, 0.71160818,\n",
       "       0.70940592, 0.70772867, 0.70654205, 0.70582196, 0.7055539 ,\n",
       "       0.70573248, 0.70636131, 0.70745301, 0.70902972, 0.7111237 ,\n",
       "       0.71377833, 0.71704941, 0.72100664, 0.72573544, 0.73133875,\n",
       "       0.7379387 , 0.74567749, 0.75471678, 0.76523377, 0.77741181,\n",
       "       0.79142146, 0.80738695, 0.82533156, 0.84509604, 0.86622957,\n",
       "       0.88786552, 0.90861768, 0.92655937, 0.9393578 , 0.94459944,\n",
       "       0.94068217, 0.92886713, 0.91154166, 0.89107588, 0.86947057,\n",
       "       0.84819467, 0.82818734, 0.80995383, 0.79368956, 0.77939273,\n",
       "       0.76695015, 0.75619564, 0.74694629, 0.73902318, 0.73226196,\n",
       "       0.72651743, 0.72166446, 0.71759735, 0.71422816, 0.71148494,\n",
       "       0.70930991, 0.70765793, 0.70649512, 0.7057979 , 0.70555222,\n",
       "       0.70575316, 0.70640475, 0.7075201 , 0.70912182, 0.7112427 ,\n",
       "       0.71392673, 0.71723033, 0.72122397, 0.7259939 , 0.73164398,\n",
       "       0.73829732, 0.74609715, 0.75520601, 0.76580171, 0.7780675 ,\n",
       "       0.79217257, 0.8082376 , 0.82627892, 0.84612552, 0.86730873,\n",
       "       0.88893801, 0.90959964, 0.92734188, 0.93981862, 0.9446238 ,\n",
       "       0.94026017, 0.92811124, 0.9105744 , 0.8900082 , 0.86838911,\n",
       "       0.84715842, 0.82723087, 0.80909323, 0.7929286 , 0.7787278 ,\n",
       "       0.76637383, 0.75569896, 0.74652008, 0.73865881, 0.73195171,\n",
       "       0.72625456, 0.72144324, 0.71741297, 0.71407666, 0.71136311,\n",
       "       0.70921522, 0.70758841, 0.70644936, 0.70577497, 0.70555167,\n",
       "       0.70577497, 0.70644936, 0.70758841, 0.70921522, 0.71136311,\n",
       "       0.71407666, 0.71741297, 0.72144324, 0.72625456, 0.73195171,\n",
       "       0.73865881, 0.74652008, 0.75569896, 0.76637383, 0.7787278 ,\n",
       "       0.7929286 , 0.80909323, 0.82723087, 0.84715842, 0.86838911,\n",
       "       0.8900082 , 0.9105744 , 0.92811124, 0.94026017, 0.9446238 ,\n",
       "       0.93981862, 0.92734188, 0.90959964, 0.88893801, 0.86730873,\n",
       "       0.84612552, 0.82627892, 0.8082376 , 0.79217257, 0.7780675 ,\n",
       "       0.76580171, 0.75520601, 0.74609715, 0.73829732, 0.73164398,\n",
       "       0.7259939 , 0.72122397, 0.71723033, 0.71392673, 0.7112427 ,\n",
       "       0.70912182, 0.7075201 , 0.70640475, 0.70575316, 0.70555222,\n",
       "       0.7057979 , 0.70649512, 0.70765793, 0.70930991, 0.71148494,\n",
       "       0.71422816, 0.71759735, 0.72166446, 0.72651743, 0.73226196,\n",
       "       0.73902318, 0.74694629, 0.75619564, 0.76695015, 0.77939273,\n",
       "       0.79368956, 0.80995383, 0.82818734, 0.84819467, 0.86947057,\n",
       "       0.89107588, 0.91154166, 0.92886713, 0.94068217, 0.94459944,\n",
       "       0.9393578 , 0.92655937, 0.90861768, 0.88786552, 0.86622957,\n",
       "       0.84509604, 0.82533156, 0.80738695, 0.79142146, 0.77741181,\n",
       "       0.76523377, 0.75471678, 0.74567749, 0.7379387 , 0.73133875,\n",
       "       0.72573544, 0.72100664, 0.71704941, 0.71377833, 0.7111237 ,\n",
       "       0.70902972, 0.70745301, 0.70636131, 0.70573248, 0.7055539 ,\n",
       "       0.70582196, 0.70654205, 0.70772867, 0.70940592, 0.71160818,\n",
       "       0.71438121, 0.71778346, 0.72188764, 0.72678252, 0.73257475,\n",
       "       0.73939044, 0.74737582, 0.75669609, 0.76753069, 0.7800623 ,\n",
       "       0.79445546, 0.8108194 , 0.82914832, 0.84923419, 0.87055297,\n",
       "       0.89214082, 0.91250116, 0.92960926, 0.94108433, 0.94455093,\n",
       "       0.93887801, 0.92576403, 0.90762878, 0.88679093, 0.86515179,\n",
       "       0.84407008, 0.8243888 , 0.80654129, 0.79067526, 0.77676071,\n",
       "       0.76466999, 0.75423124, 0.74526108, 0.73758292, 0.73103601,\n",
       "       0.72547916, 0.72079123, 0.7168702 , 0.71363148, 0.71100609,\n",
       "       0.70893891, 0.70738713, 0.70631901, 0.70571293, 0.70555668,\n",
       "       0.70584714, 0.70659014, 0.70780064, 0.70950323, 0.71173284,\n",
       "       0.71453584, 0.71797133, 0.7221128 , 0.72704985, 0.7328901 ,\n",
       "       0.73976063, 0.74780869, 0.75720033, 0.76811548, 0.78073653,\n",
       "       0.79522631, 0.81168991, 0.83011375, 0.85027687, 0.87163615,\n",
       "       0.89320281, 0.9134526 , 0.93033732, 0.94146637, 0.94447848,\n",
       "       0.93837954, 0.92495616, 0.90663321, 0.88571445, 0.8640755 ,\n",
       "       0.8430477 , 0.82345069, 0.80570061, 0.78993396, 0.77611418,\n",
       "       0.76411033, 0.75374936, 0.7448479 , 0.73722996, 0.73073575,\n",
       "       0.72522505, 0.72057773, 0.71669269, 0.71348615, 0.71088988,\n",
       "       0.70884939, 0.70732246, 0.70627788, 0.70569449, 0.70556058,\n",
       "       0.70587346, 0.7066394 , 0.70787384, 0.70960185, 0.71185893,\n",
       "       0.71469204, 0.71816096, 0.72233993, 0.72731944, 0.73320801,\n",
       "       0.74013376, 0.74824491, 0.75770837, 0.76870454, 0.78141545,\n",
       "       0.79600212, 0.81256538, 0.8310836 , 0.85132264, 0.87271997,\n",
       "       0.89426162, 0.91439571, 0.93105097, 0.941828  , 0.94438232,\n",
       "       0.9378627 , 0.92413607, 0.90563126, 0.8846363 , 0.86300086,\n",
       "       0.84202899, 0.82251725, 0.80486493, 0.78919755, 0.77547219,\n",
       "       0.76355479, 0.75327114, 0.74443792, 0.73687981, 0.73043793,\n",
       "       0.72497309, 0.72036614, 0.71651687, 0.71334235, 0.71077505,\n",
       "       0.70876115, 0.70725899, 0.70623789, 0.70567718, 0.7055656 ,\n",
       "       0.70590091, 0.70668982, 0.70794826, 0.7097018 , 0.71198647,\n",
       "       0.71484983, 0.71835236, 0.72256907, 0.72759129, 0.73352852,\n",
       "       0.74050985, 0.7486845 , 0.75822024, 0.76929789, 0.78209907,\n",
       "       0.7967829 , 0.81344577, 0.83205782, 0.85237141, 0.87380426,\n",
       "       0.89531703, 0.9153302 , 0.93174993, 0.94216895, 0.94426268,\n",
       "       0.93732777, 0.92330407, 0.90462317, 0.88355666, 0.86192797,\n",
       "       0.841014  , 0.82158852, 0.80403424, 0.78846601, 0.77483473,\n",
       "       0.76300333, 0.75279654, 0.74403113, 0.73653244, 0.73014256,\n",
       "       0.72472328, 0.72015644, 0.71634274, 0.71320007, 0.71066161,\n",
       "       0.70867418, 0.70719672, 0.70619905, 0.70566099, 0.70557173,\n",
       "       0.70592948, 0.70674142, 0.70802393, 0.70980307, 0.71211544,\n",
       "       0.71500922, 0.71854555, 0.72280022, 0.72786543, 0.73385163,\n",
       "       0.74088891, 0.7491275 , 0.75873597, 0.76989555, 0.78278741,\n",
       "       0.79756865, 0.81433108, 0.83303637, 0.85342306, 0.87488887,\n",
       "       0.89636879, 0.91625577, 0.93243387, 0.94248894, 0.94411978,\n",
       "       0.93677507, 0.92246047, 0.90360922, 0.88247573, 0.86085699,\n",
       "       0.84000282, 0.82066452, 0.80320856, 0.78773932, 0.77420178,\n",
       "       0.76245593, 0.75232554, 0.7436275 , 0.73618785, 0.7298496 ,\n",
       "       0.72447559, 0.71994862, 0.71617029, 0.71305929, 0.71054954,\n",
       "       0.70858849, 0.70713565, 0.70616136, 0.70564592, 0.70557898,\n",
       "       0.70595919, 0.7067942 , 0.70810083, 0.70990568, 0.71224587,\n",
       "       0.7151702 , 0.71874052, 0.72303339, 0.72814187, 0.73417736,\n",
       "       0.74127098, 0.74957392, 0.75925558, 0.77049754, 0.78348049,\n",
       "       0.79835938, 0.81522129, 0.83401918, 0.85447751, 0.87597363,\n",
       "       0.89741669, 0.91717214, 0.93310249, 0.9427877 , 0.94395386,\n",
       "       0.93620488, 0.92160557, 0.90258966, 0.8813937 , 0.85978801,\n",
       "       0.83899551, 0.81974528, 0.80238787, 0.78701749, 0.77357332,\n",
       "       0.76191257, 0.75185813, 0.74322701, 0.735846  , 0.72955906,\n",
       "       0.72423002, 0.71974266, 0.7159995 , 0.71292001, 0.71043884,\n",
       "       0.70850407, 0.70707577, 0.70612481, 0.70563197, 0.70558734,\n",
       "       0.70599004, 0.70684815, 0.70817897, 0.71000961, 0.71237775,\n",
       "       0.7153328 , 0.7189373 , 0.72326859, 0.72842062, 0.73450573,\n",
       "       0.74165607, 0.75002379, 0.75977908, 0.7711039 , 0.78417832,\n",
       "       0.79915509, 0.81611639, 0.83500622, 0.85553466, 0.87705837,\n",
       "       0.89846048, 0.91807901, 0.93375548, 0.94306497, 0.94376518,\n",
       "       0.93561753, 0.92073967, 0.90156475, 0.88031077, 0.85872118,\n",
       "       0.83799213, 0.81883082, 0.80157218, 0.78630048, 0.77294932,\n",
       "       0.76137323, 0.75139426, 0.74282964, 0.73550688, 0.7292709 ,\n",
       "       0.72398654, 0.71953856, 0.71583036, 0.71278222, 0.7103295 ,\n",
       "       0.70842091, 0.70701709, 0.70608941, 0.70561914, 0.70559683,\n",
       "       0.70602203, 0.70690328, 0.70825837, 0.71011489, 0.7125111 ,\n",
       "       0.71549702, 0.7191359 , 0.72350584, 0.72870169, 0.73483677,\n",
       "       0.74204419, 0.75047711, 0.76030651, 0.77171463, 0.78488091,\n",
       "       0.79995579, 0.81701635, 0.83599743, 0.85659439, 0.87814292])"
      ]
     },
     "execution_count": 19,
     "metadata": {},
     "output_type": "execute_result"
    }
   ],
   "source": [
    "trailing_window(pure_sine, rolling_window=60, func=foreca)"
   ]
  },
  {
   "cell_type": "markdown",
   "id": "adc90af6",
   "metadata": {},
   "source": [
    "# Hurst's Exponent"
   ]
  },
  {
   "cell_type": "code",
   "execution_count": 20,
   "id": "86205dab",
   "metadata": {},
   "outputs": [
    {
     "data": {
      "text/plain": [
       "(0.42972290834354154, 0.1593164307258797)"
      ]
     },
     "execution_count": 20,
     "metadata": {},
     "output_type": "execute_result"
    }
   ],
   "source": [
    "hurst_exponent(r)"
   ]
  },
  {
   "cell_type": "code",
   "execution_count": 32,
   "id": "4afa7740",
   "metadata": {},
   "outputs": [
    {
     "data": {
      "application/vnd.plotly.v1+json": {
       "config": {
        "plotlyServerURL": "https://plot.ly"
       },
       "data": [
        {
         "name": "Preço PETR4.SA",
         "type": "scatter",
         "x": [
          "2023-10-03T00:00:00.000000000",
          "2023-10-04T00:00:00.000000000",
          "2023-10-05T00:00:00.000000000",
          "2023-10-06T00:00:00.000000000",
          "2023-10-09T00:00:00.000000000",
          "2023-10-10T00:00:00.000000000",
          "2023-10-11T00:00:00.000000000",
          "2023-10-13T00:00:00.000000000",
          "2023-10-16T00:00:00.000000000",
          "2023-10-17T00:00:00.000000000",
          "2023-10-18T00:00:00.000000000",
          "2023-10-19T00:00:00.000000000",
          "2023-10-20T00:00:00.000000000",
          "2023-10-23T00:00:00.000000000",
          "2023-10-24T00:00:00.000000000",
          "2023-10-25T00:00:00.000000000",
          "2023-10-26T00:00:00.000000000",
          "2023-10-27T00:00:00.000000000",
          "2023-10-30T00:00:00.000000000",
          "2023-10-31T00:00:00.000000000",
          "2023-11-01T00:00:00.000000000",
          "2023-11-03T00:00:00.000000000",
          "2023-11-06T00:00:00.000000000",
          "2023-11-07T00:00:00.000000000",
          "2023-11-08T00:00:00.000000000",
          "2023-11-09T00:00:00.000000000",
          "2023-11-10T00:00:00.000000000",
          "2023-11-13T00:00:00.000000000",
          "2023-11-14T00:00:00.000000000",
          "2023-11-16T00:00:00.000000000",
          "2023-11-17T00:00:00.000000000",
          "2023-11-20T00:00:00.000000000",
          "2023-11-21T00:00:00.000000000",
          "2023-11-22T00:00:00.000000000",
          "2023-11-23T00:00:00.000000000",
          "2023-11-24T00:00:00.000000000",
          "2023-11-27T00:00:00.000000000",
          "2023-11-28T00:00:00.000000000",
          "2023-11-29T00:00:00.000000000",
          "2023-11-30T00:00:00.000000000",
          "2023-12-01T00:00:00.000000000",
          "2023-12-04T00:00:00.000000000",
          "2023-12-05T00:00:00.000000000",
          "2023-12-06T00:00:00.000000000",
          "2023-12-07T00:00:00.000000000",
          "2023-12-08T00:00:00.000000000",
          "2023-12-11T00:00:00.000000000",
          "2023-12-12T00:00:00.000000000",
          "2023-12-13T00:00:00.000000000",
          "2023-12-14T00:00:00.000000000",
          "2023-12-15T00:00:00.000000000",
          "2023-12-18T00:00:00.000000000",
          "2023-12-19T00:00:00.000000000",
          "2023-12-20T00:00:00.000000000",
          "2023-12-21T00:00:00.000000000",
          "2023-12-22T00:00:00.000000000",
          "2023-12-26T00:00:00.000000000",
          "2023-12-27T00:00:00.000000000",
          "2023-12-28T00:00:00.000000000",
          "2024-01-02T00:00:00.000000000",
          "2024-01-03T00:00:00.000000000",
          "2024-01-04T00:00:00.000000000",
          "2024-01-05T00:00:00.000000000",
          "2024-01-08T00:00:00.000000000",
          "2024-01-09T00:00:00.000000000",
          "2024-01-10T00:00:00.000000000",
          "2024-01-11T00:00:00.000000000",
          "2024-01-12T00:00:00.000000000",
          "2024-01-15T00:00:00.000000000",
          "2024-01-16T00:00:00.000000000",
          "2024-01-17T00:00:00.000000000",
          "2024-01-18T00:00:00.000000000",
          "2024-01-19T00:00:00.000000000",
          "2024-01-22T00:00:00.000000000",
          "2024-01-23T00:00:00.000000000",
          "2024-01-24T00:00:00.000000000",
          "2024-01-25T00:00:00.000000000",
          "2024-01-26T00:00:00.000000000",
          "2024-01-29T00:00:00.000000000",
          "2024-01-30T00:00:00.000000000",
          "2024-01-31T00:00:00.000000000",
          "2024-02-01T00:00:00.000000000",
          "2024-02-02T00:00:00.000000000",
          "2024-02-05T00:00:00.000000000",
          "2024-02-06T00:00:00.000000000",
          "2024-02-07T00:00:00.000000000",
          "2024-02-08T00:00:00.000000000",
          "2024-02-09T00:00:00.000000000",
          "2024-02-14T00:00:00.000000000",
          "2024-02-15T00:00:00.000000000",
          "2024-02-16T00:00:00.000000000",
          "2024-02-19T00:00:00.000000000",
          "2024-02-20T00:00:00.000000000",
          "2024-02-21T00:00:00.000000000",
          "2024-02-22T00:00:00.000000000",
          "2024-02-23T00:00:00.000000000",
          "2024-02-26T00:00:00.000000000",
          "2024-02-27T00:00:00.000000000",
          "2024-02-28T00:00:00.000000000",
          "2024-02-29T00:00:00.000000000",
          "2024-03-01T00:00:00.000000000",
          "2024-03-04T00:00:00.000000000",
          "2024-03-05T00:00:00.000000000",
          "2024-03-06T00:00:00.000000000",
          "2024-03-07T00:00:00.000000000",
          "2024-03-08T00:00:00.000000000",
          "2024-03-11T00:00:00.000000000",
          "2024-03-12T00:00:00.000000000",
          "2024-03-13T00:00:00.000000000",
          "2024-03-14T00:00:00.000000000",
          "2024-03-15T00:00:00.000000000",
          "2024-03-18T00:00:00.000000000",
          "2024-03-19T00:00:00.000000000",
          "2024-03-20T00:00:00.000000000",
          "2024-03-21T00:00:00.000000000",
          "2024-03-22T00:00:00.000000000",
          "2024-03-25T00:00:00.000000000",
          "2024-03-26T00:00:00.000000000",
          "2024-03-27T00:00:00.000000000",
          "2024-03-28T00:00:00.000000000",
          "2024-04-01T00:00:00.000000000",
          "2024-04-02T00:00:00.000000000",
          "2024-04-03T00:00:00.000000000",
          "2024-04-04T00:00:00.000000000",
          "2024-04-05T00:00:00.000000000",
          "2024-04-08T00:00:00.000000000",
          "2024-04-09T00:00:00.000000000",
          "2024-04-10T00:00:00.000000000",
          "2024-04-11T00:00:00.000000000",
          "2024-04-12T00:00:00.000000000",
          "2024-04-15T00:00:00.000000000",
          "2024-04-16T00:00:00.000000000",
          "2024-04-17T00:00:00.000000000",
          "2024-04-18T00:00:00.000000000",
          "2024-04-19T00:00:00.000000000",
          "2024-04-22T00:00:00.000000000",
          "2024-04-23T00:00:00.000000000",
          "2024-04-24T00:00:00.000000000",
          "2024-04-25T00:00:00.000000000",
          "2024-04-26T00:00:00.000000000",
          "2024-04-29T00:00:00.000000000",
          "2024-04-30T00:00:00.000000000",
          "2024-05-02T00:00:00.000000000",
          "2024-05-03T00:00:00.000000000",
          "2024-05-06T00:00:00.000000000",
          "2024-05-07T00:00:00.000000000",
          "2024-05-08T00:00:00.000000000",
          "2024-05-09T00:00:00.000000000",
          "2024-05-10T00:00:00.000000000",
          "2024-05-13T00:00:00.000000000",
          "2024-05-14T00:00:00.000000000",
          "2024-05-15T00:00:00.000000000",
          "2024-05-16T00:00:00.000000000",
          "2024-05-17T00:00:00.000000000",
          "2024-05-20T00:00:00.000000000",
          "2024-05-21T00:00:00.000000000",
          "2024-05-22T00:00:00.000000000",
          "2024-05-23T00:00:00.000000000",
          "2024-05-24T00:00:00.000000000",
          "2024-05-27T00:00:00.000000000",
          "2024-05-28T00:00:00.000000000",
          "2024-05-29T00:00:00.000000000",
          "2024-05-31T00:00:00.000000000",
          "2024-06-03T00:00:00.000000000",
          "2024-06-04T00:00:00.000000000",
          "2024-06-05T00:00:00.000000000",
          "2024-06-06T00:00:00.000000000",
          "2024-06-07T00:00:00.000000000",
          "2024-06-10T00:00:00.000000000",
          "2024-06-11T00:00:00.000000000",
          "2024-06-12T00:00:00.000000000",
          "2024-06-13T00:00:00.000000000",
          "2024-06-14T00:00:00.000000000",
          "2024-06-17T00:00:00.000000000",
          "2024-06-18T00:00:00.000000000",
          "2024-06-19T00:00:00.000000000",
          "2024-06-20T00:00:00.000000000",
          "2024-06-21T00:00:00.000000000",
          "2024-06-24T00:00:00.000000000",
          "2024-06-25T00:00:00.000000000",
          "2024-06-26T00:00:00.000000000",
          "2024-06-27T00:00:00.000000000",
          "2024-06-28T00:00:00.000000000",
          "2024-07-01T00:00:00.000000000",
          "2024-07-02T00:00:00.000000000",
          "2024-07-03T00:00:00.000000000",
          "2024-07-04T00:00:00.000000000",
          "2024-07-05T00:00:00.000000000",
          "2024-07-08T00:00:00.000000000",
          "2024-07-09T00:00:00.000000000",
          "2024-07-10T00:00:00.000000000",
          "2024-07-11T00:00:00.000000000",
          "2024-07-12T00:00:00.000000000",
          "2024-07-15T00:00:00.000000000",
          "2024-07-16T00:00:00.000000000",
          "2024-07-17T00:00:00.000000000",
          "2024-07-18T00:00:00.000000000",
          "2024-07-19T00:00:00.000000000",
          "2024-07-22T00:00:00.000000000",
          "2024-07-23T00:00:00.000000000",
          "2024-07-24T00:00:00.000000000",
          "2024-07-25T00:00:00.000000000",
          "2024-07-26T00:00:00.000000000",
          "2024-07-29T00:00:00.000000000",
          "2024-07-30T00:00:00.000000000",
          "2024-07-31T00:00:00.000000000",
          "2024-08-01T00:00:00.000000000",
          "2024-08-02T00:00:00.000000000",
          "2024-08-05T00:00:00.000000000",
          "2024-08-06T00:00:00.000000000",
          "2024-08-07T00:00:00.000000000",
          "2024-08-08T00:00:00.000000000",
          "2024-08-09T00:00:00.000000000",
          "2024-08-12T00:00:00.000000000",
          "2024-08-13T00:00:00.000000000",
          "2024-08-14T00:00:00.000000000",
          "2024-08-15T00:00:00.000000000",
          "2024-08-16T00:00:00.000000000",
          "2024-08-19T00:00:00.000000000",
          "2024-08-20T00:00:00.000000000",
          "2024-08-21T00:00:00.000000000",
          "2024-08-22T00:00:00.000000000",
          "2024-08-23T00:00:00.000000000",
          "2024-08-26T00:00:00.000000000",
          "2024-08-27T00:00:00.000000000",
          "2024-08-28T00:00:00.000000000",
          "2024-08-29T00:00:00.000000000",
          "2024-08-30T00:00:00.000000000",
          "2024-09-02T00:00:00.000000000",
          "2024-09-03T00:00:00.000000000",
          "2024-09-04T00:00:00.000000000",
          "2024-09-05T00:00:00.000000000",
          "2024-09-06T00:00:00.000000000",
          "2024-09-09T00:00:00.000000000",
          "2024-09-10T00:00:00.000000000",
          "2024-09-11T00:00:00.000000000",
          "2024-09-12T00:00:00.000000000",
          "2024-09-13T00:00:00.000000000",
          "2024-09-16T00:00:00.000000000",
          "2024-09-17T00:00:00.000000000",
          "2024-09-18T00:00:00.000000000",
          "2024-09-19T00:00:00.000000000",
          "2024-09-20T00:00:00.000000000",
          "2024-09-23T00:00:00.000000000",
          "2024-09-24T00:00:00.000000000",
          "2024-09-25T00:00:00.000000000",
          "2024-09-26T00:00:00.000000000",
          "2024-09-27T00:00:00.000000000",
          "2024-09-30T00:00:00.000000000",
          "2024-10-01T00:00:00.000000000",
          "2024-10-02T00:00:00.000000000",
          "2024-10-03T00:00:00.000000000",
          "2024-10-04T00:00:00.000000000",
          "2024-10-07T00:00:00.000000000",
          "2024-10-08T00:00:00.000000000",
          "2024-10-09T00:00:00.000000000",
          "2024-10-10T00:00:00.000000000",
          "2024-10-11T00:00:00.000000000",
          "2024-10-14T00:00:00.000000000",
          "2024-10-15T00:00:00.000000000",
          "2024-10-16T00:00:00.000000000",
          "2024-10-17T00:00:00.000000000",
          "2024-10-18T00:00:00.000000000",
          "2024-10-21T00:00:00.000000000",
          "2024-10-22T00:00:00.000000000",
          "2024-10-23T00:00:00.000000000",
          "2024-10-24T00:00:00.000000000",
          "2024-10-25T00:00:00.000000000",
          "2024-10-28T00:00:00.000000000",
          "2024-10-29T00:00:00.000000000",
          "2024-10-30T00:00:00.000000000",
          "2024-10-31T00:00:00.000000000",
          "2024-11-01T00:00:00.000000000",
          "2024-11-04T00:00:00.000000000",
          "2024-11-05T00:00:00.000000000",
          "2024-11-06T00:00:00.000000000",
          "2024-11-07T00:00:00.000000000",
          "2024-11-08T00:00:00.000000000",
          "2024-11-11T00:00:00.000000000",
          "2024-11-12T00:00:00.000000000",
          "2024-11-13T00:00:00.000000000",
          "2024-11-14T00:00:00.000000000",
          "2024-11-18T00:00:00.000000000",
          "2024-11-19T00:00:00.000000000",
          "2024-11-21T00:00:00.000000000",
          "2024-11-22T00:00:00.000000000",
          "2024-11-25T00:00:00.000000000",
          "2024-11-26T00:00:00.000000000",
          "2024-11-27T00:00:00.000000000",
          "2024-11-28T00:00:00.000000000",
          "2024-11-29T00:00:00.000000000",
          "2024-12-02T00:00:00.000000000",
          "2024-12-03T00:00:00.000000000",
          "2024-12-04T00:00:00.000000000",
          "2024-12-05T00:00:00.000000000",
          "2024-12-06T00:00:00.000000000",
          "2024-12-09T00:00:00.000000000",
          "2024-12-10T00:00:00.000000000",
          "2024-12-11T00:00:00.000000000",
          "2024-12-12T00:00:00.000000000",
          "2024-12-13T00:00:00.000000000",
          "2024-12-16T00:00:00.000000000",
          "2024-12-17T00:00:00.000000000",
          "2024-12-18T00:00:00.000000000",
          "2024-12-19T00:00:00.000000000",
          "2024-12-20T00:00:00.000000000",
          "2024-12-23T00:00:00.000000000",
          "2024-12-26T00:00:00.000000000",
          "2024-12-27T00:00:00.000000000",
          "2024-12-30T00:00:00.000000000",
          "2025-01-02T00:00:00.000000000",
          "2025-01-03T00:00:00.000000000",
          "2025-01-06T00:00:00.000000000",
          "2025-01-07T00:00:00.000000000",
          "2025-01-08T00:00:00.000000000",
          "2025-01-09T00:00:00.000000000",
          "2025-01-10T00:00:00.000000000",
          "2025-01-13T00:00:00.000000000",
          "2025-01-14T00:00:00.000000000",
          "2025-01-15T00:00:00.000000000",
          "2025-01-16T00:00:00.000000000",
          "2025-01-17T00:00:00.000000000",
          "2025-01-20T00:00:00.000000000",
          "2025-01-21T00:00:00.000000000",
          "2025-01-22T00:00:00.000000000",
          "2025-01-23T00:00:00.000000000",
          "2025-01-24T00:00:00.000000000",
          "2025-01-27T00:00:00.000000000",
          "2025-01-28T00:00:00.000000000",
          "2025-01-29T00:00:00.000000000",
          "2025-01-30T00:00:00.000000000",
          "2025-01-31T00:00:00.000000000",
          "2025-02-03T00:00:00.000000000",
          "2025-02-04T00:00:00.000000000",
          "2025-02-05T00:00:00.000000000",
          "2025-02-06T00:00:00.000000000",
          "2025-02-07T00:00:00.000000000",
          "2025-02-10T00:00:00.000000000",
          "2025-02-11T00:00:00.000000000",
          "2025-02-12T00:00:00.000000000",
          "2025-02-13T00:00:00.000000000",
          "2025-02-14T00:00:00.000000000",
          "2025-02-17T00:00:00.000000000",
          "2025-02-18T00:00:00.000000000",
          "2025-02-19T00:00:00.000000000",
          "2025-02-20T00:00:00.000000000",
          "2025-02-21T00:00:00.000000000",
          "2025-02-24T00:00:00.000000000",
          "2025-02-25T00:00:00.000000000",
          "2025-02-26T00:00:00.000000000",
          "2025-02-27T00:00:00.000000000",
          "2025-02-28T00:00:00.000000000",
          "2025-03-05T00:00:00.000000000",
          "2025-03-06T00:00:00.000000000",
          "2025-03-07T00:00:00.000000000",
          "2025-03-10T00:00:00.000000000",
          "2025-03-11T00:00:00.000000000",
          "2025-03-12T00:00:00.000000000",
          "2025-03-13T00:00:00.000000000",
          "2025-03-14T00:00:00.000000000",
          "2025-03-17T00:00:00.000000000",
          "2025-03-18T00:00:00.000000000",
          "2025-03-19T00:00:00.000000000",
          "2025-03-20T00:00:00.000000000",
          "2025-03-21T00:00:00.000000000",
          "2025-03-24T00:00:00.000000000",
          "2025-03-25T00:00:00.000000000",
          "2025-03-26T00:00:00.000000000",
          "2025-03-27T00:00:00.000000000",
          "2025-03-28T00:00:00.000000000",
          "2025-03-31T00:00:00.000000000",
          "2025-04-01T00:00:00.000000000",
          "2025-04-02T00:00:00.000000000",
          "2025-04-03T00:00:00.000000000",
          "2025-04-04T00:00:00.000000000",
          "2025-04-07T00:00:00.000000000",
          "2025-04-08T00:00:00.000000000",
          "2025-04-09T00:00:00.000000000",
          "2025-04-10T00:00:00.000000000",
          "2025-04-11T00:00:00.000000000",
          "2025-04-14T00:00:00.000000000",
          "2025-04-15T00:00:00.000000000",
          "2025-04-16T00:00:00.000000000",
          "2025-04-17T00:00:00.000000000",
          "2025-04-22T00:00:00.000000000",
          "2025-04-23T00:00:00.000000000",
          "2025-04-24T00:00:00.000000000",
          "2025-04-25T00:00:00.000000000",
          "2025-04-28T00:00:00.000000000",
          "2025-04-29T00:00:00.000000000",
          "2025-04-30T00:00:00.000000000",
          "2025-05-02T00:00:00.000000000",
          "2025-05-05T00:00:00.000000000",
          "2025-05-06T00:00:00.000000000",
          "2025-05-07T00:00:00.000000000",
          "2025-05-08T00:00:00.000000000",
          "2025-05-09T00:00:00.000000000",
          "2025-05-12T00:00:00.000000000",
          "2025-05-13T00:00:00.000000000",
          "2025-05-14T00:00:00.000000000",
          "2025-05-15T00:00:00.000000000",
          "2025-05-16T00:00:00.000000000",
          "2025-05-19T00:00:00.000000000",
          "2025-05-20T00:00:00.000000000",
          "2025-05-21T00:00:00.000000000",
          "2025-05-22T00:00:00.000000000",
          "2025-05-23T00:00:00.000000000",
          "2025-05-26T00:00:00.000000000",
          "2025-05-27T00:00:00.000000000",
          "2025-05-28T00:00:00.000000000",
          "2025-05-29T00:00:00.000000000",
          "2025-05-30T00:00:00.000000000",
          "2025-06-02T00:00:00.000000000",
          "2025-06-03T00:00:00.000000000",
          "2025-06-04T00:00:00.000000000",
          "2025-06-05T00:00:00.000000000",
          "2025-06-06T00:00:00.000000000",
          "2025-06-09T00:00:00.000000000",
          "2025-06-10T00:00:00.000000000",
          "2025-06-11T00:00:00.000000000",
          "2025-06-12T00:00:00.000000000",
          "2025-06-13T00:00:00.000000000",
          "2025-06-16T00:00:00.000000000",
          "2025-06-17T00:00:00.000000000",
          "2025-06-18T00:00:00.000000000",
          "2025-06-20T00:00:00.000000000",
          "2025-06-23T00:00:00.000000000",
          "2025-06-24T00:00:00.000000000",
          "2025-06-25T00:00:00.000000000",
          "2025-06-26T00:00:00.000000000",
          "2025-06-27T00:00:00.000000000",
          "2025-06-30T00:00:00.000000000",
          "2025-07-01T00:00:00.000000000",
          "2025-07-02T00:00:00.000000000",
          "2025-07-03T00:00:00.000000000",
          "2025-07-04T00:00:00.000000000",
          "2025-07-07T00:00:00.000000000",
          "2025-07-08T00:00:00.000000000",
          "2025-07-09T00:00:00.000000000",
          "2025-07-10T00:00:00.000000000",
          "2025-07-11T00:00:00.000000000",
          "2025-07-14T00:00:00.000000000",
          "2025-07-15T00:00:00.000000000",
          "2025-07-16T00:00:00.000000000",
          "2025-07-17T00:00:00.000000000",
          "2025-07-18T00:00:00.000000000",
          "2025-07-21T00:00:00.000000000",
          "2025-07-22T00:00:00.000000000",
          "2025-07-23T00:00:00.000000000",
          "2025-07-24T00:00:00.000000000",
          "2025-07-25T00:00:00.000000000",
          "2025-07-28T00:00:00.000000000",
          "2025-07-29T00:00:00.000000000",
          "2025-07-30T00:00:00.000000000",
          "2025-07-31T00:00:00.000000000",
          "2025-08-01T00:00:00.000000000",
          "2025-08-04T00:00:00.000000000",
          "2025-08-05T00:00:00.000000000",
          "2025-08-06T00:00:00.000000000",
          "2025-08-07T00:00:00.000000000",
          "2025-08-08T00:00:00.000000000",
          "2025-08-11T00:00:00.000000000",
          "2025-08-12T00:00:00.000000000",
          "2025-08-13T00:00:00.000000000",
          "2025-08-14T00:00:00.000000000",
          "2025-08-15T00:00:00.000000000",
          "2025-08-18T00:00:00.000000000",
          "2025-08-19T00:00:00.000000000",
          "2025-08-20T00:00:00.000000000",
          "2025-08-21T00:00:00.000000000",
          "2025-08-22T00:00:00.000000000",
          "2025-08-25T00:00:00.000000000",
          "2025-08-26T00:00:00.000000000",
          "2025-08-27T00:00:00.000000000",
          "2025-08-28T00:00:00.000000000",
          "2025-08-29T00:00:00.000000000",
          "2025-09-01T00:00:00.000000000",
          "2025-09-02T00:00:00.000000000",
          "2025-09-03T00:00:00.000000000",
          "2025-09-04T00:00:00.000000000",
          "2025-09-05T00:00:00.000000000",
          "2025-09-08T00:00:00.000000000",
          "2025-09-09T00:00:00.000000000",
          "2025-09-10T00:00:00.000000000",
          "2025-09-11T00:00:00.000000000",
          "2025-09-12T00:00:00.000000000",
          "2025-09-15T00:00:00.000000000",
          "2025-09-16T00:00:00.000000000",
          "2025-09-17T00:00:00.000000000",
          "2025-09-18T00:00:00.000000000",
          "2025-09-19T00:00:00.000000000",
          "2025-09-22T00:00:00.000000000",
          "2025-09-23T00:00:00.000000000",
          "2025-09-24T00:00:00.000000000",
          "2025-09-25T00:00:00.000000000",
          "2025-09-26T00:00:00.000000000",
          "2025-09-29T00:00:00.000000000",
          "2025-09-30T00:00:00.000000000",
          "2025-10-01T00:00:00.000000000",
          "2025-10-02T00:00:00.000000000",
          "2025-10-03T00:00:00.000000000"
         ],
         "y": {
          "bdata": "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",
          "dtype": "f8"
         },
         "yaxis": "y"
        }
       ],
       "layout": {
        "template": {
         "data": {
          "bar": [
           {
            "error_x": {
             "color": "#2a3f5f"
            },
            "error_y": {
             "color": "#2a3f5f"
            },
            "marker": {
             "line": {
              "color": "#E5ECF6",
              "width": 0.5
             },
             "pattern": {
              "fillmode": "overlay",
              "size": 10,
              "solidity": 0.2
             }
            },
            "type": "bar"
           }
          ],
          "barpolar": [
           {
            "marker": {
             "line": {
              "color": "#E5ECF6",
              "width": 0.5
             },
             "pattern": {
              "fillmode": "overlay",
              "size": 10,
              "solidity": 0.2
             }
            },
            "type": "barpolar"
           }
          ],
          "carpet": [
           {
            "aaxis": {
             "endlinecolor": "#2a3f5f",
             "gridcolor": "white",
             "linecolor": "white",
             "minorgridcolor": "white",
             "startlinecolor": "#2a3f5f"
            },
            "baxis": {
             "endlinecolor": "#2a3f5f",
             "gridcolor": "white",
             "linecolor": "white",
             "minorgridcolor": "white",
             "startlinecolor": "#2a3f5f"
            },
            "type": "carpet"
           }
          ],
          "choropleth": [
           {
            "colorbar": {
             "outlinewidth": 0,
             "ticks": ""
            },
            "type": "choropleth"
           }
          ],
          "contour": [
           {
            "colorbar": {
             "outlinewidth": 0,
             "ticks": ""
            },
            "colorscale": [
             [
              0,
              "#0d0887"
             ],
             [
              0.1111111111111111,
              "#46039f"
             ],
             [
              0.2222222222222222,
              "#7201a8"
             ],
             [
              0.3333333333333333,
              "#9c179e"
             ],
             [
              0.4444444444444444,
              "#bd3786"
             ],
             [
              0.5555555555555556,
              "#d8576b"
             ],
             [
              0.6666666666666666,
              "#ed7953"
             ],
             [
              0.7777777777777778,
              "#fb9f3a"
             ],
             [
              0.8888888888888888,
              "#fdca26"
             ],
             [
              1,
              "#f0f921"
             ]
            ],
            "type": "contour"
           }
          ],
          "contourcarpet": [
           {
            "colorbar": {
             "outlinewidth": 0,
             "ticks": ""
            },
            "type": "contourcarpet"
           }
          ],
          "heatmap": [
           {
            "colorbar": {
             "outlinewidth": 0,
             "ticks": ""
            },
            "colorscale": [
             [
              0,
              "#0d0887"
             ],
             [
              0.1111111111111111,
              "#46039f"
             ],
             [
              0.2222222222222222,
              "#7201a8"
             ],
             [
              0.3333333333333333,
              "#9c179e"
             ],
             [
              0.4444444444444444,
              "#bd3786"
             ],
             [
              0.5555555555555556,
              "#d8576b"
             ],
             [
              0.6666666666666666,
              "#ed7953"
             ],
             [
              0.7777777777777778,
              "#fb9f3a"
             ],
             [
              0.8888888888888888,
              "#fdca26"
             ],
             [
              1,
              "#f0f921"
             ]
            ],
            "type": "heatmap"
           }
          ],
          "histogram": [
           {
            "marker": {
             "pattern": {
              "fillmode": "overlay",
              "size": 10,
              "solidity": 0.2
             }
            },
            "type": "histogram"
           }
          ],
          "histogram2d": [
           {
            "colorbar": {
             "outlinewidth": 0,
             "ticks": ""
            },
            "colorscale": [
             [
              0,
              "#0d0887"
             ],
             [
              0.1111111111111111,
              "#46039f"
             ],
             [
              0.2222222222222222,
              "#7201a8"
             ],
             [
              0.3333333333333333,
              "#9c179e"
             ],
             [
              0.4444444444444444,
              "#bd3786"
             ],
             [
              0.5555555555555556,
              "#d8576b"
             ],
             [
              0.6666666666666666,
              "#ed7953"
             ],
             [
              0.7777777777777778,
              "#fb9f3a"
             ],
             [
              0.8888888888888888,
              "#fdca26"
             ],
             [
              1,
              "#f0f921"
             ]
            ],
            "type": "histogram2d"
           }
          ],
          "histogram2dcontour": [
           {
            "colorbar": {
             "outlinewidth": 0,
             "ticks": ""
            },
            "colorscale": [
             [
              0,
              "#0d0887"
             ],
             [
              0.1111111111111111,
              "#46039f"
             ],
             [
              0.2222222222222222,
              "#7201a8"
             ],
             [
              0.3333333333333333,
              "#9c179e"
             ],
             [
              0.4444444444444444,
              "#bd3786"
             ],
             [
              0.5555555555555556,
              "#d8576b"
             ],
             [
              0.6666666666666666,
              "#ed7953"
             ],
             [
              0.7777777777777778,
              "#fb9f3a"
             ],
             [
              0.8888888888888888,
              "#fdca26"
             ],
             [
              1,
              "#f0f921"
             ]
            ],
            "type": "histogram2dcontour"
           }
          ],
          "mesh3d": [
           {
            "colorbar": {
             "outlinewidth": 0,
             "ticks": ""
            },
            "type": "mesh3d"
           }
          ],
          "parcoords": [
           {
            "line": {
             "colorbar": {
              "outlinewidth": 0,
              "ticks": ""
             }
            },
            "type": "parcoords"
           }
          ],
          "pie": [
           {
            "automargin": true,
            "type": "pie"
           }
          ],
          "scatter": [
           {
            "fillpattern": {
             "fillmode": "overlay",
             "size": 10,
             "solidity": 0.2
            },
            "type": "scatter"
           }
          ],
          "scatter3d": [
           {
            "line": {
             "colorbar": {
              "outlinewidth": 0,
              "ticks": ""
             }
            },
            "marker": {
             "colorbar": {
              "outlinewidth": 0,
              "ticks": ""
             }
            },
            "type": "scatter3d"
           }
          ],
          "scattercarpet": [
           {
            "marker": {
             "colorbar": {
              "outlinewidth": 0,
              "ticks": ""
             }
            },
            "type": "scattercarpet"
           }
          ],
          "scattergeo": [
           {
            "marker": {
             "colorbar": {
              "outlinewidth": 0,
              "ticks": ""
             }
            },
            "type": "scattergeo"
           }
          ],
          "scattergl": [
           {
            "marker": {
             "colorbar": {
              "outlinewidth": 0,
              "ticks": ""
             }
            },
            "type": "scattergl"
           }
          ],
          "scattermap": [
           {
            "marker": {
             "colorbar": {
              "outlinewidth": 0,
              "ticks": ""
             }
            },
            "type": "scattermap"
           }
          ],
          "scattermapbox": [
           {
            "marker": {
             "colorbar": {
              "outlinewidth": 0,
              "ticks": ""
             }
            },
            "type": "scattermapbox"
           }
          ],
          "scatterpolar": [
           {
            "marker": {
             "colorbar": {
              "outlinewidth": 0,
              "ticks": ""
             }
            },
            "type": "scatterpolar"
           }
          ],
          "scatterpolargl": [
           {
            "marker": {
             "colorbar": {
              "outlinewidth": 0,
              "ticks": ""
             }
            },
            "type": "scatterpolargl"
           }
          ],
          "scatterternary": [
           {
            "marker": {
             "colorbar": {
              "outlinewidth": 0,
              "ticks": ""
             }
            },
            "type": "scatterternary"
           }
          ],
          "surface": [
           {
            "colorbar": {
             "outlinewidth": 0,
             "ticks": ""
            },
            "colorscale": [
             [
              0,
              "#0d0887"
             ],
             [
              0.1111111111111111,
              "#46039f"
             ],
             [
              0.2222222222222222,
              "#7201a8"
             ],
             [
              0.3333333333333333,
              "#9c179e"
             ],
             [
              0.4444444444444444,
              "#bd3786"
             ],
             [
              0.5555555555555556,
              "#d8576b"
             ],
             [
              0.6666666666666666,
              "#ed7953"
             ],
             [
              0.7777777777777778,
              "#fb9f3a"
             ],
             [
              0.8888888888888888,
              "#fdca26"
             ],
             [
              1,
              "#f0f921"
             ]
            ],
            "type": "surface"
           }
          ],
          "table": [
           {
            "cells": {
             "fill": {
              "color": "#EBF0F8"
             },
             "line": {
              "color": "white"
             }
            },
            "header": {
             "fill": {
              "color": "#C8D4E3"
             },
             "line": {
              "color": "white"
             }
            },
            "type": "table"
           }
          ]
         },
         "layout": {
          "annotationdefaults": {
           "arrowcolor": "#2a3f5f",
           "arrowhead": 0,
           "arrowwidth": 1
          },
          "autotypenumbers": "strict",
          "coloraxis": {
           "colorbar": {
            "outlinewidth": 0,
            "ticks": ""
           }
          },
          "colorscale": {
           "diverging": [
            [
             0,
             "#8e0152"
            ],
            [
             0.1,
             "#c51b7d"
            ],
            [
             0.2,
             "#de77ae"
            ],
            [
             0.3,
             "#f1b6da"
            ],
            [
             0.4,
             "#fde0ef"
            ],
            [
             0.5,
             "#f7f7f7"
            ],
            [
             0.6,
             "#e6f5d0"
            ],
            [
             0.7,
             "#b8e186"
            ],
            [
             0.8,
             "#7fbc41"
            ],
            [
             0.9,
             "#4d9221"
            ],
            [
             1,
             "#276419"
            ]
           ],
           "sequential": [
            [
             0,
             "#0d0887"
            ],
            [
             0.1111111111111111,
             "#46039f"
            ],
            [
             0.2222222222222222,
             "#7201a8"
            ],
            [
             0.3333333333333333,
             "#9c179e"
            ],
            [
             0.4444444444444444,
             "#bd3786"
            ],
            [
             0.5555555555555556,
             "#d8576b"
            ],
            [
             0.6666666666666666,
             "#ed7953"
            ],
            [
             0.7777777777777778,
             "#fb9f3a"
            ],
            [
             0.8888888888888888,
             "#fdca26"
            ],
            [
             1,
             "#f0f921"
            ]
           ],
           "sequentialminus": [
            [
             0,
             "#0d0887"
            ],
            [
             0.1111111111111111,
             "#46039f"
            ],
            [
             0.2222222222222222,
             "#7201a8"
            ],
            [
             0.3333333333333333,
             "#9c179e"
            ],
            [
             0.4444444444444444,
             "#bd3786"
            ],
            [
             0.5555555555555556,
             "#d8576b"
            ],
            [
             0.6666666666666666,
             "#ed7953"
            ],
            [
             0.7777777777777778,
             "#fb9f3a"
            ],
            [
             0.8888888888888888,
             "#fdca26"
            ],
            [
             1,
             "#f0f921"
            ]
           ]
          },
          "colorway": [
           "#636efa",
           "#EF553B",
           "#00cc96",
           "#ab63fa",
           "#FFA15A",
           "#19d3f3",
           "#FF6692",
           "#B6E880",
           "#FF97FF",
           "#FECB52"
          ],
          "font": {
           "color": "#2a3f5f"
          },
          "geo": {
           "bgcolor": "white",
           "lakecolor": "white",
           "landcolor": "#E5ECF6",
           "showlakes": true,
           "showland": true,
           "subunitcolor": "white"
          },
          "hoverlabel": {
           "align": "left"
          },
          "hovermode": "closest",
          "mapbox": {
           "style": "light"
          },
          "paper_bgcolor": "white",
          "plot_bgcolor": "#E5ECF6",
          "polar": {
           "angularaxis": {
            "gridcolor": "white",
            "linecolor": "white",
            "ticks": ""
           },
           "bgcolor": "#E5ECF6",
           "radialaxis": {
            "gridcolor": "white",
            "linecolor": "white",
            "ticks": ""
           }
          },
          "scene": {
           "xaxis": {
            "backgroundcolor": "#E5ECF6",
            "gridcolor": "white",
            "gridwidth": 2,
            "linecolor": "white",
            "showbackground": true,
            "ticks": "",
            "zerolinecolor": "white"
           },
           "yaxis": {
            "backgroundcolor": "#E5ECF6",
            "gridcolor": "white",
            "gridwidth": 2,
            "linecolor": "white",
            "showbackground": true,
            "ticks": "",
            "zerolinecolor": "white"
           },
           "zaxis": {
            "backgroundcolor": "#E5ECF6",
            "gridcolor": "white",
            "gridwidth": 2,
            "linecolor": "white",
            "showbackground": true,
            "ticks": "",
            "zerolinecolor": "white"
           }
          },
          "shapedefaults": {
           "line": {
            "color": "#2a3f5f"
           }
          },
          "ternary": {
           "aaxis": {
            "gridcolor": "white",
            "linecolor": "white",
            "ticks": ""
           },
           "baxis": {
            "gridcolor": "white",
            "linecolor": "white",
            "ticks": ""
           },
           "bgcolor": "#E5ECF6",
           "caxis": {
            "gridcolor": "white",
            "linecolor": "white",
            "ticks": ""
           }
          },
          "title": {
           "x": 0.05
          },
          "xaxis": {
           "automargin": true,
           "gridcolor": "white",
           "linecolor": "white",
           "ticks": "",
           "title": {
            "standoff": 15
           },
           "zerolinecolor": "white",
           "zerolinewidth": 2
          },
          "yaxis": {
           "automargin": true,
           "gridcolor": "white",
           "linecolor": "white",
           "ticks": "",
           "title": {
            "standoff": 15
           },
           "zerolinecolor": "white",
           "zerolinewidth": 2
          }
         }
        }
       }
      }
     },
     "metadata": {},
     "output_type": "display_data"
    }
   ],
   "source": [
    "fig = go.Figure()\n",
    "\n",
    "fig.add_trace(go.Scatter(\n",
    "    y=data[\"Close\"][\"PETR4.SA\"],\n",
    "    x=data.index,\n",
    "    name=\"Preço PETR4.SA\",\n",
    "    yaxis=\"y1\"\n",
    "))\n",
    "\n",
    "\n",
    "fig.show(fig_type=\"png\")"
   ]
  },
  {
   "cell_type": "code",
   "execution_count": 22,
   "id": "d01899f8",
   "metadata": {},
   "outputs": [],
   "source": [
    "np.random.seed(42)\n",
    "n_points = 1000\n",
    "trend = np.linspace(0, 10, n_points)\n",
    "noise_trend = np.cumsum(standard_normal(n_points) * 0.1)\n",
    "mean_reversion = np.zeros(n_points)\n",
    "for t in range(1, n_points):\n",
    "    mean_reversion[t] = mean_reversion[t-1] * 0.6 + standard_normal() * 0.5\n",
    "brownian = np.cumsum(standard_normal(n_points))"
   ]
  },
  {
   "cell_type": "code",
   "execution_count": 23,
   "id": "77aea94b",
   "metadata": {},
   "outputs": [
    {
     "data": {
      "text/plain": [
       "(0.6419241912818302, 0.000952023886777138)"
      ]
     },
     "execution_count": 23,
     "metadata": {},
     "output_type": "execute_result"
    }
   ],
   "source": [
    "hurst_exponent(noise_trend)"
   ]
  },
  {
   "cell_type": "code",
   "execution_count": 24,
   "id": "df47c202",
   "metadata": {},
   "outputs": [
    {
     "data": {
      "text/plain": [
       "(0.3685698852341455, 0.05402692976986088)"
      ]
     },
     "execution_count": 24,
     "metadata": {},
     "output_type": "execute_result"
    }
   ],
   "source": [
    "hurst_exponent(mean_reversion)"
   ]
  },
  {
   "cell_type": "code",
   "execution_count": 25,
   "id": "c80e44d7",
   "metadata": {},
   "outputs": [
    {
     "data": {
      "text/plain": [
       "(0.8575205638768405, 0.0014654668633357023)"
      ]
     },
     "execution_count": 25,
     "metadata": {},
     "output_type": "execute_result"
    }
   ],
   "source": [
    "hurst_exponent(pure_sine)"
   ]
  },
  {
   "cell_type": "markdown",
   "id": "3a28410e",
   "metadata": {},
   "source": [
    "# Pattern Stability Index"
   ]
  },
  {
   "cell_type": "code",
   "execution_count": 27,
   "id": "a83f3609",
   "metadata": {},
   "outputs": [
    {
     "data": {
      "text/plain": [
       "np.float64(0.1364091685816982)"
      ]
     },
     "execution_count": 27,
     "metadata": {},
     "output_type": "execute_result"
    }
   ],
   "source": [
    "pattern_stability_index(r)"
   ]
  },
  {
   "cell_type": "code",
   "execution_count": 37,
   "id": "9213da2f",
   "metadata": {},
   "outputs": [
    {
     "data": {
      "text/plain": [
       "np.float64(0.7229283603613793)"
      ]
     },
     "execution_count": 37,
     "metadata": {},
     "output_type": "execute_result"
    }
   ],
   "source": [
    "pattern_stability_index(noise_trend)"
   ]
  },
  {
   "cell_type": "code",
   "execution_count": 29,
   "id": "70966c44",
   "metadata": {},
   "outputs": [
    {
     "data": {
      "text/plain": [
       "np.float64(0.8656234267494547)"
      ]
     },
     "execution_count": 29,
     "metadata": {},
     "output_type": "execute_result"
    }
   ],
   "source": [
    "pattern_stability_index(pure_sine)"
   ]
  }
 ],
 "metadata": {
  "kernelspec": {
   "display_name": "tinyshift",
   "language": "python",
   "name": "python3"
  },
  "language_info": {
   "codemirror_mode": {
    "name": "ipython",
    "version": 3
   },
   "file_extension": ".py",
   "mimetype": "text/x-python",
   "name": "python",
   "nbconvert_exporter": "python",
   "pygments_lexer": "ipython3",
   "version": "3.12.3"
  }
 },
 "nbformat": 4,
 "nbformat_minor": 5
}
