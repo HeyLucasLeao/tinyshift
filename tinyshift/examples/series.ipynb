{
 "cells": [
  {
   "cell_type": "code",
   "execution_count": 1,
   "id": "f56fe688",
   "metadata": {},
   "outputs": [],
   "source": [
    "import sys\n",
    "import os\n",
    "sys.path.append(os.path.abspath(\"../..\"))\n",
    "import numpy as np\n",
    "import yfinance as yf\n",
    "import plotly.express as px\n",
    "from tinyshift.series import *\n",
    "from tinyshift.stats import trailing_window, mad\n",
    "from numpy.random import standard_normal"
   ]
  },
  {
   "cell_type": "code",
   "execution_count": 2,
   "id": "3e5496d5",
   "metadata": {},
   "outputs": [
    {
     "name": "stderr",
     "output_type": "stream",
     "text": [
      "[*********************100%***********************]  1 of 1 completed\n"
     ]
    }
   ],
   "source": [
    "ticker = 'PETR4.SA'\n",
    "period = '2y'\n",
    "data = yf.download(ticker, period=period, interval=\"1d\", auto_adjust=True)\n",
    "t = np.linspace(0, 10, 1000)\n",
    "pure_sine = np.sin(2 * np.pi * 1 * t)  # Perfectly forecastable"
   ]
  },
  {
   "cell_type": "code",
   "execution_count": 3,
   "id": "98b6bb91",
   "metadata": {},
   "outputs": [],
   "source": [
    "r = standardize_returns(data[\"Close\"][\"PETR4.SA\"], log=False)"
   ]
  },
  {
   "cell_type": "markdown",
   "id": "20d495d4",
   "metadata": {},
   "source": [
    "# RSI"
   ]
  },
  {
   "cell_type": "code",
   "execution_count": 4,
   "id": "6ae9593c",
   "metadata": {},
   "outputs": [],
   "source": [
    "vol_rsi = relative_strength_index(data[\"Close\"][\"PETR4.SA\"], rolling_window=14)"
   ]
  },
  {
   "cell_type": "code",
   "execution_count": 5,
   "id": "f05842ae",
   "metadata": {},
   "outputs": [
    {
     "data": {
      "application/vnd.plotly.v1+json": {
       "config": {
        "plotlyServerURL": "https://plot.ly"
       },
       "data": [
        {
         "hovertemplate": "variable=0<br>index=%{x}<br>value=%{y}<extra></extra>",
         "legendgroup": "0",
         "line": {
          "color": "#636efa",
          "dash": "solid"
         },
         "marker": {
          "symbol": "circle"
         },
         "mode": "lines",
         "name": "0",
         "orientation": "v",
         "showlegend": true,
         "type": "scatter",
         "x": {
          "bdata": "AAABAAIAAwAEAAUABgAHAAgACQAKAAsADAANAA4ADwAQABEAEgATABQAFQAWABcAGAAZABoAGwAcAB0AHgAfACAAIQAiACMAJAAlACYAJwAoACkAKgArACwALQAuAC8AMAAxADIAMwA0ADUANgA3ADgAOQA6ADsAPAA9AD4APwBAAEEAQgBDAEQARQBGAEcASABJAEoASwBMAE0ATgBPAFAAUQBSAFMAVABVAFYAVwBYAFkAWgBbAFwAXQBeAF8AYABhAGIAYwBkAGUAZgBnAGgAaQBqAGsAbABtAG4AbwBwAHEAcgBzAHQAdQB2AHcAeAB5AHoAewB8AH0AfgB/AIAAgQCCAIMAhACFAIYAhwCIAIkAigCLAIwAjQCOAI8AkACRAJIAkwCUAJUAlgCXAJgAmQCaAJsAnACdAJ4AnwCgAKEAogCjAKQApQCmAKcAqACpAKoAqwCsAK0ArgCvALAAsQCyALMAtAC1ALYAtwC4ALkAugC7ALwAvQC+AL8AwADBAMIAwwDEAMUAxgDHAMgAyQDKAMsAzADNAM4AzwDQANEA0gDTANQA1QDWANcA2ADZANoA2wDcAN0A3gDfAOAA4QDiAOMA5ADlAOYA5wDoAOkA6gDrAOwA7QDuAO8A8ADxAPIA8wD0APUA9gD3APgA+QD6APsA/AD9AP4A/wAAAQEBAgEDAQQBBQEGAQcBCAEJAQoBCwEMAQ0BDgEPARABEQESARMBFAEVARYBFwEYARkBGgEbARwBHQEeAR8BIAEhASIBIwEkASUBJgEnASgBKQEqASsBLAEtAS4BLwEwATEBMgEzATQBNQE2ATcBOAE5AToBOwE8AT0BPgE/AUABQQFCAUMBRAFFAUYBRwFIAUkBSgFLAUwBTQFOAU8BUAFRAVIBUwFUAVUBVgFXAVgBWQFaAVsBXAFdAV4BXwFgAWEBYgFjAWQBZQFmAWcBaAFpAWoBawFsAW0BbgFvAXABcQFyAXMBdAF1AXYBdwF4AXkBegF7AXwBfQF+AX8BgAGBAYIBgwGEAYUBhgGHAYgBiQGKAYsBjAGNAY4BjwGQAZEBkgGTAZQBlQGWAZcBmAGZAZoBmwGcAZ0BngGfAaABoQGiAaMBpAGlAaYBpwGoAakBqgGrAawBrQGuAa8BsAGxAbIBswG0AbUBtgG3AbgBuQG6AbsBvAG9Ab4BvwHAAcEBwgHDAcQBxQHGAccByAHJAcoBywHMAc0BzgHPAdAB0QHSAdMB1AHVAdYB1wHYAdkB2gHbAdwB3QHeAd8B4AHhAeIB4wHkAeUB5gHnAegB6QHqAesB7AHtAe4B7wHwAfEB8gHzAfQB",
          "dtype": "i2"
         },
         "xaxis": "x",
         "y": {
          "bdata": "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",
          "dtype": "f8"
         },
         "yaxis": "y"
        }
       ],
       "layout": {
        "legend": {
         "title": {
          "text": "variable"
         },
         "tracegroupgap": 0
        },
        "template": {
         "data": {
          "bar": [
           {
            "error_x": {
             "color": "#2a3f5f"
            },
            "error_y": {
             "color": "#2a3f5f"
            },
            "marker": {
             "line": {
              "color": "#E5ECF6",
              "width": 0.5
             },
             "pattern": {
              "fillmode": "overlay",
              "size": 10,
              "solidity": 0.2
             }
            },
            "type": "bar"
           }
          ],
          "barpolar": [
           {
            "marker": {
             "line": {
              "color": "#E5ECF6",
              "width": 0.5
             },
             "pattern": {
              "fillmode": "overlay",
              "size": 10,
              "solidity": 0.2
             }
            },
            "type": "barpolar"
           }
          ],
          "carpet": [
           {
            "aaxis": {
             "endlinecolor": "#2a3f5f",
             "gridcolor": "white",
             "linecolor": "white",
             "minorgridcolor": "white",
             "startlinecolor": "#2a3f5f"
            },
            "baxis": {
             "endlinecolor": "#2a3f5f",
             "gridcolor": "white",
             "linecolor": "white",
             "minorgridcolor": "white",
             "startlinecolor": "#2a3f5f"
            },
            "type": "carpet"
           }
          ],
          "choropleth": [
           {
            "colorbar": {
             "outlinewidth": 0,
             "ticks": ""
            },
            "type": "choropleth"
           }
          ],
          "contour": [
           {
            "colorbar": {
             "outlinewidth": 0,
             "ticks": ""
            },
            "colorscale": [
             [
              0,
              "#0d0887"
             ],
             [
              0.1111111111111111,
              "#46039f"
             ],
             [
              0.2222222222222222,
              "#7201a8"
             ],
             [
              0.3333333333333333,
              "#9c179e"
             ],
             [
              0.4444444444444444,
              "#bd3786"
             ],
             [
              0.5555555555555556,
              "#d8576b"
             ],
             [
              0.6666666666666666,
              "#ed7953"
             ],
             [
              0.7777777777777778,
              "#fb9f3a"
             ],
             [
              0.8888888888888888,
              "#fdca26"
             ],
             [
              1,
              "#f0f921"
             ]
            ],
            "type": "contour"
           }
          ],
          "contourcarpet": [
           {
            "colorbar": {
             "outlinewidth": 0,
             "ticks": ""
            },
            "type": "contourcarpet"
           }
          ],
          "heatmap": [
           {
            "colorbar": {
             "outlinewidth": 0,
             "ticks": ""
            },
            "colorscale": [
             [
              0,
              "#0d0887"
             ],
             [
              0.1111111111111111,
              "#46039f"
             ],
             [
              0.2222222222222222,
              "#7201a8"
             ],
             [
              0.3333333333333333,
              "#9c179e"
             ],
             [
              0.4444444444444444,
              "#bd3786"
             ],
             [
              0.5555555555555556,
              "#d8576b"
             ],
             [
              0.6666666666666666,
              "#ed7953"
             ],
             [
              0.7777777777777778,
              "#fb9f3a"
             ],
             [
              0.8888888888888888,
              "#fdca26"
             ],
             [
              1,
              "#f0f921"
             ]
            ],
            "type": "heatmap"
           }
          ],
          "histogram": [
           {
            "marker": {
             "pattern": {
              "fillmode": "overlay",
              "size": 10,
              "solidity": 0.2
             }
            },
            "type": "histogram"
           }
          ],
          "histogram2d": [
           {
            "colorbar": {
             "outlinewidth": 0,
             "ticks": ""
            },
            "colorscale": [
             [
              0,
              "#0d0887"
             ],
             [
              0.1111111111111111,
              "#46039f"
             ],
             [
              0.2222222222222222,
              "#7201a8"
             ],
             [
              0.3333333333333333,
              "#9c179e"
             ],
             [
              0.4444444444444444,
              "#bd3786"
             ],
             [
              0.5555555555555556,
              "#d8576b"
             ],
             [
              0.6666666666666666,
              "#ed7953"
             ],
             [
              0.7777777777777778,
              "#fb9f3a"
             ],
             [
              0.8888888888888888,
              "#fdca26"
             ],
             [
              1,
              "#f0f921"
             ]
            ],
            "type": "histogram2d"
           }
          ],
          "histogram2dcontour": [
           {
            "colorbar": {
             "outlinewidth": 0,
             "ticks": ""
            },
            "colorscale": [
             [
              0,
              "#0d0887"
             ],
             [
              0.1111111111111111,
              "#46039f"
             ],
             [
              0.2222222222222222,
              "#7201a8"
             ],
             [
              0.3333333333333333,
              "#9c179e"
             ],
             [
              0.4444444444444444,
              "#bd3786"
             ],
             [
              0.5555555555555556,
              "#d8576b"
             ],
             [
              0.6666666666666666,
              "#ed7953"
             ],
             [
              0.7777777777777778,
              "#fb9f3a"
             ],
             [
              0.8888888888888888,
              "#fdca26"
             ],
             [
              1,
              "#f0f921"
             ]
            ],
            "type": "histogram2dcontour"
           }
          ],
          "mesh3d": [
           {
            "colorbar": {
             "outlinewidth": 0,
             "ticks": ""
            },
            "type": "mesh3d"
           }
          ],
          "parcoords": [
           {
            "line": {
             "colorbar": {
              "outlinewidth": 0,
              "ticks": ""
             }
            },
            "type": "parcoords"
           }
          ],
          "pie": [
           {
            "automargin": true,
            "type": "pie"
           }
          ],
          "scatter": [
           {
            "fillpattern": {
             "fillmode": "overlay",
             "size": 10,
             "solidity": 0.2
            },
            "type": "scatter"
           }
          ],
          "scatter3d": [
           {
            "line": {
             "colorbar": {
              "outlinewidth": 0,
              "ticks": ""
             }
            },
            "marker": {
             "colorbar": {
              "outlinewidth": 0,
              "ticks": ""
             }
            },
            "type": "scatter3d"
           }
          ],
          "scattercarpet": [
           {
            "marker": {
             "colorbar": {
              "outlinewidth": 0,
              "ticks": ""
             }
            },
            "type": "scattercarpet"
           }
          ],
          "scattergeo": [
           {
            "marker": {
             "colorbar": {
              "outlinewidth": 0,
              "ticks": ""
             }
            },
            "type": "scattergeo"
           }
          ],
          "scattergl": [
           {
            "marker": {
             "colorbar": {
              "outlinewidth": 0,
              "ticks": ""
             }
            },
            "type": "scattergl"
           }
          ],
          "scattermap": [
           {
            "marker": {
             "colorbar": {
              "outlinewidth": 0,
              "ticks": ""
             }
            },
            "type": "scattermap"
           }
          ],
          "scattermapbox": [
           {
            "marker": {
             "colorbar": {
              "outlinewidth": 0,
              "ticks": ""
             }
            },
            "type": "scattermapbox"
           }
          ],
          "scatterpolar": [
           {
            "marker": {
             "colorbar": {
              "outlinewidth": 0,
              "ticks": ""
             }
            },
            "type": "scatterpolar"
           }
          ],
          "scatterpolargl": [
           {
            "marker": {
             "colorbar": {
              "outlinewidth": 0,
              "ticks": ""
             }
            },
            "type": "scatterpolargl"
           }
          ],
          "scatterternary": [
           {
            "marker": {
             "colorbar": {
              "outlinewidth": 0,
              "ticks": ""
             }
            },
            "type": "scatterternary"
           }
          ],
          "surface": [
           {
            "colorbar": {
             "outlinewidth": 0,
             "ticks": ""
            },
            "colorscale": [
             [
              0,
              "#0d0887"
             ],
             [
              0.1111111111111111,
              "#46039f"
             ],
             [
              0.2222222222222222,
              "#7201a8"
             ],
             [
              0.3333333333333333,
              "#9c179e"
             ],
             [
              0.4444444444444444,
              "#bd3786"
             ],
             [
              0.5555555555555556,
              "#d8576b"
             ],
             [
              0.6666666666666666,
              "#ed7953"
             ],
             [
              0.7777777777777778,
              "#fb9f3a"
             ],
             [
              0.8888888888888888,
              "#fdca26"
             ],
             [
              1,
              "#f0f921"
             ]
            ],
            "type": "surface"
           }
          ],
          "table": [
           {
            "cells": {
             "fill": {
              "color": "#EBF0F8"
             },
             "line": {
              "color": "white"
             }
            },
            "header": {
             "fill": {
              "color": "#C8D4E3"
             },
             "line": {
              "color": "white"
             }
            },
            "type": "table"
           }
          ]
         },
         "layout": {
          "annotationdefaults": {
           "arrowcolor": "#2a3f5f",
           "arrowhead": 0,
           "arrowwidth": 1
          },
          "autotypenumbers": "strict",
          "coloraxis": {
           "colorbar": {
            "outlinewidth": 0,
            "ticks": ""
           }
          },
          "colorscale": {
           "diverging": [
            [
             0,
             "#8e0152"
            ],
            [
             0.1,
             "#c51b7d"
            ],
            [
             0.2,
             "#de77ae"
            ],
            [
             0.3,
             "#f1b6da"
            ],
            [
             0.4,
             "#fde0ef"
            ],
            [
             0.5,
             "#f7f7f7"
            ],
            [
             0.6,
             "#e6f5d0"
            ],
            [
             0.7,
             "#b8e186"
            ],
            [
             0.8,
             "#7fbc41"
            ],
            [
             0.9,
             "#4d9221"
            ],
            [
             1,
             "#276419"
            ]
           ],
           "sequential": [
            [
             0,
             "#0d0887"
            ],
            [
             0.1111111111111111,
             "#46039f"
            ],
            [
             0.2222222222222222,
             "#7201a8"
            ],
            [
             0.3333333333333333,
             "#9c179e"
            ],
            [
             0.4444444444444444,
             "#bd3786"
            ],
            [
             0.5555555555555556,
             "#d8576b"
            ],
            [
             0.6666666666666666,
             "#ed7953"
            ],
            [
             0.7777777777777778,
             "#fb9f3a"
            ],
            [
             0.8888888888888888,
             "#fdca26"
            ],
            [
             1,
             "#f0f921"
            ]
           ],
           "sequentialminus": [
            [
             0,
             "#0d0887"
            ],
            [
             0.1111111111111111,
             "#46039f"
            ],
            [
             0.2222222222222222,
             "#7201a8"
            ],
            [
             0.3333333333333333,
             "#9c179e"
            ],
            [
             0.4444444444444444,
             "#bd3786"
            ],
            [
             0.5555555555555556,
             "#d8576b"
            ],
            [
             0.6666666666666666,
             "#ed7953"
            ],
            [
             0.7777777777777778,
             "#fb9f3a"
            ],
            [
             0.8888888888888888,
             "#fdca26"
            ],
            [
             1,
             "#f0f921"
            ]
           ]
          },
          "colorway": [
           "#636efa",
           "#EF553B",
           "#00cc96",
           "#ab63fa",
           "#FFA15A",
           "#19d3f3",
           "#FF6692",
           "#B6E880",
           "#FF97FF",
           "#FECB52"
          ],
          "font": {
           "color": "#2a3f5f"
          },
          "geo": {
           "bgcolor": "white",
           "lakecolor": "white",
           "landcolor": "#E5ECF6",
           "showlakes": true,
           "showland": true,
           "subunitcolor": "white"
          },
          "hoverlabel": {
           "align": "left"
          },
          "hovermode": "closest",
          "mapbox": {
           "style": "light"
          },
          "paper_bgcolor": "white",
          "plot_bgcolor": "#E5ECF6",
          "polar": {
           "angularaxis": {
            "gridcolor": "white",
            "linecolor": "white",
            "ticks": ""
           },
           "bgcolor": "#E5ECF6",
           "radialaxis": {
            "gridcolor": "white",
            "linecolor": "white",
            "ticks": ""
           }
          },
          "scene": {
           "xaxis": {
            "backgroundcolor": "#E5ECF6",
            "gridcolor": "white",
            "gridwidth": 2,
            "linecolor": "white",
            "showbackground": true,
            "ticks": "",
            "zerolinecolor": "white"
           },
           "yaxis": {
            "backgroundcolor": "#E5ECF6",
            "gridcolor": "white",
            "gridwidth": 2,
            "linecolor": "white",
            "showbackground": true,
            "ticks": "",
            "zerolinecolor": "white"
           },
           "zaxis": {
            "backgroundcolor": "#E5ECF6",
            "gridcolor": "white",
            "gridwidth": 2,
            "linecolor": "white",
            "showbackground": true,
            "ticks": "",
            "zerolinecolor": "white"
           }
          },
          "shapedefaults": {
           "line": {
            "color": "#2a3f5f"
           }
          },
          "ternary": {
           "aaxis": {
            "gridcolor": "white",
            "linecolor": "white",
            "ticks": ""
           },
           "baxis": {
            "gridcolor": "white",
            "linecolor": "white",
            "ticks": ""
           },
           "bgcolor": "#E5ECF6",
           "caxis": {
            "gridcolor": "white",
            "linecolor": "white",
            "ticks": ""
           }
          },
          "title": {
           "x": 0.05
          },
          "xaxis": {
           "automargin": true,
           "gridcolor": "white",
           "linecolor": "white",
           "ticks": "",
           "title": {
            "standoff": 15
           },
           "zerolinecolor": "white",
           "zerolinewidth": 2
          },
          "yaxis": {
           "automargin": true,
           "gridcolor": "white",
           "linecolor": "white",
           "ticks": "",
           "title": {
            "standoff": 15
           },
           "zerolinecolor": "white",
           "zerolinewidth": 2
          }
         }
        },
        "title": {
         "text": "PETR4.SA Closing Prices"
        },
        "xaxis": {
         "anchor": "y",
         "domain": [
          0,
          1
         ],
         "title": {
          "text": "index"
         }
        },
        "yaxis": {
         "anchor": "x",
         "domain": [
          0,
          1
         ],
         "title": {
          "text": "value"
         }
        }
       }
      }
     },
     "metadata": {},
     "output_type": "display_data"
    }
   ],
   "source": [
    "px.line(vol_rsi, title=f\"{ticker} Closing Prices\").show(fig_type=\"png\")"
   ]
  },
  {
   "cell_type": "markdown",
   "id": "dea4f795",
   "metadata": {},
   "source": [
    "# Entropy Volatility"
   ]
  },
  {
   "cell_type": "code",
   "execution_count": 6,
   "id": "3a839c52",
   "metadata": {},
   "outputs": [],
   "source": [
    "vol_ent = trailing_window(r, rolling_window=60, func=sample_entropy, m=1)"
   ]
  },
  {
   "cell_type": "code",
   "execution_count": 7,
   "id": "3bc31ec1",
   "metadata": {},
   "outputs": [
    {
     "data": {
      "application/vnd.plotly.v1+json": {
       "config": {
        "plotlyServerURL": "https://plot.ly"
       },
       "data": [
        {
         "hovertemplate": "variable=0<br>index=%{x}<br>value=%{y}<extra></extra>",
         "legendgroup": "0",
         "line": {
          "color": "#636efa",
          "dash": "solid"
         },
         "marker": {
          "symbol": "circle"
         },
         "mode": "lines",
         "name": "0",
         "orientation": "v",
         "showlegend": true,
         "type": "scatter",
         "x": {
          "bdata": "AAABAAIAAwAEAAUABgAHAAgACQAKAAsADAANAA4ADwAQABEAEgATABQAFQAWABcAGAAZABoAGwAcAB0AHgAfACAAIQAiACMAJAAlACYAJwAoACkAKgArACwALQAuAC8AMAAxADIAMwA0ADUANgA3ADgAOQA6ADsAPAA9AD4APwBAAEEAQgBDAEQARQBGAEcASABJAEoASwBMAE0ATgBPAFAAUQBSAFMAVABVAFYAVwBYAFkAWgBbAFwAXQBeAF8AYABhAGIAYwBkAGUAZgBnAGgAaQBqAGsAbABtAG4AbwBwAHEAcgBzAHQAdQB2AHcAeAB5AHoAewB8AH0AfgB/AIAAgQCCAIMAhACFAIYAhwCIAIkAigCLAIwAjQCOAI8AkACRAJIAkwCUAJUAlgCXAJgAmQCaAJsAnACdAJ4AnwCgAKEAogCjAKQApQCmAKcAqACpAKoAqwCsAK0ArgCvALAAsQCyALMAtAC1ALYAtwC4ALkAugC7ALwAvQC+AL8AwADBAMIAwwDEAMUAxgDHAMgAyQDKAMsAzADNAM4AzwDQANEA0gDTANQA1QDWANcA2ADZANoA2wDcAN0A3gDfAOAA4QDiAOMA5ADlAOYA5wDoAOkA6gDrAOwA7QDuAO8A8ADxAPIA8wD0APUA9gD3APgA+QD6APsA/AD9AP4A/wAAAQEBAgEDAQQBBQEGAQcBCAEJAQoBCwEMAQ0BDgEPARABEQESARMBFAEVARYBFwEYARkBGgEbARwBHQEeAR8BIAEhASIBIwEkASUBJgEnASgBKQEqASsBLAEtAS4BLwEwATEBMgEzATQBNQE2ATcBOAE5AToBOwE8AT0BPgE/AUABQQFCAUMBRAFFAUYBRwFIAUkBSgFLAUwBTQFOAU8BUAFRAVIBUwFUAVUBVgFXAVgBWQFaAVsBXAFdAV4BXwFgAWEBYgFjAWQBZQFmAWcBaAFpAWoBawFsAW0BbgFvAXABcQFyAXMBdAF1AXYBdwF4AXkBegF7AXwBfQF+AX8BgAGBAYIBgwGEAYUBhgGHAYgBiQGKAYsBjAGNAY4BjwGQAZEBkgGTAZQBlQGWAZcBmAGZAZoBmwGcAZ0BngGfAaABoQGiAaMBpAGlAaYBpwGoAakBqgGrAawBrQGuAa8BsAGxAbIBswG0AbUBtgG3AbgBuQG6AbsBvAG9Ab4BvwHAAcEBwgHDAcQBxQHGAccByAHJAcoBywHMAc0BzgHPAdAB0QHSAdMB1AHVAdYB1wHYAdkB2gHbAdwB3QHeAd8B4AHhAeIB4wHkAeUB5gHnAegB6QHqAesB7AHtAe4B7wHwAfEB8gHzAQ==",
          "dtype": "i2"
         },
         "xaxis": "x",
         "y": {
          "bdata": "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",
          "dtype": "f8"
         },
         "yaxis": "y"
        }
       ],
       "layout": {
        "legend": {
         "title": {
          "text": "variable"
         },
         "tracegroupgap": 0
        },
        "template": {
         "data": {
          "bar": [
           {
            "error_x": {
             "color": "#2a3f5f"
            },
            "error_y": {
             "color": "#2a3f5f"
            },
            "marker": {
             "line": {
              "color": "#E5ECF6",
              "width": 0.5
             },
             "pattern": {
              "fillmode": "overlay",
              "size": 10,
              "solidity": 0.2
             }
            },
            "type": "bar"
           }
          ],
          "barpolar": [
           {
            "marker": {
             "line": {
              "color": "#E5ECF6",
              "width": 0.5
             },
             "pattern": {
              "fillmode": "overlay",
              "size": 10,
              "solidity": 0.2
             }
            },
            "type": "barpolar"
           }
          ],
          "carpet": [
           {
            "aaxis": {
             "endlinecolor": "#2a3f5f",
             "gridcolor": "white",
             "linecolor": "white",
             "minorgridcolor": "white",
             "startlinecolor": "#2a3f5f"
            },
            "baxis": {
             "endlinecolor": "#2a3f5f",
             "gridcolor": "white",
             "linecolor": "white",
             "minorgridcolor": "white",
             "startlinecolor": "#2a3f5f"
            },
            "type": "carpet"
           }
          ],
          "choropleth": [
           {
            "colorbar": {
             "outlinewidth": 0,
             "ticks": ""
            },
            "type": "choropleth"
           }
          ],
          "contour": [
           {
            "colorbar": {
             "outlinewidth": 0,
             "ticks": ""
            },
            "colorscale": [
             [
              0,
              "#0d0887"
             ],
             [
              0.1111111111111111,
              "#46039f"
             ],
             [
              0.2222222222222222,
              "#7201a8"
             ],
             [
              0.3333333333333333,
              "#9c179e"
             ],
             [
              0.4444444444444444,
              "#bd3786"
             ],
             [
              0.5555555555555556,
              "#d8576b"
             ],
             [
              0.6666666666666666,
              "#ed7953"
             ],
             [
              0.7777777777777778,
              "#fb9f3a"
             ],
             [
              0.8888888888888888,
              "#fdca26"
             ],
             [
              1,
              "#f0f921"
             ]
            ],
            "type": "contour"
           }
          ],
          "contourcarpet": [
           {
            "colorbar": {
             "outlinewidth": 0,
             "ticks": ""
            },
            "type": "contourcarpet"
           }
          ],
          "heatmap": [
           {
            "colorbar": {
             "outlinewidth": 0,
             "ticks": ""
            },
            "colorscale": [
             [
              0,
              "#0d0887"
             ],
             [
              0.1111111111111111,
              "#46039f"
             ],
             [
              0.2222222222222222,
              "#7201a8"
             ],
             [
              0.3333333333333333,
              "#9c179e"
             ],
             [
              0.4444444444444444,
              "#bd3786"
             ],
             [
              0.5555555555555556,
              "#d8576b"
             ],
             [
              0.6666666666666666,
              "#ed7953"
             ],
             [
              0.7777777777777778,
              "#fb9f3a"
             ],
             [
              0.8888888888888888,
              "#fdca26"
             ],
             [
              1,
              "#f0f921"
             ]
            ],
            "type": "heatmap"
           }
          ],
          "histogram": [
           {
            "marker": {
             "pattern": {
              "fillmode": "overlay",
              "size": 10,
              "solidity": 0.2
             }
            },
            "type": "histogram"
           }
          ],
          "histogram2d": [
           {
            "colorbar": {
             "outlinewidth": 0,
             "ticks": ""
            },
            "colorscale": [
             [
              0,
              "#0d0887"
             ],
             [
              0.1111111111111111,
              "#46039f"
             ],
             [
              0.2222222222222222,
              "#7201a8"
             ],
             [
              0.3333333333333333,
              "#9c179e"
             ],
             [
              0.4444444444444444,
              "#bd3786"
             ],
             [
              0.5555555555555556,
              "#d8576b"
             ],
             [
              0.6666666666666666,
              "#ed7953"
             ],
             [
              0.7777777777777778,
              "#fb9f3a"
             ],
             [
              0.8888888888888888,
              "#fdca26"
             ],
             [
              1,
              "#f0f921"
             ]
            ],
            "type": "histogram2d"
           }
          ],
          "histogram2dcontour": [
           {
            "colorbar": {
             "outlinewidth": 0,
             "ticks": ""
            },
            "colorscale": [
             [
              0,
              "#0d0887"
             ],
             [
              0.1111111111111111,
              "#46039f"
             ],
             [
              0.2222222222222222,
              "#7201a8"
             ],
             [
              0.3333333333333333,
              "#9c179e"
             ],
             [
              0.4444444444444444,
              "#bd3786"
             ],
             [
              0.5555555555555556,
              "#d8576b"
             ],
             [
              0.6666666666666666,
              "#ed7953"
             ],
             [
              0.7777777777777778,
              "#fb9f3a"
             ],
             [
              0.8888888888888888,
              "#fdca26"
             ],
             [
              1,
              "#f0f921"
             ]
            ],
            "type": "histogram2dcontour"
           }
          ],
          "mesh3d": [
           {
            "colorbar": {
             "outlinewidth": 0,
             "ticks": ""
            },
            "type": "mesh3d"
           }
          ],
          "parcoords": [
           {
            "line": {
             "colorbar": {
              "outlinewidth": 0,
              "ticks": ""
             }
            },
            "type": "parcoords"
           }
          ],
          "pie": [
           {
            "automargin": true,
            "type": "pie"
           }
          ],
          "scatter": [
           {
            "fillpattern": {
             "fillmode": "overlay",
             "size": 10,
             "solidity": 0.2
            },
            "type": "scatter"
           }
          ],
          "scatter3d": [
           {
            "line": {
             "colorbar": {
              "outlinewidth": 0,
              "ticks": ""
             }
            },
            "marker": {
             "colorbar": {
              "outlinewidth": 0,
              "ticks": ""
             }
            },
            "type": "scatter3d"
           }
          ],
          "scattercarpet": [
           {
            "marker": {
             "colorbar": {
              "outlinewidth": 0,
              "ticks": ""
             }
            },
            "type": "scattercarpet"
           }
          ],
          "scattergeo": [
           {
            "marker": {
             "colorbar": {
              "outlinewidth": 0,
              "ticks": ""
             }
            },
            "type": "scattergeo"
           }
          ],
          "scattergl": [
           {
            "marker": {
             "colorbar": {
              "outlinewidth": 0,
              "ticks": ""
             }
            },
            "type": "scattergl"
           }
          ],
          "scattermap": [
           {
            "marker": {
             "colorbar": {
              "outlinewidth": 0,
              "ticks": ""
             }
            },
            "type": "scattermap"
           }
          ],
          "scattermapbox": [
           {
            "marker": {
             "colorbar": {
              "outlinewidth": 0,
              "ticks": ""
             }
            },
            "type": "scattermapbox"
           }
          ],
          "scatterpolar": [
           {
            "marker": {
             "colorbar": {
              "outlinewidth": 0,
              "ticks": ""
             }
            },
            "type": "scatterpolar"
           }
          ],
          "scatterpolargl": [
           {
            "marker": {
             "colorbar": {
              "outlinewidth": 0,
              "ticks": ""
             }
            },
            "type": "scatterpolargl"
           }
          ],
          "scatterternary": [
           {
            "marker": {
             "colorbar": {
              "outlinewidth": 0,
              "ticks": ""
             }
            },
            "type": "scatterternary"
           }
          ],
          "surface": [
           {
            "colorbar": {
             "outlinewidth": 0,
             "ticks": ""
            },
            "colorscale": [
             [
              0,
              "#0d0887"
             ],
             [
              0.1111111111111111,
              "#46039f"
             ],
             [
              0.2222222222222222,
              "#7201a8"
             ],
             [
              0.3333333333333333,
              "#9c179e"
             ],
             [
              0.4444444444444444,
              "#bd3786"
             ],
             [
              0.5555555555555556,
              "#d8576b"
             ],
             [
              0.6666666666666666,
              "#ed7953"
             ],
             [
              0.7777777777777778,
              "#fb9f3a"
             ],
             [
              0.8888888888888888,
              "#fdca26"
             ],
             [
              1,
              "#f0f921"
             ]
            ],
            "type": "surface"
           }
          ],
          "table": [
           {
            "cells": {
             "fill": {
              "color": "#EBF0F8"
             },
             "line": {
              "color": "white"
             }
            },
            "header": {
             "fill": {
              "color": "#C8D4E3"
             },
             "line": {
              "color": "white"
             }
            },
            "type": "table"
           }
          ]
         },
         "layout": {
          "annotationdefaults": {
           "arrowcolor": "#2a3f5f",
           "arrowhead": 0,
           "arrowwidth": 1
          },
          "autotypenumbers": "strict",
          "coloraxis": {
           "colorbar": {
            "outlinewidth": 0,
            "ticks": ""
           }
          },
          "colorscale": {
           "diverging": [
            [
             0,
             "#8e0152"
            ],
            [
             0.1,
             "#c51b7d"
            ],
            [
             0.2,
             "#de77ae"
            ],
            [
             0.3,
             "#f1b6da"
            ],
            [
             0.4,
             "#fde0ef"
            ],
            [
             0.5,
             "#f7f7f7"
            ],
            [
             0.6,
             "#e6f5d0"
            ],
            [
             0.7,
             "#b8e186"
            ],
            [
             0.8,
             "#7fbc41"
            ],
            [
             0.9,
             "#4d9221"
            ],
            [
             1,
             "#276419"
            ]
           ],
           "sequential": [
            [
             0,
             "#0d0887"
            ],
            [
             0.1111111111111111,
             "#46039f"
            ],
            [
             0.2222222222222222,
             "#7201a8"
            ],
            [
             0.3333333333333333,
             "#9c179e"
            ],
            [
             0.4444444444444444,
             "#bd3786"
            ],
            [
             0.5555555555555556,
             "#d8576b"
            ],
            [
             0.6666666666666666,
             "#ed7953"
            ],
            [
             0.7777777777777778,
             "#fb9f3a"
            ],
            [
             0.8888888888888888,
             "#fdca26"
            ],
            [
             1,
             "#f0f921"
            ]
           ],
           "sequentialminus": [
            [
             0,
             "#0d0887"
            ],
            [
             0.1111111111111111,
             "#46039f"
            ],
            [
             0.2222222222222222,
             "#7201a8"
            ],
            [
             0.3333333333333333,
             "#9c179e"
            ],
            [
             0.4444444444444444,
             "#bd3786"
            ],
            [
             0.5555555555555556,
             "#d8576b"
            ],
            [
             0.6666666666666666,
             "#ed7953"
            ],
            [
             0.7777777777777778,
             "#fb9f3a"
            ],
            [
             0.8888888888888888,
             "#fdca26"
            ],
            [
             1,
             "#f0f921"
            ]
           ]
          },
          "colorway": [
           "#636efa",
           "#EF553B",
           "#00cc96",
           "#ab63fa",
           "#FFA15A",
           "#19d3f3",
           "#FF6692",
           "#B6E880",
           "#FF97FF",
           "#FECB52"
          ],
          "font": {
           "color": "#2a3f5f"
          },
          "geo": {
           "bgcolor": "white",
           "lakecolor": "white",
           "landcolor": "#E5ECF6",
           "showlakes": true,
           "showland": true,
           "subunitcolor": "white"
          },
          "hoverlabel": {
           "align": "left"
          },
          "hovermode": "closest",
          "mapbox": {
           "style": "light"
          },
          "paper_bgcolor": "white",
          "plot_bgcolor": "#E5ECF6",
          "polar": {
           "angularaxis": {
            "gridcolor": "white",
            "linecolor": "white",
            "ticks": ""
           },
           "bgcolor": "#E5ECF6",
           "radialaxis": {
            "gridcolor": "white",
            "linecolor": "white",
            "ticks": ""
           }
          },
          "scene": {
           "xaxis": {
            "backgroundcolor": "#E5ECF6",
            "gridcolor": "white",
            "gridwidth": 2,
            "linecolor": "white",
            "showbackground": true,
            "ticks": "",
            "zerolinecolor": "white"
           },
           "yaxis": {
            "backgroundcolor": "#E5ECF6",
            "gridcolor": "white",
            "gridwidth": 2,
            "linecolor": "white",
            "showbackground": true,
            "ticks": "",
            "zerolinecolor": "white"
           },
           "zaxis": {
            "backgroundcolor": "#E5ECF6",
            "gridcolor": "white",
            "gridwidth": 2,
            "linecolor": "white",
            "showbackground": true,
            "ticks": "",
            "zerolinecolor": "white"
           }
          },
          "shapedefaults": {
           "line": {
            "color": "#2a3f5f"
           }
          },
          "ternary": {
           "aaxis": {
            "gridcolor": "white",
            "linecolor": "white",
            "ticks": ""
           },
           "baxis": {
            "gridcolor": "white",
            "linecolor": "white",
            "ticks": ""
           },
           "bgcolor": "#E5ECF6",
           "caxis": {
            "gridcolor": "white",
            "linecolor": "white",
            "ticks": ""
           }
          },
          "title": {
           "x": 0.05
          },
          "xaxis": {
           "automargin": true,
           "gridcolor": "white",
           "linecolor": "white",
           "ticks": "",
           "title": {
            "standoff": 15
           },
           "zerolinecolor": "white",
           "zerolinewidth": 2
          },
          "yaxis": {
           "automargin": true,
           "gridcolor": "white",
           "linecolor": "white",
           "ticks": "",
           "title": {
            "standoff": 15
           },
           "zerolinecolor": "white",
           "zerolinewidth": 2
          }
         }
        },
        "title": {
         "text": "PETR4.SA Closing Prices"
        },
        "xaxis": {
         "anchor": "y",
         "domain": [
          0,
          1
         ],
         "title": {
          "text": "index"
         }
        },
        "yaxis": {
         "anchor": "x",
         "domain": [
          0,
          1
         ],
         "title": {
          "text": "value"
         }
        }
       }
      }
     },
     "metadata": {},
     "output_type": "display_data"
    }
   ],
   "source": [
    "px.line(vol_ent, title=f\"{ticker} Closing Prices\").show(fig_type=\"png\")"
   ]
  },
  {
   "cell_type": "code",
   "execution_count": 8,
   "id": "ac74a098",
   "metadata": {},
   "outputs": [
    {
     "data": {
      "application/vnd.plotly.v1+json": {
       "config": {
        "plotlyServerURL": "https://plot.ly"
       },
       "data": [
        {
         "name": "Preço PETR4.SA",
         "type": "scatter",
         "x": [
          "2023-10-10T00:00:00.000000000",
          "2023-10-11T00:00:00.000000000",
          "2023-10-13T00:00:00.000000000",
          "2023-10-16T00:00:00.000000000",
          "2023-10-17T00:00:00.000000000",
          "2023-10-18T00:00:00.000000000",
          "2023-10-19T00:00:00.000000000",
          "2023-10-20T00:00:00.000000000",
          "2023-10-23T00:00:00.000000000",
          "2023-10-24T00:00:00.000000000",
          "2023-10-25T00:00:00.000000000",
          "2023-10-26T00:00:00.000000000",
          "2023-10-27T00:00:00.000000000",
          "2023-10-30T00:00:00.000000000",
          "2023-10-31T00:00:00.000000000",
          "2023-11-01T00:00:00.000000000",
          "2023-11-03T00:00:00.000000000",
          "2023-11-06T00:00:00.000000000",
          "2023-11-07T00:00:00.000000000",
          "2023-11-08T00:00:00.000000000",
          "2023-11-09T00:00:00.000000000",
          "2023-11-10T00:00:00.000000000",
          "2023-11-13T00:00:00.000000000",
          "2023-11-14T00:00:00.000000000",
          "2023-11-16T00:00:00.000000000",
          "2023-11-17T00:00:00.000000000",
          "2023-11-20T00:00:00.000000000",
          "2023-11-21T00:00:00.000000000",
          "2023-11-22T00:00:00.000000000",
          "2023-11-23T00:00:00.000000000",
          "2023-11-24T00:00:00.000000000",
          "2023-11-27T00:00:00.000000000",
          "2023-11-28T00:00:00.000000000",
          "2023-11-29T00:00:00.000000000",
          "2023-11-30T00:00:00.000000000",
          "2023-12-01T00:00:00.000000000",
          "2023-12-04T00:00:00.000000000",
          "2023-12-05T00:00:00.000000000",
          "2023-12-06T00:00:00.000000000",
          "2023-12-07T00:00:00.000000000",
          "2023-12-08T00:00:00.000000000",
          "2023-12-11T00:00:00.000000000",
          "2023-12-12T00:00:00.000000000",
          "2023-12-13T00:00:00.000000000",
          "2023-12-14T00:00:00.000000000",
          "2023-12-15T00:00:00.000000000",
          "2023-12-18T00:00:00.000000000",
          "2023-12-19T00:00:00.000000000",
          "2023-12-20T00:00:00.000000000",
          "2023-12-21T00:00:00.000000000",
          "2023-12-22T00:00:00.000000000",
          "2023-12-26T00:00:00.000000000",
          "2023-12-27T00:00:00.000000000",
          "2023-12-28T00:00:00.000000000",
          "2024-01-02T00:00:00.000000000",
          "2024-01-03T00:00:00.000000000",
          "2024-01-04T00:00:00.000000000",
          "2024-01-05T00:00:00.000000000",
          "2024-01-08T00:00:00.000000000",
          "2024-01-09T00:00:00.000000000",
          "2024-01-10T00:00:00.000000000",
          "2024-01-11T00:00:00.000000000",
          "2024-01-12T00:00:00.000000000",
          "2024-01-15T00:00:00.000000000",
          "2024-01-16T00:00:00.000000000",
          "2024-01-17T00:00:00.000000000",
          "2024-01-18T00:00:00.000000000",
          "2024-01-19T00:00:00.000000000",
          "2024-01-22T00:00:00.000000000",
          "2024-01-23T00:00:00.000000000",
          "2024-01-24T00:00:00.000000000",
          "2024-01-25T00:00:00.000000000",
          "2024-01-26T00:00:00.000000000",
          "2024-01-29T00:00:00.000000000",
          "2024-01-30T00:00:00.000000000",
          "2024-01-31T00:00:00.000000000",
          "2024-02-01T00:00:00.000000000",
          "2024-02-02T00:00:00.000000000",
          "2024-02-05T00:00:00.000000000",
          "2024-02-06T00:00:00.000000000",
          "2024-02-07T00:00:00.000000000",
          "2024-02-08T00:00:00.000000000",
          "2024-02-09T00:00:00.000000000",
          "2024-02-14T00:00:00.000000000",
          "2024-02-15T00:00:00.000000000",
          "2024-02-16T00:00:00.000000000",
          "2024-02-19T00:00:00.000000000",
          "2024-02-20T00:00:00.000000000",
          "2024-02-21T00:00:00.000000000",
          "2024-02-22T00:00:00.000000000",
          "2024-02-23T00:00:00.000000000",
          "2024-02-26T00:00:00.000000000",
          "2024-02-27T00:00:00.000000000",
          "2024-02-28T00:00:00.000000000",
          "2024-02-29T00:00:00.000000000",
          "2024-03-01T00:00:00.000000000",
          "2024-03-04T00:00:00.000000000",
          "2024-03-05T00:00:00.000000000",
          "2024-03-06T00:00:00.000000000",
          "2024-03-07T00:00:00.000000000",
          "2024-03-08T00:00:00.000000000",
          "2024-03-11T00:00:00.000000000",
          "2024-03-12T00:00:00.000000000",
          "2024-03-13T00:00:00.000000000",
          "2024-03-14T00:00:00.000000000",
          "2024-03-15T00:00:00.000000000",
          "2024-03-18T00:00:00.000000000",
          "2024-03-19T00:00:00.000000000",
          "2024-03-20T00:00:00.000000000",
          "2024-03-21T00:00:00.000000000",
          "2024-03-22T00:00:00.000000000",
          "2024-03-25T00:00:00.000000000",
          "2024-03-26T00:00:00.000000000",
          "2024-03-27T00:00:00.000000000",
          "2024-03-28T00:00:00.000000000",
          "2024-04-01T00:00:00.000000000",
          "2024-04-02T00:00:00.000000000",
          "2024-04-03T00:00:00.000000000",
          "2024-04-04T00:00:00.000000000",
          "2024-04-05T00:00:00.000000000",
          "2024-04-08T00:00:00.000000000",
          "2024-04-09T00:00:00.000000000",
          "2024-04-10T00:00:00.000000000",
          "2024-04-11T00:00:00.000000000",
          "2024-04-12T00:00:00.000000000",
          "2024-04-15T00:00:00.000000000",
          "2024-04-16T00:00:00.000000000",
          "2024-04-17T00:00:00.000000000",
          "2024-04-18T00:00:00.000000000",
          "2024-04-19T00:00:00.000000000",
          "2024-04-22T00:00:00.000000000",
          "2024-04-23T00:00:00.000000000",
          "2024-04-24T00:00:00.000000000",
          "2024-04-25T00:00:00.000000000",
          "2024-04-26T00:00:00.000000000",
          "2024-04-29T00:00:00.000000000",
          "2024-04-30T00:00:00.000000000",
          "2024-05-02T00:00:00.000000000",
          "2024-05-03T00:00:00.000000000",
          "2024-05-06T00:00:00.000000000",
          "2024-05-07T00:00:00.000000000",
          "2024-05-08T00:00:00.000000000",
          "2024-05-09T00:00:00.000000000",
          "2024-05-10T00:00:00.000000000",
          "2024-05-13T00:00:00.000000000",
          "2024-05-14T00:00:00.000000000",
          "2024-05-15T00:00:00.000000000",
          "2024-05-16T00:00:00.000000000",
          "2024-05-17T00:00:00.000000000",
          "2024-05-20T00:00:00.000000000",
          "2024-05-21T00:00:00.000000000",
          "2024-05-22T00:00:00.000000000",
          "2024-05-23T00:00:00.000000000",
          "2024-05-24T00:00:00.000000000",
          "2024-05-27T00:00:00.000000000",
          "2024-05-28T00:00:00.000000000",
          "2024-05-29T00:00:00.000000000",
          "2024-05-31T00:00:00.000000000",
          "2024-06-03T00:00:00.000000000",
          "2024-06-04T00:00:00.000000000",
          "2024-06-05T00:00:00.000000000",
          "2024-06-06T00:00:00.000000000",
          "2024-06-07T00:00:00.000000000",
          "2024-06-10T00:00:00.000000000",
          "2024-06-11T00:00:00.000000000",
          "2024-06-12T00:00:00.000000000",
          "2024-06-13T00:00:00.000000000",
          "2024-06-14T00:00:00.000000000",
          "2024-06-17T00:00:00.000000000",
          "2024-06-18T00:00:00.000000000",
          "2024-06-19T00:00:00.000000000",
          "2024-06-20T00:00:00.000000000",
          "2024-06-21T00:00:00.000000000",
          "2024-06-24T00:00:00.000000000",
          "2024-06-25T00:00:00.000000000",
          "2024-06-26T00:00:00.000000000",
          "2024-06-27T00:00:00.000000000",
          "2024-06-28T00:00:00.000000000",
          "2024-07-01T00:00:00.000000000",
          "2024-07-02T00:00:00.000000000",
          "2024-07-03T00:00:00.000000000",
          "2024-07-04T00:00:00.000000000",
          "2024-07-05T00:00:00.000000000",
          "2024-07-08T00:00:00.000000000",
          "2024-07-09T00:00:00.000000000",
          "2024-07-10T00:00:00.000000000",
          "2024-07-11T00:00:00.000000000",
          "2024-07-12T00:00:00.000000000",
          "2024-07-15T00:00:00.000000000",
          "2024-07-16T00:00:00.000000000",
          "2024-07-17T00:00:00.000000000",
          "2024-07-18T00:00:00.000000000",
          "2024-07-19T00:00:00.000000000",
          "2024-07-22T00:00:00.000000000",
          "2024-07-23T00:00:00.000000000",
          "2024-07-24T00:00:00.000000000",
          "2024-07-25T00:00:00.000000000",
          "2024-07-26T00:00:00.000000000",
          "2024-07-29T00:00:00.000000000",
          "2024-07-30T00:00:00.000000000",
          "2024-07-31T00:00:00.000000000",
          "2024-08-01T00:00:00.000000000",
          "2024-08-02T00:00:00.000000000",
          "2024-08-05T00:00:00.000000000",
          "2024-08-06T00:00:00.000000000",
          "2024-08-07T00:00:00.000000000",
          "2024-08-08T00:00:00.000000000",
          "2024-08-09T00:00:00.000000000",
          "2024-08-12T00:00:00.000000000",
          "2024-08-13T00:00:00.000000000",
          "2024-08-14T00:00:00.000000000",
          "2024-08-15T00:00:00.000000000",
          "2024-08-16T00:00:00.000000000",
          "2024-08-19T00:00:00.000000000",
          "2024-08-20T00:00:00.000000000",
          "2024-08-21T00:00:00.000000000",
          "2024-08-22T00:00:00.000000000",
          "2024-08-23T00:00:00.000000000",
          "2024-08-26T00:00:00.000000000",
          "2024-08-27T00:00:00.000000000",
          "2024-08-28T00:00:00.000000000",
          "2024-08-29T00:00:00.000000000",
          "2024-08-30T00:00:00.000000000",
          "2024-09-02T00:00:00.000000000",
          "2024-09-03T00:00:00.000000000",
          "2024-09-04T00:00:00.000000000",
          "2024-09-05T00:00:00.000000000",
          "2024-09-06T00:00:00.000000000",
          "2024-09-09T00:00:00.000000000",
          "2024-09-10T00:00:00.000000000",
          "2024-09-11T00:00:00.000000000",
          "2024-09-12T00:00:00.000000000",
          "2024-09-13T00:00:00.000000000",
          "2024-09-16T00:00:00.000000000",
          "2024-09-17T00:00:00.000000000",
          "2024-09-18T00:00:00.000000000",
          "2024-09-19T00:00:00.000000000",
          "2024-09-20T00:00:00.000000000",
          "2024-09-23T00:00:00.000000000",
          "2024-09-24T00:00:00.000000000",
          "2024-09-25T00:00:00.000000000",
          "2024-09-26T00:00:00.000000000",
          "2024-09-27T00:00:00.000000000",
          "2024-09-30T00:00:00.000000000",
          "2024-10-01T00:00:00.000000000",
          "2024-10-02T00:00:00.000000000",
          "2024-10-03T00:00:00.000000000",
          "2024-10-04T00:00:00.000000000",
          "2024-10-07T00:00:00.000000000",
          "2024-10-08T00:00:00.000000000",
          "2024-10-09T00:00:00.000000000",
          "2024-10-10T00:00:00.000000000",
          "2024-10-11T00:00:00.000000000",
          "2024-10-14T00:00:00.000000000",
          "2024-10-15T00:00:00.000000000",
          "2024-10-16T00:00:00.000000000",
          "2024-10-17T00:00:00.000000000",
          "2024-10-18T00:00:00.000000000",
          "2024-10-21T00:00:00.000000000",
          "2024-10-22T00:00:00.000000000",
          "2024-10-23T00:00:00.000000000",
          "2024-10-24T00:00:00.000000000",
          "2024-10-25T00:00:00.000000000",
          "2024-10-28T00:00:00.000000000",
          "2024-10-29T00:00:00.000000000",
          "2024-10-30T00:00:00.000000000",
          "2024-10-31T00:00:00.000000000",
          "2024-11-01T00:00:00.000000000",
          "2024-11-04T00:00:00.000000000",
          "2024-11-05T00:00:00.000000000",
          "2024-11-06T00:00:00.000000000",
          "2024-11-07T00:00:00.000000000",
          "2024-11-08T00:00:00.000000000",
          "2024-11-11T00:00:00.000000000",
          "2024-11-12T00:00:00.000000000",
          "2024-11-13T00:00:00.000000000",
          "2024-11-14T00:00:00.000000000",
          "2024-11-18T00:00:00.000000000",
          "2024-11-19T00:00:00.000000000",
          "2024-11-21T00:00:00.000000000",
          "2024-11-22T00:00:00.000000000",
          "2024-11-25T00:00:00.000000000",
          "2024-11-26T00:00:00.000000000",
          "2024-11-27T00:00:00.000000000",
          "2024-11-28T00:00:00.000000000",
          "2024-11-29T00:00:00.000000000",
          "2024-12-02T00:00:00.000000000",
          "2024-12-03T00:00:00.000000000",
          "2024-12-04T00:00:00.000000000",
          "2024-12-05T00:00:00.000000000",
          "2024-12-06T00:00:00.000000000",
          "2024-12-09T00:00:00.000000000",
          "2024-12-10T00:00:00.000000000",
          "2024-12-11T00:00:00.000000000",
          "2024-12-12T00:00:00.000000000",
          "2024-12-13T00:00:00.000000000",
          "2024-12-16T00:00:00.000000000",
          "2024-12-17T00:00:00.000000000",
          "2024-12-18T00:00:00.000000000",
          "2024-12-19T00:00:00.000000000",
          "2024-12-20T00:00:00.000000000",
          "2024-12-23T00:00:00.000000000",
          "2024-12-26T00:00:00.000000000",
          "2024-12-27T00:00:00.000000000",
          "2024-12-30T00:00:00.000000000",
          "2025-01-02T00:00:00.000000000",
          "2025-01-03T00:00:00.000000000",
          "2025-01-06T00:00:00.000000000",
          "2025-01-07T00:00:00.000000000",
          "2025-01-08T00:00:00.000000000",
          "2025-01-09T00:00:00.000000000",
          "2025-01-10T00:00:00.000000000",
          "2025-01-13T00:00:00.000000000",
          "2025-01-14T00:00:00.000000000",
          "2025-01-15T00:00:00.000000000",
          "2025-01-16T00:00:00.000000000",
          "2025-01-17T00:00:00.000000000",
          "2025-01-20T00:00:00.000000000",
          "2025-01-21T00:00:00.000000000",
          "2025-01-22T00:00:00.000000000",
          "2025-01-23T00:00:00.000000000",
          "2025-01-24T00:00:00.000000000",
          "2025-01-27T00:00:00.000000000",
          "2025-01-28T00:00:00.000000000",
          "2025-01-29T00:00:00.000000000",
          "2025-01-30T00:00:00.000000000",
          "2025-01-31T00:00:00.000000000",
          "2025-02-03T00:00:00.000000000",
          "2025-02-04T00:00:00.000000000",
          "2025-02-05T00:00:00.000000000",
          "2025-02-06T00:00:00.000000000",
          "2025-02-07T00:00:00.000000000",
          "2025-02-10T00:00:00.000000000",
          "2025-02-11T00:00:00.000000000",
          "2025-02-12T00:00:00.000000000",
          "2025-02-13T00:00:00.000000000",
          "2025-02-14T00:00:00.000000000",
          "2025-02-17T00:00:00.000000000",
          "2025-02-18T00:00:00.000000000",
          "2025-02-19T00:00:00.000000000",
          "2025-02-20T00:00:00.000000000",
          "2025-02-21T00:00:00.000000000",
          "2025-02-24T00:00:00.000000000",
          "2025-02-25T00:00:00.000000000",
          "2025-02-26T00:00:00.000000000",
          "2025-02-27T00:00:00.000000000",
          "2025-02-28T00:00:00.000000000",
          "2025-03-05T00:00:00.000000000",
          "2025-03-06T00:00:00.000000000",
          "2025-03-07T00:00:00.000000000",
          "2025-03-10T00:00:00.000000000",
          "2025-03-11T00:00:00.000000000",
          "2025-03-12T00:00:00.000000000",
          "2025-03-13T00:00:00.000000000",
          "2025-03-14T00:00:00.000000000",
          "2025-03-17T00:00:00.000000000",
          "2025-03-18T00:00:00.000000000",
          "2025-03-19T00:00:00.000000000",
          "2025-03-20T00:00:00.000000000",
          "2025-03-21T00:00:00.000000000",
          "2025-03-24T00:00:00.000000000",
          "2025-03-25T00:00:00.000000000",
          "2025-03-26T00:00:00.000000000",
          "2025-03-27T00:00:00.000000000",
          "2025-03-28T00:00:00.000000000",
          "2025-03-31T00:00:00.000000000",
          "2025-04-01T00:00:00.000000000",
          "2025-04-02T00:00:00.000000000",
          "2025-04-03T00:00:00.000000000",
          "2025-04-04T00:00:00.000000000",
          "2025-04-07T00:00:00.000000000",
          "2025-04-08T00:00:00.000000000",
          "2025-04-09T00:00:00.000000000",
          "2025-04-10T00:00:00.000000000",
          "2025-04-11T00:00:00.000000000",
          "2025-04-14T00:00:00.000000000",
          "2025-04-15T00:00:00.000000000",
          "2025-04-16T00:00:00.000000000",
          "2025-04-17T00:00:00.000000000",
          "2025-04-22T00:00:00.000000000",
          "2025-04-23T00:00:00.000000000",
          "2025-04-24T00:00:00.000000000",
          "2025-04-25T00:00:00.000000000",
          "2025-04-28T00:00:00.000000000",
          "2025-04-29T00:00:00.000000000",
          "2025-04-30T00:00:00.000000000",
          "2025-05-02T00:00:00.000000000",
          "2025-05-05T00:00:00.000000000",
          "2025-05-06T00:00:00.000000000",
          "2025-05-07T00:00:00.000000000",
          "2025-05-08T00:00:00.000000000",
          "2025-05-09T00:00:00.000000000",
          "2025-05-12T00:00:00.000000000",
          "2025-05-13T00:00:00.000000000",
          "2025-05-14T00:00:00.000000000",
          "2025-05-15T00:00:00.000000000",
          "2025-05-16T00:00:00.000000000",
          "2025-05-19T00:00:00.000000000",
          "2025-05-20T00:00:00.000000000",
          "2025-05-21T00:00:00.000000000",
          "2025-05-22T00:00:00.000000000",
          "2025-05-23T00:00:00.000000000",
          "2025-05-26T00:00:00.000000000",
          "2025-05-27T00:00:00.000000000",
          "2025-05-28T00:00:00.000000000",
          "2025-05-29T00:00:00.000000000",
          "2025-05-30T00:00:00.000000000",
          "2025-06-02T00:00:00.000000000",
          "2025-06-03T00:00:00.000000000",
          "2025-06-04T00:00:00.000000000",
          "2025-06-05T00:00:00.000000000",
          "2025-06-06T00:00:00.000000000",
          "2025-06-09T00:00:00.000000000",
          "2025-06-10T00:00:00.000000000",
          "2025-06-11T00:00:00.000000000",
          "2025-06-12T00:00:00.000000000",
          "2025-06-13T00:00:00.000000000",
          "2025-06-16T00:00:00.000000000",
          "2025-06-17T00:00:00.000000000",
          "2025-06-18T00:00:00.000000000",
          "2025-06-20T00:00:00.000000000",
          "2025-06-23T00:00:00.000000000",
          "2025-06-24T00:00:00.000000000",
          "2025-06-25T00:00:00.000000000",
          "2025-06-26T00:00:00.000000000",
          "2025-06-27T00:00:00.000000000",
          "2025-06-30T00:00:00.000000000",
          "2025-07-01T00:00:00.000000000",
          "2025-07-02T00:00:00.000000000",
          "2025-07-03T00:00:00.000000000",
          "2025-07-04T00:00:00.000000000",
          "2025-07-07T00:00:00.000000000",
          "2025-07-08T00:00:00.000000000",
          "2025-07-09T00:00:00.000000000",
          "2025-07-10T00:00:00.000000000",
          "2025-07-11T00:00:00.000000000",
          "2025-07-14T00:00:00.000000000",
          "2025-07-15T00:00:00.000000000",
          "2025-07-16T00:00:00.000000000",
          "2025-07-17T00:00:00.000000000",
          "2025-07-18T00:00:00.000000000",
          "2025-07-21T00:00:00.000000000",
          "2025-07-22T00:00:00.000000000",
          "2025-07-23T00:00:00.000000000",
          "2025-07-24T00:00:00.000000000",
          "2025-07-25T00:00:00.000000000",
          "2025-07-28T00:00:00.000000000",
          "2025-07-29T00:00:00.000000000",
          "2025-07-30T00:00:00.000000000",
          "2025-07-31T00:00:00.000000000",
          "2025-08-01T00:00:00.000000000",
          "2025-08-04T00:00:00.000000000",
          "2025-08-05T00:00:00.000000000",
          "2025-08-06T00:00:00.000000000",
          "2025-08-07T00:00:00.000000000",
          "2025-08-08T00:00:00.000000000",
          "2025-08-11T00:00:00.000000000",
          "2025-08-12T00:00:00.000000000",
          "2025-08-13T00:00:00.000000000",
          "2025-08-14T00:00:00.000000000",
          "2025-08-15T00:00:00.000000000",
          "2025-08-18T00:00:00.000000000",
          "2025-08-19T00:00:00.000000000",
          "2025-08-20T00:00:00.000000000",
          "2025-08-21T00:00:00.000000000",
          "2025-08-22T00:00:00.000000000",
          "2025-08-25T00:00:00.000000000",
          "2025-08-26T00:00:00.000000000",
          "2025-08-27T00:00:00.000000000",
          "2025-08-28T00:00:00.000000000",
          "2025-08-29T00:00:00.000000000",
          "2025-09-01T00:00:00.000000000",
          "2025-09-02T00:00:00.000000000",
          "2025-09-03T00:00:00.000000000",
          "2025-09-04T00:00:00.000000000",
          "2025-09-05T00:00:00.000000000",
          "2025-09-08T00:00:00.000000000",
          "2025-09-09T00:00:00.000000000",
          "2025-09-10T00:00:00.000000000",
          "2025-09-11T00:00:00.000000000",
          "2025-09-12T00:00:00.000000000",
          "2025-09-15T00:00:00.000000000",
          "2025-09-16T00:00:00.000000000",
          "2025-09-17T00:00:00.000000000",
          "2025-09-18T00:00:00.000000000",
          "2025-09-19T00:00:00.000000000",
          "2025-09-22T00:00:00.000000000",
          "2025-09-23T00:00:00.000000000",
          "2025-09-24T00:00:00.000000000",
          "2025-09-25T00:00:00.000000000",
          "2025-09-26T00:00:00.000000000",
          "2025-09-29T00:00:00.000000000",
          "2025-09-30T00:00:00.000000000",
          "2025-10-01T00:00:00.000000000",
          "2025-10-02T00:00:00.000000000",
          "2025-10-03T00:00:00.000000000",
          "2025-10-06T00:00:00.000000000",
          "2025-10-07T00:00:00.000000000",
          "2025-10-08T00:00:00.000000000",
          "2025-10-09T00:00:00.000000000",
          "2025-10-10T00:00:00.000000000"
         ],
         "y": {
          "bdata": "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",
          "dtype": "f8"
         },
         "yaxis": "y"
        },
        {
         "name": "Volatility Entropy",
         "type": "scatter",
         "x": [
          "2023-10-10T00:00:00.000000000",
          "2023-10-11T00:00:00.000000000",
          "2023-10-13T00:00:00.000000000",
          "2023-10-16T00:00:00.000000000",
          "2023-10-17T00:00:00.000000000",
          "2023-10-18T00:00:00.000000000",
          "2023-10-19T00:00:00.000000000",
          "2023-10-20T00:00:00.000000000",
          "2023-10-23T00:00:00.000000000",
          "2023-10-24T00:00:00.000000000",
          "2023-10-25T00:00:00.000000000",
          "2023-10-26T00:00:00.000000000",
          "2023-10-27T00:00:00.000000000",
          "2023-10-30T00:00:00.000000000",
          "2023-10-31T00:00:00.000000000",
          "2023-11-01T00:00:00.000000000",
          "2023-11-03T00:00:00.000000000",
          "2023-11-06T00:00:00.000000000",
          "2023-11-07T00:00:00.000000000",
          "2023-11-08T00:00:00.000000000",
          "2023-11-09T00:00:00.000000000",
          "2023-11-10T00:00:00.000000000",
          "2023-11-13T00:00:00.000000000",
          "2023-11-14T00:00:00.000000000",
          "2023-11-16T00:00:00.000000000",
          "2023-11-17T00:00:00.000000000",
          "2023-11-20T00:00:00.000000000",
          "2023-11-21T00:00:00.000000000",
          "2023-11-22T00:00:00.000000000",
          "2023-11-23T00:00:00.000000000",
          "2023-11-24T00:00:00.000000000",
          "2023-11-27T00:00:00.000000000",
          "2023-11-28T00:00:00.000000000",
          "2023-11-29T00:00:00.000000000",
          "2023-11-30T00:00:00.000000000",
          "2023-12-01T00:00:00.000000000",
          "2023-12-04T00:00:00.000000000",
          "2023-12-05T00:00:00.000000000",
          "2023-12-06T00:00:00.000000000",
          "2023-12-07T00:00:00.000000000",
          "2023-12-08T00:00:00.000000000",
          "2023-12-11T00:00:00.000000000",
          "2023-12-12T00:00:00.000000000",
          "2023-12-13T00:00:00.000000000",
          "2023-12-14T00:00:00.000000000",
          "2023-12-15T00:00:00.000000000",
          "2023-12-18T00:00:00.000000000",
          "2023-12-19T00:00:00.000000000",
          "2023-12-20T00:00:00.000000000",
          "2023-12-21T00:00:00.000000000",
          "2023-12-22T00:00:00.000000000",
          "2023-12-26T00:00:00.000000000",
          "2023-12-27T00:00:00.000000000",
          "2023-12-28T00:00:00.000000000",
          "2024-01-02T00:00:00.000000000",
          "2024-01-03T00:00:00.000000000",
          "2024-01-04T00:00:00.000000000",
          "2024-01-05T00:00:00.000000000",
          "2024-01-08T00:00:00.000000000",
          "2024-01-09T00:00:00.000000000",
          "2024-01-10T00:00:00.000000000",
          "2024-01-11T00:00:00.000000000",
          "2024-01-12T00:00:00.000000000",
          "2024-01-15T00:00:00.000000000",
          "2024-01-16T00:00:00.000000000",
          "2024-01-17T00:00:00.000000000",
          "2024-01-18T00:00:00.000000000",
          "2024-01-19T00:00:00.000000000",
          "2024-01-22T00:00:00.000000000",
          "2024-01-23T00:00:00.000000000",
          "2024-01-24T00:00:00.000000000",
          "2024-01-25T00:00:00.000000000",
          "2024-01-26T00:00:00.000000000",
          "2024-01-29T00:00:00.000000000",
          "2024-01-30T00:00:00.000000000",
          "2024-01-31T00:00:00.000000000",
          "2024-02-01T00:00:00.000000000",
          "2024-02-02T00:00:00.000000000",
          "2024-02-05T00:00:00.000000000",
          "2024-02-06T00:00:00.000000000",
          "2024-02-07T00:00:00.000000000",
          "2024-02-08T00:00:00.000000000",
          "2024-02-09T00:00:00.000000000",
          "2024-02-14T00:00:00.000000000",
          "2024-02-15T00:00:00.000000000",
          "2024-02-16T00:00:00.000000000",
          "2024-02-19T00:00:00.000000000",
          "2024-02-20T00:00:00.000000000",
          "2024-02-21T00:00:00.000000000",
          "2024-02-22T00:00:00.000000000",
          "2024-02-23T00:00:00.000000000",
          "2024-02-26T00:00:00.000000000",
          "2024-02-27T00:00:00.000000000",
          "2024-02-28T00:00:00.000000000",
          "2024-02-29T00:00:00.000000000",
          "2024-03-01T00:00:00.000000000",
          "2024-03-04T00:00:00.000000000",
          "2024-03-05T00:00:00.000000000",
          "2024-03-06T00:00:00.000000000",
          "2024-03-07T00:00:00.000000000",
          "2024-03-08T00:00:00.000000000",
          "2024-03-11T00:00:00.000000000",
          "2024-03-12T00:00:00.000000000",
          "2024-03-13T00:00:00.000000000",
          "2024-03-14T00:00:00.000000000",
          "2024-03-15T00:00:00.000000000",
          "2024-03-18T00:00:00.000000000",
          "2024-03-19T00:00:00.000000000",
          "2024-03-20T00:00:00.000000000",
          "2024-03-21T00:00:00.000000000",
          "2024-03-22T00:00:00.000000000",
          "2024-03-25T00:00:00.000000000",
          "2024-03-26T00:00:00.000000000",
          "2024-03-27T00:00:00.000000000",
          "2024-03-28T00:00:00.000000000",
          "2024-04-01T00:00:00.000000000",
          "2024-04-02T00:00:00.000000000",
          "2024-04-03T00:00:00.000000000",
          "2024-04-04T00:00:00.000000000",
          "2024-04-05T00:00:00.000000000",
          "2024-04-08T00:00:00.000000000",
          "2024-04-09T00:00:00.000000000",
          "2024-04-10T00:00:00.000000000",
          "2024-04-11T00:00:00.000000000",
          "2024-04-12T00:00:00.000000000",
          "2024-04-15T00:00:00.000000000",
          "2024-04-16T00:00:00.000000000",
          "2024-04-17T00:00:00.000000000",
          "2024-04-18T00:00:00.000000000",
          "2024-04-19T00:00:00.000000000",
          "2024-04-22T00:00:00.000000000",
          "2024-04-23T00:00:00.000000000",
          "2024-04-24T00:00:00.000000000",
          "2024-04-25T00:00:00.000000000",
          "2024-04-26T00:00:00.000000000",
          "2024-04-29T00:00:00.000000000",
          "2024-04-30T00:00:00.000000000",
          "2024-05-02T00:00:00.000000000",
          "2024-05-03T00:00:00.000000000",
          "2024-05-06T00:00:00.000000000",
          "2024-05-07T00:00:00.000000000",
          "2024-05-08T00:00:00.000000000",
          "2024-05-09T00:00:00.000000000",
          "2024-05-10T00:00:00.000000000",
          "2024-05-13T00:00:00.000000000",
          "2024-05-14T00:00:00.000000000",
          "2024-05-15T00:00:00.000000000",
          "2024-05-16T00:00:00.000000000",
          "2024-05-17T00:00:00.000000000",
          "2024-05-20T00:00:00.000000000",
          "2024-05-21T00:00:00.000000000",
          "2024-05-22T00:00:00.000000000",
          "2024-05-23T00:00:00.000000000",
          "2024-05-24T00:00:00.000000000",
          "2024-05-27T00:00:00.000000000",
          "2024-05-28T00:00:00.000000000",
          "2024-05-29T00:00:00.000000000",
          "2024-05-31T00:00:00.000000000",
          "2024-06-03T00:00:00.000000000",
          "2024-06-04T00:00:00.000000000",
          "2024-06-05T00:00:00.000000000",
          "2024-06-06T00:00:00.000000000",
          "2024-06-07T00:00:00.000000000",
          "2024-06-10T00:00:00.000000000",
          "2024-06-11T00:00:00.000000000",
          "2024-06-12T00:00:00.000000000",
          "2024-06-13T00:00:00.000000000",
          "2024-06-14T00:00:00.000000000",
          "2024-06-17T00:00:00.000000000",
          "2024-06-18T00:00:00.000000000",
          "2024-06-19T00:00:00.000000000",
          "2024-06-20T00:00:00.000000000",
          "2024-06-21T00:00:00.000000000",
          "2024-06-24T00:00:00.000000000",
          "2024-06-25T00:00:00.000000000",
          "2024-06-26T00:00:00.000000000",
          "2024-06-27T00:00:00.000000000",
          "2024-06-28T00:00:00.000000000",
          "2024-07-01T00:00:00.000000000",
          "2024-07-02T00:00:00.000000000",
          "2024-07-03T00:00:00.000000000",
          "2024-07-04T00:00:00.000000000",
          "2024-07-05T00:00:00.000000000",
          "2024-07-08T00:00:00.000000000",
          "2024-07-09T00:00:00.000000000",
          "2024-07-10T00:00:00.000000000",
          "2024-07-11T00:00:00.000000000",
          "2024-07-12T00:00:00.000000000",
          "2024-07-15T00:00:00.000000000",
          "2024-07-16T00:00:00.000000000",
          "2024-07-17T00:00:00.000000000",
          "2024-07-18T00:00:00.000000000",
          "2024-07-19T00:00:00.000000000",
          "2024-07-22T00:00:00.000000000",
          "2024-07-23T00:00:00.000000000",
          "2024-07-24T00:00:00.000000000",
          "2024-07-25T00:00:00.000000000",
          "2024-07-26T00:00:00.000000000",
          "2024-07-29T00:00:00.000000000",
          "2024-07-30T00:00:00.000000000",
          "2024-07-31T00:00:00.000000000",
          "2024-08-01T00:00:00.000000000",
          "2024-08-02T00:00:00.000000000",
          "2024-08-05T00:00:00.000000000",
          "2024-08-06T00:00:00.000000000",
          "2024-08-07T00:00:00.000000000",
          "2024-08-08T00:00:00.000000000",
          "2024-08-09T00:00:00.000000000",
          "2024-08-12T00:00:00.000000000",
          "2024-08-13T00:00:00.000000000",
          "2024-08-14T00:00:00.000000000",
          "2024-08-15T00:00:00.000000000",
          "2024-08-16T00:00:00.000000000",
          "2024-08-19T00:00:00.000000000",
          "2024-08-20T00:00:00.000000000",
          "2024-08-21T00:00:00.000000000",
          "2024-08-22T00:00:00.000000000",
          "2024-08-23T00:00:00.000000000",
          "2024-08-26T00:00:00.000000000",
          "2024-08-27T00:00:00.000000000",
          "2024-08-28T00:00:00.000000000",
          "2024-08-29T00:00:00.000000000",
          "2024-08-30T00:00:00.000000000",
          "2024-09-02T00:00:00.000000000",
          "2024-09-03T00:00:00.000000000",
          "2024-09-04T00:00:00.000000000",
          "2024-09-05T00:00:00.000000000",
          "2024-09-06T00:00:00.000000000",
          "2024-09-09T00:00:00.000000000",
          "2024-09-10T00:00:00.000000000",
          "2024-09-11T00:00:00.000000000",
          "2024-09-12T00:00:00.000000000",
          "2024-09-13T00:00:00.000000000",
          "2024-09-16T00:00:00.000000000",
          "2024-09-17T00:00:00.000000000",
          "2024-09-18T00:00:00.000000000",
          "2024-09-19T00:00:00.000000000",
          "2024-09-20T00:00:00.000000000",
          "2024-09-23T00:00:00.000000000",
          "2024-09-24T00:00:00.000000000",
          "2024-09-25T00:00:00.000000000",
          "2024-09-26T00:00:00.000000000",
          "2024-09-27T00:00:00.000000000",
          "2024-09-30T00:00:00.000000000",
          "2024-10-01T00:00:00.000000000",
          "2024-10-02T00:00:00.000000000",
          "2024-10-03T00:00:00.000000000",
          "2024-10-04T00:00:00.000000000",
          "2024-10-07T00:00:00.000000000",
          "2024-10-08T00:00:00.000000000",
          "2024-10-09T00:00:00.000000000",
          "2024-10-10T00:00:00.000000000",
          "2024-10-11T00:00:00.000000000",
          "2024-10-14T00:00:00.000000000",
          "2024-10-15T00:00:00.000000000",
          "2024-10-16T00:00:00.000000000",
          "2024-10-17T00:00:00.000000000",
          "2024-10-18T00:00:00.000000000",
          "2024-10-21T00:00:00.000000000",
          "2024-10-22T00:00:00.000000000",
          "2024-10-23T00:00:00.000000000",
          "2024-10-24T00:00:00.000000000",
          "2024-10-25T00:00:00.000000000",
          "2024-10-28T00:00:00.000000000",
          "2024-10-29T00:00:00.000000000",
          "2024-10-30T00:00:00.000000000",
          "2024-10-31T00:00:00.000000000",
          "2024-11-01T00:00:00.000000000",
          "2024-11-04T00:00:00.000000000",
          "2024-11-05T00:00:00.000000000",
          "2024-11-06T00:00:00.000000000",
          "2024-11-07T00:00:00.000000000",
          "2024-11-08T00:00:00.000000000",
          "2024-11-11T00:00:00.000000000",
          "2024-11-12T00:00:00.000000000",
          "2024-11-13T00:00:00.000000000",
          "2024-11-14T00:00:00.000000000",
          "2024-11-18T00:00:00.000000000",
          "2024-11-19T00:00:00.000000000",
          "2024-11-21T00:00:00.000000000",
          "2024-11-22T00:00:00.000000000",
          "2024-11-25T00:00:00.000000000",
          "2024-11-26T00:00:00.000000000",
          "2024-11-27T00:00:00.000000000",
          "2024-11-28T00:00:00.000000000",
          "2024-11-29T00:00:00.000000000",
          "2024-12-02T00:00:00.000000000",
          "2024-12-03T00:00:00.000000000",
          "2024-12-04T00:00:00.000000000",
          "2024-12-05T00:00:00.000000000",
          "2024-12-06T00:00:00.000000000",
          "2024-12-09T00:00:00.000000000",
          "2024-12-10T00:00:00.000000000",
          "2024-12-11T00:00:00.000000000",
          "2024-12-12T00:00:00.000000000",
          "2024-12-13T00:00:00.000000000",
          "2024-12-16T00:00:00.000000000",
          "2024-12-17T00:00:00.000000000",
          "2024-12-18T00:00:00.000000000",
          "2024-12-19T00:00:00.000000000",
          "2024-12-20T00:00:00.000000000",
          "2024-12-23T00:00:00.000000000",
          "2024-12-26T00:00:00.000000000",
          "2024-12-27T00:00:00.000000000",
          "2024-12-30T00:00:00.000000000",
          "2025-01-02T00:00:00.000000000",
          "2025-01-03T00:00:00.000000000",
          "2025-01-06T00:00:00.000000000",
          "2025-01-07T00:00:00.000000000",
          "2025-01-08T00:00:00.000000000",
          "2025-01-09T00:00:00.000000000",
          "2025-01-10T00:00:00.000000000",
          "2025-01-13T00:00:00.000000000",
          "2025-01-14T00:00:00.000000000",
          "2025-01-15T00:00:00.000000000",
          "2025-01-16T00:00:00.000000000",
          "2025-01-17T00:00:00.000000000",
          "2025-01-20T00:00:00.000000000",
          "2025-01-21T00:00:00.000000000",
          "2025-01-22T00:00:00.000000000",
          "2025-01-23T00:00:00.000000000",
          "2025-01-24T00:00:00.000000000",
          "2025-01-27T00:00:00.000000000",
          "2025-01-28T00:00:00.000000000",
          "2025-01-29T00:00:00.000000000",
          "2025-01-30T00:00:00.000000000",
          "2025-01-31T00:00:00.000000000",
          "2025-02-03T00:00:00.000000000",
          "2025-02-04T00:00:00.000000000",
          "2025-02-05T00:00:00.000000000",
          "2025-02-06T00:00:00.000000000",
          "2025-02-07T00:00:00.000000000",
          "2025-02-10T00:00:00.000000000",
          "2025-02-11T00:00:00.000000000",
          "2025-02-12T00:00:00.000000000",
          "2025-02-13T00:00:00.000000000",
          "2025-02-14T00:00:00.000000000",
          "2025-02-17T00:00:00.000000000",
          "2025-02-18T00:00:00.000000000",
          "2025-02-19T00:00:00.000000000",
          "2025-02-20T00:00:00.000000000",
          "2025-02-21T00:00:00.000000000",
          "2025-02-24T00:00:00.000000000",
          "2025-02-25T00:00:00.000000000",
          "2025-02-26T00:00:00.000000000",
          "2025-02-27T00:00:00.000000000",
          "2025-02-28T00:00:00.000000000",
          "2025-03-05T00:00:00.000000000",
          "2025-03-06T00:00:00.000000000",
          "2025-03-07T00:00:00.000000000",
          "2025-03-10T00:00:00.000000000",
          "2025-03-11T00:00:00.000000000",
          "2025-03-12T00:00:00.000000000",
          "2025-03-13T00:00:00.000000000",
          "2025-03-14T00:00:00.000000000",
          "2025-03-17T00:00:00.000000000",
          "2025-03-18T00:00:00.000000000",
          "2025-03-19T00:00:00.000000000",
          "2025-03-20T00:00:00.000000000",
          "2025-03-21T00:00:00.000000000",
          "2025-03-24T00:00:00.000000000",
          "2025-03-25T00:00:00.000000000",
          "2025-03-26T00:00:00.000000000",
          "2025-03-27T00:00:00.000000000",
          "2025-03-28T00:00:00.000000000",
          "2025-03-31T00:00:00.000000000",
          "2025-04-01T00:00:00.000000000",
          "2025-04-02T00:00:00.000000000",
          "2025-04-03T00:00:00.000000000",
          "2025-04-04T00:00:00.000000000",
          "2025-04-07T00:00:00.000000000",
          "2025-04-08T00:00:00.000000000",
          "2025-04-09T00:00:00.000000000",
          "2025-04-10T00:00:00.000000000",
          "2025-04-11T00:00:00.000000000",
          "2025-04-14T00:00:00.000000000",
          "2025-04-15T00:00:00.000000000",
          "2025-04-16T00:00:00.000000000",
          "2025-04-17T00:00:00.000000000",
          "2025-04-22T00:00:00.000000000",
          "2025-04-23T00:00:00.000000000",
          "2025-04-24T00:00:00.000000000",
          "2025-04-25T00:00:00.000000000",
          "2025-04-28T00:00:00.000000000",
          "2025-04-29T00:00:00.000000000",
          "2025-04-30T00:00:00.000000000",
          "2025-05-02T00:00:00.000000000",
          "2025-05-05T00:00:00.000000000",
          "2025-05-06T00:00:00.000000000",
          "2025-05-07T00:00:00.000000000",
          "2025-05-08T00:00:00.000000000",
          "2025-05-09T00:00:00.000000000",
          "2025-05-12T00:00:00.000000000",
          "2025-05-13T00:00:00.000000000",
          "2025-05-14T00:00:00.000000000",
          "2025-05-15T00:00:00.000000000",
          "2025-05-16T00:00:00.000000000",
          "2025-05-19T00:00:00.000000000",
          "2025-05-20T00:00:00.000000000",
          "2025-05-21T00:00:00.000000000",
          "2025-05-22T00:00:00.000000000",
          "2025-05-23T00:00:00.000000000",
          "2025-05-26T00:00:00.000000000",
          "2025-05-27T00:00:00.000000000",
          "2025-05-28T00:00:00.000000000",
          "2025-05-29T00:00:00.000000000",
          "2025-05-30T00:00:00.000000000",
          "2025-06-02T00:00:00.000000000",
          "2025-06-03T00:00:00.000000000",
          "2025-06-04T00:00:00.000000000",
          "2025-06-05T00:00:00.000000000",
          "2025-06-06T00:00:00.000000000",
          "2025-06-09T00:00:00.000000000",
          "2025-06-10T00:00:00.000000000",
          "2025-06-11T00:00:00.000000000",
          "2025-06-12T00:00:00.000000000",
          "2025-06-13T00:00:00.000000000",
          "2025-06-16T00:00:00.000000000",
          "2025-06-17T00:00:00.000000000",
          "2025-06-18T00:00:00.000000000",
          "2025-06-20T00:00:00.000000000",
          "2025-06-23T00:00:00.000000000",
          "2025-06-24T00:00:00.000000000",
          "2025-06-25T00:00:00.000000000",
          "2025-06-26T00:00:00.000000000",
          "2025-06-27T00:00:00.000000000",
          "2025-06-30T00:00:00.000000000",
          "2025-07-01T00:00:00.000000000",
          "2025-07-02T00:00:00.000000000",
          "2025-07-03T00:00:00.000000000",
          "2025-07-04T00:00:00.000000000",
          "2025-07-07T00:00:00.000000000",
          "2025-07-08T00:00:00.000000000",
          "2025-07-09T00:00:00.000000000",
          "2025-07-10T00:00:00.000000000",
          "2025-07-11T00:00:00.000000000",
          "2025-07-14T00:00:00.000000000",
          "2025-07-15T00:00:00.000000000",
          "2025-07-16T00:00:00.000000000",
          "2025-07-17T00:00:00.000000000",
          "2025-07-18T00:00:00.000000000",
          "2025-07-21T00:00:00.000000000",
          "2025-07-22T00:00:00.000000000",
          "2025-07-23T00:00:00.000000000",
          "2025-07-24T00:00:00.000000000",
          "2025-07-25T00:00:00.000000000",
          "2025-07-28T00:00:00.000000000",
          "2025-07-29T00:00:00.000000000",
          "2025-07-30T00:00:00.000000000",
          "2025-07-31T00:00:00.000000000",
          "2025-08-01T00:00:00.000000000",
          "2025-08-04T00:00:00.000000000",
          "2025-08-05T00:00:00.000000000",
          "2025-08-06T00:00:00.000000000",
          "2025-08-07T00:00:00.000000000",
          "2025-08-08T00:00:00.000000000",
          "2025-08-11T00:00:00.000000000",
          "2025-08-12T00:00:00.000000000",
          "2025-08-13T00:00:00.000000000",
          "2025-08-14T00:00:00.000000000",
          "2025-08-15T00:00:00.000000000",
          "2025-08-18T00:00:00.000000000",
          "2025-08-19T00:00:00.000000000",
          "2025-08-20T00:00:00.000000000",
          "2025-08-21T00:00:00.000000000",
          "2025-08-22T00:00:00.000000000",
          "2025-08-25T00:00:00.000000000",
          "2025-08-26T00:00:00.000000000",
          "2025-08-27T00:00:00.000000000",
          "2025-08-28T00:00:00.000000000",
          "2025-08-29T00:00:00.000000000",
          "2025-09-01T00:00:00.000000000",
          "2025-09-02T00:00:00.000000000",
          "2025-09-03T00:00:00.000000000",
          "2025-09-04T00:00:00.000000000",
          "2025-09-05T00:00:00.000000000",
          "2025-09-08T00:00:00.000000000",
          "2025-09-09T00:00:00.000000000",
          "2025-09-10T00:00:00.000000000",
          "2025-09-11T00:00:00.000000000",
          "2025-09-12T00:00:00.000000000",
          "2025-09-15T00:00:00.000000000",
          "2025-09-16T00:00:00.000000000",
          "2025-09-17T00:00:00.000000000",
          "2025-09-18T00:00:00.000000000",
          "2025-09-19T00:00:00.000000000",
          "2025-09-22T00:00:00.000000000",
          "2025-09-23T00:00:00.000000000",
          "2025-09-24T00:00:00.000000000",
          "2025-09-25T00:00:00.000000000",
          "2025-09-26T00:00:00.000000000",
          "2025-09-29T00:00:00.000000000",
          "2025-09-30T00:00:00.000000000",
          "2025-10-01T00:00:00.000000000",
          "2025-10-02T00:00:00.000000000",
          "2025-10-03T00:00:00.000000000",
          "2025-10-06T00:00:00.000000000",
          "2025-10-07T00:00:00.000000000",
          "2025-10-08T00:00:00.000000000",
          "2025-10-09T00:00:00.000000000",
          "2025-10-10T00:00:00.000000000"
         ],
         "y": {
          "bdata": "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",
          "dtype": "f8"
         },
         "yaxis": "y2"
        },
        {
         "name": "Volatility RSI",
         "type": "scatter",
         "x": [
          "2023-10-10T00:00:00.000000000",
          "2023-10-11T00:00:00.000000000",
          "2023-10-13T00:00:00.000000000",
          "2023-10-16T00:00:00.000000000",
          "2023-10-17T00:00:00.000000000",
          "2023-10-18T00:00:00.000000000",
          "2023-10-19T00:00:00.000000000",
          "2023-10-20T00:00:00.000000000",
          "2023-10-23T00:00:00.000000000",
          "2023-10-24T00:00:00.000000000",
          "2023-10-25T00:00:00.000000000",
          "2023-10-26T00:00:00.000000000",
          "2023-10-27T00:00:00.000000000",
          "2023-10-30T00:00:00.000000000",
          "2023-10-31T00:00:00.000000000",
          "2023-11-01T00:00:00.000000000",
          "2023-11-03T00:00:00.000000000",
          "2023-11-06T00:00:00.000000000",
          "2023-11-07T00:00:00.000000000",
          "2023-11-08T00:00:00.000000000",
          "2023-11-09T00:00:00.000000000",
          "2023-11-10T00:00:00.000000000",
          "2023-11-13T00:00:00.000000000",
          "2023-11-14T00:00:00.000000000",
          "2023-11-16T00:00:00.000000000",
          "2023-11-17T00:00:00.000000000",
          "2023-11-20T00:00:00.000000000",
          "2023-11-21T00:00:00.000000000",
          "2023-11-22T00:00:00.000000000",
          "2023-11-23T00:00:00.000000000",
          "2023-11-24T00:00:00.000000000",
          "2023-11-27T00:00:00.000000000",
          "2023-11-28T00:00:00.000000000",
          "2023-11-29T00:00:00.000000000",
          "2023-11-30T00:00:00.000000000",
          "2023-12-01T00:00:00.000000000",
          "2023-12-04T00:00:00.000000000",
          "2023-12-05T00:00:00.000000000",
          "2023-12-06T00:00:00.000000000",
          "2023-12-07T00:00:00.000000000",
          "2023-12-08T00:00:00.000000000",
          "2023-12-11T00:00:00.000000000",
          "2023-12-12T00:00:00.000000000",
          "2023-12-13T00:00:00.000000000",
          "2023-12-14T00:00:00.000000000",
          "2023-12-15T00:00:00.000000000",
          "2023-12-18T00:00:00.000000000",
          "2023-12-19T00:00:00.000000000",
          "2023-12-20T00:00:00.000000000",
          "2023-12-21T00:00:00.000000000",
          "2023-12-22T00:00:00.000000000",
          "2023-12-26T00:00:00.000000000",
          "2023-12-27T00:00:00.000000000",
          "2023-12-28T00:00:00.000000000",
          "2024-01-02T00:00:00.000000000",
          "2024-01-03T00:00:00.000000000",
          "2024-01-04T00:00:00.000000000",
          "2024-01-05T00:00:00.000000000",
          "2024-01-08T00:00:00.000000000",
          "2024-01-09T00:00:00.000000000",
          "2024-01-10T00:00:00.000000000",
          "2024-01-11T00:00:00.000000000",
          "2024-01-12T00:00:00.000000000",
          "2024-01-15T00:00:00.000000000",
          "2024-01-16T00:00:00.000000000",
          "2024-01-17T00:00:00.000000000",
          "2024-01-18T00:00:00.000000000",
          "2024-01-19T00:00:00.000000000",
          "2024-01-22T00:00:00.000000000",
          "2024-01-23T00:00:00.000000000",
          "2024-01-24T00:00:00.000000000",
          "2024-01-25T00:00:00.000000000",
          "2024-01-26T00:00:00.000000000",
          "2024-01-29T00:00:00.000000000",
          "2024-01-30T00:00:00.000000000",
          "2024-01-31T00:00:00.000000000",
          "2024-02-01T00:00:00.000000000",
          "2024-02-02T00:00:00.000000000",
          "2024-02-05T00:00:00.000000000",
          "2024-02-06T00:00:00.000000000",
          "2024-02-07T00:00:00.000000000",
          "2024-02-08T00:00:00.000000000",
          "2024-02-09T00:00:00.000000000",
          "2024-02-14T00:00:00.000000000",
          "2024-02-15T00:00:00.000000000",
          "2024-02-16T00:00:00.000000000",
          "2024-02-19T00:00:00.000000000",
          "2024-02-20T00:00:00.000000000",
          "2024-02-21T00:00:00.000000000",
          "2024-02-22T00:00:00.000000000",
          "2024-02-23T00:00:00.000000000",
          "2024-02-26T00:00:00.000000000",
          "2024-02-27T00:00:00.000000000",
          "2024-02-28T00:00:00.000000000",
          "2024-02-29T00:00:00.000000000",
          "2024-03-01T00:00:00.000000000",
          "2024-03-04T00:00:00.000000000",
          "2024-03-05T00:00:00.000000000",
          "2024-03-06T00:00:00.000000000",
          "2024-03-07T00:00:00.000000000",
          "2024-03-08T00:00:00.000000000",
          "2024-03-11T00:00:00.000000000",
          "2024-03-12T00:00:00.000000000",
          "2024-03-13T00:00:00.000000000",
          "2024-03-14T00:00:00.000000000",
          "2024-03-15T00:00:00.000000000",
          "2024-03-18T00:00:00.000000000",
          "2024-03-19T00:00:00.000000000",
          "2024-03-20T00:00:00.000000000",
          "2024-03-21T00:00:00.000000000",
          "2024-03-22T00:00:00.000000000",
          "2024-03-25T00:00:00.000000000",
          "2024-03-26T00:00:00.000000000",
          "2024-03-27T00:00:00.000000000",
          "2024-03-28T00:00:00.000000000",
          "2024-04-01T00:00:00.000000000",
          "2024-04-02T00:00:00.000000000",
          "2024-04-03T00:00:00.000000000",
          "2024-04-04T00:00:00.000000000",
          "2024-04-05T00:00:00.000000000",
          "2024-04-08T00:00:00.000000000",
          "2024-04-09T00:00:00.000000000",
          "2024-04-10T00:00:00.000000000",
          "2024-04-11T00:00:00.000000000",
          "2024-04-12T00:00:00.000000000",
          "2024-04-15T00:00:00.000000000",
          "2024-04-16T00:00:00.000000000",
          "2024-04-17T00:00:00.000000000",
          "2024-04-18T00:00:00.000000000",
          "2024-04-19T00:00:00.000000000",
          "2024-04-22T00:00:00.000000000",
          "2024-04-23T00:00:00.000000000",
          "2024-04-24T00:00:00.000000000",
          "2024-04-25T00:00:00.000000000",
          "2024-04-26T00:00:00.000000000",
          "2024-04-29T00:00:00.000000000",
          "2024-04-30T00:00:00.000000000",
          "2024-05-02T00:00:00.000000000",
          "2024-05-03T00:00:00.000000000",
          "2024-05-06T00:00:00.000000000",
          "2024-05-07T00:00:00.000000000",
          "2024-05-08T00:00:00.000000000",
          "2024-05-09T00:00:00.000000000",
          "2024-05-10T00:00:00.000000000",
          "2024-05-13T00:00:00.000000000",
          "2024-05-14T00:00:00.000000000",
          "2024-05-15T00:00:00.000000000",
          "2024-05-16T00:00:00.000000000",
          "2024-05-17T00:00:00.000000000",
          "2024-05-20T00:00:00.000000000",
          "2024-05-21T00:00:00.000000000",
          "2024-05-22T00:00:00.000000000",
          "2024-05-23T00:00:00.000000000",
          "2024-05-24T00:00:00.000000000",
          "2024-05-27T00:00:00.000000000",
          "2024-05-28T00:00:00.000000000",
          "2024-05-29T00:00:00.000000000",
          "2024-05-31T00:00:00.000000000",
          "2024-06-03T00:00:00.000000000",
          "2024-06-04T00:00:00.000000000",
          "2024-06-05T00:00:00.000000000",
          "2024-06-06T00:00:00.000000000",
          "2024-06-07T00:00:00.000000000",
          "2024-06-10T00:00:00.000000000",
          "2024-06-11T00:00:00.000000000",
          "2024-06-12T00:00:00.000000000",
          "2024-06-13T00:00:00.000000000",
          "2024-06-14T00:00:00.000000000",
          "2024-06-17T00:00:00.000000000",
          "2024-06-18T00:00:00.000000000",
          "2024-06-19T00:00:00.000000000",
          "2024-06-20T00:00:00.000000000",
          "2024-06-21T00:00:00.000000000",
          "2024-06-24T00:00:00.000000000",
          "2024-06-25T00:00:00.000000000",
          "2024-06-26T00:00:00.000000000",
          "2024-06-27T00:00:00.000000000",
          "2024-06-28T00:00:00.000000000",
          "2024-07-01T00:00:00.000000000",
          "2024-07-02T00:00:00.000000000",
          "2024-07-03T00:00:00.000000000",
          "2024-07-04T00:00:00.000000000",
          "2024-07-05T00:00:00.000000000",
          "2024-07-08T00:00:00.000000000",
          "2024-07-09T00:00:00.000000000",
          "2024-07-10T00:00:00.000000000",
          "2024-07-11T00:00:00.000000000",
          "2024-07-12T00:00:00.000000000",
          "2024-07-15T00:00:00.000000000",
          "2024-07-16T00:00:00.000000000",
          "2024-07-17T00:00:00.000000000",
          "2024-07-18T00:00:00.000000000",
          "2024-07-19T00:00:00.000000000",
          "2024-07-22T00:00:00.000000000",
          "2024-07-23T00:00:00.000000000",
          "2024-07-24T00:00:00.000000000",
          "2024-07-25T00:00:00.000000000",
          "2024-07-26T00:00:00.000000000",
          "2024-07-29T00:00:00.000000000",
          "2024-07-30T00:00:00.000000000",
          "2024-07-31T00:00:00.000000000",
          "2024-08-01T00:00:00.000000000",
          "2024-08-02T00:00:00.000000000",
          "2024-08-05T00:00:00.000000000",
          "2024-08-06T00:00:00.000000000",
          "2024-08-07T00:00:00.000000000",
          "2024-08-08T00:00:00.000000000",
          "2024-08-09T00:00:00.000000000",
          "2024-08-12T00:00:00.000000000",
          "2024-08-13T00:00:00.000000000",
          "2024-08-14T00:00:00.000000000",
          "2024-08-15T00:00:00.000000000",
          "2024-08-16T00:00:00.000000000",
          "2024-08-19T00:00:00.000000000",
          "2024-08-20T00:00:00.000000000",
          "2024-08-21T00:00:00.000000000",
          "2024-08-22T00:00:00.000000000",
          "2024-08-23T00:00:00.000000000",
          "2024-08-26T00:00:00.000000000",
          "2024-08-27T00:00:00.000000000",
          "2024-08-28T00:00:00.000000000",
          "2024-08-29T00:00:00.000000000",
          "2024-08-30T00:00:00.000000000",
          "2024-09-02T00:00:00.000000000",
          "2024-09-03T00:00:00.000000000",
          "2024-09-04T00:00:00.000000000",
          "2024-09-05T00:00:00.000000000",
          "2024-09-06T00:00:00.000000000",
          "2024-09-09T00:00:00.000000000",
          "2024-09-10T00:00:00.000000000",
          "2024-09-11T00:00:00.000000000",
          "2024-09-12T00:00:00.000000000",
          "2024-09-13T00:00:00.000000000",
          "2024-09-16T00:00:00.000000000",
          "2024-09-17T00:00:00.000000000",
          "2024-09-18T00:00:00.000000000",
          "2024-09-19T00:00:00.000000000",
          "2024-09-20T00:00:00.000000000",
          "2024-09-23T00:00:00.000000000",
          "2024-09-24T00:00:00.000000000",
          "2024-09-25T00:00:00.000000000",
          "2024-09-26T00:00:00.000000000",
          "2024-09-27T00:00:00.000000000",
          "2024-09-30T00:00:00.000000000",
          "2024-10-01T00:00:00.000000000",
          "2024-10-02T00:00:00.000000000",
          "2024-10-03T00:00:00.000000000",
          "2024-10-04T00:00:00.000000000",
          "2024-10-07T00:00:00.000000000",
          "2024-10-08T00:00:00.000000000",
          "2024-10-09T00:00:00.000000000",
          "2024-10-10T00:00:00.000000000",
          "2024-10-11T00:00:00.000000000",
          "2024-10-14T00:00:00.000000000",
          "2024-10-15T00:00:00.000000000",
          "2024-10-16T00:00:00.000000000",
          "2024-10-17T00:00:00.000000000",
          "2024-10-18T00:00:00.000000000",
          "2024-10-21T00:00:00.000000000",
          "2024-10-22T00:00:00.000000000",
          "2024-10-23T00:00:00.000000000",
          "2024-10-24T00:00:00.000000000",
          "2024-10-25T00:00:00.000000000",
          "2024-10-28T00:00:00.000000000",
          "2024-10-29T00:00:00.000000000",
          "2024-10-30T00:00:00.000000000",
          "2024-10-31T00:00:00.000000000",
          "2024-11-01T00:00:00.000000000",
          "2024-11-04T00:00:00.000000000",
          "2024-11-05T00:00:00.000000000",
          "2024-11-06T00:00:00.000000000",
          "2024-11-07T00:00:00.000000000",
          "2024-11-08T00:00:00.000000000",
          "2024-11-11T00:00:00.000000000",
          "2024-11-12T00:00:00.000000000",
          "2024-11-13T00:00:00.000000000",
          "2024-11-14T00:00:00.000000000",
          "2024-11-18T00:00:00.000000000",
          "2024-11-19T00:00:00.000000000",
          "2024-11-21T00:00:00.000000000",
          "2024-11-22T00:00:00.000000000",
          "2024-11-25T00:00:00.000000000",
          "2024-11-26T00:00:00.000000000",
          "2024-11-27T00:00:00.000000000",
          "2024-11-28T00:00:00.000000000",
          "2024-11-29T00:00:00.000000000",
          "2024-12-02T00:00:00.000000000",
          "2024-12-03T00:00:00.000000000",
          "2024-12-04T00:00:00.000000000",
          "2024-12-05T00:00:00.000000000",
          "2024-12-06T00:00:00.000000000",
          "2024-12-09T00:00:00.000000000",
          "2024-12-10T00:00:00.000000000",
          "2024-12-11T00:00:00.000000000",
          "2024-12-12T00:00:00.000000000",
          "2024-12-13T00:00:00.000000000",
          "2024-12-16T00:00:00.000000000",
          "2024-12-17T00:00:00.000000000",
          "2024-12-18T00:00:00.000000000",
          "2024-12-19T00:00:00.000000000",
          "2024-12-20T00:00:00.000000000",
          "2024-12-23T00:00:00.000000000",
          "2024-12-26T00:00:00.000000000",
          "2024-12-27T00:00:00.000000000",
          "2024-12-30T00:00:00.000000000",
          "2025-01-02T00:00:00.000000000",
          "2025-01-03T00:00:00.000000000",
          "2025-01-06T00:00:00.000000000",
          "2025-01-07T00:00:00.000000000",
          "2025-01-08T00:00:00.000000000",
          "2025-01-09T00:00:00.000000000",
          "2025-01-10T00:00:00.000000000",
          "2025-01-13T00:00:00.000000000",
          "2025-01-14T00:00:00.000000000",
          "2025-01-15T00:00:00.000000000",
          "2025-01-16T00:00:00.000000000",
          "2025-01-17T00:00:00.000000000",
          "2025-01-20T00:00:00.000000000",
          "2025-01-21T00:00:00.000000000",
          "2025-01-22T00:00:00.000000000",
          "2025-01-23T00:00:00.000000000",
          "2025-01-24T00:00:00.000000000",
          "2025-01-27T00:00:00.000000000",
          "2025-01-28T00:00:00.000000000",
          "2025-01-29T00:00:00.000000000",
          "2025-01-30T00:00:00.000000000",
          "2025-01-31T00:00:00.000000000",
          "2025-02-03T00:00:00.000000000",
          "2025-02-04T00:00:00.000000000",
          "2025-02-05T00:00:00.000000000",
          "2025-02-06T00:00:00.000000000",
          "2025-02-07T00:00:00.000000000",
          "2025-02-10T00:00:00.000000000",
          "2025-02-11T00:00:00.000000000",
          "2025-02-12T00:00:00.000000000",
          "2025-02-13T00:00:00.000000000",
          "2025-02-14T00:00:00.000000000",
          "2025-02-17T00:00:00.000000000",
          "2025-02-18T00:00:00.000000000",
          "2025-02-19T00:00:00.000000000",
          "2025-02-20T00:00:00.000000000",
          "2025-02-21T00:00:00.000000000",
          "2025-02-24T00:00:00.000000000",
          "2025-02-25T00:00:00.000000000",
          "2025-02-26T00:00:00.000000000",
          "2025-02-27T00:00:00.000000000",
          "2025-02-28T00:00:00.000000000",
          "2025-03-05T00:00:00.000000000",
          "2025-03-06T00:00:00.000000000",
          "2025-03-07T00:00:00.000000000",
          "2025-03-10T00:00:00.000000000",
          "2025-03-11T00:00:00.000000000",
          "2025-03-12T00:00:00.000000000",
          "2025-03-13T00:00:00.000000000",
          "2025-03-14T00:00:00.000000000",
          "2025-03-17T00:00:00.000000000",
          "2025-03-18T00:00:00.000000000",
          "2025-03-19T00:00:00.000000000",
          "2025-03-20T00:00:00.000000000",
          "2025-03-21T00:00:00.000000000",
          "2025-03-24T00:00:00.000000000",
          "2025-03-25T00:00:00.000000000",
          "2025-03-26T00:00:00.000000000",
          "2025-03-27T00:00:00.000000000",
          "2025-03-28T00:00:00.000000000",
          "2025-03-31T00:00:00.000000000",
          "2025-04-01T00:00:00.000000000",
          "2025-04-02T00:00:00.000000000",
          "2025-04-03T00:00:00.000000000",
          "2025-04-04T00:00:00.000000000",
          "2025-04-07T00:00:00.000000000",
          "2025-04-08T00:00:00.000000000",
          "2025-04-09T00:00:00.000000000",
          "2025-04-10T00:00:00.000000000",
          "2025-04-11T00:00:00.000000000",
          "2025-04-14T00:00:00.000000000",
          "2025-04-15T00:00:00.000000000",
          "2025-04-16T00:00:00.000000000",
          "2025-04-17T00:00:00.000000000",
          "2025-04-22T00:00:00.000000000",
          "2025-04-23T00:00:00.000000000",
          "2025-04-24T00:00:00.000000000",
          "2025-04-25T00:00:00.000000000",
          "2025-04-28T00:00:00.000000000",
          "2025-04-29T00:00:00.000000000",
          "2025-04-30T00:00:00.000000000",
          "2025-05-02T00:00:00.000000000",
          "2025-05-05T00:00:00.000000000",
          "2025-05-06T00:00:00.000000000",
          "2025-05-07T00:00:00.000000000",
          "2025-05-08T00:00:00.000000000",
          "2025-05-09T00:00:00.000000000",
          "2025-05-12T00:00:00.000000000",
          "2025-05-13T00:00:00.000000000",
          "2025-05-14T00:00:00.000000000",
          "2025-05-15T00:00:00.000000000",
          "2025-05-16T00:00:00.000000000",
          "2025-05-19T00:00:00.000000000",
          "2025-05-20T00:00:00.000000000",
          "2025-05-21T00:00:00.000000000",
          "2025-05-22T00:00:00.000000000",
          "2025-05-23T00:00:00.000000000",
          "2025-05-26T00:00:00.000000000",
          "2025-05-27T00:00:00.000000000",
          "2025-05-28T00:00:00.000000000",
          "2025-05-29T00:00:00.000000000",
          "2025-05-30T00:00:00.000000000",
          "2025-06-02T00:00:00.000000000",
          "2025-06-03T00:00:00.000000000",
          "2025-06-04T00:00:00.000000000",
          "2025-06-05T00:00:00.000000000",
          "2025-06-06T00:00:00.000000000",
          "2025-06-09T00:00:00.000000000",
          "2025-06-10T00:00:00.000000000",
          "2025-06-11T00:00:00.000000000",
          "2025-06-12T00:00:00.000000000",
          "2025-06-13T00:00:00.000000000",
          "2025-06-16T00:00:00.000000000",
          "2025-06-17T00:00:00.000000000",
          "2025-06-18T00:00:00.000000000",
          "2025-06-20T00:00:00.000000000",
          "2025-06-23T00:00:00.000000000",
          "2025-06-24T00:00:00.000000000",
          "2025-06-25T00:00:00.000000000",
          "2025-06-26T00:00:00.000000000",
          "2025-06-27T00:00:00.000000000",
          "2025-06-30T00:00:00.000000000",
          "2025-07-01T00:00:00.000000000",
          "2025-07-02T00:00:00.000000000",
          "2025-07-03T00:00:00.000000000",
          "2025-07-04T00:00:00.000000000",
          "2025-07-07T00:00:00.000000000",
          "2025-07-08T00:00:00.000000000",
          "2025-07-09T00:00:00.000000000",
          "2025-07-10T00:00:00.000000000",
          "2025-07-11T00:00:00.000000000",
          "2025-07-14T00:00:00.000000000",
          "2025-07-15T00:00:00.000000000",
          "2025-07-16T00:00:00.000000000",
          "2025-07-17T00:00:00.000000000",
          "2025-07-18T00:00:00.000000000",
          "2025-07-21T00:00:00.000000000",
          "2025-07-22T00:00:00.000000000",
          "2025-07-23T00:00:00.000000000",
          "2025-07-24T00:00:00.000000000",
          "2025-07-25T00:00:00.000000000",
          "2025-07-28T00:00:00.000000000",
          "2025-07-29T00:00:00.000000000",
          "2025-07-30T00:00:00.000000000",
          "2025-07-31T00:00:00.000000000",
          "2025-08-01T00:00:00.000000000",
          "2025-08-04T00:00:00.000000000",
          "2025-08-05T00:00:00.000000000",
          "2025-08-06T00:00:00.000000000",
          "2025-08-07T00:00:00.000000000",
          "2025-08-08T00:00:00.000000000",
          "2025-08-11T00:00:00.000000000",
          "2025-08-12T00:00:00.000000000",
          "2025-08-13T00:00:00.000000000",
          "2025-08-14T00:00:00.000000000",
          "2025-08-15T00:00:00.000000000",
          "2025-08-18T00:00:00.000000000",
          "2025-08-19T00:00:00.000000000",
          "2025-08-20T00:00:00.000000000",
          "2025-08-21T00:00:00.000000000",
          "2025-08-22T00:00:00.000000000",
          "2025-08-25T00:00:00.000000000",
          "2025-08-26T00:00:00.000000000",
          "2025-08-27T00:00:00.000000000",
          "2025-08-28T00:00:00.000000000",
          "2025-08-29T00:00:00.000000000",
          "2025-09-01T00:00:00.000000000",
          "2025-09-02T00:00:00.000000000",
          "2025-09-03T00:00:00.000000000",
          "2025-09-04T00:00:00.000000000",
          "2025-09-05T00:00:00.000000000",
          "2025-09-08T00:00:00.000000000",
          "2025-09-09T00:00:00.000000000",
          "2025-09-10T00:00:00.000000000",
          "2025-09-11T00:00:00.000000000",
          "2025-09-12T00:00:00.000000000",
          "2025-09-15T00:00:00.000000000",
          "2025-09-16T00:00:00.000000000",
          "2025-09-17T00:00:00.000000000",
          "2025-09-18T00:00:00.000000000",
          "2025-09-19T00:00:00.000000000",
          "2025-09-22T00:00:00.000000000",
          "2025-09-23T00:00:00.000000000",
          "2025-09-24T00:00:00.000000000",
          "2025-09-25T00:00:00.000000000",
          "2025-09-26T00:00:00.000000000",
          "2025-09-29T00:00:00.000000000",
          "2025-09-30T00:00:00.000000000",
          "2025-10-01T00:00:00.000000000",
          "2025-10-02T00:00:00.000000000",
          "2025-10-03T00:00:00.000000000",
          "2025-10-06T00:00:00.000000000",
          "2025-10-07T00:00:00.000000000",
          "2025-10-08T00:00:00.000000000",
          "2025-10-09T00:00:00.000000000",
          "2025-10-10T00:00:00.000000000"
         ],
         "y": {
          "bdata": "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",
          "dtype": "f8"
         },
         "yaxis": "y3"
        }
       ],
       "layout": {
        "legend": {
         "x": 0.01,
         "y": 0.99
        },
        "template": {
         "data": {
          "bar": [
           {
            "error_x": {
             "color": "#2a3f5f"
            },
            "error_y": {
             "color": "#2a3f5f"
            },
            "marker": {
             "line": {
              "color": "#E5ECF6",
              "width": 0.5
             },
             "pattern": {
              "fillmode": "overlay",
              "size": 10,
              "solidity": 0.2
             }
            },
            "type": "bar"
           }
          ],
          "barpolar": [
           {
            "marker": {
             "line": {
              "color": "#E5ECF6",
              "width": 0.5
             },
             "pattern": {
              "fillmode": "overlay",
              "size": 10,
              "solidity": 0.2
             }
            },
            "type": "barpolar"
           }
          ],
          "carpet": [
           {
            "aaxis": {
             "endlinecolor": "#2a3f5f",
             "gridcolor": "white",
             "linecolor": "white",
             "minorgridcolor": "white",
             "startlinecolor": "#2a3f5f"
            },
            "baxis": {
             "endlinecolor": "#2a3f5f",
             "gridcolor": "white",
             "linecolor": "white",
             "minorgridcolor": "white",
             "startlinecolor": "#2a3f5f"
            },
            "type": "carpet"
           }
          ],
          "choropleth": [
           {
            "colorbar": {
             "outlinewidth": 0,
             "ticks": ""
            },
            "type": "choropleth"
           }
          ],
          "contour": [
           {
            "colorbar": {
             "outlinewidth": 0,
             "ticks": ""
            },
            "colorscale": [
             [
              0,
              "#0d0887"
             ],
             [
              0.1111111111111111,
              "#46039f"
             ],
             [
              0.2222222222222222,
              "#7201a8"
             ],
             [
              0.3333333333333333,
              "#9c179e"
             ],
             [
              0.4444444444444444,
              "#bd3786"
             ],
             [
              0.5555555555555556,
              "#d8576b"
             ],
             [
              0.6666666666666666,
              "#ed7953"
             ],
             [
              0.7777777777777778,
              "#fb9f3a"
             ],
             [
              0.8888888888888888,
              "#fdca26"
             ],
             [
              1,
              "#f0f921"
             ]
            ],
            "type": "contour"
           }
          ],
          "contourcarpet": [
           {
            "colorbar": {
             "outlinewidth": 0,
             "ticks": ""
            },
            "type": "contourcarpet"
           }
          ],
          "heatmap": [
           {
            "colorbar": {
             "outlinewidth": 0,
             "ticks": ""
            },
            "colorscale": [
             [
              0,
              "#0d0887"
             ],
             [
              0.1111111111111111,
              "#46039f"
             ],
             [
              0.2222222222222222,
              "#7201a8"
             ],
             [
              0.3333333333333333,
              "#9c179e"
             ],
             [
              0.4444444444444444,
              "#bd3786"
             ],
             [
              0.5555555555555556,
              "#d8576b"
             ],
             [
              0.6666666666666666,
              "#ed7953"
             ],
             [
              0.7777777777777778,
              "#fb9f3a"
             ],
             [
              0.8888888888888888,
              "#fdca26"
             ],
             [
              1,
              "#f0f921"
             ]
            ],
            "type": "heatmap"
           }
          ],
          "histogram": [
           {
            "marker": {
             "pattern": {
              "fillmode": "overlay",
              "size": 10,
              "solidity": 0.2
             }
            },
            "type": "histogram"
           }
          ],
          "histogram2d": [
           {
            "colorbar": {
             "outlinewidth": 0,
             "ticks": ""
            },
            "colorscale": [
             [
              0,
              "#0d0887"
             ],
             [
              0.1111111111111111,
              "#46039f"
             ],
             [
              0.2222222222222222,
              "#7201a8"
             ],
             [
              0.3333333333333333,
              "#9c179e"
             ],
             [
              0.4444444444444444,
              "#bd3786"
             ],
             [
              0.5555555555555556,
              "#d8576b"
             ],
             [
              0.6666666666666666,
              "#ed7953"
             ],
             [
              0.7777777777777778,
              "#fb9f3a"
             ],
             [
              0.8888888888888888,
              "#fdca26"
             ],
             [
              1,
              "#f0f921"
             ]
            ],
            "type": "histogram2d"
           }
          ],
          "histogram2dcontour": [
           {
            "colorbar": {
             "outlinewidth": 0,
             "ticks": ""
            },
            "colorscale": [
             [
              0,
              "#0d0887"
             ],
             [
              0.1111111111111111,
              "#46039f"
             ],
             [
              0.2222222222222222,
              "#7201a8"
             ],
             [
              0.3333333333333333,
              "#9c179e"
             ],
             [
              0.4444444444444444,
              "#bd3786"
             ],
             [
              0.5555555555555556,
              "#d8576b"
             ],
             [
              0.6666666666666666,
              "#ed7953"
             ],
             [
              0.7777777777777778,
              "#fb9f3a"
             ],
             [
              0.8888888888888888,
              "#fdca26"
             ],
             [
              1,
              "#f0f921"
             ]
            ],
            "type": "histogram2dcontour"
           }
          ],
          "mesh3d": [
           {
            "colorbar": {
             "outlinewidth": 0,
             "ticks": ""
            },
            "type": "mesh3d"
           }
          ],
          "parcoords": [
           {
            "line": {
             "colorbar": {
              "outlinewidth": 0,
              "ticks": ""
             }
            },
            "type": "parcoords"
           }
          ],
          "pie": [
           {
            "automargin": true,
            "type": "pie"
           }
          ],
          "scatter": [
           {
            "fillpattern": {
             "fillmode": "overlay",
             "size": 10,
             "solidity": 0.2
            },
            "type": "scatter"
           }
          ],
          "scatter3d": [
           {
            "line": {
             "colorbar": {
              "outlinewidth": 0,
              "ticks": ""
             }
            },
            "marker": {
             "colorbar": {
              "outlinewidth": 0,
              "ticks": ""
             }
            },
            "type": "scatter3d"
           }
          ],
          "scattercarpet": [
           {
            "marker": {
             "colorbar": {
              "outlinewidth": 0,
              "ticks": ""
             }
            },
            "type": "scattercarpet"
           }
          ],
          "scattergeo": [
           {
            "marker": {
             "colorbar": {
              "outlinewidth": 0,
              "ticks": ""
             }
            },
            "type": "scattergeo"
           }
          ],
          "scattergl": [
           {
            "marker": {
             "colorbar": {
              "outlinewidth": 0,
              "ticks": ""
             }
            },
            "type": "scattergl"
           }
          ],
          "scattermap": [
           {
            "marker": {
             "colorbar": {
              "outlinewidth": 0,
              "ticks": ""
             }
            },
            "type": "scattermap"
           }
          ],
          "scattermapbox": [
           {
            "marker": {
             "colorbar": {
              "outlinewidth": 0,
              "ticks": ""
             }
            },
            "type": "scattermapbox"
           }
          ],
          "scatterpolar": [
           {
            "marker": {
             "colorbar": {
              "outlinewidth": 0,
              "ticks": ""
             }
            },
            "type": "scatterpolar"
           }
          ],
          "scatterpolargl": [
           {
            "marker": {
             "colorbar": {
              "outlinewidth": 0,
              "ticks": ""
             }
            },
            "type": "scatterpolargl"
           }
          ],
          "scatterternary": [
           {
            "marker": {
             "colorbar": {
              "outlinewidth": 0,
              "ticks": ""
             }
            },
            "type": "scatterternary"
           }
          ],
          "surface": [
           {
            "colorbar": {
             "outlinewidth": 0,
             "ticks": ""
            },
            "colorscale": [
             [
              0,
              "#0d0887"
             ],
             [
              0.1111111111111111,
              "#46039f"
             ],
             [
              0.2222222222222222,
              "#7201a8"
             ],
             [
              0.3333333333333333,
              "#9c179e"
             ],
             [
              0.4444444444444444,
              "#bd3786"
             ],
             [
              0.5555555555555556,
              "#d8576b"
             ],
             [
              0.6666666666666666,
              "#ed7953"
             ],
             [
              0.7777777777777778,
              "#fb9f3a"
             ],
             [
              0.8888888888888888,
              "#fdca26"
             ],
             [
              1,
              "#f0f921"
             ]
            ],
            "type": "surface"
           }
          ],
          "table": [
           {
            "cells": {
             "fill": {
              "color": "#EBF0F8"
             },
             "line": {
              "color": "white"
             }
            },
            "header": {
             "fill": {
              "color": "#C8D4E3"
             },
             "line": {
              "color": "white"
             }
            },
            "type": "table"
           }
          ]
         },
         "layout": {
          "annotationdefaults": {
           "arrowcolor": "#2a3f5f",
           "arrowhead": 0,
           "arrowwidth": 1
          },
          "autotypenumbers": "strict",
          "coloraxis": {
           "colorbar": {
            "outlinewidth": 0,
            "ticks": ""
           }
          },
          "colorscale": {
           "diverging": [
            [
             0,
             "#8e0152"
            ],
            [
             0.1,
             "#c51b7d"
            ],
            [
             0.2,
             "#de77ae"
            ],
            [
             0.3,
             "#f1b6da"
            ],
            [
             0.4,
             "#fde0ef"
            ],
            [
             0.5,
             "#f7f7f7"
            ],
            [
             0.6,
             "#e6f5d0"
            ],
            [
             0.7,
             "#b8e186"
            ],
            [
             0.8,
             "#7fbc41"
            ],
            [
             0.9,
             "#4d9221"
            ],
            [
             1,
             "#276419"
            ]
           ],
           "sequential": [
            [
             0,
             "#0d0887"
            ],
            [
             0.1111111111111111,
             "#46039f"
            ],
            [
             0.2222222222222222,
             "#7201a8"
            ],
            [
             0.3333333333333333,
             "#9c179e"
            ],
            [
             0.4444444444444444,
             "#bd3786"
            ],
            [
             0.5555555555555556,
             "#d8576b"
            ],
            [
             0.6666666666666666,
             "#ed7953"
            ],
            [
             0.7777777777777778,
             "#fb9f3a"
            ],
            [
             0.8888888888888888,
             "#fdca26"
            ],
            [
             1,
             "#f0f921"
            ]
           ],
           "sequentialminus": [
            [
             0,
             "#0d0887"
            ],
            [
             0.1111111111111111,
             "#46039f"
            ],
            [
             0.2222222222222222,
             "#7201a8"
            ],
            [
             0.3333333333333333,
             "#9c179e"
            ],
            [
             0.4444444444444444,
             "#bd3786"
            ],
            [
             0.5555555555555556,
             "#d8576b"
            ],
            [
             0.6666666666666666,
             "#ed7953"
            ],
            [
             0.7777777777777778,
             "#fb9f3a"
            ],
            [
             0.8888888888888888,
             "#fdca26"
            ],
            [
             1,
             "#f0f921"
            ]
           ]
          },
          "colorway": [
           "#636efa",
           "#EF553B",
           "#00cc96",
           "#ab63fa",
           "#FFA15A",
           "#19d3f3",
           "#FF6692",
           "#B6E880",
           "#FF97FF",
           "#FECB52"
          ],
          "font": {
           "color": "#2a3f5f"
          },
          "geo": {
           "bgcolor": "white",
           "lakecolor": "white",
           "landcolor": "#E5ECF6",
           "showlakes": true,
           "showland": true,
           "subunitcolor": "white"
          },
          "hoverlabel": {
           "align": "left"
          },
          "hovermode": "closest",
          "mapbox": {
           "style": "light"
          },
          "paper_bgcolor": "white",
          "plot_bgcolor": "#E5ECF6",
          "polar": {
           "angularaxis": {
            "gridcolor": "white",
            "linecolor": "white",
            "ticks": ""
           },
           "bgcolor": "#E5ECF6",
           "radialaxis": {
            "gridcolor": "white",
            "linecolor": "white",
            "ticks": ""
           }
          },
          "scene": {
           "xaxis": {
            "backgroundcolor": "#E5ECF6",
            "gridcolor": "white",
            "gridwidth": 2,
            "linecolor": "white",
            "showbackground": true,
            "ticks": "",
            "zerolinecolor": "white"
           },
           "yaxis": {
            "backgroundcolor": "#E5ECF6",
            "gridcolor": "white",
            "gridwidth": 2,
            "linecolor": "white",
            "showbackground": true,
            "ticks": "",
            "zerolinecolor": "white"
           },
           "zaxis": {
            "backgroundcolor": "#E5ECF6",
            "gridcolor": "white",
            "gridwidth": 2,
            "linecolor": "white",
            "showbackground": true,
            "ticks": "",
            "zerolinecolor": "white"
           }
          },
          "shapedefaults": {
           "line": {
            "color": "#2a3f5f"
           }
          },
          "ternary": {
           "aaxis": {
            "gridcolor": "white",
            "linecolor": "white",
            "ticks": ""
           },
           "baxis": {
            "gridcolor": "white",
            "linecolor": "white",
            "ticks": ""
           },
           "bgcolor": "#E5ECF6",
           "caxis": {
            "gridcolor": "white",
            "linecolor": "white",
            "ticks": ""
           }
          },
          "title": {
           "x": 0.05
          },
          "xaxis": {
           "automargin": true,
           "gridcolor": "white",
           "linecolor": "white",
           "ticks": "",
           "title": {
            "standoff": 15
           },
           "zerolinecolor": "white",
           "zerolinewidth": 2
          },
          "yaxis": {
           "automargin": true,
           "gridcolor": "white",
           "linecolor": "white",
           "ticks": "",
           "title": {
            "standoff": 15
           },
           "zerolinecolor": "white",
           "zerolinewidth": 2
          }
         }
        },
        "title": {
         "text": "Preço PETR4.SA e Volatility Entropy"
        },
        "xaxis": {
         "title": {
          "text": "Data"
         }
        },
        "yaxis": {
         "title": {
          "text": "Preço PETR4.SA"
         }
        },
        "yaxis2": {
         "overlaying": "y",
         "side": "right",
         "title": {
          "text": "Volatility Entropy"
         }
        },
        "yaxis3": {
         "anchor": "free",
         "overlaying": "y",
         "position": 1,
         "showgrid": false,
         "side": "right",
         "title": {
          "text": "Volatility RSI"
         }
        }
       }
      }
     },
     "metadata": {},
     "output_type": "display_data"
    }
   ],
   "source": [
    "import plotly.graph_objects as go\n",
    "\n",
    "fig = go.Figure()\n",
    "\n",
    "fig.add_trace(go.Scatter(\n",
    "    y=data[\"Close\"][\"PETR4.SA\"],\n",
    "    x=data.index,\n",
    "    name=\"Preço PETR4.SA\",\n",
    "    yaxis=\"y1\"\n",
    "))\n",
    "\n",
    "fig.add_trace(go.Scatter(\n",
    "    x=data.index,\n",
    "    y=vol_ent,\n",
    "    name=\"Volatility Entropy\",\n",
    "    yaxis=\"y2\"\n",
    "))\n",
    "\n",
    "fig.add_trace(go.Scatter(\n",
    "    x=data.index,\n",
    "    y=vol_rsi,\n",
    "    name=\"Volatility RSI\",\n",
    "    yaxis=\"y3\"\n",
    "))\n",
    "\n",
    "\n",
    "fig.update_layout(\n",
    "    yaxis3=dict(\n",
    "        title=\"Volatility RSI\",\n",
    "        anchor=\"free\",\n",
    "        overlaying=\"y\",\n",
    "        side=\"right\",\n",
    "        position=1.0,\n",
    "        showgrid=False\n",
    "    )\n",
    ")\n",
    "\n",
    "fig.update_layout(\n",
    "    title=\"Preço PETR4.SA e Volatility Entropy\",\n",
    "    xaxis_title=\"Data\",\n",
    "    yaxis=dict(title=\"Preço PETR4.SA\"),\n",
    "    yaxis2=dict(title=\"Volatility Entropy\", overlaying=\"y\", side=\"right\"),\n",
    "    legend=dict(x=0.01, y=0.99)\n",
    ")\n",
    "\n",
    "fig.show(fig_type=\"png\")"
   ]
  },
  {
   "cell_type": "markdown",
   "id": "b2616779",
   "metadata": {},
   "source": [
    "# Bollinger's Band"
   ]
  },
  {
   "cell_type": "code",
   "execution_count": 9,
   "id": "8294c290",
   "metadata": {},
   "outputs": [
    {
     "data": {
      "text/plain": [
       "np.int64(55)"
      ]
     },
     "execution_count": 9,
     "metadata": {},
     "output_type": "execute_result"
    }
   ],
   "source": [
    "np.sum(bollinger_bands(data[\"Close\"][\"PETR4.SA\"]))"
   ]
  },
  {
   "cell_type": "code",
   "execution_count": 10,
   "id": "9273e72e",
   "metadata": {},
   "outputs": [
    {
     "data": {
      "text/plain": [
       "np.int64(173)"
      ]
     },
     "execution_count": 10,
     "metadata": {},
     "output_type": "execute_result"
    }
   ],
   "source": [
    "np.sum(bollinger_bands(data[\"Close\"][\"PETR4.SA\"], center=np.median, spread=mad))"
   ]
  },
  {
   "cell_type": "markdown",
   "id": "418522a7",
   "metadata": {},
   "source": [
    "# Hampel Filter"
   ]
  },
  {
   "cell_type": "code",
   "execution_count": 11,
   "id": "c83ba089",
   "metadata": {},
   "outputs": [],
   "source": [
    "hf = hampel_filter(data[\"Close\"][\"PETR4.SA\"], rolling_window=7)"
   ]
  },
  {
   "cell_type": "code",
   "execution_count": 12,
   "id": "80bd8c86",
   "metadata": {},
   "outputs": [
    {
     "data": {
      "text/plain": [
       "Date\n",
       "2024-05-22    30.161890\n",
       "2024-07-04    31.138037\n",
       "2024-10-09    31.938404\n",
       "2025-02-07    33.884270\n",
       "Name: PETR4.SA, dtype: float64"
      ]
     },
     "execution_count": 12,
     "metadata": {},
     "output_type": "execute_result"
    }
   ],
   "source": [
    "data[\"Close\"][\"PETR4.SA\"][hf]"
   ]
  },
  {
   "cell_type": "markdown",
   "id": "d721a459",
   "metadata": {},
   "source": [
    "# ADI-CV Framework"
   ]
  },
  {
   "cell_type": "code",
   "execution_count": 13,
   "id": "d7ad151f",
   "metadata": {},
   "outputs": [
    {
     "data": {
      "text/plain": [
       "(np.float64(1.0), np.float64(7.922816251426432e+34))"
      ]
     },
     "execution_count": 13,
     "metadata": {},
     "output_type": "execute_result"
    }
   ],
   "source": [
    "adi_cv(r)"
   ]
  },
  {
   "cell_type": "markdown",
   "id": "b21e8f9d",
   "metadata": {},
   "source": [
    "# Sampen"
   ]
  },
  {
   "cell_type": "code",
   "execution_count": 14,
   "id": "b778bd0d",
   "metadata": {},
   "outputs": [
    {
     "data": {
      "text/plain": [
       "np.float64(1.6942611047431773)"
      ]
     },
     "execution_count": 14,
     "metadata": {},
     "output_type": "execute_result"
    }
   ],
   "source": [
    "sample_entropy(r, m=3)"
   ]
  },
  {
   "cell_type": "code",
   "execution_count": 15,
   "id": "e80832d8",
   "metadata": {},
   "outputs": [
    {
     "data": {
      "text/plain": [
       "np.float64(0.16791509477225003)"
      ]
     },
     "execution_count": 15,
     "metadata": {},
     "output_type": "execute_result"
    }
   ],
   "source": [
    "sample_entropy(pure_sine, m=2)"
   ]
  },
  {
   "cell_type": "markdown",
   "id": "49328247",
   "metadata": {},
   "source": [
    "# Permutation Entropy"
   ]
  },
  {
   "cell_type": "code",
   "execution_count": 16,
   "id": "2c189dc2",
   "metadata": {},
   "outputs": [
    {
     "data": {
      "text/plain": [
       "np.float64(2.584119005504062)"
      ]
     },
     "execution_count": 16,
     "metadata": {},
     "output_type": "execute_result"
    }
   ],
   "source": [
    "permutation_entropy(r, m=3, delay=1, normalize=False)"
   ]
  },
  {
   "cell_type": "code",
   "execution_count": 17,
   "id": "4666adac",
   "metadata": {},
   "outputs": [
    {
     "data": {
      "text/plain": [
       "np.float64(0.9996736915073782)"
      ]
     },
     "execution_count": 17,
     "metadata": {},
     "output_type": "execute_result"
    }
   ],
   "source": [
    "permutation_entropy(r, m=3, delay=1, normalize=True)"
   ]
  },
  {
   "cell_type": "code",
   "execution_count": 18,
   "id": "bef3586b",
   "metadata": {},
   "outputs": [
    {
     "data": {
      "text/plain": [
       "np.float64(2.487321011069855)"
      ]
     },
     "execution_count": 18,
     "metadata": {},
     "output_type": "execute_result"
    }
   ],
   "source": [
    "permutation_entropy(data[\"Close\"][\"PETR4.SA\"], m=3, delay=1, normalize=False)"
   ]
  },
  {
   "cell_type": "markdown",
   "id": "3a28410e",
   "metadata": {},
   "source": [
    "# Stability Index"
   ]
  },
  {
   "cell_type": "code",
   "execution_count": 19,
   "id": "4dc04655",
   "metadata": {},
   "outputs": [
    {
     "data": {
      "text/plain": [
       "np.float64(0.1357412653446648)"
      ]
     },
     "execution_count": 19,
     "metadata": {},
     "output_type": "execute_result"
    }
   ],
   "source": [
    "stability_index(r)"
   ]
  },
  {
   "cell_type": "code",
   "execution_count": 20,
   "id": "891e273e",
   "metadata": {},
   "outputs": [
    {
     "data": {
      "text/plain": [
       "np.float64(0.8656234267494547)"
      ]
     },
     "execution_count": 20,
     "metadata": {},
     "output_type": "execute_result"
    }
   ],
   "source": [
    "stability_index(pure_sine)"
   ]
  },
  {
   "cell_type": "markdown",
   "id": "7040b8b7",
   "metadata": {},
   "source": [
    "# Theorical Limit"
   ]
  },
  {
   "cell_type": "code",
   "execution_count": 21,
   "id": "2856e7fd",
   "metadata": {},
   "outputs": [
    {
     "data": {
      "text/plain": [
       "np.float64(0.07754109228495298)"
      ]
     },
     "execution_count": 21,
     "metadata": {},
     "output_type": "execute_result"
    }
   ],
   "source": [
    "theoretical_limit(data[\"Close\"][\"PETR4.SA\"], m=4, delay=1)"
   ]
  },
  {
   "cell_type": "code",
   "execution_count": 22,
   "id": "89cf22de",
   "metadata": {},
   "outputs": [
    {
     "data": {
      "text/plain": [
       "np.float64(0.7114310780157527)"
      ]
     },
     "execution_count": 22,
     "metadata": {},
     "output_type": "execute_result"
    }
   ],
   "source": [
    "theoretical_limit(pure_sine, m=4, delay=1)"
   ]
  },
  {
   "cell_type": "markdown",
   "id": "64a5edd7",
   "metadata": {},
   "source": [
    "# Foreca"
   ]
  },
  {
   "cell_type": "code",
   "execution_count": 23,
   "id": "869394e7",
   "metadata": {},
   "outputs": [
    {
     "data": {
      "text/plain": [
       "0.0722612339855565"
      ]
     },
     "execution_count": 23,
     "metadata": {},
     "output_type": "execute_result"
    }
   ],
   "source": [
    "foreca(r)"
   ]
  },
  {
   "cell_type": "code",
   "execution_count": 24,
   "id": "7a6b7954",
   "metadata": {},
   "outputs": [
    {
     "data": {
      "text/plain": [
       "array([0.13470088, 0.13470088, 0.13470088, 0.13470088, 0.13470088,\n",
       "       0.13470088, 0.13470088, 0.13470088, 0.13470088, 0.13470088,\n",
       "       0.13470088, 0.13470088, 0.13470088, 0.13470088, 0.13470088,\n",
       "       0.13470088, 0.13470088, 0.13470088, 0.13470088, 0.13470088,\n",
       "       0.13470088, 0.13470088, 0.13470088, 0.13470088, 0.13470088,\n",
       "       0.13470088, 0.13470088, 0.13470088, 0.13470088, 0.13470088,\n",
       "       0.13470088, 0.13470088, 0.13470088, 0.13470088, 0.13470088,\n",
       "       0.13470088, 0.13470088, 0.13470088, 0.13470088, 0.13470088,\n",
       "       0.13470088, 0.13470088, 0.13470088, 0.13470088, 0.13470088,\n",
       "       0.13470088, 0.13470088, 0.13470088, 0.13470088, 0.13470088,\n",
       "       0.13470088, 0.13470088, 0.13470088, 0.13470088, 0.13470088,\n",
       "       0.13470088, 0.13470088, 0.13470088, 0.13470088, 0.13470088,\n",
       "       0.12967784, 0.12326263, 0.12346414, 0.11431555, 0.12105048,\n",
       "       0.12100501, 0.11642922, 0.12136666, 0.12150803, 0.12041785,\n",
       "       0.12596364, 0.12831577, 0.13092311, 0.13255508, 0.13255852,\n",
       "       0.12967101, 0.12928667, 0.1372224 , 0.15134751, 0.15318311,\n",
       "       0.15521403, 0.1319652 , 0.11191238, 0.10817739, 0.11033646,\n",
       "       0.11129845, 0.11133039, 0.11194368, 0.1105079 , 0.1116878 ,\n",
       "       0.10790618, 0.1042031 , 0.11926448, 0.11858751, 0.12007881,\n",
       "       0.13273328, 0.13071655, 0.12245154, 0.11394198, 0.10983112,\n",
       "       0.1338831 , 0.14431021, 0.12507498, 0.14128014, 0.14132078,\n",
       "       0.14494183, 0.15537185, 0.1523832 , 0.12410264, 0.12410267,\n",
       "       0.12419629, 0.12730914, 0.11931532, 0.12316813, 0.11669397,\n",
       "       0.10343683, 0.10243363, 0.10366269, 0.10022382, 0.10464326,\n",
       "       0.10209251, 0.10697964, 0.10550391, 0.10585806, 0.11456165,\n",
       "       0.11699855, 0.1184961 , 0.11642999, 0.11618552, 0.11456043,\n",
       "       0.1308436 , 0.12147804, 0.12515772, 0.13277637, 0.13225904,\n",
       "       0.13712342, 0.14129624, 0.1340268 , 0.13247393, 0.13101346,\n",
       "       0.12407561, 0.11199437, 0.11156467, 0.1180687 , 0.11106963,\n",
       "       0.1600764 , 0.15655998, 0.14614559, 0.14539457, 0.14504754,\n",
       "       0.14508359, 0.15314759, 0.14225906, 0.13889309, 0.1349227 ,\n",
       "       0.13521243, 0.12372771, 0.1193994 , 0.11950081, 0.11203601,\n",
       "       0.10847408, 0.10975637, 0.08873042, 0.08851452, 0.09728262,\n",
       "       0.10073609, 0.09936532, 0.11324123, 0.12035922, 0.11119567,\n",
       "       0.11113665, 0.11951041, 0.12066659, 0.10901516, 0.10602885,\n",
       "       0.10818022, 0.10490558, 0.11187653, 0.10576927, 0.11461743,\n",
       "       0.11241436, 0.12489953, 0.1196772 , 0.12274468, 0.11714679,\n",
       "       0.11572164, 0.11846986, 0.11625032, 0.11560347, 0.116015  ,\n",
       "       0.11596633, 0.11763001, 0.14155897, 0.17035519, 0.16945857,\n",
       "       0.17115855, 0.16859198, 0.15979829, 0.16658891, 0.16475135,\n",
       "       0.16193151, 0.15733927, 0.15719553, 0.15658757, 0.15613354,\n",
       "       0.12666508, 0.11268102, 0.10108215, 0.09432358, 0.09941113,\n",
       "       0.10061117, 0.10657036, 0.10665401, 0.11128855, 0.1113999 ,\n",
       "       0.11295809, 0.11250922, 0.10640087, 0.10650909, 0.09846296,\n",
       "       0.10120801, 0.09833351, 0.08948109, 0.08852851, 0.10232217,\n",
       "       0.10325286, 0.10148539, 0.09695124, 0.09931967, 0.09847073,\n",
       "       0.10827981, 0.10625313, 0.10482227, 0.1059049 , 0.11669089,\n",
       "       0.11300813, 0.11822395, 0.11388991, 0.11508958, 0.12316097,\n",
       "       0.12023694, 0.11760792, 0.11668468, 0.11641521, 0.12852929,\n",
       "       0.12978714, 0.12879749, 0.1300982 , 0.13933165, 0.13199128,\n",
       "       0.13506131, 0.13076531, 0.1280112 , 0.12635352, 0.1313706 ,\n",
       "       0.12916856, 0.13007603, 0.13562057, 0.13446203, 0.14677372,\n",
       "       0.13944451, 0.10688623, 0.10641157, 0.11192946, 0.11405012,\n",
       "       0.11287329, 0.11486711, 0.11959131, 0.11713194, 0.10625161,\n",
       "       0.09757059, 0.11316252, 0.1136295 , 0.11663664, 0.11289674,\n",
       "       0.11612786, 0.11041254, 0.12765129, 0.14637547, 0.15208193,\n",
       "       0.15162363, 0.15113578, 0.14457542, 0.14291803, 0.1486972 ,\n",
       "       0.13881847, 0.1386957 , 0.13984614, 0.12819469, 0.13365598,\n",
       "       0.14700545, 0.14239137, 0.1428006 , 0.13940075, 0.14584005,\n",
       "       0.1477774 , 0.15262862, 0.13344493, 0.13472395, 0.12482194,\n",
       "       0.11038608, 0.12387695, 0.12405406, 0.12793109, 0.12754785,\n",
       "       0.11778798, 0.11837567, 0.12083055, 0.11996246, 0.11979841,\n",
       "       0.12381553, 0.12362476, 0.13269207, 0.12143014, 0.12177058,\n",
       "       0.13175031, 0.13342723, 0.1306448 , 0.13055542, 0.1403697 ,\n",
       "       0.14203125, 0.14308607, 0.14297561, 0.14600227, 0.14826612,\n",
       "       0.1475441 , 0.14028818, 0.12386215, 0.12309729, 0.12423995,\n",
       "       0.12610257, 0.1376515 , 0.13923701, 0.10746403, 0.1053375 ,\n",
       "       0.13429481, 0.14310461, 0.12407728, 0.12392635, 0.13531624,\n",
       "       0.13494256, 0.133118  , 0.13304875, 0.12408545, 0.17438396,\n",
       "       0.17776787, 0.12111149, 0.12226966, 0.12260761, 0.13751822,\n",
       "       0.1174234 , 0.11834429, 0.11833957, 0.14530252, 0.14611861,\n",
       "       0.1466962 , 0.14886615, 0.16544567, 0.16171458, 0.17010646,\n",
       "       0.16144225, 0.1595199 , 0.15389172, 0.14520549, 0.16369874,\n",
       "       0.16326888, 0.16461548, 0.1772452 , 0.19296174, 0.22436221,\n",
       "       0.24461206, 0.20856465, 0.13828351, 0.13532507, 0.13457847,\n",
       "       0.12296808, 0.12125347, 0.12487544, 0.12781204, 0.12473795,\n",
       "       0.12466289, 0.13008405, 0.12961466, 0.13046583, 0.11864093,\n",
       "       0.1130188 , 0.12360946, 0.11869656, 0.1173571 , 0.12073022,\n",
       "       0.12225484, 0.12398055, 0.11959835, 0.11991477, 0.11886924,\n",
       "       0.1131789 , 0.11177229, 0.11049322, 0.12134458, 0.1233252 ,\n",
       "       0.12141487, 0.11986962, 0.11674569, 0.11923356, 0.1049669 ,\n",
       "       0.10143562, 0.10280566, 0.10207273, 0.09635491, 0.09665   ,\n",
       "       0.09746253, 0.10086832, 0.11045585, 0.10940907, 0.11017151,\n",
       "       0.12011835, 0.11444601, 0.12109713, 0.12061212, 0.11983785,\n",
       "       0.11853262, 0.11076089, 0.115525  , 0.11071956, 0.11063108,\n",
       "       0.10979653, 0.1104579 , 0.11210828, 0.11810823, 0.14062852,\n",
       "       0.12803739, 0.12563382, 0.11297475, 0.12108116, 0.12139596,\n",
       "       0.12668788, 0.12426045, 0.11809887, 0.11415211, 0.11083177,\n",
       "       0.11324606, 0.10681938, 0.1059277 , 0.10993051, 0.1168127 ,\n",
       "       0.11569588, 0.12793838, 0.12922316, 0.13064684, 0.13630982,\n",
       "       0.13501044, 0.14300645, 0.14580268, 0.14550595, 0.13282951,\n",
       "       0.1328165 , 0.13523352, 0.1322827 , 0.1317549 , 0.13339251,\n",
       "       0.13596781, 0.12829313, 0.12764996, 0.12917422, 0.11432767,\n",
       "       0.1079038 , 0.11444562, 0.10388555, 0.11904961, 0.12058103,\n",
       "       0.11869331, 0.11094955, 0.09364355, 0.09191255, 0.08427491,\n",
       "       0.08991545, 0.07714269, 0.08051607, 0.08136487, 0.08389682,\n",
       "       0.08789417, 0.09375598, 0.10951575, 0.10912591, 0.10967368,\n",
       "       0.11180067, 0.12916658, 0.12677065, 0.12911438, 0.12847024,\n",
       "       0.12836328, 0.12901556, 0.1265975 , 0.12654158, 0.12880654,\n",
       "       0.13018139, 0.12012866, 0.12039679, 0.1193007 , 0.1189068 ])"
      ]
     },
     "execution_count": 24,
     "metadata": {},
     "output_type": "execute_result"
    }
   ],
   "source": [
    "trailing_window(r, rolling_window=60, func=foreca)"
   ]
  },
  {
   "cell_type": "code",
   "execution_count": 25,
   "id": "f3ce2558",
   "metadata": {},
   "outputs": [
    {
     "data": {
      "text/plain": [
       "0.9993976808641186"
      ]
     },
     "execution_count": 25,
     "metadata": {},
     "output_type": "execute_result"
    }
   ],
   "source": [
    "foreca(pure_sine)"
   ]
  },
  {
   "cell_type": "code",
   "execution_count": 26,
   "id": "78bcc5cb",
   "metadata": {},
   "outputs": [
    {
     "data": {
      "text/plain": [
       "array([0.87814292, 0.87814292, 0.87814292, 0.87814292, 0.87814292,\n",
       "       0.87814292, 0.87814292, 0.87814292, 0.87814292, 0.87814292,\n",
       "       0.87814292, 0.87814292, 0.87814292, 0.87814292, 0.87814292,\n",
       "       0.87814292, 0.87814292, 0.87814292, 0.87814292, 0.87814292,\n",
       "       0.87814292, 0.87814292, 0.87814292, 0.87814292, 0.87814292,\n",
       "       0.87814292, 0.87814292, 0.87814292, 0.87814292, 0.87814292,\n",
       "       0.87814292, 0.87814292, 0.87814292, 0.87814292, 0.87814292,\n",
       "       0.87814292, 0.87814292, 0.87814292, 0.87814292, 0.87814292,\n",
       "       0.87814292, 0.87814292, 0.87814292, 0.87814292, 0.87814292,\n",
       "       0.87814292, 0.87814292, 0.87814292, 0.87814292, 0.87814292,\n",
       "       0.87814292, 0.87814292, 0.87814292, 0.87814292, 0.87814292,\n",
       "       0.87814292, 0.87814292, 0.87814292, 0.87814292, 0.87814292,\n",
       "       0.85659439, 0.83599743, 0.81701635, 0.79995579, 0.78488091,\n",
       "       0.77171463, 0.76030651, 0.75047711, 0.74204419, 0.73483677,\n",
       "       0.72870169, 0.72350584, 0.7191359 , 0.71549702, 0.7125111 ,\n",
       "       0.71011489, 0.70825837, 0.70690328, 0.70602203, 0.70559683,\n",
       "       0.70561914, 0.70608941, 0.70701709, 0.70842091, 0.7103295 ,\n",
       "       0.71278222, 0.71583036, 0.71953856, 0.72398654, 0.7292709 ,\n",
       "       0.73550688, 0.74282964, 0.75139426, 0.76137323, 0.77294932,\n",
       "       0.78630048, 0.80157218, 0.81883082, 0.83799213, 0.85872118,\n",
       "       0.88031077, 0.90156475, 0.92073967, 0.93561753, 0.94376518,\n",
       "       0.94306497, 0.93375548, 0.91807901, 0.89846048, 0.87705837,\n",
       "       0.85553466, 0.83500622, 0.81611639, 0.79915509, 0.78417832,\n",
       "       0.7711039 , 0.75977908, 0.75002379, 0.74165607, 0.73450573,\n",
       "       0.72842062, 0.72326859, 0.7189373 , 0.7153328 , 0.71237775,\n",
       "       0.71000961, 0.70817897, 0.70684815, 0.70599004, 0.70558734,\n",
       "       0.70563197, 0.70612481, 0.70707577, 0.70850407, 0.71043884,\n",
       "       0.71292001, 0.7159995 , 0.71974266, 0.72423002, 0.72955906,\n",
       "       0.735846  , 0.74322701, 0.75185813, 0.76191257, 0.77357332,\n",
       "       0.78701749, 0.80238787, 0.81974528, 0.83899551, 0.85978801,\n",
       "       0.8813937 , 0.90258966, 0.92160557, 0.93620488, 0.94395386,\n",
       "       0.9427877 , 0.93310249, 0.91717214, 0.89741669, 0.87597363,\n",
       "       0.85447751, 0.83401918, 0.81522129, 0.79835938, 0.78348049,\n",
       "       0.77049754, 0.75925558, 0.74957392, 0.74127098, 0.73417736,\n",
       "       0.72814187, 0.72303339, 0.71874052, 0.7151702 , 0.71224587,\n",
       "       0.70990568, 0.70810083, 0.7067942 , 0.70595919, 0.70557898,\n",
       "       0.70564592, 0.70616136, 0.70713565, 0.70858849, 0.71054954,\n",
       "       0.71305929, 0.71617029, 0.71994862, 0.72447559, 0.7298496 ,\n",
       "       0.73618785, 0.7436275 , 0.75232554, 0.76245593, 0.77420178,\n",
       "       0.78773932, 0.80320856, 0.82066452, 0.84000282, 0.86085699,\n",
       "       0.88247573, 0.90360922, 0.92246047, 0.93677507, 0.94411978,\n",
       "       0.94248894, 0.93243387, 0.91625577, 0.89636879, 0.87488887,\n",
       "       0.85342306, 0.83303637, 0.81433108, 0.79756865, 0.78278741,\n",
       "       0.76989555, 0.75873597, 0.7491275 , 0.74088891, 0.73385163,\n",
       "       0.72786543, 0.72280022, 0.71854555, 0.71500922, 0.71211544,\n",
       "       0.70980307, 0.70802393, 0.70674142, 0.70592948, 0.70557173,\n",
       "       0.70566099, 0.70619905, 0.70719672, 0.70867418, 0.71066161,\n",
       "       0.71320007, 0.71634274, 0.72015644, 0.72472328, 0.73014256,\n",
       "       0.73653244, 0.74403113, 0.75279654, 0.76300333, 0.77483473,\n",
       "       0.78846601, 0.80403424, 0.82158852, 0.841014  , 0.86192797,\n",
       "       0.88355666, 0.90462317, 0.92330407, 0.93732777, 0.94426268,\n",
       "       0.94216895, 0.93174993, 0.9153302 , 0.89531703, 0.87380426,\n",
       "       0.85237141, 0.83205782, 0.81344577, 0.7967829 , 0.78209907,\n",
       "       0.76929789, 0.75822024, 0.7486845 , 0.74050985, 0.73352852,\n",
       "       0.72759129, 0.72256907, 0.71835236, 0.71484983, 0.71198647,\n",
       "       0.7097018 , 0.70794826, 0.70668982, 0.70590091, 0.7055656 ,\n",
       "       0.70567718, 0.70623789, 0.70725899, 0.70876115, 0.71077505,\n",
       "       0.71334235, 0.71651687, 0.72036614, 0.72497309, 0.73043793,\n",
       "       0.73687981, 0.74443792, 0.75327114, 0.76355479, 0.77547219,\n",
       "       0.78919755, 0.80486493, 0.82251725, 0.84202899, 0.86300086,\n",
       "       0.8846363 , 0.90563126, 0.92413607, 0.9378627 , 0.94438232,\n",
       "       0.941828  , 0.93105097, 0.91439571, 0.89426162, 0.87271997,\n",
       "       0.85132264, 0.8310836 , 0.81256538, 0.79600212, 0.78141545,\n",
       "       0.76870454, 0.75770837, 0.74824491, 0.74013376, 0.73320801,\n",
       "       0.72731944, 0.72233993, 0.71816096, 0.71469204, 0.71185893,\n",
       "       0.70960185, 0.70787384, 0.7066394 , 0.70587346, 0.70556058,\n",
       "       0.70569449, 0.70627788, 0.70732246, 0.70884939, 0.71088988,\n",
       "       0.71348615, 0.71669269, 0.72057773, 0.72522505, 0.73073575,\n",
       "       0.73722996, 0.7448479 , 0.75374936, 0.76411033, 0.77611418,\n",
       "       0.78993396, 0.80570061, 0.82345069, 0.8430477 , 0.8640755 ,\n",
       "       0.88571445, 0.90663321, 0.92495616, 0.93837954, 0.94447848,\n",
       "       0.94146637, 0.93033732, 0.9134526 , 0.89320281, 0.87163615,\n",
       "       0.85027687, 0.83011375, 0.81168991, 0.79522631, 0.78073653,\n",
       "       0.76811548, 0.75720033, 0.74780869, 0.73976063, 0.7328901 ,\n",
       "       0.72704985, 0.7221128 , 0.71797133, 0.71453584, 0.71173284,\n",
       "       0.70950323, 0.70780064, 0.70659014, 0.70584714, 0.70555668,\n",
       "       0.70571293, 0.70631901, 0.70738713, 0.70893891, 0.71100609,\n",
       "       0.71363148, 0.7168702 , 0.72079123, 0.72547916, 0.73103601,\n",
       "       0.73758292, 0.74526108, 0.75423124, 0.76466999, 0.77676071,\n",
       "       0.79067526, 0.80654129, 0.8243888 , 0.84407008, 0.86515179,\n",
       "       0.88679093, 0.90762878, 0.92576403, 0.93887801, 0.94455093,\n",
       "       0.94108433, 0.92960926, 0.91250116, 0.89214082, 0.87055297,\n",
       "       0.84923419, 0.82914832, 0.8108194 , 0.79445546, 0.7800623 ,\n",
       "       0.76753069, 0.75669609, 0.74737582, 0.73939044, 0.73257475,\n",
       "       0.72678252, 0.72188764, 0.71778346, 0.71438121, 0.71160818,\n",
       "       0.70940592, 0.70772867, 0.70654205, 0.70582196, 0.7055539 ,\n",
       "       0.70573248, 0.70636131, 0.70745301, 0.70902972, 0.7111237 ,\n",
       "       0.71377833, 0.71704941, 0.72100664, 0.72573544, 0.73133875,\n",
       "       0.7379387 , 0.74567749, 0.75471678, 0.76523377, 0.77741181,\n",
       "       0.79142146, 0.80738695, 0.82533156, 0.84509604, 0.86622957,\n",
       "       0.88786552, 0.90861768, 0.92655937, 0.9393578 , 0.94459944,\n",
       "       0.94068217, 0.92886713, 0.91154166, 0.89107588, 0.86947057,\n",
       "       0.84819467, 0.82818734, 0.80995383, 0.79368956, 0.77939273,\n",
       "       0.76695015, 0.75619564, 0.74694629, 0.73902318, 0.73226196,\n",
       "       0.72651743, 0.72166446, 0.71759735, 0.71422816, 0.71148494,\n",
       "       0.70930991, 0.70765793, 0.70649512, 0.7057979 , 0.70555222,\n",
       "       0.70575316, 0.70640475, 0.7075201 , 0.70912182, 0.7112427 ,\n",
       "       0.71392673, 0.71723033, 0.72122397, 0.7259939 , 0.73164398,\n",
       "       0.73829732, 0.74609715, 0.75520601, 0.76580171, 0.7780675 ,\n",
       "       0.79217257, 0.8082376 , 0.82627892, 0.84612552, 0.86730873,\n",
       "       0.88893801, 0.90959964, 0.92734188, 0.93981862, 0.9446238 ,\n",
       "       0.94026017, 0.92811124, 0.9105744 , 0.8900082 , 0.86838911,\n",
       "       0.84715842, 0.82723087, 0.80909323, 0.7929286 , 0.7787278 ,\n",
       "       0.76637383, 0.75569896, 0.74652008, 0.73865881, 0.73195171,\n",
       "       0.72625456, 0.72144324, 0.71741297, 0.71407666, 0.71136311,\n",
       "       0.70921522, 0.70758841, 0.70644936, 0.70577497, 0.70555167,\n",
       "       0.70577497, 0.70644936, 0.70758841, 0.70921522, 0.71136311,\n",
       "       0.71407666, 0.71741297, 0.72144324, 0.72625456, 0.73195171,\n",
       "       0.73865881, 0.74652008, 0.75569896, 0.76637383, 0.7787278 ,\n",
       "       0.7929286 , 0.80909323, 0.82723087, 0.84715842, 0.86838911,\n",
       "       0.8900082 , 0.9105744 , 0.92811124, 0.94026017, 0.9446238 ,\n",
       "       0.93981862, 0.92734188, 0.90959964, 0.88893801, 0.86730873,\n",
       "       0.84612552, 0.82627892, 0.8082376 , 0.79217257, 0.7780675 ,\n",
       "       0.76580171, 0.75520601, 0.74609715, 0.73829732, 0.73164398,\n",
       "       0.7259939 , 0.72122397, 0.71723033, 0.71392673, 0.7112427 ,\n",
       "       0.70912182, 0.7075201 , 0.70640475, 0.70575316, 0.70555222,\n",
       "       0.7057979 , 0.70649512, 0.70765793, 0.70930991, 0.71148494,\n",
       "       0.71422816, 0.71759735, 0.72166446, 0.72651743, 0.73226196,\n",
       "       0.73902318, 0.74694629, 0.75619564, 0.76695015, 0.77939273,\n",
       "       0.79368956, 0.80995383, 0.82818734, 0.84819467, 0.86947057,\n",
       "       0.89107588, 0.91154166, 0.92886713, 0.94068217, 0.94459944,\n",
       "       0.9393578 , 0.92655937, 0.90861768, 0.88786552, 0.86622957,\n",
       "       0.84509604, 0.82533156, 0.80738695, 0.79142146, 0.77741181,\n",
       "       0.76523377, 0.75471678, 0.74567749, 0.7379387 , 0.73133875,\n",
       "       0.72573544, 0.72100664, 0.71704941, 0.71377833, 0.7111237 ,\n",
       "       0.70902972, 0.70745301, 0.70636131, 0.70573248, 0.7055539 ,\n",
       "       0.70582196, 0.70654205, 0.70772867, 0.70940592, 0.71160818,\n",
       "       0.71438121, 0.71778346, 0.72188764, 0.72678252, 0.73257475,\n",
       "       0.73939044, 0.74737582, 0.75669609, 0.76753069, 0.7800623 ,\n",
       "       0.79445546, 0.8108194 , 0.82914832, 0.84923419, 0.87055297,\n",
       "       0.89214082, 0.91250116, 0.92960926, 0.94108433, 0.94455093,\n",
       "       0.93887801, 0.92576403, 0.90762878, 0.88679093, 0.86515179,\n",
       "       0.84407008, 0.8243888 , 0.80654129, 0.79067526, 0.77676071,\n",
       "       0.76466999, 0.75423124, 0.74526108, 0.73758292, 0.73103601,\n",
       "       0.72547916, 0.72079123, 0.7168702 , 0.71363148, 0.71100609,\n",
       "       0.70893891, 0.70738713, 0.70631901, 0.70571293, 0.70555668,\n",
       "       0.70584714, 0.70659014, 0.70780064, 0.70950323, 0.71173284,\n",
       "       0.71453584, 0.71797133, 0.7221128 , 0.72704985, 0.7328901 ,\n",
       "       0.73976063, 0.74780869, 0.75720033, 0.76811548, 0.78073653,\n",
       "       0.79522631, 0.81168991, 0.83011375, 0.85027687, 0.87163615,\n",
       "       0.89320281, 0.9134526 , 0.93033732, 0.94146637, 0.94447848,\n",
       "       0.93837954, 0.92495616, 0.90663321, 0.88571445, 0.8640755 ,\n",
       "       0.8430477 , 0.82345069, 0.80570061, 0.78993396, 0.77611418,\n",
       "       0.76411033, 0.75374936, 0.7448479 , 0.73722996, 0.73073575,\n",
       "       0.72522505, 0.72057773, 0.71669269, 0.71348615, 0.71088988,\n",
       "       0.70884939, 0.70732246, 0.70627788, 0.70569449, 0.70556058,\n",
       "       0.70587346, 0.7066394 , 0.70787384, 0.70960185, 0.71185893,\n",
       "       0.71469204, 0.71816096, 0.72233993, 0.72731944, 0.73320801,\n",
       "       0.74013376, 0.74824491, 0.75770837, 0.76870454, 0.78141545,\n",
       "       0.79600212, 0.81256538, 0.8310836 , 0.85132264, 0.87271997,\n",
       "       0.89426162, 0.91439571, 0.93105097, 0.941828  , 0.94438232,\n",
       "       0.9378627 , 0.92413607, 0.90563126, 0.8846363 , 0.86300086,\n",
       "       0.84202899, 0.82251725, 0.80486493, 0.78919755, 0.77547219,\n",
       "       0.76355479, 0.75327114, 0.74443792, 0.73687981, 0.73043793,\n",
       "       0.72497309, 0.72036614, 0.71651687, 0.71334235, 0.71077505,\n",
       "       0.70876115, 0.70725899, 0.70623789, 0.70567718, 0.7055656 ,\n",
       "       0.70590091, 0.70668982, 0.70794826, 0.7097018 , 0.71198647,\n",
       "       0.71484983, 0.71835236, 0.72256907, 0.72759129, 0.73352852,\n",
       "       0.74050985, 0.7486845 , 0.75822024, 0.76929789, 0.78209907,\n",
       "       0.7967829 , 0.81344577, 0.83205782, 0.85237141, 0.87380426,\n",
       "       0.89531703, 0.9153302 , 0.93174993, 0.94216895, 0.94426268,\n",
       "       0.93732777, 0.92330407, 0.90462317, 0.88355666, 0.86192797,\n",
       "       0.841014  , 0.82158852, 0.80403424, 0.78846601, 0.77483473,\n",
       "       0.76300333, 0.75279654, 0.74403113, 0.73653244, 0.73014256,\n",
       "       0.72472328, 0.72015644, 0.71634274, 0.71320007, 0.71066161,\n",
       "       0.70867418, 0.70719672, 0.70619905, 0.70566099, 0.70557173,\n",
       "       0.70592948, 0.70674142, 0.70802393, 0.70980307, 0.71211544,\n",
       "       0.71500922, 0.71854555, 0.72280022, 0.72786543, 0.73385163,\n",
       "       0.74088891, 0.7491275 , 0.75873597, 0.76989555, 0.78278741,\n",
       "       0.79756865, 0.81433108, 0.83303637, 0.85342306, 0.87488887,\n",
       "       0.89636879, 0.91625577, 0.93243387, 0.94248894, 0.94411978,\n",
       "       0.93677507, 0.92246047, 0.90360922, 0.88247573, 0.86085699,\n",
       "       0.84000282, 0.82066452, 0.80320856, 0.78773932, 0.77420178,\n",
       "       0.76245593, 0.75232554, 0.7436275 , 0.73618785, 0.7298496 ,\n",
       "       0.72447559, 0.71994862, 0.71617029, 0.71305929, 0.71054954,\n",
       "       0.70858849, 0.70713565, 0.70616136, 0.70564592, 0.70557898,\n",
       "       0.70595919, 0.7067942 , 0.70810083, 0.70990568, 0.71224587,\n",
       "       0.7151702 , 0.71874052, 0.72303339, 0.72814187, 0.73417736,\n",
       "       0.74127098, 0.74957392, 0.75925558, 0.77049754, 0.78348049,\n",
       "       0.79835938, 0.81522129, 0.83401918, 0.85447751, 0.87597363,\n",
       "       0.89741669, 0.91717214, 0.93310249, 0.9427877 , 0.94395386,\n",
       "       0.93620488, 0.92160557, 0.90258966, 0.8813937 , 0.85978801,\n",
       "       0.83899551, 0.81974528, 0.80238787, 0.78701749, 0.77357332,\n",
       "       0.76191257, 0.75185813, 0.74322701, 0.735846  , 0.72955906,\n",
       "       0.72423002, 0.71974266, 0.7159995 , 0.71292001, 0.71043884,\n",
       "       0.70850407, 0.70707577, 0.70612481, 0.70563197, 0.70558734,\n",
       "       0.70599004, 0.70684815, 0.70817897, 0.71000961, 0.71237775,\n",
       "       0.7153328 , 0.7189373 , 0.72326859, 0.72842062, 0.73450573,\n",
       "       0.74165607, 0.75002379, 0.75977908, 0.7711039 , 0.78417832,\n",
       "       0.79915509, 0.81611639, 0.83500622, 0.85553466, 0.87705837,\n",
       "       0.89846048, 0.91807901, 0.93375548, 0.94306497, 0.94376518,\n",
       "       0.93561753, 0.92073967, 0.90156475, 0.88031077, 0.85872118,\n",
       "       0.83799213, 0.81883082, 0.80157218, 0.78630048, 0.77294932,\n",
       "       0.76137323, 0.75139426, 0.74282964, 0.73550688, 0.7292709 ,\n",
       "       0.72398654, 0.71953856, 0.71583036, 0.71278222, 0.7103295 ,\n",
       "       0.70842091, 0.70701709, 0.70608941, 0.70561914, 0.70559683,\n",
       "       0.70602203, 0.70690328, 0.70825837, 0.71011489, 0.7125111 ,\n",
       "       0.71549702, 0.7191359 , 0.72350584, 0.72870169, 0.73483677,\n",
       "       0.74204419, 0.75047711, 0.76030651, 0.77171463, 0.78488091,\n",
       "       0.79995579, 0.81701635, 0.83599743, 0.85659439, 0.87814292])"
      ]
     },
     "execution_count": 26,
     "metadata": {},
     "output_type": "execute_result"
    }
   ],
   "source": [
    "trailing_window(pure_sine, rolling_window=60, func=foreca)"
   ]
  },
  {
   "cell_type": "markdown",
   "id": "adc90af6",
   "metadata": {},
   "source": [
    "# Hurst's Exponent"
   ]
  },
  {
   "cell_type": "code",
   "execution_count": 27,
   "id": "86205dab",
   "metadata": {},
   "outputs": [
    {
     "data": {
      "text/plain": [
       "(0.4448072860333123, 0.20713719369101494)"
      ]
     },
     "execution_count": 27,
     "metadata": {},
     "output_type": "execute_result"
    }
   ],
   "source": [
    "hurst_exponent(r)"
   ]
  },
  {
   "cell_type": "code",
   "execution_count": 28,
   "id": "4afa7740",
   "metadata": {},
   "outputs": [
    {
     "data": {
      "application/vnd.plotly.v1+json": {
       "config": {
        "plotlyServerURL": "https://plot.ly"
       },
       "data": [
        {
         "name": "Preço PETR4.SA",
         "type": "scatter",
         "x": [
          "2023-10-10T00:00:00.000000000",
          "2023-10-11T00:00:00.000000000",
          "2023-10-13T00:00:00.000000000",
          "2023-10-16T00:00:00.000000000",
          "2023-10-17T00:00:00.000000000",
          "2023-10-18T00:00:00.000000000",
          "2023-10-19T00:00:00.000000000",
          "2023-10-20T00:00:00.000000000",
          "2023-10-23T00:00:00.000000000",
          "2023-10-24T00:00:00.000000000",
          "2023-10-25T00:00:00.000000000",
          "2023-10-26T00:00:00.000000000",
          "2023-10-27T00:00:00.000000000",
          "2023-10-30T00:00:00.000000000",
          "2023-10-31T00:00:00.000000000",
          "2023-11-01T00:00:00.000000000",
          "2023-11-03T00:00:00.000000000",
          "2023-11-06T00:00:00.000000000",
          "2023-11-07T00:00:00.000000000",
          "2023-11-08T00:00:00.000000000",
          "2023-11-09T00:00:00.000000000",
          "2023-11-10T00:00:00.000000000",
          "2023-11-13T00:00:00.000000000",
          "2023-11-14T00:00:00.000000000",
          "2023-11-16T00:00:00.000000000",
          "2023-11-17T00:00:00.000000000",
          "2023-11-20T00:00:00.000000000",
          "2023-11-21T00:00:00.000000000",
          "2023-11-22T00:00:00.000000000",
          "2023-11-23T00:00:00.000000000",
          "2023-11-24T00:00:00.000000000",
          "2023-11-27T00:00:00.000000000",
          "2023-11-28T00:00:00.000000000",
          "2023-11-29T00:00:00.000000000",
          "2023-11-30T00:00:00.000000000",
          "2023-12-01T00:00:00.000000000",
          "2023-12-04T00:00:00.000000000",
          "2023-12-05T00:00:00.000000000",
          "2023-12-06T00:00:00.000000000",
          "2023-12-07T00:00:00.000000000",
          "2023-12-08T00:00:00.000000000",
          "2023-12-11T00:00:00.000000000",
          "2023-12-12T00:00:00.000000000",
          "2023-12-13T00:00:00.000000000",
          "2023-12-14T00:00:00.000000000",
          "2023-12-15T00:00:00.000000000",
          "2023-12-18T00:00:00.000000000",
          "2023-12-19T00:00:00.000000000",
          "2023-12-20T00:00:00.000000000",
          "2023-12-21T00:00:00.000000000",
          "2023-12-22T00:00:00.000000000",
          "2023-12-26T00:00:00.000000000",
          "2023-12-27T00:00:00.000000000",
          "2023-12-28T00:00:00.000000000",
          "2024-01-02T00:00:00.000000000",
          "2024-01-03T00:00:00.000000000",
          "2024-01-04T00:00:00.000000000",
          "2024-01-05T00:00:00.000000000",
          "2024-01-08T00:00:00.000000000",
          "2024-01-09T00:00:00.000000000",
          "2024-01-10T00:00:00.000000000",
          "2024-01-11T00:00:00.000000000",
          "2024-01-12T00:00:00.000000000",
          "2024-01-15T00:00:00.000000000",
          "2024-01-16T00:00:00.000000000",
          "2024-01-17T00:00:00.000000000",
          "2024-01-18T00:00:00.000000000",
          "2024-01-19T00:00:00.000000000",
          "2024-01-22T00:00:00.000000000",
          "2024-01-23T00:00:00.000000000",
          "2024-01-24T00:00:00.000000000",
          "2024-01-25T00:00:00.000000000",
          "2024-01-26T00:00:00.000000000",
          "2024-01-29T00:00:00.000000000",
          "2024-01-30T00:00:00.000000000",
          "2024-01-31T00:00:00.000000000",
          "2024-02-01T00:00:00.000000000",
          "2024-02-02T00:00:00.000000000",
          "2024-02-05T00:00:00.000000000",
          "2024-02-06T00:00:00.000000000",
          "2024-02-07T00:00:00.000000000",
          "2024-02-08T00:00:00.000000000",
          "2024-02-09T00:00:00.000000000",
          "2024-02-14T00:00:00.000000000",
          "2024-02-15T00:00:00.000000000",
          "2024-02-16T00:00:00.000000000",
          "2024-02-19T00:00:00.000000000",
          "2024-02-20T00:00:00.000000000",
          "2024-02-21T00:00:00.000000000",
          "2024-02-22T00:00:00.000000000",
          "2024-02-23T00:00:00.000000000",
          "2024-02-26T00:00:00.000000000",
          "2024-02-27T00:00:00.000000000",
          "2024-02-28T00:00:00.000000000",
          "2024-02-29T00:00:00.000000000",
          "2024-03-01T00:00:00.000000000",
          "2024-03-04T00:00:00.000000000",
          "2024-03-05T00:00:00.000000000",
          "2024-03-06T00:00:00.000000000",
          "2024-03-07T00:00:00.000000000",
          "2024-03-08T00:00:00.000000000",
          "2024-03-11T00:00:00.000000000",
          "2024-03-12T00:00:00.000000000",
          "2024-03-13T00:00:00.000000000",
          "2024-03-14T00:00:00.000000000",
          "2024-03-15T00:00:00.000000000",
          "2024-03-18T00:00:00.000000000",
          "2024-03-19T00:00:00.000000000",
          "2024-03-20T00:00:00.000000000",
          "2024-03-21T00:00:00.000000000",
          "2024-03-22T00:00:00.000000000",
          "2024-03-25T00:00:00.000000000",
          "2024-03-26T00:00:00.000000000",
          "2024-03-27T00:00:00.000000000",
          "2024-03-28T00:00:00.000000000",
          "2024-04-01T00:00:00.000000000",
          "2024-04-02T00:00:00.000000000",
          "2024-04-03T00:00:00.000000000",
          "2024-04-04T00:00:00.000000000",
          "2024-04-05T00:00:00.000000000",
          "2024-04-08T00:00:00.000000000",
          "2024-04-09T00:00:00.000000000",
          "2024-04-10T00:00:00.000000000",
          "2024-04-11T00:00:00.000000000",
          "2024-04-12T00:00:00.000000000",
          "2024-04-15T00:00:00.000000000",
          "2024-04-16T00:00:00.000000000",
          "2024-04-17T00:00:00.000000000",
          "2024-04-18T00:00:00.000000000",
          "2024-04-19T00:00:00.000000000",
          "2024-04-22T00:00:00.000000000",
          "2024-04-23T00:00:00.000000000",
          "2024-04-24T00:00:00.000000000",
          "2024-04-25T00:00:00.000000000",
          "2024-04-26T00:00:00.000000000",
          "2024-04-29T00:00:00.000000000",
          "2024-04-30T00:00:00.000000000",
          "2024-05-02T00:00:00.000000000",
          "2024-05-03T00:00:00.000000000",
          "2024-05-06T00:00:00.000000000",
          "2024-05-07T00:00:00.000000000",
          "2024-05-08T00:00:00.000000000",
          "2024-05-09T00:00:00.000000000",
          "2024-05-10T00:00:00.000000000",
          "2024-05-13T00:00:00.000000000",
          "2024-05-14T00:00:00.000000000",
          "2024-05-15T00:00:00.000000000",
          "2024-05-16T00:00:00.000000000",
          "2024-05-17T00:00:00.000000000",
          "2024-05-20T00:00:00.000000000",
          "2024-05-21T00:00:00.000000000",
          "2024-05-22T00:00:00.000000000",
          "2024-05-23T00:00:00.000000000",
          "2024-05-24T00:00:00.000000000",
          "2024-05-27T00:00:00.000000000",
          "2024-05-28T00:00:00.000000000",
          "2024-05-29T00:00:00.000000000",
          "2024-05-31T00:00:00.000000000",
          "2024-06-03T00:00:00.000000000",
          "2024-06-04T00:00:00.000000000",
          "2024-06-05T00:00:00.000000000",
          "2024-06-06T00:00:00.000000000",
          "2024-06-07T00:00:00.000000000",
          "2024-06-10T00:00:00.000000000",
          "2024-06-11T00:00:00.000000000",
          "2024-06-12T00:00:00.000000000",
          "2024-06-13T00:00:00.000000000",
          "2024-06-14T00:00:00.000000000",
          "2024-06-17T00:00:00.000000000",
          "2024-06-18T00:00:00.000000000",
          "2024-06-19T00:00:00.000000000",
          "2024-06-20T00:00:00.000000000",
          "2024-06-21T00:00:00.000000000",
          "2024-06-24T00:00:00.000000000",
          "2024-06-25T00:00:00.000000000",
          "2024-06-26T00:00:00.000000000",
          "2024-06-27T00:00:00.000000000",
          "2024-06-28T00:00:00.000000000",
          "2024-07-01T00:00:00.000000000",
          "2024-07-02T00:00:00.000000000",
          "2024-07-03T00:00:00.000000000",
          "2024-07-04T00:00:00.000000000",
          "2024-07-05T00:00:00.000000000",
          "2024-07-08T00:00:00.000000000",
          "2024-07-09T00:00:00.000000000",
          "2024-07-10T00:00:00.000000000",
          "2024-07-11T00:00:00.000000000",
          "2024-07-12T00:00:00.000000000",
          "2024-07-15T00:00:00.000000000",
          "2024-07-16T00:00:00.000000000",
          "2024-07-17T00:00:00.000000000",
          "2024-07-18T00:00:00.000000000",
          "2024-07-19T00:00:00.000000000",
          "2024-07-22T00:00:00.000000000",
          "2024-07-23T00:00:00.000000000",
          "2024-07-24T00:00:00.000000000",
          "2024-07-25T00:00:00.000000000",
          "2024-07-26T00:00:00.000000000",
          "2024-07-29T00:00:00.000000000",
          "2024-07-30T00:00:00.000000000",
          "2024-07-31T00:00:00.000000000",
          "2024-08-01T00:00:00.000000000",
          "2024-08-02T00:00:00.000000000",
          "2024-08-05T00:00:00.000000000",
          "2024-08-06T00:00:00.000000000",
          "2024-08-07T00:00:00.000000000",
          "2024-08-08T00:00:00.000000000",
          "2024-08-09T00:00:00.000000000",
          "2024-08-12T00:00:00.000000000",
          "2024-08-13T00:00:00.000000000",
          "2024-08-14T00:00:00.000000000",
          "2024-08-15T00:00:00.000000000",
          "2024-08-16T00:00:00.000000000",
          "2024-08-19T00:00:00.000000000",
          "2024-08-20T00:00:00.000000000",
          "2024-08-21T00:00:00.000000000",
          "2024-08-22T00:00:00.000000000",
          "2024-08-23T00:00:00.000000000",
          "2024-08-26T00:00:00.000000000",
          "2024-08-27T00:00:00.000000000",
          "2024-08-28T00:00:00.000000000",
          "2024-08-29T00:00:00.000000000",
          "2024-08-30T00:00:00.000000000",
          "2024-09-02T00:00:00.000000000",
          "2024-09-03T00:00:00.000000000",
          "2024-09-04T00:00:00.000000000",
          "2024-09-05T00:00:00.000000000",
          "2024-09-06T00:00:00.000000000",
          "2024-09-09T00:00:00.000000000",
          "2024-09-10T00:00:00.000000000",
          "2024-09-11T00:00:00.000000000",
          "2024-09-12T00:00:00.000000000",
          "2024-09-13T00:00:00.000000000",
          "2024-09-16T00:00:00.000000000",
          "2024-09-17T00:00:00.000000000",
          "2024-09-18T00:00:00.000000000",
          "2024-09-19T00:00:00.000000000",
          "2024-09-20T00:00:00.000000000",
          "2024-09-23T00:00:00.000000000",
          "2024-09-24T00:00:00.000000000",
          "2024-09-25T00:00:00.000000000",
          "2024-09-26T00:00:00.000000000",
          "2024-09-27T00:00:00.000000000",
          "2024-09-30T00:00:00.000000000",
          "2024-10-01T00:00:00.000000000",
          "2024-10-02T00:00:00.000000000",
          "2024-10-03T00:00:00.000000000",
          "2024-10-04T00:00:00.000000000",
          "2024-10-07T00:00:00.000000000",
          "2024-10-08T00:00:00.000000000",
          "2024-10-09T00:00:00.000000000",
          "2024-10-10T00:00:00.000000000",
          "2024-10-11T00:00:00.000000000",
          "2024-10-14T00:00:00.000000000",
          "2024-10-15T00:00:00.000000000",
          "2024-10-16T00:00:00.000000000",
          "2024-10-17T00:00:00.000000000",
          "2024-10-18T00:00:00.000000000",
          "2024-10-21T00:00:00.000000000",
          "2024-10-22T00:00:00.000000000",
          "2024-10-23T00:00:00.000000000",
          "2024-10-24T00:00:00.000000000",
          "2024-10-25T00:00:00.000000000",
          "2024-10-28T00:00:00.000000000",
          "2024-10-29T00:00:00.000000000",
          "2024-10-30T00:00:00.000000000",
          "2024-10-31T00:00:00.000000000",
          "2024-11-01T00:00:00.000000000",
          "2024-11-04T00:00:00.000000000",
          "2024-11-05T00:00:00.000000000",
          "2024-11-06T00:00:00.000000000",
          "2024-11-07T00:00:00.000000000",
          "2024-11-08T00:00:00.000000000",
          "2024-11-11T00:00:00.000000000",
          "2024-11-12T00:00:00.000000000",
          "2024-11-13T00:00:00.000000000",
          "2024-11-14T00:00:00.000000000",
          "2024-11-18T00:00:00.000000000",
          "2024-11-19T00:00:00.000000000",
          "2024-11-21T00:00:00.000000000",
          "2024-11-22T00:00:00.000000000",
          "2024-11-25T00:00:00.000000000",
          "2024-11-26T00:00:00.000000000",
          "2024-11-27T00:00:00.000000000",
          "2024-11-28T00:00:00.000000000",
          "2024-11-29T00:00:00.000000000",
          "2024-12-02T00:00:00.000000000",
          "2024-12-03T00:00:00.000000000",
          "2024-12-04T00:00:00.000000000",
          "2024-12-05T00:00:00.000000000",
          "2024-12-06T00:00:00.000000000",
          "2024-12-09T00:00:00.000000000",
          "2024-12-10T00:00:00.000000000",
          "2024-12-11T00:00:00.000000000",
          "2024-12-12T00:00:00.000000000",
          "2024-12-13T00:00:00.000000000",
          "2024-12-16T00:00:00.000000000",
          "2024-12-17T00:00:00.000000000",
          "2024-12-18T00:00:00.000000000",
          "2024-12-19T00:00:00.000000000",
          "2024-12-20T00:00:00.000000000",
          "2024-12-23T00:00:00.000000000",
          "2024-12-26T00:00:00.000000000",
          "2024-12-27T00:00:00.000000000",
          "2024-12-30T00:00:00.000000000",
          "2025-01-02T00:00:00.000000000",
          "2025-01-03T00:00:00.000000000",
          "2025-01-06T00:00:00.000000000",
          "2025-01-07T00:00:00.000000000",
          "2025-01-08T00:00:00.000000000",
          "2025-01-09T00:00:00.000000000",
          "2025-01-10T00:00:00.000000000",
          "2025-01-13T00:00:00.000000000",
          "2025-01-14T00:00:00.000000000",
          "2025-01-15T00:00:00.000000000",
          "2025-01-16T00:00:00.000000000",
          "2025-01-17T00:00:00.000000000",
          "2025-01-20T00:00:00.000000000",
          "2025-01-21T00:00:00.000000000",
          "2025-01-22T00:00:00.000000000",
          "2025-01-23T00:00:00.000000000",
          "2025-01-24T00:00:00.000000000",
          "2025-01-27T00:00:00.000000000",
          "2025-01-28T00:00:00.000000000",
          "2025-01-29T00:00:00.000000000",
          "2025-01-30T00:00:00.000000000",
          "2025-01-31T00:00:00.000000000",
          "2025-02-03T00:00:00.000000000",
          "2025-02-04T00:00:00.000000000",
          "2025-02-05T00:00:00.000000000",
          "2025-02-06T00:00:00.000000000",
          "2025-02-07T00:00:00.000000000",
          "2025-02-10T00:00:00.000000000",
          "2025-02-11T00:00:00.000000000",
          "2025-02-12T00:00:00.000000000",
          "2025-02-13T00:00:00.000000000",
          "2025-02-14T00:00:00.000000000",
          "2025-02-17T00:00:00.000000000",
          "2025-02-18T00:00:00.000000000",
          "2025-02-19T00:00:00.000000000",
          "2025-02-20T00:00:00.000000000",
          "2025-02-21T00:00:00.000000000",
          "2025-02-24T00:00:00.000000000",
          "2025-02-25T00:00:00.000000000",
          "2025-02-26T00:00:00.000000000",
          "2025-02-27T00:00:00.000000000",
          "2025-02-28T00:00:00.000000000",
          "2025-03-05T00:00:00.000000000",
          "2025-03-06T00:00:00.000000000",
          "2025-03-07T00:00:00.000000000",
          "2025-03-10T00:00:00.000000000",
          "2025-03-11T00:00:00.000000000",
          "2025-03-12T00:00:00.000000000",
          "2025-03-13T00:00:00.000000000",
          "2025-03-14T00:00:00.000000000",
          "2025-03-17T00:00:00.000000000",
          "2025-03-18T00:00:00.000000000",
          "2025-03-19T00:00:00.000000000",
          "2025-03-20T00:00:00.000000000",
          "2025-03-21T00:00:00.000000000",
          "2025-03-24T00:00:00.000000000",
          "2025-03-25T00:00:00.000000000",
          "2025-03-26T00:00:00.000000000",
          "2025-03-27T00:00:00.000000000",
          "2025-03-28T00:00:00.000000000",
          "2025-03-31T00:00:00.000000000",
          "2025-04-01T00:00:00.000000000",
          "2025-04-02T00:00:00.000000000",
          "2025-04-03T00:00:00.000000000",
          "2025-04-04T00:00:00.000000000",
          "2025-04-07T00:00:00.000000000",
          "2025-04-08T00:00:00.000000000",
          "2025-04-09T00:00:00.000000000",
          "2025-04-10T00:00:00.000000000",
          "2025-04-11T00:00:00.000000000",
          "2025-04-14T00:00:00.000000000",
          "2025-04-15T00:00:00.000000000",
          "2025-04-16T00:00:00.000000000",
          "2025-04-17T00:00:00.000000000",
          "2025-04-22T00:00:00.000000000",
          "2025-04-23T00:00:00.000000000",
          "2025-04-24T00:00:00.000000000",
          "2025-04-25T00:00:00.000000000",
          "2025-04-28T00:00:00.000000000",
          "2025-04-29T00:00:00.000000000",
          "2025-04-30T00:00:00.000000000",
          "2025-05-02T00:00:00.000000000",
          "2025-05-05T00:00:00.000000000",
          "2025-05-06T00:00:00.000000000",
          "2025-05-07T00:00:00.000000000",
          "2025-05-08T00:00:00.000000000",
          "2025-05-09T00:00:00.000000000",
          "2025-05-12T00:00:00.000000000",
          "2025-05-13T00:00:00.000000000",
          "2025-05-14T00:00:00.000000000",
          "2025-05-15T00:00:00.000000000",
          "2025-05-16T00:00:00.000000000",
          "2025-05-19T00:00:00.000000000",
          "2025-05-20T00:00:00.000000000",
          "2025-05-21T00:00:00.000000000",
          "2025-05-22T00:00:00.000000000",
          "2025-05-23T00:00:00.000000000",
          "2025-05-26T00:00:00.000000000",
          "2025-05-27T00:00:00.000000000",
          "2025-05-28T00:00:00.000000000",
          "2025-05-29T00:00:00.000000000",
          "2025-05-30T00:00:00.000000000",
          "2025-06-02T00:00:00.000000000",
          "2025-06-03T00:00:00.000000000",
          "2025-06-04T00:00:00.000000000",
          "2025-06-05T00:00:00.000000000",
          "2025-06-06T00:00:00.000000000",
          "2025-06-09T00:00:00.000000000",
          "2025-06-10T00:00:00.000000000",
          "2025-06-11T00:00:00.000000000",
          "2025-06-12T00:00:00.000000000",
          "2025-06-13T00:00:00.000000000",
          "2025-06-16T00:00:00.000000000",
          "2025-06-17T00:00:00.000000000",
          "2025-06-18T00:00:00.000000000",
          "2025-06-20T00:00:00.000000000",
          "2025-06-23T00:00:00.000000000",
          "2025-06-24T00:00:00.000000000",
          "2025-06-25T00:00:00.000000000",
          "2025-06-26T00:00:00.000000000",
          "2025-06-27T00:00:00.000000000",
          "2025-06-30T00:00:00.000000000",
          "2025-07-01T00:00:00.000000000",
          "2025-07-02T00:00:00.000000000",
          "2025-07-03T00:00:00.000000000",
          "2025-07-04T00:00:00.000000000",
          "2025-07-07T00:00:00.000000000",
          "2025-07-08T00:00:00.000000000",
          "2025-07-09T00:00:00.000000000",
          "2025-07-10T00:00:00.000000000",
          "2025-07-11T00:00:00.000000000",
          "2025-07-14T00:00:00.000000000",
          "2025-07-15T00:00:00.000000000",
          "2025-07-16T00:00:00.000000000",
          "2025-07-17T00:00:00.000000000",
          "2025-07-18T00:00:00.000000000",
          "2025-07-21T00:00:00.000000000",
          "2025-07-22T00:00:00.000000000",
          "2025-07-23T00:00:00.000000000",
          "2025-07-24T00:00:00.000000000",
          "2025-07-25T00:00:00.000000000",
          "2025-07-28T00:00:00.000000000",
          "2025-07-29T00:00:00.000000000",
          "2025-07-30T00:00:00.000000000",
          "2025-07-31T00:00:00.000000000",
          "2025-08-01T00:00:00.000000000",
          "2025-08-04T00:00:00.000000000",
          "2025-08-05T00:00:00.000000000",
          "2025-08-06T00:00:00.000000000",
          "2025-08-07T00:00:00.000000000",
          "2025-08-08T00:00:00.000000000",
          "2025-08-11T00:00:00.000000000",
          "2025-08-12T00:00:00.000000000",
          "2025-08-13T00:00:00.000000000",
          "2025-08-14T00:00:00.000000000",
          "2025-08-15T00:00:00.000000000",
          "2025-08-18T00:00:00.000000000",
          "2025-08-19T00:00:00.000000000",
          "2025-08-20T00:00:00.000000000",
          "2025-08-21T00:00:00.000000000",
          "2025-08-22T00:00:00.000000000",
          "2025-08-25T00:00:00.000000000",
          "2025-08-26T00:00:00.000000000",
          "2025-08-27T00:00:00.000000000",
          "2025-08-28T00:00:00.000000000",
          "2025-08-29T00:00:00.000000000",
          "2025-09-01T00:00:00.000000000",
          "2025-09-02T00:00:00.000000000",
          "2025-09-03T00:00:00.000000000",
          "2025-09-04T00:00:00.000000000",
          "2025-09-05T00:00:00.000000000",
          "2025-09-08T00:00:00.000000000",
          "2025-09-09T00:00:00.000000000",
          "2025-09-10T00:00:00.000000000",
          "2025-09-11T00:00:00.000000000",
          "2025-09-12T00:00:00.000000000",
          "2025-09-15T00:00:00.000000000",
          "2025-09-16T00:00:00.000000000",
          "2025-09-17T00:00:00.000000000",
          "2025-09-18T00:00:00.000000000",
          "2025-09-19T00:00:00.000000000",
          "2025-09-22T00:00:00.000000000",
          "2025-09-23T00:00:00.000000000",
          "2025-09-24T00:00:00.000000000",
          "2025-09-25T00:00:00.000000000",
          "2025-09-26T00:00:00.000000000",
          "2025-09-29T00:00:00.000000000",
          "2025-09-30T00:00:00.000000000",
          "2025-10-01T00:00:00.000000000",
          "2025-10-02T00:00:00.000000000",
          "2025-10-03T00:00:00.000000000",
          "2025-10-06T00:00:00.000000000",
          "2025-10-07T00:00:00.000000000",
          "2025-10-08T00:00:00.000000000",
          "2025-10-09T00:00:00.000000000",
          "2025-10-10T00:00:00.000000000"
         ],
         "y": {
          "bdata": "AAAAIKycOUAAAACg6Ys5QAAAAADsYzpAAAAAIGmuOkAAAACAw2Y7QAAAAEAMBTxAAAAAQIfjO0AAAABgSIg7QAAAAOC9tjlAAAAA4G8ZOkAAAAAg0Tw6QAAAAADr9zlAAAAAQIDHOUAAAAAAd4Q5QAAAAMAmRTlAAAAAoOmLOUAAAABgH9o5QAAAAGCJ1DlAAAAAYKtmOUAAAADAAds4QAAAAIA4XzlAAAAAIG1BOUAAAABADvY5QAAAAGBNUTpAAAAAYPzbOUAAAAAA/7M6QAAAAECVuTpAAAAAQNJyOkAAAADA9ZM6QAAAAADllTpAAAAAQD+pOkAAAAAAi4I6QAAAAAAb6TpAAAAAgIGhOkAAAABgGCU7QAAAAACn9jpAAAAAwJRjOkAAAABgnkQ6QAAAAOC5UjlAAAAAoD5DOUAAAABAThI6QAAAAAAm+TlAAAAA4PbCOUAAAABAySE6QAAAACDssjpAAAAAgGfCOkAAAACAjBc7QAAAAKDjZjtAAAAA4AuAO0AAAABg+4E7QAAAAIC2xTtAAAAAIOM3PEAAAADgsD08QAAAAEB4JjxAAAAAgPeOPEAAAACgUHM9QAAAAGB0Mz1AAAAAAN9EPUAAAACAwAw9QAAAAADkzDxAAAAAgCmJPEAAAABAFsc8QAAAAOBv2jxAAAAAgMcpPUAAAAAA5Mw8QAAAAKBRojxAAAAAgEqFPEAAAACgll48QAAAAIB8fzxAAAAA4G/aPEAAAACgUaI8QAAAAOA8sT1AAAAA4NM0PkAAAAAg36o+QAAAAGB+ej5AAAAAoKPPPkAAAACAYmw/QAAAACDjAz9AAAAA4LgmP0AAAACAQXA/QAAAAEBN5j9AAAAAYIGkP0AAAABgIzg/QAAAAAAm/D5AAAAAYKb5P0AAAACAjyJAQAAAAEDhNkBAAAAA4FYLQEAAAAAAJRFAQAAAAEBd5D9AAAAAYD6sP0AAAACAjyJAQAAAAGDBHEBAAAAAoMePPkAAAAAAqVc+QAAAAMBmXz5AAAAAIA1MPkAAAADg0zQ+QAAAAAAf3z5AAAAAQAqIPkAAAACg+L07QAAAAEDI8jpAAAAAQDHVO0AAAADgC4A7QAAAAOAVYTtAAAAAoG90O0AAAACgTng7QAAAAIAORDtAAAAAoPi9O0AAAAAgdfw6QAAAAAAwQDtAAAAAwJ6qO0AAAABg02g7QAAAAODxoDtAAAAA4LA9PEAAAADgz3U8QAAAAOCEMT1AAAAA4NAKPUAAAACAq7U8QAAAAADkzDxAAAAAYHQzPUAAAAAgzkY9QAAAACA67T1AAAAAABy1PUAAAACgcW89QAAAACALtz1AAAAAoODZPUAAAADg/hE+QAAAAKCKHz5AAAAAwCGjPkAAAAAA114/QAAAAOBbTz9AAAAAgJcqP0AAAACAK+o/QAAAAEDHLkBAAAAAwIJgQEAAAADAlFNAQAAAAOB+Y0BAAAAA4B8uQEAAAABAKUpAQAAAAMAKfUBAAAAAAGy9QEAAAAAA9eZAQAAAAKCc3UBAAAAAAMThQEAAAADg4pNAQAAAACDPJj9AAAAAADY+PkAAAACArsM9QAAAAIAk0D1AAAAAAJvBPUAAAACgcSk+QAAAAGCa3D1AAAAAYBGzPUAAAAAgIwY+QAAAAMAzqj5AAAAAANKfPkAAAADAzXc/QAAAAAAxTD9AAAAAAOTyPkAAAACgRv0+QAAAAACoIj9AAAAAoJn3PUAAAACA5ms+QAAAAAAhjT5AAAAAAPLiPUAAAABADZY9QAAAAKBy7zxAAAAAQDcLPUAAAADACPQ9QAAAAABx+j1AAAAAwDB0PkAAAADAxZw+QAAAAIDN6z5AAAAAQGXlPkAAAAAgNvI+QAAAAICjdj9AAAAAAEO/P0AAAADAkh1AQAAAAMDBEEBAAAAAwGeSP0AAAABgViM/QAAAAGAOTj9AAAAAIEgJQEAAAACgNghAQAAAAGCIwz9AAAAAYBH7P0AAAAAgn9Q/QAAAAGCwD0BAAAAAgAIFQEAAAABgXhpAQAAAAKDkEkBAAAAAAPsjQEAAAABAfqM/QAAAAEDVOj9AAAAAIOl6P0AAAABAO3A/QAAAACCwZz9AAAAAAFvFPkAAAACgOpQ+QAAAAKCPNj9AAAAAINC8PkAAAAAguc89QAAAAIBQyT1AAAAA4L1NPkAAAABgEEM+QAAAAKDyvj5AAAAAYFN2PkAAAAAgnCc/QAAAAKB79j5AAAAAgFGBP0AAAAAANP0/QAAAAGCwD0BAAAAAIEgJQEAAAAAAhvI/QAAAAMBlwT9AAAAAoEPaP0AAAAAgvac/QAAAAEA7+kBAAAAAoATAQEAAAADAhv1AQAAAACDf30BAAAAAgEPkQEAAAAAAoLtAQAAAAGAAiEBAAAAAgBmJQEAAAAAgvW5AQAAAAKBcHEBAAAAAAGVJQEAAAADAMgRAQAAAAMCb/z9AAAAAYFijP0AAAABAAH4/QAAAAOAI7j9AAAAAwLDIP0AAAABgLgU/QAAAAOCKHz9AAAAAYFgdP0AAAADAn24/QAAAACCTjz9AAAAAQOPKP0AAAAAgJhs/QAAAAOBk/D5AAAAAYG3mPkAAAABAULk/QAAAAECsFEBAAAAAoDJHQEAAAADANjxAQAAAAIBtdkBAAAAAgNohQEAAAABAO/A/QAAAAIBYJ0BAAAAA4AwkQEAAAACA7y1AQAAAAODiC0BAAAAA4AjuP0AAAADAhrA/QAAAACCPmj9AAAAAICYbP0AAAADgZPw+QAAAAGCKmT5AAAAAgEPOPkAAAABgLgU/QAAAAGAA+D5AAAAAYG3mPkAAAABAR8M+QAAAAMB10D5AAAAAwNFkPkAAAADAZHY+QAAAAOA6Xj5AAAAAQG1gPkAAAAAAl3g+QAAAAIDFCz9AAAAAICYbP0AAAADAhrA/QAAAAOCKpT9AAAAAADf7P0AAAABgwWNAQAAAAADSN0BAAAAAQOdDQEAAAACAwelAQAAAAEBlz0BAAAAAQOfJQEAAAAAAh7pAQAAAAKCXjkBAAAAAIKSwQEAAAADAGcxAQAAAAACL8kBAAAAAoBXXQEAAAACA6wFBQAAAAGDrvkBAAAAAwNotQUAAAACAVD5BQAAAAOBDakFAAAAAwIUaQUAAAAAAHf9AQAAAAEDX7EBAAAAAIPQVQUAAAADg5KRAQAAAAIDDk0BAAAAAQFxwQEAAAACAgHFAQAAAAKAlkUBAAAAAwBqEQEAAAAAA8sJAQAAAAMC2B0FAAAAAIHnZQEAAAAAAUcVAQAAAAACdIEFAAAAAIAv9QEAAAACgAxBBQAAAAODeG0FAAAAA4EgrQUAAAACApA1BQAAAAIBeRUFAAAAAoOkoQUAAAADAsjpBQAAAAIBeRUFAAAAAAI5GQUAAAAAAqC1BQAAAAADUDkFAAAAA4Ez4QEAAAACgUzhBQAAAAABmMkFAAAAA4CAXQUAAAADAOVFBQAAAAMDLdEFAAAAAwEReQUAAAAAAZjJBQAAAAKBiEkFAAAAA4BUKQUAAAADAL/FAQAAAAADUDkFAAAAAANQOQUAAAADAnc1AQAAAAOBb0kBAAAAAgCdXQUAAAACgbHJBQAAAAGA8xEFAAAAAoLjNQUAAAADA1dRBQAAAAADLx0FAAAAAoMenQUAAAACgn5NBQAAAAKCfk0FAAAAAYL70QEAAAABAHqRAQAAAAGDLCEBAAAAAoDi8P0AAAAAA+wlAQAAAAGDLCEBAAAAAgEeWP0AAAACAR5Y/QAAAAMDn5j9AAAAAQCJxQEAAAABgY79AQAAAAADywkBAAAAAYGO/QEAAAADA38hAQAAAAGBFC0FAAAAA4FcFQUAAAABAuidBQAAAAMA5UUFAAAAAoGxyQUAAAAAA+FVBQAAAAKD0NUFAAAAAAI5GQUAAAADAsjpBQAAAAOBqrEBAAAAAwH4AQEAAAADAHbw+QAAAAEBMpD1AAAAAoJLYPkAAAABAtO08QAAAAEC6gD1AAAAAgEVkPUAAAADgKbc8QAAAAOAptzxAAAAAAIJIPUAAAACghFk9QAAAAAB4BD1AAAAA4HLiPEAAAACAUfg8QAAAAKAo2zxAAAAA4AkCPUAAAACAh3c8QAAAAMDJPj1AAAAAAFcnPEAAAACgaJ48QAAAAOBtwDxAAAAA4HwmPUAAAACAFlc9QAAAACDoCj5AAAAA4It/PkAAAAAgFko+QAAAAABeQD5AAAAAANFkPkAAAADAGFs+QAAAAMCvej5AAAAA4DQjPkAAAADAJb09QAAAAEAozj1AAAAAgNu1PUAAAABAv+09QAAAAIBy1T1AAAAAAEenPUAAAABgqFQ9QAAAAOBlgD1AAAAAQLGCPUAAAAAA7bI8QAAAAOBttTxAAAAAYAcDPUAAAABA3oU8QAAAAIAmYj1AAAAAwHhcPkAAAABgsgs/QAAAAGDyzj9AAAAAINh+P0AAAAAAyhpAQAAAAOAIF0BAAAAAIMULQEAAAADgRko/QAAAACCTrD5AAAAA4IWEPkAAAABgGsM+QAAAAOCFhD5AAAAA4BOvPkAAAADgnMo+QAAAAODKVj9AAAAAAFRyP0AAAACgUGg/QAAAAOBLWT9AAAAAoHHMP0AAAAAgYZo/QAAAAMBahj9AAAAAwPrnP0AAAABgV3w/QAAAAODCPT9AAAAAoLUVP0AAAABAm8U+QAAAAOBzTT5AAAAAwHhcPkAAAACAkac+QAAAAADGRz9AAAAAAEI7P0AAAABARUU/QAAAAIBITz9AAAAAAGu4P0AAAAAggwVAQAAAAIB76j9AAAAAINh+P0AAAAAAVHI/QAAAAIDglz9AAAAAgOOhP0AAAABg8s4/QAAAACBO2j1AAAAAoN0JPkAAAAAg5B0+QAAAAEBR5D1AAAAAQLGCPUAAAABgMIA9QAAAACDArz1AAAAAwKVfPUAAAACAtIw9QAAAAGA6nj1AAAAA4FF4PkAAAABgZqY+QAAAAIAUbj5AAAAAwPWoPkAAAACAFO4+QAAAAKCZGT9AAAAAIIUrP0AAAADgelQ/QAAAACBcDz9AAAAAIFwPP0AAAABACpc+QAAAAIDCtT5AAAAAQDPzPkAAAABgj4I/QAAAAADXYz9AAAAAgBQuP0AAAABAM3M/QAAAACCuhz9AAAAA4FG4P0AAAADA9Wg/QAAAACBcDz9AAAAAYLheP0AAAABgZuY/QAAAACBcT0BAAAAAgBQuQEAAAAAAACBAQAAAACBczz9AAAAAgMJ1P0AAAACgR2E/QAAAAOB6FD9AAAAAAAAAP0AAAADgUbg+QAAAAOB61D5AAAAAYGamPkAAAACAwjU+QAAAAOCj8D1A",
          "dtype": "f8"
         },
         "yaxis": "y"
        }
       ],
       "layout": {
        "template": {
         "data": {
          "bar": [
           {
            "error_x": {
             "color": "#2a3f5f"
            },
            "error_y": {
             "color": "#2a3f5f"
            },
            "marker": {
             "line": {
              "color": "#E5ECF6",
              "width": 0.5
             },
             "pattern": {
              "fillmode": "overlay",
              "size": 10,
              "solidity": 0.2
             }
            },
            "type": "bar"
           }
          ],
          "barpolar": [
           {
            "marker": {
             "line": {
              "color": "#E5ECF6",
              "width": 0.5
             },
             "pattern": {
              "fillmode": "overlay",
              "size": 10,
              "solidity": 0.2
             }
            },
            "type": "barpolar"
           }
          ],
          "carpet": [
           {
            "aaxis": {
             "endlinecolor": "#2a3f5f",
             "gridcolor": "white",
             "linecolor": "white",
             "minorgridcolor": "white",
             "startlinecolor": "#2a3f5f"
            },
            "baxis": {
             "endlinecolor": "#2a3f5f",
             "gridcolor": "white",
             "linecolor": "white",
             "minorgridcolor": "white",
             "startlinecolor": "#2a3f5f"
            },
            "type": "carpet"
           }
          ],
          "choropleth": [
           {
            "colorbar": {
             "outlinewidth": 0,
             "ticks": ""
            },
            "type": "choropleth"
           }
          ],
          "contour": [
           {
            "colorbar": {
             "outlinewidth": 0,
             "ticks": ""
            },
            "colorscale": [
             [
              0,
              "#0d0887"
             ],
             [
              0.1111111111111111,
              "#46039f"
             ],
             [
              0.2222222222222222,
              "#7201a8"
             ],
             [
              0.3333333333333333,
              "#9c179e"
             ],
             [
              0.4444444444444444,
              "#bd3786"
             ],
             [
              0.5555555555555556,
              "#d8576b"
             ],
             [
              0.6666666666666666,
              "#ed7953"
             ],
             [
              0.7777777777777778,
              "#fb9f3a"
             ],
             [
              0.8888888888888888,
              "#fdca26"
             ],
             [
              1,
              "#f0f921"
             ]
            ],
            "type": "contour"
           }
          ],
          "contourcarpet": [
           {
            "colorbar": {
             "outlinewidth": 0,
             "ticks": ""
            },
            "type": "contourcarpet"
           }
          ],
          "heatmap": [
           {
            "colorbar": {
             "outlinewidth": 0,
             "ticks": ""
            },
            "colorscale": [
             [
              0,
              "#0d0887"
             ],
             [
              0.1111111111111111,
              "#46039f"
             ],
             [
              0.2222222222222222,
              "#7201a8"
             ],
             [
              0.3333333333333333,
              "#9c179e"
             ],
             [
              0.4444444444444444,
              "#bd3786"
             ],
             [
              0.5555555555555556,
              "#d8576b"
             ],
             [
              0.6666666666666666,
              "#ed7953"
             ],
             [
              0.7777777777777778,
              "#fb9f3a"
             ],
             [
              0.8888888888888888,
              "#fdca26"
             ],
             [
              1,
              "#f0f921"
             ]
            ],
            "type": "heatmap"
           }
          ],
          "histogram": [
           {
            "marker": {
             "pattern": {
              "fillmode": "overlay",
              "size": 10,
              "solidity": 0.2
             }
            },
            "type": "histogram"
           }
          ],
          "histogram2d": [
           {
            "colorbar": {
             "outlinewidth": 0,
             "ticks": ""
            },
            "colorscale": [
             [
              0,
              "#0d0887"
             ],
             [
              0.1111111111111111,
              "#46039f"
             ],
             [
              0.2222222222222222,
              "#7201a8"
             ],
             [
              0.3333333333333333,
              "#9c179e"
             ],
             [
              0.4444444444444444,
              "#bd3786"
             ],
             [
              0.5555555555555556,
              "#d8576b"
             ],
             [
              0.6666666666666666,
              "#ed7953"
             ],
             [
              0.7777777777777778,
              "#fb9f3a"
             ],
             [
              0.8888888888888888,
              "#fdca26"
             ],
             [
              1,
              "#f0f921"
             ]
            ],
            "type": "histogram2d"
           }
          ],
          "histogram2dcontour": [
           {
            "colorbar": {
             "outlinewidth": 0,
             "ticks": ""
            },
            "colorscale": [
             [
              0,
              "#0d0887"
             ],
             [
              0.1111111111111111,
              "#46039f"
             ],
             [
              0.2222222222222222,
              "#7201a8"
             ],
             [
              0.3333333333333333,
              "#9c179e"
             ],
             [
              0.4444444444444444,
              "#bd3786"
             ],
             [
              0.5555555555555556,
              "#d8576b"
             ],
             [
              0.6666666666666666,
              "#ed7953"
             ],
             [
              0.7777777777777778,
              "#fb9f3a"
             ],
             [
              0.8888888888888888,
              "#fdca26"
             ],
             [
              1,
              "#f0f921"
             ]
            ],
            "type": "histogram2dcontour"
           }
          ],
          "mesh3d": [
           {
            "colorbar": {
             "outlinewidth": 0,
             "ticks": ""
            },
            "type": "mesh3d"
           }
          ],
          "parcoords": [
           {
            "line": {
             "colorbar": {
              "outlinewidth": 0,
              "ticks": ""
             }
            },
            "type": "parcoords"
           }
          ],
          "pie": [
           {
            "automargin": true,
            "type": "pie"
           }
          ],
          "scatter": [
           {
            "fillpattern": {
             "fillmode": "overlay",
             "size": 10,
             "solidity": 0.2
            },
            "type": "scatter"
           }
          ],
          "scatter3d": [
           {
            "line": {
             "colorbar": {
              "outlinewidth": 0,
              "ticks": ""
             }
            },
            "marker": {
             "colorbar": {
              "outlinewidth": 0,
              "ticks": ""
             }
            },
            "type": "scatter3d"
           }
          ],
          "scattercarpet": [
           {
            "marker": {
             "colorbar": {
              "outlinewidth": 0,
              "ticks": ""
             }
            },
            "type": "scattercarpet"
           }
          ],
          "scattergeo": [
           {
            "marker": {
             "colorbar": {
              "outlinewidth": 0,
              "ticks": ""
             }
            },
            "type": "scattergeo"
           }
          ],
          "scattergl": [
           {
            "marker": {
             "colorbar": {
              "outlinewidth": 0,
              "ticks": ""
             }
            },
            "type": "scattergl"
           }
          ],
          "scattermap": [
           {
            "marker": {
             "colorbar": {
              "outlinewidth": 0,
              "ticks": ""
             }
            },
            "type": "scattermap"
           }
          ],
          "scattermapbox": [
           {
            "marker": {
             "colorbar": {
              "outlinewidth": 0,
              "ticks": ""
             }
            },
            "type": "scattermapbox"
           }
          ],
          "scatterpolar": [
           {
            "marker": {
             "colorbar": {
              "outlinewidth": 0,
              "ticks": ""
             }
            },
            "type": "scatterpolar"
           }
          ],
          "scatterpolargl": [
           {
            "marker": {
             "colorbar": {
              "outlinewidth": 0,
              "ticks": ""
             }
            },
            "type": "scatterpolargl"
           }
          ],
          "scatterternary": [
           {
            "marker": {
             "colorbar": {
              "outlinewidth": 0,
              "ticks": ""
             }
            },
            "type": "scatterternary"
           }
          ],
          "surface": [
           {
            "colorbar": {
             "outlinewidth": 0,
             "ticks": ""
            },
            "colorscale": [
             [
              0,
              "#0d0887"
             ],
             [
              0.1111111111111111,
              "#46039f"
             ],
             [
              0.2222222222222222,
              "#7201a8"
             ],
             [
              0.3333333333333333,
              "#9c179e"
             ],
             [
              0.4444444444444444,
              "#bd3786"
             ],
             [
              0.5555555555555556,
              "#d8576b"
             ],
             [
              0.6666666666666666,
              "#ed7953"
             ],
             [
              0.7777777777777778,
              "#fb9f3a"
             ],
             [
              0.8888888888888888,
              "#fdca26"
             ],
             [
              1,
              "#f0f921"
             ]
            ],
            "type": "surface"
           }
          ],
          "table": [
           {
            "cells": {
             "fill": {
              "color": "#EBF0F8"
             },
             "line": {
              "color": "white"
             }
            },
            "header": {
             "fill": {
              "color": "#C8D4E3"
             },
             "line": {
              "color": "white"
             }
            },
            "type": "table"
           }
          ]
         },
         "layout": {
          "annotationdefaults": {
           "arrowcolor": "#2a3f5f",
           "arrowhead": 0,
           "arrowwidth": 1
          },
          "autotypenumbers": "strict",
          "coloraxis": {
           "colorbar": {
            "outlinewidth": 0,
            "ticks": ""
           }
          },
          "colorscale": {
           "diverging": [
            [
             0,
             "#8e0152"
            ],
            [
             0.1,
             "#c51b7d"
            ],
            [
             0.2,
             "#de77ae"
            ],
            [
             0.3,
             "#f1b6da"
            ],
            [
             0.4,
             "#fde0ef"
            ],
            [
             0.5,
             "#f7f7f7"
            ],
            [
             0.6,
             "#e6f5d0"
            ],
            [
             0.7,
             "#b8e186"
            ],
            [
             0.8,
             "#7fbc41"
            ],
            [
             0.9,
             "#4d9221"
            ],
            [
             1,
             "#276419"
            ]
           ],
           "sequential": [
            [
             0,
             "#0d0887"
            ],
            [
             0.1111111111111111,
             "#46039f"
            ],
            [
             0.2222222222222222,
             "#7201a8"
            ],
            [
             0.3333333333333333,
             "#9c179e"
            ],
            [
             0.4444444444444444,
             "#bd3786"
            ],
            [
             0.5555555555555556,
             "#d8576b"
            ],
            [
             0.6666666666666666,
             "#ed7953"
            ],
            [
             0.7777777777777778,
             "#fb9f3a"
            ],
            [
             0.8888888888888888,
             "#fdca26"
            ],
            [
             1,
             "#f0f921"
            ]
           ],
           "sequentialminus": [
            [
             0,
             "#0d0887"
            ],
            [
             0.1111111111111111,
             "#46039f"
            ],
            [
             0.2222222222222222,
             "#7201a8"
            ],
            [
             0.3333333333333333,
             "#9c179e"
            ],
            [
             0.4444444444444444,
             "#bd3786"
            ],
            [
             0.5555555555555556,
             "#d8576b"
            ],
            [
             0.6666666666666666,
             "#ed7953"
            ],
            [
             0.7777777777777778,
             "#fb9f3a"
            ],
            [
             0.8888888888888888,
             "#fdca26"
            ],
            [
             1,
             "#f0f921"
            ]
           ]
          },
          "colorway": [
           "#636efa",
           "#EF553B",
           "#00cc96",
           "#ab63fa",
           "#FFA15A",
           "#19d3f3",
           "#FF6692",
           "#B6E880",
           "#FF97FF",
           "#FECB52"
          ],
          "font": {
           "color": "#2a3f5f"
          },
          "geo": {
           "bgcolor": "white",
           "lakecolor": "white",
           "landcolor": "#E5ECF6",
           "showlakes": true,
           "showland": true,
           "subunitcolor": "white"
          },
          "hoverlabel": {
           "align": "left"
          },
          "hovermode": "closest",
          "mapbox": {
           "style": "light"
          },
          "paper_bgcolor": "white",
          "plot_bgcolor": "#E5ECF6",
          "polar": {
           "angularaxis": {
            "gridcolor": "white",
            "linecolor": "white",
            "ticks": ""
           },
           "bgcolor": "#E5ECF6",
           "radialaxis": {
            "gridcolor": "white",
            "linecolor": "white",
            "ticks": ""
           }
          },
          "scene": {
           "xaxis": {
            "backgroundcolor": "#E5ECF6",
            "gridcolor": "white",
            "gridwidth": 2,
            "linecolor": "white",
            "showbackground": true,
            "ticks": "",
            "zerolinecolor": "white"
           },
           "yaxis": {
            "backgroundcolor": "#E5ECF6",
            "gridcolor": "white",
            "gridwidth": 2,
            "linecolor": "white",
            "showbackground": true,
            "ticks": "",
            "zerolinecolor": "white"
           },
           "zaxis": {
            "backgroundcolor": "#E5ECF6",
            "gridcolor": "white",
            "gridwidth": 2,
            "linecolor": "white",
            "showbackground": true,
            "ticks": "",
            "zerolinecolor": "white"
           }
          },
          "shapedefaults": {
           "line": {
            "color": "#2a3f5f"
           }
          },
          "ternary": {
           "aaxis": {
            "gridcolor": "white",
            "linecolor": "white",
            "ticks": ""
           },
           "baxis": {
            "gridcolor": "white",
            "linecolor": "white",
            "ticks": ""
           },
           "bgcolor": "#E5ECF6",
           "caxis": {
            "gridcolor": "white",
            "linecolor": "white",
            "ticks": ""
           }
          },
          "title": {
           "x": 0.05
          },
          "xaxis": {
           "automargin": true,
           "gridcolor": "white",
           "linecolor": "white",
           "ticks": "",
           "title": {
            "standoff": 15
           },
           "zerolinecolor": "white",
           "zerolinewidth": 2
          },
          "yaxis": {
           "automargin": true,
           "gridcolor": "white",
           "linecolor": "white",
           "ticks": "",
           "title": {
            "standoff": 15
           },
           "zerolinecolor": "white",
           "zerolinewidth": 2
          }
         }
        }
       }
      }
     },
     "metadata": {},
     "output_type": "display_data"
    }
   ],
   "source": [
    "fig = go.Figure()\n",
    "\n",
    "fig.add_trace(go.Scatter(\n",
    "    y=data[\"Close\"][\"PETR4.SA\"],\n",
    "    x=data.index,\n",
    "    name=\"Preço PETR4.SA\",\n",
    "    yaxis=\"y1\"\n",
    "))\n",
    "\n",
    "\n",
    "fig.show(fig_type=\"png\")"
   ]
  },
  {
   "cell_type": "code",
   "execution_count": 29,
   "id": "d01899f8",
   "metadata": {},
   "outputs": [],
   "source": [
    "np.random.seed(42)\n",
    "n_points = 1000\n",
    "trend = np.linspace(0, 10, n_points)\n",
    "noise_trend = np.cumsum(standard_normal(n_points) * 0.1)\n",
    "mean_reversion = np.zeros(n_points)\n",
    "for t in range(1, n_points):\n",
    "    mean_reversion[t] = mean_reversion[t-1] * 0.6 + standard_normal() * 0.5\n",
    "brownian = np.cumsum(standard_normal(n_points))"
   ]
  },
  {
   "cell_type": "code",
   "execution_count": 30,
   "id": "77aea94b",
   "metadata": {},
   "outputs": [
    {
     "data": {
      "text/plain": [
       "(0.6419241912818302, 0.000952023886777138)"
      ]
     },
     "execution_count": 30,
     "metadata": {},
     "output_type": "execute_result"
    }
   ],
   "source": [
    "hurst_exponent(noise_trend)"
   ]
  },
  {
   "cell_type": "code",
   "execution_count": 31,
   "id": "df47c202",
   "metadata": {},
   "outputs": [
    {
     "data": {
      "text/plain": [
       "(0.3685698852341455, 0.05402692976986088)"
      ]
     },
     "execution_count": 31,
     "metadata": {},
     "output_type": "execute_result"
    }
   ],
   "source": [
    "hurst_exponent(mean_reversion)"
   ]
  },
  {
   "cell_type": "code",
   "execution_count": 32,
   "id": "c80e44d7",
   "metadata": {},
   "outputs": [
    {
     "data": {
      "text/plain": [
       "(0.8575205638768405, 0.0014654668633357023)"
      ]
     },
     "execution_count": 32,
     "metadata": {},
     "output_type": "execute_result"
    }
   ],
   "source": [
    "hurst_exponent(pure_sine)"
   ]
  }
 ],
 "metadata": {
  "kernelspec": {
   "display_name": "tinyshift",
   "language": "python",
   "name": "python3"
  },
  "language_info": {
   "codemirror_mode": {
    "name": "ipython",
    "version": 3
   },
   "file_extension": ".py",
   "mimetype": "text/x-python",
   "name": "python",
   "nbconvert_exporter": "python",
   "pygments_lexer": "ipython3",
   "version": "3.12.3"
  }
 },
 "nbformat": 4,
 "nbformat_minor": 5
}
