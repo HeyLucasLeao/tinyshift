{
 "cells": [
  {
   "cell_type": "code",
   "execution_count": 3,
   "id": "f56fe688",
   "metadata": {},
   "outputs": [],
   "source": [
    "import sys\n",
    "import os\n",
    "sys.path.append(os.path.abspath(\"../..\"))\n",
    "import numpy as np\n",
    "import yfinance as yf\n",
    "import plotly.express as px\n",
    "from tinyshift.series import *\n",
    "from tinyshift.stats import trailing_window, mad\n",
    "from tinyshift.series import trend_significance\n",
    "from numpy.random import standard_normal"
   ]
  },
  {
   "cell_type": "code",
   "execution_count": 4,
   "id": "3e5496d5",
   "metadata": {},
   "outputs": [
    {
     "name": "stderr",
     "output_type": "stream",
     "text": [
      "[*********************100%***********************]  1 of 1 completed\n"
     ]
    }
   ],
   "source": [
    "ticker = 'PETR4.SA'\n",
    "period = '2y'\n",
    "data = yf.download(ticker, period=period, interval=\"1d\", auto_adjust=True)\n",
    "t = np.linspace(0, 10, 1000)\n",
    "pure_sine = np.sin(2 * np.pi * 1 * t)  # Perfectly forecastable"
   ]
  },
  {
   "cell_type": "code",
   "execution_count": 5,
   "id": "98b6bb91",
   "metadata": {},
   "outputs": [],
   "source": [
    "r = standardize_returns(data[\"Close\"][\"PETR4.SA\"], log=False)"
   ]
  },
  {
   "cell_type": "markdown",
   "id": "20d495d4",
   "metadata": {},
   "source": [
    "# RSI"
   ]
  },
  {
   "cell_type": "code",
   "execution_count": 6,
   "id": "6ae9593c",
   "metadata": {},
   "outputs": [],
   "source": [
    "vol_rsi = relative_strength_index(data[\"Close\"][\"PETR4.SA\"], rolling_window=14)"
   ]
  },
  {
   "cell_type": "code",
   "execution_count": 7,
   "id": "f05842ae",
   "metadata": {},
   "outputs": [
    {
     "data": {
      "application/vnd.plotly.v1+json": {
       "config": {
        "plotlyServerURL": "https://plot.ly"
       },
       "data": [
        {
         "hovertemplate": "variable=0<br>index=%{x}<br>value=%{y}<extra></extra>",
         "legendgroup": "0",
         "line": {
          "color": "#636efa",
          "dash": "solid"
         },
         "marker": {
          "symbol": "circle"
         },
         "mode": "lines",
         "name": "0",
         "orientation": "v",
         "showlegend": true,
         "type": "scatter",
         "x": {
          "bdata": "AAABAAIAAwAEAAUABgAHAAgACQAKAAsADAANAA4ADwAQABEAEgATABQAFQAWABcAGAAZABoAGwAcAB0AHgAfACAAIQAiACMAJAAlACYAJwAoACkAKgArACwALQAuAC8AMAAxADIAMwA0ADUANgA3ADgAOQA6ADsAPAA9AD4APwBAAEEAQgBDAEQARQBGAEcASABJAEoASwBMAE0ATgBPAFAAUQBSAFMAVABVAFYAVwBYAFkAWgBbAFwAXQBeAF8AYABhAGIAYwBkAGUAZgBnAGgAaQBqAGsAbABtAG4AbwBwAHEAcgBzAHQAdQB2AHcAeAB5AHoAewB8AH0AfgB/AIAAgQCCAIMAhACFAIYAhwCIAIkAigCLAIwAjQCOAI8AkACRAJIAkwCUAJUAlgCXAJgAmQCaAJsAnACdAJ4AnwCgAKEAogCjAKQApQCmAKcAqACpAKoAqwCsAK0ArgCvALAAsQCyALMAtAC1ALYAtwC4ALkAugC7ALwAvQC+AL8AwADBAMIAwwDEAMUAxgDHAMgAyQDKAMsAzADNAM4AzwDQANEA0gDTANQA1QDWANcA2ADZANoA2wDcAN0A3gDfAOAA4QDiAOMA5ADlAOYA5wDoAOkA6gDrAOwA7QDuAO8A8ADxAPIA8wD0APUA9gD3APgA+QD6APsA/AD9AP4A/wAAAQEBAgEDAQQBBQEGAQcBCAEJAQoBCwEMAQ0BDgEPARABEQESARMBFAEVARYBFwEYARkBGgEbARwBHQEeAR8BIAEhASIBIwEkASUBJgEnASgBKQEqASsBLAEtAS4BLwEwATEBMgEzATQBNQE2ATcBOAE5AToBOwE8AT0BPgE/AUABQQFCAUMBRAFFAUYBRwFIAUkBSgFLAUwBTQFOAU8BUAFRAVIBUwFUAVUBVgFXAVgBWQFaAVsBXAFdAV4BXwFgAWEBYgFjAWQBZQFmAWcBaAFpAWoBawFsAW0BbgFvAXABcQFyAXMBdAF1AXYBdwF4AXkBegF7AXwBfQF+AX8BgAGBAYIBgwGEAYUBhgGHAYgBiQGKAYsBjAGNAY4BjwGQAZEBkgGTAZQBlQGWAZcBmAGZAZoBmwGcAZ0BngGfAaABoQGiAaMBpAGlAaYBpwGoAakBqgGrAawBrQGuAa8BsAGxAbIBswG0AbUBtgG3AbgBuQG6AbsBvAG9Ab4BvwHAAcEBwgHDAcQBxQHGAccByAHJAcoBywHMAc0BzgHPAdAB0QHSAdMB1AHVAdYB1wHYAdkB2gHbAdwB3QHeAd8B4AHhAeIB4wHkAeUB5gHnAegB6QHqAesB7AHtAe4B7wHwAfEB8gHzAfQB9QE=",
          "dtype": "i2"
         },
         "xaxis": "x",
         "y": {
          "bdata": "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",
          "dtype": "f8"
         },
         "yaxis": "y"
        }
       ],
       "layout": {
        "legend": {
         "title": {
          "text": "variable"
         },
         "tracegroupgap": 0
        },
        "template": {
         "data": {
          "bar": [
           {
            "error_x": {
             "color": "#2a3f5f"
            },
            "error_y": {
             "color": "#2a3f5f"
            },
            "marker": {
             "line": {
              "color": "#E5ECF6",
              "width": 0.5
             },
             "pattern": {
              "fillmode": "overlay",
              "size": 10,
              "solidity": 0.2
             }
            },
            "type": "bar"
           }
          ],
          "barpolar": [
           {
            "marker": {
             "line": {
              "color": "#E5ECF6",
              "width": 0.5
             },
             "pattern": {
              "fillmode": "overlay",
              "size": 10,
              "solidity": 0.2
             }
            },
            "type": "barpolar"
           }
          ],
          "carpet": [
           {
            "aaxis": {
             "endlinecolor": "#2a3f5f",
             "gridcolor": "white",
             "linecolor": "white",
             "minorgridcolor": "white",
             "startlinecolor": "#2a3f5f"
            },
            "baxis": {
             "endlinecolor": "#2a3f5f",
             "gridcolor": "white",
             "linecolor": "white",
             "minorgridcolor": "white",
             "startlinecolor": "#2a3f5f"
            },
            "type": "carpet"
           }
          ],
          "choropleth": [
           {
            "colorbar": {
             "outlinewidth": 0,
             "ticks": ""
            },
            "type": "choropleth"
           }
          ],
          "contour": [
           {
            "colorbar": {
             "outlinewidth": 0,
             "ticks": ""
            },
            "colorscale": [
             [
              0,
              "#0d0887"
             ],
             [
              0.1111111111111111,
              "#46039f"
             ],
             [
              0.2222222222222222,
              "#7201a8"
             ],
             [
              0.3333333333333333,
              "#9c179e"
             ],
             [
              0.4444444444444444,
              "#bd3786"
             ],
             [
              0.5555555555555556,
              "#d8576b"
             ],
             [
              0.6666666666666666,
              "#ed7953"
             ],
             [
              0.7777777777777778,
              "#fb9f3a"
             ],
             [
              0.8888888888888888,
              "#fdca26"
             ],
             [
              1,
              "#f0f921"
             ]
            ],
            "type": "contour"
           }
          ],
          "contourcarpet": [
           {
            "colorbar": {
             "outlinewidth": 0,
             "ticks": ""
            },
            "type": "contourcarpet"
           }
          ],
          "heatmap": [
           {
            "colorbar": {
             "outlinewidth": 0,
             "ticks": ""
            },
            "colorscale": [
             [
              0,
              "#0d0887"
             ],
             [
              0.1111111111111111,
              "#46039f"
             ],
             [
              0.2222222222222222,
              "#7201a8"
             ],
             [
              0.3333333333333333,
              "#9c179e"
             ],
             [
              0.4444444444444444,
              "#bd3786"
             ],
             [
              0.5555555555555556,
              "#d8576b"
             ],
             [
              0.6666666666666666,
              "#ed7953"
             ],
             [
              0.7777777777777778,
              "#fb9f3a"
             ],
             [
              0.8888888888888888,
              "#fdca26"
             ],
             [
              1,
              "#f0f921"
             ]
            ],
            "type": "heatmap"
           }
          ],
          "histogram": [
           {
            "marker": {
             "pattern": {
              "fillmode": "overlay",
              "size": 10,
              "solidity": 0.2
             }
            },
            "type": "histogram"
           }
          ],
          "histogram2d": [
           {
            "colorbar": {
             "outlinewidth": 0,
             "ticks": ""
            },
            "colorscale": [
             [
              0,
              "#0d0887"
             ],
             [
              0.1111111111111111,
              "#46039f"
             ],
             [
              0.2222222222222222,
              "#7201a8"
             ],
             [
              0.3333333333333333,
              "#9c179e"
             ],
             [
              0.4444444444444444,
              "#bd3786"
             ],
             [
              0.5555555555555556,
              "#d8576b"
             ],
             [
              0.6666666666666666,
              "#ed7953"
             ],
             [
              0.7777777777777778,
              "#fb9f3a"
             ],
             [
              0.8888888888888888,
              "#fdca26"
             ],
             [
              1,
              "#f0f921"
             ]
            ],
            "type": "histogram2d"
           }
          ],
          "histogram2dcontour": [
           {
            "colorbar": {
             "outlinewidth": 0,
             "ticks": ""
            },
            "colorscale": [
             [
              0,
              "#0d0887"
             ],
             [
              0.1111111111111111,
              "#46039f"
             ],
             [
              0.2222222222222222,
              "#7201a8"
             ],
             [
              0.3333333333333333,
              "#9c179e"
             ],
             [
              0.4444444444444444,
              "#bd3786"
             ],
             [
              0.5555555555555556,
              "#d8576b"
             ],
             [
              0.6666666666666666,
              "#ed7953"
             ],
             [
              0.7777777777777778,
              "#fb9f3a"
             ],
             [
              0.8888888888888888,
              "#fdca26"
             ],
             [
              1,
              "#f0f921"
             ]
            ],
            "type": "histogram2dcontour"
           }
          ],
          "mesh3d": [
           {
            "colorbar": {
             "outlinewidth": 0,
             "ticks": ""
            },
            "type": "mesh3d"
           }
          ],
          "parcoords": [
           {
            "line": {
             "colorbar": {
              "outlinewidth": 0,
              "ticks": ""
             }
            },
            "type": "parcoords"
           }
          ],
          "pie": [
           {
            "automargin": true,
            "type": "pie"
           }
          ],
          "scatter": [
           {
            "fillpattern": {
             "fillmode": "overlay",
             "size": 10,
             "solidity": 0.2
            },
            "type": "scatter"
           }
          ],
          "scatter3d": [
           {
            "line": {
             "colorbar": {
              "outlinewidth": 0,
              "ticks": ""
             }
            },
            "marker": {
             "colorbar": {
              "outlinewidth": 0,
              "ticks": ""
             }
            },
            "type": "scatter3d"
           }
          ],
          "scattercarpet": [
           {
            "marker": {
             "colorbar": {
              "outlinewidth": 0,
              "ticks": ""
             }
            },
            "type": "scattercarpet"
           }
          ],
          "scattergeo": [
           {
            "marker": {
             "colorbar": {
              "outlinewidth": 0,
              "ticks": ""
             }
            },
            "type": "scattergeo"
           }
          ],
          "scattergl": [
           {
            "marker": {
             "colorbar": {
              "outlinewidth": 0,
              "ticks": ""
             }
            },
            "type": "scattergl"
           }
          ],
          "scattermap": [
           {
            "marker": {
             "colorbar": {
              "outlinewidth": 0,
              "ticks": ""
             }
            },
            "type": "scattermap"
           }
          ],
          "scattermapbox": [
           {
            "marker": {
             "colorbar": {
              "outlinewidth": 0,
              "ticks": ""
             }
            },
            "type": "scattermapbox"
           }
          ],
          "scatterpolar": [
           {
            "marker": {
             "colorbar": {
              "outlinewidth": 0,
              "ticks": ""
             }
            },
            "type": "scatterpolar"
           }
          ],
          "scatterpolargl": [
           {
            "marker": {
             "colorbar": {
              "outlinewidth": 0,
              "ticks": ""
             }
            },
            "type": "scatterpolargl"
           }
          ],
          "scatterternary": [
           {
            "marker": {
             "colorbar": {
              "outlinewidth": 0,
              "ticks": ""
             }
            },
            "type": "scatterternary"
           }
          ],
          "surface": [
           {
            "colorbar": {
             "outlinewidth": 0,
             "ticks": ""
            },
            "colorscale": [
             [
              0,
              "#0d0887"
             ],
             [
              0.1111111111111111,
              "#46039f"
             ],
             [
              0.2222222222222222,
              "#7201a8"
             ],
             [
              0.3333333333333333,
              "#9c179e"
             ],
             [
              0.4444444444444444,
              "#bd3786"
             ],
             [
              0.5555555555555556,
              "#d8576b"
             ],
             [
              0.6666666666666666,
              "#ed7953"
             ],
             [
              0.7777777777777778,
              "#fb9f3a"
             ],
             [
              0.8888888888888888,
              "#fdca26"
             ],
             [
              1,
              "#f0f921"
             ]
            ],
            "type": "surface"
           }
          ],
          "table": [
           {
            "cells": {
             "fill": {
              "color": "#EBF0F8"
             },
             "line": {
              "color": "white"
             }
            },
            "header": {
             "fill": {
              "color": "#C8D4E3"
             },
             "line": {
              "color": "white"
             }
            },
            "type": "table"
           }
          ]
         },
         "layout": {
          "annotationdefaults": {
           "arrowcolor": "#2a3f5f",
           "arrowhead": 0,
           "arrowwidth": 1
          },
          "autotypenumbers": "strict",
          "coloraxis": {
           "colorbar": {
            "outlinewidth": 0,
            "ticks": ""
           }
          },
          "colorscale": {
           "diverging": [
            [
             0,
             "#8e0152"
            ],
            [
             0.1,
             "#c51b7d"
            ],
            [
             0.2,
             "#de77ae"
            ],
            [
             0.3,
             "#f1b6da"
            ],
            [
             0.4,
             "#fde0ef"
            ],
            [
             0.5,
             "#f7f7f7"
            ],
            [
             0.6,
             "#e6f5d0"
            ],
            [
             0.7,
             "#b8e186"
            ],
            [
             0.8,
             "#7fbc41"
            ],
            [
             0.9,
             "#4d9221"
            ],
            [
             1,
             "#276419"
            ]
           ],
           "sequential": [
            [
             0,
             "#0d0887"
            ],
            [
             0.1111111111111111,
             "#46039f"
            ],
            [
             0.2222222222222222,
             "#7201a8"
            ],
            [
             0.3333333333333333,
             "#9c179e"
            ],
            [
             0.4444444444444444,
             "#bd3786"
            ],
            [
             0.5555555555555556,
             "#d8576b"
            ],
            [
             0.6666666666666666,
             "#ed7953"
            ],
            [
             0.7777777777777778,
             "#fb9f3a"
            ],
            [
             0.8888888888888888,
             "#fdca26"
            ],
            [
             1,
             "#f0f921"
            ]
           ],
           "sequentialminus": [
            [
             0,
             "#0d0887"
            ],
            [
             0.1111111111111111,
             "#46039f"
            ],
            [
             0.2222222222222222,
             "#7201a8"
            ],
            [
             0.3333333333333333,
             "#9c179e"
            ],
            [
             0.4444444444444444,
             "#bd3786"
            ],
            [
             0.5555555555555556,
             "#d8576b"
            ],
            [
             0.6666666666666666,
             "#ed7953"
            ],
            [
             0.7777777777777778,
             "#fb9f3a"
            ],
            [
             0.8888888888888888,
             "#fdca26"
            ],
            [
             1,
             "#f0f921"
            ]
           ]
          },
          "colorway": [
           "#636efa",
           "#EF553B",
           "#00cc96",
           "#ab63fa",
           "#FFA15A",
           "#19d3f3",
           "#FF6692",
           "#B6E880",
           "#FF97FF",
           "#FECB52"
          ],
          "font": {
           "color": "#2a3f5f"
          },
          "geo": {
           "bgcolor": "white",
           "lakecolor": "white",
           "landcolor": "#E5ECF6",
           "showlakes": true,
           "showland": true,
           "subunitcolor": "white"
          },
          "hoverlabel": {
           "align": "left"
          },
          "hovermode": "closest",
          "mapbox": {
           "style": "light"
          },
          "paper_bgcolor": "white",
          "plot_bgcolor": "#E5ECF6",
          "polar": {
           "angularaxis": {
            "gridcolor": "white",
            "linecolor": "white",
            "ticks": ""
           },
           "bgcolor": "#E5ECF6",
           "radialaxis": {
            "gridcolor": "white",
            "linecolor": "white",
            "ticks": ""
           }
          },
          "scene": {
           "xaxis": {
            "backgroundcolor": "#E5ECF6",
            "gridcolor": "white",
            "gridwidth": 2,
            "linecolor": "white",
            "showbackground": true,
            "ticks": "",
            "zerolinecolor": "white"
           },
           "yaxis": {
            "backgroundcolor": "#E5ECF6",
            "gridcolor": "white",
            "gridwidth": 2,
            "linecolor": "white",
            "showbackground": true,
            "ticks": "",
            "zerolinecolor": "white"
           },
           "zaxis": {
            "backgroundcolor": "#E5ECF6",
            "gridcolor": "white",
            "gridwidth": 2,
            "linecolor": "white",
            "showbackground": true,
            "ticks": "",
            "zerolinecolor": "white"
           }
          },
          "shapedefaults": {
           "line": {
            "color": "#2a3f5f"
           }
          },
          "ternary": {
           "aaxis": {
            "gridcolor": "white",
            "linecolor": "white",
            "ticks": ""
           },
           "baxis": {
            "gridcolor": "white",
            "linecolor": "white",
            "ticks": ""
           },
           "bgcolor": "#E5ECF6",
           "caxis": {
            "gridcolor": "white",
            "linecolor": "white",
            "ticks": ""
           }
          },
          "title": {
           "x": 0.05
          },
          "xaxis": {
           "automargin": true,
           "gridcolor": "white",
           "linecolor": "white",
           "ticks": "",
           "title": {
            "standoff": 15
           },
           "zerolinecolor": "white",
           "zerolinewidth": 2
          },
          "yaxis": {
           "automargin": true,
           "gridcolor": "white",
           "linecolor": "white",
           "ticks": "",
           "title": {
            "standoff": 15
           },
           "zerolinecolor": "white",
           "zerolinewidth": 2
          }
         }
        },
        "title": {
         "text": "PETR4.SA Closing Prices"
        },
        "xaxis": {
         "anchor": "y",
         "domain": [
          0,
          1
         ],
         "title": {
          "text": "index"
         }
        },
        "yaxis": {
         "anchor": "x",
         "domain": [
          0,
          1
         ],
         "title": {
          "text": "value"
         }
        }
       }
      }
     },
     "metadata": {},
     "output_type": "display_data"
    }
   ],
   "source": [
    "px.line(vol_rsi, title=f\"{ticker} Closing Prices\").show(fig_type=\"png\")"
   ]
  },
  {
   "cell_type": "markdown",
   "id": "dea4f795",
   "metadata": {},
   "source": [
    "# Entropy Volatility"
   ]
  },
  {
   "cell_type": "code",
   "execution_count": 8,
   "id": "3a839c52",
   "metadata": {},
   "outputs": [],
   "source": [
    "vol_ent = trailing_window(r, rolling_window=60, func=sample_entropy, m=1)"
   ]
  },
  {
   "cell_type": "code",
   "execution_count": 9,
   "id": "3bc31ec1",
   "metadata": {},
   "outputs": [
    {
     "data": {
      "application/vnd.plotly.v1+json": {
       "config": {
        "plotlyServerURL": "https://plot.ly"
       },
       "data": [
        {
         "hovertemplate": "variable=0<br>index=%{x}<br>value=%{y}<extra></extra>",
         "legendgroup": "0",
         "line": {
          "color": "#636efa",
          "dash": "solid"
         },
         "marker": {
          "symbol": "circle"
         },
         "mode": "lines",
         "name": "0",
         "orientation": "v",
         "showlegend": true,
         "type": "scatter",
         "x": {
          "bdata": "AAABAAIAAwAEAAUABgAHAAgACQAKAAsADAANAA4ADwAQABEAEgATABQAFQAWABcAGAAZABoAGwAcAB0AHgAfACAAIQAiACMAJAAlACYAJwAoACkAKgArACwALQAuAC8AMAAxADIAMwA0ADUANgA3ADgAOQA6ADsAPAA9AD4APwBAAEEAQgBDAEQARQBGAEcASABJAEoASwBMAE0ATgBPAFAAUQBSAFMAVABVAFYAVwBYAFkAWgBbAFwAXQBeAF8AYABhAGIAYwBkAGUAZgBnAGgAaQBqAGsAbABtAG4AbwBwAHEAcgBzAHQAdQB2AHcAeAB5AHoAewB8AH0AfgB/AIAAgQCCAIMAhACFAIYAhwCIAIkAigCLAIwAjQCOAI8AkACRAJIAkwCUAJUAlgCXAJgAmQCaAJsAnACdAJ4AnwCgAKEAogCjAKQApQCmAKcAqACpAKoAqwCsAK0ArgCvALAAsQCyALMAtAC1ALYAtwC4ALkAugC7ALwAvQC+AL8AwADBAMIAwwDEAMUAxgDHAMgAyQDKAMsAzADNAM4AzwDQANEA0gDTANQA1QDWANcA2ADZANoA2wDcAN0A3gDfAOAA4QDiAOMA5ADlAOYA5wDoAOkA6gDrAOwA7QDuAO8A8ADxAPIA8wD0APUA9gD3APgA+QD6APsA/AD9AP4A/wAAAQEBAgEDAQQBBQEGAQcBCAEJAQoBCwEMAQ0BDgEPARABEQESARMBFAEVARYBFwEYARkBGgEbARwBHQEeAR8BIAEhASIBIwEkASUBJgEnASgBKQEqASsBLAEtAS4BLwEwATEBMgEzATQBNQE2ATcBOAE5AToBOwE8AT0BPgE/AUABQQFCAUMBRAFFAUYBRwFIAUkBSgFLAUwBTQFOAU8BUAFRAVIBUwFUAVUBVgFXAVgBWQFaAVsBXAFdAV4BXwFgAWEBYgFjAWQBZQFmAWcBaAFpAWoBawFsAW0BbgFvAXABcQFyAXMBdAF1AXYBdwF4AXkBegF7AXwBfQF+AX8BgAGBAYIBgwGEAYUBhgGHAYgBiQGKAYsBjAGNAY4BjwGQAZEBkgGTAZQBlQGWAZcBmAGZAZoBmwGcAZ0BngGfAaABoQGiAaMBpAGlAaYBpwGoAakBqgGrAawBrQGuAa8BsAGxAbIBswG0AbUBtgG3AbgBuQG6AbsBvAG9Ab4BvwHAAcEBwgHDAcQBxQHGAccByAHJAcoBywHMAc0BzgHPAdAB0QHSAdMB1AHVAdYB1wHYAdkB2gHbAdwB3QHeAd8B4AHhAeIB4wHkAeUB5gHnAegB6QHqAesB7AHtAe4B7wHwAfEB8gHzAfQB",
          "dtype": "i2"
         },
         "xaxis": "x",
         "y": {
          "bdata": "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",
          "dtype": "f8"
         },
         "yaxis": "y"
        }
       ],
       "layout": {
        "legend": {
         "title": {
          "text": "variable"
         },
         "tracegroupgap": 0
        },
        "template": {
         "data": {
          "bar": [
           {
            "error_x": {
             "color": "#2a3f5f"
            },
            "error_y": {
             "color": "#2a3f5f"
            },
            "marker": {
             "line": {
              "color": "#E5ECF6",
              "width": 0.5
             },
             "pattern": {
              "fillmode": "overlay",
              "size": 10,
              "solidity": 0.2
             }
            },
            "type": "bar"
           }
          ],
          "barpolar": [
           {
            "marker": {
             "line": {
              "color": "#E5ECF6",
              "width": 0.5
             },
             "pattern": {
              "fillmode": "overlay",
              "size": 10,
              "solidity": 0.2
             }
            },
            "type": "barpolar"
           }
          ],
          "carpet": [
           {
            "aaxis": {
             "endlinecolor": "#2a3f5f",
             "gridcolor": "white",
             "linecolor": "white",
             "minorgridcolor": "white",
             "startlinecolor": "#2a3f5f"
            },
            "baxis": {
             "endlinecolor": "#2a3f5f",
             "gridcolor": "white",
             "linecolor": "white",
             "minorgridcolor": "white",
             "startlinecolor": "#2a3f5f"
            },
            "type": "carpet"
           }
          ],
          "choropleth": [
           {
            "colorbar": {
             "outlinewidth": 0,
             "ticks": ""
            },
            "type": "choropleth"
           }
          ],
          "contour": [
           {
            "colorbar": {
             "outlinewidth": 0,
             "ticks": ""
            },
            "colorscale": [
             [
              0,
              "#0d0887"
             ],
             [
              0.1111111111111111,
              "#46039f"
             ],
             [
              0.2222222222222222,
              "#7201a8"
             ],
             [
              0.3333333333333333,
              "#9c179e"
             ],
             [
              0.4444444444444444,
              "#bd3786"
             ],
             [
              0.5555555555555556,
              "#d8576b"
             ],
             [
              0.6666666666666666,
              "#ed7953"
             ],
             [
              0.7777777777777778,
              "#fb9f3a"
             ],
             [
              0.8888888888888888,
              "#fdca26"
             ],
             [
              1,
              "#f0f921"
             ]
            ],
            "type": "contour"
           }
          ],
          "contourcarpet": [
           {
            "colorbar": {
             "outlinewidth": 0,
             "ticks": ""
            },
            "type": "contourcarpet"
           }
          ],
          "heatmap": [
           {
            "colorbar": {
             "outlinewidth": 0,
             "ticks": ""
            },
            "colorscale": [
             [
              0,
              "#0d0887"
             ],
             [
              0.1111111111111111,
              "#46039f"
             ],
             [
              0.2222222222222222,
              "#7201a8"
             ],
             [
              0.3333333333333333,
              "#9c179e"
             ],
             [
              0.4444444444444444,
              "#bd3786"
             ],
             [
              0.5555555555555556,
              "#d8576b"
             ],
             [
              0.6666666666666666,
              "#ed7953"
             ],
             [
              0.7777777777777778,
              "#fb9f3a"
             ],
             [
              0.8888888888888888,
              "#fdca26"
             ],
             [
              1,
              "#f0f921"
             ]
            ],
            "type": "heatmap"
           }
          ],
          "histogram": [
           {
            "marker": {
             "pattern": {
              "fillmode": "overlay",
              "size": 10,
              "solidity": 0.2
             }
            },
            "type": "histogram"
           }
          ],
          "histogram2d": [
           {
            "colorbar": {
             "outlinewidth": 0,
             "ticks": ""
            },
            "colorscale": [
             [
              0,
              "#0d0887"
             ],
             [
              0.1111111111111111,
              "#46039f"
             ],
             [
              0.2222222222222222,
              "#7201a8"
             ],
             [
              0.3333333333333333,
              "#9c179e"
             ],
             [
              0.4444444444444444,
              "#bd3786"
             ],
             [
              0.5555555555555556,
              "#d8576b"
             ],
             [
              0.6666666666666666,
              "#ed7953"
             ],
             [
              0.7777777777777778,
              "#fb9f3a"
             ],
             [
              0.8888888888888888,
              "#fdca26"
             ],
             [
              1,
              "#f0f921"
             ]
            ],
            "type": "histogram2d"
           }
          ],
          "histogram2dcontour": [
           {
            "colorbar": {
             "outlinewidth": 0,
             "ticks": ""
            },
            "colorscale": [
             [
              0,
              "#0d0887"
             ],
             [
              0.1111111111111111,
              "#46039f"
             ],
             [
              0.2222222222222222,
              "#7201a8"
             ],
             [
              0.3333333333333333,
              "#9c179e"
             ],
             [
              0.4444444444444444,
              "#bd3786"
             ],
             [
              0.5555555555555556,
              "#d8576b"
             ],
             [
              0.6666666666666666,
              "#ed7953"
             ],
             [
              0.7777777777777778,
              "#fb9f3a"
             ],
             [
              0.8888888888888888,
              "#fdca26"
             ],
             [
              1,
              "#f0f921"
             ]
            ],
            "type": "histogram2dcontour"
           }
          ],
          "mesh3d": [
           {
            "colorbar": {
             "outlinewidth": 0,
             "ticks": ""
            },
            "type": "mesh3d"
           }
          ],
          "parcoords": [
           {
            "line": {
             "colorbar": {
              "outlinewidth": 0,
              "ticks": ""
             }
            },
            "type": "parcoords"
           }
          ],
          "pie": [
           {
            "automargin": true,
            "type": "pie"
           }
          ],
          "scatter": [
           {
            "fillpattern": {
             "fillmode": "overlay",
             "size": 10,
             "solidity": 0.2
            },
            "type": "scatter"
           }
          ],
          "scatter3d": [
           {
            "line": {
             "colorbar": {
              "outlinewidth": 0,
              "ticks": ""
             }
            },
            "marker": {
             "colorbar": {
              "outlinewidth": 0,
              "ticks": ""
             }
            },
            "type": "scatter3d"
           }
          ],
          "scattercarpet": [
           {
            "marker": {
             "colorbar": {
              "outlinewidth": 0,
              "ticks": ""
             }
            },
            "type": "scattercarpet"
           }
          ],
          "scattergeo": [
           {
            "marker": {
             "colorbar": {
              "outlinewidth": 0,
              "ticks": ""
             }
            },
            "type": "scattergeo"
           }
          ],
          "scattergl": [
           {
            "marker": {
             "colorbar": {
              "outlinewidth": 0,
              "ticks": ""
             }
            },
            "type": "scattergl"
           }
          ],
          "scattermap": [
           {
            "marker": {
             "colorbar": {
              "outlinewidth": 0,
              "ticks": ""
             }
            },
            "type": "scattermap"
           }
          ],
          "scattermapbox": [
           {
            "marker": {
             "colorbar": {
              "outlinewidth": 0,
              "ticks": ""
             }
            },
            "type": "scattermapbox"
           }
          ],
          "scatterpolar": [
           {
            "marker": {
             "colorbar": {
              "outlinewidth": 0,
              "ticks": ""
             }
            },
            "type": "scatterpolar"
           }
          ],
          "scatterpolargl": [
           {
            "marker": {
             "colorbar": {
              "outlinewidth": 0,
              "ticks": ""
             }
            },
            "type": "scatterpolargl"
           }
          ],
          "scatterternary": [
           {
            "marker": {
             "colorbar": {
              "outlinewidth": 0,
              "ticks": ""
             }
            },
            "type": "scatterternary"
           }
          ],
          "surface": [
           {
            "colorbar": {
             "outlinewidth": 0,
             "ticks": ""
            },
            "colorscale": [
             [
              0,
              "#0d0887"
             ],
             [
              0.1111111111111111,
              "#46039f"
             ],
             [
              0.2222222222222222,
              "#7201a8"
             ],
             [
              0.3333333333333333,
              "#9c179e"
             ],
             [
              0.4444444444444444,
              "#bd3786"
             ],
             [
              0.5555555555555556,
              "#d8576b"
             ],
             [
              0.6666666666666666,
              "#ed7953"
             ],
             [
              0.7777777777777778,
              "#fb9f3a"
             ],
             [
              0.8888888888888888,
              "#fdca26"
             ],
             [
              1,
              "#f0f921"
             ]
            ],
            "type": "surface"
           }
          ],
          "table": [
           {
            "cells": {
             "fill": {
              "color": "#EBF0F8"
             },
             "line": {
              "color": "white"
             }
            },
            "header": {
             "fill": {
              "color": "#C8D4E3"
             },
             "line": {
              "color": "white"
             }
            },
            "type": "table"
           }
          ]
         },
         "layout": {
          "annotationdefaults": {
           "arrowcolor": "#2a3f5f",
           "arrowhead": 0,
           "arrowwidth": 1
          },
          "autotypenumbers": "strict",
          "coloraxis": {
           "colorbar": {
            "outlinewidth": 0,
            "ticks": ""
           }
          },
          "colorscale": {
           "diverging": [
            [
             0,
             "#8e0152"
            ],
            [
             0.1,
             "#c51b7d"
            ],
            [
             0.2,
             "#de77ae"
            ],
            [
             0.3,
             "#f1b6da"
            ],
            [
             0.4,
             "#fde0ef"
            ],
            [
             0.5,
             "#f7f7f7"
            ],
            [
             0.6,
             "#e6f5d0"
            ],
            [
             0.7,
             "#b8e186"
            ],
            [
             0.8,
             "#7fbc41"
            ],
            [
             0.9,
             "#4d9221"
            ],
            [
             1,
             "#276419"
            ]
           ],
           "sequential": [
            [
             0,
             "#0d0887"
            ],
            [
             0.1111111111111111,
             "#46039f"
            ],
            [
             0.2222222222222222,
             "#7201a8"
            ],
            [
             0.3333333333333333,
             "#9c179e"
            ],
            [
             0.4444444444444444,
             "#bd3786"
            ],
            [
             0.5555555555555556,
             "#d8576b"
            ],
            [
             0.6666666666666666,
             "#ed7953"
            ],
            [
             0.7777777777777778,
             "#fb9f3a"
            ],
            [
             0.8888888888888888,
             "#fdca26"
            ],
            [
             1,
             "#f0f921"
            ]
           ],
           "sequentialminus": [
            [
             0,
             "#0d0887"
            ],
            [
             0.1111111111111111,
             "#46039f"
            ],
            [
             0.2222222222222222,
             "#7201a8"
            ],
            [
             0.3333333333333333,
             "#9c179e"
            ],
            [
             0.4444444444444444,
             "#bd3786"
            ],
            [
             0.5555555555555556,
             "#d8576b"
            ],
            [
             0.6666666666666666,
             "#ed7953"
            ],
            [
             0.7777777777777778,
             "#fb9f3a"
            ],
            [
             0.8888888888888888,
             "#fdca26"
            ],
            [
             1,
             "#f0f921"
            ]
           ]
          },
          "colorway": [
           "#636efa",
           "#EF553B",
           "#00cc96",
           "#ab63fa",
           "#FFA15A",
           "#19d3f3",
           "#FF6692",
           "#B6E880",
           "#FF97FF",
           "#FECB52"
          ],
          "font": {
           "color": "#2a3f5f"
          },
          "geo": {
           "bgcolor": "white",
           "lakecolor": "white",
           "landcolor": "#E5ECF6",
           "showlakes": true,
           "showland": true,
           "subunitcolor": "white"
          },
          "hoverlabel": {
           "align": "left"
          },
          "hovermode": "closest",
          "mapbox": {
           "style": "light"
          },
          "paper_bgcolor": "white",
          "plot_bgcolor": "#E5ECF6",
          "polar": {
           "angularaxis": {
            "gridcolor": "white",
            "linecolor": "white",
            "ticks": ""
           },
           "bgcolor": "#E5ECF6",
           "radialaxis": {
            "gridcolor": "white",
            "linecolor": "white",
            "ticks": ""
           }
          },
          "scene": {
           "xaxis": {
            "backgroundcolor": "#E5ECF6",
            "gridcolor": "white",
            "gridwidth": 2,
            "linecolor": "white",
            "showbackground": true,
            "ticks": "",
            "zerolinecolor": "white"
           },
           "yaxis": {
            "backgroundcolor": "#E5ECF6",
            "gridcolor": "white",
            "gridwidth": 2,
            "linecolor": "white",
            "showbackground": true,
            "ticks": "",
            "zerolinecolor": "white"
           },
           "zaxis": {
            "backgroundcolor": "#E5ECF6",
            "gridcolor": "white",
            "gridwidth": 2,
            "linecolor": "white",
            "showbackground": true,
            "ticks": "",
            "zerolinecolor": "white"
           }
          },
          "shapedefaults": {
           "line": {
            "color": "#2a3f5f"
           }
          },
          "ternary": {
           "aaxis": {
            "gridcolor": "white",
            "linecolor": "white",
            "ticks": ""
           },
           "baxis": {
            "gridcolor": "white",
            "linecolor": "white",
            "ticks": ""
           },
           "bgcolor": "#E5ECF6",
           "caxis": {
            "gridcolor": "white",
            "linecolor": "white",
            "ticks": ""
           }
          },
          "title": {
           "x": 0.05
          },
          "xaxis": {
           "automargin": true,
           "gridcolor": "white",
           "linecolor": "white",
           "ticks": "",
           "title": {
            "standoff": 15
           },
           "zerolinecolor": "white",
           "zerolinewidth": 2
          },
          "yaxis": {
           "automargin": true,
           "gridcolor": "white",
           "linecolor": "white",
           "ticks": "",
           "title": {
            "standoff": 15
           },
           "zerolinecolor": "white",
           "zerolinewidth": 2
          }
         }
        },
        "title": {
         "text": "PETR4.SA Closing Prices"
        },
        "xaxis": {
         "anchor": "y",
         "domain": [
          0,
          1
         ],
         "title": {
          "text": "index"
         }
        },
        "yaxis": {
         "anchor": "x",
         "domain": [
          0,
          1
         ],
         "title": {
          "text": "value"
         }
        }
       }
      }
     },
     "metadata": {},
     "output_type": "display_data"
    }
   ],
   "source": [
    "px.line(vol_ent, title=f\"{ticker} Closing Prices\").show(fig_type=\"png\")"
   ]
  },
  {
   "cell_type": "code",
   "execution_count": 10,
   "id": "ac74a098",
   "metadata": {},
   "outputs": [
    {
     "data": {
      "application/vnd.plotly.v1+json": {
       "config": {
        "plotlyServerURL": "https://plot.ly"
       },
       "data": [
        {
         "name": "Preço PETR4.SA",
         "type": "scatter",
         "x": [
          "2023-10-17T00:00:00.000000000",
          "2023-10-18T00:00:00.000000000",
          "2023-10-19T00:00:00.000000000",
          "2023-10-20T00:00:00.000000000",
          "2023-10-23T00:00:00.000000000",
          "2023-10-24T00:00:00.000000000",
          "2023-10-25T00:00:00.000000000",
          "2023-10-26T00:00:00.000000000",
          "2023-10-27T00:00:00.000000000",
          "2023-10-30T00:00:00.000000000",
          "2023-10-31T00:00:00.000000000",
          "2023-11-01T00:00:00.000000000",
          "2023-11-03T00:00:00.000000000",
          "2023-11-06T00:00:00.000000000",
          "2023-11-07T00:00:00.000000000",
          "2023-11-08T00:00:00.000000000",
          "2023-11-09T00:00:00.000000000",
          "2023-11-10T00:00:00.000000000",
          "2023-11-13T00:00:00.000000000",
          "2023-11-14T00:00:00.000000000",
          "2023-11-16T00:00:00.000000000",
          "2023-11-17T00:00:00.000000000",
          "2023-11-20T00:00:00.000000000",
          "2023-11-21T00:00:00.000000000",
          "2023-11-22T00:00:00.000000000",
          "2023-11-23T00:00:00.000000000",
          "2023-11-24T00:00:00.000000000",
          "2023-11-27T00:00:00.000000000",
          "2023-11-28T00:00:00.000000000",
          "2023-11-29T00:00:00.000000000",
          "2023-11-30T00:00:00.000000000",
          "2023-12-01T00:00:00.000000000",
          "2023-12-04T00:00:00.000000000",
          "2023-12-05T00:00:00.000000000",
          "2023-12-06T00:00:00.000000000",
          "2023-12-07T00:00:00.000000000",
          "2023-12-08T00:00:00.000000000",
          "2023-12-11T00:00:00.000000000",
          "2023-12-12T00:00:00.000000000",
          "2023-12-13T00:00:00.000000000",
          "2023-12-14T00:00:00.000000000",
          "2023-12-15T00:00:00.000000000",
          "2023-12-18T00:00:00.000000000",
          "2023-12-19T00:00:00.000000000",
          "2023-12-20T00:00:00.000000000",
          "2023-12-21T00:00:00.000000000",
          "2023-12-22T00:00:00.000000000",
          "2023-12-26T00:00:00.000000000",
          "2023-12-27T00:00:00.000000000",
          "2023-12-28T00:00:00.000000000",
          "2024-01-02T00:00:00.000000000",
          "2024-01-03T00:00:00.000000000",
          "2024-01-04T00:00:00.000000000",
          "2024-01-05T00:00:00.000000000",
          "2024-01-08T00:00:00.000000000",
          "2024-01-09T00:00:00.000000000",
          "2024-01-10T00:00:00.000000000",
          "2024-01-11T00:00:00.000000000",
          "2024-01-12T00:00:00.000000000",
          "2024-01-15T00:00:00.000000000",
          "2024-01-16T00:00:00.000000000",
          "2024-01-17T00:00:00.000000000",
          "2024-01-18T00:00:00.000000000",
          "2024-01-19T00:00:00.000000000",
          "2024-01-22T00:00:00.000000000",
          "2024-01-23T00:00:00.000000000",
          "2024-01-24T00:00:00.000000000",
          "2024-01-25T00:00:00.000000000",
          "2024-01-26T00:00:00.000000000",
          "2024-01-29T00:00:00.000000000",
          "2024-01-30T00:00:00.000000000",
          "2024-01-31T00:00:00.000000000",
          "2024-02-01T00:00:00.000000000",
          "2024-02-02T00:00:00.000000000",
          "2024-02-05T00:00:00.000000000",
          "2024-02-06T00:00:00.000000000",
          "2024-02-07T00:00:00.000000000",
          "2024-02-08T00:00:00.000000000",
          "2024-02-09T00:00:00.000000000",
          "2024-02-14T00:00:00.000000000",
          "2024-02-15T00:00:00.000000000",
          "2024-02-16T00:00:00.000000000",
          "2024-02-19T00:00:00.000000000",
          "2024-02-20T00:00:00.000000000",
          "2024-02-21T00:00:00.000000000",
          "2024-02-22T00:00:00.000000000",
          "2024-02-23T00:00:00.000000000",
          "2024-02-26T00:00:00.000000000",
          "2024-02-27T00:00:00.000000000",
          "2024-02-28T00:00:00.000000000",
          "2024-02-29T00:00:00.000000000",
          "2024-03-01T00:00:00.000000000",
          "2024-03-04T00:00:00.000000000",
          "2024-03-05T00:00:00.000000000",
          "2024-03-06T00:00:00.000000000",
          "2024-03-07T00:00:00.000000000",
          "2024-03-08T00:00:00.000000000",
          "2024-03-11T00:00:00.000000000",
          "2024-03-12T00:00:00.000000000",
          "2024-03-13T00:00:00.000000000",
          "2024-03-14T00:00:00.000000000",
          "2024-03-15T00:00:00.000000000",
          "2024-03-18T00:00:00.000000000",
          "2024-03-19T00:00:00.000000000",
          "2024-03-20T00:00:00.000000000",
          "2024-03-21T00:00:00.000000000",
          "2024-03-22T00:00:00.000000000",
          "2024-03-25T00:00:00.000000000",
          "2024-03-26T00:00:00.000000000",
          "2024-03-27T00:00:00.000000000",
          "2024-03-28T00:00:00.000000000",
          "2024-04-01T00:00:00.000000000",
          "2024-04-02T00:00:00.000000000",
          "2024-04-03T00:00:00.000000000",
          "2024-04-04T00:00:00.000000000",
          "2024-04-05T00:00:00.000000000",
          "2024-04-08T00:00:00.000000000",
          "2024-04-09T00:00:00.000000000",
          "2024-04-10T00:00:00.000000000",
          "2024-04-11T00:00:00.000000000",
          "2024-04-12T00:00:00.000000000",
          "2024-04-15T00:00:00.000000000",
          "2024-04-16T00:00:00.000000000",
          "2024-04-17T00:00:00.000000000",
          "2024-04-18T00:00:00.000000000",
          "2024-04-19T00:00:00.000000000",
          "2024-04-22T00:00:00.000000000",
          "2024-04-23T00:00:00.000000000",
          "2024-04-24T00:00:00.000000000",
          "2024-04-25T00:00:00.000000000",
          "2024-04-26T00:00:00.000000000",
          "2024-04-29T00:00:00.000000000",
          "2024-04-30T00:00:00.000000000",
          "2024-05-02T00:00:00.000000000",
          "2024-05-03T00:00:00.000000000",
          "2024-05-06T00:00:00.000000000",
          "2024-05-07T00:00:00.000000000",
          "2024-05-08T00:00:00.000000000",
          "2024-05-09T00:00:00.000000000",
          "2024-05-10T00:00:00.000000000",
          "2024-05-13T00:00:00.000000000",
          "2024-05-14T00:00:00.000000000",
          "2024-05-15T00:00:00.000000000",
          "2024-05-16T00:00:00.000000000",
          "2024-05-17T00:00:00.000000000",
          "2024-05-20T00:00:00.000000000",
          "2024-05-21T00:00:00.000000000",
          "2024-05-22T00:00:00.000000000",
          "2024-05-23T00:00:00.000000000",
          "2024-05-24T00:00:00.000000000",
          "2024-05-27T00:00:00.000000000",
          "2024-05-28T00:00:00.000000000",
          "2024-05-29T00:00:00.000000000",
          "2024-05-31T00:00:00.000000000",
          "2024-06-03T00:00:00.000000000",
          "2024-06-04T00:00:00.000000000",
          "2024-06-05T00:00:00.000000000",
          "2024-06-06T00:00:00.000000000",
          "2024-06-07T00:00:00.000000000",
          "2024-06-10T00:00:00.000000000",
          "2024-06-11T00:00:00.000000000",
          "2024-06-12T00:00:00.000000000",
          "2024-06-13T00:00:00.000000000",
          "2024-06-14T00:00:00.000000000",
          "2024-06-17T00:00:00.000000000",
          "2024-06-18T00:00:00.000000000",
          "2024-06-19T00:00:00.000000000",
          "2024-06-20T00:00:00.000000000",
          "2024-06-21T00:00:00.000000000",
          "2024-06-24T00:00:00.000000000",
          "2024-06-25T00:00:00.000000000",
          "2024-06-26T00:00:00.000000000",
          "2024-06-27T00:00:00.000000000",
          "2024-06-28T00:00:00.000000000",
          "2024-07-01T00:00:00.000000000",
          "2024-07-02T00:00:00.000000000",
          "2024-07-03T00:00:00.000000000",
          "2024-07-04T00:00:00.000000000",
          "2024-07-05T00:00:00.000000000",
          "2024-07-08T00:00:00.000000000",
          "2024-07-09T00:00:00.000000000",
          "2024-07-10T00:00:00.000000000",
          "2024-07-11T00:00:00.000000000",
          "2024-07-12T00:00:00.000000000",
          "2024-07-15T00:00:00.000000000",
          "2024-07-16T00:00:00.000000000",
          "2024-07-17T00:00:00.000000000",
          "2024-07-18T00:00:00.000000000",
          "2024-07-19T00:00:00.000000000",
          "2024-07-22T00:00:00.000000000",
          "2024-07-23T00:00:00.000000000",
          "2024-07-24T00:00:00.000000000",
          "2024-07-25T00:00:00.000000000",
          "2024-07-26T00:00:00.000000000",
          "2024-07-29T00:00:00.000000000",
          "2024-07-30T00:00:00.000000000",
          "2024-07-31T00:00:00.000000000",
          "2024-08-01T00:00:00.000000000",
          "2024-08-02T00:00:00.000000000",
          "2024-08-05T00:00:00.000000000",
          "2024-08-06T00:00:00.000000000",
          "2024-08-07T00:00:00.000000000",
          "2024-08-08T00:00:00.000000000",
          "2024-08-09T00:00:00.000000000",
          "2024-08-12T00:00:00.000000000",
          "2024-08-13T00:00:00.000000000",
          "2024-08-14T00:00:00.000000000",
          "2024-08-15T00:00:00.000000000",
          "2024-08-16T00:00:00.000000000",
          "2024-08-19T00:00:00.000000000",
          "2024-08-20T00:00:00.000000000",
          "2024-08-21T00:00:00.000000000",
          "2024-08-22T00:00:00.000000000",
          "2024-08-23T00:00:00.000000000",
          "2024-08-26T00:00:00.000000000",
          "2024-08-27T00:00:00.000000000",
          "2024-08-28T00:00:00.000000000",
          "2024-08-29T00:00:00.000000000",
          "2024-08-30T00:00:00.000000000",
          "2024-09-02T00:00:00.000000000",
          "2024-09-03T00:00:00.000000000",
          "2024-09-04T00:00:00.000000000",
          "2024-09-05T00:00:00.000000000",
          "2024-09-06T00:00:00.000000000",
          "2024-09-09T00:00:00.000000000",
          "2024-09-10T00:00:00.000000000",
          "2024-09-11T00:00:00.000000000",
          "2024-09-12T00:00:00.000000000",
          "2024-09-13T00:00:00.000000000",
          "2024-09-16T00:00:00.000000000",
          "2024-09-17T00:00:00.000000000",
          "2024-09-18T00:00:00.000000000",
          "2024-09-19T00:00:00.000000000",
          "2024-09-20T00:00:00.000000000",
          "2024-09-23T00:00:00.000000000",
          "2024-09-24T00:00:00.000000000",
          "2024-09-25T00:00:00.000000000",
          "2024-09-26T00:00:00.000000000",
          "2024-09-27T00:00:00.000000000",
          "2024-09-30T00:00:00.000000000",
          "2024-10-01T00:00:00.000000000",
          "2024-10-02T00:00:00.000000000",
          "2024-10-03T00:00:00.000000000",
          "2024-10-04T00:00:00.000000000",
          "2024-10-07T00:00:00.000000000",
          "2024-10-08T00:00:00.000000000",
          "2024-10-09T00:00:00.000000000",
          "2024-10-10T00:00:00.000000000",
          "2024-10-11T00:00:00.000000000",
          "2024-10-14T00:00:00.000000000",
          "2024-10-15T00:00:00.000000000",
          "2024-10-16T00:00:00.000000000",
          "2024-10-17T00:00:00.000000000",
          "2024-10-18T00:00:00.000000000",
          "2024-10-21T00:00:00.000000000",
          "2024-10-22T00:00:00.000000000",
          "2024-10-23T00:00:00.000000000",
          "2024-10-24T00:00:00.000000000",
          "2024-10-25T00:00:00.000000000",
          "2024-10-28T00:00:00.000000000",
          "2024-10-29T00:00:00.000000000",
          "2024-10-30T00:00:00.000000000",
          "2024-10-31T00:00:00.000000000",
          "2024-11-01T00:00:00.000000000",
          "2024-11-04T00:00:00.000000000",
          "2024-11-05T00:00:00.000000000",
          "2024-11-06T00:00:00.000000000",
          "2024-11-07T00:00:00.000000000",
          "2024-11-08T00:00:00.000000000",
          "2024-11-11T00:00:00.000000000",
          "2024-11-12T00:00:00.000000000",
          "2024-11-13T00:00:00.000000000",
          "2024-11-14T00:00:00.000000000",
          "2024-11-18T00:00:00.000000000",
          "2024-11-19T00:00:00.000000000",
          "2024-11-21T00:00:00.000000000",
          "2024-11-22T00:00:00.000000000",
          "2024-11-25T00:00:00.000000000",
          "2024-11-26T00:00:00.000000000",
          "2024-11-27T00:00:00.000000000",
          "2024-11-28T00:00:00.000000000",
          "2024-11-29T00:00:00.000000000",
          "2024-12-02T00:00:00.000000000",
          "2024-12-03T00:00:00.000000000",
          "2024-12-04T00:00:00.000000000",
          "2024-12-05T00:00:00.000000000",
          "2024-12-06T00:00:00.000000000",
          "2024-12-09T00:00:00.000000000",
          "2024-12-10T00:00:00.000000000",
          "2024-12-11T00:00:00.000000000",
          "2024-12-12T00:00:00.000000000",
          "2024-12-13T00:00:00.000000000",
          "2024-12-16T00:00:00.000000000",
          "2024-12-17T00:00:00.000000000",
          "2024-12-18T00:00:00.000000000",
          "2024-12-19T00:00:00.000000000",
          "2024-12-20T00:00:00.000000000",
          "2024-12-23T00:00:00.000000000",
          "2024-12-26T00:00:00.000000000",
          "2024-12-27T00:00:00.000000000",
          "2024-12-30T00:00:00.000000000",
          "2025-01-02T00:00:00.000000000",
          "2025-01-03T00:00:00.000000000",
          "2025-01-06T00:00:00.000000000",
          "2025-01-07T00:00:00.000000000",
          "2025-01-08T00:00:00.000000000",
          "2025-01-09T00:00:00.000000000",
          "2025-01-10T00:00:00.000000000",
          "2025-01-13T00:00:00.000000000",
          "2025-01-14T00:00:00.000000000",
          "2025-01-15T00:00:00.000000000",
          "2025-01-16T00:00:00.000000000",
          "2025-01-17T00:00:00.000000000",
          "2025-01-20T00:00:00.000000000",
          "2025-01-21T00:00:00.000000000",
          "2025-01-22T00:00:00.000000000",
          "2025-01-23T00:00:00.000000000",
          "2025-01-24T00:00:00.000000000",
          "2025-01-27T00:00:00.000000000",
          "2025-01-28T00:00:00.000000000",
          "2025-01-29T00:00:00.000000000",
          "2025-01-30T00:00:00.000000000",
          "2025-01-31T00:00:00.000000000",
          "2025-02-03T00:00:00.000000000",
          "2025-02-04T00:00:00.000000000",
          "2025-02-05T00:00:00.000000000",
          "2025-02-06T00:00:00.000000000",
          "2025-02-07T00:00:00.000000000",
          "2025-02-10T00:00:00.000000000",
          "2025-02-11T00:00:00.000000000",
          "2025-02-12T00:00:00.000000000",
          "2025-02-13T00:00:00.000000000",
          "2025-02-14T00:00:00.000000000",
          "2025-02-17T00:00:00.000000000",
          "2025-02-18T00:00:00.000000000",
          "2025-02-19T00:00:00.000000000",
          "2025-02-20T00:00:00.000000000",
          "2025-02-21T00:00:00.000000000",
          "2025-02-24T00:00:00.000000000",
          "2025-02-25T00:00:00.000000000",
          "2025-02-26T00:00:00.000000000",
          "2025-02-27T00:00:00.000000000",
          "2025-02-28T00:00:00.000000000",
          "2025-03-05T00:00:00.000000000",
          "2025-03-06T00:00:00.000000000",
          "2025-03-07T00:00:00.000000000",
          "2025-03-10T00:00:00.000000000",
          "2025-03-11T00:00:00.000000000",
          "2025-03-12T00:00:00.000000000",
          "2025-03-13T00:00:00.000000000",
          "2025-03-14T00:00:00.000000000",
          "2025-03-17T00:00:00.000000000",
          "2025-03-18T00:00:00.000000000",
          "2025-03-19T00:00:00.000000000",
          "2025-03-20T00:00:00.000000000",
          "2025-03-21T00:00:00.000000000",
          "2025-03-24T00:00:00.000000000",
          "2025-03-25T00:00:00.000000000",
          "2025-03-26T00:00:00.000000000",
          "2025-03-27T00:00:00.000000000",
          "2025-03-28T00:00:00.000000000",
          "2025-03-31T00:00:00.000000000",
          "2025-04-01T00:00:00.000000000",
          "2025-04-02T00:00:00.000000000",
          "2025-04-03T00:00:00.000000000",
          "2025-04-04T00:00:00.000000000",
          "2025-04-07T00:00:00.000000000",
          "2025-04-08T00:00:00.000000000",
          "2025-04-09T00:00:00.000000000",
          "2025-04-10T00:00:00.000000000",
          "2025-04-11T00:00:00.000000000",
          "2025-04-14T00:00:00.000000000",
          "2025-04-15T00:00:00.000000000",
          "2025-04-16T00:00:00.000000000",
          "2025-04-17T00:00:00.000000000",
          "2025-04-22T00:00:00.000000000",
          "2025-04-23T00:00:00.000000000",
          "2025-04-24T00:00:00.000000000",
          "2025-04-25T00:00:00.000000000",
          "2025-04-28T00:00:00.000000000",
          "2025-04-29T00:00:00.000000000",
          "2025-04-30T00:00:00.000000000",
          "2025-05-02T00:00:00.000000000",
          "2025-05-05T00:00:00.000000000",
          "2025-05-06T00:00:00.000000000",
          "2025-05-07T00:00:00.000000000",
          "2025-05-08T00:00:00.000000000",
          "2025-05-09T00:00:00.000000000",
          "2025-05-12T00:00:00.000000000",
          "2025-05-13T00:00:00.000000000",
          "2025-05-14T00:00:00.000000000",
          "2025-05-15T00:00:00.000000000",
          "2025-05-16T00:00:00.000000000",
          "2025-05-19T00:00:00.000000000",
          "2025-05-20T00:00:00.000000000",
          "2025-05-21T00:00:00.000000000",
          "2025-05-22T00:00:00.000000000",
          "2025-05-23T00:00:00.000000000",
          "2025-05-26T00:00:00.000000000",
          "2025-05-27T00:00:00.000000000",
          "2025-05-28T00:00:00.000000000",
          "2025-05-29T00:00:00.000000000",
          "2025-05-30T00:00:00.000000000",
          "2025-06-02T00:00:00.000000000",
          "2025-06-03T00:00:00.000000000",
          "2025-06-04T00:00:00.000000000",
          "2025-06-05T00:00:00.000000000",
          "2025-06-06T00:00:00.000000000",
          "2025-06-09T00:00:00.000000000",
          "2025-06-10T00:00:00.000000000",
          "2025-06-11T00:00:00.000000000",
          "2025-06-12T00:00:00.000000000",
          "2025-06-13T00:00:00.000000000",
          "2025-06-16T00:00:00.000000000",
          "2025-06-17T00:00:00.000000000",
          "2025-06-18T00:00:00.000000000",
          "2025-06-20T00:00:00.000000000",
          "2025-06-23T00:00:00.000000000",
          "2025-06-24T00:00:00.000000000",
          "2025-06-25T00:00:00.000000000",
          "2025-06-26T00:00:00.000000000",
          "2025-06-27T00:00:00.000000000",
          "2025-06-30T00:00:00.000000000",
          "2025-07-01T00:00:00.000000000",
          "2025-07-02T00:00:00.000000000",
          "2025-07-03T00:00:00.000000000",
          "2025-07-04T00:00:00.000000000",
          "2025-07-07T00:00:00.000000000",
          "2025-07-08T00:00:00.000000000",
          "2025-07-09T00:00:00.000000000",
          "2025-07-10T00:00:00.000000000",
          "2025-07-11T00:00:00.000000000",
          "2025-07-14T00:00:00.000000000",
          "2025-07-15T00:00:00.000000000",
          "2025-07-16T00:00:00.000000000",
          "2025-07-17T00:00:00.000000000",
          "2025-07-18T00:00:00.000000000",
          "2025-07-21T00:00:00.000000000",
          "2025-07-22T00:00:00.000000000",
          "2025-07-23T00:00:00.000000000",
          "2025-07-24T00:00:00.000000000",
          "2025-07-25T00:00:00.000000000",
          "2025-07-28T00:00:00.000000000",
          "2025-07-29T00:00:00.000000000",
          "2025-07-30T00:00:00.000000000",
          "2025-07-31T00:00:00.000000000",
          "2025-08-01T00:00:00.000000000",
          "2025-08-04T00:00:00.000000000",
          "2025-08-05T00:00:00.000000000",
          "2025-08-06T00:00:00.000000000",
          "2025-08-07T00:00:00.000000000",
          "2025-08-08T00:00:00.000000000",
          "2025-08-11T00:00:00.000000000",
          "2025-08-12T00:00:00.000000000",
          "2025-08-13T00:00:00.000000000",
          "2025-08-14T00:00:00.000000000",
          "2025-08-15T00:00:00.000000000",
          "2025-08-18T00:00:00.000000000",
          "2025-08-19T00:00:00.000000000",
          "2025-08-20T00:00:00.000000000",
          "2025-08-21T00:00:00.000000000",
          "2025-08-22T00:00:00.000000000",
          "2025-08-25T00:00:00.000000000",
          "2025-08-26T00:00:00.000000000",
          "2025-08-27T00:00:00.000000000",
          "2025-08-28T00:00:00.000000000",
          "2025-08-29T00:00:00.000000000",
          "2025-09-01T00:00:00.000000000",
          "2025-09-02T00:00:00.000000000",
          "2025-09-03T00:00:00.000000000",
          "2025-09-04T00:00:00.000000000",
          "2025-09-05T00:00:00.000000000",
          "2025-09-08T00:00:00.000000000",
          "2025-09-09T00:00:00.000000000",
          "2025-09-10T00:00:00.000000000",
          "2025-09-11T00:00:00.000000000",
          "2025-09-12T00:00:00.000000000",
          "2025-09-15T00:00:00.000000000",
          "2025-09-16T00:00:00.000000000",
          "2025-09-17T00:00:00.000000000",
          "2025-09-18T00:00:00.000000000",
          "2025-09-19T00:00:00.000000000",
          "2025-09-22T00:00:00.000000000",
          "2025-09-23T00:00:00.000000000",
          "2025-09-24T00:00:00.000000000",
          "2025-09-25T00:00:00.000000000",
          "2025-09-26T00:00:00.000000000",
          "2025-09-29T00:00:00.000000000",
          "2025-09-30T00:00:00.000000000",
          "2025-10-01T00:00:00.000000000",
          "2025-10-02T00:00:00.000000000",
          "2025-10-03T00:00:00.000000000",
          "2025-10-06T00:00:00.000000000",
          "2025-10-07T00:00:00.000000000",
          "2025-10-08T00:00:00.000000000",
          "2025-10-09T00:00:00.000000000",
          "2025-10-10T00:00:00.000000000",
          "2025-10-13T00:00:00.000000000",
          "2025-10-14T00:00:00.000000000",
          "2025-10-15T00:00:00.000000000",
          "2025-10-16T00:00:00.000000000",
          "2025-10-17T00:00:00.000000000"
         ],
         "y": {
          "bdata": "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",
          "dtype": "f8"
         },
         "yaxis": "y"
        },
        {
         "name": "Volatility Entropy",
         "type": "scatter",
         "x": [
          "2023-10-17T00:00:00.000000000",
          "2023-10-18T00:00:00.000000000",
          "2023-10-19T00:00:00.000000000",
          "2023-10-20T00:00:00.000000000",
          "2023-10-23T00:00:00.000000000",
          "2023-10-24T00:00:00.000000000",
          "2023-10-25T00:00:00.000000000",
          "2023-10-26T00:00:00.000000000",
          "2023-10-27T00:00:00.000000000",
          "2023-10-30T00:00:00.000000000",
          "2023-10-31T00:00:00.000000000",
          "2023-11-01T00:00:00.000000000",
          "2023-11-03T00:00:00.000000000",
          "2023-11-06T00:00:00.000000000",
          "2023-11-07T00:00:00.000000000",
          "2023-11-08T00:00:00.000000000",
          "2023-11-09T00:00:00.000000000",
          "2023-11-10T00:00:00.000000000",
          "2023-11-13T00:00:00.000000000",
          "2023-11-14T00:00:00.000000000",
          "2023-11-16T00:00:00.000000000",
          "2023-11-17T00:00:00.000000000",
          "2023-11-20T00:00:00.000000000",
          "2023-11-21T00:00:00.000000000",
          "2023-11-22T00:00:00.000000000",
          "2023-11-23T00:00:00.000000000",
          "2023-11-24T00:00:00.000000000",
          "2023-11-27T00:00:00.000000000",
          "2023-11-28T00:00:00.000000000",
          "2023-11-29T00:00:00.000000000",
          "2023-11-30T00:00:00.000000000",
          "2023-12-01T00:00:00.000000000",
          "2023-12-04T00:00:00.000000000",
          "2023-12-05T00:00:00.000000000",
          "2023-12-06T00:00:00.000000000",
          "2023-12-07T00:00:00.000000000",
          "2023-12-08T00:00:00.000000000",
          "2023-12-11T00:00:00.000000000",
          "2023-12-12T00:00:00.000000000",
          "2023-12-13T00:00:00.000000000",
          "2023-12-14T00:00:00.000000000",
          "2023-12-15T00:00:00.000000000",
          "2023-12-18T00:00:00.000000000",
          "2023-12-19T00:00:00.000000000",
          "2023-12-20T00:00:00.000000000",
          "2023-12-21T00:00:00.000000000",
          "2023-12-22T00:00:00.000000000",
          "2023-12-26T00:00:00.000000000",
          "2023-12-27T00:00:00.000000000",
          "2023-12-28T00:00:00.000000000",
          "2024-01-02T00:00:00.000000000",
          "2024-01-03T00:00:00.000000000",
          "2024-01-04T00:00:00.000000000",
          "2024-01-05T00:00:00.000000000",
          "2024-01-08T00:00:00.000000000",
          "2024-01-09T00:00:00.000000000",
          "2024-01-10T00:00:00.000000000",
          "2024-01-11T00:00:00.000000000",
          "2024-01-12T00:00:00.000000000",
          "2024-01-15T00:00:00.000000000",
          "2024-01-16T00:00:00.000000000",
          "2024-01-17T00:00:00.000000000",
          "2024-01-18T00:00:00.000000000",
          "2024-01-19T00:00:00.000000000",
          "2024-01-22T00:00:00.000000000",
          "2024-01-23T00:00:00.000000000",
          "2024-01-24T00:00:00.000000000",
          "2024-01-25T00:00:00.000000000",
          "2024-01-26T00:00:00.000000000",
          "2024-01-29T00:00:00.000000000",
          "2024-01-30T00:00:00.000000000",
          "2024-01-31T00:00:00.000000000",
          "2024-02-01T00:00:00.000000000",
          "2024-02-02T00:00:00.000000000",
          "2024-02-05T00:00:00.000000000",
          "2024-02-06T00:00:00.000000000",
          "2024-02-07T00:00:00.000000000",
          "2024-02-08T00:00:00.000000000",
          "2024-02-09T00:00:00.000000000",
          "2024-02-14T00:00:00.000000000",
          "2024-02-15T00:00:00.000000000",
          "2024-02-16T00:00:00.000000000",
          "2024-02-19T00:00:00.000000000",
          "2024-02-20T00:00:00.000000000",
          "2024-02-21T00:00:00.000000000",
          "2024-02-22T00:00:00.000000000",
          "2024-02-23T00:00:00.000000000",
          "2024-02-26T00:00:00.000000000",
          "2024-02-27T00:00:00.000000000",
          "2024-02-28T00:00:00.000000000",
          "2024-02-29T00:00:00.000000000",
          "2024-03-01T00:00:00.000000000",
          "2024-03-04T00:00:00.000000000",
          "2024-03-05T00:00:00.000000000",
          "2024-03-06T00:00:00.000000000",
          "2024-03-07T00:00:00.000000000",
          "2024-03-08T00:00:00.000000000",
          "2024-03-11T00:00:00.000000000",
          "2024-03-12T00:00:00.000000000",
          "2024-03-13T00:00:00.000000000",
          "2024-03-14T00:00:00.000000000",
          "2024-03-15T00:00:00.000000000",
          "2024-03-18T00:00:00.000000000",
          "2024-03-19T00:00:00.000000000",
          "2024-03-20T00:00:00.000000000",
          "2024-03-21T00:00:00.000000000",
          "2024-03-22T00:00:00.000000000",
          "2024-03-25T00:00:00.000000000",
          "2024-03-26T00:00:00.000000000",
          "2024-03-27T00:00:00.000000000",
          "2024-03-28T00:00:00.000000000",
          "2024-04-01T00:00:00.000000000",
          "2024-04-02T00:00:00.000000000",
          "2024-04-03T00:00:00.000000000",
          "2024-04-04T00:00:00.000000000",
          "2024-04-05T00:00:00.000000000",
          "2024-04-08T00:00:00.000000000",
          "2024-04-09T00:00:00.000000000",
          "2024-04-10T00:00:00.000000000",
          "2024-04-11T00:00:00.000000000",
          "2024-04-12T00:00:00.000000000",
          "2024-04-15T00:00:00.000000000",
          "2024-04-16T00:00:00.000000000",
          "2024-04-17T00:00:00.000000000",
          "2024-04-18T00:00:00.000000000",
          "2024-04-19T00:00:00.000000000",
          "2024-04-22T00:00:00.000000000",
          "2024-04-23T00:00:00.000000000",
          "2024-04-24T00:00:00.000000000",
          "2024-04-25T00:00:00.000000000",
          "2024-04-26T00:00:00.000000000",
          "2024-04-29T00:00:00.000000000",
          "2024-04-30T00:00:00.000000000",
          "2024-05-02T00:00:00.000000000",
          "2024-05-03T00:00:00.000000000",
          "2024-05-06T00:00:00.000000000",
          "2024-05-07T00:00:00.000000000",
          "2024-05-08T00:00:00.000000000",
          "2024-05-09T00:00:00.000000000",
          "2024-05-10T00:00:00.000000000",
          "2024-05-13T00:00:00.000000000",
          "2024-05-14T00:00:00.000000000",
          "2024-05-15T00:00:00.000000000",
          "2024-05-16T00:00:00.000000000",
          "2024-05-17T00:00:00.000000000",
          "2024-05-20T00:00:00.000000000",
          "2024-05-21T00:00:00.000000000",
          "2024-05-22T00:00:00.000000000",
          "2024-05-23T00:00:00.000000000",
          "2024-05-24T00:00:00.000000000",
          "2024-05-27T00:00:00.000000000",
          "2024-05-28T00:00:00.000000000",
          "2024-05-29T00:00:00.000000000",
          "2024-05-31T00:00:00.000000000",
          "2024-06-03T00:00:00.000000000",
          "2024-06-04T00:00:00.000000000",
          "2024-06-05T00:00:00.000000000",
          "2024-06-06T00:00:00.000000000",
          "2024-06-07T00:00:00.000000000",
          "2024-06-10T00:00:00.000000000",
          "2024-06-11T00:00:00.000000000",
          "2024-06-12T00:00:00.000000000",
          "2024-06-13T00:00:00.000000000",
          "2024-06-14T00:00:00.000000000",
          "2024-06-17T00:00:00.000000000",
          "2024-06-18T00:00:00.000000000",
          "2024-06-19T00:00:00.000000000",
          "2024-06-20T00:00:00.000000000",
          "2024-06-21T00:00:00.000000000",
          "2024-06-24T00:00:00.000000000",
          "2024-06-25T00:00:00.000000000",
          "2024-06-26T00:00:00.000000000",
          "2024-06-27T00:00:00.000000000",
          "2024-06-28T00:00:00.000000000",
          "2024-07-01T00:00:00.000000000",
          "2024-07-02T00:00:00.000000000",
          "2024-07-03T00:00:00.000000000",
          "2024-07-04T00:00:00.000000000",
          "2024-07-05T00:00:00.000000000",
          "2024-07-08T00:00:00.000000000",
          "2024-07-09T00:00:00.000000000",
          "2024-07-10T00:00:00.000000000",
          "2024-07-11T00:00:00.000000000",
          "2024-07-12T00:00:00.000000000",
          "2024-07-15T00:00:00.000000000",
          "2024-07-16T00:00:00.000000000",
          "2024-07-17T00:00:00.000000000",
          "2024-07-18T00:00:00.000000000",
          "2024-07-19T00:00:00.000000000",
          "2024-07-22T00:00:00.000000000",
          "2024-07-23T00:00:00.000000000",
          "2024-07-24T00:00:00.000000000",
          "2024-07-25T00:00:00.000000000",
          "2024-07-26T00:00:00.000000000",
          "2024-07-29T00:00:00.000000000",
          "2024-07-30T00:00:00.000000000",
          "2024-07-31T00:00:00.000000000",
          "2024-08-01T00:00:00.000000000",
          "2024-08-02T00:00:00.000000000",
          "2024-08-05T00:00:00.000000000",
          "2024-08-06T00:00:00.000000000",
          "2024-08-07T00:00:00.000000000",
          "2024-08-08T00:00:00.000000000",
          "2024-08-09T00:00:00.000000000",
          "2024-08-12T00:00:00.000000000",
          "2024-08-13T00:00:00.000000000",
          "2024-08-14T00:00:00.000000000",
          "2024-08-15T00:00:00.000000000",
          "2024-08-16T00:00:00.000000000",
          "2024-08-19T00:00:00.000000000",
          "2024-08-20T00:00:00.000000000",
          "2024-08-21T00:00:00.000000000",
          "2024-08-22T00:00:00.000000000",
          "2024-08-23T00:00:00.000000000",
          "2024-08-26T00:00:00.000000000",
          "2024-08-27T00:00:00.000000000",
          "2024-08-28T00:00:00.000000000",
          "2024-08-29T00:00:00.000000000",
          "2024-08-30T00:00:00.000000000",
          "2024-09-02T00:00:00.000000000",
          "2024-09-03T00:00:00.000000000",
          "2024-09-04T00:00:00.000000000",
          "2024-09-05T00:00:00.000000000",
          "2024-09-06T00:00:00.000000000",
          "2024-09-09T00:00:00.000000000",
          "2024-09-10T00:00:00.000000000",
          "2024-09-11T00:00:00.000000000",
          "2024-09-12T00:00:00.000000000",
          "2024-09-13T00:00:00.000000000",
          "2024-09-16T00:00:00.000000000",
          "2024-09-17T00:00:00.000000000",
          "2024-09-18T00:00:00.000000000",
          "2024-09-19T00:00:00.000000000",
          "2024-09-20T00:00:00.000000000",
          "2024-09-23T00:00:00.000000000",
          "2024-09-24T00:00:00.000000000",
          "2024-09-25T00:00:00.000000000",
          "2024-09-26T00:00:00.000000000",
          "2024-09-27T00:00:00.000000000",
          "2024-09-30T00:00:00.000000000",
          "2024-10-01T00:00:00.000000000",
          "2024-10-02T00:00:00.000000000",
          "2024-10-03T00:00:00.000000000",
          "2024-10-04T00:00:00.000000000",
          "2024-10-07T00:00:00.000000000",
          "2024-10-08T00:00:00.000000000",
          "2024-10-09T00:00:00.000000000",
          "2024-10-10T00:00:00.000000000",
          "2024-10-11T00:00:00.000000000",
          "2024-10-14T00:00:00.000000000",
          "2024-10-15T00:00:00.000000000",
          "2024-10-16T00:00:00.000000000",
          "2024-10-17T00:00:00.000000000",
          "2024-10-18T00:00:00.000000000",
          "2024-10-21T00:00:00.000000000",
          "2024-10-22T00:00:00.000000000",
          "2024-10-23T00:00:00.000000000",
          "2024-10-24T00:00:00.000000000",
          "2024-10-25T00:00:00.000000000",
          "2024-10-28T00:00:00.000000000",
          "2024-10-29T00:00:00.000000000",
          "2024-10-30T00:00:00.000000000",
          "2024-10-31T00:00:00.000000000",
          "2024-11-01T00:00:00.000000000",
          "2024-11-04T00:00:00.000000000",
          "2024-11-05T00:00:00.000000000",
          "2024-11-06T00:00:00.000000000",
          "2024-11-07T00:00:00.000000000",
          "2024-11-08T00:00:00.000000000",
          "2024-11-11T00:00:00.000000000",
          "2024-11-12T00:00:00.000000000",
          "2024-11-13T00:00:00.000000000",
          "2024-11-14T00:00:00.000000000",
          "2024-11-18T00:00:00.000000000",
          "2024-11-19T00:00:00.000000000",
          "2024-11-21T00:00:00.000000000",
          "2024-11-22T00:00:00.000000000",
          "2024-11-25T00:00:00.000000000",
          "2024-11-26T00:00:00.000000000",
          "2024-11-27T00:00:00.000000000",
          "2024-11-28T00:00:00.000000000",
          "2024-11-29T00:00:00.000000000",
          "2024-12-02T00:00:00.000000000",
          "2024-12-03T00:00:00.000000000",
          "2024-12-04T00:00:00.000000000",
          "2024-12-05T00:00:00.000000000",
          "2024-12-06T00:00:00.000000000",
          "2024-12-09T00:00:00.000000000",
          "2024-12-10T00:00:00.000000000",
          "2024-12-11T00:00:00.000000000",
          "2024-12-12T00:00:00.000000000",
          "2024-12-13T00:00:00.000000000",
          "2024-12-16T00:00:00.000000000",
          "2024-12-17T00:00:00.000000000",
          "2024-12-18T00:00:00.000000000",
          "2024-12-19T00:00:00.000000000",
          "2024-12-20T00:00:00.000000000",
          "2024-12-23T00:00:00.000000000",
          "2024-12-26T00:00:00.000000000",
          "2024-12-27T00:00:00.000000000",
          "2024-12-30T00:00:00.000000000",
          "2025-01-02T00:00:00.000000000",
          "2025-01-03T00:00:00.000000000",
          "2025-01-06T00:00:00.000000000",
          "2025-01-07T00:00:00.000000000",
          "2025-01-08T00:00:00.000000000",
          "2025-01-09T00:00:00.000000000",
          "2025-01-10T00:00:00.000000000",
          "2025-01-13T00:00:00.000000000",
          "2025-01-14T00:00:00.000000000",
          "2025-01-15T00:00:00.000000000",
          "2025-01-16T00:00:00.000000000",
          "2025-01-17T00:00:00.000000000",
          "2025-01-20T00:00:00.000000000",
          "2025-01-21T00:00:00.000000000",
          "2025-01-22T00:00:00.000000000",
          "2025-01-23T00:00:00.000000000",
          "2025-01-24T00:00:00.000000000",
          "2025-01-27T00:00:00.000000000",
          "2025-01-28T00:00:00.000000000",
          "2025-01-29T00:00:00.000000000",
          "2025-01-30T00:00:00.000000000",
          "2025-01-31T00:00:00.000000000",
          "2025-02-03T00:00:00.000000000",
          "2025-02-04T00:00:00.000000000",
          "2025-02-05T00:00:00.000000000",
          "2025-02-06T00:00:00.000000000",
          "2025-02-07T00:00:00.000000000",
          "2025-02-10T00:00:00.000000000",
          "2025-02-11T00:00:00.000000000",
          "2025-02-12T00:00:00.000000000",
          "2025-02-13T00:00:00.000000000",
          "2025-02-14T00:00:00.000000000",
          "2025-02-17T00:00:00.000000000",
          "2025-02-18T00:00:00.000000000",
          "2025-02-19T00:00:00.000000000",
          "2025-02-20T00:00:00.000000000",
          "2025-02-21T00:00:00.000000000",
          "2025-02-24T00:00:00.000000000",
          "2025-02-25T00:00:00.000000000",
          "2025-02-26T00:00:00.000000000",
          "2025-02-27T00:00:00.000000000",
          "2025-02-28T00:00:00.000000000",
          "2025-03-05T00:00:00.000000000",
          "2025-03-06T00:00:00.000000000",
          "2025-03-07T00:00:00.000000000",
          "2025-03-10T00:00:00.000000000",
          "2025-03-11T00:00:00.000000000",
          "2025-03-12T00:00:00.000000000",
          "2025-03-13T00:00:00.000000000",
          "2025-03-14T00:00:00.000000000",
          "2025-03-17T00:00:00.000000000",
          "2025-03-18T00:00:00.000000000",
          "2025-03-19T00:00:00.000000000",
          "2025-03-20T00:00:00.000000000",
          "2025-03-21T00:00:00.000000000",
          "2025-03-24T00:00:00.000000000",
          "2025-03-25T00:00:00.000000000",
          "2025-03-26T00:00:00.000000000",
          "2025-03-27T00:00:00.000000000",
          "2025-03-28T00:00:00.000000000",
          "2025-03-31T00:00:00.000000000",
          "2025-04-01T00:00:00.000000000",
          "2025-04-02T00:00:00.000000000",
          "2025-04-03T00:00:00.000000000",
          "2025-04-04T00:00:00.000000000",
          "2025-04-07T00:00:00.000000000",
          "2025-04-08T00:00:00.000000000",
          "2025-04-09T00:00:00.000000000",
          "2025-04-10T00:00:00.000000000",
          "2025-04-11T00:00:00.000000000",
          "2025-04-14T00:00:00.000000000",
          "2025-04-15T00:00:00.000000000",
          "2025-04-16T00:00:00.000000000",
          "2025-04-17T00:00:00.000000000",
          "2025-04-22T00:00:00.000000000",
          "2025-04-23T00:00:00.000000000",
          "2025-04-24T00:00:00.000000000",
          "2025-04-25T00:00:00.000000000",
          "2025-04-28T00:00:00.000000000",
          "2025-04-29T00:00:00.000000000",
          "2025-04-30T00:00:00.000000000",
          "2025-05-02T00:00:00.000000000",
          "2025-05-05T00:00:00.000000000",
          "2025-05-06T00:00:00.000000000",
          "2025-05-07T00:00:00.000000000",
          "2025-05-08T00:00:00.000000000",
          "2025-05-09T00:00:00.000000000",
          "2025-05-12T00:00:00.000000000",
          "2025-05-13T00:00:00.000000000",
          "2025-05-14T00:00:00.000000000",
          "2025-05-15T00:00:00.000000000",
          "2025-05-16T00:00:00.000000000",
          "2025-05-19T00:00:00.000000000",
          "2025-05-20T00:00:00.000000000",
          "2025-05-21T00:00:00.000000000",
          "2025-05-22T00:00:00.000000000",
          "2025-05-23T00:00:00.000000000",
          "2025-05-26T00:00:00.000000000",
          "2025-05-27T00:00:00.000000000",
          "2025-05-28T00:00:00.000000000",
          "2025-05-29T00:00:00.000000000",
          "2025-05-30T00:00:00.000000000",
          "2025-06-02T00:00:00.000000000",
          "2025-06-03T00:00:00.000000000",
          "2025-06-04T00:00:00.000000000",
          "2025-06-05T00:00:00.000000000",
          "2025-06-06T00:00:00.000000000",
          "2025-06-09T00:00:00.000000000",
          "2025-06-10T00:00:00.000000000",
          "2025-06-11T00:00:00.000000000",
          "2025-06-12T00:00:00.000000000",
          "2025-06-13T00:00:00.000000000",
          "2025-06-16T00:00:00.000000000",
          "2025-06-17T00:00:00.000000000",
          "2025-06-18T00:00:00.000000000",
          "2025-06-20T00:00:00.000000000",
          "2025-06-23T00:00:00.000000000",
          "2025-06-24T00:00:00.000000000",
          "2025-06-25T00:00:00.000000000",
          "2025-06-26T00:00:00.000000000",
          "2025-06-27T00:00:00.000000000",
          "2025-06-30T00:00:00.000000000",
          "2025-07-01T00:00:00.000000000",
          "2025-07-02T00:00:00.000000000",
          "2025-07-03T00:00:00.000000000",
          "2025-07-04T00:00:00.000000000",
          "2025-07-07T00:00:00.000000000",
          "2025-07-08T00:00:00.000000000",
          "2025-07-09T00:00:00.000000000",
          "2025-07-10T00:00:00.000000000",
          "2025-07-11T00:00:00.000000000",
          "2025-07-14T00:00:00.000000000",
          "2025-07-15T00:00:00.000000000",
          "2025-07-16T00:00:00.000000000",
          "2025-07-17T00:00:00.000000000",
          "2025-07-18T00:00:00.000000000",
          "2025-07-21T00:00:00.000000000",
          "2025-07-22T00:00:00.000000000",
          "2025-07-23T00:00:00.000000000",
          "2025-07-24T00:00:00.000000000",
          "2025-07-25T00:00:00.000000000",
          "2025-07-28T00:00:00.000000000",
          "2025-07-29T00:00:00.000000000",
          "2025-07-30T00:00:00.000000000",
          "2025-07-31T00:00:00.000000000",
          "2025-08-01T00:00:00.000000000",
          "2025-08-04T00:00:00.000000000",
          "2025-08-05T00:00:00.000000000",
          "2025-08-06T00:00:00.000000000",
          "2025-08-07T00:00:00.000000000",
          "2025-08-08T00:00:00.000000000",
          "2025-08-11T00:00:00.000000000",
          "2025-08-12T00:00:00.000000000",
          "2025-08-13T00:00:00.000000000",
          "2025-08-14T00:00:00.000000000",
          "2025-08-15T00:00:00.000000000",
          "2025-08-18T00:00:00.000000000",
          "2025-08-19T00:00:00.000000000",
          "2025-08-20T00:00:00.000000000",
          "2025-08-21T00:00:00.000000000",
          "2025-08-22T00:00:00.000000000",
          "2025-08-25T00:00:00.000000000",
          "2025-08-26T00:00:00.000000000",
          "2025-08-27T00:00:00.000000000",
          "2025-08-28T00:00:00.000000000",
          "2025-08-29T00:00:00.000000000",
          "2025-09-01T00:00:00.000000000",
          "2025-09-02T00:00:00.000000000",
          "2025-09-03T00:00:00.000000000",
          "2025-09-04T00:00:00.000000000",
          "2025-09-05T00:00:00.000000000",
          "2025-09-08T00:00:00.000000000",
          "2025-09-09T00:00:00.000000000",
          "2025-09-10T00:00:00.000000000",
          "2025-09-11T00:00:00.000000000",
          "2025-09-12T00:00:00.000000000",
          "2025-09-15T00:00:00.000000000",
          "2025-09-16T00:00:00.000000000",
          "2025-09-17T00:00:00.000000000",
          "2025-09-18T00:00:00.000000000",
          "2025-09-19T00:00:00.000000000",
          "2025-09-22T00:00:00.000000000",
          "2025-09-23T00:00:00.000000000",
          "2025-09-24T00:00:00.000000000",
          "2025-09-25T00:00:00.000000000",
          "2025-09-26T00:00:00.000000000",
          "2025-09-29T00:00:00.000000000",
          "2025-09-30T00:00:00.000000000",
          "2025-10-01T00:00:00.000000000",
          "2025-10-02T00:00:00.000000000",
          "2025-10-03T00:00:00.000000000",
          "2025-10-06T00:00:00.000000000",
          "2025-10-07T00:00:00.000000000",
          "2025-10-08T00:00:00.000000000",
          "2025-10-09T00:00:00.000000000",
          "2025-10-10T00:00:00.000000000",
          "2025-10-13T00:00:00.000000000",
          "2025-10-14T00:00:00.000000000",
          "2025-10-15T00:00:00.000000000",
          "2025-10-16T00:00:00.000000000",
          "2025-10-17T00:00:00.000000000"
         ],
         "y": {
          "bdata": "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",
          "dtype": "f8"
         },
         "yaxis": "y2"
        },
        {
         "name": "Volatility RSI",
         "type": "scatter",
         "x": [
          "2023-10-17T00:00:00.000000000",
          "2023-10-18T00:00:00.000000000",
          "2023-10-19T00:00:00.000000000",
          "2023-10-20T00:00:00.000000000",
          "2023-10-23T00:00:00.000000000",
          "2023-10-24T00:00:00.000000000",
          "2023-10-25T00:00:00.000000000",
          "2023-10-26T00:00:00.000000000",
          "2023-10-27T00:00:00.000000000",
          "2023-10-30T00:00:00.000000000",
          "2023-10-31T00:00:00.000000000",
          "2023-11-01T00:00:00.000000000",
          "2023-11-03T00:00:00.000000000",
          "2023-11-06T00:00:00.000000000",
          "2023-11-07T00:00:00.000000000",
          "2023-11-08T00:00:00.000000000",
          "2023-11-09T00:00:00.000000000",
          "2023-11-10T00:00:00.000000000",
          "2023-11-13T00:00:00.000000000",
          "2023-11-14T00:00:00.000000000",
          "2023-11-16T00:00:00.000000000",
          "2023-11-17T00:00:00.000000000",
          "2023-11-20T00:00:00.000000000",
          "2023-11-21T00:00:00.000000000",
          "2023-11-22T00:00:00.000000000",
          "2023-11-23T00:00:00.000000000",
          "2023-11-24T00:00:00.000000000",
          "2023-11-27T00:00:00.000000000",
          "2023-11-28T00:00:00.000000000",
          "2023-11-29T00:00:00.000000000",
          "2023-11-30T00:00:00.000000000",
          "2023-12-01T00:00:00.000000000",
          "2023-12-04T00:00:00.000000000",
          "2023-12-05T00:00:00.000000000",
          "2023-12-06T00:00:00.000000000",
          "2023-12-07T00:00:00.000000000",
          "2023-12-08T00:00:00.000000000",
          "2023-12-11T00:00:00.000000000",
          "2023-12-12T00:00:00.000000000",
          "2023-12-13T00:00:00.000000000",
          "2023-12-14T00:00:00.000000000",
          "2023-12-15T00:00:00.000000000",
          "2023-12-18T00:00:00.000000000",
          "2023-12-19T00:00:00.000000000",
          "2023-12-20T00:00:00.000000000",
          "2023-12-21T00:00:00.000000000",
          "2023-12-22T00:00:00.000000000",
          "2023-12-26T00:00:00.000000000",
          "2023-12-27T00:00:00.000000000",
          "2023-12-28T00:00:00.000000000",
          "2024-01-02T00:00:00.000000000",
          "2024-01-03T00:00:00.000000000",
          "2024-01-04T00:00:00.000000000",
          "2024-01-05T00:00:00.000000000",
          "2024-01-08T00:00:00.000000000",
          "2024-01-09T00:00:00.000000000",
          "2024-01-10T00:00:00.000000000",
          "2024-01-11T00:00:00.000000000",
          "2024-01-12T00:00:00.000000000",
          "2024-01-15T00:00:00.000000000",
          "2024-01-16T00:00:00.000000000",
          "2024-01-17T00:00:00.000000000",
          "2024-01-18T00:00:00.000000000",
          "2024-01-19T00:00:00.000000000",
          "2024-01-22T00:00:00.000000000",
          "2024-01-23T00:00:00.000000000",
          "2024-01-24T00:00:00.000000000",
          "2024-01-25T00:00:00.000000000",
          "2024-01-26T00:00:00.000000000",
          "2024-01-29T00:00:00.000000000",
          "2024-01-30T00:00:00.000000000",
          "2024-01-31T00:00:00.000000000",
          "2024-02-01T00:00:00.000000000",
          "2024-02-02T00:00:00.000000000",
          "2024-02-05T00:00:00.000000000",
          "2024-02-06T00:00:00.000000000",
          "2024-02-07T00:00:00.000000000",
          "2024-02-08T00:00:00.000000000",
          "2024-02-09T00:00:00.000000000",
          "2024-02-14T00:00:00.000000000",
          "2024-02-15T00:00:00.000000000",
          "2024-02-16T00:00:00.000000000",
          "2024-02-19T00:00:00.000000000",
          "2024-02-20T00:00:00.000000000",
          "2024-02-21T00:00:00.000000000",
          "2024-02-22T00:00:00.000000000",
          "2024-02-23T00:00:00.000000000",
          "2024-02-26T00:00:00.000000000",
          "2024-02-27T00:00:00.000000000",
          "2024-02-28T00:00:00.000000000",
          "2024-02-29T00:00:00.000000000",
          "2024-03-01T00:00:00.000000000",
          "2024-03-04T00:00:00.000000000",
          "2024-03-05T00:00:00.000000000",
          "2024-03-06T00:00:00.000000000",
          "2024-03-07T00:00:00.000000000",
          "2024-03-08T00:00:00.000000000",
          "2024-03-11T00:00:00.000000000",
          "2024-03-12T00:00:00.000000000",
          "2024-03-13T00:00:00.000000000",
          "2024-03-14T00:00:00.000000000",
          "2024-03-15T00:00:00.000000000",
          "2024-03-18T00:00:00.000000000",
          "2024-03-19T00:00:00.000000000",
          "2024-03-20T00:00:00.000000000",
          "2024-03-21T00:00:00.000000000",
          "2024-03-22T00:00:00.000000000",
          "2024-03-25T00:00:00.000000000",
          "2024-03-26T00:00:00.000000000",
          "2024-03-27T00:00:00.000000000",
          "2024-03-28T00:00:00.000000000",
          "2024-04-01T00:00:00.000000000",
          "2024-04-02T00:00:00.000000000",
          "2024-04-03T00:00:00.000000000",
          "2024-04-04T00:00:00.000000000",
          "2024-04-05T00:00:00.000000000",
          "2024-04-08T00:00:00.000000000",
          "2024-04-09T00:00:00.000000000",
          "2024-04-10T00:00:00.000000000",
          "2024-04-11T00:00:00.000000000",
          "2024-04-12T00:00:00.000000000",
          "2024-04-15T00:00:00.000000000",
          "2024-04-16T00:00:00.000000000",
          "2024-04-17T00:00:00.000000000",
          "2024-04-18T00:00:00.000000000",
          "2024-04-19T00:00:00.000000000",
          "2024-04-22T00:00:00.000000000",
          "2024-04-23T00:00:00.000000000",
          "2024-04-24T00:00:00.000000000",
          "2024-04-25T00:00:00.000000000",
          "2024-04-26T00:00:00.000000000",
          "2024-04-29T00:00:00.000000000",
          "2024-04-30T00:00:00.000000000",
          "2024-05-02T00:00:00.000000000",
          "2024-05-03T00:00:00.000000000",
          "2024-05-06T00:00:00.000000000",
          "2024-05-07T00:00:00.000000000",
          "2024-05-08T00:00:00.000000000",
          "2024-05-09T00:00:00.000000000",
          "2024-05-10T00:00:00.000000000",
          "2024-05-13T00:00:00.000000000",
          "2024-05-14T00:00:00.000000000",
          "2024-05-15T00:00:00.000000000",
          "2024-05-16T00:00:00.000000000",
          "2024-05-17T00:00:00.000000000",
          "2024-05-20T00:00:00.000000000",
          "2024-05-21T00:00:00.000000000",
          "2024-05-22T00:00:00.000000000",
          "2024-05-23T00:00:00.000000000",
          "2024-05-24T00:00:00.000000000",
          "2024-05-27T00:00:00.000000000",
          "2024-05-28T00:00:00.000000000",
          "2024-05-29T00:00:00.000000000",
          "2024-05-31T00:00:00.000000000",
          "2024-06-03T00:00:00.000000000",
          "2024-06-04T00:00:00.000000000",
          "2024-06-05T00:00:00.000000000",
          "2024-06-06T00:00:00.000000000",
          "2024-06-07T00:00:00.000000000",
          "2024-06-10T00:00:00.000000000",
          "2024-06-11T00:00:00.000000000",
          "2024-06-12T00:00:00.000000000",
          "2024-06-13T00:00:00.000000000",
          "2024-06-14T00:00:00.000000000",
          "2024-06-17T00:00:00.000000000",
          "2024-06-18T00:00:00.000000000",
          "2024-06-19T00:00:00.000000000",
          "2024-06-20T00:00:00.000000000",
          "2024-06-21T00:00:00.000000000",
          "2024-06-24T00:00:00.000000000",
          "2024-06-25T00:00:00.000000000",
          "2024-06-26T00:00:00.000000000",
          "2024-06-27T00:00:00.000000000",
          "2024-06-28T00:00:00.000000000",
          "2024-07-01T00:00:00.000000000",
          "2024-07-02T00:00:00.000000000",
          "2024-07-03T00:00:00.000000000",
          "2024-07-04T00:00:00.000000000",
          "2024-07-05T00:00:00.000000000",
          "2024-07-08T00:00:00.000000000",
          "2024-07-09T00:00:00.000000000",
          "2024-07-10T00:00:00.000000000",
          "2024-07-11T00:00:00.000000000",
          "2024-07-12T00:00:00.000000000",
          "2024-07-15T00:00:00.000000000",
          "2024-07-16T00:00:00.000000000",
          "2024-07-17T00:00:00.000000000",
          "2024-07-18T00:00:00.000000000",
          "2024-07-19T00:00:00.000000000",
          "2024-07-22T00:00:00.000000000",
          "2024-07-23T00:00:00.000000000",
          "2024-07-24T00:00:00.000000000",
          "2024-07-25T00:00:00.000000000",
          "2024-07-26T00:00:00.000000000",
          "2024-07-29T00:00:00.000000000",
          "2024-07-30T00:00:00.000000000",
          "2024-07-31T00:00:00.000000000",
          "2024-08-01T00:00:00.000000000",
          "2024-08-02T00:00:00.000000000",
          "2024-08-05T00:00:00.000000000",
          "2024-08-06T00:00:00.000000000",
          "2024-08-07T00:00:00.000000000",
          "2024-08-08T00:00:00.000000000",
          "2024-08-09T00:00:00.000000000",
          "2024-08-12T00:00:00.000000000",
          "2024-08-13T00:00:00.000000000",
          "2024-08-14T00:00:00.000000000",
          "2024-08-15T00:00:00.000000000",
          "2024-08-16T00:00:00.000000000",
          "2024-08-19T00:00:00.000000000",
          "2024-08-20T00:00:00.000000000",
          "2024-08-21T00:00:00.000000000",
          "2024-08-22T00:00:00.000000000",
          "2024-08-23T00:00:00.000000000",
          "2024-08-26T00:00:00.000000000",
          "2024-08-27T00:00:00.000000000",
          "2024-08-28T00:00:00.000000000",
          "2024-08-29T00:00:00.000000000",
          "2024-08-30T00:00:00.000000000",
          "2024-09-02T00:00:00.000000000",
          "2024-09-03T00:00:00.000000000",
          "2024-09-04T00:00:00.000000000",
          "2024-09-05T00:00:00.000000000",
          "2024-09-06T00:00:00.000000000",
          "2024-09-09T00:00:00.000000000",
          "2024-09-10T00:00:00.000000000",
          "2024-09-11T00:00:00.000000000",
          "2024-09-12T00:00:00.000000000",
          "2024-09-13T00:00:00.000000000",
          "2024-09-16T00:00:00.000000000",
          "2024-09-17T00:00:00.000000000",
          "2024-09-18T00:00:00.000000000",
          "2024-09-19T00:00:00.000000000",
          "2024-09-20T00:00:00.000000000",
          "2024-09-23T00:00:00.000000000",
          "2024-09-24T00:00:00.000000000",
          "2024-09-25T00:00:00.000000000",
          "2024-09-26T00:00:00.000000000",
          "2024-09-27T00:00:00.000000000",
          "2024-09-30T00:00:00.000000000",
          "2024-10-01T00:00:00.000000000",
          "2024-10-02T00:00:00.000000000",
          "2024-10-03T00:00:00.000000000",
          "2024-10-04T00:00:00.000000000",
          "2024-10-07T00:00:00.000000000",
          "2024-10-08T00:00:00.000000000",
          "2024-10-09T00:00:00.000000000",
          "2024-10-10T00:00:00.000000000",
          "2024-10-11T00:00:00.000000000",
          "2024-10-14T00:00:00.000000000",
          "2024-10-15T00:00:00.000000000",
          "2024-10-16T00:00:00.000000000",
          "2024-10-17T00:00:00.000000000",
          "2024-10-18T00:00:00.000000000",
          "2024-10-21T00:00:00.000000000",
          "2024-10-22T00:00:00.000000000",
          "2024-10-23T00:00:00.000000000",
          "2024-10-24T00:00:00.000000000",
          "2024-10-25T00:00:00.000000000",
          "2024-10-28T00:00:00.000000000",
          "2024-10-29T00:00:00.000000000",
          "2024-10-30T00:00:00.000000000",
          "2024-10-31T00:00:00.000000000",
          "2024-11-01T00:00:00.000000000",
          "2024-11-04T00:00:00.000000000",
          "2024-11-05T00:00:00.000000000",
          "2024-11-06T00:00:00.000000000",
          "2024-11-07T00:00:00.000000000",
          "2024-11-08T00:00:00.000000000",
          "2024-11-11T00:00:00.000000000",
          "2024-11-12T00:00:00.000000000",
          "2024-11-13T00:00:00.000000000",
          "2024-11-14T00:00:00.000000000",
          "2024-11-18T00:00:00.000000000",
          "2024-11-19T00:00:00.000000000",
          "2024-11-21T00:00:00.000000000",
          "2024-11-22T00:00:00.000000000",
          "2024-11-25T00:00:00.000000000",
          "2024-11-26T00:00:00.000000000",
          "2024-11-27T00:00:00.000000000",
          "2024-11-28T00:00:00.000000000",
          "2024-11-29T00:00:00.000000000",
          "2024-12-02T00:00:00.000000000",
          "2024-12-03T00:00:00.000000000",
          "2024-12-04T00:00:00.000000000",
          "2024-12-05T00:00:00.000000000",
          "2024-12-06T00:00:00.000000000",
          "2024-12-09T00:00:00.000000000",
          "2024-12-10T00:00:00.000000000",
          "2024-12-11T00:00:00.000000000",
          "2024-12-12T00:00:00.000000000",
          "2024-12-13T00:00:00.000000000",
          "2024-12-16T00:00:00.000000000",
          "2024-12-17T00:00:00.000000000",
          "2024-12-18T00:00:00.000000000",
          "2024-12-19T00:00:00.000000000",
          "2024-12-20T00:00:00.000000000",
          "2024-12-23T00:00:00.000000000",
          "2024-12-26T00:00:00.000000000",
          "2024-12-27T00:00:00.000000000",
          "2024-12-30T00:00:00.000000000",
          "2025-01-02T00:00:00.000000000",
          "2025-01-03T00:00:00.000000000",
          "2025-01-06T00:00:00.000000000",
          "2025-01-07T00:00:00.000000000",
          "2025-01-08T00:00:00.000000000",
          "2025-01-09T00:00:00.000000000",
          "2025-01-10T00:00:00.000000000",
          "2025-01-13T00:00:00.000000000",
          "2025-01-14T00:00:00.000000000",
          "2025-01-15T00:00:00.000000000",
          "2025-01-16T00:00:00.000000000",
          "2025-01-17T00:00:00.000000000",
          "2025-01-20T00:00:00.000000000",
          "2025-01-21T00:00:00.000000000",
          "2025-01-22T00:00:00.000000000",
          "2025-01-23T00:00:00.000000000",
          "2025-01-24T00:00:00.000000000",
          "2025-01-27T00:00:00.000000000",
          "2025-01-28T00:00:00.000000000",
          "2025-01-29T00:00:00.000000000",
          "2025-01-30T00:00:00.000000000",
          "2025-01-31T00:00:00.000000000",
          "2025-02-03T00:00:00.000000000",
          "2025-02-04T00:00:00.000000000",
          "2025-02-05T00:00:00.000000000",
          "2025-02-06T00:00:00.000000000",
          "2025-02-07T00:00:00.000000000",
          "2025-02-10T00:00:00.000000000",
          "2025-02-11T00:00:00.000000000",
          "2025-02-12T00:00:00.000000000",
          "2025-02-13T00:00:00.000000000",
          "2025-02-14T00:00:00.000000000",
          "2025-02-17T00:00:00.000000000",
          "2025-02-18T00:00:00.000000000",
          "2025-02-19T00:00:00.000000000",
          "2025-02-20T00:00:00.000000000",
          "2025-02-21T00:00:00.000000000",
          "2025-02-24T00:00:00.000000000",
          "2025-02-25T00:00:00.000000000",
          "2025-02-26T00:00:00.000000000",
          "2025-02-27T00:00:00.000000000",
          "2025-02-28T00:00:00.000000000",
          "2025-03-05T00:00:00.000000000",
          "2025-03-06T00:00:00.000000000",
          "2025-03-07T00:00:00.000000000",
          "2025-03-10T00:00:00.000000000",
          "2025-03-11T00:00:00.000000000",
          "2025-03-12T00:00:00.000000000",
          "2025-03-13T00:00:00.000000000",
          "2025-03-14T00:00:00.000000000",
          "2025-03-17T00:00:00.000000000",
          "2025-03-18T00:00:00.000000000",
          "2025-03-19T00:00:00.000000000",
          "2025-03-20T00:00:00.000000000",
          "2025-03-21T00:00:00.000000000",
          "2025-03-24T00:00:00.000000000",
          "2025-03-25T00:00:00.000000000",
          "2025-03-26T00:00:00.000000000",
          "2025-03-27T00:00:00.000000000",
          "2025-03-28T00:00:00.000000000",
          "2025-03-31T00:00:00.000000000",
          "2025-04-01T00:00:00.000000000",
          "2025-04-02T00:00:00.000000000",
          "2025-04-03T00:00:00.000000000",
          "2025-04-04T00:00:00.000000000",
          "2025-04-07T00:00:00.000000000",
          "2025-04-08T00:00:00.000000000",
          "2025-04-09T00:00:00.000000000",
          "2025-04-10T00:00:00.000000000",
          "2025-04-11T00:00:00.000000000",
          "2025-04-14T00:00:00.000000000",
          "2025-04-15T00:00:00.000000000",
          "2025-04-16T00:00:00.000000000",
          "2025-04-17T00:00:00.000000000",
          "2025-04-22T00:00:00.000000000",
          "2025-04-23T00:00:00.000000000",
          "2025-04-24T00:00:00.000000000",
          "2025-04-25T00:00:00.000000000",
          "2025-04-28T00:00:00.000000000",
          "2025-04-29T00:00:00.000000000",
          "2025-04-30T00:00:00.000000000",
          "2025-05-02T00:00:00.000000000",
          "2025-05-05T00:00:00.000000000",
          "2025-05-06T00:00:00.000000000",
          "2025-05-07T00:00:00.000000000",
          "2025-05-08T00:00:00.000000000",
          "2025-05-09T00:00:00.000000000",
          "2025-05-12T00:00:00.000000000",
          "2025-05-13T00:00:00.000000000",
          "2025-05-14T00:00:00.000000000",
          "2025-05-15T00:00:00.000000000",
          "2025-05-16T00:00:00.000000000",
          "2025-05-19T00:00:00.000000000",
          "2025-05-20T00:00:00.000000000",
          "2025-05-21T00:00:00.000000000",
          "2025-05-22T00:00:00.000000000",
          "2025-05-23T00:00:00.000000000",
          "2025-05-26T00:00:00.000000000",
          "2025-05-27T00:00:00.000000000",
          "2025-05-28T00:00:00.000000000",
          "2025-05-29T00:00:00.000000000",
          "2025-05-30T00:00:00.000000000",
          "2025-06-02T00:00:00.000000000",
          "2025-06-03T00:00:00.000000000",
          "2025-06-04T00:00:00.000000000",
          "2025-06-05T00:00:00.000000000",
          "2025-06-06T00:00:00.000000000",
          "2025-06-09T00:00:00.000000000",
          "2025-06-10T00:00:00.000000000",
          "2025-06-11T00:00:00.000000000",
          "2025-06-12T00:00:00.000000000",
          "2025-06-13T00:00:00.000000000",
          "2025-06-16T00:00:00.000000000",
          "2025-06-17T00:00:00.000000000",
          "2025-06-18T00:00:00.000000000",
          "2025-06-20T00:00:00.000000000",
          "2025-06-23T00:00:00.000000000",
          "2025-06-24T00:00:00.000000000",
          "2025-06-25T00:00:00.000000000",
          "2025-06-26T00:00:00.000000000",
          "2025-06-27T00:00:00.000000000",
          "2025-06-30T00:00:00.000000000",
          "2025-07-01T00:00:00.000000000",
          "2025-07-02T00:00:00.000000000",
          "2025-07-03T00:00:00.000000000",
          "2025-07-04T00:00:00.000000000",
          "2025-07-07T00:00:00.000000000",
          "2025-07-08T00:00:00.000000000",
          "2025-07-09T00:00:00.000000000",
          "2025-07-10T00:00:00.000000000",
          "2025-07-11T00:00:00.000000000",
          "2025-07-14T00:00:00.000000000",
          "2025-07-15T00:00:00.000000000",
          "2025-07-16T00:00:00.000000000",
          "2025-07-17T00:00:00.000000000",
          "2025-07-18T00:00:00.000000000",
          "2025-07-21T00:00:00.000000000",
          "2025-07-22T00:00:00.000000000",
          "2025-07-23T00:00:00.000000000",
          "2025-07-24T00:00:00.000000000",
          "2025-07-25T00:00:00.000000000",
          "2025-07-28T00:00:00.000000000",
          "2025-07-29T00:00:00.000000000",
          "2025-07-30T00:00:00.000000000",
          "2025-07-31T00:00:00.000000000",
          "2025-08-01T00:00:00.000000000",
          "2025-08-04T00:00:00.000000000",
          "2025-08-05T00:00:00.000000000",
          "2025-08-06T00:00:00.000000000",
          "2025-08-07T00:00:00.000000000",
          "2025-08-08T00:00:00.000000000",
          "2025-08-11T00:00:00.000000000",
          "2025-08-12T00:00:00.000000000",
          "2025-08-13T00:00:00.000000000",
          "2025-08-14T00:00:00.000000000",
          "2025-08-15T00:00:00.000000000",
          "2025-08-18T00:00:00.000000000",
          "2025-08-19T00:00:00.000000000",
          "2025-08-20T00:00:00.000000000",
          "2025-08-21T00:00:00.000000000",
          "2025-08-22T00:00:00.000000000",
          "2025-08-25T00:00:00.000000000",
          "2025-08-26T00:00:00.000000000",
          "2025-08-27T00:00:00.000000000",
          "2025-08-28T00:00:00.000000000",
          "2025-08-29T00:00:00.000000000",
          "2025-09-01T00:00:00.000000000",
          "2025-09-02T00:00:00.000000000",
          "2025-09-03T00:00:00.000000000",
          "2025-09-04T00:00:00.000000000",
          "2025-09-05T00:00:00.000000000",
          "2025-09-08T00:00:00.000000000",
          "2025-09-09T00:00:00.000000000",
          "2025-09-10T00:00:00.000000000",
          "2025-09-11T00:00:00.000000000",
          "2025-09-12T00:00:00.000000000",
          "2025-09-15T00:00:00.000000000",
          "2025-09-16T00:00:00.000000000",
          "2025-09-17T00:00:00.000000000",
          "2025-09-18T00:00:00.000000000",
          "2025-09-19T00:00:00.000000000",
          "2025-09-22T00:00:00.000000000",
          "2025-09-23T00:00:00.000000000",
          "2025-09-24T00:00:00.000000000",
          "2025-09-25T00:00:00.000000000",
          "2025-09-26T00:00:00.000000000",
          "2025-09-29T00:00:00.000000000",
          "2025-09-30T00:00:00.000000000",
          "2025-10-01T00:00:00.000000000",
          "2025-10-02T00:00:00.000000000",
          "2025-10-03T00:00:00.000000000",
          "2025-10-06T00:00:00.000000000",
          "2025-10-07T00:00:00.000000000",
          "2025-10-08T00:00:00.000000000",
          "2025-10-09T00:00:00.000000000",
          "2025-10-10T00:00:00.000000000",
          "2025-10-13T00:00:00.000000000",
          "2025-10-14T00:00:00.000000000",
          "2025-10-15T00:00:00.000000000",
          "2025-10-16T00:00:00.000000000",
          "2025-10-17T00:00:00.000000000"
         ],
         "y": {
          "bdata": "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",
          "dtype": "f8"
         },
         "yaxis": "y3"
        }
       ],
       "layout": {
        "legend": {
         "x": 0.01,
         "y": 0.99
        },
        "template": {
         "data": {
          "bar": [
           {
            "error_x": {
             "color": "#2a3f5f"
            },
            "error_y": {
             "color": "#2a3f5f"
            },
            "marker": {
             "line": {
              "color": "#E5ECF6",
              "width": 0.5
             },
             "pattern": {
              "fillmode": "overlay",
              "size": 10,
              "solidity": 0.2
             }
            },
            "type": "bar"
           }
          ],
          "barpolar": [
           {
            "marker": {
             "line": {
              "color": "#E5ECF6",
              "width": 0.5
             },
             "pattern": {
              "fillmode": "overlay",
              "size": 10,
              "solidity": 0.2
             }
            },
            "type": "barpolar"
           }
          ],
          "carpet": [
           {
            "aaxis": {
             "endlinecolor": "#2a3f5f",
             "gridcolor": "white",
             "linecolor": "white",
             "minorgridcolor": "white",
             "startlinecolor": "#2a3f5f"
            },
            "baxis": {
             "endlinecolor": "#2a3f5f",
             "gridcolor": "white",
             "linecolor": "white",
             "minorgridcolor": "white",
             "startlinecolor": "#2a3f5f"
            },
            "type": "carpet"
           }
          ],
          "choropleth": [
           {
            "colorbar": {
             "outlinewidth": 0,
             "ticks": ""
            },
            "type": "choropleth"
           }
          ],
          "contour": [
           {
            "colorbar": {
             "outlinewidth": 0,
             "ticks": ""
            },
            "colorscale": [
             [
              0,
              "#0d0887"
             ],
             [
              0.1111111111111111,
              "#46039f"
             ],
             [
              0.2222222222222222,
              "#7201a8"
             ],
             [
              0.3333333333333333,
              "#9c179e"
             ],
             [
              0.4444444444444444,
              "#bd3786"
             ],
             [
              0.5555555555555556,
              "#d8576b"
             ],
             [
              0.6666666666666666,
              "#ed7953"
             ],
             [
              0.7777777777777778,
              "#fb9f3a"
             ],
             [
              0.8888888888888888,
              "#fdca26"
             ],
             [
              1,
              "#f0f921"
             ]
            ],
            "type": "contour"
           }
          ],
          "contourcarpet": [
           {
            "colorbar": {
             "outlinewidth": 0,
             "ticks": ""
            },
            "type": "contourcarpet"
           }
          ],
          "heatmap": [
           {
            "colorbar": {
             "outlinewidth": 0,
             "ticks": ""
            },
            "colorscale": [
             [
              0,
              "#0d0887"
             ],
             [
              0.1111111111111111,
              "#46039f"
             ],
             [
              0.2222222222222222,
              "#7201a8"
             ],
             [
              0.3333333333333333,
              "#9c179e"
             ],
             [
              0.4444444444444444,
              "#bd3786"
             ],
             [
              0.5555555555555556,
              "#d8576b"
             ],
             [
              0.6666666666666666,
              "#ed7953"
             ],
             [
              0.7777777777777778,
              "#fb9f3a"
             ],
             [
              0.8888888888888888,
              "#fdca26"
             ],
             [
              1,
              "#f0f921"
             ]
            ],
            "type": "heatmap"
           }
          ],
          "histogram": [
           {
            "marker": {
             "pattern": {
              "fillmode": "overlay",
              "size": 10,
              "solidity": 0.2
             }
            },
            "type": "histogram"
           }
          ],
          "histogram2d": [
           {
            "colorbar": {
             "outlinewidth": 0,
             "ticks": ""
            },
            "colorscale": [
             [
              0,
              "#0d0887"
             ],
             [
              0.1111111111111111,
              "#46039f"
             ],
             [
              0.2222222222222222,
              "#7201a8"
             ],
             [
              0.3333333333333333,
              "#9c179e"
             ],
             [
              0.4444444444444444,
              "#bd3786"
             ],
             [
              0.5555555555555556,
              "#d8576b"
             ],
             [
              0.6666666666666666,
              "#ed7953"
             ],
             [
              0.7777777777777778,
              "#fb9f3a"
             ],
             [
              0.8888888888888888,
              "#fdca26"
             ],
             [
              1,
              "#f0f921"
             ]
            ],
            "type": "histogram2d"
           }
          ],
          "histogram2dcontour": [
           {
            "colorbar": {
             "outlinewidth": 0,
             "ticks": ""
            },
            "colorscale": [
             [
              0,
              "#0d0887"
             ],
             [
              0.1111111111111111,
              "#46039f"
             ],
             [
              0.2222222222222222,
              "#7201a8"
             ],
             [
              0.3333333333333333,
              "#9c179e"
             ],
             [
              0.4444444444444444,
              "#bd3786"
             ],
             [
              0.5555555555555556,
              "#d8576b"
             ],
             [
              0.6666666666666666,
              "#ed7953"
             ],
             [
              0.7777777777777778,
              "#fb9f3a"
             ],
             [
              0.8888888888888888,
              "#fdca26"
             ],
             [
              1,
              "#f0f921"
             ]
            ],
            "type": "histogram2dcontour"
           }
          ],
          "mesh3d": [
           {
            "colorbar": {
             "outlinewidth": 0,
             "ticks": ""
            },
            "type": "mesh3d"
           }
          ],
          "parcoords": [
           {
            "line": {
             "colorbar": {
              "outlinewidth": 0,
              "ticks": ""
             }
            },
            "type": "parcoords"
           }
          ],
          "pie": [
           {
            "automargin": true,
            "type": "pie"
           }
          ],
          "scatter": [
           {
            "fillpattern": {
             "fillmode": "overlay",
             "size": 10,
             "solidity": 0.2
            },
            "type": "scatter"
           }
          ],
          "scatter3d": [
           {
            "line": {
             "colorbar": {
              "outlinewidth": 0,
              "ticks": ""
             }
            },
            "marker": {
             "colorbar": {
              "outlinewidth": 0,
              "ticks": ""
             }
            },
            "type": "scatter3d"
           }
          ],
          "scattercarpet": [
           {
            "marker": {
             "colorbar": {
              "outlinewidth": 0,
              "ticks": ""
             }
            },
            "type": "scattercarpet"
           }
          ],
          "scattergeo": [
           {
            "marker": {
             "colorbar": {
              "outlinewidth": 0,
              "ticks": ""
             }
            },
            "type": "scattergeo"
           }
          ],
          "scattergl": [
           {
            "marker": {
             "colorbar": {
              "outlinewidth": 0,
              "ticks": ""
             }
            },
            "type": "scattergl"
           }
          ],
          "scattermap": [
           {
            "marker": {
             "colorbar": {
              "outlinewidth": 0,
              "ticks": ""
             }
            },
            "type": "scattermap"
           }
          ],
          "scattermapbox": [
           {
            "marker": {
             "colorbar": {
              "outlinewidth": 0,
              "ticks": ""
             }
            },
            "type": "scattermapbox"
           }
          ],
          "scatterpolar": [
           {
            "marker": {
             "colorbar": {
              "outlinewidth": 0,
              "ticks": ""
             }
            },
            "type": "scatterpolar"
           }
          ],
          "scatterpolargl": [
           {
            "marker": {
             "colorbar": {
              "outlinewidth": 0,
              "ticks": ""
             }
            },
            "type": "scatterpolargl"
           }
          ],
          "scatterternary": [
           {
            "marker": {
             "colorbar": {
              "outlinewidth": 0,
              "ticks": ""
             }
            },
            "type": "scatterternary"
           }
          ],
          "surface": [
           {
            "colorbar": {
             "outlinewidth": 0,
             "ticks": ""
            },
            "colorscale": [
             [
              0,
              "#0d0887"
             ],
             [
              0.1111111111111111,
              "#46039f"
             ],
             [
              0.2222222222222222,
              "#7201a8"
             ],
             [
              0.3333333333333333,
              "#9c179e"
             ],
             [
              0.4444444444444444,
              "#bd3786"
             ],
             [
              0.5555555555555556,
              "#d8576b"
             ],
             [
              0.6666666666666666,
              "#ed7953"
             ],
             [
              0.7777777777777778,
              "#fb9f3a"
             ],
             [
              0.8888888888888888,
              "#fdca26"
             ],
             [
              1,
              "#f0f921"
             ]
            ],
            "type": "surface"
           }
          ],
          "table": [
           {
            "cells": {
             "fill": {
              "color": "#EBF0F8"
             },
             "line": {
              "color": "white"
             }
            },
            "header": {
             "fill": {
              "color": "#C8D4E3"
             },
             "line": {
              "color": "white"
             }
            },
            "type": "table"
           }
          ]
         },
         "layout": {
          "annotationdefaults": {
           "arrowcolor": "#2a3f5f",
           "arrowhead": 0,
           "arrowwidth": 1
          },
          "autotypenumbers": "strict",
          "coloraxis": {
           "colorbar": {
            "outlinewidth": 0,
            "ticks": ""
           }
          },
          "colorscale": {
           "diverging": [
            [
             0,
             "#8e0152"
            ],
            [
             0.1,
             "#c51b7d"
            ],
            [
             0.2,
             "#de77ae"
            ],
            [
             0.3,
             "#f1b6da"
            ],
            [
             0.4,
             "#fde0ef"
            ],
            [
             0.5,
             "#f7f7f7"
            ],
            [
             0.6,
             "#e6f5d0"
            ],
            [
             0.7,
             "#b8e186"
            ],
            [
             0.8,
             "#7fbc41"
            ],
            [
             0.9,
             "#4d9221"
            ],
            [
             1,
             "#276419"
            ]
           ],
           "sequential": [
            [
             0,
             "#0d0887"
            ],
            [
             0.1111111111111111,
             "#46039f"
            ],
            [
             0.2222222222222222,
             "#7201a8"
            ],
            [
             0.3333333333333333,
             "#9c179e"
            ],
            [
             0.4444444444444444,
             "#bd3786"
            ],
            [
             0.5555555555555556,
             "#d8576b"
            ],
            [
             0.6666666666666666,
             "#ed7953"
            ],
            [
             0.7777777777777778,
             "#fb9f3a"
            ],
            [
             0.8888888888888888,
             "#fdca26"
            ],
            [
             1,
             "#f0f921"
            ]
           ],
           "sequentialminus": [
            [
             0,
             "#0d0887"
            ],
            [
             0.1111111111111111,
             "#46039f"
            ],
            [
             0.2222222222222222,
             "#7201a8"
            ],
            [
             0.3333333333333333,
             "#9c179e"
            ],
            [
             0.4444444444444444,
             "#bd3786"
            ],
            [
             0.5555555555555556,
             "#d8576b"
            ],
            [
             0.6666666666666666,
             "#ed7953"
            ],
            [
             0.7777777777777778,
             "#fb9f3a"
            ],
            [
             0.8888888888888888,
             "#fdca26"
            ],
            [
             1,
             "#f0f921"
            ]
           ]
          },
          "colorway": [
           "#636efa",
           "#EF553B",
           "#00cc96",
           "#ab63fa",
           "#FFA15A",
           "#19d3f3",
           "#FF6692",
           "#B6E880",
           "#FF97FF",
           "#FECB52"
          ],
          "font": {
           "color": "#2a3f5f"
          },
          "geo": {
           "bgcolor": "white",
           "lakecolor": "white",
           "landcolor": "#E5ECF6",
           "showlakes": true,
           "showland": true,
           "subunitcolor": "white"
          },
          "hoverlabel": {
           "align": "left"
          },
          "hovermode": "closest",
          "mapbox": {
           "style": "light"
          },
          "paper_bgcolor": "white",
          "plot_bgcolor": "#E5ECF6",
          "polar": {
           "angularaxis": {
            "gridcolor": "white",
            "linecolor": "white",
            "ticks": ""
           },
           "bgcolor": "#E5ECF6",
           "radialaxis": {
            "gridcolor": "white",
            "linecolor": "white",
            "ticks": ""
           }
          },
          "scene": {
           "xaxis": {
            "backgroundcolor": "#E5ECF6",
            "gridcolor": "white",
            "gridwidth": 2,
            "linecolor": "white",
            "showbackground": true,
            "ticks": "",
            "zerolinecolor": "white"
           },
           "yaxis": {
            "backgroundcolor": "#E5ECF6",
            "gridcolor": "white",
            "gridwidth": 2,
            "linecolor": "white",
            "showbackground": true,
            "ticks": "",
            "zerolinecolor": "white"
           },
           "zaxis": {
            "backgroundcolor": "#E5ECF6",
            "gridcolor": "white",
            "gridwidth": 2,
            "linecolor": "white",
            "showbackground": true,
            "ticks": "",
            "zerolinecolor": "white"
           }
          },
          "shapedefaults": {
           "line": {
            "color": "#2a3f5f"
           }
          },
          "ternary": {
           "aaxis": {
            "gridcolor": "white",
            "linecolor": "white",
            "ticks": ""
           },
           "baxis": {
            "gridcolor": "white",
            "linecolor": "white",
            "ticks": ""
           },
           "bgcolor": "#E5ECF6",
           "caxis": {
            "gridcolor": "white",
            "linecolor": "white",
            "ticks": ""
           }
          },
          "title": {
           "x": 0.05
          },
          "xaxis": {
           "automargin": true,
           "gridcolor": "white",
           "linecolor": "white",
           "ticks": "",
           "title": {
            "standoff": 15
           },
           "zerolinecolor": "white",
           "zerolinewidth": 2
          },
          "yaxis": {
           "automargin": true,
           "gridcolor": "white",
           "linecolor": "white",
           "ticks": "",
           "title": {
            "standoff": 15
           },
           "zerolinecolor": "white",
           "zerolinewidth": 2
          }
         }
        },
        "title": {
         "text": "Preço PETR4.SA e Volatility Entropy"
        },
        "xaxis": {
         "title": {
          "text": "Data"
         }
        },
        "yaxis": {
         "title": {
          "text": "Preço PETR4.SA"
         }
        },
        "yaxis2": {
         "overlaying": "y",
         "side": "right",
         "title": {
          "text": "Volatility Entropy"
         }
        },
        "yaxis3": {
         "anchor": "free",
         "overlaying": "y",
         "position": 1,
         "showgrid": false,
         "side": "right",
         "title": {
          "text": "Volatility RSI"
         }
        }
       }
      }
     },
     "metadata": {},
     "output_type": "display_data"
    }
   ],
   "source": [
    "import plotly.graph_objects as go\n",
    "\n",
    "fig = go.Figure()\n",
    "\n",
    "fig.add_trace(go.Scatter(\n",
    "    y=data[\"Close\"][\"PETR4.SA\"],\n",
    "    x=data.index,\n",
    "    name=\"Preço PETR4.SA\",\n",
    "    yaxis=\"y1\"\n",
    "))\n",
    "\n",
    "fig.add_trace(go.Scatter(\n",
    "    x=data.index,\n",
    "    y=vol_ent,\n",
    "    name=\"Volatility Entropy\",\n",
    "    yaxis=\"y2\"\n",
    "))\n",
    "\n",
    "fig.add_trace(go.Scatter(\n",
    "    x=data.index,\n",
    "    y=vol_rsi,\n",
    "    name=\"Volatility RSI\",\n",
    "    yaxis=\"y3\"\n",
    "))\n",
    "\n",
    "\n",
    "fig.update_layout(\n",
    "    yaxis3=dict(\n",
    "        title=\"Volatility RSI\",\n",
    "        anchor=\"free\",\n",
    "        overlaying=\"y\",\n",
    "        side=\"right\",\n",
    "        position=1.0,\n",
    "        showgrid=False\n",
    "    )\n",
    ")\n",
    "\n",
    "fig.update_layout(\n",
    "    title=\"Preço PETR4.SA e Volatility Entropy\",\n",
    "    xaxis_title=\"Data\",\n",
    "    yaxis=dict(title=\"Preço PETR4.SA\"),\n",
    "    yaxis2=dict(title=\"Volatility Entropy\", overlaying=\"y\", side=\"right\"),\n",
    "    legend=dict(x=0.01, y=0.99)\n",
    ")\n",
    "\n",
    "fig.show(fig_type=\"png\")"
   ]
  },
  {
   "cell_type": "markdown",
   "id": "b2616779",
   "metadata": {},
   "source": [
    "# Bollinger's Band"
   ]
  },
  {
   "cell_type": "code",
   "execution_count": 11,
   "id": "8294c290",
   "metadata": {},
   "outputs": [
    {
     "data": {
      "text/plain": [
       "np.int64(56)"
      ]
     },
     "execution_count": 11,
     "metadata": {},
     "output_type": "execute_result"
    }
   ],
   "source": [
    "np.sum(bollinger_bands(data[\"Close\"][\"PETR4.SA\"]))"
   ]
  },
  {
   "cell_type": "code",
   "execution_count": 12,
   "id": "9273e72e",
   "metadata": {},
   "outputs": [
    {
     "data": {
      "text/plain": [
       "np.int64(175)"
      ]
     },
     "execution_count": 12,
     "metadata": {},
     "output_type": "execute_result"
    }
   ],
   "source": [
    "np.sum(bollinger_bands(data[\"Close\"][\"PETR4.SA\"], center=np.median, spread=mad))"
   ]
  },
  {
   "cell_type": "markdown",
   "id": "418522a7",
   "metadata": {},
   "source": [
    "# Hampel Filter"
   ]
  },
  {
   "cell_type": "code",
   "execution_count": 13,
   "id": "c83ba089",
   "metadata": {},
   "outputs": [],
   "source": [
    "hf = hampel_filter(data[\"Close\"][\"PETR4.SA\"], rolling_window=7)"
   ]
  },
  {
   "cell_type": "code",
   "execution_count": 14,
   "id": "80bd8c86",
   "metadata": {},
   "outputs": [
    {
     "data": {
      "text/plain": [
       "Date\n",
       "2024-05-22    30.161886\n",
       "2024-07-04    31.138041\n",
       "2024-10-09    31.938402\n",
       "2025-02-07    33.884270\n",
       "Name: PETR4.SA, dtype: float64"
      ]
     },
     "execution_count": 14,
     "metadata": {},
     "output_type": "execute_result"
    }
   ],
   "source": [
    "data[\"Close\"][\"PETR4.SA\"][hf]"
   ]
  },
  {
   "cell_type": "markdown",
   "id": "d721a459",
   "metadata": {},
   "source": [
    "# ADI-CV Framework"
   ]
  },
  {
   "cell_type": "code",
   "execution_count": 15,
   "id": "d7ad151f",
   "metadata": {},
   "outputs": [
    {
     "data": {
      "text/plain": [
       "(np.float64(1.0), np.float64(1.9886348019242868e+34))"
      ]
     },
     "execution_count": 15,
     "metadata": {},
     "output_type": "execute_result"
    }
   ],
   "source": [
    "adi_cv(r)"
   ]
  },
  {
   "cell_type": "markdown",
   "id": "b21e8f9d",
   "metadata": {},
   "source": [
    "# Sampen"
   ]
  },
  {
   "cell_type": "code",
   "execution_count": 46,
   "id": "b778bd0d",
   "metadata": {},
   "outputs": [
    {
     "data": {
      "text/plain": [
       "np.float64(0.5921725376889516)"
      ]
     },
     "execution_count": 46,
     "metadata": {},
     "output_type": "execute_result"
    }
   ],
   "source": [
    "sample_entropy(data[\"Close\"][\"PETR4.SA\"], m=3, detrend=True)"
   ]
  },
  {
   "cell_type": "code",
   "execution_count": 39,
   "id": "e80832d8",
   "metadata": {},
   "outputs": [
    {
     "data": {
      "text/plain": [
       "np.float64(0.16791509477225003)"
      ]
     },
     "execution_count": 39,
     "metadata": {},
     "output_type": "execute_result"
    }
   ],
   "source": [
    "sample_entropy(pure_sine, m=2)"
   ]
  },
  {
   "cell_type": "markdown",
   "id": "49328247",
   "metadata": {},
   "source": [
    "# Permutation Entropy"
   ]
  },
  {
   "cell_type": "code",
   "execution_count": 42,
   "id": "4666adac",
   "metadata": {},
   "outputs": [
    {
     "data": {
      "text/plain": [
       "np.float64(0.9635729769639065)"
      ]
     },
     "execution_count": 42,
     "metadata": {},
     "output_type": "execute_result"
    }
   ],
   "source": [
    "permutation_entropy(data[\"Close\"][\"PETR4.SA\"], m=3, delay=1, normalize=True)"
   ]
  },
  {
   "cell_type": "code",
   "execution_count": 20,
   "id": "bef3586b",
   "metadata": {},
   "outputs": [
    {
     "data": {
      "text/plain": [
       "np.float64(2.4908000121599487)"
      ]
     },
     "execution_count": 20,
     "metadata": {},
     "output_type": "execute_result"
    }
   ],
   "source": [
    "permutation_entropy(data[\"Close\"][\"PETR4.SA\"], m=3, delay=1, normalize=False)"
   ]
  },
  {
   "cell_type": "markdown",
   "id": "3a28410e",
   "metadata": {},
   "source": [
    "# Stability Index"
   ]
  },
  {
   "cell_type": "code",
   "execution_count": 49,
   "id": "4dc04655",
   "metadata": {},
   "outputs": [
    {
     "data": {
      "text/plain": [
       "np.float64(0.5333202409007594)"
      ]
     },
     "execution_count": 49,
     "metadata": {},
     "output_type": "execute_result"
    }
   ],
   "source": [
    "stability_index(data[\"Close\"][\"PETR4.SA\"], detrend=True)"
   ]
  },
  {
   "cell_type": "code",
   "execution_count": 52,
   "id": "891e273e",
   "metadata": {},
   "outputs": [
    {
     "data": {
      "text/plain": [
       "np.float64(0.8656234267494547)"
      ]
     },
     "execution_count": 52,
     "metadata": {},
     "output_type": "execute_result"
    }
   ],
   "source": [
    "stability_index(pure_sine)"
   ]
  },
  {
   "cell_type": "markdown",
   "id": "7040b8b7",
   "metadata": {},
   "source": [
    "# Theorical Limit"
   ]
  },
  {
   "cell_type": "code",
   "execution_count": 58,
   "id": "2856e7fd",
   "metadata": {},
   "outputs": [
    {
     "data": {
      "text/plain": [
       "np.float64(0.036427023036093464)"
      ]
     },
     "execution_count": 58,
     "metadata": {},
     "output_type": "execute_result"
    }
   ],
   "source": [
    "theoretical_limit(data[\"Close\"][\"PETR4.SA\"], m=3)"
   ]
  },
  {
   "cell_type": "code",
   "execution_count": 59,
   "id": "89cf22de",
   "metadata": {},
   "outputs": [
    {
     "data": {
      "text/plain": [
       "np.float64(0.7114310780157527)"
      ]
     },
     "execution_count": 59,
     "metadata": {},
     "output_type": "execute_result"
    }
   ],
   "source": [
    "theoretical_limit(pure_sine, m=4, delay=1)"
   ]
  },
  {
   "cell_type": "markdown",
   "id": "64a5edd7",
   "metadata": {},
   "source": [
    "# Foreca"
   ]
  },
  {
   "cell_type": "code",
   "execution_count": 62,
   "id": "869394e7",
   "metadata": {},
   "outputs": [
    {
     "data": {
      "text/plain": [
       "0.6003496948076306"
      ]
     },
     "execution_count": 62,
     "metadata": {},
     "output_type": "execute_result"
    }
   ],
   "source": [
    "foreca(data[\"Close\"][\"PETR4.SA\"])"
   ]
  },
  {
   "cell_type": "code",
   "execution_count": 63,
   "id": "7a6b7954",
   "metadata": {},
   "outputs": [
    {
     "data": {
      "text/plain": [
       "array([0.65926832, 0.65926832, 0.65926832, 0.65926832, 0.65926832,\n",
       "       0.65926832, 0.65926832, 0.65926832, 0.65926832, 0.65926832,\n",
       "       0.65926832, 0.65926832, 0.65926832, 0.65926832, 0.65926832,\n",
       "       0.65926832, 0.65926832, 0.65926832, 0.65926832, 0.65926832,\n",
       "       0.65926832, 0.65926832, 0.65926832, 0.65926832, 0.65926832,\n",
       "       0.65926832, 0.65926832, 0.65926832, 0.65926832, 0.65926832,\n",
       "       0.65926832, 0.65926832, 0.65926832, 0.65926832, 0.65926832,\n",
       "       0.65926832, 0.65926832, 0.65926832, 0.65926832, 0.65926832,\n",
       "       0.65926832, 0.65926832, 0.65926832, 0.65926832, 0.65926832,\n",
       "       0.65926832, 0.65926832, 0.65926832, 0.65926832, 0.65926832,\n",
       "       0.65926832, 0.65926832, 0.65926832, 0.65926832, 0.65926832,\n",
       "       0.65926832, 0.65926832, 0.65926832, 0.65926832, 0.65926832,\n",
       "       0.67173143, 0.66908263, 0.66265217, 0.64846261, 0.65486014,\n",
       "       0.63313947, 0.61692486, 0.56839568, 0.5188092 , 0.48243043,\n",
       "       0.50070087, 0.51322694, 0.50129878, 0.49858305, 0.49071532,\n",
       "       0.50248248, 0.49616017, 0.52678794, 0.55265946, 0.56653328,\n",
       "       0.58248801, 0.57688794, 0.57384973, 0.59697693, 0.60767082,\n",
       "       0.61971284, 0.62772311, 0.627575  , 0.61726761, 0.64401104,\n",
       "       0.64656248, 0.636388  , 0.63253383, 0.61396666, 0.60168429,\n",
       "       0.62137182, 0.6500687 , 0.66254423, 0.67665551, 0.69148152,\n",
       "       0.6948665 , 0.69794681, 0.69828933, 0.69858648, 0.69670513,\n",
       "       0.69413987, 0.69382894, 0.69728932, 0.7005518 , 0.70344785,\n",
       "       0.70593572, 0.71963156, 0.71976654, 0.72304434, 0.72682255,\n",
       "       0.72682255, 0.72016262, 0.71581917, 0.70486951, 0.7000506 ,\n",
       "       0.69792287, 0.69566437, 0.69629427, 0.70154511, 0.71609388,\n",
       "       0.72771211, 0.74405091, 0.74686812, 0.75100612, 0.74974123,\n",
       "       0.75736648, 0.76091163, 0.76103122, 0.77085539, 0.78424585,\n",
       "       0.79460359, 0.79951301, 0.80599087, 0.81608309, 0.83798572,\n",
       "       0.84139674, 0.84561273, 0.83118922, 0.80662263, 0.77679015,\n",
       "       0.75902268, 0.74449641, 0.74775067, 0.76309094, 0.76124149,\n",
       "       0.76139842, 0.75963368, 0.75820263, 0.74542826, 0.7392571 ,\n",
       "       0.73111844, 0.71380487, 0.7108885 , 0.70760996, 0.69021405,\n",
       "       0.67414059, 0.66577445, 0.6571514 , 0.65949875, 0.64727595,\n",
       "       0.61885551, 0.60393124, 0.56935577, 0.54085207, 0.52492816,\n",
       "       0.52230453, 0.5245374 , 0.49687055, 0.46255843, 0.43782377,\n",
       "       0.43773669, 0.45492586, 0.48035343, 0.47757403, 0.46239721,\n",
       "       0.47222804, 0.49161066, 0.49614066, 0.50867755, 0.52959125,\n",
       "       0.54757633, 0.55161971, 0.55873217, 0.57695492, 0.57200339,\n",
       "       0.55895296, 0.55864   , 0.549306  , 0.5414771 , 0.5027952 ,\n",
       "       0.46397459, 0.4516887 , 0.41843877, 0.35182982, 0.33058061,\n",
       "       0.38026018, 0.49666228, 0.51183072, 0.50706712, 0.46949113,\n",
       "       0.46017671, 0.43299367, 0.39807646, 0.38291927, 0.41491743,\n",
       "       0.45538304, 0.48091826, 0.52366569, 0.52700572, 0.45641565,\n",
       "       0.46288329, 0.45079454, 0.43186993, 0.46797113, 0.48038457,\n",
       "       0.46370531, 0.45025569, 0.44390696, 0.47456438, 0.48084757,\n",
       "       0.49459451, 0.51832907, 0.53122718, 0.54224232, 0.53717848,\n",
       "       0.53838468, 0.53946429, 0.5389373 , 0.54365746, 0.55892893,\n",
       "       0.57196069, 0.56857597, 0.56814667, 0.56298363, 0.56107358,\n",
       "       0.5656756 , 0.56431959, 0.5614044 , 0.56419033, 0.56014075,\n",
       "       0.56202446, 0.55963808, 0.55948755, 0.55948668, 0.56183689,\n",
       "       0.57231048, 0.57416958, 0.57534115, 0.57373571, 0.57866189,\n",
       "       0.58404641, 0.58673821, 0.58573087, 0.57459873, 0.57320552,\n",
       "       0.56851384, 0.56583845, 0.5648429 , 0.56451834, 0.5731949 ,\n",
       "       0.57514898, 0.5769627 , 0.58523466, 0.59559312, 0.59739392,\n",
       "       0.59856854, 0.59771194, 0.59954545, 0.62869889, 0.63779635,\n",
       "       0.62555049, 0.6292056 , 0.629922  , 0.63100219, 0.63104589,\n",
       "       0.63125609, 0.62945985, 0.61914749, 0.61623953, 0.60894764,\n",
       "       0.59676741, 0.59574195, 0.56965766, 0.54919076, 0.51754464,\n",
       "       0.51546072, 0.54663688, 0.57408953, 0.60178786, 0.63385958,\n",
       "       0.6532675 , 0.66382429, 0.69136308, 0.72935259, 0.78625821,\n",
       "       0.80295781, 0.79918095, 0.79923684, 0.80086003, 0.77458568,\n",
       "       0.76388416, 0.75880399, 0.74346067, 0.72495608, 0.70454318,\n",
       "       0.66764791, 0.64540701, 0.6196301 , 0.59530304, 0.58071542,\n",
       "       0.57299621, 0.58905618, 0.5952772 , 0.56461833, 0.54735279,\n",
       "       0.530489  , 0.49691727, 0.44890906, 0.42097609, 0.40505016,\n",
       "       0.39638264, 0.38933562, 0.40027297, 0.36726062, 0.34305412,\n",
       "       0.34368171, 0.33497812, 0.28253191, 0.24294978, 0.21070633,\n",
       "       0.28204793, 0.31090472, 0.32936376, 0.3495026 , 0.37378238,\n",
       "       0.41421332, 0.43446951, 0.42595751, 0.37183264, 0.36224393,\n",
       "       0.40541138, 0.3907552 , 0.37518569, 0.37944519, 0.43030747,\n",
       "       0.4625516 , 0.47453168, 0.47944218, 0.49589529, 0.49317833,\n",
       "       0.47878299, 0.4831051 , 0.48520136, 0.4790112 , 0.48000109,\n",
       "       0.48779899, 0.48726962, 0.48931014, 0.5050166 , 0.4869965 ,\n",
       "       0.43142199, 0.3779011 , 0.37219684, 0.44362774, 0.4147285 ,\n",
       "       0.44812874, 0.4590692 , 0.45187657, 0.46195186, 0.49544783,\n",
       "       0.51416833, 0.51779435, 0.51048155, 0.5176109 , 0.5314291 ,\n",
       "       0.54209658, 0.5493437 , 0.58810895, 0.59561763, 0.60418997,\n",
       "       0.60693914, 0.61208659, 0.6133568 , 0.62826307, 0.64324821,\n",
       "       0.6381732 , 0.62203325, 0.61548139, 0.60428986, 0.60625028,\n",
       "       0.60448852, 0.6016632 , 0.60895404, 0.61577663, 0.63004502,\n",
       "       0.67264881, 0.69713367, 0.71623608, 0.7154617 , 0.70641581,\n",
       "       0.68387424, 0.66903206, 0.65907879, 0.63438931, 0.62245259,\n",
       "       0.62683011, 0.63603941, 0.64330046, 0.63822918, 0.63586082,\n",
       "       0.63011649, 0.61257646, 0.57022451, 0.51733432, 0.47835647,\n",
       "       0.46436852, 0.42549704, 0.40625668, 0.42782513, 0.46848059,\n",
       "       0.47821754, 0.47621975, 0.49502354, 0.47182824, 0.48502623,\n",
       "       0.47275552, 0.43359925, 0.44340025, 0.47885956, 0.48745175,\n",
       "       0.49174503, 0.50669221, 0.52226566, 0.52096767, 0.49981632,\n",
       "       0.47449864, 0.47247282, 0.43468454, 0.41901809, 0.4087624 ,\n",
       "       0.44082846, 0.48390128, 0.52284457, 0.52640863, 0.51353572,\n",
       "       0.49618247, 0.48734536, 0.48869989, 0.49059162, 0.49823339,\n",
       "       0.50237512, 0.50351154, 0.50445795, 0.5025846 , 0.50361456,\n",
       "       0.50460063, 0.48799452, 0.47156582, 0.46349161, 0.42886698,\n",
       "       0.38869814, 0.35033538, 0.31414593, 0.33083273, 0.38093539,\n",
       "       0.40254935, 0.38418772, 0.37232681, 0.36322701, 0.37502367,\n",
       "       0.38972082, 0.42371382, 0.41755552, 0.40217813, 0.40474922,\n",
       "       0.40917344, 0.42023469, 0.42789347, 0.44952195, 0.44991663,\n",
       "       0.46559664, 0.48819305, 0.50663405, 0.49699519, 0.49261835,\n",
       "       0.48196827, 0.48036407, 0.47619542, 0.48098655, 0.48796139,\n",
       "       0.49113851, 0.48825669, 0.48801443, 0.47987046, 0.47507015,\n",
       "       0.46079116, 0.45560695])"
      ]
     },
     "execution_count": 63,
     "metadata": {},
     "output_type": "execute_result"
    }
   ],
   "source": [
    "trailing_window(data[\"Close\"][\"PETR4.SA\"], rolling_window=60, func=foreca)"
   ]
  },
  {
   "cell_type": "code",
   "execution_count": 64,
   "id": "f3ce2558",
   "metadata": {},
   "outputs": [
    {
     "data": {
      "text/plain": [
       "0.9993976808641186"
      ]
     },
     "execution_count": 64,
     "metadata": {},
     "output_type": "execute_result"
    }
   ],
   "source": [
    "foreca(pure_sine)"
   ]
  },
  {
   "cell_type": "code",
   "execution_count": 28,
   "id": "78bcc5cb",
   "metadata": {},
   "outputs": [
    {
     "data": {
      "text/plain": [
       "array([0.87814292, 0.87814292, 0.87814292, 0.87814292, 0.87814292,\n",
       "       0.87814292, 0.87814292, 0.87814292, 0.87814292, 0.87814292,\n",
       "       0.87814292, 0.87814292, 0.87814292, 0.87814292, 0.87814292,\n",
       "       0.87814292, 0.87814292, 0.87814292, 0.87814292, 0.87814292,\n",
       "       0.87814292, 0.87814292, 0.87814292, 0.87814292, 0.87814292,\n",
       "       0.87814292, 0.87814292, 0.87814292, 0.87814292, 0.87814292,\n",
       "       0.87814292, 0.87814292, 0.87814292, 0.87814292, 0.87814292,\n",
       "       0.87814292, 0.87814292, 0.87814292, 0.87814292, 0.87814292,\n",
       "       0.87814292, 0.87814292, 0.87814292, 0.87814292, 0.87814292,\n",
       "       0.87814292, 0.87814292, 0.87814292, 0.87814292, 0.87814292,\n",
       "       0.87814292, 0.87814292, 0.87814292, 0.87814292, 0.87814292,\n",
       "       0.87814292, 0.87814292, 0.87814292, 0.87814292, 0.87814292,\n",
       "       0.85659439, 0.83599743, 0.81701635, 0.79995579, 0.78488091,\n",
       "       0.77171463, 0.76030651, 0.75047711, 0.74204419, 0.73483677,\n",
       "       0.72870169, 0.72350584, 0.7191359 , 0.71549702, 0.7125111 ,\n",
       "       0.71011489, 0.70825837, 0.70690328, 0.70602203, 0.70559683,\n",
       "       0.70561914, 0.70608941, 0.70701709, 0.70842091, 0.7103295 ,\n",
       "       0.71278222, 0.71583036, 0.71953856, 0.72398654, 0.7292709 ,\n",
       "       0.73550688, 0.74282964, 0.75139426, 0.76137323, 0.77294932,\n",
       "       0.78630048, 0.80157218, 0.81883082, 0.83799213, 0.85872118,\n",
       "       0.88031077, 0.90156475, 0.92073967, 0.93561753, 0.94376518,\n",
       "       0.94306497, 0.93375548, 0.91807901, 0.89846048, 0.87705837,\n",
       "       0.85553466, 0.83500622, 0.81611639, 0.79915509, 0.78417832,\n",
       "       0.7711039 , 0.75977908, 0.75002379, 0.74165607, 0.73450573,\n",
       "       0.72842062, 0.72326859, 0.7189373 , 0.7153328 , 0.71237775,\n",
       "       0.71000961, 0.70817897, 0.70684815, 0.70599004, 0.70558734,\n",
       "       0.70563197, 0.70612481, 0.70707577, 0.70850407, 0.71043884,\n",
       "       0.71292001, 0.7159995 , 0.71974266, 0.72423002, 0.72955906,\n",
       "       0.735846  , 0.74322701, 0.75185813, 0.76191257, 0.77357332,\n",
       "       0.78701749, 0.80238787, 0.81974528, 0.83899551, 0.85978801,\n",
       "       0.8813937 , 0.90258966, 0.92160557, 0.93620488, 0.94395386,\n",
       "       0.9427877 , 0.93310249, 0.91717214, 0.89741669, 0.87597363,\n",
       "       0.85447751, 0.83401918, 0.81522129, 0.79835938, 0.78348049,\n",
       "       0.77049754, 0.75925558, 0.74957392, 0.74127098, 0.73417736,\n",
       "       0.72814187, 0.72303339, 0.71874052, 0.7151702 , 0.71224587,\n",
       "       0.70990568, 0.70810083, 0.7067942 , 0.70595919, 0.70557898,\n",
       "       0.70564592, 0.70616136, 0.70713565, 0.70858849, 0.71054954,\n",
       "       0.71305929, 0.71617029, 0.71994862, 0.72447559, 0.7298496 ,\n",
       "       0.73618785, 0.7436275 , 0.75232554, 0.76245593, 0.77420178,\n",
       "       0.78773932, 0.80320856, 0.82066452, 0.84000282, 0.86085699,\n",
       "       0.88247573, 0.90360922, 0.92246047, 0.93677507, 0.94411978,\n",
       "       0.94248894, 0.93243387, 0.91625577, 0.89636879, 0.87488887,\n",
       "       0.85342306, 0.83303637, 0.81433108, 0.79756865, 0.78278741,\n",
       "       0.76989555, 0.75873597, 0.7491275 , 0.74088891, 0.73385163,\n",
       "       0.72786543, 0.72280022, 0.71854555, 0.71500922, 0.71211544,\n",
       "       0.70980307, 0.70802393, 0.70674142, 0.70592948, 0.70557173,\n",
       "       0.70566099, 0.70619905, 0.70719672, 0.70867418, 0.71066161,\n",
       "       0.71320007, 0.71634274, 0.72015644, 0.72472328, 0.73014256,\n",
       "       0.73653244, 0.74403113, 0.75279654, 0.76300333, 0.77483473,\n",
       "       0.78846601, 0.80403424, 0.82158852, 0.841014  , 0.86192797,\n",
       "       0.88355666, 0.90462317, 0.92330407, 0.93732777, 0.94426268,\n",
       "       0.94216895, 0.93174993, 0.9153302 , 0.89531703, 0.87380426,\n",
       "       0.85237141, 0.83205782, 0.81344577, 0.7967829 , 0.78209907,\n",
       "       0.76929789, 0.75822024, 0.7486845 , 0.74050985, 0.73352852,\n",
       "       0.72759129, 0.72256907, 0.71835236, 0.71484983, 0.71198647,\n",
       "       0.7097018 , 0.70794826, 0.70668982, 0.70590091, 0.7055656 ,\n",
       "       0.70567718, 0.70623789, 0.70725899, 0.70876115, 0.71077505,\n",
       "       0.71334235, 0.71651687, 0.72036614, 0.72497309, 0.73043793,\n",
       "       0.73687981, 0.74443792, 0.75327114, 0.76355479, 0.77547219,\n",
       "       0.78919755, 0.80486493, 0.82251725, 0.84202899, 0.86300086,\n",
       "       0.8846363 , 0.90563126, 0.92413607, 0.9378627 , 0.94438232,\n",
       "       0.941828  , 0.93105097, 0.91439571, 0.89426162, 0.87271997,\n",
       "       0.85132264, 0.8310836 , 0.81256538, 0.79600212, 0.78141545,\n",
       "       0.76870454, 0.75770837, 0.74824491, 0.74013376, 0.73320801,\n",
       "       0.72731944, 0.72233993, 0.71816096, 0.71469204, 0.71185893,\n",
       "       0.70960185, 0.70787384, 0.7066394 , 0.70587346, 0.70556058,\n",
       "       0.70569449, 0.70627788, 0.70732246, 0.70884939, 0.71088988,\n",
       "       0.71348615, 0.71669269, 0.72057773, 0.72522505, 0.73073575,\n",
       "       0.73722996, 0.7448479 , 0.75374936, 0.76411033, 0.77611418,\n",
       "       0.78993396, 0.80570061, 0.82345069, 0.8430477 , 0.8640755 ,\n",
       "       0.88571445, 0.90663321, 0.92495616, 0.93837954, 0.94447848,\n",
       "       0.94146637, 0.93033732, 0.9134526 , 0.89320281, 0.87163615,\n",
       "       0.85027687, 0.83011375, 0.81168991, 0.79522631, 0.78073653,\n",
       "       0.76811548, 0.75720033, 0.74780869, 0.73976063, 0.7328901 ,\n",
       "       0.72704985, 0.7221128 , 0.71797133, 0.71453584, 0.71173284,\n",
       "       0.70950323, 0.70780064, 0.70659014, 0.70584714, 0.70555668,\n",
       "       0.70571293, 0.70631901, 0.70738713, 0.70893891, 0.71100609,\n",
       "       0.71363148, 0.7168702 , 0.72079123, 0.72547916, 0.73103601,\n",
       "       0.73758292, 0.74526108, 0.75423124, 0.76466999, 0.77676071,\n",
       "       0.79067526, 0.80654129, 0.8243888 , 0.84407008, 0.86515179,\n",
       "       0.88679093, 0.90762878, 0.92576403, 0.93887801, 0.94455093,\n",
       "       0.94108433, 0.92960926, 0.91250116, 0.89214082, 0.87055297,\n",
       "       0.84923419, 0.82914832, 0.8108194 , 0.79445546, 0.7800623 ,\n",
       "       0.76753069, 0.75669609, 0.74737582, 0.73939044, 0.73257475,\n",
       "       0.72678252, 0.72188764, 0.71778346, 0.71438121, 0.71160818,\n",
       "       0.70940592, 0.70772867, 0.70654205, 0.70582196, 0.7055539 ,\n",
       "       0.70573248, 0.70636131, 0.70745301, 0.70902972, 0.7111237 ,\n",
       "       0.71377833, 0.71704941, 0.72100664, 0.72573544, 0.73133875,\n",
       "       0.7379387 , 0.74567749, 0.75471678, 0.76523377, 0.77741181,\n",
       "       0.79142146, 0.80738695, 0.82533156, 0.84509604, 0.86622957,\n",
       "       0.88786552, 0.90861768, 0.92655937, 0.9393578 , 0.94459944,\n",
       "       0.94068217, 0.92886713, 0.91154166, 0.89107588, 0.86947057,\n",
       "       0.84819467, 0.82818734, 0.80995383, 0.79368956, 0.77939273,\n",
       "       0.76695015, 0.75619564, 0.74694629, 0.73902318, 0.73226196,\n",
       "       0.72651743, 0.72166446, 0.71759735, 0.71422816, 0.71148494,\n",
       "       0.70930991, 0.70765793, 0.70649512, 0.7057979 , 0.70555222,\n",
       "       0.70575316, 0.70640475, 0.7075201 , 0.70912182, 0.7112427 ,\n",
       "       0.71392673, 0.71723033, 0.72122397, 0.7259939 , 0.73164398,\n",
       "       0.73829732, 0.74609715, 0.75520601, 0.76580171, 0.7780675 ,\n",
       "       0.79217257, 0.8082376 , 0.82627892, 0.84612552, 0.86730873,\n",
       "       0.88893801, 0.90959964, 0.92734188, 0.93981862, 0.9446238 ,\n",
       "       0.94026017, 0.92811124, 0.9105744 , 0.8900082 , 0.86838911,\n",
       "       0.84715842, 0.82723087, 0.80909323, 0.7929286 , 0.7787278 ,\n",
       "       0.76637383, 0.75569896, 0.74652008, 0.73865881, 0.73195171,\n",
       "       0.72625456, 0.72144324, 0.71741297, 0.71407666, 0.71136311,\n",
       "       0.70921522, 0.70758841, 0.70644936, 0.70577497, 0.70555167,\n",
       "       0.70577497, 0.70644936, 0.70758841, 0.70921522, 0.71136311,\n",
       "       0.71407666, 0.71741297, 0.72144324, 0.72625456, 0.73195171,\n",
       "       0.73865881, 0.74652008, 0.75569896, 0.76637383, 0.7787278 ,\n",
       "       0.7929286 , 0.80909323, 0.82723087, 0.84715842, 0.86838911,\n",
       "       0.8900082 , 0.9105744 , 0.92811124, 0.94026017, 0.9446238 ,\n",
       "       0.93981862, 0.92734188, 0.90959964, 0.88893801, 0.86730873,\n",
       "       0.84612552, 0.82627892, 0.8082376 , 0.79217257, 0.7780675 ,\n",
       "       0.76580171, 0.75520601, 0.74609715, 0.73829732, 0.73164398,\n",
       "       0.7259939 , 0.72122397, 0.71723033, 0.71392673, 0.7112427 ,\n",
       "       0.70912182, 0.7075201 , 0.70640475, 0.70575316, 0.70555222,\n",
       "       0.7057979 , 0.70649512, 0.70765793, 0.70930991, 0.71148494,\n",
       "       0.71422816, 0.71759735, 0.72166446, 0.72651743, 0.73226196,\n",
       "       0.73902318, 0.74694629, 0.75619564, 0.76695015, 0.77939273,\n",
       "       0.79368956, 0.80995383, 0.82818734, 0.84819467, 0.86947057,\n",
       "       0.89107588, 0.91154166, 0.92886713, 0.94068217, 0.94459944,\n",
       "       0.9393578 , 0.92655937, 0.90861768, 0.88786552, 0.86622957,\n",
       "       0.84509604, 0.82533156, 0.80738695, 0.79142146, 0.77741181,\n",
       "       0.76523377, 0.75471678, 0.74567749, 0.7379387 , 0.73133875,\n",
       "       0.72573544, 0.72100664, 0.71704941, 0.71377833, 0.7111237 ,\n",
       "       0.70902972, 0.70745301, 0.70636131, 0.70573248, 0.7055539 ,\n",
       "       0.70582196, 0.70654205, 0.70772867, 0.70940592, 0.71160818,\n",
       "       0.71438121, 0.71778346, 0.72188764, 0.72678252, 0.73257475,\n",
       "       0.73939044, 0.74737582, 0.75669609, 0.76753069, 0.7800623 ,\n",
       "       0.79445546, 0.8108194 , 0.82914832, 0.84923419, 0.87055297,\n",
       "       0.89214082, 0.91250116, 0.92960926, 0.94108433, 0.94455093,\n",
       "       0.93887801, 0.92576403, 0.90762878, 0.88679093, 0.86515179,\n",
       "       0.84407008, 0.8243888 , 0.80654129, 0.79067526, 0.77676071,\n",
       "       0.76466999, 0.75423124, 0.74526108, 0.73758292, 0.73103601,\n",
       "       0.72547916, 0.72079123, 0.7168702 , 0.71363148, 0.71100609,\n",
       "       0.70893891, 0.70738713, 0.70631901, 0.70571293, 0.70555668,\n",
       "       0.70584714, 0.70659014, 0.70780064, 0.70950323, 0.71173284,\n",
       "       0.71453584, 0.71797133, 0.7221128 , 0.72704985, 0.7328901 ,\n",
       "       0.73976063, 0.74780869, 0.75720033, 0.76811548, 0.78073653,\n",
       "       0.79522631, 0.81168991, 0.83011375, 0.85027687, 0.87163615,\n",
       "       0.89320281, 0.9134526 , 0.93033732, 0.94146637, 0.94447848,\n",
       "       0.93837954, 0.92495616, 0.90663321, 0.88571445, 0.8640755 ,\n",
       "       0.8430477 , 0.82345069, 0.80570061, 0.78993396, 0.77611418,\n",
       "       0.76411033, 0.75374936, 0.7448479 , 0.73722996, 0.73073575,\n",
       "       0.72522505, 0.72057773, 0.71669269, 0.71348615, 0.71088988,\n",
       "       0.70884939, 0.70732246, 0.70627788, 0.70569449, 0.70556058,\n",
       "       0.70587346, 0.7066394 , 0.70787384, 0.70960185, 0.71185893,\n",
       "       0.71469204, 0.71816096, 0.72233993, 0.72731944, 0.73320801,\n",
       "       0.74013376, 0.74824491, 0.75770837, 0.76870454, 0.78141545,\n",
       "       0.79600212, 0.81256538, 0.8310836 , 0.85132264, 0.87271997,\n",
       "       0.89426162, 0.91439571, 0.93105097, 0.941828  , 0.94438232,\n",
       "       0.9378627 , 0.92413607, 0.90563126, 0.8846363 , 0.86300086,\n",
       "       0.84202899, 0.82251725, 0.80486493, 0.78919755, 0.77547219,\n",
       "       0.76355479, 0.75327114, 0.74443792, 0.73687981, 0.73043793,\n",
       "       0.72497309, 0.72036614, 0.71651687, 0.71334235, 0.71077505,\n",
       "       0.70876115, 0.70725899, 0.70623789, 0.70567718, 0.7055656 ,\n",
       "       0.70590091, 0.70668982, 0.70794826, 0.7097018 , 0.71198647,\n",
       "       0.71484983, 0.71835236, 0.72256907, 0.72759129, 0.73352852,\n",
       "       0.74050985, 0.7486845 , 0.75822024, 0.76929789, 0.78209907,\n",
       "       0.7967829 , 0.81344577, 0.83205782, 0.85237141, 0.87380426,\n",
       "       0.89531703, 0.9153302 , 0.93174993, 0.94216895, 0.94426268,\n",
       "       0.93732777, 0.92330407, 0.90462317, 0.88355666, 0.86192797,\n",
       "       0.841014  , 0.82158852, 0.80403424, 0.78846601, 0.77483473,\n",
       "       0.76300333, 0.75279654, 0.74403113, 0.73653244, 0.73014256,\n",
       "       0.72472328, 0.72015644, 0.71634274, 0.71320007, 0.71066161,\n",
       "       0.70867418, 0.70719672, 0.70619905, 0.70566099, 0.70557173,\n",
       "       0.70592948, 0.70674142, 0.70802393, 0.70980307, 0.71211544,\n",
       "       0.71500922, 0.71854555, 0.72280022, 0.72786543, 0.73385163,\n",
       "       0.74088891, 0.7491275 , 0.75873597, 0.76989555, 0.78278741,\n",
       "       0.79756865, 0.81433108, 0.83303637, 0.85342306, 0.87488887,\n",
       "       0.89636879, 0.91625577, 0.93243387, 0.94248894, 0.94411978,\n",
       "       0.93677507, 0.92246047, 0.90360922, 0.88247573, 0.86085699,\n",
       "       0.84000282, 0.82066452, 0.80320856, 0.78773932, 0.77420178,\n",
       "       0.76245593, 0.75232554, 0.7436275 , 0.73618785, 0.7298496 ,\n",
       "       0.72447559, 0.71994862, 0.71617029, 0.71305929, 0.71054954,\n",
       "       0.70858849, 0.70713565, 0.70616136, 0.70564592, 0.70557898,\n",
       "       0.70595919, 0.7067942 , 0.70810083, 0.70990568, 0.71224587,\n",
       "       0.7151702 , 0.71874052, 0.72303339, 0.72814187, 0.73417736,\n",
       "       0.74127098, 0.74957392, 0.75925558, 0.77049754, 0.78348049,\n",
       "       0.79835938, 0.81522129, 0.83401918, 0.85447751, 0.87597363,\n",
       "       0.89741669, 0.91717214, 0.93310249, 0.9427877 , 0.94395386,\n",
       "       0.93620488, 0.92160557, 0.90258966, 0.8813937 , 0.85978801,\n",
       "       0.83899551, 0.81974528, 0.80238787, 0.78701749, 0.77357332,\n",
       "       0.76191257, 0.75185813, 0.74322701, 0.735846  , 0.72955906,\n",
       "       0.72423002, 0.71974266, 0.7159995 , 0.71292001, 0.71043884,\n",
       "       0.70850407, 0.70707577, 0.70612481, 0.70563197, 0.70558734,\n",
       "       0.70599004, 0.70684815, 0.70817897, 0.71000961, 0.71237775,\n",
       "       0.7153328 , 0.7189373 , 0.72326859, 0.72842062, 0.73450573,\n",
       "       0.74165607, 0.75002379, 0.75977908, 0.7711039 , 0.78417832,\n",
       "       0.79915509, 0.81611639, 0.83500622, 0.85553466, 0.87705837,\n",
       "       0.89846048, 0.91807901, 0.93375548, 0.94306497, 0.94376518,\n",
       "       0.93561753, 0.92073967, 0.90156475, 0.88031077, 0.85872118,\n",
       "       0.83799213, 0.81883082, 0.80157218, 0.78630048, 0.77294932,\n",
       "       0.76137323, 0.75139426, 0.74282964, 0.73550688, 0.7292709 ,\n",
       "       0.72398654, 0.71953856, 0.71583036, 0.71278222, 0.7103295 ,\n",
       "       0.70842091, 0.70701709, 0.70608941, 0.70561914, 0.70559683,\n",
       "       0.70602203, 0.70690328, 0.70825837, 0.71011489, 0.7125111 ,\n",
       "       0.71549702, 0.7191359 , 0.72350584, 0.72870169, 0.73483677,\n",
       "       0.74204419, 0.75047711, 0.76030651, 0.77171463, 0.78488091,\n",
       "       0.79995579, 0.81701635, 0.83599743, 0.85659439, 0.87814292])"
      ]
     },
     "execution_count": 28,
     "metadata": {},
     "output_type": "execute_result"
    }
   ],
   "source": [
    "trailing_window(pure_sine, rolling_window=60, func=foreca)"
   ]
  },
  {
   "cell_type": "markdown",
   "id": "adc90af6",
   "metadata": {},
   "source": [
    "# Hurst's Exponent"
   ]
  },
  {
   "cell_type": "code",
   "execution_count": 70,
   "id": "86205dab",
   "metadata": {},
   "outputs": [
    {
     "data": {
      "text/plain": [
       "(0.6285298895961746, 0.031450516714001515)"
      ]
     },
     "execution_count": 70,
     "metadata": {},
     "output_type": "execute_result"
    }
   ],
   "source": [
    "hurst_exponent(r, d=0)"
   ]
  },
  {
   "cell_type": "code",
   "execution_count": 71,
   "id": "4afa7740",
   "metadata": {},
   "outputs": [
    {
     "data": {
      "application/vnd.plotly.v1+json": {
       "config": {
        "plotlyServerURL": "https://plot.ly"
       },
       "data": [
        {
         "name": "Preço PETR4.SA",
         "type": "scatter",
         "x": [
          "2023-10-17T00:00:00.000000000",
          "2023-10-18T00:00:00.000000000",
          "2023-10-19T00:00:00.000000000",
          "2023-10-20T00:00:00.000000000",
          "2023-10-23T00:00:00.000000000",
          "2023-10-24T00:00:00.000000000",
          "2023-10-25T00:00:00.000000000",
          "2023-10-26T00:00:00.000000000",
          "2023-10-27T00:00:00.000000000",
          "2023-10-30T00:00:00.000000000",
          "2023-10-31T00:00:00.000000000",
          "2023-11-01T00:00:00.000000000",
          "2023-11-03T00:00:00.000000000",
          "2023-11-06T00:00:00.000000000",
          "2023-11-07T00:00:00.000000000",
          "2023-11-08T00:00:00.000000000",
          "2023-11-09T00:00:00.000000000",
          "2023-11-10T00:00:00.000000000",
          "2023-11-13T00:00:00.000000000",
          "2023-11-14T00:00:00.000000000",
          "2023-11-16T00:00:00.000000000",
          "2023-11-17T00:00:00.000000000",
          "2023-11-20T00:00:00.000000000",
          "2023-11-21T00:00:00.000000000",
          "2023-11-22T00:00:00.000000000",
          "2023-11-23T00:00:00.000000000",
          "2023-11-24T00:00:00.000000000",
          "2023-11-27T00:00:00.000000000",
          "2023-11-28T00:00:00.000000000",
          "2023-11-29T00:00:00.000000000",
          "2023-11-30T00:00:00.000000000",
          "2023-12-01T00:00:00.000000000",
          "2023-12-04T00:00:00.000000000",
          "2023-12-05T00:00:00.000000000",
          "2023-12-06T00:00:00.000000000",
          "2023-12-07T00:00:00.000000000",
          "2023-12-08T00:00:00.000000000",
          "2023-12-11T00:00:00.000000000",
          "2023-12-12T00:00:00.000000000",
          "2023-12-13T00:00:00.000000000",
          "2023-12-14T00:00:00.000000000",
          "2023-12-15T00:00:00.000000000",
          "2023-12-18T00:00:00.000000000",
          "2023-12-19T00:00:00.000000000",
          "2023-12-20T00:00:00.000000000",
          "2023-12-21T00:00:00.000000000",
          "2023-12-22T00:00:00.000000000",
          "2023-12-26T00:00:00.000000000",
          "2023-12-27T00:00:00.000000000",
          "2023-12-28T00:00:00.000000000",
          "2024-01-02T00:00:00.000000000",
          "2024-01-03T00:00:00.000000000",
          "2024-01-04T00:00:00.000000000",
          "2024-01-05T00:00:00.000000000",
          "2024-01-08T00:00:00.000000000",
          "2024-01-09T00:00:00.000000000",
          "2024-01-10T00:00:00.000000000",
          "2024-01-11T00:00:00.000000000",
          "2024-01-12T00:00:00.000000000",
          "2024-01-15T00:00:00.000000000",
          "2024-01-16T00:00:00.000000000",
          "2024-01-17T00:00:00.000000000",
          "2024-01-18T00:00:00.000000000",
          "2024-01-19T00:00:00.000000000",
          "2024-01-22T00:00:00.000000000",
          "2024-01-23T00:00:00.000000000",
          "2024-01-24T00:00:00.000000000",
          "2024-01-25T00:00:00.000000000",
          "2024-01-26T00:00:00.000000000",
          "2024-01-29T00:00:00.000000000",
          "2024-01-30T00:00:00.000000000",
          "2024-01-31T00:00:00.000000000",
          "2024-02-01T00:00:00.000000000",
          "2024-02-02T00:00:00.000000000",
          "2024-02-05T00:00:00.000000000",
          "2024-02-06T00:00:00.000000000",
          "2024-02-07T00:00:00.000000000",
          "2024-02-08T00:00:00.000000000",
          "2024-02-09T00:00:00.000000000",
          "2024-02-14T00:00:00.000000000",
          "2024-02-15T00:00:00.000000000",
          "2024-02-16T00:00:00.000000000",
          "2024-02-19T00:00:00.000000000",
          "2024-02-20T00:00:00.000000000",
          "2024-02-21T00:00:00.000000000",
          "2024-02-22T00:00:00.000000000",
          "2024-02-23T00:00:00.000000000",
          "2024-02-26T00:00:00.000000000",
          "2024-02-27T00:00:00.000000000",
          "2024-02-28T00:00:00.000000000",
          "2024-02-29T00:00:00.000000000",
          "2024-03-01T00:00:00.000000000",
          "2024-03-04T00:00:00.000000000",
          "2024-03-05T00:00:00.000000000",
          "2024-03-06T00:00:00.000000000",
          "2024-03-07T00:00:00.000000000",
          "2024-03-08T00:00:00.000000000",
          "2024-03-11T00:00:00.000000000",
          "2024-03-12T00:00:00.000000000",
          "2024-03-13T00:00:00.000000000",
          "2024-03-14T00:00:00.000000000",
          "2024-03-15T00:00:00.000000000",
          "2024-03-18T00:00:00.000000000",
          "2024-03-19T00:00:00.000000000",
          "2024-03-20T00:00:00.000000000",
          "2024-03-21T00:00:00.000000000",
          "2024-03-22T00:00:00.000000000",
          "2024-03-25T00:00:00.000000000",
          "2024-03-26T00:00:00.000000000",
          "2024-03-27T00:00:00.000000000",
          "2024-03-28T00:00:00.000000000",
          "2024-04-01T00:00:00.000000000",
          "2024-04-02T00:00:00.000000000",
          "2024-04-03T00:00:00.000000000",
          "2024-04-04T00:00:00.000000000",
          "2024-04-05T00:00:00.000000000",
          "2024-04-08T00:00:00.000000000",
          "2024-04-09T00:00:00.000000000",
          "2024-04-10T00:00:00.000000000",
          "2024-04-11T00:00:00.000000000",
          "2024-04-12T00:00:00.000000000",
          "2024-04-15T00:00:00.000000000",
          "2024-04-16T00:00:00.000000000",
          "2024-04-17T00:00:00.000000000",
          "2024-04-18T00:00:00.000000000",
          "2024-04-19T00:00:00.000000000",
          "2024-04-22T00:00:00.000000000",
          "2024-04-23T00:00:00.000000000",
          "2024-04-24T00:00:00.000000000",
          "2024-04-25T00:00:00.000000000",
          "2024-04-26T00:00:00.000000000",
          "2024-04-29T00:00:00.000000000",
          "2024-04-30T00:00:00.000000000",
          "2024-05-02T00:00:00.000000000",
          "2024-05-03T00:00:00.000000000",
          "2024-05-06T00:00:00.000000000",
          "2024-05-07T00:00:00.000000000",
          "2024-05-08T00:00:00.000000000",
          "2024-05-09T00:00:00.000000000",
          "2024-05-10T00:00:00.000000000",
          "2024-05-13T00:00:00.000000000",
          "2024-05-14T00:00:00.000000000",
          "2024-05-15T00:00:00.000000000",
          "2024-05-16T00:00:00.000000000",
          "2024-05-17T00:00:00.000000000",
          "2024-05-20T00:00:00.000000000",
          "2024-05-21T00:00:00.000000000",
          "2024-05-22T00:00:00.000000000",
          "2024-05-23T00:00:00.000000000",
          "2024-05-24T00:00:00.000000000",
          "2024-05-27T00:00:00.000000000",
          "2024-05-28T00:00:00.000000000",
          "2024-05-29T00:00:00.000000000",
          "2024-05-31T00:00:00.000000000",
          "2024-06-03T00:00:00.000000000",
          "2024-06-04T00:00:00.000000000",
          "2024-06-05T00:00:00.000000000",
          "2024-06-06T00:00:00.000000000",
          "2024-06-07T00:00:00.000000000",
          "2024-06-10T00:00:00.000000000",
          "2024-06-11T00:00:00.000000000",
          "2024-06-12T00:00:00.000000000",
          "2024-06-13T00:00:00.000000000",
          "2024-06-14T00:00:00.000000000",
          "2024-06-17T00:00:00.000000000",
          "2024-06-18T00:00:00.000000000",
          "2024-06-19T00:00:00.000000000",
          "2024-06-20T00:00:00.000000000",
          "2024-06-21T00:00:00.000000000",
          "2024-06-24T00:00:00.000000000",
          "2024-06-25T00:00:00.000000000",
          "2024-06-26T00:00:00.000000000",
          "2024-06-27T00:00:00.000000000",
          "2024-06-28T00:00:00.000000000",
          "2024-07-01T00:00:00.000000000",
          "2024-07-02T00:00:00.000000000",
          "2024-07-03T00:00:00.000000000",
          "2024-07-04T00:00:00.000000000",
          "2024-07-05T00:00:00.000000000",
          "2024-07-08T00:00:00.000000000",
          "2024-07-09T00:00:00.000000000",
          "2024-07-10T00:00:00.000000000",
          "2024-07-11T00:00:00.000000000",
          "2024-07-12T00:00:00.000000000",
          "2024-07-15T00:00:00.000000000",
          "2024-07-16T00:00:00.000000000",
          "2024-07-17T00:00:00.000000000",
          "2024-07-18T00:00:00.000000000",
          "2024-07-19T00:00:00.000000000",
          "2024-07-22T00:00:00.000000000",
          "2024-07-23T00:00:00.000000000",
          "2024-07-24T00:00:00.000000000",
          "2024-07-25T00:00:00.000000000",
          "2024-07-26T00:00:00.000000000",
          "2024-07-29T00:00:00.000000000",
          "2024-07-30T00:00:00.000000000",
          "2024-07-31T00:00:00.000000000",
          "2024-08-01T00:00:00.000000000",
          "2024-08-02T00:00:00.000000000",
          "2024-08-05T00:00:00.000000000",
          "2024-08-06T00:00:00.000000000",
          "2024-08-07T00:00:00.000000000",
          "2024-08-08T00:00:00.000000000",
          "2024-08-09T00:00:00.000000000",
          "2024-08-12T00:00:00.000000000",
          "2024-08-13T00:00:00.000000000",
          "2024-08-14T00:00:00.000000000",
          "2024-08-15T00:00:00.000000000",
          "2024-08-16T00:00:00.000000000",
          "2024-08-19T00:00:00.000000000",
          "2024-08-20T00:00:00.000000000",
          "2024-08-21T00:00:00.000000000",
          "2024-08-22T00:00:00.000000000",
          "2024-08-23T00:00:00.000000000",
          "2024-08-26T00:00:00.000000000",
          "2024-08-27T00:00:00.000000000",
          "2024-08-28T00:00:00.000000000",
          "2024-08-29T00:00:00.000000000",
          "2024-08-30T00:00:00.000000000",
          "2024-09-02T00:00:00.000000000",
          "2024-09-03T00:00:00.000000000",
          "2024-09-04T00:00:00.000000000",
          "2024-09-05T00:00:00.000000000",
          "2024-09-06T00:00:00.000000000",
          "2024-09-09T00:00:00.000000000",
          "2024-09-10T00:00:00.000000000",
          "2024-09-11T00:00:00.000000000",
          "2024-09-12T00:00:00.000000000",
          "2024-09-13T00:00:00.000000000",
          "2024-09-16T00:00:00.000000000",
          "2024-09-17T00:00:00.000000000",
          "2024-09-18T00:00:00.000000000",
          "2024-09-19T00:00:00.000000000",
          "2024-09-20T00:00:00.000000000",
          "2024-09-23T00:00:00.000000000",
          "2024-09-24T00:00:00.000000000",
          "2024-09-25T00:00:00.000000000",
          "2024-09-26T00:00:00.000000000",
          "2024-09-27T00:00:00.000000000",
          "2024-09-30T00:00:00.000000000",
          "2024-10-01T00:00:00.000000000",
          "2024-10-02T00:00:00.000000000",
          "2024-10-03T00:00:00.000000000",
          "2024-10-04T00:00:00.000000000",
          "2024-10-07T00:00:00.000000000",
          "2024-10-08T00:00:00.000000000",
          "2024-10-09T00:00:00.000000000",
          "2024-10-10T00:00:00.000000000",
          "2024-10-11T00:00:00.000000000",
          "2024-10-14T00:00:00.000000000",
          "2024-10-15T00:00:00.000000000",
          "2024-10-16T00:00:00.000000000",
          "2024-10-17T00:00:00.000000000",
          "2024-10-18T00:00:00.000000000",
          "2024-10-21T00:00:00.000000000",
          "2024-10-22T00:00:00.000000000",
          "2024-10-23T00:00:00.000000000",
          "2024-10-24T00:00:00.000000000",
          "2024-10-25T00:00:00.000000000",
          "2024-10-28T00:00:00.000000000",
          "2024-10-29T00:00:00.000000000",
          "2024-10-30T00:00:00.000000000",
          "2024-10-31T00:00:00.000000000",
          "2024-11-01T00:00:00.000000000",
          "2024-11-04T00:00:00.000000000",
          "2024-11-05T00:00:00.000000000",
          "2024-11-06T00:00:00.000000000",
          "2024-11-07T00:00:00.000000000",
          "2024-11-08T00:00:00.000000000",
          "2024-11-11T00:00:00.000000000",
          "2024-11-12T00:00:00.000000000",
          "2024-11-13T00:00:00.000000000",
          "2024-11-14T00:00:00.000000000",
          "2024-11-18T00:00:00.000000000",
          "2024-11-19T00:00:00.000000000",
          "2024-11-21T00:00:00.000000000",
          "2024-11-22T00:00:00.000000000",
          "2024-11-25T00:00:00.000000000",
          "2024-11-26T00:00:00.000000000",
          "2024-11-27T00:00:00.000000000",
          "2024-11-28T00:00:00.000000000",
          "2024-11-29T00:00:00.000000000",
          "2024-12-02T00:00:00.000000000",
          "2024-12-03T00:00:00.000000000",
          "2024-12-04T00:00:00.000000000",
          "2024-12-05T00:00:00.000000000",
          "2024-12-06T00:00:00.000000000",
          "2024-12-09T00:00:00.000000000",
          "2024-12-10T00:00:00.000000000",
          "2024-12-11T00:00:00.000000000",
          "2024-12-12T00:00:00.000000000",
          "2024-12-13T00:00:00.000000000",
          "2024-12-16T00:00:00.000000000",
          "2024-12-17T00:00:00.000000000",
          "2024-12-18T00:00:00.000000000",
          "2024-12-19T00:00:00.000000000",
          "2024-12-20T00:00:00.000000000",
          "2024-12-23T00:00:00.000000000",
          "2024-12-26T00:00:00.000000000",
          "2024-12-27T00:00:00.000000000",
          "2024-12-30T00:00:00.000000000",
          "2025-01-02T00:00:00.000000000",
          "2025-01-03T00:00:00.000000000",
          "2025-01-06T00:00:00.000000000",
          "2025-01-07T00:00:00.000000000",
          "2025-01-08T00:00:00.000000000",
          "2025-01-09T00:00:00.000000000",
          "2025-01-10T00:00:00.000000000",
          "2025-01-13T00:00:00.000000000",
          "2025-01-14T00:00:00.000000000",
          "2025-01-15T00:00:00.000000000",
          "2025-01-16T00:00:00.000000000",
          "2025-01-17T00:00:00.000000000",
          "2025-01-20T00:00:00.000000000",
          "2025-01-21T00:00:00.000000000",
          "2025-01-22T00:00:00.000000000",
          "2025-01-23T00:00:00.000000000",
          "2025-01-24T00:00:00.000000000",
          "2025-01-27T00:00:00.000000000",
          "2025-01-28T00:00:00.000000000",
          "2025-01-29T00:00:00.000000000",
          "2025-01-30T00:00:00.000000000",
          "2025-01-31T00:00:00.000000000",
          "2025-02-03T00:00:00.000000000",
          "2025-02-04T00:00:00.000000000",
          "2025-02-05T00:00:00.000000000",
          "2025-02-06T00:00:00.000000000",
          "2025-02-07T00:00:00.000000000",
          "2025-02-10T00:00:00.000000000",
          "2025-02-11T00:00:00.000000000",
          "2025-02-12T00:00:00.000000000",
          "2025-02-13T00:00:00.000000000",
          "2025-02-14T00:00:00.000000000",
          "2025-02-17T00:00:00.000000000",
          "2025-02-18T00:00:00.000000000",
          "2025-02-19T00:00:00.000000000",
          "2025-02-20T00:00:00.000000000",
          "2025-02-21T00:00:00.000000000",
          "2025-02-24T00:00:00.000000000",
          "2025-02-25T00:00:00.000000000",
          "2025-02-26T00:00:00.000000000",
          "2025-02-27T00:00:00.000000000",
          "2025-02-28T00:00:00.000000000",
          "2025-03-05T00:00:00.000000000",
          "2025-03-06T00:00:00.000000000",
          "2025-03-07T00:00:00.000000000",
          "2025-03-10T00:00:00.000000000",
          "2025-03-11T00:00:00.000000000",
          "2025-03-12T00:00:00.000000000",
          "2025-03-13T00:00:00.000000000",
          "2025-03-14T00:00:00.000000000",
          "2025-03-17T00:00:00.000000000",
          "2025-03-18T00:00:00.000000000",
          "2025-03-19T00:00:00.000000000",
          "2025-03-20T00:00:00.000000000",
          "2025-03-21T00:00:00.000000000",
          "2025-03-24T00:00:00.000000000",
          "2025-03-25T00:00:00.000000000",
          "2025-03-26T00:00:00.000000000",
          "2025-03-27T00:00:00.000000000",
          "2025-03-28T00:00:00.000000000",
          "2025-03-31T00:00:00.000000000",
          "2025-04-01T00:00:00.000000000",
          "2025-04-02T00:00:00.000000000",
          "2025-04-03T00:00:00.000000000",
          "2025-04-04T00:00:00.000000000",
          "2025-04-07T00:00:00.000000000",
          "2025-04-08T00:00:00.000000000",
          "2025-04-09T00:00:00.000000000",
          "2025-04-10T00:00:00.000000000",
          "2025-04-11T00:00:00.000000000",
          "2025-04-14T00:00:00.000000000",
          "2025-04-15T00:00:00.000000000",
          "2025-04-16T00:00:00.000000000",
          "2025-04-17T00:00:00.000000000",
          "2025-04-22T00:00:00.000000000",
          "2025-04-23T00:00:00.000000000",
          "2025-04-24T00:00:00.000000000",
          "2025-04-25T00:00:00.000000000",
          "2025-04-28T00:00:00.000000000",
          "2025-04-29T00:00:00.000000000",
          "2025-04-30T00:00:00.000000000",
          "2025-05-02T00:00:00.000000000",
          "2025-05-05T00:00:00.000000000",
          "2025-05-06T00:00:00.000000000",
          "2025-05-07T00:00:00.000000000",
          "2025-05-08T00:00:00.000000000",
          "2025-05-09T00:00:00.000000000",
          "2025-05-12T00:00:00.000000000",
          "2025-05-13T00:00:00.000000000",
          "2025-05-14T00:00:00.000000000",
          "2025-05-15T00:00:00.000000000",
          "2025-05-16T00:00:00.000000000",
          "2025-05-19T00:00:00.000000000",
          "2025-05-20T00:00:00.000000000",
          "2025-05-21T00:00:00.000000000",
          "2025-05-22T00:00:00.000000000",
          "2025-05-23T00:00:00.000000000",
          "2025-05-26T00:00:00.000000000",
          "2025-05-27T00:00:00.000000000",
          "2025-05-28T00:00:00.000000000",
          "2025-05-29T00:00:00.000000000",
          "2025-05-30T00:00:00.000000000",
          "2025-06-02T00:00:00.000000000",
          "2025-06-03T00:00:00.000000000",
          "2025-06-04T00:00:00.000000000",
          "2025-06-05T00:00:00.000000000",
          "2025-06-06T00:00:00.000000000",
          "2025-06-09T00:00:00.000000000",
          "2025-06-10T00:00:00.000000000",
          "2025-06-11T00:00:00.000000000",
          "2025-06-12T00:00:00.000000000",
          "2025-06-13T00:00:00.000000000",
          "2025-06-16T00:00:00.000000000",
          "2025-06-17T00:00:00.000000000",
          "2025-06-18T00:00:00.000000000",
          "2025-06-20T00:00:00.000000000",
          "2025-06-23T00:00:00.000000000",
          "2025-06-24T00:00:00.000000000",
          "2025-06-25T00:00:00.000000000",
          "2025-06-26T00:00:00.000000000",
          "2025-06-27T00:00:00.000000000",
          "2025-06-30T00:00:00.000000000",
          "2025-07-01T00:00:00.000000000",
          "2025-07-02T00:00:00.000000000",
          "2025-07-03T00:00:00.000000000",
          "2025-07-04T00:00:00.000000000",
          "2025-07-07T00:00:00.000000000",
          "2025-07-08T00:00:00.000000000",
          "2025-07-09T00:00:00.000000000",
          "2025-07-10T00:00:00.000000000",
          "2025-07-11T00:00:00.000000000",
          "2025-07-14T00:00:00.000000000",
          "2025-07-15T00:00:00.000000000",
          "2025-07-16T00:00:00.000000000",
          "2025-07-17T00:00:00.000000000",
          "2025-07-18T00:00:00.000000000",
          "2025-07-21T00:00:00.000000000",
          "2025-07-22T00:00:00.000000000",
          "2025-07-23T00:00:00.000000000",
          "2025-07-24T00:00:00.000000000",
          "2025-07-25T00:00:00.000000000",
          "2025-07-28T00:00:00.000000000",
          "2025-07-29T00:00:00.000000000",
          "2025-07-30T00:00:00.000000000",
          "2025-07-31T00:00:00.000000000",
          "2025-08-01T00:00:00.000000000",
          "2025-08-04T00:00:00.000000000",
          "2025-08-05T00:00:00.000000000",
          "2025-08-06T00:00:00.000000000",
          "2025-08-07T00:00:00.000000000",
          "2025-08-08T00:00:00.000000000",
          "2025-08-11T00:00:00.000000000",
          "2025-08-12T00:00:00.000000000",
          "2025-08-13T00:00:00.000000000",
          "2025-08-14T00:00:00.000000000",
          "2025-08-15T00:00:00.000000000",
          "2025-08-18T00:00:00.000000000",
          "2025-08-19T00:00:00.000000000",
          "2025-08-20T00:00:00.000000000",
          "2025-08-21T00:00:00.000000000",
          "2025-08-22T00:00:00.000000000",
          "2025-08-25T00:00:00.000000000",
          "2025-08-26T00:00:00.000000000",
          "2025-08-27T00:00:00.000000000",
          "2025-08-28T00:00:00.000000000",
          "2025-08-29T00:00:00.000000000",
          "2025-09-01T00:00:00.000000000",
          "2025-09-02T00:00:00.000000000",
          "2025-09-03T00:00:00.000000000",
          "2025-09-04T00:00:00.000000000",
          "2025-09-05T00:00:00.000000000",
          "2025-09-08T00:00:00.000000000",
          "2025-09-09T00:00:00.000000000",
          "2025-09-10T00:00:00.000000000",
          "2025-09-11T00:00:00.000000000",
          "2025-09-12T00:00:00.000000000",
          "2025-09-15T00:00:00.000000000",
          "2025-09-16T00:00:00.000000000",
          "2025-09-17T00:00:00.000000000",
          "2025-09-18T00:00:00.000000000",
          "2025-09-19T00:00:00.000000000",
          "2025-09-22T00:00:00.000000000",
          "2025-09-23T00:00:00.000000000",
          "2025-09-24T00:00:00.000000000",
          "2025-09-25T00:00:00.000000000",
          "2025-09-26T00:00:00.000000000",
          "2025-09-29T00:00:00.000000000",
          "2025-09-30T00:00:00.000000000",
          "2025-10-01T00:00:00.000000000",
          "2025-10-02T00:00:00.000000000",
          "2025-10-03T00:00:00.000000000",
          "2025-10-06T00:00:00.000000000",
          "2025-10-07T00:00:00.000000000",
          "2025-10-08T00:00:00.000000000",
          "2025-10-09T00:00:00.000000000",
          "2025-10-10T00:00:00.000000000",
          "2025-10-13T00:00:00.000000000",
          "2025-10-14T00:00:00.000000000",
          "2025-10-15T00:00:00.000000000",
          "2025-10-16T00:00:00.000000000",
          "2025-10-17T00:00:00.000000000"
         ],
         "y": {
          "bdata": "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",
          "dtype": "f8"
         },
         "yaxis": "y"
        }
       ],
       "layout": {
        "template": {
         "data": {
          "bar": [
           {
            "error_x": {
             "color": "#2a3f5f"
            },
            "error_y": {
             "color": "#2a3f5f"
            },
            "marker": {
             "line": {
              "color": "#E5ECF6",
              "width": 0.5
             },
             "pattern": {
              "fillmode": "overlay",
              "size": 10,
              "solidity": 0.2
             }
            },
            "type": "bar"
           }
          ],
          "barpolar": [
           {
            "marker": {
             "line": {
              "color": "#E5ECF6",
              "width": 0.5
             },
             "pattern": {
              "fillmode": "overlay",
              "size": 10,
              "solidity": 0.2
             }
            },
            "type": "barpolar"
           }
          ],
          "carpet": [
           {
            "aaxis": {
             "endlinecolor": "#2a3f5f",
             "gridcolor": "white",
             "linecolor": "white",
             "minorgridcolor": "white",
             "startlinecolor": "#2a3f5f"
            },
            "baxis": {
             "endlinecolor": "#2a3f5f",
             "gridcolor": "white",
             "linecolor": "white",
             "minorgridcolor": "white",
             "startlinecolor": "#2a3f5f"
            },
            "type": "carpet"
           }
          ],
          "choropleth": [
           {
            "colorbar": {
             "outlinewidth": 0,
             "ticks": ""
            },
            "type": "choropleth"
           }
          ],
          "contour": [
           {
            "colorbar": {
             "outlinewidth": 0,
             "ticks": ""
            },
            "colorscale": [
             [
              0,
              "#0d0887"
             ],
             [
              0.1111111111111111,
              "#46039f"
             ],
             [
              0.2222222222222222,
              "#7201a8"
             ],
             [
              0.3333333333333333,
              "#9c179e"
             ],
             [
              0.4444444444444444,
              "#bd3786"
             ],
             [
              0.5555555555555556,
              "#d8576b"
             ],
             [
              0.6666666666666666,
              "#ed7953"
             ],
             [
              0.7777777777777778,
              "#fb9f3a"
             ],
             [
              0.8888888888888888,
              "#fdca26"
             ],
             [
              1,
              "#f0f921"
             ]
            ],
            "type": "contour"
           }
          ],
          "contourcarpet": [
           {
            "colorbar": {
             "outlinewidth": 0,
             "ticks": ""
            },
            "type": "contourcarpet"
           }
          ],
          "heatmap": [
           {
            "colorbar": {
             "outlinewidth": 0,
             "ticks": ""
            },
            "colorscale": [
             [
              0,
              "#0d0887"
             ],
             [
              0.1111111111111111,
              "#46039f"
             ],
             [
              0.2222222222222222,
              "#7201a8"
             ],
             [
              0.3333333333333333,
              "#9c179e"
             ],
             [
              0.4444444444444444,
              "#bd3786"
             ],
             [
              0.5555555555555556,
              "#d8576b"
             ],
             [
              0.6666666666666666,
              "#ed7953"
             ],
             [
              0.7777777777777778,
              "#fb9f3a"
             ],
             [
              0.8888888888888888,
              "#fdca26"
             ],
             [
              1,
              "#f0f921"
             ]
            ],
            "type": "heatmap"
           }
          ],
          "histogram": [
           {
            "marker": {
             "pattern": {
              "fillmode": "overlay",
              "size": 10,
              "solidity": 0.2
             }
            },
            "type": "histogram"
           }
          ],
          "histogram2d": [
           {
            "colorbar": {
             "outlinewidth": 0,
             "ticks": ""
            },
            "colorscale": [
             [
              0,
              "#0d0887"
             ],
             [
              0.1111111111111111,
              "#46039f"
             ],
             [
              0.2222222222222222,
              "#7201a8"
             ],
             [
              0.3333333333333333,
              "#9c179e"
             ],
             [
              0.4444444444444444,
              "#bd3786"
             ],
             [
              0.5555555555555556,
              "#d8576b"
             ],
             [
              0.6666666666666666,
              "#ed7953"
             ],
             [
              0.7777777777777778,
              "#fb9f3a"
             ],
             [
              0.8888888888888888,
              "#fdca26"
             ],
             [
              1,
              "#f0f921"
             ]
            ],
            "type": "histogram2d"
           }
          ],
          "histogram2dcontour": [
           {
            "colorbar": {
             "outlinewidth": 0,
             "ticks": ""
            },
            "colorscale": [
             [
              0,
              "#0d0887"
             ],
             [
              0.1111111111111111,
              "#46039f"
             ],
             [
              0.2222222222222222,
              "#7201a8"
             ],
             [
              0.3333333333333333,
              "#9c179e"
             ],
             [
              0.4444444444444444,
              "#bd3786"
             ],
             [
              0.5555555555555556,
              "#d8576b"
             ],
             [
              0.6666666666666666,
              "#ed7953"
             ],
             [
              0.7777777777777778,
              "#fb9f3a"
             ],
             [
              0.8888888888888888,
              "#fdca26"
             ],
             [
              1,
              "#f0f921"
             ]
            ],
            "type": "histogram2dcontour"
           }
          ],
          "mesh3d": [
           {
            "colorbar": {
             "outlinewidth": 0,
             "ticks": ""
            },
            "type": "mesh3d"
           }
          ],
          "parcoords": [
           {
            "line": {
             "colorbar": {
              "outlinewidth": 0,
              "ticks": ""
             }
            },
            "type": "parcoords"
           }
          ],
          "pie": [
           {
            "automargin": true,
            "type": "pie"
           }
          ],
          "scatter": [
           {
            "fillpattern": {
             "fillmode": "overlay",
             "size": 10,
             "solidity": 0.2
            },
            "type": "scatter"
           }
          ],
          "scatter3d": [
           {
            "line": {
             "colorbar": {
              "outlinewidth": 0,
              "ticks": ""
             }
            },
            "marker": {
             "colorbar": {
              "outlinewidth": 0,
              "ticks": ""
             }
            },
            "type": "scatter3d"
           }
          ],
          "scattercarpet": [
           {
            "marker": {
             "colorbar": {
              "outlinewidth": 0,
              "ticks": ""
             }
            },
            "type": "scattercarpet"
           }
          ],
          "scattergeo": [
           {
            "marker": {
             "colorbar": {
              "outlinewidth": 0,
              "ticks": ""
             }
            },
            "type": "scattergeo"
           }
          ],
          "scattergl": [
           {
            "marker": {
             "colorbar": {
              "outlinewidth": 0,
              "ticks": ""
             }
            },
            "type": "scattergl"
           }
          ],
          "scattermap": [
           {
            "marker": {
             "colorbar": {
              "outlinewidth": 0,
              "ticks": ""
             }
            },
            "type": "scattermap"
           }
          ],
          "scattermapbox": [
           {
            "marker": {
             "colorbar": {
              "outlinewidth": 0,
              "ticks": ""
             }
            },
            "type": "scattermapbox"
           }
          ],
          "scatterpolar": [
           {
            "marker": {
             "colorbar": {
              "outlinewidth": 0,
              "ticks": ""
             }
            },
            "type": "scatterpolar"
           }
          ],
          "scatterpolargl": [
           {
            "marker": {
             "colorbar": {
              "outlinewidth": 0,
              "ticks": ""
             }
            },
            "type": "scatterpolargl"
           }
          ],
          "scatterternary": [
           {
            "marker": {
             "colorbar": {
              "outlinewidth": 0,
              "ticks": ""
             }
            },
            "type": "scatterternary"
           }
          ],
          "surface": [
           {
            "colorbar": {
             "outlinewidth": 0,
             "ticks": ""
            },
            "colorscale": [
             [
              0,
              "#0d0887"
             ],
             [
              0.1111111111111111,
              "#46039f"
             ],
             [
              0.2222222222222222,
              "#7201a8"
             ],
             [
              0.3333333333333333,
              "#9c179e"
             ],
             [
              0.4444444444444444,
              "#bd3786"
             ],
             [
              0.5555555555555556,
              "#d8576b"
             ],
             [
              0.6666666666666666,
              "#ed7953"
             ],
             [
              0.7777777777777778,
              "#fb9f3a"
             ],
             [
              0.8888888888888888,
              "#fdca26"
             ],
             [
              1,
              "#f0f921"
             ]
            ],
            "type": "surface"
           }
          ],
          "table": [
           {
            "cells": {
             "fill": {
              "color": "#EBF0F8"
             },
             "line": {
              "color": "white"
             }
            },
            "header": {
             "fill": {
              "color": "#C8D4E3"
             },
             "line": {
              "color": "white"
             }
            },
            "type": "table"
           }
          ]
         },
         "layout": {
          "annotationdefaults": {
           "arrowcolor": "#2a3f5f",
           "arrowhead": 0,
           "arrowwidth": 1
          },
          "autotypenumbers": "strict",
          "coloraxis": {
           "colorbar": {
            "outlinewidth": 0,
            "ticks": ""
           }
          },
          "colorscale": {
           "diverging": [
            [
             0,
             "#8e0152"
            ],
            [
             0.1,
             "#c51b7d"
            ],
            [
             0.2,
             "#de77ae"
            ],
            [
             0.3,
             "#f1b6da"
            ],
            [
             0.4,
             "#fde0ef"
            ],
            [
             0.5,
             "#f7f7f7"
            ],
            [
             0.6,
             "#e6f5d0"
            ],
            [
             0.7,
             "#b8e186"
            ],
            [
             0.8,
             "#7fbc41"
            ],
            [
             0.9,
             "#4d9221"
            ],
            [
             1,
             "#276419"
            ]
           ],
           "sequential": [
            [
             0,
             "#0d0887"
            ],
            [
             0.1111111111111111,
             "#46039f"
            ],
            [
             0.2222222222222222,
             "#7201a8"
            ],
            [
             0.3333333333333333,
             "#9c179e"
            ],
            [
             0.4444444444444444,
             "#bd3786"
            ],
            [
             0.5555555555555556,
             "#d8576b"
            ],
            [
             0.6666666666666666,
             "#ed7953"
            ],
            [
             0.7777777777777778,
             "#fb9f3a"
            ],
            [
             0.8888888888888888,
             "#fdca26"
            ],
            [
             1,
             "#f0f921"
            ]
           ],
           "sequentialminus": [
            [
             0,
             "#0d0887"
            ],
            [
             0.1111111111111111,
             "#46039f"
            ],
            [
             0.2222222222222222,
             "#7201a8"
            ],
            [
             0.3333333333333333,
             "#9c179e"
            ],
            [
             0.4444444444444444,
             "#bd3786"
            ],
            [
             0.5555555555555556,
             "#d8576b"
            ],
            [
             0.6666666666666666,
             "#ed7953"
            ],
            [
             0.7777777777777778,
             "#fb9f3a"
            ],
            [
             0.8888888888888888,
             "#fdca26"
            ],
            [
             1,
             "#f0f921"
            ]
           ]
          },
          "colorway": [
           "#636efa",
           "#EF553B",
           "#00cc96",
           "#ab63fa",
           "#FFA15A",
           "#19d3f3",
           "#FF6692",
           "#B6E880",
           "#FF97FF",
           "#FECB52"
          ],
          "font": {
           "color": "#2a3f5f"
          },
          "geo": {
           "bgcolor": "white",
           "lakecolor": "white",
           "landcolor": "#E5ECF6",
           "showlakes": true,
           "showland": true,
           "subunitcolor": "white"
          },
          "hoverlabel": {
           "align": "left"
          },
          "hovermode": "closest",
          "mapbox": {
           "style": "light"
          },
          "paper_bgcolor": "white",
          "plot_bgcolor": "#E5ECF6",
          "polar": {
           "angularaxis": {
            "gridcolor": "white",
            "linecolor": "white",
            "ticks": ""
           },
           "bgcolor": "#E5ECF6",
           "radialaxis": {
            "gridcolor": "white",
            "linecolor": "white",
            "ticks": ""
           }
          },
          "scene": {
           "xaxis": {
            "backgroundcolor": "#E5ECF6",
            "gridcolor": "white",
            "gridwidth": 2,
            "linecolor": "white",
            "showbackground": true,
            "ticks": "",
            "zerolinecolor": "white"
           },
           "yaxis": {
            "backgroundcolor": "#E5ECF6",
            "gridcolor": "white",
            "gridwidth": 2,
            "linecolor": "white",
            "showbackground": true,
            "ticks": "",
            "zerolinecolor": "white"
           },
           "zaxis": {
            "backgroundcolor": "#E5ECF6",
            "gridcolor": "white",
            "gridwidth": 2,
            "linecolor": "white",
            "showbackground": true,
            "ticks": "",
            "zerolinecolor": "white"
           }
          },
          "shapedefaults": {
           "line": {
            "color": "#2a3f5f"
           }
          },
          "ternary": {
           "aaxis": {
            "gridcolor": "white",
            "linecolor": "white",
            "ticks": ""
           },
           "baxis": {
            "gridcolor": "white",
            "linecolor": "white",
            "ticks": ""
           },
           "bgcolor": "#E5ECF6",
           "caxis": {
            "gridcolor": "white",
            "linecolor": "white",
            "ticks": ""
           }
          },
          "title": {
           "x": 0.05
          },
          "xaxis": {
           "automargin": true,
           "gridcolor": "white",
           "linecolor": "white",
           "ticks": "",
           "title": {
            "standoff": 15
           },
           "zerolinecolor": "white",
           "zerolinewidth": 2
          },
          "yaxis": {
           "automargin": true,
           "gridcolor": "white",
           "linecolor": "white",
           "ticks": "",
           "title": {
            "standoff": 15
           },
           "zerolinecolor": "white",
           "zerolinewidth": 2
          }
         }
        }
       }
      }
     },
     "metadata": {},
     "output_type": "display_data"
    }
   ],
   "source": [
    "fig = go.Figure()\n",
    "\n",
    "fig.add_trace(go.Scatter(\n",
    "    y=data[\"Close\"][\"PETR4.SA\"],\n",
    "    x=data.index,\n",
    "    name=\"Preço PETR4.SA\",\n",
    "    yaxis=\"y1\"\n",
    "))\n",
    "\n",
    "\n",
    "fig.show(fig_type=\"png\")"
   ]
  },
  {
   "cell_type": "code",
   "execution_count": 72,
   "id": "d01899f8",
   "metadata": {},
   "outputs": [],
   "source": [
    "np.random.seed(42)\n",
    "n_points = 1000\n",
    "trend = np.linspace(0, 10, n_points)\n",
    "noise_trend = np.cumsum(standard_normal(n_points) * 0.1)\n",
    "mean_reversion = np.zeros(n_points)\n",
    "for t in range(1, n_points):\n",
    "    mean_reversion[t] = mean_reversion[t-1] * 0.6 + standard_normal() * 0.5\n",
    "brownian = np.cumsum(standard_normal(n_points))"
   ]
  },
  {
   "cell_type": "code",
   "execution_count": 73,
   "id": "77aea94b",
   "metadata": {},
   "outputs": [
    {
     "data": {
      "text/plain": [
       "(0.6419241912818302, 0.000952023886777138)"
      ]
     },
     "execution_count": 73,
     "metadata": {},
     "output_type": "execute_result"
    }
   ],
   "source": [
    "hurst_exponent(noise_trend)"
   ]
  },
  {
   "cell_type": "code",
   "execution_count": 74,
   "id": "df47c202",
   "metadata": {},
   "outputs": [
    {
     "data": {
      "text/plain": [
       "(0.3685698852341455, 0.05402692976986088)"
      ]
     },
     "execution_count": 74,
     "metadata": {},
     "output_type": "execute_result"
    }
   ],
   "source": [
    "hurst_exponent(mean_reversion)"
   ]
  },
  {
   "cell_type": "code",
   "execution_count": 75,
   "id": "c80e44d7",
   "metadata": {},
   "outputs": [
    {
     "data": {
      "text/plain": [
       "(0.8575205638768405, 0.0014654668633357023)"
      ]
     },
     "execution_count": 75,
     "metadata": {},
     "output_type": "execute_result"
    }
   ],
   "source": [
    "hurst_exponent(pure_sine)"
   ]
  }
 ],
 "metadata": {
  "kernelspec": {
   "display_name": "tinyshift",
   "language": "python",
   "name": "python3"
  },
  "language_info": {
   "codemirror_mode": {
    "name": "ipython",
    "version": 3
   },
   "file_extension": ".py",
   "mimetype": "text/x-python",
   "name": "python",
   "nbconvert_exporter": "python",
   "pygments_lexer": "ipython3",
   "version": "3.12.3"
  }
 },
 "nbformat": 4,
 "nbformat_minor": 5
}
