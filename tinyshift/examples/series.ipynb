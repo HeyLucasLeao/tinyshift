{
 "cells": [
  {
   "cell_type": "code",
   "execution_count": 2,
   "id": "f56fe688",
   "metadata": {},
   "outputs": [],
   "source": [
    "import sys\n",
    "import os\n",
    "sys.path.append(os.path.abspath(\"../..\"))\n",
    "import numpy as np\n",
    "import yfinance as yf\n",
    "import plotly.express as px\n",
    "from tinyshift.series import relative_strength_index, entropy_volatility, bollinger_bands, adi_cv, foreca, maximum_achievable_accuracy, sample_entropy, hampel_filter, hurst_exponent\n",
    "from numpy.random import standard_normal"
   ]
  },
  {
   "cell_type": "code",
   "execution_count": 3,
   "id": "3e5496d5",
   "metadata": {},
   "outputs": [
    {
     "name": "stderr",
     "output_type": "stream",
     "text": [
      "[*********************100%***********************]  1 of 1 completed\n"
     ]
    }
   ],
   "source": [
    "ticker = 'PETR4.SA'\n",
    "period = '2y'\n",
    "data = yf.download(ticker, period=period, interval=\"1d\", auto_adjust=True)\n",
    "t = np.linspace(0, 10, 1000)\n",
    "pure_sine = np.sin(2 * np.pi * 1 * t)  # Perfectly forecastable"
   ]
  },
  {
   "cell_type": "code",
   "execution_count": 4,
   "id": "98b6bb91",
   "metadata": {},
   "outputs": [],
   "source": [
    "x = np.asarray(data[\"Close\"][\"PETR4.SA\"], dtype=np.float64)\n",
    "returns  = np.log(x / np.roll(x, 1))\n",
    "mean = np.mean(returns)\n",
    "std = np.std(returns)\n",
    "norm = (returns - mean) / std #normalized returns"
   ]
  },
  {
   "cell_type": "markdown",
   "id": "20d495d4",
   "metadata": {},
   "source": [
    "# RSI"
   ]
  },
  {
   "cell_type": "code",
   "execution_count": 5,
   "id": "6ae9593c",
   "metadata": {},
   "outputs": [],
   "source": [
    "vol_rsi = relative_strength_index(data[\"Close\"][\"PETR4.SA\"], rolling_window=14)"
   ]
  },
  {
   "cell_type": "code",
   "execution_count": 6,
   "id": "f05842ae",
   "metadata": {},
   "outputs": [
    {
     "data": {
      "application/vnd.plotly.v1+json": {
       "config": {
        "plotlyServerURL": "https://plot.ly"
       },
       "data": [
        {
         "hovertemplate": "variable=0<br>index=%{x}<br>value=%{y}<extra></extra>",
         "legendgroup": "0",
         "line": {
          "color": "#636efa",
          "dash": "solid"
         },
         "marker": {
          "symbol": "circle"
         },
         "mode": "lines",
         "name": "0",
         "orientation": "v",
         "showlegend": true,
         "type": "scatter",
         "x": {
          "bdata": "AAABAAIAAwAEAAUABgAHAAgACQAKAAsADAANAA4ADwAQABEAEgATABQAFQAWABcAGAAZABoAGwAcAB0AHgAfACAAIQAiACMAJAAlACYAJwAoACkAKgArACwALQAuAC8AMAAxADIAMwA0ADUANgA3ADgAOQA6ADsAPAA9AD4APwBAAEEAQgBDAEQARQBGAEcASABJAEoASwBMAE0ATgBPAFAAUQBSAFMAVABVAFYAVwBYAFkAWgBbAFwAXQBeAF8AYABhAGIAYwBkAGUAZgBnAGgAaQBqAGsAbABtAG4AbwBwAHEAcgBzAHQAdQB2AHcAeAB5AHoAewB8AH0AfgB/AIAAgQCCAIMAhACFAIYAhwCIAIkAigCLAIwAjQCOAI8AkACRAJIAkwCUAJUAlgCXAJgAmQCaAJsAnACdAJ4AnwCgAKEAogCjAKQApQCmAKcAqACpAKoAqwCsAK0ArgCvALAAsQCyALMAtAC1ALYAtwC4ALkAugC7ALwAvQC+AL8AwADBAMIAwwDEAMUAxgDHAMgAyQDKAMsAzADNAM4AzwDQANEA0gDTANQA1QDWANcA2ADZANoA2wDcAN0A3gDfAOAA4QDiAOMA5ADlAOYA5wDoAOkA6gDrAOwA7QDuAO8A8ADxAPIA8wD0APUA9gD3APgA+QD6APsA/AD9AP4A/wAAAQEBAgEDAQQBBQEGAQcBCAEJAQoBCwEMAQ0BDgEPARABEQESARMBFAEVARYBFwEYARkBGgEbARwBHQEeAR8BIAEhASIBIwEkASUBJgEnASgBKQEqASsBLAEtAS4BLwEwATEBMgEzATQBNQE2ATcBOAE5AToBOwE8AT0BPgE/AUABQQFCAUMBRAFFAUYBRwFIAUkBSgFLAUwBTQFOAU8BUAFRAVIBUwFUAVUBVgFXAVgBWQFaAVsBXAFdAV4BXwFgAWEBYgFjAWQBZQFmAWcBaAFpAWoBawFsAW0BbgFvAXABcQFyAXMBdAF1AXYBdwF4AXkBegF7AXwBfQF+AX8BgAGBAYIBgwGEAYUBhgGHAYgBiQGKAYsBjAGNAY4BjwGQAZEBkgGTAZQBlQGWAZcBmAGZAZoBmwGcAZ0BngGfAaABoQGiAaMBpAGlAaYBpwGoAakBqgGrAawBrQGuAa8BsAGxAbIBswG0AbUBtgG3AbgBuQG6AbsBvAG9Ab4BvwHAAcEBwgHDAcQBxQHGAccByAHJAcoBywHMAc0BzgHPAdAB0QHSAdMB1AHVAdYB1wHYAdkB2gHbAdwB3QHeAd8B4AHhAeIB4wHkAeUB5gHnAegB6QHqAesB7AHtAe4B7wHwAfEB8gHzAfQB",
          "dtype": "i2"
         },
         "xaxis": "x",
         "y": {
          "bdata": "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",
          "dtype": "f8"
         },
         "yaxis": "y"
        }
       ],
       "layout": {
        "legend": {
         "title": {
          "text": "variable"
         },
         "tracegroupgap": 0
        },
        "template": {
         "data": {
          "bar": [
           {
            "error_x": {
             "color": "#2a3f5f"
            },
            "error_y": {
             "color": "#2a3f5f"
            },
            "marker": {
             "line": {
              "color": "#E5ECF6",
              "width": 0.5
             },
             "pattern": {
              "fillmode": "overlay",
              "size": 10,
              "solidity": 0.2
             }
            },
            "type": "bar"
           }
          ],
          "barpolar": [
           {
            "marker": {
             "line": {
              "color": "#E5ECF6",
              "width": 0.5
             },
             "pattern": {
              "fillmode": "overlay",
              "size": 10,
              "solidity": 0.2
             }
            },
            "type": "barpolar"
           }
          ],
          "carpet": [
           {
            "aaxis": {
             "endlinecolor": "#2a3f5f",
             "gridcolor": "white",
             "linecolor": "white",
             "minorgridcolor": "white",
             "startlinecolor": "#2a3f5f"
            },
            "baxis": {
             "endlinecolor": "#2a3f5f",
             "gridcolor": "white",
             "linecolor": "white",
             "minorgridcolor": "white",
             "startlinecolor": "#2a3f5f"
            },
            "type": "carpet"
           }
          ],
          "choropleth": [
           {
            "colorbar": {
             "outlinewidth": 0,
             "ticks": ""
            },
            "type": "choropleth"
           }
          ],
          "contour": [
           {
            "colorbar": {
             "outlinewidth": 0,
             "ticks": ""
            },
            "colorscale": [
             [
              0,
              "#0d0887"
             ],
             [
              0.1111111111111111,
              "#46039f"
             ],
             [
              0.2222222222222222,
              "#7201a8"
             ],
             [
              0.3333333333333333,
              "#9c179e"
             ],
             [
              0.4444444444444444,
              "#bd3786"
             ],
             [
              0.5555555555555556,
              "#d8576b"
             ],
             [
              0.6666666666666666,
              "#ed7953"
             ],
             [
              0.7777777777777778,
              "#fb9f3a"
             ],
             [
              0.8888888888888888,
              "#fdca26"
             ],
             [
              1,
              "#f0f921"
             ]
            ],
            "type": "contour"
           }
          ],
          "contourcarpet": [
           {
            "colorbar": {
             "outlinewidth": 0,
             "ticks": ""
            },
            "type": "contourcarpet"
           }
          ],
          "heatmap": [
           {
            "colorbar": {
             "outlinewidth": 0,
             "ticks": ""
            },
            "colorscale": [
             [
              0,
              "#0d0887"
             ],
             [
              0.1111111111111111,
              "#46039f"
             ],
             [
              0.2222222222222222,
              "#7201a8"
             ],
             [
              0.3333333333333333,
              "#9c179e"
             ],
             [
              0.4444444444444444,
              "#bd3786"
             ],
             [
              0.5555555555555556,
              "#d8576b"
             ],
             [
              0.6666666666666666,
              "#ed7953"
             ],
             [
              0.7777777777777778,
              "#fb9f3a"
             ],
             [
              0.8888888888888888,
              "#fdca26"
             ],
             [
              1,
              "#f0f921"
             ]
            ],
            "type": "heatmap"
           }
          ],
          "histogram": [
           {
            "marker": {
             "pattern": {
              "fillmode": "overlay",
              "size": 10,
              "solidity": 0.2
             }
            },
            "type": "histogram"
           }
          ],
          "histogram2d": [
           {
            "colorbar": {
             "outlinewidth": 0,
             "ticks": ""
            },
            "colorscale": [
             [
              0,
              "#0d0887"
             ],
             [
              0.1111111111111111,
              "#46039f"
             ],
             [
              0.2222222222222222,
              "#7201a8"
             ],
             [
              0.3333333333333333,
              "#9c179e"
             ],
             [
              0.4444444444444444,
              "#bd3786"
             ],
             [
              0.5555555555555556,
              "#d8576b"
             ],
             [
              0.6666666666666666,
              "#ed7953"
             ],
             [
              0.7777777777777778,
              "#fb9f3a"
             ],
             [
              0.8888888888888888,
              "#fdca26"
             ],
             [
              1,
              "#f0f921"
             ]
            ],
            "type": "histogram2d"
           }
          ],
          "histogram2dcontour": [
           {
            "colorbar": {
             "outlinewidth": 0,
             "ticks": ""
            },
            "colorscale": [
             [
              0,
              "#0d0887"
             ],
             [
              0.1111111111111111,
              "#46039f"
             ],
             [
              0.2222222222222222,
              "#7201a8"
             ],
             [
              0.3333333333333333,
              "#9c179e"
             ],
             [
              0.4444444444444444,
              "#bd3786"
             ],
             [
              0.5555555555555556,
              "#d8576b"
             ],
             [
              0.6666666666666666,
              "#ed7953"
             ],
             [
              0.7777777777777778,
              "#fb9f3a"
             ],
             [
              0.8888888888888888,
              "#fdca26"
             ],
             [
              1,
              "#f0f921"
             ]
            ],
            "type": "histogram2dcontour"
           }
          ],
          "mesh3d": [
           {
            "colorbar": {
             "outlinewidth": 0,
             "ticks": ""
            },
            "type": "mesh3d"
           }
          ],
          "parcoords": [
           {
            "line": {
             "colorbar": {
              "outlinewidth": 0,
              "ticks": ""
             }
            },
            "type": "parcoords"
           }
          ],
          "pie": [
           {
            "automargin": true,
            "type": "pie"
           }
          ],
          "scatter": [
           {
            "fillpattern": {
             "fillmode": "overlay",
             "size": 10,
             "solidity": 0.2
            },
            "type": "scatter"
           }
          ],
          "scatter3d": [
           {
            "line": {
             "colorbar": {
              "outlinewidth": 0,
              "ticks": ""
             }
            },
            "marker": {
             "colorbar": {
              "outlinewidth": 0,
              "ticks": ""
             }
            },
            "type": "scatter3d"
           }
          ],
          "scattercarpet": [
           {
            "marker": {
             "colorbar": {
              "outlinewidth": 0,
              "ticks": ""
             }
            },
            "type": "scattercarpet"
           }
          ],
          "scattergeo": [
           {
            "marker": {
             "colorbar": {
              "outlinewidth": 0,
              "ticks": ""
             }
            },
            "type": "scattergeo"
           }
          ],
          "scattergl": [
           {
            "marker": {
             "colorbar": {
              "outlinewidth": 0,
              "ticks": ""
             }
            },
            "type": "scattergl"
           }
          ],
          "scattermap": [
           {
            "marker": {
             "colorbar": {
              "outlinewidth": 0,
              "ticks": ""
             }
            },
            "type": "scattermap"
           }
          ],
          "scattermapbox": [
           {
            "marker": {
             "colorbar": {
              "outlinewidth": 0,
              "ticks": ""
             }
            },
            "type": "scattermapbox"
           }
          ],
          "scatterpolar": [
           {
            "marker": {
             "colorbar": {
              "outlinewidth": 0,
              "ticks": ""
             }
            },
            "type": "scatterpolar"
           }
          ],
          "scatterpolargl": [
           {
            "marker": {
             "colorbar": {
              "outlinewidth": 0,
              "ticks": ""
             }
            },
            "type": "scatterpolargl"
           }
          ],
          "scatterternary": [
           {
            "marker": {
             "colorbar": {
              "outlinewidth": 0,
              "ticks": ""
             }
            },
            "type": "scatterternary"
           }
          ],
          "surface": [
           {
            "colorbar": {
             "outlinewidth": 0,
             "ticks": ""
            },
            "colorscale": [
             [
              0,
              "#0d0887"
             ],
             [
              0.1111111111111111,
              "#46039f"
             ],
             [
              0.2222222222222222,
              "#7201a8"
             ],
             [
              0.3333333333333333,
              "#9c179e"
             ],
             [
              0.4444444444444444,
              "#bd3786"
             ],
             [
              0.5555555555555556,
              "#d8576b"
             ],
             [
              0.6666666666666666,
              "#ed7953"
             ],
             [
              0.7777777777777778,
              "#fb9f3a"
             ],
             [
              0.8888888888888888,
              "#fdca26"
             ],
             [
              1,
              "#f0f921"
             ]
            ],
            "type": "surface"
           }
          ],
          "table": [
           {
            "cells": {
             "fill": {
              "color": "#EBF0F8"
             },
             "line": {
              "color": "white"
             }
            },
            "header": {
             "fill": {
              "color": "#C8D4E3"
             },
             "line": {
              "color": "white"
             }
            },
            "type": "table"
           }
          ]
         },
         "layout": {
          "annotationdefaults": {
           "arrowcolor": "#2a3f5f",
           "arrowhead": 0,
           "arrowwidth": 1
          },
          "autotypenumbers": "strict",
          "coloraxis": {
           "colorbar": {
            "outlinewidth": 0,
            "ticks": ""
           }
          },
          "colorscale": {
           "diverging": [
            [
             0,
             "#8e0152"
            ],
            [
             0.1,
             "#c51b7d"
            ],
            [
             0.2,
             "#de77ae"
            ],
            [
             0.3,
             "#f1b6da"
            ],
            [
             0.4,
             "#fde0ef"
            ],
            [
             0.5,
             "#f7f7f7"
            ],
            [
             0.6,
             "#e6f5d0"
            ],
            [
             0.7,
             "#b8e186"
            ],
            [
             0.8,
             "#7fbc41"
            ],
            [
             0.9,
             "#4d9221"
            ],
            [
             1,
             "#276419"
            ]
           ],
           "sequential": [
            [
             0,
             "#0d0887"
            ],
            [
             0.1111111111111111,
             "#46039f"
            ],
            [
             0.2222222222222222,
             "#7201a8"
            ],
            [
             0.3333333333333333,
             "#9c179e"
            ],
            [
             0.4444444444444444,
             "#bd3786"
            ],
            [
             0.5555555555555556,
             "#d8576b"
            ],
            [
             0.6666666666666666,
             "#ed7953"
            ],
            [
             0.7777777777777778,
             "#fb9f3a"
            ],
            [
             0.8888888888888888,
             "#fdca26"
            ],
            [
             1,
             "#f0f921"
            ]
           ],
           "sequentialminus": [
            [
             0,
             "#0d0887"
            ],
            [
             0.1111111111111111,
             "#46039f"
            ],
            [
             0.2222222222222222,
             "#7201a8"
            ],
            [
             0.3333333333333333,
             "#9c179e"
            ],
            [
             0.4444444444444444,
             "#bd3786"
            ],
            [
             0.5555555555555556,
             "#d8576b"
            ],
            [
             0.6666666666666666,
             "#ed7953"
            ],
            [
             0.7777777777777778,
             "#fb9f3a"
            ],
            [
             0.8888888888888888,
             "#fdca26"
            ],
            [
             1,
             "#f0f921"
            ]
           ]
          },
          "colorway": [
           "#636efa",
           "#EF553B",
           "#00cc96",
           "#ab63fa",
           "#FFA15A",
           "#19d3f3",
           "#FF6692",
           "#B6E880",
           "#FF97FF",
           "#FECB52"
          ],
          "font": {
           "color": "#2a3f5f"
          },
          "geo": {
           "bgcolor": "white",
           "lakecolor": "white",
           "landcolor": "#E5ECF6",
           "showlakes": true,
           "showland": true,
           "subunitcolor": "white"
          },
          "hoverlabel": {
           "align": "left"
          },
          "hovermode": "closest",
          "mapbox": {
           "style": "light"
          },
          "paper_bgcolor": "white",
          "plot_bgcolor": "#E5ECF6",
          "polar": {
           "angularaxis": {
            "gridcolor": "white",
            "linecolor": "white",
            "ticks": ""
           },
           "bgcolor": "#E5ECF6",
           "radialaxis": {
            "gridcolor": "white",
            "linecolor": "white",
            "ticks": ""
           }
          },
          "scene": {
           "xaxis": {
            "backgroundcolor": "#E5ECF6",
            "gridcolor": "white",
            "gridwidth": 2,
            "linecolor": "white",
            "showbackground": true,
            "ticks": "",
            "zerolinecolor": "white"
           },
           "yaxis": {
            "backgroundcolor": "#E5ECF6",
            "gridcolor": "white",
            "gridwidth": 2,
            "linecolor": "white",
            "showbackground": true,
            "ticks": "",
            "zerolinecolor": "white"
           },
           "zaxis": {
            "backgroundcolor": "#E5ECF6",
            "gridcolor": "white",
            "gridwidth": 2,
            "linecolor": "white",
            "showbackground": true,
            "ticks": "",
            "zerolinecolor": "white"
           }
          },
          "shapedefaults": {
           "line": {
            "color": "#2a3f5f"
           }
          },
          "ternary": {
           "aaxis": {
            "gridcolor": "white",
            "linecolor": "white",
            "ticks": ""
           },
           "baxis": {
            "gridcolor": "white",
            "linecolor": "white",
            "ticks": ""
           },
           "bgcolor": "#E5ECF6",
           "caxis": {
            "gridcolor": "white",
            "linecolor": "white",
            "ticks": ""
           }
          },
          "title": {
           "x": 0.05
          },
          "xaxis": {
           "automargin": true,
           "gridcolor": "white",
           "linecolor": "white",
           "ticks": "",
           "title": {
            "standoff": 15
           },
           "zerolinecolor": "white",
           "zerolinewidth": 2
          },
          "yaxis": {
           "automargin": true,
           "gridcolor": "white",
           "linecolor": "white",
           "ticks": "",
           "title": {
            "standoff": 15
           },
           "zerolinecolor": "white",
           "zerolinewidth": 2
          }
         }
        },
        "title": {
         "text": "PETR4.SA Closing Prices"
        },
        "xaxis": {
         "anchor": "y",
         "domain": [
          0,
          1
         ],
         "title": {
          "text": "index"
         }
        },
        "yaxis": {
         "anchor": "x",
         "domain": [
          0,
          1
         ],
         "title": {
          "text": "value"
         }
        }
       }
      }
     },
     "metadata": {},
     "output_type": "display_data"
    }
   ],
   "source": [
    "px.line(vol_rsi, title=f\"{ticker} Closing Prices\").show(fig_type=\"png\")"
   ]
  },
  {
   "cell_type": "markdown",
   "id": "dea4f795",
   "metadata": {},
   "source": [
    "# Entropy Volatility"
   ]
  },
  {
   "cell_type": "code",
   "execution_count": 7,
   "id": "3a839c52",
   "metadata": {},
   "outputs": [],
   "source": [
    "vol_ent = entropy_volatility(norm, rolling_window=30)"
   ]
  },
  {
   "cell_type": "code",
   "execution_count": 8,
   "id": "3bc31ec1",
   "metadata": {},
   "outputs": [
    {
     "data": {
      "application/vnd.plotly.v1+json": {
       "config": {
        "plotlyServerURL": "https://plot.ly"
       },
       "data": [
        {
         "hovertemplate": "variable=0<br>index=%{x}<br>value=%{y}<extra></extra>",
         "legendgroup": "0",
         "line": {
          "color": "#636efa",
          "dash": "solid"
         },
         "marker": {
          "symbol": "circle"
         },
         "mode": "lines",
         "name": "0",
         "orientation": "v",
         "showlegend": true,
         "type": "scatter",
         "x": {
          "bdata": "AAABAAIAAwAEAAUABgAHAAgACQAKAAsADAANAA4ADwAQABEAEgATABQAFQAWABcAGAAZABoAGwAcAB0AHgAfACAAIQAiACMAJAAlACYAJwAoACkAKgArACwALQAuAC8AMAAxADIAMwA0ADUANgA3ADgAOQA6ADsAPAA9AD4APwBAAEEAQgBDAEQARQBGAEcASABJAEoASwBMAE0ATgBPAFAAUQBSAFMAVABVAFYAVwBYAFkAWgBbAFwAXQBeAF8AYABhAGIAYwBkAGUAZgBnAGgAaQBqAGsAbABtAG4AbwBwAHEAcgBzAHQAdQB2AHcAeAB5AHoAewB8AH0AfgB/AIAAgQCCAIMAhACFAIYAhwCIAIkAigCLAIwAjQCOAI8AkACRAJIAkwCUAJUAlgCXAJgAmQCaAJsAnACdAJ4AnwCgAKEAogCjAKQApQCmAKcAqACpAKoAqwCsAK0ArgCvALAAsQCyALMAtAC1ALYAtwC4ALkAugC7ALwAvQC+AL8AwADBAMIAwwDEAMUAxgDHAMgAyQDKAMsAzADNAM4AzwDQANEA0gDTANQA1QDWANcA2ADZANoA2wDcAN0A3gDfAOAA4QDiAOMA5ADlAOYA5wDoAOkA6gDrAOwA7QDuAO8A8ADxAPIA8wD0APUA9gD3APgA+QD6APsA/AD9AP4A/wAAAQEBAgEDAQQBBQEGAQcBCAEJAQoBCwEMAQ0BDgEPARABEQESARMBFAEVARYBFwEYARkBGgEbARwBHQEeAR8BIAEhASIBIwEkASUBJgEnASgBKQEqASsBLAEtAS4BLwEwATEBMgEzATQBNQE2ATcBOAE5AToBOwE8AT0BPgE/AUABQQFCAUMBRAFFAUYBRwFIAUkBSgFLAUwBTQFOAU8BUAFRAVIBUwFUAVUBVgFXAVgBWQFaAVsBXAFdAV4BXwFgAWEBYgFjAWQBZQFmAWcBaAFpAWoBawFsAW0BbgFvAXABcQFyAXMBdAF1AXYBdwF4AXkBegF7AXwBfQF+AX8BgAGBAYIBgwGEAYUBhgGHAYgBiQGKAYsBjAGNAY4BjwGQAZEBkgGTAZQBlQGWAZcBmAGZAZoBmwGcAZ0BngGfAaABoQGiAaMBpAGlAaYBpwGoAakBqgGrAawBrQGuAa8BsAGxAbIBswG0AbUBtgG3AbgBuQG6AbsBvAG9Ab4BvwHAAcEBwgHDAcQBxQHGAccByAHJAcoBywHMAc0BzgHPAdAB0QHSAdMB1AHVAQ==",
          "dtype": "i2"
         },
         "xaxis": "x",
         "y": {
          "bdata": "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",
          "dtype": "f8"
         },
         "yaxis": "y"
        }
       ],
       "layout": {
        "legend": {
         "title": {
          "text": "variable"
         },
         "tracegroupgap": 0
        },
        "template": {
         "data": {
          "bar": [
           {
            "error_x": {
             "color": "#2a3f5f"
            },
            "error_y": {
             "color": "#2a3f5f"
            },
            "marker": {
             "line": {
              "color": "#E5ECF6",
              "width": 0.5
             },
             "pattern": {
              "fillmode": "overlay",
              "size": 10,
              "solidity": 0.2
             }
            },
            "type": "bar"
           }
          ],
          "barpolar": [
           {
            "marker": {
             "line": {
              "color": "#E5ECF6",
              "width": 0.5
             },
             "pattern": {
              "fillmode": "overlay",
              "size": 10,
              "solidity": 0.2
             }
            },
            "type": "barpolar"
           }
          ],
          "carpet": [
           {
            "aaxis": {
             "endlinecolor": "#2a3f5f",
             "gridcolor": "white",
             "linecolor": "white",
             "minorgridcolor": "white",
             "startlinecolor": "#2a3f5f"
            },
            "baxis": {
             "endlinecolor": "#2a3f5f",
             "gridcolor": "white",
             "linecolor": "white",
             "minorgridcolor": "white",
             "startlinecolor": "#2a3f5f"
            },
            "type": "carpet"
           }
          ],
          "choropleth": [
           {
            "colorbar": {
             "outlinewidth": 0,
             "ticks": ""
            },
            "type": "choropleth"
           }
          ],
          "contour": [
           {
            "colorbar": {
             "outlinewidth": 0,
             "ticks": ""
            },
            "colorscale": [
             [
              0,
              "#0d0887"
             ],
             [
              0.1111111111111111,
              "#46039f"
             ],
             [
              0.2222222222222222,
              "#7201a8"
             ],
             [
              0.3333333333333333,
              "#9c179e"
             ],
             [
              0.4444444444444444,
              "#bd3786"
             ],
             [
              0.5555555555555556,
              "#d8576b"
             ],
             [
              0.6666666666666666,
              "#ed7953"
             ],
             [
              0.7777777777777778,
              "#fb9f3a"
             ],
             [
              0.8888888888888888,
              "#fdca26"
             ],
             [
              1,
              "#f0f921"
             ]
            ],
            "type": "contour"
           }
          ],
          "contourcarpet": [
           {
            "colorbar": {
             "outlinewidth": 0,
             "ticks": ""
            },
            "type": "contourcarpet"
           }
          ],
          "heatmap": [
           {
            "colorbar": {
             "outlinewidth": 0,
             "ticks": ""
            },
            "colorscale": [
             [
              0,
              "#0d0887"
             ],
             [
              0.1111111111111111,
              "#46039f"
             ],
             [
              0.2222222222222222,
              "#7201a8"
             ],
             [
              0.3333333333333333,
              "#9c179e"
             ],
             [
              0.4444444444444444,
              "#bd3786"
             ],
             [
              0.5555555555555556,
              "#d8576b"
             ],
             [
              0.6666666666666666,
              "#ed7953"
             ],
             [
              0.7777777777777778,
              "#fb9f3a"
             ],
             [
              0.8888888888888888,
              "#fdca26"
             ],
             [
              1,
              "#f0f921"
             ]
            ],
            "type": "heatmap"
           }
          ],
          "histogram": [
           {
            "marker": {
             "pattern": {
              "fillmode": "overlay",
              "size": 10,
              "solidity": 0.2
             }
            },
            "type": "histogram"
           }
          ],
          "histogram2d": [
           {
            "colorbar": {
             "outlinewidth": 0,
             "ticks": ""
            },
            "colorscale": [
             [
              0,
              "#0d0887"
             ],
             [
              0.1111111111111111,
              "#46039f"
             ],
             [
              0.2222222222222222,
              "#7201a8"
             ],
             [
              0.3333333333333333,
              "#9c179e"
             ],
             [
              0.4444444444444444,
              "#bd3786"
             ],
             [
              0.5555555555555556,
              "#d8576b"
             ],
             [
              0.6666666666666666,
              "#ed7953"
             ],
             [
              0.7777777777777778,
              "#fb9f3a"
             ],
             [
              0.8888888888888888,
              "#fdca26"
             ],
             [
              1,
              "#f0f921"
             ]
            ],
            "type": "histogram2d"
           }
          ],
          "histogram2dcontour": [
           {
            "colorbar": {
             "outlinewidth": 0,
             "ticks": ""
            },
            "colorscale": [
             [
              0,
              "#0d0887"
             ],
             [
              0.1111111111111111,
              "#46039f"
             ],
             [
              0.2222222222222222,
              "#7201a8"
             ],
             [
              0.3333333333333333,
              "#9c179e"
             ],
             [
              0.4444444444444444,
              "#bd3786"
             ],
             [
              0.5555555555555556,
              "#d8576b"
             ],
             [
              0.6666666666666666,
              "#ed7953"
             ],
             [
              0.7777777777777778,
              "#fb9f3a"
             ],
             [
              0.8888888888888888,
              "#fdca26"
             ],
             [
              1,
              "#f0f921"
             ]
            ],
            "type": "histogram2dcontour"
           }
          ],
          "mesh3d": [
           {
            "colorbar": {
             "outlinewidth": 0,
             "ticks": ""
            },
            "type": "mesh3d"
           }
          ],
          "parcoords": [
           {
            "line": {
             "colorbar": {
              "outlinewidth": 0,
              "ticks": ""
             }
            },
            "type": "parcoords"
           }
          ],
          "pie": [
           {
            "automargin": true,
            "type": "pie"
           }
          ],
          "scatter": [
           {
            "fillpattern": {
             "fillmode": "overlay",
             "size": 10,
             "solidity": 0.2
            },
            "type": "scatter"
           }
          ],
          "scatter3d": [
           {
            "line": {
             "colorbar": {
              "outlinewidth": 0,
              "ticks": ""
             }
            },
            "marker": {
             "colorbar": {
              "outlinewidth": 0,
              "ticks": ""
             }
            },
            "type": "scatter3d"
           }
          ],
          "scattercarpet": [
           {
            "marker": {
             "colorbar": {
              "outlinewidth": 0,
              "ticks": ""
             }
            },
            "type": "scattercarpet"
           }
          ],
          "scattergeo": [
           {
            "marker": {
             "colorbar": {
              "outlinewidth": 0,
              "ticks": ""
             }
            },
            "type": "scattergeo"
           }
          ],
          "scattergl": [
           {
            "marker": {
             "colorbar": {
              "outlinewidth": 0,
              "ticks": ""
             }
            },
            "type": "scattergl"
           }
          ],
          "scattermap": [
           {
            "marker": {
             "colorbar": {
              "outlinewidth": 0,
              "ticks": ""
             }
            },
            "type": "scattermap"
           }
          ],
          "scattermapbox": [
           {
            "marker": {
             "colorbar": {
              "outlinewidth": 0,
              "ticks": ""
             }
            },
            "type": "scattermapbox"
           }
          ],
          "scatterpolar": [
           {
            "marker": {
             "colorbar": {
              "outlinewidth": 0,
              "ticks": ""
             }
            },
            "type": "scatterpolar"
           }
          ],
          "scatterpolargl": [
           {
            "marker": {
             "colorbar": {
              "outlinewidth": 0,
              "ticks": ""
             }
            },
            "type": "scatterpolargl"
           }
          ],
          "scatterternary": [
           {
            "marker": {
             "colorbar": {
              "outlinewidth": 0,
              "ticks": ""
             }
            },
            "type": "scatterternary"
           }
          ],
          "surface": [
           {
            "colorbar": {
             "outlinewidth": 0,
             "ticks": ""
            },
            "colorscale": [
             [
              0,
              "#0d0887"
             ],
             [
              0.1111111111111111,
              "#46039f"
             ],
             [
              0.2222222222222222,
              "#7201a8"
             ],
             [
              0.3333333333333333,
              "#9c179e"
             ],
             [
              0.4444444444444444,
              "#bd3786"
             ],
             [
              0.5555555555555556,
              "#d8576b"
             ],
             [
              0.6666666666666666,
              "#ed7953"
             ],
             [
              0.7777777777777778,
              "#fb9f3a"
             ],
             [
              0.8888888888888888,
              "#fdca26"
             ],
             [
              1,
              "#f0f921"
             ]
            ],
            "type": "surface"
           }
          ],
          "table": [
           {
            "cells": {
             "fill": {
              "color": "#EBF0F8"
             },
             "line": {
              "color": "white"
             }
            },
            "header": {
             "fill": {
              "color": "#C8D4E3"
             },
             "line": {
              "color": "white"
             }
            },
            "type": "table"
           }
          ]
         },
         "layout": {
          "annotationdefaults": {
           "arrowcolor": "#2a3f5f",
           "arrowhead": 0,
           "arrowwidth": 1
          },
          "autotypenumbers": "strict",
          "coloraxis": {
           "colorbar": {
            "outlinewidth": 0,
            "ticks": ""
           }
          },
          "colorscale": {
           "diverging": [
            [
             0,
             "#8e0152"
            ],
            [
             0.1,
             "#c51b7d"
            ],
            [
             0.2,
             "#de77ae"
            ],
            [
             0.3,
             "#f1b6da"
            ],
            [
             0.4,
             "#fde0ef"
            ],
            [
             0.5,
             "#f7f7f7"
            ],
            [
             0.6,
             "#e6f5d0"
            ],
            [
             0.7,
             "#b8e186"
            ],
            [
             0.8,
             "#7fbc41"
            ],
            [
             0.9,
             "#4d9221"
            ],
            [
             1,
             "#276419"
            ]
           ],
           "sequential": [
            [
             0,
             "#0d0887"
            ],
            [
             0.1111111111111111,
             "#46039f"
            ],
            [
             0.2222222222222222,
             "#7201a8"
            ],
            [
             0.3333333333333333,
             "#9c179e"
            ],
            [
             0.4444444444444444,
             "#bd3786"
            ],
            [
             0.5555555555555556,
             "#d8576b"
            ],
            [
             0.6666666666666666,
             "#ed7953"
            ],
            [
             0.7777777777777778,
             "#fb9f3a"
            ],
            [
             0.8888888888888888,
             "#fdca26"
            ],
            [
             1,
             "#f0f921"
            ]
           ],
           "sequentialminus": [
            [
             0,
             "#0d0887"
            ],
            [
             0.1111111111111111,
             "#46039f"
            ],
            [
             0.2222222222222222,
             "#7201a8"
            ],
            [
             0.3333333333333333,
             "#9c179e"
            ],
            [
             0.4444444444444444,
             "#bd3786"
            ],
            [
             0.5555555555555556,
             "#d8576b"
            ],
            [
             0.6666666666666666,
             "#ed7953"
            ],
            [
             0.7777777777777778,
             "#fb9f3a"
            ],
            [
             0.8888888888888888,
             "#fdca26"
            ],
            [
             1,
             "#f0f921"
            ]
           ]
          },
          "colorway": [
           "#636efa",
           "#EF553B",
           "#00cc96",
           "#ab63fa",
           "#FFA15A",
           "#19d3f3",
           "#FF6692",
           "#B6E880",
           "#FF97FF",
           "#FECB52"
          ],
          "font": {
           "color": "#2a3f5f"
          },
          "geo": {
           "bgcolor": "white",
           "lakecolor": "white",
           "landcolor": "#E5ECF6",
           "showlakes": true,
           "showland": true,
           "subunitcolor": "white"
          },
          "hoverlabel": {
           "align": "left"
          },
          "hovermode": "closest",
          "mapbox": {
           "style": "light"
          },
          "paper_bgcolor": "white",
          "plot_bgcolor": "#E5ECF6",
          "polar": {
           "angularaxis": {
            "gridcolor": "white",
            "linecolor": "white",
            "ticks": ""
           },
           "bgcolor": "#E5ECF6",
           "radialaxis": {
            "gridcolor": "white",
            "linecolor": "white",
            "ticks": ""
           }
          },
          "scene": {
           "xaxis": {
            "backgroundcolor": "#E5ECF6",
            "gridcolor": "white",
            "gridwidth": 2,
            "linecolor": "white",
            "showbackground": true,
            "ticks": "",
            "zerolinecolor": "white"
           },
           "yaxis": {
            "backgroundcolor": "#E5ECF6",
            "gridcolor": "white",
            "gridwidth": 2,
            "linecolor": "white",
            "showbackground": true,
            "ticks": "",
            "zerolinecolor": "white"
           },
           "zaxis": {
            "backgroundcolor": "#E5ECF6",
            "gridcolor": "white",
            "gridwidth": 2,
            "linecolor": "white",
            "showbackground": true,
            "ticks": "",
            "zerolinecolor": "white"
           }
          },
          "shapedefaults": {
           "line": {
            "color": "#2a3f5f"
           }
          },
          "ternary": {
           "aaxis": {
            "gridcolor": "white",
            "linecolor": "white",
            "ticks": ""
           },
           "baxis": {
            "gridcolor": "white",
            "linecolor": "white",
            "ticks": ""
           },
           "bgcolor": "#E5ECF6",
           "caxis": {
            "gridcolor": "white",
            "linecolor": "white",
            "ticks": ""
           }
          },
          "title": {
           "x": 0.05
          },
          "xaxis": {
           "automargin": true,
           "gridcolor": "white",
           "linecolor": "white",
           "ticks": "",
           "title": {
            "standoff": 15
           },
           "zerolinecolor": "white",
           "zerolinewidth": 2
          },
          "yaxis": {
           "automargin": true,
           "gridcolor": "white",
           "linecolor": "white",
           "ticks": "",
           "title": {
            "standoff": 15
           },
           "zerolinecolor": "white",
           "zerolinewidth": 2
          }
         }
        },
        "title": {
         "text": "PETR4.SA Closing Prices"
        },
        "xaxis": {
         "anchor": "y",
         "domain": [
          0,
          1
         ],
         "title": {
          "text": "index"
         }
        },
        "yaxis": {
         "anchor": "x",
         "domain": [
          0,
          1
         ],
         "title": {
          "text": "value"
         }
        }
       }
      }
     },
     "metadata": {},
     "output_type": "display_data"
    }
   ],
   "source": [
    "px.line(vol_ent, title=f\"{ticker} Closing Prices\").show(fig_type=\"png\")"
   ]
  },
  {
   "cell_type": "code",
   "execution_count": 9,
   "id": "ac74a098",
   "metadata": {},
   "outputs": [
    {
     "data": {
      "application/vnd.plotly.v1+json": {
       "config": {
        "plotlyServerURL": "https://plot.ly"
       },
       "data": [
        {
         "name": "Preço PETR4.SA",
         "type": "scatter",
         "x": [
          "2023-10-02T00:00:00.000000000",
          "2023-10-03T00:00:00.000000000",
          "2023-10-04T00:00:00.000000000",
          "2023-10-05T00:00:00.000000000",
          "2023-10-06T00:00:00.000000000",
          "2023-10-09T00:00:00.000000000",
          "2023-10-10T00:00:00.000000000",
          "2023-10-11T00:00:00.000000000",
          "2023-10-13T00:00:00.000000000",
          "2023-10-16T00:00:00.000000000",
          "2023-10-17T00:00:00.000000000",
          "2023-10-18T00:00:00.000000000",
          "2023-10-19T00:00:00.000000000",
          "2023-10-20T00:00:00.000000000",
          "2023-10-23T00:00:00.000000000",
          "2023-10-24T00:00:00.000000000",
          "2023-10-25T00:00:00.000000000",
          "2023-10-26T00:00:00.000000000",
          "2023-10-27T00:00:00.000000000",
          "2023-10-30T00:00:00.000000000",
          "2023-10-31T00:00:00.000000000",
          "2023-11-01T00:00:00.000000000",
          "2023-11-03T00:00:00.000000000",
          "2023-11-06T00:00:00.000000000",
          "2023-11-07T00:00:00.000000000",
          "2023-11-08T00:00:00.000000000",
          "2023-11-09T00:00:00.000000000",
          "2023-11-10T00:00:00.000000000",
          "2023-11-13T00:00:00.000000000",
          "2023-11-14T00:00:00.000000000",
          "2023-11-16T00:00:00.000000000",
          "2023-11-17T00:00:00.000000000",
          "2023-11-20T00:00:00.000000000",
          "2023-11-21T00:00:00.000000000",
          "2023-11-22T00:00:00.000000000",
          "2023-11-23T00:00:00.000000000",
          "2023-11-24T00:00:00.000000000",
          "2023-11-27T00:00:00.000000000",
          "2023-11-28T00:00:00.000000000",
          "2023-11-29T00:00:00.000000000",
          "2023-11-30T00:00:00.000000000",
          "2023-12-01T00:00:00.000000000",
          "2023-12-04T00:00:00.000000000",
          "2023-12-05T00:00:00.000000000",
          "2023-12-06T00:00:00.000000000",
          "2023-12-07T00:00:00.000000000",
          "2023-12-08T00:00:00.000000000",
          "2023-12-11T00:00:00.000000000",
          "2023-12-12T00:00:00.000000000",
          "2023-12-13T00:00:00.000000000",
          "2023-12-14T00:00:00.000000000",
          "2023-12-15T00:00:00.000000000",
          "2023-12-18T00:00:00.000000000",
          "2023-12-19T00:00:00.000000000",
          "2023-12-20T00:00:00.000000000",
          "2023-12-21T00:00:00.000000000",
          "2023-12-22T00:00:00.000000000",
          "2023-12-26T00:00:00.000000000",
          "2023-12-27T00:00:00.000000000",
          "2023-12-28T00:00:00.000000000",
          "2024-01-02T00:00:00.000000000",
          "2024-01-03T00:00:00.000000000",
          "2024-01-04T00:00:00.000000000",
          "2024-01-05T00:00:00.000000000",
          "2024-01-08T00:00:00.000000000",
          "2024-01-09T00:00:00.000000000",
          "2024-01-10T00:00:00.000000000",
          "2024-01-11T00:00:00.000000000",
          "2024-01-12T00:00:00.000000000",
          "2024-01-15T00:00:00.000000000",
          "2024-01-16T00:00:00.000000000",
          "2024-01-17T00:00:00.000000000",
          "2024-01-18T00:00:00.000000000",
          "2024-01-19T00:00:00.000000000",
          "2024-01-22T00:00:00.000000000",
          "2024-01-23T00:00:00.000000000",
          "2024-01-24T00:00:00.000000000",
          "2024-01-25T00:00:00.000000000",
          "2024-01-26T00:00:00.000000000",
          "2024-01-29T00:00:00.000000000",
          "2024-01-30T00:00:00.000000000",
          "2024-01-31T00:00:00.000000000",
          "2024-02-01T00:00:00.000000000",
          "2024-02-02T00:00:00.000000000",
          "2024-02-05T00:00:00.000000000",
          "2024-02-06T00:00:00.000000000",
          "2024-02-07T00:00:00.000000000",
          "2024-02-08T00:00:00.000000000",
          "2024-02-09T00:00:00.000000000",
          "2024-02-14T00:00:00.000000000",
          "2024-02-15T00:00:00.000000000",
          "2024-02-16T00:00:00.000000000",
          "2024-02-19T00:00:00.000000000",
          "2024-02-20T00:00:00.000000000",
          "2024-02-21T00:00:00.000000000",
          "2024-02-22T00:00:00.000000000",
          "2024-02-23T00:00:00.000000000",
          "2024-02-26T00:00:00.000000000",
          "2024-02-27T00:00:00.000000000",
          "2024-02-28T00:00:00.000000000",
          "2024-02-29T00:00:00.000000000",
          "2024-03-01T00:00:00.000000000",
          "2024-03-04T00:00:00.000000000",
          "2024-03-05T00:00:00.000000000",
          "2024-03-06T00:00:00.000000000",
          "2024-03-07T00:00:00.000000000",
          "2024-03-08T00:00:00.000000000",
          "2024-03-11T00:00:00.000000000",
          "2024-03-12T00:00:00.000000000",
          "2024-03-13T00:00:00.000000000",
          "2024-03-14T00:00:00.000000000",
          "2024-03-15T00:00:00.000000000",
          "2024-03-18T00:00:00.000000000",
          "2024-03-19T00:00:00.000000000",
          "2024-03-20T00:00:00.000000000",
          "2024-03-21T00:00:00.000000000",
          "2024-03-22T00:00:00.000000000",
          "2024-03-25T00:00:00.000000000",
          "2024-03-26T00:00:00.000000000",
          "2024-03-27T00:00:00.000000000",
          "2024-03-28T00:00:00.000000000",
          "2024-04-01T00:00:00.000000000",
          "2024-04-02T00:00:00.000000000",
          "2024-04-03T00:00:00.000000000",
          "2024-04-04T00:00:00.000000000",
          "2024-04-05T00:00:00.000000000",
          "2024-04-08T00:00:00.000000000",
          "2024-04-09T00:00:00.000000000",
          "2024-04-10T00:00:00.000000000",
          "2024-04-11T00:00:00.000000000",
          "2024-04-12T00:00:00.000000000",
          "2024-04-15T00:00:00.000000000",
          "2024-04-16T00:00:00.000000000",
          "2024-04-17T00:00:00.000000000",
          "2024-04-18T00:00:00.000000000",
          "2024-04-19T00:00:00.000000000",
          "2024-04-22T00:00:00.000000000",
          "2024-04-23T00:00:00.000000000",
          "2024-04-24T00:00:00.000000000",
          "2024-04-25T00:00:00.000000000",
          "2024-04-26T00:00:00.000000000",
          "2024-04-29T00:00:00.000000000",
          "2024-04-30T00:00:00.000000000",
          "2024-05-02T00:00:00.000000000",
          "2024-05-03T00:00:00.000000000",
          "2024-05-06T00:00:00.000000000",
          "2024-05-07T00:00:00.000000000",
          "2024-05-08T00:00:00.000000000",
          "2024-05-09T00:00:00.000000000",
          "2024-05-10T00:00:00.000000000",
          "2024-05-13T00:00:00.000000000",
          "2024-05-14T00:00:00.000000000",
          "2024-05-15T00:00:00.000000000",
          "2024-05-16T00:00:00.000000000",
          "2024-05-17T00:00:00.000000000",
          "2024-05-20T00:00:00.000000000",
          "2024-05-21T00:00:00.000000000",
          "2024-05-22T00:00:00.000000000",
          "2024-05-23T00:00:00.000000000",
          "2024-05-24T00:00:00.000000000",
          "2024-05-27T00:00:00.000000000",
          "2024-05-28T00:00:00.000000000",
          "2024-05-29T00:00:00.000000000",
          "2024-05-31T00:00:00.000000000",
          "2024-06-03T00:00:00.000000000",
          "2024-06-04T00:00:00.000000000",
          "2024-06-05T00:00:00.000000000",
          "2024-06-06T00:00:00.000000000",
          "2024-06-07T00:00:00.000000000",
          "2024-06-10T00:00:00.000000000",
          "2024-06-11T00:00:00.000000000",
          "2024-06-12T00:00:00.000000000",
          "2024-06-13T00:00:00.000000000",
          "2024-06-14T00:00:00.000000000",
          "2024-06-17T00:00:00.000000000",
          "2024-06-18T00:00:00.000000000",
          "2024-06-19T00:00:00.000000000",
          "2024-06-20T00:00:00.000000000",
          "2024-06-21T00:00:00.000000000",
          "2024-06-24T00:00:00.000000000",
          "2024-06-25T00:00:00.000000000",
          "2024-06-26T00:00:00.000000000",
          "2024-06-27T00:00:00.000000000",
          "2024-06-28T00:00:00.000000000",
          "2024-07-01T00:00:00.000000000",
          "2024-07-02T00:00:00.000000000",
          "2024-07-03T00:00:00.000000000",
          "2024-07-04T00:00:00.000000000",
          "2024-07-05T00:00:00.000000000",
          "2024-07-08T00:00:00.000000000",
          "2024-07-09T00:00:00.000000000",
          "2024-07-10T00:00:00.000000000",
          "2024-07-11T00:00:00.000000000",
          "2024-07-12T00:00:00.000000000",
          "2024-07-15T00:00:00.000000000",
          "2024-07-16T00:00:00.000000000",
          "2024-07-17T00:00:00.000000000",
          "2024-07-18T00:00:00.000000000",
          "2024-07-19T00:00:00.000000000",
          "2024-07-22T00:00:00.000000000",
          "2024-07-23T00:00:00.000000000",
          "2024-07-24T00:00:00.000000000",
          "2024-07-25T00:00:00.000000000",
          "2024-07-26T00:00:00.000000000",
          "2024-07-29T00:00:00.000000000",
          "2024-07-30T00:00:00.000000000",
          "2024-07-31T00:00:00.000000000",
          "2024-08-01T00:00:00.000000000",
          "2024-08-02T00:00:00.000000000",
          "2024-08-05T00:00:00.000000000",
          "2024-08-06T00:00:00.000000000",
          "2024-08-07T00:00:00.000000000",
          "2024-08-08T00:00:00.000000000",
          "2024-08-09T00:00:00.000000000",
          "2024-08-12T00:00:00.000000000",
          "2024-08-13T00:00:00.000000000",
          "2024-08-14T00:00:00.000000000",
          "2024-08-15T00:00:00.000000000",
          "2024-08-16T00:00:00.000000000",
          "2024-08-19T00:00:00.000000000",
          "2024-08-20T00:00:00.000000000",
          "2024-08-21T00:00:00.000000000",
          "2024-08-22T00:00:00.000000000",
          "2024-08-23T00:00:00.000000000",
          "2024-08-26T00:00:00.000000000",
          "2024-08-27T00:00:00.000000000",
          "2024-08-28T00:00:00.000000000",
          "2024-08-29T00:00:00.000000000",
          "2024-08-30T00:00:00.000000000",
          "2024-09-02T00:00:00.000000000",
          "2024-09-03T00:00:00.000000000",
          "2024-09-04T00:00:00.000000000",
          "2024-09-05T00:00:00.000000000",
          "2024-09-06T00:00:00.000000000",
          "2024-09-09T00:00:00.000000000",
          "2024-09-10T00:00:00.000000000",
          "2024-09-11T00:00:00.000000000",
          "2024-09-12T00:00:00.000000000",
          "2024-09-13T00:00:00.000000000",
          "2024-09-16T00:00:00.000000000",
          "2024-09-17T00:00:00.000000000",
          "2024-09-18T00:00:00.000000000",
          "2024-09-19T00:00:00.000000000",
          "2024-09-20T00:00:00.000000000",
          "2024-09-23T00:00:00.000000000",
          "2024-09-24T00:00:00.000000000",
          "2024-09-25T00:00:00.000000000",
          "2024-09-26T00:00:00.000000000",
          "2024-09-27T00:00:00.000000000",
          "2024-09-30T00:00:00.000000000",
          "2024-10-01T00:00:00.000000000",
          "2024-10-02T00:00:00.000000000",
          "2024-10-03T00:00:00.000000000",
          "2024-10-04T00:00:00.000000000",
          "2024-10-07T00:00:00.000000000",
          "2024-10-08T00:00:00.000000000",
          "2024-10-09T00:00:00.000000000",
          "2024-10-10T00:00:00.000000000",
          "2024-10-11T00:00:00.000000000",
          "2024-10-14T00:00:00.000000000",
          "2024-10-15T00:00:00.000000000",
          "2024-10-16T00:00:00.000000000",
          "2024-10-17T00:00:00.000000000",
          "2024-10-18T00:00:00.000000000",
          "2024-10-21T00:00:00.000000000",
          "2024-10-22T00:00:00.000000000",
          "2024-10-23T00:00:00.000000000",
          "2024-10-24T00:00:00.000000000",
          "2024-10-25T00:00:00.000000000",
          "2024-10-28T00:00:00.000000000",
          "2024-10-29T00:00:00.000000000",
          "2024-10-30T00:00:00.000000000",
          "2024-10-31T00:00:00.000000000",
          "2024-11-01T00:00:00.000000000",
          "2024-11-04T00:00:00.000000000",
          "2024-11-05T00:00:00.000000000",
          "2024-11-06T00:00:00.000000000",
          "2024-11-07T00:00:00.000000000",
          "2024-11-08T00:00:00.000000000",
          "2024-11-11T00:00:00.000000000",
          "2024-11-12T00:00:00.000000000",
          "2024-11-13T00:00:00.000000000",
          "2024-11-14T00:00:00.000000000",
          "2024-11-18T00:00:00.000000000",
          "2024-11-19T00:00:00.000000000",
          "2024-11-21T00:00:00.000000000",
          "2024-11-22T00:00:00.000000000",
          "2024-11-25T00:00:00.000000000",
          "2024-11-26T00:00:00.000000000",
          "2024-11-27T00:00:00.000000000",
          "2024-11-28T00:00:00.000000000",
          "2024-11-29T00:00:00.000000000",
          "2024-12-02T00:00:00.000000000",
          "2024-12-03T00:00:00.000000000",
          "2024-12-04T00:00:00.000000000",
          "2024-12-05T00:00:00.000000000",
          "2024-12-06T00:00:00.000000000",
          "2024-12-09T00:00:00.000000000",
          "2024-12-10T00:00:00.000000000",
          "2024-12-11T00:00:00.000000000",
          "2024-12-12T00:00:00.000000000",
          "2024-12-13T00:00:00.000000000",
          "2024-12-16T00:00:00.000000000",
          "2024-12-17T00:00:00.000000000",
          "2024-12-18T00:00:00.000000000",
          "2024-12-19T00:00:00.000000000",
          "2024-12-20T00:00:00.000000000",
          "2024-12-23T00:00:00.000000000",
          "2024-12-26T00:00:00.000000000",
          "2024-12-27T00:00:00.000000000",
          "2024-12-30T00:00:00.000000000",
          "2025-01-02T00:00:00.000000000",
          "2025-01-03T00:00:00.000000000",
          "2025-01-06T00:00:00.000000000",
          "2025-01-07T00:00:00.000000000",
          "2025-01-08T00:00:00.000000000",
          "2025-01-09T00:00:00.000000000",
          "2025-01-10T00:00:00.000000000",
          "2025-01-13T00:00:00.000000000",
          "2025-01-14T00:00:00.000000000",
          "2025-01-15T00:00:00.000000000",
          "2025-01-16T00:00:00.000000000",
          "2025-01-17T00:00:00.000000000",
          "2025-01-20T00:00:00.000000000",
          "2025-01-21T00:00:00.000000000",
          "2025-01-22T00:00:00.000000000",
          "2025-01-23T00:00:00.000000000",
          "2025-01-24T00:00:00.000000000",
          "2025-01-27T00:00:00.000000000",
          "2025-01-28T00:00:00.000000000",
          "2025-01-29T00:00:00.000000000",
          "2025-01-30T00:00:00.000000000",
          "2025-01-31T00:00:00.000000000",
          "2025-02-03T00:00:00.000000000",
          "2025-02-04T00:00:00.000000000",
          "2025-02-05T00:00:00.000000000",
          "2025-02-06T00:00:00.000000000",
          "2025-02-07T00:00:00.000000000",
          "2025-02-10T00:00:00.000000000",
          "2025-02-11T00:00:00.000000000",
          "2025-02-12T00:00:00.000000000",
          "2025-02-13T00:00:00.000000000",
          "2025-02-14T00:00:00.000000000",
          "2025-02-17T00:00:00.000000000",
          "2025-02-18T00:00:00.000000000",
          "2025-02-19T00:00:00.000000000",
          "2025-02-20T00:00:00.000000000",
          "2025-02-21T00:00:00.000000000",
          "2025-02-24T00:00:00.000000000",
          "2025-02-25T00:00:00.000000000",
          "2025-02-26T00:00:00.000000000",
          "2025-02-27T00:00:00.000000000",
          "2025-02-28T00:00:00.000000000",
          "2025-03-05T00:00:00.000000000",
          "2025-03-06T00:00:00.000000000",
          "2025-03-07T00:00:00.000000000",
          "2025-03-10T00:00:00.000000000",
          "2025-03-11T00:00:00.000000000",
          "2025-03-12T00:00:00.000000000",
          "2025-03-13T00:00:00.000000000",
          "2025-03-14T00:00:00.000000000",
          "2025-03-17T00:00:00.000000000",
          "2025-03-18T00:00:00.000000000",
          "2025-03-19T00:00:00.000000000",
          "2025-03-20T00:00:00.000000000",
          "2025-03-21T00:00:00.000000000",
          "2025-03-24T00:00:00.000000000",
          "2025-03-25T00:00:00.000000000",
          "2025-03-26T00:00:00.000000000",
          "2025-03-27T00:00:00.000000000",
          "2025-03-28T00:00:00.000000000",
          "2025-03-31T00:00:00.000000000",
          "2025-04-01T00:00:00.000000000",
          "2025-04-02T00:00:00.000000000",
          "2025-04-03T00:00:00.000000000",
          "2025-04-04T00:00:00.000000000",
          "2025-04-07T00:00:00.000000000",
          "2025-04-08T00:00:00.000000000",
          "2025-04-09T00:00:00.000000000",
          "2025-04-10T00:00:00.000000000",
          "2025-04-11T00:00:00.000000000",
          "2025-04-14T00:00:00.000000000",
          "2025-04-15T00:00:00.000000000",
          "2025-04-16T00:00:00.000000000",
          "2025-04-17T00:00:00.000000000",
          "2025-04-22T00:00:00.000000000",
          "2025-04-23T00:00:00.000000000",
          "2025-04-24T00:00:00.000000000",
          "2025-04-25T00:00:00.000000000",
          "2025-04-28T00:00:00.000000000",
          "2025-04-29T00:00:00.000000000",
          "2025-04-30T00:00:00.000000000",
          "2025-05-02T00:00:00.000000000",
          "2025-05-05T00:00:00.000000000",
          "2025-05-06T00:00:00.000000000",
          "2025-05-07T00:00:00.000000000",
          "2025-05-08T00:00:00.000000000",
          "2025-05-09T00:00:00.000000000",
          "2025-05-12T00:00:00.000000000",
          "2025-05-13T00:00:00.000000000",
          "2025-05-14T00:00:00.000000000",
          "2025-05-15T00:00:00.000000000",
          "2025-05-16T00:00:00.000000000",
          "2025-05-19T00:00:00.000000000",
          "2025-05-20T00:00:00.000000000",
          "2025-05-21T00:00:00.000000000",
          "2025-05-22T00:00:00.000000000",
          "2025-05-23T00:00:00.000000000",
          "2025-05-26T00:00:00.000000000",
          "2025-05-27T00:00:00.000000000",
          "2025-05-28T00:00:00.000000000",
          "2025-05-29T00:00:00.000000000",
          "2025-05-30T00:00:00.000000000",
          "2025-06-02T00:00:00.000000000",
          "2025-06-03T00:00:00.000000000",
          "2025-06-04T00:00:00.000000000",
          "2025-06-05T00:00:00.000000000",
          "2025-06-06T00:00:00.000000000",
          "2025-06-09T00:00:00.000000000",
          "2025-06-10T00:00:00.000000000",
          "2025-06-11T00:00:00.000000000",
          "2025-06-12T00:00:00.000000000",
          "2025-06-13T00:00:00.000000000",
          "2025-06-16T00:00:00.000000000",
          "2025-06-17T00:00:00.000000000",
          "2025-06-18T00:00:00.000000000",
          "2025-06-20T00:00:00.000000000",
          "2025-06-23T00:00:00.000000000",
          "2025-06-24T00:00:00.000000000",
          "2025-06-25T00:00:00.000000000",
          "2025-06-26T00:00:00.000000000",
          "2025-06-27T00:00:00.000000000",
          "2025-06-30T00:00:00.000000000",
          "2025-07-01T00:00:00.000000000",
          "2025-07-02T00:00:00.000000000",
          "2025-07-03T00:00:00.000000000",
          "2025-07-04T00:00:00.000000000",
          "2025-07-07T00:00:00.000000000",
          "2025-07-08T00:00:00.000000000",
          "2025-07-09T00:00:00.000000000",
          "2025-07-10T00:00:00.000000000",
          "2025-07-11T00:00:00.000000000",
          "2025-07-14T00:00:00.000000000",
          "2025-07-15T00:00:00.000000000",
          "2025-07-16T00:00:00.000000000",
          "2025-07-17T00:00:00.000000000",
          "2025-07-18T00:00:00.000000000",
          "2025-07-21T00:00:00.000000000",
          "2025-07-22T00:00:00.000000000",
          "2025-07-23T00:00:00.000000000",
          "2025-07-24T00:00:00.000000000",
          "2025-07-25T00:00:00.000000000",
          "2025-07-28T00:00:00.000000000",
          "2025-07-29T00:00:00.000000000",
          "2025-07-30T00:00:00.000000000",
          "2025-07-31T00:00:00.000000000",
          "2025-08-01T00:00:00.000000000",
          "2025-08-04T00:00:00.000000000",
          "2025-08-05T00:00:00.000000000",
          "2025-08-06T00:00:00.000000000",
          "2025-08-07T00:00:00.000000000",
          "2025-08-08T00:00:00.000000000",
          "2025-08-11T00:00:00.000000000",
          "2025-08-12T00:00:00.000000000",
          "2025-08-13T00:00:00.000000000",
          "2025-08-14T00:00:00.000000000",
          "2025-08-15T00:00:00.000000000",
          "2025-08-18T00:00:00.000000000",
          "2025-08-19T00:00:00.000000000",
          "2025-08-20T00:00:00.000000000",
          "2025-08-21T00:00:00.000000000",
          "2025-08-22T00:00:00.000000000",
          "2025-08-25T00:00:00.000000000",
          "2025-08-26T00:00:00.000000000",
          "2025-08-27T00:00:00.000000000",
          "2025-08-28T00:00:00.000000000",
          "2025-08-29T00:00:00.000000000",
          "2025-09-01T00:00:00.000000000",
          "2025-09-02T00:00:00.000000000",
          "2025-09-03T00:00:00.000000000",
          "2025-09-04T00:00:00.000000000",
          "2025-09-05T00:00:00.000000000",
          "2025-09-08T00:00:00.000000000",
          "2025-09-09T00:00:00.000000000",
          "2025-09-10T00:00:00.000000000",
          "2025-09-11T00:00:00.000000000",
          "2025-09-12T00:00:00.000000000",
          "2025-09-15T00:00:00.000000000",
          "2025-09-16T00:00:00.000000000",
          "2025-09-17T00:00:00.000000000",
          "2025-09-18T00:00:00.000000000",
          "2025-09-19T00:00:00.000000000",
          "2025-09-22T00:00:00.000000000",
          "2025-09-23T00:00:00.000000000",
          "2025-09-24T00:00:00.000000000",
          "2025-09-25T00:00:00.000000000",
          "2025-09-26T00:00:00.000000000",
          "2025-09-29T00:00:00.000000000",
          "2025-09-30T00:00:00.000000000",
          "2025-10-01T00:00:00.000000000",
          "2025-10-02T00:00:00.000000000"
         ],
         "y": {
          "bdata": "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",
          "dtype": "f8"
         },
         "yaxis": "y"
        },
        {
         "name": "Volatility Entropy",
         "type": "scatter",
         "x": [
          "2024-01-03T00:00:00.000000000",
          "2024-01-04T00:00:00.000000000",
          "2024-01-05T00:00:00.000000000",
          "2024-01-08T00:00:00.000000000",
          "2024-01-09T00:00:00.000000000",
          "2024-01-10T00:00:00.000000000",
          "2024-01-11T00:00:00.000000000",
          "2024-01-12T00:00:00.000000000",
          "2024-01-15T00:00:00.000000000",
          "2024-01-16T00:00:00.000000000",
          "2024-01-17T00:00:00.000000000",
          "2024-01-18T00:00:00.000000000",
          "2024-01-19T00:00:00.000000000",
          "2024-01-22T00:00:00.000000000",
          "2024-01-23T00:00:00.000000000",
          "2024-01-24T00:00:00.000000000",
          "2024-01-25T00:00:00.000000000",
          "2024-01-26T00:00:00.000000000",
          "2024-01-29T00:00:00.000000000",
          "2024-01-30T00:00:00.000000000",
          "2024-01-31T00:00:00.000000000",
          "2024-02-01T00:00:00.000000000",
          "2024-02-02T00:00:00.000000000",
          "2024-02-05T00:00:00.000000000",
          "2024-02-06T00:00:00.000000000",
          "2024-02-07T00:00:00.000000000",
          "2024-02-08T00:00:00.000000000",
          "2024-02-09T00:00:00.000000000",
          "2024-02-14T00:00:00.000000000",
          "2024-02-15T00:00:00.000000000",
          "2024-02-16T00:00:00.000000000",
          "2024-02-19T00:00:00.000000000",
          "2024-02-20T00:00:00.000000000",
          "2024-02-21T00:00:00.000000000",
          "2024-02-22T00:00:00.000000000",
          "2024-02-23T00:00:00.000000000",
          "2024-02-26T00:00:00.000000000",
          "2024-02-27T00:00:00.000000000",
          "2024-02-28T00:00:00.000000000",
          "2024-02-29T00:00:00.000000000",
          "2024-03-01T00:00:00.000000000",
          "2024-03-04T00:00:00.000000000",
          "2024-03-05T00:00:00.000000000",
          "2024-03-06T00:00:00.000000000",
          "2024-03-07T00:00:00.000000000",
          "2024-03-08T00:00:00.000000000",
          "2024-03-11T00:00:00.000000000",
          "2024-03-12T00:00:00.000000000",
          "2024-03-13T00:00:00.000000000",
          "2024-03-14T00:00:00.000000000",
          "2024-03-15T00:00:00.000000000",
          "2024-03-18T00:00:00.000000000",
          "2024-03-19T00:00:00.000000000",
          "2024-03-20T00:00:00.000000000",
          "2024-03-21T00:00:00.000000000",
          "2024-03-22T00:00:00.000000000",
          "2024-03-25T00:00:00.000000000",
          "2024-03-26T00:00:00.000000000",
          "2024-03-27T00:00:00.000000000",
          "2024-03-28T00:00:00.000000000",
          "2024-04-01T00:00:00.000000000",
          "2024-04-02T00:00:00.000000000",
          "2024-04-03T00:00:00.000000000",
          "2024-04-04T00:00:00.000000000",
          "2024-04-05T00:00:00.000000000",
          "2024-04-08T00:00:00.000000000",
          "2024-04-09T00:00:00.000000000",
          "2024-04-10T00:00:00.000000000",
          "2024-04-11T00:00:00.000000000",
          "2024-04-12T00:00:00.000000000",
          "2024-04-15T00:00:00.000000000",
          "2024-04-16T00:00:00.000000000",
          "2024-04-17T00:00:00.000000000",
          "2024-04-18T00:00:00.000000000",
          "2024-04-19T00:00:00.000000000",
          "2024-04-22T00:00:00.000000000",
          "2024-04-23T00:00:00.000000000",
          "2024-04-24T00:00:00.000000000",
          "2024-04-25T00:00:00.000000000",
          "2024-04-26T00:00:00.000000000",
          "2024-04-29T00:00:00.000000000",
          "2024-04-30T00:00:00.000000000",
          "2024-05-02T00:00:00.000000000",
          "2024-05-03T00:00:00.000000000",
          "2024-05-06T00:00:00.000000000",
          "2024-05-07T00:00:00.000000000",
          "2024-05-08T00:00:00.000000000",
          "2024-05-09T00:00:00.000000000",
          "2024-05-10T00:00:00.000000000",
          "2024-05-13T00:00:00.000000000",
          "2024-05-14T00:00:00.000000000",
          "2024-05-15T00:00:00.000000000",
          "2024-05-16T00:00:00.000000000",
          "2024-05-17T00:00:00.000000000",
          "2024-05-20T00:00:00.000000000",
          "2024-05-21T00:00:00.000000000",
          "2024-05-22T00:00:00.000000000",
          "2024-05-23T00:00:00.000000000",
          "2024-05-24T00:00:00.000000000",
          "2024-05-27T00:00:00.000000000",
          "2024-05-28T00:00:00.000000000",
          "2024-05-29T00:00:00.000000000",
          "2024-05-31T00:00:00.000000000",
          "2024-06-03T00:00:00.000000000",
          "2024-06-04T00:00:00.000000000",
          "2024-06-05T00:00:00.000000000",
          "2024-06-06T00:00:00.000000000",
          "2024-06-07T00:00:00.000000000",
          "2024-06-10T00:00:00.000000000",
          "2024-06-11T00:00:00.000000000",
          "2024-06-12T00:00:00.000000000",
          "2024-06-13T00:00:00.000000000",
          "2024-06-14T00:00:00.000000000",
          "2024-06-17T00:00:00.000000000",
          "2024-06-18T00:00:00.000000000",
          "2024-06-19T00:00:00.000000000",
          "2024-06-20T00:00:00.000000000",
          "2024-06-21T00:00:00.000000000",
          "2024-06-24T00:00:00.000000000",
          "2024-06-25T00:00:00.000000000",
          "2024-06-26T00:00:00.000000000",
          "2024-06-27T00:00:00.000000000",
          "2024-06-28T00:00:00.000000000",
          "2024-07-01T00:00:00.000000000",
          "2024-07-02T00:00:00.000000000",
          "2024-07-03T00:00:00.000000000",
          "2024-07-04T00:00:00.000000000",
          "2024-07-05T00:00:00.000000000",
          "2024-07-08T00:00:00.000000000",
          "2024-07-09T00:00:00.000000000",
          "2024-07-10T00:00:00.000000000",
          "2024-07-11T00:00:00.000000000",
          "2024-07-12T00:00:00.000000000",
          "2024-07-15T00:00:00.000000000",
          "2024-07-16T00:00:00.000000000",
          "2024-07-17T00:00:00.000000000",
          "2024-07-18T00:00:00.000000000",
          "2024-07-19T00:00:00.000000000",
          "2024-07-22T00:00:00.000000000",
          "2024-07-23T00:00:00.000000000",
          "2024-07-24T00:00:00.000000000",
          "2024-07-25T00:00:00.000000000",
          "2024-07-26T00:00:00.000000000",
          "2024-07-29T00:00:00.000000000",
          "2024-07-30T00:00:00.000000000",
          "2024-07-31T00:00:00.000000000",
          "2024-08-01T00:00:00.000000000",
          "2024-08-02T00:00:00.000000000",
          "2024-08-05T00:00:00.000000000",
          "2024-08-06T00:00:00.000000000",
          "2024-08-07T00:00:00.000000000",
          "2024-08-08T00:00:00.000000000",
          "2024-08-09T00:00:00.000000000",
          "2024-08-12T00:00:00.000000000",
          "2024-08-13T00:00:00.000000000",
          "2024-08-14T00:00:00.000000000",
          "2024-08-15T00:00:00.000000000",
          "2024-08-16T00:00:00.000000000",
          "2024-08-19T00:00:00.000000000",
          "2024-08-20T00:00:00.000000000",
          "2024-08-21T00:00:00.000000000",
          "2024-08-22T00:00:00.000000000",
          "2024-08-23T00:00:00.000000000",
          "2024-08-26T00:00:00.000000000",
          "2024-08-27T00:00:00.000000000",
          "2024-08-28T00:00:00.000000000",
          "2024-08-29T00:00:00.000000000",
          "2024-08-30T00:00:00.000000000",
          "2024-09-02T00:00:00.000000000",
          "2024-09-03T00:00:00.000000000",
          "2024-09-04T00:00:00.000000000",
          "2024-09-05T00:00:00.000000000",
          "2024-09-06T00:00:00.000000000",
          "2024-09-09T00:00:00.000000000",
          "2024-09-10T00:00:00.000000000",
          "2024-09-11T00:00:00.000000000",
          "2024-09-12T00:00:00.000000000",
          "2024-09-13T00:00:00.000000000",
          "2024-09-16T00:00:00.000000000",
          "2024-09-17T00:00:00.000000000",
          "2024-09-18T00:00:00.000000000",
          "2024-09-19T00:00:00.000000000",
          "2024-09-20T00:00:00.000000000",
          "2024-09-23T00:00:00.000000000",
          "2024-09-24T00:00:00.000000000",
          "2024-09-25T00:00:00.000000000",
          "2024-09-26T00:00:00.000000000",
          "2024-09-27T00:00:00.000000000",
          "2024-09-30T00:00:00.000000000",
          "2024-10-01T00:00:00.000000000",
          "2024-10-02T00:00:00.000000000",
          "2024-10-03T00:00:00.000000000",
          "2024-10-04T00:00:00.000000000",
          "2024-10-07T00:00:00.000000000",
          "2024-10-08T00:00:00.000000000",
          "2024-10-09T00:00:00.000000000",
          "2024-10-10T00:00:00.000000000",
          "2024-10-11T00:00:00.000000000",
          "2024-10-14T00:00:00.000000000",
          "2024-10-15T00:00:00.000000000",
          "2024-10-16T00:00:00.000000000",
          "2024-10-17T00:00:00.000000000",
          "2024-10-18T00:00:00.000000000",
          "2024-10-21T00:00:00.000000000",
          "2024-10-22T00:00:00.000000000",
          "2024-10-23T00:00:00.000000000",
          "2024-10-24T00:00:00.000000000",
          "2024-10-25T00:00:00.000000000",
          "2024-10-28T00:00:00.000000000",
          "2024-10-29T00:00:00.000000000",
          "2024-10-30T00:00:00.000000000",
          "2024-10-31T00:00:00.000000000",
          "2024-11-01T00:00:00.000000000",
          "2024-11-04T00:00:00.000000000",
          "2024-11-05T00:00:00.000000000",
          "2024-11-06T00:00:00.000000000",
          "2024-11-07T00:00:00.000000000",
          "2024-11-08T00:00:00.000000000",
          "2024-11-11T00:00:00.000000000",
          "2024-11-12T00:00:00.000000000",
          "2024-11-13T00:00:00.000000000",
          "2024-11-14T00:00:00.000000000",
          "2024-11-18T00:00:00.000000000",
          "2024-11-19T00:00:00.000000000",
          "2024-11-21T00:00:00.000000000",
          "2024-11-22T00:00:00.000000000",
          "2024-11-25T00:00:00.000000000",
          "2024-11-26T00:00:00.000000000",
          "2024-11-27T00:00:00.000000000",
          "2024-11-28T00:00:00.000000000",
          "2024-11-29T00:00:00.000000000",
          "2024-12-02T00:00:00.000000000",
          "2024-12-03T00:00:00.000000000",
          "2024-12-04T00:00:00.000000000",
          "2024-12-05T00:00:00.000000000",
          "2024-12-06T00:00:00.000000000",
          "2024-12-09T00:00:00.000000000",
          "2024-12-10T00:00:00.000000000",
          "2024-12-11T00:00:00.000000000",
          "2024-12-12T00:00:00.000000000",
          "2024-12-13T00:00:00.000000000",
          "2024-12-16T00:00:00.000000000",
          "2024-12-17T00:00:00.000000000",
          "2024-12-18T00:00:00.000000000",
          "2024-12-19T00:00:00.000000000",
          "2024-12-20T00:00:00.000000000",
          "2024-12-23T00:00:00.000000000",
          "2024-12-26T00:00:00.000000000",
          "2024-12-27T00:00:00.000000000",
          "2024-12-30T00:00:00.000000000",
          "2025-01-02T00:00:00.000000000",
          "2025-01-03T00:00:00.000000000",
          "2025-01-06T00:00:00.000000000",
          "2025-01-07T00:00:00.000000000",
          "2025-01-08T00:00:00.000000000",
          "2025-01-09T00:00:00.000000000",
          "2025-01-10T00:00:00.000000000",
          "2025-01-13T00:00:00.000000000",
          "2025-01-14T00:00:00.000000000",
          "2025-01-15T00:00:00.000000000",
          "2025-01-16T00:00:00.000000000",
          "2025-01-17T00:00:00.000000000",
          "2025-01-20T00:00:00.000000000",
          "2025-01-21T00:00:00.000000000",
          "2025-01-22T00:00:00.000000000",
          "2025-01-23T00:00:00.000000000",
          "2025-01-24T00:00:00.000000000",
          "2025-01-27T00:00:00.000000000",
          "2025-01-28T00:00:00.000000000",
          "2025-01-29T00:00:00.000000000",
          "2025-01-30T00:00:00.000000000",
          "2025-01-31T00:00:00.000000000",
          "2025-02-03T00:00:00.000000000",
          "2025-02-04T00:00:00.000000000",
          "2025-02-05T00:00:00.000000000",
          "2025-02-06T00:00:00.000000000",
          "2025-02-07T00:00:00.000000000",
          "2025-02-10T00:00:00.000000000",
          "2025-02-11T00:00:00.000000000",
          "2025-02-12T00:00:00.000000000",
          "2025-02-13T00:00:00.000000000",
          "2025-02-14T00:00:00.000000000",
          "2025-02-17T00:00:00.000000000",
          "2025-02-18T00:00:00.000000000",
          "2025-02-19T00:00:00.000000000",
          "2025-02-20T00:00:00.000000000",
          "2025-02-21T00:00:00.000000000",
          "2025-02-24T00:00:00.000000000",
          "2025-02-25T00:00:00.000000000",
          "2025-02-26T00:00:00.000000000",
          "2025-02-27T00:00:00.000000000",
          "2025-02-28T00:00:00.000000000",
          "2025-03-05T00:00:00.000000000",
          "2025-03-06T00:00:00.000000000",
          "2025-03-07T00:00:00.000000000",
          "2025-03-10T00:00:00.000000000",
          "2025-03-11T00:00:00.000000000",
          "2025-03-12T00:00:00.000000000",
          "2025-03-13T00:00:00.000000000",
          "2025-03-14T00:00:00.000000000",
          "2025-03-17T00:00:00.000000000",
          "2025-03-18T00:00:00.000000000",
          "2025-03-19T00:00:00.000000000",
          "2025-03-20T00:00:00.000000000",
          "2025-03-21T00:00:00.000000000",
          "2025-03-24T00:00:00.000000000",
          "2025-03-25T00:00:00.000000000",
          "2025-03-26T00:00:00.000000000",
          "2025-03-27T00:00:00.000000000",
          "2025-03-28T00:00:00.000000000",
          "2025-03-31T00:00:00.000000000",
          "2025-04-01T00:00:00.000000000",
          "2025-04-02T00:00:00.000000000",
          "2025-04-03T00:00:00.000000000",
          "2025-04-04T00:00:00.000000000",
          "2025-04-07T00:00:00.000000000",
          "2025-04-08T00:00:00.000000000",
          "2025-04-09T00:00:00.000000000",
          "2025-04-10T00:00:00.000000000",
          "2025-04-11T00:00:00.000000000",
          "2025-04-14T00:00:00.000000000",
          "2025-04-15T00:00:00.000000000",
          "2025-04-16T00:00:00.000000000",
          "2025-04-17T00:00:00.000000000",
          "2025-04-22T00:00:00.000000000",
          "2025-04-23T00:00:00.000000000",
          "2025-04-24T00:00:00.000000000",
          "2025-04-25T00:00:00.000000000",
          "2025-04-28T00:00:00.000000000",
          "2025-04-29T00:00:00.000000000",
          "2025-04-30T00:00:00.000000000",
          "2025-05-02T00:00:00.000000000",
          "2025-05-05T00:00:00.000000000",
          "2025-05-06T00:00:00.000000000",
          "2025-05-07T00:00:00.000000000",
          "2025-05-08T00:00:00.000000000",
          "2025-05-09T00:00:00.000000000",
          "2025-05-12T00:00:00.000000000",
          "2025-05-13T00:00:00.000000000",
          "2025-05-14T00:00:00.000000000",
          "2025-05-15T00:00:00.000000000",
          "2025-05-16T00:00:00.000000000",
          "2025-05-19T00:00:00.000000000",
          "2025-05-20T00:00:00.000000000",
          "2025-05-21T00:00:00.000000000",
          "2025-05-22T00:00:00.000000000",
          "2025-05-23T00:00:00.000000000",
          "2025-05-26T00:00:00.000000000",
          "2025-05-27T00:00:00.000000000",
          "2025-05-28T00:00:00.000000000",
          "2025-05-29T00:00:00.000000000",
          "2025-05-30T00:00:00.000000000",
          "2025-06-02T00:00:00.000000000",
          "2025-06-03T00:00:00.000000000",
          "2025-06-04T00:00:00.000000000",
          "2025-06-05T00:00:00.000000000",
          "2025-06-06T00:00:00.000000000",
          "2025-06-09T00:00:00.000000000",
          "2025-06-10T00:00:00.000000000",
          "2025-06-11T00:00:00.000000000",
          "2025-06-12T00:00:00.000000000",
          "2025-06-13T00:00:00.000000000",
          "2025-06-16T00:00:00.000000000",
          "2025-06-17T00:00:00.000000000",
          "2025-06-18T00:00:00.000000000",
          "2025-06-20T00:00:00.000000000",
          "2025-06-23T00:00:00.000000000",
          "2025-06-24T00:00:00.000000000",
          "2025-06-25T00:00:00.000000000",
          "2025-06-26T00:00:00.000000000",
          "2025-06-27T00:00:00.000000000",
          "2025-06-30T00:00:00.000000000",
          "2025-07-01T00:00:00.000000000",
          "2025-07-02T00:00:00.000000000",
          "2025-07-03T00:00:00.000000000",
          "2025-07-04T00:00:00.000000000",
          "2025-07-07T00:00:00.000000000",
          "2025-07-08T00:00:00.000000000",
          "2025-07-09T00:00:00.000000000",
          "2025-07-10T00:00:00.000000000",
          "2025-07-11T00:00:00.000000000",
          "2025-07-14T00:00:00.000000000",
          "2025-07-15T00:00:00.000000000",
          "2025-07-16T00:00:00.000000000",
          "2025-07-17T00:00:00.000000000",
          "2025-07-18T00:00:00.000000000",
          "2025-07-21T00:00:00.000000000",
          "2025-07-22T00:00:00.000000000",
          "2025-07-23T00:00:00.000000000",
          "2025-07-24T00:00:00.000000000",
          "2025-07-25T00:00:00.000000000",
          "2025-07-28T00:00:00.000000000",
          "2025-07-29T00:00:00.000000000",
          "2025-07-30T00:00:00.000000000",
          "2025-07-31T00:00:00.000000000",
          "2025-08-01T00:00:00.000000000",
          "2025-08-04T00:00:00.000000000",
          "2025-08-05T00:00:00.000000000",
          "2025-08-06T00:00:00.000000000",
          "2025-08-07T00:00:00.000000000",
          "2025-08-08T00:00:00.000000000",
          "2025-08-11T00:00:00.000000000",
          "2025-08-12T00:00:00.000000000",
          "2025-08-13T00:00:00.000000000",
          "2025-08-14T00:00:00.000000000",
          "2025-08-15T00:00:00.000000000",
          "2025-08-18T00:00:00.000000000",
          "2025-08-19T00:00:00.000000000",
          "2025-08-20T00:00:00.000000000",
          "2025-08-21T00:00:00.000000000",
          "2025-08-22T00:00:00.000000000",
          "2025-08-25T00:00:00.000000000",
          "2025-08-26T00:00:00.000000000",
          "2025-08-27T00:00:00.000000000",
          "2025-08-28T00:00:00.000000000",
          "2025-08-29T00:00:00.000000000",
          "2025-09-01T00:00:00.000000000",
          "2025-09-02T00:00:00.000000000",
          "2025-09-03T00:00:00.000000000",
          "2025-09-04T00:00:00.000000000",
          "2025-09-05T00:00:00.000000000",
          "2025-09-08T00:00:00.000000000",
          "2025-09-09T00:00:00.000000000",
          "2025-09-10T00:00:00.000000000",
          "2025-09-11T00:00:00.000000000",
          "2025-09-12T00:00:00.000000000",
          "2025-09-15T00:00:00.000000000",
          "2025-09-16T00:00:00.000000000",
          "2025-09-17T00:00:00.000000000",
          "2025-09-18T00:00:00.000000000",
          "2025-09-19T00:00:00.000000000",
          "2025-09-22T00:00:00.000000000",
          "2025-09-23T00:00:00.000000000",
          "2025-09-24T00:00:00.000000000",
          "2025-09-25T00:00:00.000000000",
          "2025-09-26T00:00:00.000000000",
          "2025-09-29T00:00:00.000000000",
          "2025-09-30T00:00:00.000000000",
          "2025-10-01T00:00:00.000000000",
          "2025-10-02T00:00:00.000000000"
         ],
         "y": {
          "bdata": "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",
          "dtype": "f8"
         },
         "yaxis": "y2"
        },
        {
         "name": "Volatility RSI",
         "type": "scatter",
         "x": [
          "2024-01-03T00:00:00.000000000",
          "2024-01-04T00:00:00.000000000",
          "2024-01-05T00:00:00.000000000",
          "2024-01-08T00:00:00.000000000",
          "2024-01-09T00:00:00.000000000",
          "2024-01-10T00:00:00.000000000",
          "2024-01-11T00:00:00.000000000",
          "2024-01-12T00:00:00.000000000",
          "2024-01-15T00:00:00.000000000",
          "2024-01-16T00:00:00.000000000",
          "2024-01-17T00:00:00.000000000",
          "2024-01-18T00:00:00.000000000",
          "2024-01-19T00:00:00.000000000",
          "2024-01-22T00:00:00.000000000",
          "2024-01-23T00:00:00.000000000",
          "2024-01-24T00:00:00.000000000",
          "2024-01-25T00:00:00.000000000",
          "2024-01-26T00:00:00.000000000",
          "2024-01-29T00:00:00.000000000",
          "2024-01-30T00:00:00.000000000",
          "2024-01-31T00:00:00.000000000",
          "2024-02-01T00:00:00.000000000",
          "2024-02-02T00:00:00.000000000",
          "2024-02-05T00:00:00.000000000",
          "2024-02-06T00:00:00.000000000",
          "2024-02-07T00:00:00.000000000",
          "2024-02-08T00:00:00.000000000",
          "2024-02-09T00:00:00.000000000",
          "2024-02-14T00:00:00.000000000",
          "2024-02-15T00:00:00.000000000",
          "2024-02-16T00:00:00.000000000",
          "2024-02-19T00:00:00.000000000",
          "2024-02-20T00:00:00.000000000",
          "2024-02-21T00:00:00.000000000",
          "2024-02-22T00:00:00.000000000",
          "2024-02-23T00:00:00.000000000",
          "2024-02-26T00:00:00.000000000",
          "2024-02-27T00:00:00.000000000",
          "2024-02-28T00:00:00.000000000",
          "2024-02-29T00:00:00.000000000",
          "2024-03-01T00:00:00.000000000",
          "2024-03-04T00:00:00.000000000",
          "2024-03-05T00:00:00.000000000",
          "2024-03-06T00:00:00.000000000",
          "2024-03-07T00:00:00.000000000",
          "2024-03-08T00:00:00.000000000",
          "2024-03-11T00:00:00.000000000",
          "2024-03-12T00:00:00.000000000",
          "2024-03-13T00:00:00.000000000",
          "2024-03-14T00:00:00.000000000",
          "2024-03-15T00:00:00.000000000",
          "2024-03-18T00:00:00.000000000",
          "2024-03-19T00:00:00.000000000",
          "2024-03-20T00:00:00.000000000",
          "2024-03-21T00:00:00.000000000",
          "2024-03-22T00:00:00.000000000",
          "2024-03-25T00:00:00.000000000",
          "2024-03-26T00:00:00.000000000",
          "2024-03-27T00:00:00.000000000",
          "2024-03-28T00:00:00.000000000",
          "2024-04-01T00:00:00.000000000",
          "2024-04-02T00:00:00.000000000",
          "2024-04-03T00:00:00.000000000",
          "2024-04-04T00:00:00.000000000",
          "2024-04-05T00:00:00.000000000",
          "2024-04-08T00:00:00.000000000",
          "2024-04-09T00:00:00.000000000",
          "2024-04-10T00:00:00.000000000",
          "2024-04-11T00:00:00.000000000",
          "2024-04-12T00:00:00.000000000",
          "2024-04-15T00:00:00.000000000",
          "2024-04-16T00:00:00.000000000",
          "2024-04-17T00:00:00.000000000",
          "2024-04-18T00:00:00.000000000",
          "2024-04-19T00:00:00.000000000",
          "2024-04-22T00:00:00.000000000",
          "2024-04-23T00:00:00.000000000",
          "2024-04-24T00:00:00.000000000",
          "2024-04-25T00:00:00.000000000",
          "2024-04-26T00:00:00.000000000",
          "2024-04-29T00:00:00.000000000",
          "2024-04-30T00:00:00.000000000",
          "2024-05-02T00:00:00.000000000",
          "2024-05-03T00:00:00.000000000",
          "2024-05-06T00:00:00.000000000",
          "2024-05-07T00:00:00.000000000",
          "2024-05-08T00:00:00.000000000",
          "2024-05-09T00:00:00.000000000",
          "2024-05-10T00:00:00.000000000",
          "2024-05-13T00:00:00.000000000",
          "2024-05-14T00:00:00.000000000",
          "2024-05-15T00:00:00.000000000",
          "2024-05-16T00:00:00.000000000",
          "2024-05-17T00:00:00.000000000",
          "2024-05-20T00:00:00.000000000",
          "2024-05-21T00:00:00.000000000",
          "2024-05-22T00:00:00.000000000",
          "2024-05-23T00:00:00.000000000",
          "2024-05-24T00:00:00.000000000",
          "2024-05-27T00:00:00.000000000",
          "2024-05-28T00:00:00.000000000",
          "2024-05-29T00:00:00.000000000",
          "2024-05-31T00:00:00.000000000",
          "2024-06-03T00:00:00.000000000",
          "2024-06-04T00:00:00.000000000",
          "2024-06-05T00:00:00.000000000",
          "2024-06-06T00:00:00.000000000",
          "2024-06-07T00:00:00.000000000",
          "2024-06-10T00:00:00.000000000",
          "2024-06-11T00:00:00.000000000",
          "2024-06-12T00:00:00.000000000",
          "2024-06-13T00:00:00.000000000",
          "2024-06-14T00:00:00.000000000",
          "2024-06-17T00:00:00.000000000",
          "2024-06-18T00:00:00.000000000",
          "2024-06-19T00:00:00.000000000",
          "2024-06-20T00:00:00.000000000",
          "2024-06-21T00:00:00.000000000",
          "2024-06-24T00:00:00.000000000",
          "2024-06-25T00:00:00.000000000",
          "2024-06-26T00:00:00.000000000",
          "2024-06-27T00:00:00.000000000",
          "2024-06-28T00:00:00.000000000",
          "2024-07-01T00:00:00.000000000",
          "2024-07-02T00:00:00.000000000",
          "2024-07-03T00:00:00.000000000",
          "2024-07-04T00:00:00.000000000",
          "2024-07-05T00:00:00.000000000",
          "2024-07-08T00:00:00.000000000",
          "2024-07-09T00:00:00.000000000",
          "2024-07-10T00:00:00.000000000",
          "2024-07-11T00:00:00.000000000",
          "2024-07-12T00:00:00.000000000",
          "2024-07-15T00:00:00.000000000",
          "2024-07-16T00:00:00.000000000",
          "2024-07-17T00:00:00.000000000",
          "2024-07-18T00:00:00.000000000",
          "2024-07-19T00:00:00.000000000",
          "2024-07-22T00:00:00.000000000",
          "2024-07-23T00:00:00.000000000",
          "2024-07-24T00:00:00.000000000",
          "2024-07-25T00:00:00.000000000",
          "2024-07-26T00:00:00.000000000",
          "2024-07-29T00:00:00.000000000",
          "2024-07-30T00:00:00.000000000",
          "2024-07-31T00:00:00.000000000",
          "2024-08-01T00:00:00.000000000",
          "2024-08-02T00:00:00.000000000",
          "2024-08-05T00:00:00.000000000",
          "2024-08-06T00:00:00.000000000",
          "2024-08-07T00:00:00.000000000",
          "2024-08-08T00:00:00.000000000",
          "2024-08-09T00:00:00.000000000",
          "2024-08-12T00:00:00.000000000",
          "2024-08-13T00:00:00.000000000",
          "2024-08-14T00:00:00.000000000",
          "2024-08-15T00:00:00.000000000",
          "2024-08-16T00:00:00.000000000",
          "2024-08-19T00:00:00.000000000",
          "2024-08-20T00:00:00.000000000",
          "2024-08-21T00:00:00.000000000",
          "2024-08-22T00:00:00.000000000",
          "2024-08-23T00:00:00.000000000",
          "2024-08-26T00:00:00.000000000",
          "2024-08-27T00:00:00.000000000",
          "2024-08-28T00:00:00.000000000",
          "2024-08-29T00:00:00.000000000",
          "2024-08-30T00:00:00.000000000",
          "2024-09-02T00:00:00.000000000",
          "2024-09-03T00:00:00.000000000",
          "2024-09-04T00:00:00.000000000",
          "2024-09-05T00:00:00.000000000",
          "2024-09-06T00:00:00.000000000",
          "2024-09-09T00:00:00.000000000",
          "2024-09-10T00:00:00.000000000",
          "2024-09-11T00:00:00.000000000",
          "2024-09-12T00:00:00.000000000",
          "2024-09-13T00:00:00.000000000",
          "2024-09-16T00:00:00.000000000",
          "2024-09-17T00:00:00.000000000",
          "2024-09-18T00:00:00.000000000",
          "2024-09-19T00:00:00.000000000",
          "2024-09-20T00:00:00.000000000",
          "2024-09-23T00:00:00.000000000",
          "2024-09-24T00:00:00.000000000",
          "2024-09-25T00:00:00.000000000",
          "2024-09-26T00:00:00.000000000",
          "2024-09-27T00:00:00.000000000",
          "2024-09-30T00:00:00.000000000",
          "2024-10-01T00:00:00.000000000",
          "2024-10-02T00:00:00.000000000",
          "2024-10-03T00:00:00.000000000",
          "2024-10-04T00:00:00.000000000",
          "2024-10-07T00:00:00.000000000",
          "2024-10-08T00:00:00.000000000",
          "2024-10-09T00:00:00.000000000",
          "2024-10-10T00:00:00.000000000",
          "2024-10-11T00:00:00.000000000",
          "2024-10-14T00:00:00.000000000",
          "2024-10-15T00:00:00.000000000",
          "2024-10-16T00:00:00.000000000",
          "2024-10-17T00:00:00.000000000",
          "2024-10-18T00:00:00.000000000",
          "2024-10-21T00:00:00.000000000",
          "2024-10-22T00:00:00.000000000",
          "2024-10-23T00:00:00.000000000",
          "2024-10-24T00:00:00.000000000",
          "2024-10-25T00:00:00.000000000",
          "2024-10-28T00:00:00.000000000",
          "2024-10-29T00:00:00.000000000",
          "2024-10-30T00:00:00.000000000",
          "2024-10-31T00:00:00.000000000",
          "2024-11-01T00:00:00.000000000",
          "2024-11-04T00:00:00.000000000",
          "2024-11-05T00:00:00.000000000",
          "2024-11-06T00:00:00.000000000",
          "2024-11-07T00:00:00.000000000",
          "2024-11-08T00:00:00.000000000",
          "2024-11-11T00:00:00.000000000",
          "2024-11-12T00:00:00.000000000",
          "2024-11-13T00:00:00.000000000",
          "2024-11-14T00:00:00.000000000",
          "2024-11-18T00:00:00.000000000",
          "2024-11-19T00:00:00.000000000",
          "2024-11-21T00:00:00.000000000",
          "2024-11-22T00:00:00.000000000",
          "2024-11-25T00:00:00.000000000",
          "2024-11-26T00:00:00.000000000",
          "2024-11-27T00:00:00.000000000",
          "2024-11-28T00:00:00.000000000",
          "2024-11-29T00:00:00.000000000",
          "2024-12-02T00:00:00.000000000",
          "2024-12-03T00:00:00.000000000",
          "2024-12-04T00:00:00.000000000",
          "2024-12-05T00:00:00.000000000",
          "2024-12-06T00:00:00.000000000",
          "2024-12-09T00:00:00.000000000",
          "2024-12-10T00:00:00.000000000",
          "2024-12-11T00:00:00.000000000",
          "2024-12-12T00:00:00.000000000",
          "2024-12-13T00:00:00.000000000",
          "2024-12-16T00:00:00.000000000",
          "2024-12-17T00:00:00.000000000",
          "2024-12-18T00:00:00.000000000",
          "2024-12-19T00:00:00.000000000",
          "2024-12-20T00:00:00.000000000",
          "2024-12-23T00:00:00.000000000",
          "2024-12-26T00:00:00.000000000",
          "2024-12-27T00:00:00.000000000",
          "2024-12-30T00:00:00.000000000",
          "2025-01-02T00:00:00.000000000",
          "2025-01-03T00:00:00.000000000",
          "2025-01-06T00:00:00.000000000",
          "2025-01-07T00:00:00.000000000",
          "2025-01-08T00:00:00.000000000",
          "2025-01-09T00:00:00.000000000",
          "2025-01-10T00:00:00.000000000",
          "2025-01-13T00:00:00.000000000",
          "2025-01-14T00:00:00.000000000",
          "2025-01-15T00:00:00.000000000",
          "2025-01-16T00:00:00.000000000",
          "2025-01-17T00:00:00.000000000",
          "2025-01-20T00:00:00.000000000",
          "2025-01-21T00:00:00.000000000",
          "2025-01-22T00:00:00.000000000",
          "2025-01-23T00:00:00.000000000",
          "2025-01-24T00:00:00.000000000",
          "2025-01-27T00:00:00.000000000",
          "2025-01-28T00:00:00.000000000",
          "2025-01-29T00:00:00.000000000",
          "2025-01-30T00:00:00.000000000",
          "2025-01-31T00:00:00.000000000",
          "2025-02-03T00:00:00.000000000",
          "2025-02-04T00:00:00.000000000",
          "2025-02-05T00:00:00.000000000",
          "2025-02-06T00:00:00.000000000",
          "2025-02-07T00:00:00.000000000",
          "2025-02-10T00:00:00.000000000",
          "2025-02-11T00:00:00.000000000",
          "2025-02-12T00:00:00.000000000",
          "2025-02-13T00:00:00.000000000",
          "2025-02-14T00:00:00.000000000",
          "2025-02-17T00:00:00.000000000",
          "2025-02-18T00:00:00.000000000",
          "2025-02-19T00:00:00.000000000",
          "2025-02-20T00:00:00.000000000",
          "2025-02-21T00:00:00.000000000",
          "2025-02-24T00:00:00.000000000",
          "2025-02-25T00:00:00.000000000",
          "2025-02-26T00:00:00.000000000",
          "2025-02-27T00:00:00.000000000",
          "2025-02-28T00:00:00.000000000",
          "2025-03-05T00:00:00.000000000",
          "2025-03-06T00:00:00.000000000",
          "2025-03-07T00:00:00.000000000",
          "2025-03-10T00:00:00.000000000",
          "2025-03-11T00:00:00.000000000",
          "2025-03-12T00:00:00.000000000",
          "2025-03-13T00:00:00.000000000",
          "2025-03-14T00:00:00.000000000",
          "2025-03-17T00:00:00.000000000",
          "2025-03-18T00:00:00.000000000",
          "2025-03-19T00:00:00.000000000",
          "2025-03-20T00:00:00.000000000",
          "2025-03-21T00:00:00.000000000",
          "2025-03-24T00:00:00.000000000",
          "2025-03-25T00:00:00.000000000",
          "2025-03-26T00:00:00.000000000",
          "2025-03-27T00:00:00.000000000",
          "2025-03-28T00:00:00.000000000",
          "2025-03-31T00:00:00.000000000",
          "2025-04-01T00:00:00.000000000",
          "2025-04-02T00:00:00.000000000",
          "2025-04-03T00:00:00.000000000",
          "2025-04-04T00:00:00.000000000",
          "2025-04-07T00:00:00.000000000",
          "2025-04-08T00:00:00.000000000",
          "2025-04-09T00:00:00.000000000",
          "2025-04-10T00:00:00.000000000",
          "2025-04-11T00:00:00.000000000",
          "2025-04-14T00:00:00.000000000",
          "2025-04-15T00:00:00.000000000",
          "2025-04-16T00:00:00.000000000",
          "2025-04-17T00:00:00.000000000",
          "2025-04-22T00:00:00.000000000",
          "2025-04-23T00:00:00.000000000",
          "2025-04-24T00:00:00.000000000",
          "2025-04-25T00:00:00.000000000",
          "2025-04-28T00:00:00.000000000",
          "2025-04-29T00:00:00.000000000",
          "2025-04-30T00:00:00.000000000",
          "2025-05-02T00:00:00.000000000",
          "2025-05-05T00:00:00.000000000",
          "2025-05-06T00:00:00.000000000",
          "2025-05-07T00:00:00.000000000",
          "2025-05-08T00:00:00.000000000",
          "2025-05-09T00:00:00.000000000",
          "2025-05-12T00:00:00.000000000",
          "2025-05-13T00:00:00.000000000",
          "2025-05-14T00:00:00.000000000",
          "2025-05-15T00:00:00.000000000",
          "2025-05-16T00:00:00.000000000",
          "2025-05-19T00:00:00.000000000",
          "2025-05-20T00:00:00.000000000",
          "2025-05-21T00:00:00.000000000",
          "2025-05-22T00:00:00.000000000",
          "2025-05-23T00:00:00.000000000",
          "2025-05-26T00:00:00.000000000",
          "2025-05-27T00:00:00.000000000",
          "2025-05-28T00:00:00.000000000",
          "2025-05-29T00:00:00.000000000",
          "2025-05-30T00:00:00.000000000",
          "2025-06-02T00:00:00.000000000",
          "2025-06-03T00:00:00.000000000",
          "2025-06-04T00:00:00.000000000",
          "2025-06-05T00:00:00.000000000",
          "2025-06-06T00:00:00.000000000",
          "2025-06-09T00:00:00.000000000",
          "2025-06-10T00:00:00.000000000",
          "2025-06-11T00:00:00.000000000",
          "2025-06-12T00:00:00.000000000",
          "2025-06-13T00:00:00.000000000",
          "2025-06-16T00:00:00.000000000",
          "2025-06-17T00:00:00.000000000",
          "2025-06-18T00:00:00.000000000",
          "2025-06-20T00:00:00.000000000",
          "2025-06-23T00:00:00.000000000",
          "2025-06-24T00:00:00.000000000",
          "2025-06-25T00:00:00.000000000",
          "2025-06-26T00:00:00.000000000",
          "2025-06-27T00:00:00.000000000",
          "2025-06-30T00:00:00.000000000",
          "2025-07-01T00:00:00.000000000",
          "2025-07-02T00:00:00.000000000",
          "2025-07-03T00:00:00.000000000",
          "2025-07-04T00:00:00.000000000",
          "2025-07-07T00:00:00.000000000",
          "2025-07-08T00:00:00.000000000",
          "2025-07-09T00:00:00.000000000",
          "2025-07-10T00:00:00.000000000",
          "2025-07-11T00:00:00.000000000",
          "2025-07-14T00:00:00.000000000",
          "2025-07-15T00:00:00.000000000",
          "2025-07-16T00:00:00.000000000",
          "2025-07-17T00:00:00.000000000",
          "2025-07-18T00:00:00.000000000",
          "2025-07-21T00:00:00.000000000",
          "2025-07-22T00:00:00.000000000",
          "2025-07-23T00:00:00.000000000",
          "2025-07-24T00:00:00.000000000",
          "2025-07-25T00:00:00.000000000",
          "2025-07-28T00:00:00.000000000",
          "2025-07-29T00:00:00.000000000",
          "2025-07-30T00:00:00.000000000",
          "2025-07-31T00:00:00.000000000",
          "2025-08-01T00:00:00.000000000",
          "2025-08-04T00:00:00.000000000",
          "2025-08-05T00:00:00.000000000",
          "2025-08-06T00:00:00.000000000",
          "2025-08-07T00:00:00.000000000",
          "2025-08-08T00:00:00.000000000",
          "2025-08-11T00:00:00.000000000",
          "2025-08-12T00:00:00.000000000",
          "2025-08-13T00:00:00.000000000",
          "2025-08-14T00:00:00.000000000",
          "2025-08-15T00:00:00.000000000",
          "2025-08-18T00:00:00.000000000",
          "2025-08-19T00:00:00.000000000",
          "2025-08-20T00:00:00.000000000",
          "2025-08-21T00:00:00.000000000",
          "2025-08-22T00:00:00.000000000",
          "2025-08-25T00:00:00.000000000",
          "2025-08-26T00:00:00.000000000",
          "2025-08-27T00:00:00.000000000",
          "2025-08-28T00:00:00.000000000",
          "2025-08-29T00:00:00.000000000",
          "2025-09-01T00:00:00.000000000",
          "2025-09-02T00:00:00.000000000",
          "2025-09-03T00:00:00.000000000",
          "2025-09-04T00:00:00.000000000",
          "2025-09-05T00:00:00.000000000",
          "2025-09-08T00:00:00.000000000",
          "2025-09-09T00:00:00.000000000",
          "2025-09-10T00:00:00.000000000",
          "2025-09-11T00:00:00.000000000",
          "2025-09-12T00:00:00.000000000",
          "2025-09-15T00:00:00.000000000",
          "2025-09-16T00:00:00.000000000",
          "2025-09-17T00:00:00.000000000",
          "2025-09-18T00:00:00.000000000",
          "2025-09-19T00:00:00.000000000",
          "2025-09-22T00:00:00.000000000",
          "2025-09-23T00:00:00.000000000",
          "2025-09-24T00:00:00.000000000",
          "2025-09-25T00:00:00.000000000",
          "2025-09-26T00:00:00.000000000",
          "2025-09-29T00:00:00.000000000",
          "2025-09-30T00:00:00.000000000",
          "2025-10-01T00:00:00.000000000",
          "2025-10-02T00:00:00.000000000"
         ],
         "y": {
          "bdata": "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",
          "dtype": "f8"
         },
         "yaxis": "y3"
        }
       ],
       "layout": {
        "legend": {
         "x": 0.01,
         "y": 0.99
        },
        "template": {
         "data": {
          "bar": [
           {
            "error_x": {
             "color": "#2a3f5f"
            },
            "error_y": {
             "color": "#2a3f5f"
            },
            "marker": {
             "line": {
              "color": "#E5ECF6",
              "width": 0.5
             },
             "pattern": {
              "fillmode": "overlay",
              "size": 10,
              "solidity": 0.2
             }
            },
            "type": "bar"
           }
          ],
          "barpolar": [
           {
            "marker": {
             "line": {
              "color": "#E5ECF6",
              "width": 0.5
             },
             "pattern": {
              "fillmode": "overlay",
              "size": 10,
              "solidity": 0.2
             }
            },
            "type": "barpolar"
           }
          ],
          "carpet": [
           {
            "aaxis": {
             "endlinecolor": "#2a3f5f",
             "gridcolor": "white",
             "linecolor": "white",
             "minorgridcolor": "white",
             "startlinecolor": "#2a3f5f"
            },
            "baxis": {
             "endlinecolor": "#2a3f5f",
             "gridcolor": "white",
             "linecolor": "white",
             "minorgridcolor": "white",
             "startlinecolor": "#2a3f5f"
            },
            "type": "carpet"
           }
          ],
          "choropleth": [
           {
            "colorbar": {
             "outlinewidth": 0,
             "ticks": ""
            },
            "type": "choropleth"
           }
          ],
          "contour": [
           {
            "colorbar": {
             "outlinewidth": 0,
             "ticks": ""
            },
            "colorscale": [
             [
              0,
              "#0d0887"
             ],
             [
              0.1111111111111111,
              "#46039f"
             ],
             [
              0.2222222222222222,
              "#7201a8"
             ],
             [
              0.3333333333333333,
              "#9c179e"
             ],
             [
              0.4444444444444444,
              "#bd3786"
             ],
             [
              0.5555555555555556,
              "#d8576b"
             ],
             [
              0.6666666666666666,
              "#ed7953"
             ],
             [
              0.7777777777777778,
              "#fb9f3a"
             ],
             [
              0.8888888888888888,
              "#fdca26"
             ],
             [
              1,
              "#f0f921"
             ]
            ],
            "type": "contour"
           }
          ],
          "contourcarpet": [
           {
            "colorbar": {
             "outlinewidth": 0,
             "ticks": ""
            },
            "type": "contourcarpet"
           }
          ],
          "heatmap": [
           {
            "colorbar": {
             "outlinewidth": 0,
             "ticks": ""
            },
            "colorscale": [
             [
              0,
              "#0d0887"
             ],
             [
              0.1111111111111111,
              "#46039f"
             ],
             [
              0.2222222222222222,
              "#7201a8"
             ],
             [
              0.3333333333333333,
              "#9c179e"
             ],
             [
              0.4444444444444444,
              "#bd3786"
             ],
             [
              0.5555555555555556,
              "#d8576b"
             ],
             [
              0.6666666666666666,
              "#ed7953"
             ],
             [
              0.7777777777777778,
              "#fb9f3a"
             ],
             [
              0.8888888888888888,
              "#fdca26"
             ],
             [
              1,
              "#f0f921"
             ]
            ],
            "type": "heatmap"
           }
          ],
          "histogram": [
           {
            "marker": {
             "pattern": {
              "fillmode": "overlay",
              "size": 10,
              "solidity": 0.2
             }
            },
            "type": "histogram"
           }
          ],
          "histogram2d": [
           {
            "colorbar": {
             "outlinewidth": 0,
             "ticks": ""
            },
            "colorscale": [
             [
              0,
              "#0d0887"
             ],
             [
              0.1111111111111111,
              "#46039f"
             ],
             [
              0.2222222222222222,
              "#7201a8"
             ],
             [
              0.3333333333333333,
              "#9c179e"
             ],
             [
              0.4444444444444444,
              "#bd3786"
             ],
             [
              0.5555555555555556,
              "#d8576b"
             ],
             [
              0.6666666666666666,
              "#ed7953"
             ],
             [
              0.7777777777777778,
              "#fb9f3a"
             ],
             [
              0.8888888888888888,
              "#fdca26"
             ],
             [
              1,
              "#f0f921"
             ]
            ],
            "type": "histogram2d"
           }
          ],
          "histogram2dcontour": [
           {
            "colorbar": {
             "outlinewidth": 0,
             "ticks": ""
            },
            "colorscale": [
             [
              0,
              "#0d0887"
             ],
             [
              0.1111111111111111,
              "#46039f"
             ],
             [
              0.2222222222222222,
              "#7201a8"
             ],
             [
              0.3333333333333333,
              "#9c179e"
             ],
             [
              0.4444444444444444,
              "#bd3786"
             ],
             [
              0.5555555555555556,
              "#d8576b"
             ],
             [
              0.6666666666666666,
              "#ed7953"
             ],
             [
              0.7777777777777778,
              "#fb9f3a"
             ],
             [
              0.8888888888888888,
              "#fdca26"
             ],
             [
              1,
              "#f0f921"
             ]
            ],
            "type": "histogram2dcontour"
           }
          ],
          "mesh3d": [
           {
            "colorbar": {
             "outlinewidth": 0,
             "ticks": ""
            },
            "type": "mesh3d"
           }
          ],
          "parcoords": [
           {
            "line": {
             "colorbar": {
              "outlinewidth": 0,
              "ticks": ""
             }
            },
            "type": "parcoords"
           }
          ],
          "pie": [
           {
            "automargin": true,
            "type": "pie"
           }
          ],
          "scatter": [
           {
            "fillpattern": {
             "fillmode": "overlay",
             "size": 10,
             "solidity": 0.2
            },
            "type": "scatter"
           }
          ],
          "scatter3d": [
           {
            "line": {
             "colorbar": {
              "outlinewidth": 0,
              "ticks": ""
             }
            },
            "marker": {
             "colorbar": {
              "outlinewidth": 0,
              "ticks": ""
             }
            },
            "type": "scatter3d"
           }
          ],
          "scattercarpet": [
           {
            "marker": {
             "colorbar": {
              "outlinewidth": 0,
              "ticks": ""
             }
            },
            "type": "scattercarpet"
           }
          ],
          "scattergeo": [
           {
            "marker": {
             "colorbar": {
              "outlinewidth": 0,
              "ticks": ""
             }
            },
            "type": "scattergeo"
           }
          ],
          "scattergl": [
           {
            "marker": {
             "colorbar": {
              "outlinewidth": 0,
              "ticks": ""
             }
            },
            "type": "scattergl"
           }
          ],
          "scattermap": [
           {
            "marker": {
             "colorbar": {
              "outlinewidth": 0,
              "ticks": ""
             }
            },
            "type": "scattermap"
           }
          ],
          "scattermapbox": [
           {
            "marker": {
             "colorbar": {
              "outlinewidth": 0,
              "ticks": ""
             }
            },
            "type": "scattermapbox"
           }
          ],
          "scatterpolar": [
           {
            "marker": {
             "colorbar": {
              "outlinewidth": 0,
              "ticks": ""
             }
            },
            "type": "scatterpolar"
           }
          ],
          "scatterpolargl": [
           {
            "marker": {
             "colorbar": {
              "outlinewidth": 0,
              "ticks": ""
             }
            },
            "type": "scatterpolargl"
           }
          ],
          "scatterternary": [
           {
            "marker": {
             "colorbar": {
              "outlinewidth": 0,
              "ticks": ""
             }
            },
            "type": "scatterternary"
           }
          ],
          "surface": [
           {
            "colorbar": {
             "outlinewidth": 0,
             "ticks": ""
            },
            "colorscale": [
             [
              0,
              "#0d0887"
             ],
             [
              0.1111111111111111,
              "#46039f"
             ],
             [
              0.2222222222222222,
              "#7201a8"
             ],
             [
              0.3333333333333333,
              "#9c179e"
             ],
             [
              0.4444444444444444,
              "#bd3786"
             ],
             [
              0.5555555555555556,
              "#d8576b"
             ],
             [
              0.6666666666666666,
              "#ed7953"
             ],
             [
              0.7777777777777778,
              "#fb9f3a"
             ],
             [
              0.8888888888888888,
              "#fdca26"
             ],
             [
              1,
              "#f0f921"
             ]
            ],
            "type": "surface"
           }
          ],
          "table": [
           {
            "cells": {
             "fill": {
              "color": "#EBF0F8"
             },
             "line": {
              "color": "white"
             }
            },
            "header": {
             "fill": {
              "color": "#C8D4E3"
             },
             "line": {
              "color": "white"
             }
            },
            "type": "table"
           }
          ]
         },
         "layout": {
          "annotationdefaults": {
           "arrowcolor": "#2a3f5f",
           "arrowhead": 0,
           "arrowwidth": 1
          },
          "autotypenumbers": "strict",
          "coloraxis": {
           "colorbar": {
            "outlinewidth": 0,
            "ticks": ""
           }
          },
          "colorscale": {
           "diverging": [
            [
             0,
             "#8e0152"
            ],
            [
             0.1,
             "#c51b7d"
            ],
            [
             0.2,
             "#de77ae"
            ],
            [
             0.3,
             "#f1b6da"
            ],
            [
             0.4,
             "#fde0ef"
            ],
            [
             0.5,
             "#f7f7f7"
            ],
            [
             0.6,
             "#e6f5d0"
            ],
            [
             0.7,
             "#b8e186"
            ],
            [
             0.8,
             "#7fbc41"
            ],
            [
             0.9,
             "#4d9221"
            ],
            [
             1,
             "#276419"
            ]
           ],
           "sequential": [
            [
             0,
             "#0d0887"
            ],
            [
             0.1111111111111111,
             "#46039f"
            ],
            [
             0.2222222222222222,
             "#7201a8"
            ],
            [
             0.3333333333333333,
             "#9c179e"
            ],
            [
             0.4444444444444444,
             "#bd3786"
            ],
            [
             0.5555555555555556,
             "#d8576b"
            ],
            [
             0.6666666666666666,
             "#ed7953"
            ],
            [
             0.7777777777777778,
             "#fb9f3a"
            ],
            [
             0.8888888888888888,
             "#fdca26"
            ],
            [
             1,
             "#f0f921"
            ]
           ],
           "sequentialminus": [
            [
             0,
             "#0d0887"
            ],
            [
             0.1111111111111111,
             "#46039f"
            ],
            [
             0.2222222222222222,
             "#7201a8"
            ],
            [
             0.3333333333333333,
             "#9c179e"
            ],
            [
             0.4444444444444444,
             "#bd3786"
            ],
            [
             0.5555555555555556,
             "#d8576b"
            ],
            [
             0.6666666666666666,
             "#ed7953"
            ],
            [
             0.7777777777777778,
             "#fb9f3a"
            ],
            [
             0.8888888888888888,
             "#fdca26"
            ],
            [
             1,
             "#f0f921"
            ]
           ]
          },
          "colorway": [
           "#636efa",
           "#EF553B",
           "#00cc96",
           "#ab63fa",
           "#FFA15A",
           "#19d3f3",
           "#FF6692",
           "#B6E880",
           "#FF97FF",
           "#FECB52"
          ],
          "font": {
           "color": "#2a3f5f"
          },
          "geo": {
           "bgcolor": "white",
           "lakecolor": "white",
           "landcolor": "#E5ECF6",
           "showlakes": true,
           "showland": true,
           "subunitcolor": "white"
          },
          "hoverlabel": {
           "align": "left"
          },
          "hovermode": "closest",
          "mapbox": {
           "style": "light"
          },
          "paper_bgcolor": "white",
          "plot_bgcolor": "#E5ECF6",
          "polar": {
           "angularaxis": {
            "gridcolor": "white",
            "linecolor": "white",
            "ticks": ""
           },
           "bgcolor": "#E5ECF6",
           "radialaxis": {
            "gridcolor": "white",
            "linecolor": "white",
            "ticks": ""
           }
          },
          "scene": {
           "xaxis": {
            "backgroundcolor": "#E5ECF6",
            "gridcolor": "white",
            "gridwidth": 2,
            "linecolor": "white",
            "showbackground": true,
            "ticks": "",
            "zerolinecolor": "white"
           },
           "yaxis": {
            "backgroundcolor": "#E5ECF6",
            "gridcolor": "white",
            "gridwidth": 2,
            "linecolor": "white",
            "showbackground": true,
            "ticks": "",
            "zerolinecolor": "white"
           },
           "zaxis": {
            "backgroundcolor": "#E5ECF6",
            "gridcolor": "white",
            "gridwidth": 2,
            "linecolor": "white",
            "showbackground": true,
            "ticks": "",
            "zerolinecolor": "white"
           }
          },
          "shapedefaults": {
           "line": {
            "color": "#2a3f5f"
           }
          },
          "ternary": {
           "aaxis": {
            "gridcolor": "white",
            "linecolor": "white",
            "ticks": ""
           },
           "baxis": {
            "gridcolor": "white",
            "linecolor": "white",
            "ticks": ""
           },
           "bgcolor": "#E5ECF6",
           "caxis": {
            "gridcolor": "white",
            "linecolor": "white",
            "ticks": ""
           }
          },
          "title": {
           "x": 0.05
          },
          "xaxis": {
           "automargin": true,
           "gridcolor": "white",
           "linecolor": "white",
           "ticks": "",
           "title": {
            "standoff": 15
           },
           "zerolinecolor": "white",
           "zerolinewidth": 2
          },
          "yaxis": {
           "automargin": true,
           "gridcolor": "white",
           "linecolor": "white",
           "ticks": "",
           "title": {
            "standoff": 15
           },
           "zerolinecolor": "white",
           "zerolinewidth": 2
          }
         }
        },
        "title": {
         "text": "Preço PETR4.SA e Volatility Entropy"
        },
        "xaxis": {
         "title": {
          "text": "Data"
         }
        },
        "yaxis": {
         "title": {
          "text": "Preço PETR4.SA"
         }
        },
        "yaxis2": {
         "overlaying": "y",
         "side": "right",
         "title": {
          "text": "Volatility Entropy"
         }
        },
        "yaxis3": {
         "anchor": "free",
         "overlaying": "y",
         "position": 1,
         "showgrid": false,
         "side": "right",
         "title": {
          "text": "Volatility RSI"
         }
        }
       }
      }
     },
     "metadata": {},
     "output_type": "display_data"
    }
   ],
   "source": [
    "import plotly.graph_objects as go\n",
    "\n",
    "fig = go.Figure()\n",
    "\n",
    "fig.add_trace(go.Scatter(\n",
    "    y=data[\"Close\"][\"PETR4.SA\"],\n",
    "    x=data.index,\n",
    "    name=\"Preço PETR4.SA\",\n",
    "    yaxis=\"y1\"\n",
    "))\n",
    "\n",
    "fig.add_trace(go.Scatter(\n",
    "    x=data.index[61:],\n",
    "    y=vol_ent,\n",
    "    name=\"Volatility Entropy\",\n",
    "    yaxis=\"y2\"\n",
    "))\n",
    "\n",
    "fig.add_trace(go.Scatter(\n",
    "    x=data.index[61:],\n",
    "    y=vol_rsi[61:],\n",
    "    name=\"Volatility RSI\",\n",
    "    yaxis=\"y3\"\n",
    "))\n",
    "\n",
    "\n",
    "fig.update_layout(\n",
    "    yaxis3=dict(\n",
    "        title=\"Volatility RSI\",\n",
    "        anchor=\"free\",\n",
    "        overlaying=\"y\",\n",
    "        side=\"right\",\n",
    "        position=1.0,\n",
    "        showgrid=False\n",
    "    )\n",
    ")\n",
    "\n",
    "fig.update_layout(\n",
    "    title=\"Preço PETR4.SA e Volatility Entropy\",\n",
    "    xaxis_title=\"Data\",\n",
    "    yaxis=dict(title=\"Preço PETR4.SA\"),\n",
    "    yaxis2=dict(title=\"Volatility Entropy\", overlaying=\"y\", side=\"right\"),\n",
    "    legend=dict(x=0.01, y=0.99)\n",
    ")\n",
    "\n",
    "fig.show(fig_type=\"png\")"
   ]
  },
  {
   "cell_type": "markdown",
   "id": "b2616779",
   "metadata": {},
   "source": [
    "# Bollinger's Band"
   ]
  },
  {
   "cell_type": "code",
   "execution_count": 10,
   "id": "8294c290",
   "metadata": {},
   "outputs": [],
   "source": [
    "bb = bollinger_bands(data[\"Close\"][\"PETR4.SA\"])"
   ]
  },
  {
   "cell_type": "code",
   "execution_count": 11,
   "id": "9273e72e",
   "metadata": {},
   "outputs": [
    {
     "data": {
      "text/plain": [
       "Date\n",
       "2023-11-08    24.855495\n",
       "2023-12-06    25.323149\n",
       "2023-12-07    25.262672\n",
       "2024-06-14    28.935343\n",
       "2024-12-11    34.830196\n",
       "2025-07-18    30.302549\n",
       "2025-07-21    30.361217\n",
       "Name: PETR4.SA, dtype: float64"
      ]
     },
     "execution_count": 11,
     "metadata": {},
     "output_type": "execute_result"
    }
   ],
   "source": [
    "data[\"Close\"][\"PETR4.SA\"][bb]"
   ]
  },
  {
   "cell_type": "markdown",
   "id": "418522a7",
   "metadata": {},
   "source": [
    "# Hampel Filter"
   ]
  },
  {
   "cell_type": "code",
   "execution_count": 12,
   "id": "c83ba089",
   "metadata": {},
   "outputs": [],
   "source": [
    "hf = hampel_filter(data[\"Close\"][\"PETR4.SA\"], rolling_window=7)"
   ]
  },
  {
   "cell_type": "code",
   "execution_count": 13,
   "id": "80bd8c86",
   "metadata": {},
   "outputs": [
    {
     "data": {
      "text/plain": [
       "Date\n",
       "2024-05-22    30.161892\n",
       "2024-07-04    31.138037\n",
       "2024-10-09    31.938404\n",
       "2025-02-07    33.884270\n",
       "Name: PETR4.SA, dtype: float64"
      ]
     },
     "execution_count": 13,
     "metadata": {},
     "output_type": "execute_result"
    }
   ],
   "source": [
    "data[\"Close\"][\"PETR4.SA\"][hf]"
   ]
  },
  {
   "cell_type": "markdown",
   "id": "d721a459",
   "metadata": {},
   "source": [
    "# ADI-CV Framework"
   ]
  },
  {
   "cell_type": "code",
   "execution_count": 14,
   "id": "d7ad151f",
   "metadata": {},
   "outputs": [
    {
     "data": {
      "text/plain": [
       "(np.float64(1.0), np.float64(0.30696726060808555))"
      ]
     },
     "execution_count": 14,
     "metadata": {},
     "output_type": "execute_result"
    }
   ],
   "source": [
    "adi_cv(data[\"Volume\"][\"PETR4.SA\"])"
   ]
  },
  {
   "cell_type": "markdown",
   "id": "b21e8f9d",
   "metadata": {},
   "source": [
    "# Sampen"
   ]
  },
  {
   "cell_type": "code",
   "execution_count": 15,
   "id": "b778bd0d",
   "metadata": {},
   "outputs": [
    {
     "data": {
      "text/plain": [
       "np.float64(1.6222001640479518)"
      ]
     },
     "execution_count": 15,
     "metadata": {},
     "output_type": "execute_result"
    }
   ],
   "source": [
    "sample_entropy(norm, m=3)"
   ]
  },
  {
   "cell_type": "code",
   "execution_count": 16,
   "id": "e80832d8",
   "metadata": {},
   "outputs": [
    {
     "data": {
      "text/plain": [
       "np.float64(0.16791509477225003)"
      ]
     },
     "execution_count": 16,
     "metadata": {},
     "output_type": "execute_result"
    }
   ],
   "source": [
    "sample_entropy(pure_sine, m=2)"
   ]
  },
  {
   "cell_type": "markdown",
   "id": "64a5edd7",
   "metadata": {},
   "source": [
    "# Foreca"
   ]
  },
  {
   "cell_type": "code",
   "execution_count": 17,
   "id": "869394e7",
   "metadata": {},
   "outputs": [
    {
     "data": {
      "text/plain": [
       "0.5862713475212575"
      ]
     },
     "execution_count": 17,
     "metadata": {},
     "output_type": "execute_result"
    }
   ],
   "source": [
    "foreca(data[\"Close\"][\"PETR4.SA\"])"
   ]
  },
  {
   "cell_type": "code",
   "execution_count": 18,
   "id": "f3ce2558",
   "metadata": {},
   "outputs": [
    {
     "data": {
      "text/plain": [
       "0.9993976808641186"
      ]
     },
     "execution_count": 18,
     "metadata": {},
     "output_type": "execute_result"
    }
   ],
   "source": [
    "foreca(pure_sine)"
   ]
  },
  {
   "cell_type": "markdown",
   "id": "b461dd41",
   "metadata": {},
   "source": [
    "# Maximum Achievable Accuracy"
   ]
  },
  {
   "cell_type": "code",
   "execution_count": 19,
   "id": "2e1cc3c1",
   "metadata": {},
   "outputs": [
    {
     "data": {
      "text/plain": [
       "np.float64(0.797024153007754)"
      ]
     },
     "execution_count": 19,
     "metadata": {},
     "output_type": "execute_result"
    }
   ],
   "source": [
    "maximum_achievable_accuracy(norm, m=1)"
   ]
  },
  {
   "cell_type": "code",
   "execution_count": 20,
   "id": "4706a8ab",
   "metadata": {},
   "outputs": [
    {
     "data": {
      "text/plain": [
       "np.float64(0.9855199246783082)"
      ]
     },
     "execution_count": 20,
     "metadata": {},
     "output_type": "execute_result"
    }
   ],
   "source": [
    "maximum_achievable_accuracy(pure_sine, m=1)"
   ]
  },
  {
   "cell_type": "markdown",
   "id": "adc90af6",
   "metadata": {},
   "source": [
    "# Hurst's Exponent"
   ]
  },
  {
   "cell_type": "code",
   "execution_count": 27,
   "id": "86205dab",
   "metadata": {},
   "outputs": [
    {
     "data": {
      "text/plain": [
       "(0.6101434657728204, 0.0956610788551536)"
      ]
     },
     "execution_count": 27,
     "metadata": {},
     "output_type": "execute_result"
    }
   ],
   "source": [
    "hurst_exponent(np.log(data[\"Close\"][\"PETR4.SA\"]))"
   ]
  },
  {
   "cell_type": "code",
   "execution_count": 29,
   "id": "4afa7740",
   "metadata": {},
   "outputs": [
    {
     "data": {
      "application/vnd.plotly.v1+json": {
       "config": {
        "plotlyServerURL": "https://plot.ly"
       },
       "data": [
        {
         "name": "Preço PETR4.SA",
         "type": "scatter",
         "x": [
          "2023-10-02T00:00:00.000000000",
          "2023-10-03T00:00:00.000000000",
          "2023-10-04T00:00:00.000000000",
          "2023-10-05T00:00:00.000000000",
          "2023-10-06T00:00:00.000000000",
          "2023-10-09T00:00:00.000000000",
          "2023-10-10T00:00:00.000000000",
          "2023-10-11T00:00:00.000000000",
          "2023-10-13T00:00:00.000000000",
          "2023-10-16T00:00:00.000000000",
          "2023-10-17T00:00:00.000000000",
          "2023-10-18T00:00:00.000000000",
          "2023-10-19T00:00:00.000000000",
          "2023-10-20T00:00:00.000000000",
          "2023-10-23T00:00:00.000000000",
          "2023-10-24T00:00:00.000000000",
          "2023-10-25T00:00:00.000000000",
          "2023-10-26T00:00:00.000000000",
          "2023-10-27T00:00:00.000000000",
          "2023-10-30T00:00:00.000000000",
          "2023-10-31T00:00:00.000000000",
          "2023-11-01T00:00:00.000000000",
          "2023-11-03T00:00:00.000000000",
          "2023-11-06T00:00:00.000000000",
          "2023-11-07T00:00:00.000000000",
          "2023-11-08T00:00:00.000000000",
          "2023-11-09T00:00:00.000000000",
          "2023-11-10T00:00:00.000000000",
          "2023-11-13T00:00:00.000000000",
          "2023-11-14T00:00:00.000000000",
          "2023-11-16T00:00:00.000000000",
          "2023-11-17T00:00:00.000000000",
          "2023-11-20T00:00:00.000000000",
          "2023-11-21T00:00:00.000000000",
          "2023-11-22T00:00:00.000000000",
          "2023-11-23T00:00:00.000000000",
          "2023-11-24T00:00:00.000000000",
          "2023-11-27T00:00:00.000000000",
          "2023-11-28T00:00:00.000000000",
          "2023-11-29T00:00:00.000000000",
          "2023-11-30T00:00:00.000000000",
          "2023-12-01T00:00:00.000000000",
          "2023-12-04T00:00:00.000000000",
          "2023-12-05T00:00:00.000000000",
          "2023-12-06T00:00:00.000000000",
          "2023-12-07T00:00:00.000000000",
          "2023-12-08T00:00:00.000000000",
          "2023-12-11T00:00:00.000000000",
          "2023-12-12T00:00:00.000000000",
          "2023-12-13T00:00:00.000000000",
          "2023-12-14T00:00:00.000000000",
          "2023-12-15T00:00:00.000000000",
          "2023-12-18T00:00:00.000000000",
          "2023-12-19T00:00:00.000000000",
          "2023-12-20T00:00:00.000000000",
          "2023-12-21T00:00:00.000000000",
          "2023-12-22T00:00:00.000000000",
          "2023-12-26T00:00:00.000000000",
          "2023-12-27T00:00:00.000000000",
          "2023-12-28T00:00:00.000000000",
          "2024-01-02T00:00:00.000000000",
          "2024-01-03T00:00:00.000000000",
          "2024-01-04T00:00:00.000000000",
          "2024-01-05T00:00:00.000000000",
          "2024-01-08T00:00:00.000000000",
          "2024-01-09T00:00:00.000000000",
          "2024-01-10T00:00:00.000000000",
          "2024-01-11T00:00:00.000000000",
          "2024-01-12T00:00:00.000000000",
          "2024-01-15T00:00:00.000000000",
          "2024-01-16T00:00:00.000000000",
          "2024-01-17T00:00:00.000000000",
          "2024-01-18T00:00:00.000000000",
          "2024-01-19T00:00:00.000000000",
          "2024-01-22T00:00:00.000000000",
          "2024-01-23T00:00:00.000000000",
          "2024-01-24T00:00:00.000000000",
          "2024-01-25T00:00:00.000000000",
          "2024-01-26T00:00:00.000000000",
          "2024-01-29T00:00:00.000000000",
          "2024-01-30T00:00:00.000000000",
          "2024-01-31T00:00:00.000000000",
          "2024-02-01T00:00:00.000000000",
          "2024-02-02T00:00:00.000000000",
          "2024-02-05T00:00:00.000000000",
          "2024-02-06T00:00:00.000000000",
          "2024-02-07T00:00:00.000000000",
          "2024-02-08T00:00:00.000000000",
          "2024-02-09T00:00:00.000000000",
          "2024-02-14T00:00:00.000000000",
          "2024-02-15T00:00:00.000000000",
          "2024-02-16T00:00:00.000000000",
          "2024-02-19T00:00:00.000000000",
          "2024-02-20T00:00:00.000000000",
          "2024-02-21T00:00:00.000000000",
          "2024-02-22T00:00:00.000000000",
          "2024-02-23T00:00:00.000000000",
          "2024-02-26T00:00:00.000000000",
          "2024-02-27T00:00:00.000000000",
          "2024-02-28T00:00:00.000000000",
          "2024-02-29T00:00:00.000000000",
          "2024-03-01T00:00:00.000000000",
          "2024-03-04T00:00:00.000000000",
          "2024-03-05T00:00:00.000000000",
          "2024-03-06T00:00:00.000000000",
          "2024-03-07T00:00:00.000000000",
          "2024-03-08T00:00:00.000000000",
          "2024-03-11T00:00:00.000000000",
          "2024-03-12T00:00:00.000000000",
          "2024-03-13T00:00:00.000000000",
          "2024-03-14T00:00:00.000000000",
          "2024-03-15T00:00:00.000000000",
          "2024-03-18T00:00:00.000000000",
          "2024-03-19T00:00:00.000000000",
          "2024-03-20T00:00:00.000000000",
          "2024-03-21T00:00:00.000000000",
          "2024-03-22T00:00:00.000000000",
          "2024-03-25T00:00:00.000000000",
          "2024-03-26T00:00:00.000000000",
          "2024-03-27T00:00:00.000000000",
          "2024-03-28T00:00:00.000000000",
          "2024-04-01T00:00:00.000000000",
          "2024-04-02T00:00:00.000000000",
          "2024-04-03T00:00:00.000000000",
          "2024-04-04T00:00:00.000000000",
          "2024-04-05T00:00:00.000000000",
          "2024-04-08T00:00:00.000000000",
          "2024-04-09T00:00:00.000000000",
          "2024-04-10T00:00:00.000000000",
          "2024-04-11T00:00:00.000000000",
          "2024-04-12T00:00:00.000000000",
          "2024-04-15T00:00:00.000000000",
          "2024-04-16T00:00:00.000000000",
          "2024-04-17T00:00:00.000000000",
          "2024-04-18T00:00:00.000000000",
          "2024-04-19T00:00:00.000000000",
          "2024-04-22T00:00:00.000000000",
          "2024-04-23T00:00:00.000000000",
          "2024-04-24T00:00:00.000000000",
          "2024-04-25T00:00:00.000000000",
          "2024-04-26T00:00:00.000000000",
          "2024-04-29T00:00:00.000000000",
          "2024-04-30T00:00:00.000000000",
          "2024-05-02T00:00:00.000000000",
          "2024-05-03T00:00:00.000000000",
          "2024-05-06T00:00:00.000000000",
          "2024-05-07T00:00:00.000000000",
          "2024-05-08T00:00:00.000000000",
          "2024-05-09T00:00:00.000000000",
          "2024-05-10T00:00:00.000000000",
          "2024-05-13T00:00:00.000000000",
          "2024-05-14T00:00:00.000000000",
          "2024-05-15T00:00:00.000000000",
          "2024-05-16T00:00:00.000000000",
          "2024-05-17T00:00:00.000000000",
          "2024-05-20T00:00:00.000000000",
          "2024-05-21T00:00:00.000000000",
          "2024-05-22T00:00:00.000000000",
          "2024-05-23T00:00:00.000000000",
          "2024-05-24T00:00:00.000000000",
          "2024-05-27T00:00:00.000000000",
          "2024-05-28T00:00:00.000000000",
          "2024-05-29T00:00:00.000000000",
          "2024-05-31T00:00:00.000000000",
          "2024-06-03T00:00:00.000000000",
          "2024-06-04T00:00:00.000000000",
          "2024-06-05T00:00:00.000000000",
          "2024-06-06T00:00:00.000000000",
          "2024-06-07T00:00:00.000000000",
          "2024-06-10T00:00:00.000000000",
          "2024-06-11T00:00:00.000000000",
          "2024-06-12T00:00:00.000000000",
          "2024-06-13T00:00:00.000000000",
          "2024-06-14T00:00:00.000000000",
          "2024-06-17T00:00:00.000000000",
          "2024-06-18T00:00:00.000000000",
          "2024-06-19T00:00:00.000000000",
          "2024-06-20T00:00:00.000000000",
          "2024-06-21T00:00:00.000000000",
          "2024-06-24T00:00:00.000000000",
          "2024-06-25T00:00:00.000000000",
          "2024-06-26T00:00:00.000000000",
          "2024-06-27T00:00:00.000000000",
          "2024-06-28T00:00:00.000000000",
          "2024-07-01T00:00:00.000000000",
          "2024-07-02T00:00:00.000000000",
          "2024-07-03T00:00:00.000000000",
          "2024-07-04T00:00:00.000000000",
          "2024-07-05T00:00:00.000000000",
          "2024-07-08T00:00:00.000000000",
          "2024-07-09T00:00:00.000000000",
          "2024-07-10T00:00:00.000000000",
          "2024-07-11T00:00:00.000000000",
          "2024-07-12T00:00:00.000000000",
          "2024-07-15T00:00:00.000000000",
          "2024-07-16T00:00:00.000000000",
          "2024-07-17T00:00:00.000000000",
          "2024-07-18T00:00:00.000000000",
          "2024-07-19T00:00:00.000000000",
          "2024-07-22T00:00:00.000000000",
          "2024-07-23T00:00:00.000000000",
          "2024-07-24T00:00:00.000000000",
          "2024-07-25T00:00:00.000000000",
          "2024-07-26T00:00:00.000000000",
          "2024-07-29T00:00:00.000000000",
          "2024-07-30T00:00:00.000000000",
          "2024-07-31T00:00:00.000000000",
          "2024-08-01T00:00:00.000000000",
          "2024-08-02T00:00:00.000000000",
          "2024-08-05T00:00:00.000000000",
          "2024-08-06T00:00:00.000000000",
          "2024-08-07T00:00:00.000000000",
          "2024-08-08T00:00:00.000000000",
          "2024-08-09T00:00:00.000000000",
          "2024-08-12T00:00:00.000000000",
          "2024-08-13T00:00:00.000000000",
          "2024-08-14T00:00:00.000000000",
          "2024-08-15T00:00:00.000000000",
          "2024-08-16T00:00:00.000000000",
          "2024-08-19T00:00:00.000000000",
          "2024-08-20T00:00:00.000000000",
          "2024-08-21T00:00:00.000000000",
          "2024-08-22T00:00:00.000000000",
          "2024-08-23T00:00:00.000000000",
          "2024-08-26T00:00:00.000000000",
          "2024-08-27T00:00:00.000000000",
          "2024-08-28T00:00:00.000000000",
          "2024-08-29T00:00:00.000000000",
          "2024-08-30T00:00:00.000000000",
          "2024-09-02T00:00:00.000000000",
          "2024-09-03T00:00:00.000000000",
          "2024-09-04T00:00:00.000000000",
          "2024-09-05T00:00:00.000000000",
          "2024-09-06T00:00:00.000000000",
          "2024-09-09T00:00:00.000000000",
          "2024-09-10T00:00:00.000000000",
          "2024-09-11T00:00:00.000000000",
          "2024-09-12T00:00:00.000000000",
          "2024-09-13T00:00:00.000000000",
          "2024-09-16T00:00:00.000000000",
          "2024-09-17T00:00:00.000000000",
          "2024-09-18T00:00:00.000000000",
          "2024-09-19T00:00:00.000000000",
          "2024-09-20T00:00:00.000000000",
          "2024-09-23T00:00:00.000000000",
          "2024-09-24T00:00:00.000000000",
          "2024-09-25T00:00:00.000000000",
          "2024-09-26T00:00:00.000000000",
          "2024-09-27T00:00:00.000000000",
          "2024-09-30T00:00:00.000000000",
          "2024-10-01T00:00:00.000000000",
          "2024-10-02T00:00:00.000000000",
          "2024-10-03T00:00:00.000000000",
          "2024-10-04T00:00:00.000000000",
          "2024-10-07T00:00:00.000000000",
          "2024-10-08T00:00:00.000000000",
          "2024-10-09T00:00:00.000000000",
          "2024-10-10T00:00:00.000000000",
          "2024-10-11T00:00:00.000000000",
          "2024-10-14T00:00:00.000000000",
          "2024-10-15T00:00:00.000000000",
          "2024-10-16T00:00:00.000000000",
          "2024-10-17T00:00:00.000000000",
          "2024-10-18T00:00:00.000000000",
          "2024-10-21T00:00:00.000000000",
          "2024-10-22T00:00:00.000000000",
          "2024-10-23T00:00:00.000000000",
          "2024-10-24T00:00:00.000000000",
          "2024-10-25T00:00:00.000000000",
          "2024-10-28T00:00:00.000000000",
          "2024-10-29T00:00:00.000000000",
          "2024-10-30T00:00:00.000000000",
          "2024-10-31T00:00:00.000000000",
          "2024-11-01T00:00:00.000000000",
          "2024-11-04T00:00:00.000000000",
          "2024-11-05T00:00:00.000000000",
          "2024-11-06T00:00:00.000000000",
          "2024-11-07T00:00:00.000000000",
          "2024-11-08T00:00:00.000000000",
          "2024-11-11T00:00:00.000000000",
          "2024-11-12T00:00:00.000000000",
          "2024-11-13T00:00:00.000000000",
          "2024-11-14T00:00:00.000000000",
          "2024-11-18T00:00:00.000000000",
          "2024-11-19T00:00:00.000000000",
          "2024-11-21T00:00:00.000000000",
          "2024-11-22T00:00:00.000000000",
          "2024-11-25T00:00:00.000000000",
          "2024-11-26T00:00:00.000000000",
          "2024-11-27T00:00:00.000000000",
          "2024-11-28T00:00:00.000000000",
          "2024-11-29T00:00:00.000000000",
          "2024-12-02T00:00:00.000000000",
          "2024-12-03T00:00:00.000000000",
          "2024-12-04T00:00:00.000000000",
          "2024-12-05T00:00:00.000000000",
          "2024-12-06T00:00:00.000000000",
          "2024-12-09T00:00:00.000000000",
          "2024-12-10T00:00:00.000000000",
          "2024-12-11T00:00:00.000000000",
          "2024-12-12T00:00:00.000000000",
          "2024-12-13T00:00:00.000000000",
          "2024-12-16T00:00:00.000000000",
          "2024-12-17T00:00:00.000000000",
          "2024-12-18T00:00:00.000000000",
          "2024-12-19T00:00:00.000000000",
          "2024-12-20T00:00:00.000000000",
          "2024-12-23T00:00:00.000000000",
          "2024-12-26T00:00:00.000000000",
          "2024-12-27T00:00:00.000000000",
          "2024-12-30T00:00:00.000000000",
          "2025-01-02T00:00:00.000000000",
          "2025-01-03T00:00:00.000000000",
          "2025-01-06T00:00:00.000000000",
          "2025-01-07T00:00:00.000000000",
          "2025-01-08T00:00:00.000000000",
          "2025-01-09T00:00:00.000000000",
          "2025-01-10T00:00:00.000000000",
          "2025-01-13T00:00:00.000000000",
          "2025-01-14T00:00:00.000000000",
          "2025-01-15T00:00:00.000000000",
          "2025-01-16T00:00:00.000000000",
          "2025-01-17T00:00:00.000000000",
          "2025-01-20T00:00:00.000000000",
          "2025-01-21T00:00:00.000000000",
          "2025-01-22T00:00:00.000000000",
          "2025-01-23T00:00:00.000000000",
          "2025-01-24T00:00:00.000000000",
          "2025-01-27T00:00:00.000000000",
          "2025-01-28T00:00:00.000000000",
          "2025-01-29T00:00:00.000000000",
          "2025-01-30T00:00:00.000000000",
          "2025-01-31T00:00:00.000000000",
          "2025-02-03T00:00:00.000000000",
          "2025-02-04T00:00:00.000000000",
          "2025-02-05T00:00:00.000000000",
          "2025-02-06T00:00:00.000000000",
          "2025-02-07T00:00:00.000000000",
          "2025-02-10T00:00:00.000000000",
          "2025-02-11T00:00:00.000000000",
          "2025-02-12T00:00:00.000000000",
          "2025-02-13T00:00:00.000000000",
          "2025-02-14T00:00:00.000000000",
          "2025-02-17T00:00:00.000000000",
          "2025-02-18T00:00:00.000000000",
          "2025-02-19T00:00:00.000000000",
          "2025-02-20T00:00:00.000000000",
          "2025-02-21T00:00:00.000000000",
          "2025-02-24T00:00:00.000000000",
          "2025-02-25T00:00:00.000000000",
          "2025-02-26T00:00:00.000000000",
          "2025-02-27T00:00:00.000000000",
          "2025-02-28T00:00:00.000000000",
          "2025-03-05T00:00:00.000000000",
          "2025-03-06T00:00:00.000000000",
          "2025-03-07T00:00:00.000000000",
          "2025-03-10T00:00:00.000000000",
          "2025-03-11T00:00:00.000000000",
          "2025-03-12T00:00:00.000000000",
          "2025-03-13T00:00:00.000000000",
          "2025-03-14T00:00:00.000000000",
          "2025-03-17T00:00:00.000000000",
          "2025-03-18T00:00:00.000000000",
          "2025-03-19T00:00:00.000000000",
          "2025-03-20T00:00:00.000000000",
          "2025-03-21T00:00:00.000000000",
          "2025-03-24T00:00:00.000000000",
          "2025-03-25T00:00:00.000000000",
          "2025-03-26T00:00:00.000000000",
          "2025-03-27T00:00:00.000000000",
          "2025-03-28T00:00:00.000000000",
          "2025-03-31T00:00:00.000000000",
          "2025-04-01T00:00:00.000000000",
          "2025-04-02T00:00:00.000000000",
          "2025-04-03T00:00:00.000000000",
          "2025-04-04T00:00:00.000000000",
          "2025-04-07T00:00:00.000000000",
          "2025-04-08T00:00:00.000000000",
          "2025-04-09T00:00:00.000000000",
          "2025-04-10T00:00:00.000000000",
          "2025-04-11T00:00:00.000000000",
          "2025-04-14T00:00:00.000000000",
          "2025-04-15T00:00:00.000000000",
          "2025-04-16T00:00:00.000000000",
          "2025-04-17T00:00:00.000000000",
          "2025-04-22T00:00:00.000000000",
          "2025-04-23T00:00:00.000000000",
          "2025-04-24T00:00:00.000000000",
          "2025-04-25T00:00:00.000000000",
          "2025-04-28T00:00:00.000000000",
          "2025-04-29T00:00:00.000000000",
          "2025-04-30T00:00:00.000000000",
          "2025-05-02T00:00:00.000000000",
          "2025-05-05T00:00:00.000000000",
          "2025-05-06T00:00:00.000000000",
          "2025-05-07T00:00:00.000000000",
          "2025-05-08T00:00:00.000000000",
          "2025-05-09T00:00:00.000000000",
          "2025-05-12T00:00:00.000000000",
          "2025-05-13T00:00:00.000000000",
          "2025-05-14T00:00:00.000000000",
          "2025-05-15T00:00:00.000000000",
          "2025-05-16T00:00:00.000000000",
          "2025-05-19T00:00:00.000000000",
          "2025-05-20T00:00:00.000000000",
          "2025-05-21T00:00:00.000000000",
          "2025-05-22T00:00:00.000000000",
          "2025-05-23T00:00:00.000000000",
          "2025-05-26T00:00:00.000000000",
          "2025-05-27T00:00:00.000000000",
          "2025-05-28T00:00:00.000000000",
          "2025-05-29T00:00:00.000000000",
          "2025-05-30T00:00:00.000000000",
          "2025-06-02T00:00:00.000000000",
          "2025-06-03T00:00:00.000000000",
          "2025-06-04T00:00:00.000000000",
          "2025-06-05T00:00:00.000000000",
          "2025-06-06T00:00:00.000000000",
          "2025-06-09T00:00:00.000000000",
          "2025-06-10T00:00:00.000000000",
          "2025-06-11T00:00:00.000000000",
          "2025-06-12T00:00:00.000000000",
          "2025-06-13T00:00:00.000000000",
          "2025-06-16T00:00:00.000000000",
          "2025-06-17T00:00:00.000000000",
          "2025-06-18T00:00:00.000000000",
          "2025-06-20T00:00:00.000000000",
          "2025-06-23T00:00:00.000000000",
          "2025-06-24T00:00:00.000000000",
          "2025-06-25T00:00:00.000000000",
          "2025-06-26T00:00:00.000000000",
          "2025-06-27T00:00:00.000000000",
          "2025-06-30T00:00:00.000000000",
          "2025-07-01T00:00:00.000000000",
          "2025-07-02T00:00:00.000000000",
          "2025-07-03T00:00:00.000000000",
          "2025-07-04T00:00:00.000000000",
          "2025-07-07T00:00:00.000000000",
          "2025-07-08T00:00:00.000000000",
          "2025-07-09T00:00:00.000000000",
          "2025-07-10T00:00:00.000000000",
          "2025-07-11T00:00:00.000000000",
          "2025-07-14T00:00:00.000000000",
          "2025-07-15T00:00:00.000000000",
          "2025-07-16T00:00:00.000000000",
          "2025-07-17T00:00:00.000000000",
          "2025-07-18T00:00:00.000000000",
          "2025-07-21T00:00:00.000000000",
          "2025-07-22T00:00:00.000000000",
          "2025-07-23T00:00:00.000000000",
          "2025-07-24T00:00:00.000000000",
          "2025-07-25T00:00:00.000000000",
          "2025-07-28T00:00:00.000000000",
          "2025-07-29T00:00:00.000000000",
          "2025-07-30T00:00:00.000000000",
          "2025-07-31T00:00:00.000000000",
          "2025-08-01T00:00:00.000000000",
          "2025-08-04T00:00:00.000000000",
          "2025-08-05T00:00:00.000000000",
          "2025-08-06T00:00:00.000000000",
          "2025-08-07T00:00:00.000000000",
          "2025-08-08T00:00:00.000000000",
          "2025-08-11T00:00:00.000000000",
          "2025-08-12T00:00:00.000000000",
          "2025-08-13T00:00:00.000000000",
          "2025-08-14T00:00:00.000000000",
          "2025-08-15T00:00:00.000000000",
          "2025-08-18T00:00:00.000000000",
          "2025-08-19T00:00:00.000000000",
          "2025-08-20T00:00:00.000000000",
          "2025-08-21T00:00:00.000000000",
          "2025-08-22T00:00:00.000000000",
          "2025-08-25T00:00:00.000000000",
          "2025-08-26T00:00:00.000000000",
          "2025-08-27T00:00:00.000000000",
          "2025-08-28T00:00:00.000000000",
          "2025-08-29T00:00:00.000000000",
          "2025-09-01T00:00:00.000000000",
          "2025-09-02T00:00:00.000000000",
          "2025-09-03T00:00:00.000000000",
          "2025-09-04T00:00:00.000000000",
          "2025-09-05T00:00:00.000000000",
          "2025-09-08T00:00:00.000000000",
          "2025-09-09T00:00:00.000000000",
          "2025-09-10T00:00:00.000000000",
          "2025-09-11T00:00:00.000000000",
          "2025-09-12T00:00:00.000000000",
          "2025-09-15T00:00:00.000000000",
          "2025-09-16T00:00:00.000000000",
          "2025-09-17T00:00:00.000000000",
          "2025-09-18T00:00:00.000000000",
          "2025-09-19T00:00:00.000000000",
          "2025-09-22T00:00:00.000000000",
          "2025-09-23T00:00:00.000000000",
          "2025-09-24T00:00:00.000000000",
          "2025-09-25T00:00:00.000000000",
          "2025-09-26T00:00:00.000000000",
          "2025-09-29T00:00:00.000000000",
          "2025-09-30T00:00:00.000000000",
          "2025-10-01T00:00:00.000000000",
          "2025-10-02T00:00:00.000000000"
         ],
         "y": {
          "bdata": "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",
          "dtype": "f8"
         },
         "yaxis": "y"
        }
       ],
       "layout": {
        "template": {
         "data": {
          "bar": [
           {
            "error_x": {
             "color": "#2a3f5f"
            },
            "error_y": {
             "color": "#2a3f5f"
            },
            "marker": {
             "line": {
              "color": "#E5ECF6",
              "width": 0.5
             },
             "pattern": {
              "fillmode": "overlay",
              "size": 10,
              "solidity": 0.2
             }
            },
            "type": "bar"
           }
          ],
          "barpolar": [
           {
            "marker": {
             "line": {
              "color": "#E5ECF6",
              "width": 0.5
             },
             "pattern": {
              "fillmode": "overlay",
              "size": 10,
              "solidity": 0.2
             }
            },
            "type": "barpolar"
           }
          ],
          "carpet": [
           {
            "aaxis": {
             "endlinecolor": "#2a3f5f",
             "gridcolor": "white",
             "linecolor": "white",
             "minorgridcolor": "white",
             "startlinecolor": "#2a3f5f"
            },
            "baxis": {
             "endlinecolor": "#2a3f5f",
             "gridcolor": "white",
             "linecolor": "white",
             "minorgridcolor": "white",
             "startlinecolor": "#2a3f5f"
            },
            "type": "carpet"
           }
          ],
          "choropleth": [
           {
            "colorbar": {
             "outlinewidth": 0,
             "ticks": ""
            },
            "type": "choropleth"
           }
          ],
          "contour": [
           {
            "colorbar": {
             "outlinewidth": 0,
             "ticks": ""
            },
            "colorscale": [
             [
              0,
              "#0d0887"
             ],
             [
              0.1111111111111111,
              "#46039f"
             ],
             [
              0.2222222222222222,
              "#7201a8"
             ],
             [
              0.3333333333333333,
              "#9c179e"
             ],
             [
              0.4444444444444444,
              "#bd3786"
             ],
             [
              0.5555555555555556,
              "#d8576b"
             ],
             [
              0.6666666666666666,
              "#ed7953"
             ],
             [
              0.7777777777777778,
              "#fb9f3a"
             ],
             [
              0.8888888888888888,
              "#fdca26"
             ],
             [
              1,
              "#f0f921"
             ]
            ],
            "type": "contour"
           }
          ],
          "contourcarpet": [
           {
            "colorbar": {
             "outlinewidth": 0,
             "ticks": ""
            },
            "type": "contourcarpet"
           }
          ],
          "heatmap": [
           {
            "colorbar": {
             "outlinewidth": 0,
             "ticks": ""
            },
            "colorscale": [
             [
              0,
              "#0d0887"
             ],
             [
              0.1111111111111111,
              "#46039f"
             ],
             [
              0.2222222222222222,
              "#7201a8"
             ],
             [
              0.3333333333333333,
              "#9c179e"
             ],
             [
              0.4444444444444444,
              "#bd3786"
             ],
             [
              0.5555555555555556,
              "#d8576b"
             ],
             [
              0.6666666666666666,
              "#ed7953"
             ],
             [
              0.7777777777777778,
              "#fb9f3a"
             ],
             [
              0.8888888888888888,
              "#fdca26"
             ],
             [
              1,
              "#f0f921"
             ]
            ],
            "type": "heatmap"
           }
          ],
          "histogram": [
           {
            "marker": {
             "pattern": {
              "fillmode": "overlay",
              "size": 10,
              "solidity": 0.2
             }
            },
            "type": "histogram"
           }
          ],
          "histogram2d": [
           {
            "colorbar": {
             "outlinewidth": 0,
             "ticks": ""
            },
            "colorscale": [
             [
              0,
              "#0d0887"
             ],
             [
              0.1111111111111111,
              "#46039f"
             ],
             [
              0.2222222222222222,
              "#7201a8"
             ],
             [
              0.3333333333333333,
              "#9c179e"
             ],
             [
              0.4444444444444444,
              "#bd3786"
             ],
             [
              0.5555555555555556,
              "#d8576b"
             ],
             [
              0.6666666666666666,
              "#ed7953"
             ],
             [
              0.7777777777777778,
              "#fb9f3a"
             ],
             [
              0.8888888888888888,
              "#fdca26"
             ],
             [
              1,
              "#f0f921"
             ]
            ],
            "type": "histogram2d"
           }
          ],
          "histogram2dcontour": [
           {
            "colorbar": {
             "outlinewidth": 0,
             "ticks": ""
            },
            "colorscale": [
             [
              0,
              "#0d0887"
             ],
             [
              0.1111111111111111,
              "#46039f"
             ],
             [
              0.2222222222222222,
              "#7201a8"
             ],
             [
              0.3333333333333333,
              "#9c179e"
             ],
             [
              0.4444444444444444,
              "#bd3786"
             ],
             [
              0.5555555555555556,
              "#d8576b"
             ],
             [
              0.6666666666666666,
              "#ed7953"
             ],
             [
              0.7777777777777778,
              "#fb9f3a"
             ],
             [
              0.8888888888888888,
              "#fdca26"
             ],
             [
              1,
              "#f0f921"
             ]
            ],
            "type": "histogram2dcontour"
           }
          ],
          "mesh3d": [
           {
            "colorbar": {
             "outlinewidth": 0,
             "ticks": ""
            },
            "type": "mesh3d"
           }
          ],
          "parcoords": [
           {
            "line": {
             "colorbar": {
              "outlinewidth": 0,
              "ticks": ""
             }
            },
            "type": "parcoords"
           }
          ],
          "pie": [
           {
            "automargin": true,
            "type": "pie"
           }
          ],
          "scatter": [
           {
            "fillpattern": {
             "fillmode": "overlay",
             "size": 10,
             "solidity": 0.2
            },
            "type": "scatter"
           }
          ],
          "scatter3d": [
           {
            "line": {
             "colorbar": {
              "outlinewidth": 0,
              "ticks": ""
             }
            },
            "marker": {
             "colorbar": {
              "outlinewidth": 0,
              "ticks": ""
             }
            },
            "type": "scatter3d"
           }
          ],
          "scattercarpet": [
           {
            "marker": {
             "colorbar": {
              "outlinewidth": 0,
              "ticks": ""
             }
            },
            "type": "scattercarpet"
           }
          ],
          "scattergeo": [
           {
            "marker": {
             "colorbar": {
              "outlinewidth": 0,
              "ticks": ""
             }
            },
            "type": "scattergeo"
           }
          ],
          "scattergl": [
           {
            "marker": {
             "colorbar": {
              "outlinewidth": 0,
              "ticks": ""
             }
            },
            "type": "scattergl"
           }
          ],
          "scattermap": [
           {
            "marker": {
             "colorbar": {
              "outlinewidth": 0,
              "ticks": ""
             }
            },
            "type": "scattermap"
           }
          ],
          "scattermapbox": [
           {
            "marker": {
             "colorbar": {
              "outlinewidth": 0,
              "ticks": ""
             }
            },
            "type": "scattermapbox"
           }
          ],
          "scatterpolar": [
           {
            "marker": {
             "colorbar": {
              "outlinewidth": 0,
              "ticks": ""
             }
            },
            "type": "scatterpolar"
           }
          ],
          "scatterpolargl": [
           {
            "marker": {
             "colorbar": {
              "outlinewidth": 0,
              "ticks": ""
             }
            },
            "type": "scatterpolargl"
           }
          ],
          "scatterternary": [
           {
            "marker": {
             "colorbar": {
              "outlinewidth": 0,
              "ticks": ""
             }
            },
            "type": "scatterternary"
           }
          ],
          "surface": [
           {
            "colorbar": {
             "outlinewidth": 0,
             "ticks": ""
            },
            "colorscale": [
             [
              0,
              "#0d0887"
             ],
             [
              0.1111111111111111,
              "#46039f"
             ],
             [
              0.2222222222222222,
              "#7201a8"
             ],
             [
              0.3333333333333333,
              "#9c179e"
             ],
             [
              0.4444444444444444,
              "#bd3786"
             ],
             [
              0.5555555555555556,
              "#d8576b"
             ],
             [
              0.6666666666666666,
              "#ed7953"
             ],
             [
              0.7777777777777778,
              "#fb9f3a"
             ],
             [
              0.8888888888888888,
              "#fdca26"
             ],
             [
              1,
              "#f0f921"
             ]
            ],
            "type": "surface"
           }
          ],
          "table": [
           {
            "cells": {
             "fill": {
              "color": "#EBF0F8"
             },
             "line": {
              "color": "white"
             }
            },
            "header": {
             "fill": {
              "color": "#C8D4E3"
             },
             "line": {
              "color": "white"
             }
            },
            "type": "table"
           }
          ]
         },
         "layout": {
          "annotationdefaults": {
           "arrowcolor": "#2a3f5f",
           "arrowhead": 0,
           "arrowwidth": 1
          },
          "autotypenumbers": "strict",
          "coloraxis": {
           "colorbar": {
            "outlinewidth": 0,
            "ticks": ""
           }
          },
          "colorscale": {
           "diverging": [
            [
             0,
             "#8e0152"
            ],
            [
             0.1,
             "#c51b7d"
            ],
            [
             0.2,
             "#de77ae"
            ],
            [
             0.3,
             "#f1b6da"
            ],
            [
             0.4,
             "#fde0ef"
            ],
            [
             0.5,
             "#f7f7f7"
            ],
            [
             0.6,
             "#e6f5d0"
            ],
            [
             0.7,
             "#b8e186"
            ],
            [
             0.8,
             "#7fbc41"
            ],
            [
             0.9,
             "#4d9221"
            ],
            [
             1,
             "#276419"
            ]
           ],
           "sequential": [
            [
             0,
             "#0d0887"
            ],
            [
             0.1111111111111111,
             "#46039f"
            ],
            [
             0.2222222222222222,
             "#7201a8"
            ],
            [
             0.3333333333333333,
             "#9c179e"
            ],
            [
             0.4444444444444444,
             "#bd3786"
            ],
            [
             0.5555555555555556,
             "#d8576b"
            ],
            [
             0.6666666666666666,
             "#ed7953"
            ],
            [
             0.7777777777777778,
             "#fb9f3a"
            ],
            [
             0.8888888888888888,
             "#fdca26"
            ],
            [
             1,
             "#f0f921"
            ]
           ],
           "sequentialminus": [
            [
             0,
             "#0d0887"
            ],
            [
             0.1111111111111111,
             "#46039f"
            ],
            [
             0.2222222222222222,
             "#7201a8"
            ],
            [
             0.3333333333333333,
             "#9c179e"
            ],
            [
             0.4444444444444444,
             "#bd3786"
            ],
            [
             0.5555555555555556,
             "#d8576b"
            ],
            [
             0.6666666666666666,
             "#ed7953"
            ],
            [
             0.7777777777777778,
             "#fb9f3a"
            ],
            [
             0.8888888888888888,
             "#fdca26"
            ],
            [
             1,
             "#f0f921"
            ]
           ]
          },
          "colorway": [
           "#636efa",
           "#EF553B",
           "#00cc96",
           "#ab63fa",
           "#FFA15A",
           "#19d3f3",
           "#FF6692",
           "#B6E880",
           "#FF97FF",
           "#FECB52"
          ],
          "font": {
           "color": "#2a3f5f"
          },
          "geo": {
           "bgcolor": "white",
           "lakecolor": "white",
           "landcolor": "#E5ECF6",
           "showlakes": true,
           "showland": true,
           "subunitcolor": "white"
          },
          "hoverlabel": {
           "align": "left"
          },
          "hovermode": "closest",
          "mapbox": {
           "style": "light"
          },
          "paper_bgcolor": "white",
          "plot_bgcolor": "#E5ECF6",
          "polar": {
           "angularaxis": {
            "gridcolor": "white",
            "linecolor": "white",
            "ticks": ""
           },
           "bgcolor": "#E5ECF6",
           "radialaxis": {
            "gridcolor": "white",
            "linecolor": "white",
            "ticks": ""
           }
          },
          "scene": {
           "xaxis": {
            "backgroundcolor": "#E5ECF6",
            "gridcolor": "white",
            "gridwidth": 2,
            "linecolor": "white",
            "showbackground": true,
            "ticks": "",
            "zerolinecolor": "white"
           },
           "yaxis": {
            "backgroundcolor": "#E5ECF6",
            "gridcolor": "white",
            "gridwidth": 2,
            "linecolor": "white",
            "showbackground": true,
            "ticks": "",
            "zerolinecolor": "white"
           },
           "zaxis": {
            "backgroundcolor": "#E5ECF6",
            "gridcolor": "white",
            "gridwidth": 2,
            "linecolor": "white",
            "showbackground": true,
            "ticks": "",
            "zerolinecolor": "white"
           }
          },
          "shapedefaults": {
           "line": {
            "color": "#2a3f5f"
           }
          },
          "ternary": {
           "aaxis": {
            "gridcolor": "white",
            "linecolor": "white",
            "ticks": ""
           },
           "baxis": {
            "gridcolor": "white",
            "linecolor": "white",
            "ticks": ""
           },
           "bgcolor": "#E5ECF6",
           "caxis": {
            "gridcolor": "white",
            "linecolor": "white",
            "ticks": ""
           }
          },
          "title": {
           "x": 0.05
          },
          "xaxis": {
           "automargin": true,
           "gridcolor": "white",
           "linecolor": "white",
           "ticks": "",
           "title": {
            "standoff": 15
           },
           "zerolinecolor": "white",
           "zerolinewidth": 2
          },
          "yaxis": {
           "automargin": true,
           "gridcolor": "white",
           "linecolor": "white",
           "ticks": "",
           "title": {
            "standoff": 15
           },
           "zerolinecolor": "white",
           "zerolinewidth": 2
          }
         }
        }
       }
      }
     },
     "metadata": {},
     "output_type": "display_data"
    }
   ],
   "source": [
    "fig = go.Figure()\n",
    "\n",
    "fig.add_trace(go.Scatter(\n",
    "    y=data[\"Close\"][\"PETR4.SA\"],\n",
    "    x=data.index,\n",
    "    name=\"Preço PETR4.SA\",\n",
    "    yaxis=\"y1\"\n",
    "))\n",
    "\n",
    "\n",
    "fig.show(fig_type=\"png\")"
   ]
  },
  {
   "cell_type": "code",
   "execution_count": 186,
   "id": "d01899f8",
   "metadata": {},
   "outputs": [],
   "source": [
    "np.random.seed(42)\n",
    "n_points = 1000\n",
    "trend = np.linspace(0, 10, n_points)\n",
    "noise_trend = np.cumsum(standard_normal(n_points) * 0.1)\n",
    "mean_reversion = np.zeros(n_points)\n",
    "for t in range(1, n_points):\n",
    "    mean_reversion[t] = mean_reversion[t-1] * 0.6 + standard_normal() * 0.5\n",
    "brownian = np.cumsum(standard_normal(n_points))"
   ]
  },
  {
   "cell_type": "code",
   "execution_count": 187,
   "id": "77aea94b",
   "metadata": {},
   "outputs": [
    {
     "data": {
      "text/plain": [
       "(0.6419241912818302, 0.000952023886777138)"
      ]
     },
     "execution_count": 187,
     "metadata": {},
     "output_type": "execute_result"
    }
   ],
   "source": [
    "hurst_exponent(noise_trend)"
   ]
  },
  {
   "cell_type": "code",
   "execution_count": 188,
   "id": "df47c202",
   "metadata": {},
   "outputs": [
    {
     "data": {
      "text/plain": [
       "(0.3685698852341455, 0.05402692976986088)"
      ]
     },
     "execution_count": 188,
     "metadata": {},
     "output_type": "execute_result"
    }
   ],
   "source": [
    "hurst_exponent(mean_reversion)"
   ]
  },
  {
   "cell_type": "code",
   "execution_count": 30,
   "id": "c80e44d7",
   "metadata": {},
   "outputs": [
    {
     "data": {
      "text/plain": [
       "(0.8575205638768405, 0.0014654668633357023)"
      ]
     },
     "execution_count": 30,
     "metadata": {},
     "output_type": "execute_result"
    }
   ],
   "source": [
    "hurst_exponent(pure_sine)"
   ]
  }
 ],
 "metadata": {
  "kernelspec": {
   "display_name": "tinyshift",
   "language": "python",
   "name": "python3"
  },
  "language_info": {
   "codemirror_mode": {
    "name": "ipython",
    "version": 3
   },
   "file_extension": ".py",
   "mimetype": "text/x-python",
   "name": "python",
   "nbconvert_exporter": "python",
   "pygments_lexer": "ipython3",
   "version": "3.12.3"
  }
 },
 "nbformat": 4,
 "nbformat_minor": 5
}
