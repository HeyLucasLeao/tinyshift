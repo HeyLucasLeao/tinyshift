{
 "cells": [
  {
   "cell_type": "code",
   "execution_count": 1,
   "id": "f56fe688",
   "metadata": {},
   "outputs": [],
   "source": [
    "import sys\n",
    "import os\n",
    "sys.path.append(os.path.abspath(\"../..\"))\n",
    "import numpy as np\n",
    "import yfinance as yf\n",
    "import plotly.express as px\n",
    "from tinyshift.series import relative_strength_index, bollinger_bands, adi_cv, foreca, maximum_achievable_accuracy, sample_entropy, hampel_filter, hurst_exponent, standardize_returns\n",
    "from tinyshift.stats import trailing_window\n",
    "from numpy.random import standard_normal"
   ]
  },
  {
   "cell_type": "code",
   "execution_count": 2,
   "id": "3e5496d5",
   "metadata": {},
   "outputs": [
    {
     "name": "stderr",
     "output_type": "stream",
     "text": [
      "[*********************100%***********************]  1 of 1 completed\n"
     ]
    }
   ],
   "source": [
    "ticker = 'PETR4.SA'\n",
    "period = '2y'\n",
    "data = yf.download(ticker, period=period, interval=\"1d\", auto_adjust=True)\n",
    "t = np.linspace(0, 10, 1000)\n",
    "pure_sine = np.sin(2 * np.pi * 1 * t)  # Perfectly forecastable"
   ]
  },
  {
   "cell_type": "code",
   "execution_count": 3,
   "id": "98b6bb91",
   "metadata": {},
   "outputs": [],
   "source": [
    "r = standardize_returns(data[\"Close\"][\"PETR4.SA\"])"
   ]
  },
  {
   "cell_type": "markdown",
   "id": "20d495d4",
   "metadata": {},
   "source": [
    "# RSI"
   ]
  },
  {
   "cell_type": "code",
   "execution_count": 4,
   "id": "6ae9593c",
   "metadata": {},
   "outputs": [],
   "source": [
    "vol_rsi = relative_strength_index(data[\"Close\"][\"PETR4.SA\"], rolling_window=14)"
   ]
  },
  {
   "cell_type": "code",
   "execution_count": 5,
   "id": "f05842ae",
   "metadata": {},
   "outputs": [
    {
     "data": {
      "application/vnd.plotly.v1+json": {
       "config": {
        "plotlyServerURL": "https://plot.ly"
       },
       "data": [
        {
         "hovertemplate": "variable=0<br>index=%{x}<br>value=%{y}<extra></extra>",
         "legendgroup": "0",
         "line": {
          "color": "#636efa",
          "dash": "solid"
         },
         "marker": {
          "symbol": "circle"
         },
         "mode": "lines",
         "name": "0",
         "orientation": "v",
         "showlegend": true,
         "type": "scatter",
         "x": {
          "bdata": "AAABAAIAAwAEAAUABgAHAAgACQAKAAsADAANAA4ADwAQABEAEgATABQAFQAWABcAGAAZABoAGwAcAB0AHgAfACAAIQAiACMAJAAlACYAJwAoACkAKgArACwALQAuAC8AMAAxADIAMwA0ADUANgA3ADgAOQA6ADsAPAA9AD4APwBAAEEAQgBDAEQARQBGAEcASABJAEoASwBMAE0ATgBPAFAAUQBSAFMAVABVAFYAVwBYAFkAWgBbAFwAXQBeAF8AYABhAGIAYwBkAGUAZgBnAGgAaQBqAGsAbABtAG4AbwBwAHEAcgBzAHQAdQB2AHcAeAB5AHoAewB8AH0AfgB/AIAAgQCCAIMAhACFAIYAhwCIAIkAigCLAIwAjQCOAI8AkACRAJIAkwCUAJUAlgCXAJgAmQCaAJsAnACdAJ4AnwCgAKEAogCjAKQApQCmAKcAqACpAKoAqwCsAK0ArgCvALAAsQCyALMAtAC1ALYAtwC4ALkAugC7ALwAvQC+AL8AwADBAMIAwwDEAMUAxgDHAMgAyQDKAMsAzADNAM4AzwDQANEA0gDTANQA1QDWANcA2ADZANoA2wDcAN0A3gDfAOAA4QDiAOMA5ADlAOYA5wDoAOkA6gDrAOwA7QDuAO8A8ADxAPIA8wD0APUA9gD3APgA+QD6APsA/AD9AP4A/wAAAQEBAgEDAQQBBQEGAQcBCAEJAQoBCwEMAQ0BDgEPARABEQESARMBFAEVARYBFwEYARkBGgEbARwBHQEeAR8BIAEhASIBIwEkASUBJgEnASgBKQEqASsBLAEtAS4BLwEwATEBMgEzATQBNQE2ATcBOAE5AToBOwE8AT0BPgE/AUABQQFCAUMBRAFFAUYBRwFIAUkBSgFLAUwBTQFOAU8BUAFRAVIBUwFUAVUBVgFXAVgBWQFaAVsBXAFdAV4BXwFgAWEBYgFjAWQBZQFmAWcBaAFpAWoBawFsAW0BbgFvAXABcQFyAXMBdAF1AXYBdwF4AXkBegF7AXwBfQF+AX8BgAGBAYIBgwGEAYUBhgGHAYgBiQGKAYsBjAGNAY4BjwGQAZEBkgGTAZQBlQGWAZcBmAGZAZoBmwGcAZ0BngGfAaABoQGiAaMBpAGlAaYBpwGoAakBqgGrAawBrQGuAa8BsAGxAbIBswG0AbUBtgG3AbgBuQG6AbsBvAG9Ab4BvwHAAcEBwgHDAcQBxQHGAccByAHJAcoBywHMAc0BzgHPAdAB0QHSAdMB1AHVAdYB1wHYAdkB2gHbAdwB3QHeAd8B4AHhAeIB4wHkAeUB5gHnAegB6QHqAesB7AHtAe4B7wHwAfEB8gHzAfQB",
          "dtype": "i2"
         },
         "xaxis": "x",
         "y": {
          "bdata": "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",
          "dtype": "f8"
         },
         "yaxis": "y"
        }
       ],
       "layout": {
        "legend": {
         "title": {
          "text": "variable"
         },
         "tracegroupgap": 0
        },
        "template": {
         "data": {
          "bar": [
           {
            "error_x": {
             "color": "#2a3f5f"
            },
            "error_y": {
             "color": "#2a3f5f"
            },
            "marker": {
             "line": {
              "color": "#E5ECF6",
              "width": 0.5
             },
             "pattern": {
              "fillmode": "overlay",
              "size": 10,
              "solidity": 0.2
             }
            },
            "type": "bar"
           }
          ],
          "barpolar": [
           {
            "marker": {
             "line": {
              "color": "#E5ECF6",
              "width": 0.5
             },
             "pattern": {
              "fillmode": "overlay",
              "size": 10,
              "solidity": 0.2
             }
            },
            "type": "barpolar"
           }
          ],
          "carpet": [
           {
            "aaxis": {
             "endlinecolor": "#2a3f5f",
             "gridcolor": "white",
             "linecolor": "white",
             "minorgridcolor": "white",
             "startlinecolor": "#2a3f5f"
            },
            "baxis": {
             "endlinecolor": "#2a3f5f",
             "gridcolor": "white",
             "linecolor": "white",
             "minorgridcolor": "white",
             "startlinecolor": "#2a3f5f"
            },
            "type": "carpet"
           }
          ],
          "choropleth": [
           {
            "colorbar": {
             "outlinewidth": 0,
             "ticks": ""
            },
            "type": "choropleth"
           }
          ],
          "contour": [
           {
            "colorbar": {
             "outlinewidth": 0,
             "ticks": ""
            },
            "colorscale": [
             [
              0,
              "#0d0887"
             ],
             [
              0.1111111111111111,
              "#46039f"
             ],
             [
              0.2222222222222222,
              "#7201a8"
             ],
             [
              0.3333333333333333,
              "#9c179e"
             ],
             [
              0.4444444444444444,
              "#bd3786"
             ],
             [
              0.5555555555555556,
              "#d8576b"
             ],
             [
              0.6666666666666666,
              "#ed7953"
             ],
             [
              0.7777777777777778,
              "#fb9f3a"
             ],
             [
              0.8888888888888888,
              "#fdca26"
             ],
             [
              1,
              "#f0f921"
             ]
            ],
            "type": "contour"
           }
          ],
          "contourcarpet": [
           {
            "colorbar": {
             "outlinewidth": 0,
             "ticks": ""
            },
            "type": "contourcarpet"
           }
          ],
          "heatmap": [
           {
            "colorbar": {
             "outlinewidth": 0,
             "ticks": ""
            },
            "colorscale": [
             [
              0,
              "#0d0887"
             ],
             [
              0.1111111111111111,
              "#46039f"
             ],
             [
              0.2222222222222222,
              "#7201a8"
             ],
             [
              0.3333333333333333,
              "#9c179e"
             ],
             [
              0.4444444444444444,
              "#bd3786"
             ],
             [
              0.5555555555555556,
              "#d8576b"
             ],
             [
              0.6666666666666666,
              "#ed7953"
             ],
             [
              0.7777777777777778,
              "#fb9f3a"
             ],
             [
              0.8888888888888888,
              "#fdca26"
             ],
             [
              1,
              "#f0f921"
             ]
            ],
            "type": "heatmap"
           }
          ],
          "histogram": [
           {
            "marker": {
             "pattern": {
              "fillmode": "overlay",
              "size": 10,
              "solidity": 0.2
             }
            },
            "type": "histogram"
           }
          ],
          "histogram2d": [
           {
            "colorbar": {
             "outlinewidth": 0,
             "ticks": ""
            },
            "colorscale": [
             [
              0,
              "#0d0887"
             ],
             [
              0.1111111111111111,
              "#46039f"
             ],
             [
              0.2222222222222222,
              "#7201a8"
             ],
             [
              0.3333333333333333,
              "#9c179e"
             ],
             [
              0.4444444444444444,
              "#bd3786"
             ],
             [
              0.5555555555555556,
              "#d8576b"
             ],
             [
              0.6666666666666666,
              "#ed7953"
             ],
             [
              0.7777777777777778,
              "#fb9f3a"
             ],
             [
              0.8888888888888888,
              "#fdca26"
             ],
             [
              1,
              "#f0f921"
             ]
            ],
            "type": "histogram2d"
           }
          ],
          "histogram2dcontour": [
           {
            "colorbar": {
             "outlinewidth": 0,
             "ticks": ""
            },
            "colorscale": [
             [
              0,
              "#0d0887"
             ],
             [
              0.1111111111111111,
              "#46039f"
             ],
             [
              0.2222222222222222,
              "#7201a8"
             ],
             [
              0.3333333333333333,
              "#9c179e"
             ],
             [
              0.4444444444444444,
              "#bd3786"
             ],
             [
              0.5555555555555556,
              "#d8576b"
             ],
             [
              0.6666666666666666,
              "#ed7953"
             ],
             [
              0.7777777777777778,
              "#fb9f3a"
             ],
             [
              0.8888888888888888,
              "#fdca26"
             ],
             [
              1,
              "#f0f921"
             ]
            ],
            "type": "histogram2dcontour"
           }
          ],
          "mesh3d": [
           {
            "colorbar": {
             "outlinewidth": 0,
             "ticks": ""
            },
            "type": "mesh3d"
           }
          ],
          "parcoords": [
           {
            "line": {
             "colorbar": {
              "outlinewidth": 0,
              "ticks": ""
             }
            },
            "type": "parcoords"
           }
          ],
          "pie": [
           {
            "automargin": true,
            "type": "pie"
           }
          ],
          "scatter": [
           {
            "fillpattern": {
             "fillmode": "overlay",
             "size": 10,
             "solidity": 0.2
            },
            "type": "scatter"
           }
          ],
          "scatter3d": [
           {
            "line": {
             "colorbar": {
              "outlinewidth": 0,
              "ticks": ""
             }
            },
            "marker": {
             "colorbar": {
              "outlinewidth": 0,
              "ticks": ""
             }
            },
            "type": "scatter3d"
           }
          ],
          "scattercarpet": [
           {
            "marker": {
             "colorbar": {
              "outlinewidth": 0,
              "ticks": ""
             }
            },
            "type": "scattercarpet"
           }
          ],
          "scattergeo": [
           {
            "marker": {
             "colorbar": {
              "outlinewidth": 0,
              "ticks": ""
             }
            },
            "type": "scattergeo"
           }
          ],
          "scattergl": [
           {
            "marker": {
             "colorbar": {
              "outlinewidth": 0,
              "ticks": ""
             }
            },
            "type": "scattergl"
           }
          ],
          "scattermap": [
           {
            "marker": {
             "colorbar": {
              "outlinewidth": 0,
              "ticks": ""
             }
            },
            "type": "scattermap"
           }
          ],
          "scattermapbox": [
           {
            "marker": {
             "colorbar": {
              "outlinewidth": 0,
              "ticks": ""
             }
            },
            "type": "scattermapbox"
           }
          ],
          "scatterpolar": [
           {
            "marker": {
             "colorbar": {
              "outlinewidth": 0,
              "ticks": ""
             }
            },
            "type": "scatterpolar"
           }
          ],
          "scatterpolargl": [
           {
            "marker": {
             "colorbar": {
              "outlinewidth": 0,
              "ticks": ""
             }
            },
            "type": "scatterpolargl"
           }
          ],
          "scatterternary": [
           {
            "marker": {
             "colorbar": {
              "outlinewidth": 0,
              "ticks": ""
             }
            },
            "type": "scatterternary"
           }
          ],
          "surface": [
           {
            "colorbar": {
             "outlinewidth": 0,
             "ticks": ""
            },
            "colorscale": [
             [
              0,
              "#0d0887"
             ],
             [
              0.1111111111111111,
              "#46039f"
             ],
             [
              0.2222222222222222,
              "#7201a8"
             ],
             [
              0.3333333333333333,
              "#9c179e"
             ],
             [
              0.4444444444444444,
              "#bd3786"
             ],
             [
              0.5555555555555556,
              "#d8576b"
             ],
             [
              0.6666666666666666,
              "#ed7953"
             ],
             [
              0.7777777777777778,
              "#fb9f3a"
             ],
             [
              0.8888888888888888,
              "#fdca26"
             ],
             [
              1,
              "#f0f921"
             ]
            ],
            "type": "surface"
           }
          ],
          "table": [
           {
            "cells": {
             "fill": {
              "color": "#EBF0F8"
             },
             "line": {
              "color": "white"
             }
            },
            "header": {
             "fill": {
              "color": "#C8D4E3"
             },
             "line": {
              "color": "white"
             }
            },
            "type": "table"
           }
          ]
         },
         "layout": {
          "annotationdefaults": {
           "arrowcolor": "#2a3f5f",
           "arrowhead": 0,
           "arrowwidth": 1
          },
          "autotypenumbers": "strict",
          "coloraxis": {
           "colorbar": {
            "outlinewidth": 0,
            "ticks": ""
           }
          },
          "colorscale": {
           "diverging": [
            [
             0,
             "#8e0152"
            ],
            [
             0.1,
             "#c51b7d"
            ],
            [
             0.2,
             "#de77ae"
            ],
            [
             0.3,
             "#f1b6da"
            ],
            [
             0.4,
             "#fde0ef"
            ],
            [
             0.5,
             "#f7f7f7"
            ],
            [
             0.6,
             "#e6f5d0"
            ],
            [
             0.7,
             "#b8e186"
            ],
            [
             0.8,
             "#7fbc41"
            ],
            [
             0.9,
             "#4d9221"
            ],
            [
             1,
             "#276419"
            ]
           ],
           "sequential": [
            [
             0,
             "#0d0887"
            ],
            [
             0.1111111111111111,
             "#46039f"
            ],
            [
             0.2222222222222222,
             "#7201a8"
            ],
            [
             0.3333333333333333,
             "#9c179e"
            ],
            [
             0.4444444444444444,
             "#bd3786"
            ],
            [
             0.5555555555555556,
             "#d8576b"
            ],
            [
             0.6666666666666666,
             "#ed7953"
            ],
            [
             0.7777777777777778,
             "#fb9f3a"
            ],
            [
             0.8888888888888888,
             "#fdca26"
            ],
            [
             1,
             "#f0f921"
            ]
           ],
           "sequentialminus": [
            [
             0,
             "#0d0887"
            ],
            [
             0.1111111111111111,
             "#46039f"
            ],
            [
             0.2222222222222222,
             "#7201a8"
            ],
            [
             0.3333333333333333,
             "#9c179e"
            ],
            [
             0.4444444444444444,
             "#bd3786"
            ],
            [
             0.5555555555555556,
             "#d8576b"
            ],
            [
             0.6666666666666666,
             "#ed7953"
            ],
            [
             0.7777777777777778,
             "#fb9f3a"
            ],
            [
             0.8888888888888888,
             "#fdca26"
            ],
            [
             1,
             "#f0f921"
            ]
           ]
          },
          "colorway": [
           "#636efa",
           "#EF553B",
           "#00cc96",
           "#ab63fa",
           "#FFA15A",
           "#19d3f3",
           "#FF6692",
           "#B6E880",
           "#FF97FF",
           "#FECB52"
          ],
          "font": {
           "color": "#2a3f5f"
          },
          "geo": {
           "bgcolor": "white",
           "lakecolor": "white",
           "landcolor": "#E5ECF6",
           "showlakes": true,
           "showland": true,
           "subunitcolor": "white"
          },
          "hoverlabel": {
           "align": "left"
          },
          "hovermode": "closest",
          "mapbox": {
           "style": "light"
          },
          "paper_bgcolor": "white",
          "plot_bgcolor": "#E5ECF6",
          "polar": {
           "angularaxis": {
            "gridcolor": "white",
            "linecolor": "white",
            "ticks": ""
           },
           "bgcolor": "#E5ECF6",
           "radialaxis": {
            "gridcolor": "white",
            "linecolor": "white",
            "ticks": ""
           }
          },
          "scene": {
           "xaxis": {
            "backgroundcolor": "#E5ECF6",
            "gridcolor": "white",
            "gridwidth": 2,
            "linecolor": "white",
            "showbackground": true,
            "ticks": "",
            "zerolinecolor": "white"
           },
           "yaxis": {
            "backgroundcolor": "#E5ECF6",
            "gridcolor": "white",
            "gridwidth": 2,
            "linecolor": "white",
            "showbackground": true,
            "ticks": "",
            "zerolinecolor": "white"
           },
           "zaxis": {
            "backgroundcolor": "#E5ECF6",
            "gridcolor": "white",
            "gridwidth": 2,
            "linecolor": "white",
            "showbackground": true,
            "ticks": "",
            "zerolinecolor": "white"
           }
          },
          "shapedefaults": {
           "line": {
            "color": "#2a3f5f"
           }
          },
          "ternary": {
           "aaxis": {
            "gridcolor": "white",
            "linecolor": "white",
            "ticks": ""
           },
           "baxis": {
            "gridcolor": "white",
            "linecolor": "white",
            "ticks": ""
           },
           "bgcolor": "#E5ECF6",
           "caxis": {
            "gridcolor": "white",
            "linecolor": "white",
            "ticks": ""
           }
          },
          "title": {
           "x": 0.05
          },
          "xaxis": {
           "automargin": true,
           "gridcolor": "white",
           "linecolor": "white",
           "ticks": "",
           "title": {
            "standoff": 15
           },
           "zerolinecolor": "white",
           "zerolinewidth": 2
          },
          "yaxis": {
           "automargin": true,
           "gridcolor": "white",
           "linecolor": "white",
           "ticks": "",
           "title": {
            "standoff": 15
           },
           "zerolinecolor": "white",
           "zerolinewidth": 2
          }
         }
        },
        "title": {
         "text": "PETR4.SA Closing Prices"
        },
        "xaxis": {
         "anchor": "y",
         "domain": [
          0,
          1
         ],
         "title": {
          "text": "index"
         }
        },
        "yaxis": {
         "anchor": "x",
         "domain": [
          0,
          1
         ],
         "title": {
          "text": "value"
         }
        }
       }
      }
     },
     "metadata": {},
     "output_type": "display_data"
    }
   ],
   "source": [
    "px.line(vol_rsi, title=f\"{ticker} Closing Prices\").show(fig_type=\"png\")"
   ]
  },
  {
   "cell_type": "markdown",
   "id": "dea4f795",
   "metadata": {},
   "source": [
    "# Entropy Volatility"
   ]
  },
  {
   "cell_type": "code",
   "execution_count": 6,
   "id": "3a839c52",
   "metadata": {},
   "outputs": [],
   "source": [
    "vol_ent = trailing_window(r, rolling_window=60, func=sample_entropy, m=1)"
   ]
  },
  {
   "cell_type": "code",
   "execution_count": 7,
   "id": "3bc31ec1",
   "metadata": {},
   "outputs": [
    {
     "data": {
      "application/vnd.plotly.v1+json": {
       "config": {
        "plotlyServerURL": "https://plot.ly"
       },
       "data": [
        {
         "hovertemplate": "variable=0<br>index=%{x}<br>value=%{y}<extra></extra>",
         "legendgroup": "0",
         "line": {
          "color": "#636efa",
          "dash": "solid"
         },
         "marker": {
          "symbol": "circle"
         },
         "mode": "lines",
         "name": "0",
         "orientation": "v",
         "showlegend": true,
         "type": "scatter",
         "x": {
          "bdata": "AAABAAIAAwAEAAUABgAHAAgACQAKAAsADAANAA4ADwAQABEAEgATABQAFQAWABcAGAAZABoAGwAcAB0AHgAfACAAIQAiACMAJAAlACYAJwAoACkAKgArACwALQAuAC8AMAAxADIAMwA0ADUANgA3ADgAOQA6ADsAPAA9AD4APwBAAEEAQgBDAEQARQBGAEcASABJAEoASwBMAE0ATgBPAFAAUQBSAFMAVABVAFYAVwBYAFkAWgBbAFwAXQBeAF8AYABhAGIAYwBkAGUAZgBnAGgAaQBqAGsAbABtAG4AbwBwAHEAcgBzAHQAdQB2AHcAeAB5AHoAewB8AH0AfgB/AIAAgQCCAIMAhACFAIYAhwCIAIkAigCLAIwAjQCOAI8AkACRAJIAkwCUAJUAlgCXAJgAmQCaAJsAnACdAJ4AnwCgAKEAogCjAKQApQCmAKcAqACpAKoAqwCsAK0ArgCvALAAsQCyALMAtAC1ALYAtwC4ALkAugC7ALwAvQC+AL8AwADBAMIAwwDEAMUAxgDHAMgAyQDKAMsAzADNAM4AzwDQANEA0gDTANQA1QDWANcA2ADZANoA2wDcAN0A3gDfAOAA4QDiAOMA5ADlAOYA5wDoAOkA6gDrAOwA7QDuAO8A8ADxAPIA8wD0APUA9gD3APgA+QD6APsA/AD9AP4A/wAAAQEBAgEDAQQBBQEGAQcBCAEJAQoBCwEMAQ0BDgEPARABEQESARMBFAEVARYBFwEYARkBGgEbARwBHQEeAR8BIAEhASIBIwEkASUBJgEnASgBKQEqASsBLAEtAS4BLwEwATEBMgEzATQBNQE2ATcBOAE5AToBOwE8AT0BPgE/AUABQQFCAUMBRAFFAUYBRwFIAUkBSgFLAUwBTQFOAU8BUAFRAVIBUwFUAVUBVgFXAVgBWQFaAVsBXAFdAV4BXwFgAWEBYgFjAWQBZQFmAWcBaAFpAWoBawFsAW0BbgFvAXABcQFyAXMBdAF1AXYBdwF4AXkBegF7AXwBfQF+AX8BgAGBAYIBgwGEAYUBhgGHAYgBiQGKAYsBjAGNAY4BjwGQAZEBkgGTAZQBlQGWAZcBmAGZAZoBmwGcAZ0BngGfAaABoQGiAaMBpAGlAaYBpwGoAakBqgGrAawBrQGuAa8BsAGxAbIBswG0AbUBtgG3AbgBuQG6AbsBvAG9Ab4BvwHAAcEBwgHDAcQBxQHGAccByAHJAcoBywHMAc0BzgHPAdAB0QHSAdMB1AHVAdYB1wHYAdkB2gHbAdwB3QHeAd8B4AHhAeIB4wHkAeUB5gHnAegB6QHqAesB7AHtAe4B7wHwAfEB8gHzAQ==",
          "dtype": "i2"
         },
         "xaxis": "x",
         "y": {
          "bdata": "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",
          "dtype": "f8"
         },
         "yaxis": "y"
        }
       ],
       "layout": {
        "legend": {
         "title": {
          "text": "variable"
         },
         "tracegroupgap": 0
        },
        "template": {
         "data": {
          "bar": [
           {
            "error_x": {
             "color": "#2a3f5f"
            },
            "error_y": {
             "color": "#2a3f5f"
            },
            "marker": {
             "line": {
              "color": "#E5ECF6",
              "width": 0.5
             },
             "pattern": {
              "fillmode": "overlay",
              "size": 10,
              "solidity": 0.2
             }
            },
            "type": "bar"
           }
          ],
          "barpolar": [
           {
            "marker": {
             "line": {
              "color": "#E5ECF6",
              "width": 0.5
             },
             "pattern": {
              "fillmode": "overlay",
              "size": 10,
              "solidity": 0.2
             }
            },
            "type": "barpolar"
           }
          ],
          "carpet": [
           {
            "aaxis": {
             "endlinecolor": "#2a3f5f",
             "gridcolor": "white",
             "linecolor": "white",
             "minorgridcolor": "white",
             "startlinecolor": "#2a3f5f"
            },
            "baxis": {
             "endlinecolor": "#2a3f5f",
             "gridcolor": "white",
             "linecolor": "white",
             "minorgridcolor": "white",
             "startlinecolor": "#2a3f5f"
            },
            "type": "carpet"
           }
          ],
          "choropleth": [
           {
            "colorbar": {
             "outlinewidth": 0,
             "ticks": ""
            },
            "type": "choropleth"
           }
          ],
          "contour": [
           {
            "colorbar": {
             "outlinewidth": 0,
             "ticks": ""
            },
            "colorscale": [
             [
              0,
              "#0d0887"
             ],
             [
              0.1111111111111111,
              "#46039f"
             ],
             [
              0.2222222222222222,
              "#7201a8"
             ],
             [
              0.3333333333333333,
              "#9c179e"
             ],
             [
              0.4444444444444444,
              "#bd3786"
             ],
             [
              0.5555555555555556,
              "#d8576b"
             ],
             [
              0.6666666666666666,
              "#ed7953"
             ],
             [
              0.7777777777777778,
              "#fb9f3a"
             ],
             [
              0.8888888888888888,
              "#fdca26"
             ],
             [
              1,
              "#f0f921"
             ]
            ],
            "type": "contour"
           }
          ],
          "contourcarpet": [
           {
            "colorbar": {
             "outlinewidth": 0,
             "ticks": ""
            },
            "type": "contourcarpet"
           }
          ],
          "heatmap": [
           {
            "colorbar": {
             "outlinewidth": 0,
             "ticks": ""
            },
            "colorscale": [
             [
              0,
              "#0d0887"
             ],
             [
              0.1111111111111111,
              "#46039f"
             ],
             [
              0.2222222222222222,
              "#7201a8"
             ],
             [
              0.3333333333333333,
              "#9c179e"
             ],
             [
              0.4444444444444444,
              "#bd3786"
             ],
             [
              0.5555555555555556,
              "#d8576b"
             ],
             [
              0.6666666666666666,
              "#ed7953"
             ],
             [
              0.7777777777777778,
              "#fb9f3a"
             ],
             [
              0.8888888888888888,
              "#fdca26"
             ],
             [
              1,
              "#f0f921"
             ]
            ],
            "type": "heatmap"
           }
          ],
          "histogram": [
           {
            "marker": {
             "pattern": {
              "fillmode": "overlay",
              "size": 10,
              "solidity": 0.2
             }
            },
            "type": "histogram"
           }
          ],
          "histogram2d": [
           {
            "colorbar": {
             "outlinewidth": 0,
             "ticks": ""
            },
            "colorscale": [
             [
              0,
              "#0d0887"
             ],
             [
              0.1111111111111111,
              "#46039f"
             ],
             [
              0.2222222222222222,
              "#7201a8"
             ],
             [
              0.3333333333333333,
              "#9c179e"
             ],
             [
              0.4444444444444444,
              "#bd3786"
             ],
             [
              0.5555555555555556,
              "#d8576b"
             ],
             [
              0.6666666666666666,
              "#ed7953"
             ],
             [
              0.7777777777777778,
              "#fb9f3a"
             ],
             [
              0.8888888888888888,
              "#fdca26"
             ],
             [
              1,
              "#f0f921"
             ]
            ],
            "type": "histogram2d"
           }
          ],
          "histogram2dcontour": [
           {
            "colorbar": {
             "outlinewidth": 0,
             "ticks": ""
            },
            "colorscale": [
             [
              0,
              "#0d0887"
             ],
             [
              0.1111111111111111,
              "#46039f"
             ],
             [
              0.2222222222222222,
              "#7201a8"
             ],
             [
              0.3333333333333333,
              "#9c179e"
             ],
             [
              0.4444444444444444,
              "#bd3786"
             ],
             [
              0.5555555555555556,
              "#d8576b"
             ],
             [
              0.6666666666666666,
              "#ed7953"
             ],
             [
              0.7777777777777778,
              "#fb9f3a"
             ],
             [
              0.8888888888888888,
              "#fdca26"
             ],
             [
              1,
              "#f0f921"
             ]
            ],
            "type": "histogram2dcontour"
           }
          ],
          "mesh3d": [
           {
            "colorbar": {
             "outlinewidth": 0,
             "ticks": ""
            },
            "type": "mesh3d"
           }
          ],
          "parcoords": [
           {
            "line": {
             "colorbar": {
              "outlinewidth": 0,
              "ticks": ""
             }
            },
            "type": "parcoords"
           }
          ],
          "pie": [
           {
            "automargin": true,
            "type": "pie"
           }
          ],
          "scatter": [
           {
            "fillpattern": {
             "fillmode": "overlay",
             "size": 10,
             "solidity": 0.2
            },
            "type": "scatter"
           }
          ],
          "scatter3d": [
           {
            "line": {
             "colorbar": {
              "outlinewidth": 0,
              "ticks": ""
             }
            },
            "marker": {
             "colorbar": {
              "outlinewidth": 0,
              "ticks": ""
             }
            },
            "type": "scatter3d"
           }
          ],
          "scattercarpet": [
           {
            "marker": {
             "colorbar": {
              "outlinewidth": 0,
              "ticks": ""
             }
            },
            "type": "scattercarpet"
           }
          ],
          "scattergeo": [
           {
            "marker": {
             "colorbar": {
              "outlinewidth": 0,
              "ticks": ""
             }
            },
            "type": "scattergeo"
           }
          ],
          "scattergl": [
           {
            "marker": {
             "colorbar": {
              "outlinewidth": 0,
              "ticks": ""
             }
            },
            "type": "scattergl"
           }
          ],
          "scattermap": [
           {
            "marker": {
             "colorbar": {
              "outlinewidth": 0,
              "ticks": ""
             }
            },
            "type": "scattermap"
           }
          ],
          "scattermapbox": [
           {
            "marker": {
             "colorbar": {
              "outlinewidth": 0,
              "ticks": ""
             }
            },
            "type": "scattermapbox"
           }
          ],
          "scatterpolar": [
           {
            "marker": {
             "colorbar": {
              "outlinewidth": 0,
              "ticks": ""
             }
            },
            "type": "scatterpolar"
           }
          ],
          "scatterpolargl": [
           {
            "marker": {
             "colorbar": {
              "outlinewidth": 0,
              "ticks": ""
             }
            },
            "type": "scatterpolargl"
           }
          ],
          "scatterternary": [
           {
            "marker": {
             "colorbar": {
              "outlinewidth": 0,
              "ticks": ""
             }
            },
            "type": "scatterternary"
           }
          ],
          "surface": [
           {
            "colorbar": {
             "outlinewidth": 0,
             "ticks": ""
            },
            "colorscale": [
             [
              0,
              "#0d0887"
             ],
             [
              0.1111111111111111,
              "#46039f"
             ],
             [
              0.2222222222222222,
              "#7201a8"
             ],
             [
              0.3333333333333333,
              "#9c179e"
             ],
             [
              0.4444444444444444,
              "#bd3786"
             ],
             [
              0.5555555555555556,
              "#d8576b"
             ],
             [
              0.6666666666666666,
              "#ed7953"
             ],
             [
              0.7777777777777778,
              "#fb9f3a"
             ],
             [
              0.8888888888888888,
              "#fdca26"
             ],
             [
              1,
              "#f0f921"
             ]
            ],
            "type": "surface"
           }
          ],
          "table": [
           {
            "cells": {
             "fill": {
              "color": "#EBF0F8"
             },
             "line": {
              "color": "white"
             }
            },
            "header": {
             "fill": {
              "color": "#C8D4E3"
             },
             "line": {
              "color": "white"
             }
            },
            "type": "table"
           }
          ]
         },
         "layout": {
          "annotationdefaults": {
           "arrowcolor": "#2a3f5f",
           "arrowhead": 0,
           "arrowwidth": 1
          },
          "autotypenumbers": "strict",
          "coloraxis": {
           "colorbar": {
            "outlinewidth": 0,
            "ticks": ""
           }
          },
          "colorscale": {
           "diverging": [
            [
             0,
             "#8e0152"
            ],
            [
             0.1,
             "#c51b7d"
            ],
            [
             0.2,
             "#de77ae"
            ],
            [
             0.3,
             "#f1b6da"
            ],
            [
             0.4,
             "#fde0ef"
            ],
            [
             0.5,
             "#f7f7f7"
            ],
            [
             0.6,
             "#e6f5d0"
            ],
            [
             0.7,
             "#b8e186"
            ],
            [
             0.8,
             "#7fbc41"
            ],
            [
             0.9,
             "#4d9221"
            ],
            [
             1,
             "#276419"
            ]
           ],
           "sequential": [
            [
             0,
             "#0d0887"
            ],
            [
             0.1111111111111111,
             "#46039f"
            ],
            [
             0.2222222222222222,
             "#7201a8"
            ],
            [
             0.3333333333333333,
             "#9c179e"
            ],
            [
             0.4444444444444444,
             "#bd3786"
            ],
            [
             0.5555555555555556,
             "#d8576b"
            ],
            [
             0.6666666666666666,
             "#ed7953"
            ],
            [
             0.7777777777777778,
             "#fb9f3a"
            ],
            [
             0.8888888888888888,
             "#fdca26"
            ],
            [
             1,
             "#f0f921"
            ]
           ],
           "sequentialminus": [
            [
             0,
             "#0d0887"
            ],
            [
             0.1111111111111111,
             "#46039f"
            ],
            [
             0.2222222222222222,
             "#7201a8"
            ],
            [
             0.3333333333333333,
             "#9c179e"
            ],
            [
             0.4444444444444444,
             "#bd3786"
            ],
            [
             0.5555555555555556,
             "#d8576b"
            ],
            [
             0.6666666666666666,
             "#ed7953"
            ],
            [
             0.7777777777777778,
             "#fb9f3a"
            ],
            [
             0.8888888888888888,
             "#fdca26"
            ],
            [
             1,
             "#f0f921"
            ]
           ]
          },
          "colorway": [
           "#636efa",
           "#EF553B",
           "#00cc96",
           "#ab63fa",
           "#FFA15A",
           "#19d3f3",
           "#FF6692",
           "#B6E880",
           "#FF97FF",
           "#FECB52"
          ],
          "font": {
           "color": "#2a3f5f"
          },
          "geo": {
           "bgcolor": "white",
           "lakecolor": "white",
           "landcolor": "#E5ECF6",
           "showlakes": true,
           "showland": true,
           "subunitcolor": "white"
          },
          "hoverlabel": {
           "align": "left"
          },
          "hovermode": "closest",
          "mapbox": {
           "style": "light"
          },
          "paper_bgcolor": "white",
          "plot_bgcolor": "#E5ECF6",
          "polar": {
           "angularaxis": {
            "gridcolor": "white",
            "linecolor": "white",
            "ticks": ""
           },
           "bgcolor": "#E5ECF6",
           "radialaxis": {
            "gridcolor": "white",
            "linecolor": "white",
            "ticks": ""
           }
          },
          "scene": {
           "xaxis": {
            "backgroundcolor": "#E5ECF6",
            "gridcolor": "white",
            "gridwidth": 2,
            "linecolor": "white",
            "showbackground": true,
            "ticks": "",
            "zerolinecolor": "white"
           },
           "yaxis": {
            "backgroundcolor": "#E5ECF6",
            "gridcolor": "white",
            "gridwidth": 2,
            "linecolor": "white",
            "showbackground": true,
            "ticks": "",
            "zerolinecolor": "white"
           },
           "zaxis": {
            "backgroundcolor": "#E5ECF6",
            "gridcolor": "white",
            "gridwidth": 2,
            "linecolor": "white",
            "showbackground": true,
            "ticks": "",
            "zerolinecolor": "white"
           }
          },
          "shapedefaults": {
           "line": {
            "color": "#2a3f5f"
           }
          },
          "ternary": {
           "aaxis": {
            "gridcolor": "white",
            "linecolor": "white",
            "ticks": ""
           },
           "baxis": {
            "gridcolor": "white",
            "linecolor": "white",
            "ticks": ""
           },
           "bgcolor": "#E5ECF6",
           "caxis": {
            "gridcolor": "white",
            "linecolor": "white",
            "ticks": ""
           }
          },
          "title": {
           "x": 0.05
          },
          "xaxis": {
           "automargin": true,
           "gridcolor": "white",
           "linecolor": "white",
           "ticks": "",
           "title": {
            "standoff": 15
           },
           "zerolinecolor": "white",
           "zerolinewidth": 2
          },
          "yaxis": {
           "automargin": true,
           "gridcolor": "white",
           "linecolor": "white",
           "ticks": "",
           "title": {
            "standoff": 15
           },
           "zerolinecolor": "white",
           "zerolinewidth": 2
          }
         }
        },
        "title": {
         "text": "PETR4.SA Closing Prices"
        },
        "xaxis": {
         "anchor": "y",
         "domain": [
          0,
          1
         ],
         "title": {
          "text": "index"
         }
        },
        "yaxis": {
         "anchor": "x",
         "domain": [
          0,
          1
         ],
         "title": {
          "text": "value"
         }
        }
       }
      }
     },
     "metadata": {},
     "output_type": "display_data"
    }
   ],
   "source": [
    "px.line(vol_ent, title=f\"{ticker} Closing Prices\").show(fig_type=\"png\")"
   ]
  },
  {
   "cell_type": "code",
   "execution_count": 8,
   "id": "ac74a098",
   "metadata": {},
   "outputs": [
    {
     "data": {
      "application/vnd.plotly.v1+json": {
       "config": {
        "plotlyServerURL": "https://plot.ly"
       },
       "data": [
        {
         "name": "Preço PETR4.SA",
         "type": "scatter",
         "x": [
          "2023-10-02T00:00:00.000000000",
          "2023-10-03T00:00:00.000000000",
          "2023-10-04T00:00:00.000000000",
          "2023-10-05T00:00:00.000000000",
          "2023-10-06T00:00:00.000000000",
          "2023-10-09T00:00:00.000000000",
          "2023-10-10T00:00:00.000000000",
          "2023-10-11T00:00:00.000000000",
          "2023-10-13T00:00:00.000000000",
          "2023-10-16T00:00:00.000000000",
          "2023-10-17T00:00:00.000000000",
          "2023-10-18T00:00:00.000000000",
          "2023-10-19T00:00:00.000000000",
          "2023-10-20T00:00:00.000000000",
          "2023-10-23T00:00:00.000000000",
          "2023-10-24T00:00:00.000000000",
          "2023-10-25T00:00:00.000000000",
          "2023-10-26T00:00:00.000000000",
          "2023-10-27T00:00:00.000000000",
          "2023-10-30T00:00:00.000000000",
          "2023-10-31T00:00:00.000000000",
          "2023-11-01T00:00:00.000000000",
          "2023-11-03T00:00:00.000000000",
          "2023-11-06T00:00:00.000000000",
          "2023-11-07T00:00:00.000000000",
          "2023-11-08T00:00:00.000000000",
          "2023-11-09T00:00:00.000000000",
          "2023-11-10T00:00:00.000000000",
          "2023-11-13T00:00:00.000000000",
          "2023-11-14T00:00:00.000000000",
          "2023-11-16T00:00:00.000000000",
          "2023-11-17T00:00:00.000000000",
          "2023-11-20T00:00:00.000000000",
          "2023-11-21T00:00:00.000000000",
          "2023-11-22T00:00:00.000000000",
          "2023-11-23T00:00:00.000000000",
          "2023-11-24T00:00:00.000000000",
          "2023-11-27T00:00:00.000000000",
          "2023-11-28T00:00:00.000000000",
          "2023-11-29T00:00:00.000000000",
          "2023-11-30T00:00:00.000000000",
          "2023-12-01T00:00:00.000000000",
          "2023-12-04T00:00:00.000000000",
          "2023-12-05T00:00:00.000000000",
          "2023-12-06T00:00:00.000000000",
          "2023-12-07T00:00:00.000000000",
          "2023-12-08T00:00:00.000000000",
          "2023-12-11T00:00:00.000000000",
          "2023-12-12T00:00:00.000000000",
          "2023-12-13T00:00:00.000000000",
          "2023-12-14T00:00:00.000000000",
          "2023-12-15T00:00:00.000000000",
          "2023-12-18T00:00:00.000000000",
          "2023-12-19T00:00:00.000000000",
          "2023-12-20T00:00:00.000000000",
          "2023-12-21T00:00:00.000000000",
          "2023-12-22T00:00:00.000000000",
          "2023-12-26T00:00:00.000000000",
          "2023-12-27T00:00:00.000000000",
          "2023-12-28T00:00:00.000000000",
          "2024-01-02T00:00:00.000000000",
          "2024-01-03T00:00:00.000000000",
          "2024-01-04T00:00:00.000000000",
          "2024-01-05T00:00:00.000000000",
          "2024-01-08T00:00:00.000000000",
          "2024-01-09T00:00:00.000000000",
          "2024-01-10T00:00:00.000000000",
          "2024-01-11T00:00:00.000000000",
          "2024-01-12T00:00:00.000000000",
          "2024-01-15T00:00:00.000000000",
          "2024-01-16T00:00:00.000000000",
          "2024-01-17T00:00:00.000000000",
          "2024-01-18T00:00:00.000000000",
          "2024-01-19T00:00:00.000000000",
          "2024-01-22T00:00:00.000000000",
          "2024-01-23T00:00:00.000000000",
          "2024-01-24T00:00:00.000000000",
          "2024-01-25T00:00:00.000000000",
          "2024-01-26T00:00:00.000000000",
          "2024-01-29T00:00:00.000000000",
          "2024-01-30T00:00:00.000000000",
          "2024-01-31T00:00:00.000000000",
          "2024-02-01T00:00:00.000000000",
          "2024-02-02T00:00:00.000000000",
          "2024-02-05T00:00:00.000000000",
          "2024-02-06T00:00:00.000000000",
          "2024-02-07T00:00:00.000000000",
          "2024-02-08T00:00:00.000000000",
          "2024-02-09T00:00:00.000000000",
          "2024-02-14T00:00:00.000000000",
          "2024-02-15T00:00:00.000000000",
          "2024-02-16T00:00:00.000000000",
          "2024-02-19T00:00:00.000000000",
          "2024-02-20T00:00:00.000000000",
          "2024-02-21T00:00:00.000000000",
          "2024-02-22T00:00:00.000000000",
          "2024-02-23T00:00:00.000000000",
          "2024-02-26T00:00:00.000000000",
          "2024-02-27T00:00:00.000000000",
          "2024-02-28T00:00:00.000000000",
          "2024-02-29T00:00:00.000000000",
          "2024-03-01T00:00:00.000000000",
          "2024-03-04T00:00:00.000000000",
          "2024-03-05T00:00:00.000000000",
          "2024-03-06T00:00:00.000000000",
          "2024-03-07T00:00:00.000000000",
          "2024-03-08T00:00:00.000000000",
          "2024-03-11T00:00:00.000000000",
          "2024-03-12T00:00:00.000000000",
          "2024-03-13T00:00:00.000000000",
          "2024-03-14T00:00:00.000000000",
          "2024-03-15T00:00:00.000000000",
          "2024-03-18T00:00:00.000000000",
          "2024-03-19T00:00:00.000000000",
          "2024-03-20T00:00:00.000000000",
          "2024-03-21T00:00:00.000000000",
          "2024-03-22T00:00:00.000000000",
          "2024-03-25T00:00:00.000000000",
          "2024-03-26T00:00:00.000000000",
          "2024-03-27T00:00:00.000000000",
          "2024-03-28T00:00:00.000000000",
          "2024-04-01T00:00:00.000000000",
          "2024-04-02T00:00:00.000000000",
          "2024-04-03T00:00:00.000000000",
          "2024-04-04T00:00:00.000000000",
          "2024-04-05T00:00:00.000000000",
          "2024-04-08T00:00:00.000000000",
          "2024-04-09T00:00:00.000000000",
          "2024-04-10T00:00:00.000000000",
          "2024-04-11T00:00:00.000000000",
          "2024-04-12T00:00:00.000000000",
          "2024-04-15T00:00:00.000000000",
          "2024-04-16T00:00:00.000000000",
          "2024-04-17T00:00:00.000000000",
          "2024-04-18T00:00:00.000000000",
          "2024-04-19T00:00:00.000000000",
          "2024-04-22T00:00:00.000000000",
          "2024-04-23T00:00:00.000000000",
          "2024-04-24T00:00:00.000000000",
          "2024-04-25T00:00:00.000000000",
          "2024-04-26T00:00:00.000000000",
          "2024-04-29T00:00:00.000000000",
          "2024-04-30T00:00:00.000000000",
          "2024-05-02T00:00:00.000000000",
          "2024-05-03T00:00:00.000000000",
          "2024-05-06T00:00:00.000000000",
          "2024-05-07T00:00:00.000000000",
          "2024-05-08T00:00:00.000000000",
          "2024-05-09T00:00:00.000000000",
          "2024-05-10T00:00:00.000000000",
          "2024-05-13T00:00:00.000000000",
          "2024-05-14T00:00:00.000000000",
          "2024-05-15T00:00:00.000000000",
          "2024-05-16T00:00:00.000000000",
          "2024-05-17T00:00:00.000000000",
          "2024-05-20T00:00:00.000000000",
          "2024-05-21T00:00:00.000000000",
          "2024-05-22T00:00:00.000000000",
          "2024-05-23T00:00:00.000000000",
          "2024-05-24T00:00:00.000000000",
          "2024-05-27T00:00:00.000000000",
          "2024-05-28T00:00:00.000000000",
          "2024-05-29T00:00:00.000000000",
          "2024-05-31T00:00:00.000000000",
          "2024-06-03T00:00:00.000000000",
          "2024-06-04T00:00:00.000000000",
          "2024-06-05T00:00:00.000000000",
          "2024-06-06T00:00:00.000000000",
          "2024-06-07T00:00:00.000000000",
          "2024-06-10T00:00:00.000000000",
          "2024-06-11T00:00:00.000000000",
          "2024-06-12T00:00:00.000000000",
          "2024-06-13T00:00:00.000000000",
          "2024-06-14T00:00:00.000000000",
          "2024-06-17T00:00:00.000000000",
          "2024-06-18T00:00:00.000000000",
          "2024-06-19T00:00:00.000000000",
          "2024-06-20T00:00:00.000000000",
          "2024-06-21T00:00:00.000000000",
          "2024-06-24T00:00:00.000000000",
          "2024-06-25T00:00:00.000000000",
          "2024-06-26T00:00:00.000000000",
          "2024-06-27T00:00:00.000000000",
          "2024-06-28T00:00:00.000000000",
          "2024-07-01T00:00:00.000000000",
          "2024-07-02T00:00:00.000000000",
          "2024-07-03T00:00:00.000000000",
          "2024-07-04T00:00:00.000000000",
          "2024-07-05T00:00:00.000000000",
          "2024-07-08T00:00:00.000000000",
          "2024-07-09T00:00:00.000000000",
          "2024-07-10T00:00:00.000000000",
          "2024-07-11T00:00:00.000000000",
          "2024-07-12T00:00:00.000000000",
          "2024-07-15T00:00:00.000000000",
          "2024-07-16T00:00:00.000000000",
          "2024-07-17T00:00:00.000000000",
          "2024-07-18T00:00:00.000000000",
          "2024-07-19T00:00:00.000000000",
          "2024-07-22T00:00:00.000000000",
          "2024-07-23T00:00:00.000000000",
          "2024-07-24T00:00:00.000000000",
          "2024-07-25T00:00:00.000000000",
          "2024-07-26T00:00:00.000000000",
          "2024-07-29T00:00:00.000000000",
          "2024-07-30T00:00:00.000000000",
          "2024-07-31T00:00:00.000000000",
          "2024-08-01T00:00:00.000000000",
          "2024-08-02T00:00:00.000000000",
          "2024-08-05T00:00:00.000000000",
          "2024-08-06T00:00:00.000000000",
          "2024-08-07T00:00:00.000000000",
          "2024-08-08T00:00:00.000000000",
          "2024-08-09T00:00:00.000000000",
          "2024-08-12T00:00:00.000000000",
          "2024-08-13T00:00:00.000000000",
          "2024-08-14T00:00:00.000000000",
          "2024-08-15T00:00:00.000000000",
          "2024-08-16T00:00:00.000000000",
          "2024-08-19T00:00:00.000000000",
          "2024-08-20T00:00:00.000000000",
          "2024-08-21T00:00:00.000000000",
          "2024-08-22T00:00:00.000000000",
          "2024-08-23T00:00:00.000000000",
          "2024-08-26T00:00:00.000000000",
          "2024-08-27T00:00:00.000000000",
          "2024-08-28T00:00:00.000000000",
          "2024-08-29T00:00:00.000000000",
          "2024-08-30T00:00:00.000000000",
          "2024-09-02T00:00:00.000000000",
          "2024-09-03T00:00:00.000000000",
          "2024-09-04T00:00:00.000000000",
          "2024-09-05T00:00:00.000000000",
          "2024-09-06T00:00:00.000000000",
          "2024-09-09T00:00:00.000000000",
          "2024-09-10T00:00:00.000000000",
          "2024-09-11T00:00:00.000000000",
          "2024-09-12T00:00:00.000000000",
          "2024-09-13T00:00:00.000000000",
          "2024-09-16T00:00:00.000000000",
          "2024-09-17T00:00:00.000000000",
          "2024-09-18T00:00:00.000000000",
          "2024-09-19T00:00:00.000000000",
          "2024-09-20T00:00:00.000000000",
          "2024-09-23T00:00:00.000000000",
          "2024-09-24T00:00:00.000000000",
          "2024-09-25T00:00:00.000000000",
          "2024-09-26T00:00:00.000000000",
          "2024-09-27T00:00:00.000000000",
          "2024-09-30T00:00:00.000000000",
          "2024-10-01T00:00:00.000000000",
          "2024-10-02T00:00:00.000000000",
          "2024-10-03T00:00:00.000000000",
          "2024-10-04T00:00:00.000000000",
          "2024-10-07T00:00:00.000000000",
          "2024-10-08T00:00:00.000000000",
          "2024-10-09T00:00:00.000000000",
          "2024-10-10T00:00:00.000000000",
          "2024-10-11T00:00:00.000000000",
          "2024-10-14T00:00:00.000000000",
          "2024-10-15T00:00:00.000000000",
          "2024-10-16T00:00:00.000000000",
          "2024-10-17T00:00:00.000000000",
          "2024-10-18T00:00:00.000000000",
          "2024-10-21T00:00:00.000000000",
          "2024-10-22T00:00:00.000000000",
          "2024-10-23T00:00:00.000000000",
          "2024-10-24T00:00:00.000000000",
          "2024-10-25T00:00:00.000000000",
          "2024-10-28T00:00:00.000000000",
          "2024-10-29T00:00:00.000000000",
          "2024-10-30T00:00:00.000000000",
          "2024-10-31T00:00:00.000000000",
          "2024-11-01T00:00:00.000000000",
          "2024-11-04T00:00:00.000000000",
          "2024-11-05T00:00:00.000000000",
          "2024-11-06T00:00:00.000000000",
          "2024-11-07T00:00:00.000000000",
          "2024-11-08T00:00:00.000000000",
          "2024-11-11T00:00:00.000000000",
          "2024-11-12T00:00:00.000000000",
          "2024-11-13T00:00:00.000000000",
          "2024-11-14T00:00:00.000000000",
          "2024-11-18T00:00:00.000000000",
          "2024-11-19T00:00:00.000000000",
          "2024-11-21T00:00:00.000000000",
          "2024-11-22T00:00:00.000000000",
          "2024-11-25T00:00:00.000000000",
          "2024-11-26T00:00:00.000000000",
          "2024-11-27T00:00:00.000000000",
          "2024-11-28T00:00:00.000000000",
          "2024-11-29T00:00:00.000000000",
          "2024-12-02T00:00:00.000000000",
          "2024-12-03T00:00:00.000000000",
          "2024-12-04T00:00:00.000000000",
          "2024-12-05T00:00:00.000000000",
          "2024-12-06T00:00:00.000000000",
          "2024-12-09T00:00:00.000000000",
          "2024-12-10T00:00:00.000000000",
          "2024-12-11T00:00:00.000000000",
          "2024-12-12T00:00:00.000000000",
          "2024-12-13T00:00:00.000000000",
          "2024-12-16T00:00:00.000000000",
          "2024-12-17T00:00:00.000000000",
          "2024-12-18T00:00:00.000000000",
          "2024-12-19T00:00:00.000000000",
          "2024-12-20T00:00:00.000000000",
          "2024-12-23T00:00:00.000000000",
          "2024-12-26T00:00:00.000000000",
          "2024-12-27T00:00:00.000000000",
          "2024-12-30T00:00:00.000000000",
          "2025-01-02T00:00:00.000000000",
          "2025-01-03T00:00:00.000000000",
          "2025-01-06T00:00:00.000000000",
          "2025-01-07T00:00:00.000000000",
          "2025-01-08T00:00:00.000000000",
          "2025-01-09T00:00:00.000000000",
          "2025-01-10T00:00:00.000000000",
          "2025-01-13T00:00:00.000000000",
          "2025-01-14T00:00:00.000000000",
          "2025-01-15T00:00:00.000000000",
          "2025-01-16T00:00:00.000000000",
          "2025-01-17T00:00:00.000000000",
          "2025-01-20T00:00:00.000000000",
          "2025-01-21T00:00:00.000000000",
          "2025-01-22T00:00:00.000000000",
          "2025-01-23T00:00:00.000000000",
          "2025-01-24T00:00:00.000000000",
          "2025-01-27T00:00:00.000000000",
          "2025-01-28T00:00:00.000000000",
          "2025-01-29T00:00:00.000000000",
          "2025-01-30T00:00:00.000000000",
          "2025-01-31T00:00:00.000000000",
          "2025-02-03T00:00:00.000000000",
          "2025-02-04T00:00:00.000000000",
          "2025-02-05T00:00:00.000000000",
          "2025-02-06T00:00:00.000000000",
          "2025-02-07T00:00:00.000000000",
          "2025-02-10T00:00:00.000000000",
          "2025-02-11T00:00:00.000000000",
          "2025-02-12T00:00:00.000000000",
          "2025-02-13T00:00:00.000000000",
          "2025-02-14T00:00:00.000000000",
          "2025-02-17T00:00:00.000000000",
          "2025-02-18T00:00:00.000000000",
          "2025-02-19T00:00:00.000000000",
          "2025-02-20T00:00:00.000000000",
          "2025-02-21T00:00:00.000000000",
          "2025-02-24T00:00:00.000000000",
          "2025-02-25T00:00:00.000000000",
          "2025-02-26T00:00:00.000000000",
          "2025-02-27T00:00:00.000000000",
          "2025-02-28T00:00:00.000000000",
          "2025-03-05T00:00:00.000000000",
          "2025-03-06T00:00:00.000000000",
          "2025-03-07T00:00:00.000000000",
          "2025-03-10T00:00:00.000000000",
          "2025-03-11T00:00:00.000000000",
          "2025-03-12T00:00:00.000000000",
          "2025-03-13T00:00:00.000000000",
          "2025-03-14T00:00:00.000000000",
          "2025-03-17T00:00:00.000000000",
          "2025-03-18T00:00:00.000000000",
          "2025-03-19T00:00:00.000000000",
          "2025-03-20T00:00:00.000000000",
          "2025-03-21T00:00:00.000000000",
          "2025-03-24T00:00:00.000000000",
          "2025-03-25T00:00:00.000000000",
          "2025-03-26T00:00:00.000000000",
          "2025-03-27T00:00:00.000000000",
          "2025-03-28T00:00:00.000000000",
          "2025-03-31T00:00:00.000000000",
          "2025-04-01T00:00:00.000000000",
          "2025-04-02T00:00:00.000000000",
          "2025-04-03T00:00:00.000000000",
          "2025-04-04T00:00:00.000000000",
          "2025-04-07T00:00:00.000000000",
          "2025-04-08T00:00:00.000000000",
          "2025-04-09T00:00:00.000000000",
          "2025-04-10T00:00:00.000000000",
          "2025-04-11T00:00:00.000000000",
          "2025-04-14T00:00:00.000000000",
          "2025-04-15T00:00:00.000000000",
          "2025-04-16T00:00:00.000000000",
          "2025-04-17T00:00:00.000000000",
          "2025-04-22T00:00:00.000000000",
          "2025-04-23T00:00:00.000000000",
          "2025-04-24T00:00:00.000000000",
          "2025-04-25T00:00:00.000000000",
          "2025-04-28T00:00:00.000000000",
          "2025-04-29T00:00:00.000000000",
          "2025-04-30T00:00:00.000000000",
          "2025-05-02T00:00:00.000000000",
          "2025-05-05T00:00:00.000000000",
          "2025-05-06T00:00:00.000000000",
          "2025-05-07T00:00:00.000000000",
          "2025-05-08T00:00:00.000000000",
          "2025-05-09T00:00:00.000000000",
          "2025-05-12T00:00:00.000000000",
          "2025-05-13T00:00:00.000000000",
          "2025-05-14T00:00:00.000000000",
          "2025-05-15T00:00:00.000000000",
          "2025-05-16T00:00:00.000000000",
          "2025-05-19T00:00:00.000000000",
          "2025-05-20T00:00:00.000000000",
          "2025-05-21T00:00:00.000000000",
          "2025-05-22T00:00:00.000000000",
          "2025-05-23T00:00:00.000000000",
          "2025-05-26T00:00:00.000000000",
          "2025-05-27T00:00:00.000000000",
          "2025-05-28T00:00:00.000000000",
          "2025-05-29T00:00:00.000000000",
          "2025-05-30T00:00:00.000000000",
          "2025-06-02T00:00:00.000000000",
          "2025-06-03T00:00:00.000000000",
          "2025-06-04T00:00:00.000000000",
          "2025-06-05T00:00:00.000000000",
          "2025-06-06T00:00:00.000000000",
          "2025-06-09T00:00:00.000000000",
          "2025-06-10T00:00:00.000000000",
          "2025-06-11T00:00:00.000000000",
          "2025-06-12T00:00:00.000000000",
          "2025-06-13T00:00:00.000000000",
          "2025-06-16T00:00:00.000000000",
          "2025-06-17T00:00:00.000000000",
          "2025-06-18T00:00:00.000000000",
          "2025-06-20T00:00:00.000000000",
          "2025-06-23T00:00:00.000000000",
          "2025-06-24T00:00:00.000000000",
          "2025-06-25T00:00:00.000000000",
          "2025-06-26T00:00:00.000000000",
          "2025-06-27T00:00:00.000000000",
          "2025-06-30T00:00:00.000000000",
          "2025-07-01T00:00:00.000000000",
          "2025-07-02T00:00:00.000000000",
          "2025-07-03T00:00:00.000000000",
          "2025-07-04T00:00:00.000000000",
          "2025-07-07T00:00:00.000000000",
          "2025-07-08T00:00:00.000000000",
          "2025-07-09T00:00:00.000000000",
          "2025-07-10T00:00:00.000000000",
          "2025-07-11T00:00:00.000000000",
          "2025-07-14T00:00:00.000000000",
          "2025-07-15T00:00:00.000000000",
          "2025-07-16T00:00:00.000000000",
          "2025-07-17T00:00:00.000000000",
          "2025-07-18T00:00:00.000000000",
          "2025-07-21T00:00:00.000000000",
          "2025-07-22T00:00:00.000000000",
          "2025-07-23T00:00:00.000000000",
          "2025-07-24T00:00:00.000000000",
          "2025-07-25T00:00:00.000000000",
          "2025-07-28T00:00:00.000000000",
          "2025-07-29T00:00:00.000000000",
          "2025-07-30T00:00:00.000000000",
          "2025-07-31T00:00:00.000000000",
          "2025-08-01T00:00:00.000000000",
          "2025-08-04T00:00:00.000000000",
          "2025-08-05T00:00:00.000000000",
          "2025-08-06T00:00:00.000000000",
          "2025-08-07T00:00:00.000000000",
          "2025-08-08T00:00:00.000000000",
          "2025-08-11T00:00:00.000000000",
          "2025-08-12T00:00:00.000000000",
          "2025-08-13T00:00:00.000000000",
          "2025-08-14T00:00:00.000000000",
          "2025-08-15T00:00:00.000000000",
          "2025-08-18T00:00:00.000000000",
          "2025-08-19T00:00:00.000000000",
          "2025-08-20T00:00:00.000000000",
          "2025-08-21T00:00:00.000000000",
          "2025-08-22T00:00:00.000000000",
          "2025-08-25T00:00:00.000000000",
          "2025-08-26T00:00:00.000000000",
          "2025-08-27T00:00:00.000000000",
          "2025-08-28T00:00:00.000000000",
          "2025-08-29T00:00:00.000000000",
          "2025-09-01T00:00:00.000000000",
          "2025-09-02T00:00:00.000000000",
          "2025-09-03T00:00:00.000000000",
          "2025-09-04T00:00:00.000000000",
          "2025-09-05T00:00:00.000000000",
          "2025-09-08T00:00:00.000000000",
          "2025-09-09T00:00:00.000000000",
          "2025-09-10T00:00:00.000000000",
          "2025-09-11T00:00:00.000000000",
          "2025-09-12T00:00:00.000000000",
          "2025-09-15T00:00:00.000000000",
          "2025-09-16T00:00:00.000000000",
          "2025-09-17T00:00:00.000000000",
          "2025-09-18T00:00:00.000000000",
          "2025-09-19T00:00:00.000000000",
          "2025-09-22T00:00:00.000000000",
          "2025-09-23T00:00:00.000000000",
          "2025-09-24T00:00:00.000000000",
          "2025-09-25T00:00:00.000000000",
          "2025-09-26T00:00:00.000000000",
          "2025-09-29T00:00:00.000000000",
          "2025-09-30T00:00:00.000000000",
          "2025-10-01T00:00:00.000000000",
          "2025-10-02T00:00:00.000000000"
         ],
         "y": {
          "bdata": "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",
          "dtype": "f8"
         },
         "yaxis": "y"
        },
        {
         "name": "Volatility Entropy",
         "type": "scatter",
         "x": [
          "2023-10-02T00:00:00.000000000",
          "2023-10-03T00:00:00.000000000",
          "2023-10-04T00:00:00.000000000",
          "2023-10-05T00:00:00.000000000",
          "2023-10-06T00:00:00.000000000",
          "2023-10-09T00:00:00.000000000",
          "2023-10-10T00:00:00.000000000",
          "2023-10-11T00:00:00.000000000",
          "2023-10-13T00:00:00.000000000",
          "2023-10-16T00:00:00.000000000",
          "2023-10-17T00:00:00.000000000",
          "2023-10-18T00:00:00.000000000",
          "2023-10-19T00:00:00.000000000",
          "2023-10-20T00:00:00.000000000",
          "2023-10-23T00:00:00.000000000",
          "2023-10-24T00:00:00.000000000",
          "2023-10-25T00:00:00.000000000",
          "2023-10-26T00:00:00.000000000",
          "2023-10-27T00:00:00.000000000",
          "2023-10-30T00:00:00.000000000",
          "2023-10-31T00:00:00.000000000",
          "2023-11-01T00:00:00.000000000",
          "2023-11-03T00:00:00.000000000",
          "2023-11-06T00:00:00.000000000",
          "2023-11-07T00:00:00.000000000",
          "2023-11-08T00:00:00.000000000",
          "2023-11-09T00:00:00.000000000",
          "2023-11-10T00:00:00.000000000",
          "2023-11-13T00:00:00.000000000",
          "2023-11-14T00:00:00.000000000",
          "2023-11-16T00:00:00.000000000",
          "2023-11-17T00:00:00.000000000",
          "2023-11-20T00:00:00.000000000",
          "2023-11-21T00:00:00.000000000",
          "2023-11-22T00:00:00.000000000",
          "2023-11-23T00:00:00.000000000",
          "2023-11-24T00:00:00.000000000",
          "2023-11-27T00:00:00.000000000",
          "2023-11-28T00:00:00.000000000",
          "2023-11-29T00:00:00.000000000",
          "2023-11-30T00:00:00.000000000",
          "2023-12-01T00:00:00.000000000",
          "2023-12-04T00:00:00.000000000",
          "2023-12-05T00:00:00.000000000",
          "2023-12-06T00:00:00.000000000",
          "2023-12-07T00:00:00.000000000",
          "2023-12-08T00:00:00.000000000",
          "2023-12-11T00:00:00.000000000",
          "2023-12-12T00:00:00.000000000",
          "2023-12-13T00:00:00.000000000",
          "2023-12-14T00:00:00.000000000",
          "2023-12-15T00:00:00.000000000",
          "2023-12-18T00:00:00.000000000",
          "2023-12-19T00:00:00.000000000",
          "2023-12-20T00:00:00.000000000",
          "2023-12-21T00:00:00.000000000",
          "2023-12-22T00:00:00.000000000",
          "2023-12-26T00:00:00.000000000",
          "2023-12-27T00:00:00.000000000",
          "2023-12-28T00:00:00.000000000",
          "2024-01-02T00:00:00.000000000",
          "2024-01-03T00:00:00.000000000",
          "2024-01-04T00:00:00.000000000",
          "2024-01-05T00:00:00.000000000",
          "2024-01-08T00:00:00.000000000",
          "2024-01-09T00:00:00.000000000",
          "2024-01-10T00:00:00.000000000",
          "2024-01-11T00:00:00.000000000",
          "2024-01-12T00:00:00.000000000",
          "2024-01-15T00:00:00.000000000",
          "2024-01-16T00:00:00.000000000",
          "2024-01-17T00:00:00.000000000",
          "2024-01-18T00:00:00.000000000",
          "2024-01-19T00:00:00.000000000",
          "2024-01-22T00:00:00.000000000",
          "2024-01-23T00:00:00.000000000",
          "2024-01-24T00:00:00.000000000",
          "2024-01-25T00:00:00.000000000",
          "2024-01-26T00:00:00.000000000",
          "2024-01-29T00:00:00.000000000",
          "2024-01-30T00:00:00.000000000",
          "2024-01-31T00:00:00.000000000",
          "2024-02-01T00:00:00.000000000",
          "2024-02-02T00:00:00.000000000",
          "2024-02-05T00:00:00.000000000",
          "2024-02-06T00:00:00.000000000",
          "2024-02-07T00:00:00.000000000",
          "2024-02-08T00:00:00.000000000",
          "2024-02-09T00:00:00.000000000",
          "2024-02-14T00:00:00.000000000",
          "2024-02-15T00:00:00.000000000",
          "2024-02-16T00:00:00.000000000",
          "2024-02-19T00:00:00.000000000",
          "2024-02-20T00:00:00.000000000",
          "2024-02-21T00:00:00.000000000",
          "2024-02-22T00:00:00.000000000",
          "2024-02-23T00:00:00.000000000",
          "2024-02-26T00:00:00.000000000",
          "2024-02-27T00:00:00.000000000",
          "2024-02-28T00:00:00.000000000",
          "2024-02-29T00:00:00.000000000",
          "2024-03-01T00:00:00.000000000",
          "2024-03-04T00:00:00.000000000",
          "2024-03-05T00:00:00.000000000",
          "2024-03-06T00:00:00.000000000",
          "2024-03-07T00:00:00.000000000",
          "2024-03-08T00:00:00.000000000",
          "2024-03-11T00:00:00.000000000",
          "2024-03-12T00:00:00.000000000",
          "2024-03-13T00:00:00.000000000",
          "2024-03-14T00:00:00.000000000",
          "2024-03-15T00:00:00.000000000",
          "2024-03-18T00:00:00.000000000",
          "2024-03-19T00:00:00.000000000",
          "2024-03-20T00:00:00.000000000",
          "2024-03-21T00:00:00.000000000",
          "2024-03-22T00:00:00.000000000",
          "2024-03-25T00:00:00.000000000",
          "2024-03-26T00:00:00.000000000",
          "2024-03-27T00:00:00.000000000",
          "2024-03-28T00:00:00.000000000",
          "2024-04-01T00:00:00.000000000",
          "2024-04-02T00:00:00.000000000",
          "2024-04-03T00:00:00.000000000",
          "2024-04-04T00:00:00.000000000",
          "2024-04-05T00:00:00.000000000",
          "2024-04-08T00:00:00.000000000",
          "2024-04-09T00:00:00.000000000",
          "2024-04-10T00:00:00.000000000",
          "2024-04-11T00:00:00.000000000",
          "2024-04-12T00:00:00.000000000",
          "2024-04-15T00:00:00.000000000",
          "2024-04-16T00:00:00.000000000",
          "2024-04-17T00:00:00.000000000",
          "2024-04-18T00:00:00.000000000",
          "2024-04-19T00:00:00.000000000",
          "2024-04-22T00:00:00.000000000",
          "2024-04-23T00:00:00.000000000",
          "2024-04-24T00:00:00.000000000",
          "2024-04-25T00:00:00.000000000",
          "2024-04-26T00:00:00.000000000",
          "2024-04-29T00:00:00.000000000",
          "2024-04-30T00:00:00.000000000",
          "2024-05-02T00:00:00.000000000",
          "2024-05-03T00:00:00.000000000",
          "2024-05-06T00:00:00.000000000",
          "2024-05-07T00:00:00.000000000",
          "2024-05-08T00:00:00.000000000",
          "2024-05-09T00:00:00.000000000",
          "2024-05-10T00:00:00.000000000",
          "2024-05-13T00:00:00.000000000",
          "2024-05-14T00:00:00.000000000",
          "2024-05-15T00:00:00.000000000",
          "2024-05-16T00:00:00.000000000",
          "2024-05-17T00:00:00.000000000",
          "2024-05-20T00:00:00.000000000",
          "2024-05-21T00:00:00.000000000",
          "2024-05-22T00:00:00.000000000",
          "2024-05-23T00:00:00.000000000",
          "2024-05-24T00:00:00.000000000",
          "2024-05-27T00:00:00.000000000",
          "2024-05-28T00:00:00.000000000",
          "2024-05-29T00:00:00.000000000",
          "2024-05-31T00:00:00.000000000",
          "2024-06-03T00:00:00.000000000",
          "2024-06-04T00:00:00.000000000",
          "2024-06-05T00:00:00.000000000",
          "2024-06-06T00:00:00.000000000",
          "2024-06-07T00:00:00.000000000",
          "2024-06-10T00:00:00.000000000",
          "2024-06-11T00:00:00.000000000",
          "2024-06-12T00:00:00.000000000",
          "2024-06-13T00:00:00.000000000",
          "2024-06-14T00:00:00.000000000",
          "2024-06-17T00:00:00.000000000",
          "2024-06-18T00:00:00.000000000",
          "2024-06-19T00:00:00.000000000",
          "2024-06-20T00:00:00.000000000",
          "2024-06-21T00:00:00.000000000",
          "2024-06-24T00:00:00.000000000",
          "2024-06-25T00:00:00.000000000",
          "2024-06-26T00:00:00.000000000",
          "2024-06-27T00:00:00.000000000",
          "2024-06-28T00:00:00.000000000",
          "2024-07-01T00:00:00.000000000",
          "2024-07-02T00:00:00.000000000",
          "2024-07-03T00:00:00.000000000",
          "2024-07-04T00:00:00.000000000",
          "2024-07-05T00:00:00.000000000",
          "2024-07-08T00:00:00.000000000",
          "2024-07-09T00:00:00.000000000",
          "2024-07-10T00:00:00.000000000",
          "2024-07-11T00:00:00.000000000",
          "2024-07-12T00:00:00.000000000",
          "2024-07-15T00:00:00.000000000",
          "2024-07-16T00:00:00.000000000",
          "2024-07-17T00:00:00.000000000",
          "2024-07-18T00:00:00.000000000",
          "2024-07-19T00:00:00.000000000",
          "2024-07-22T00:00:00.000000000",
          "2024-07-23T00:00:00.000000000",
          "2024-07-24T00:00:00.000000000",
          "2024-07-25T00:00:00.000000000",
          "2024-07-26T00:00:00.000000000",
          "2024-07-29T00:00:00.000000000",
          "2024-07-30T00:00:00.000000000",
          "2024-07-31T00:00:00.000000000",
          "2024-08-01T00:00:00.000000000",
          "2024-08-02T00:00:00.000000000",
          "2024-08-05T00:00:00.000000000",
          "2024-08-06T00:00:00.000000000",
          "2024-08-07T00:00:00.000000000",
          "2024-08-08T00:00:00.000000000",
          "2024-08-09T00:00:00.000000000",
          "2024-08-12T00:00:00.000000000",
          "2024-08-13T00:00:00.000000000",
          "2024-08-14T00:00:00.000000000",
          "2024-08-15T00:00:00.000000000",
          "2024-08-16T00:00:00.000000000",
          "2024-08-19T00:00:00.000000000",
          "2024-08-20T00:00:00.000000000",
          "2024-08-21T00:00:00.000000000",
          "2024-08-22T00:00:00.000000000",
          "2024-08-23T00:00:00.000000000",
          "2024-08-26T00:00:00.000000000",
          "2024-08-27T00:00:00.000000000",
          "2024-08-28T00:00:00.000000000",
          "2024-08-29T00:00:00.000000000",
          "2024-08-30T00:00:00.000000000",
          "2024-09-02T00:00:00.000000000",
          "2024-09-03T00:00:00.000000000",
          "2024-09-04T00:00:00.000000000",
          "2024-09-05T00:00:00.000000000",
          "2024-09-06T00:00:00.000000000",
          "2024-09-09T00:00:00.000000000",
          "2024-09-10T00:00:00.000000000",
          "2024-09-11T00:00:00.000000000",
          "2024-09-12T00:00:00.000000000",
          "2024-09-13T00:00:00.000000000",
          "2024-09-16T00:00:00.000000000",
          "2024-09-17T00:00:00.000000000",
          "2024-09-18T00:00:00.000000000",
          "2024-09-19T00:00:00.000000000",
          "2024-09-20T00:00:00.000000000",
          "2024-09-23T00:00:00.000000000",
          "2024-09-24T00:00:00.000000000",
          "2024-09-25T00:00:00.000000000",
          "2024-09-26T00:00:00.000000000",
          "2024-09-27T00:00:00.000000000",
          "2024-09-30T00:00:00.000000000",
          "2024-10-01T00:00:00.000000000",
          "2024-10-02T00:00:00.000000000",
          "2024-10-03T00:00:00.000000000",
          "2024-10-04T00:00:00.000000000",
          "2024-10-07T00:00:00.000000000",
          "2024-10-08T00:00:00.000000000",
          "2024-10-09T00:00:00.000000000",
          "2024-10-10T00:00:00.000000000",
          "2024-10-11T00:00:00.000000000",
          "2024-10-14T00:00:00.000000000",
          "2024-10-15T00:00:00.000000000",
          "2024-10-16T00:00:00.000000000",
          "2024-10-17T00:00:00.000000000",
          "2024-10-18T00:00:00.000000000",
          "2024-10-21T00:00:00.000000000",
          "2024-10-22T00:00:00.000000000",
          "2024-10-23T00:00:00.000000000",
          "2024-10-24T00:00:00.000000000",
          "2024-10-25T00:00:00.000000000",
          "2024-10-28T00:00:00.000000000",
          "2024-10-29T00:00:00.000000000",
          "2024-10-30T00:00:00.000000000",
          "2024-10-31T00:00:00.000000000",
          "2024-11-01T00:00:00.000000000",
          "2024-11-04T00:00:00.000000000",
          "2024-11-05T00:00:00.000000000",
          "2024-11-06T00:00:00.000000000",
          "2024-11-07T00:00:00.000000000",
          "2024-11-08T00:00:00.000000000",
          "2024-11-11T00:00:00.000000000",
          "2024-11-12T00:00:00.000000000",
          "2024-11-13T00:00:00.000000000",
          "2024-11-14T00:00:00.000000000",
          "2024-11-18T00:00:00.000000000",
          "2024-11-19T00:00:00.000000000",
          "2024-11-21T00:00:00.000000000",
          "2024-11-22T00:00:00.000000000",
          "2024-11-25T00:00:00.000000000",
          "2024-11-26T00:00:00.000000000",
          "2024-11-27T00:00:00.000000000",
          "2024-11-28T00:00:00.000000000",
          "2024-11-29T00:00:00.000000000",
          "2024-12-02T00:00:00.000000000",
          "2024-12-03T00:00:00.000000000",
          "2024-12-04T00:00:00.000000000",
          "2024-12-05T00:00:00.000000000",
          "2024-12-06T00:00:00.000000000",
          "2024-12-09T00:00:00.000000000",
          "2024-12-10T00:00:00.000000000",
          "2024-12-11T00:00:00.000000000",
          "2024-12-12T00:00:00.000000000",
          "2024-12-13T00:00:00.000000000",
          "2024-12-16T00:00:00.000000000",
          "2024-12-17T00:00:00.000000000",
          "2024-12-18T00:00:00.000000000",
          "2024-12-19T00:00:00.000000000",
          "2024-12-20T00:00:00.000000000",
          "2024-12-23T00:00:00.000000000",
          "2024-12-26T00:00:00.000000000",
          "2024-12-27T00:00:00.000000000",
          "2024-12-30T00:00:00.000000000",
          "2025-01-02T00:00:00.000000000",
          "2025-01-03T00:00:00.000000000",
          "2025-01-06T00:00:00.000000000",
          "2025-01-07T00:00:00.000000000",
          "2025-01-08T00:00:00.000000000",
          "2025-01-09T00:00:00.000000000",
          "2025-01-10T00:00:00.000000000",
          "2025-01-13T00:00:00.000000000",
          "2025-01-14T00:00:00.000000000",
          "2025-01-15T00:00:00.000000000",
          "2025-01-16T00:00:00.000000000",
          "2025-01-17T00:00:00.000000000",
          "2025-01-20T00:00:00.000000000",
          "2025-01-21T00:00:00.000000000",
          "2025-01-22T00:00:00.000000000",
          "2025-01-23T00:00:00.000000000",
          "2025-01-24T00:00:00.000000000",
          "2025-01-27T00:00:00.000000000",
          "2025-01-28T00:00:00.000000000",
          "2025-01-29T00:00:00.000000000",
          "2025-01-30T00:00:00.000000000",
          "2025-01-31T00:00:00.000000000",
          "2025-02-03T00:00:00.000000000",
          "2025-02-04T00:00:00.000000000",
          "2025-02-05T00:00:00.000000000",
          "2025-02-06T00:00:00.000000000",
          "2025-02-07T00:00:00.000000000",
          "2025-02-10T00:00:00.000000000",
          "2025-02-11T00:00:00.000000000",
          "2025-02-12T00:00:00.000000000",
          "2025-02-13T00:00:00.000000000",
          "2025-02-14T00:00:00.000000000",
          "2025-02-17T00:00:00.000000000",
          "2025-02-18T00:00:00.000000000",
          "2025-02-19T00:00:00.000000000",
          "2025-02-20T00:00:00.000000000",
          "2025-02-21T00:00:00.000000000",
          "2025-02-24T00:00:00.000000000",
          "2025-02-25T00:00:00.000000000",
          "2025-02-26T00:00:00.000000000",
          "2025-02-27T00:00:00.000000000",
          "2025-02-28T00:00:00.000000000",
          "2025-03-05T00:00:00.000000000",
          "2025-03-06T00:00:00.000000000",
          "2025-03-07T00:00:00.000000000",
          "2025-03-10T00:00:00.000000000",
          "2025-03-11T00:00:00.000000000",
          "2025-03-12T00:00:00.000000000",
          "2025-03-13T00:00:00.000000000",
          "2025-03-14T00:00:00.000000000",
          "2025-03-17T00:00:00.000000000",
          "2025-03-18T00:00:00.000000000",
          "2025-03-19T00:00:00.000000000",
          "2025-03-20T00:00:00.000000000",
          "2025-03-21T00:00:00.000000000",
          "2025-03-24T00:00:00.000000000",
          "2025-03-25T00:00:00.000000000",
          "2025-03-26T00:00:00.000000000",
          "2025-03-27T00:00:00.000000000",
          "2025-03-28T00:00:00.000000000",
          "2025-03-31T00:00:00.000000000",
          "2025-04-01T00:00:00.000000000",
          "2025-04-02T00:00:00.000000000",
          "2025-04-03T00:00:00.000000000",
          "2025-04-04T00:00:00.000000000",
          "2025-04-07T00:00:00.000000000",
          "2025-04-08T00:00:00.000000000",
          "2025-04-09T00:00:00.000000000",
          "2025-04-10T00:00:00.000000000",
          "2025-04-11T00:00:00.000000000",
          "2025-04-14T00:00:00.000000000",
          "2025-04-15T00:00:00.000000000",
          "2025-04-16T00:00:00.000000000",
          "2025-04-17T00:00:00.000000000",
          "2025-04-22T00:00:00.000000000",
          "2025-04-23T00:00:00.000000000",
          "2025-04-24T00:00:00.000000000",
          "2025-04-25T00:00:00.000000000",
          "2025-04-28T00:00:00.000000000",
          "2025-04-29T00:00:00.000000000",
          "2025-04-30T00:00:00.000000000",
          "2025-05-02T00:00:00.000000000",
          "2025-05-05T00:00:00.000000000",
          "2025-05-06T00:00:00.000000000",
          "2025-05-07T00:00:00.000000000",
          "2025-05-08T00:00:00.000000000",
          "2025-05-09T00:00:00.000000000",
          "2025-05-12T00:00:00.000000000",
          "2025-05-13T00:00:00.000000000",
          "2025-05-14T00:00:00.000000000",
          "2025-05-15T00:00:00.000000000",
          "2025-05-16T00:00:00.000000000",
          "2025-05-19T00:00:00.000000000",
          "2025-05-20T00:00:00.000000000",
          "2025-05-21T00:00:00.000000000",
          "2025-05-22T00:00:00.000000000",
          "2025-05-23T00:00:00.000000000",
          "2025-05-26T00:00:00.000000000",
          "2025-05-27T00:00:00.000000000",
          "2025-05-28T00:00:00.000000000",
          "2025-05-29T00:00:00.000000000",
          "2025-05-30T00:00:00.000000000",
          "2025-06-02T00:00:00.000000000",
          "2025-06-03T00:00:00.000000000",
          "2025-06-04T00:00:00.000000000",
          "2025-06-05T00:00:00.000000000",
          "2025-06-06T00:00:00.000000000",
          "2025-06-09T00:00:00.000000000",
          "2025-06-10T00:00:00.000000000",
          "2025-06-11T00:00:00.000000000",
          "2025-06-12T00:00:00.000000000",
          "2025-06-13T00:00:00.000000000",
          "2025-06-16T00:00:00.000000000",
          "2025-06-17T00:00:00.000000000",
          "2025-06-18T00:00:00.000000000",
          "2025-06-20T00:00:00.000000000",
          "2025-06-23T00:00:00.000000000",
          "2025-06-24T00:00:00.000000000",
          "2025-06-25T00:00:00.000000000",
          "2025-06-26T00:00:00.000000000",
          "2025-06-27T00:00:00.000000000",
          "2025-06-30T00:00:00.000000000",
          "2025-07-01T00:00:00.000000000",
          "2025-07-02T00:00:00.000000000",
          "2025-07-03T00:00:00.000000000",
          "2025-07-04T00:00:00.000000000",
          "2025-07-07T00:00:00.000000000",
          "2025-07-08T00:00:00.000000000",
          "2025-07-09T00:00:00.000000000",
          "2025-07-10T00:00:00.000000000",
          "2025-07-11T00:00:00.000000000",
          "2025-07-14T00:00:00.000000000",
          "2025-07-15T00:00:00.000000000",
          "2025-07-16T00:00:00.000000000",
          "2025-07-17T00:00:00.000000000",
          "2025-07-18T00:00:00.000000000",
          "2025-07-21T00:00:00.000000000",
          "2025-07-22T00:00:00.000000000",
          "2025-07-23T00:00:00.000000000",
          "2025-07-24T00:00:00.000000000",
          "2025-07-25T00:00:00.000000000",
          "2025-07-28T00:00:00.000000000",
          "2025-07-29T00:00:00.000000000",
          "2025-07-30T00:00:00.000000000",
          "2025-07-31T00:00:00.000000000",
          "2025-08-01T00:00:00.000000000",
          "2025-08-04T00:00:00.000000000",
          "2025-08-05T00:00:00.000000000",
          "2025-08-06T00:00:00.000000000",
          "2025-08-07T00:00:00.000000000",
          "2025-08-08T00:00:00.000000000",
          "2025-08-11T00:00:00.000000000",
          "2025-08-12T00:00:00.000000000",
          "2025-08-13T00:00:00.000000000",
          "2025-08-14T00:00:00.000000000",
          "2025-08-15T00:00:00.000000000",
          "2025-08-18T00:00:00.000000000",
          "2025-08-19T00:00:00.000000000",
          "2025-08-20T00:00:00.000000000",
          "2025-08-21T00:00:00.000000000",
          "2025-08-22T00:00:00.000000000",
          "2025-08-25T00:00:00.000000000",
          "2025-08-26T00:00:00.000000000",
          "2025-08-27T00:00:00.000000000",
          "2025-08-28T00:00:00.000000000",
          "2025-08-29T00:00:00.000000000",
          "2025-09-01T00:00:00.000000000",
          "2025-09-02T00:00:00.000000000",
          "2025-09-03T00:00:00.000000000",
          "2025-09-04T00:00:00.000000000",
          "2025-09-05T00:00:00.000000000",
          "2025-09-08T00:00:00.000000000",
          "2025-09-09T00:00:00.000000000",
          "2025-09-10T00:00:00.000000000",
          "2025-09-11T00:00:00.000000000",
          "2025-09-12T00:00:00.000000000",
          "2025-09-15T00:00:00.000000000",
          "2025-09-16T00:00:00.000000000",
          "2025-09-17T00:00:00.000000000",
          "2025-09-18T00:00:00.000000000",
          "2025-09-19T00:00:00.000000000",
          "2025-09-22T00:00:00.000000000",
          "2025-09-23T00:00:00.000000000",
          "2025-09-24T00:00:00.000000000",
          "2025-09-25T00:00:00.000000000",
          "2025-09-26T00:00:00.000000000",
          "2025-09-29T00:00:00.000000000",
          "2025-09-30T00:00:00.000000000",
          "2025-10-01T00:00:00.000000000",
          "2025-10-02T00:00:00.000000000"
         ],
         "y": {
          "bdata": "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",
          "dtype": "f8"
         },
         "yaxis": "y2"
        },
        {
         "name": "Volatility RSI",
         "type": "scatter",
         "x": [
          "2023-10-02T00:00:00.000000000",
          "2023-10-03T00:00:00.000000000",
          "2023-10-04T00:00:00.000000000",
          "2023-10-05T00:00:00.000000000",
          "2023-10-06T00:00:00.000000000",
          "2023-10-09T00:00:00.000000000",
          "2023-10-10T00:00:00.000000000",
          "2023-10-11T00:00:00.000000000",
          "2023-10-13T00:00:00.000000000",
          "2023-10-16T00:00:00.000000000",
          "2023-10-17T00:00:00.000000000",
          "2023-10-18T00:00:00.000000000",
          "2023-10-19T00:00:00.000000000",
          "2023-10-20T00:00:00.000000000",
          "2023-10-23T00:00:00.000000000",
          "2023-10-24T00:00:00.000000000",
          "2023-10-25T00:00:00.000000000",
          "2023-10-26T00:00:00.000000000",
          "2023-10-27T00:00:00.000000000",
          "2023-10-30T00:00:00.000000000",
          "2023-10-31T00:00:00.000000000",
          "2023-11-01T00:00:00.000000000",
          "2023-11-03T00:00:00.000000000",
          "2023-11-06T00:00:00.000000000",
          "2023-11-07T00:00:00.000000000",
          "2023-11-08T00:00:00.000000000",
          "2023-11-09T00:00:00.000000000",
          "2023-11-10T00:00:00.000000000",
          "2023-11-13T00:00:00.000000000",
          "2023-11-14T00:00:00.000000000",
          "2023-11-16T00:00:00.000000000",
          "2023-11-17T00:00:00.000000000",
          "2023-11-20T00:00:00.000000000",
          "2023-11-21T00:00:00.000000000",
          "2023-11-22T00:00:00.000000000",
          "2023-11-23T00:00:00.000000000",
          "2023-11-24T00:00:00.000000000",
          "2023-11-27T00:00:00.000000000",
          "2023-11-28T00:00:00.000000000",
          "2023-11-29T00:00:00.000000000",
          "2023-11-30T00:00:00.000000000",
          "2023-12-01T00:00:00.000000000",
          "2023-12-04T00:00:00.000000000",
          "2023-12-05T00:00:00.000000000",
          "2023-12-06T00:00:00.000000000",
          "2023-12-07T00:00:00.000000000",
          "2023-12-08T00:00:00.000000000",
          "2023-12-11T00:00:00.000000000",
          "2023-12-12T00:00:00.000000000",
          "2023-12-13T00:00:00.000000000",
          "2023-12-14T00:00:00.000000000",
          "2023-12-15T00:00:00.000000000",
          "2023-12-18T00:00:00.000000000",
          "2023-12-19T00:00:00.000000000",
          "2023-12-20T00:00:00.000000000",
          "2023-12-21T00:00:00.000000000",
          "2023-12-22T00:00:00.000000000",
          "2023-12-26T00:00:00.000000000",
          "2023-12-27T00:00:00.000000000",
          "2023-12-28T00:00:00.000000000",
          "2024-01-02T00:00:00.000000000",
          "2024-01-03T00:00:00.000000000",
          "2024-01-04T00:00:00.000000000",
          "2024-01-05T00:00:00.000000000",
          "2024-01-08T00:00:00.000000000",
          "2024-01-09T00:00:00.000000000",
          "2024-01-10T00:00:00.000000000",
          "2024-01-11T00:00:00.000000000",
          "2024-01-12T00:00:00.000000000",
          "2024-01-15T00:00:00.000000000",
          "2024-01-16T00:00:00.000000000",
          "2024-01-17T00:00:00.000000000",
          "2024-01-18T00:00:00.000000000",
          "2024-01-19T00:00:00.000000000",
          "2024-01-22T00:00:00.000000000",
          "2024-01-23T00:00:00.000000000",
          "2024-01-24T00:00:00.000000000",
          "2024-01-25T00:00:00.000000000",
          "2024-01-26T00:00:00.000000000",
          "2024-01-29T00:00:00.000000000",
          "2024-01-30T00:00:00.000000000",
          "2024-01-31T00:00:00.000000000",
          "2024-02-01T00:00:00.000000000",
          "2024-02-02T00:00:00.000000000",
          "2024-02-05T00:00:00.000000000",
          "2024-02-06T00:00:00.000000000",
          "2024-02-07T00:00:00.000000000",
          "2024-02-08T00:00:00.000000000",
          "2024-02-09T00:00:00.000000000",
          "2024-02-14T00:00:00.000000000",
          "2024-02-15T00:00:00.000000000",
          "2024-02-16T00:00:00.000000000",
          "2024-02-19T00:00:00.000000000",
          "2024-02-20T00:00:00.000000000",
          "2024-02-21T00:00:00.000000000",
          "2024-02-22T00:00:00.000000000",
          "2024-02-23T00:00:00.000000000",
          "2024-02-26T00:00:00.000000000",
          "2024-02-27T00:00:00.000000000",
          "2024-02-28T00:00:00.000000000",
          "2024-02-29T00:00:00.000000000",
          "2024-03-01T00:00:00.000000000",
          "2024-03-04T00:00:00.000000000",
          "2024-03-05T00:00:00.000000000",
          "2024-03-06T00:00:00.000000000",
          "2024-03-07T00:00:00.000000000",
          "2024-03-08T00:00:00.000000000",
          "2024-03-11T00:00:00.000000000",
          "2024-03-12T00:00:00.000000000",
          "2024-03-13T00:00:00.000000000",
          "2024-03-14T00:00:00.000000000",
          "2024-03-15T00:00:00.000000000",
          "2024-03-18T00:00:00.000000000",
          "2024-03-19T00:00:00.000000000",
          "2024-03-20T00:00:00.000000000",
          "2024-03-21T00:00:00.000000000",
          "2024-03-22T00:00:00.000000000",
          "2024-03-25T00:00:00.000000000",
          "2024-03-26T00:00:00.000000000",
          "2024-03-27T00:00:00.000000000",
          "2024-03-28T00:00:00.000000000",
          "2024-04-01T00:00:00.000000000",
          "2024-04-02T00:00:00.000000000",
          "2024-04-03T00:00:00.000000000",
          "2024-04-04T00:00:00.000000000",
          "2024-04-05T00:00:00.000000000",
          "2024-04-08T00:00:00.000000000",
          "2024-04-09T00:00:00.000000000",
          "2024-04-10T00:00:00.000000000",
          "2024-04-11T00:00:00.000000000",
          "2024-04-12T00:00:00.000000000",
          "2024-04-15T00:00:00.000000000",
          "2024-04-16T00:00:00.000000000",
          "2024-04-17T00:00:00.000000000",
          "2024-04-18T00:00:00.000000000",
          "2024-04-19T00:00:00.000000000",
          "2024-04-22T00:00:00.000000000",
          "2024-04-23T00:00:00.000000000",
          "2024-04-24T00:00:00.000000000",
          "2024-04-25T00:00:00.000000000",
          "2024-04-26T00:00:00.000000000",
          "2024-04-29T00:00:00.000000000",
          "2024-04-30T00:00:00.000000000",
          "2024-05-02T00:00:00.000000000",
          "2024-05-03T00:00:00.000000000",
          "2024-05-06T00:00:00.000000000",
          "2024-05-07T00:00:00.000000000",
          "2024-05-08T00:00:00.000000000",
          "2024-05-09T00:00:00.000000000",
          "2024-05-10T00:00:00.000000000",
          "2024-05-13T00:00:00.000000000",
          "2024-05-14T00:00:00.000000000",
          "2024-05-15T00:00:00.000000000",
          "2024-05-16T00:00:00.000000000",
          "2024-05-17T00:00:00.000000000",
          "2024-05-20T00:00:00.000000000",
          "2024-05-21T00:00:00.000000000",
          "2024-05-22T00:00:00.000000000",
          "2024-05-23T00:00:00.000000000",
          "2024-05-24T00:00:00.000000000",
          "2024-05-27T00:00:00.000000000",
          "2024-05-28T00:00:00.000000000",
          "2024-05-29T00:00:00.000000000",
          "2024-05-31T00:00:00.000000000",
          "2024-06-03T00:00:00.000000000",
          "2024-06-04T00:00:00.000000000",
          "2024-06-05T00:00:00.000000000",
          "2024-06-06T00:00:00.000000000",
          "2024-06-07T00:00:00.000000000",
          "2024-06-10T00:00:00.000000000",
          "2024-06-11T00:00:00.000000000",
          "2024-06-12T00:00:00.000000000",
          "2024-06-13T00:00:00.000000000",
          "2024-06-14T00:00:00.000000000",
          "2024-06-17T00:00:00.000000000",
          "2024-06-18T00:00:00.000000000",
          "2024-06-19T00:00:00.000000000",
          "2024-06-20T00:00:00.000000000",
          "2024-06-21T00:00:00.000000000",
          "2024-06-24T00:00:00.000000000",
          "2024-06-25T00:00:00.000000000",
          "2024-06-26T00:00:00.000000000",
          "2024-06-27T00:00:00.000000000",
          "2024-06-28T00:00:00.000000000",
          "2024-07-01T00:00:00.000000000",
          "2024-07-02T00:00:00.000000000",
          "2024-07-03T00:00:00.000000000",
          "2024-07-04T00:00:00.000000000",
          "2024-07-05T00:00:00.000000000",
          "2024-07-08T00:00:00.000000000",
          "2024-07-09T00:00:00.000000000",
          "2024-07-10T00:00:00.000000000",
          "2024-07-11T00:00:00.000000000",
          "2024-07-12T00:00:00.000000000",
          "2024-07-15T00:00:00.000000000",
          "2024-07-16T00:00:00.000000000",
          "2024-07-17T00:00:00.000000000",
          "2024-07-18T00:00:00.000000000",
          "2024-07-19T00:00:00.000000000",
          "2024-07-22T00:00:00.000000000",
          "2024-07-23T00:00:00.000000000",
          "2024-07-24T00:00:00.000000000",
          "2024-07-25T00:00:00.000000000",
          "2024-07-26T00:00:00.000000000",
          "2024-07-29T00:00:00.000000000",
          "2024-07-30T00:00:00.000000000",
          "2024-07-31T00:00:00.000000000",
          "2024-08-01T00:00:00.000000000",
          "2024-08-02T00:00:00.000000000",
          "2024-08-05T00:00:00.000000000",
          "2024-08-06T00:00:00.000000000",
          "2024-08-07T00:00:00.000000000",
          "2024-08-08T00:00:00.000000000",
          "2024-08-09T00:00:00.000000000",
          "2024-08-12T00:00:00.000000000",
          "2024-08-13T00:00:00.000000000",
          "2024-08-14T00:00:00.000000000",
          "2024-08-15T00:00:00.000000000",
          "2024-08-16T00:00:00.000000000",
          "2024-08-19T00:00:00.000000000",
          "2024-08-20T00:00:00.000000000",
          "2024-08-21T00:00:00.000000000",
          "2024-08-22T00:00:00.000000000",
          "2024-08-23T00:00:00.000000000",
          "2024-08-26T00:00:00.000000000",
          "2024-08-27T00:00:00.000000000",
          "2024-08-28T00:00:00.000000000",
          "2024-08-29T00:00:00.000000000",
          "2024-08-30T00:00:00.000000000",
          "2024-09-02T00:00:00.000000000",
          "2024-09-03T00:00:00.000000000",
          "2024-09-04T00:00:00.000000000",
          "2024-09-05T00:00:00.000000000",
          "2024-09-06T00:00:00.000000000",
          "2024-09-09T00:00:00.000000000",
          "2024-09-10T00:00:00.000000000",
          "2024-09-11T00:00:00.000000000",
          "2024-09-12T00:00:00.000000000",
          "2024-09-13T00:00:00.000000000",
          "2024-09-16T00:00:00.000000000",
          "2024-09-17T00:00:00.000000000",
          "2024-09-18T00:00:00.000000000",
          "2024-09-19T00:00:00.000000000",
          "2024-09-20T00:00:00.000000000",
          "2024-09-23T00:00:00.000000000",
          "2024-09-24T00:00:00.000000000",
          "2024-09-25T00:00:00.000000000",
          "2024-09-26T00:00:00.000000000",
          "2024-09-27T00:00:00.000000000",
          "2024-09-30T00:00:00.000000000",
          "2024-10-01T00:00:00.000000000",
          "2024-10-02T00:00:00.000000000",
          "2024-10-03T00:00:00.000000000",
          "2024-10-04T00:00:00.000000000",
          "2024-10-07T00:00:00.000000000",
          "2024-10-08T00:00:00.000000000",
          "2024-10-09T00:00:00.000000000",
          "2024-10-10T00:00:00.000000000",
          "2024-10-11T00:00:00.000000000",
          "2024-10-14T00:00:00.000000000",
          "2024-10-15T00:00:00.000000000",
          "2024-10-16T00:00:00.000000000",
          "2024-10-17T00:00:00.000000000",
          "2024-10-18T00:00:00.000000000",
          "2024-10-21T00:00:00.000000000",
          "2024-10-22T00:00:00.000000000",
          "2024-10-23T00:00:00.000000000",
          "2024-10-24T00:00:00.000000000",
          "2024-10-25T00:00:00.000000000",
          "2024-10-28T00:00:00.000000000",
          "2024-10-29T00:00:00.000000000",
          "2024-10-30T00:00:00.000000000",
          "2024-10-31T00:00:00.000000000",
          "2024-11-01T00:00:00.000000000",
          "2024-11-04T00:00:00.000000000",
          "2024-11-05T00:00:00.000000000",
          "2024-11-06T00:00:00.000000000",
          "2024-11-07T00:00:00.000000000",
          "2024-11-08T00:00:00.000000000",
          "2024-11-11T00:00:00.000000000",
          "2024-11-12T00:00:00.000000000",
          "2024-11-13T00:00:00.000000000",
          "2024-11-14T00:00:00.000000000",
          "2024-11-18T00:00:00.000000000",
          "2024-11-19T00:00:00.000000000",
          "2024-11-21T00:00:00.000000000",
          "2024-11-22T00:00:00.000000000",
          "2024-11-25T00:00:00.000000000",
          "2024-11-26T00:00:00.000000000",
          "2024-11-27T00:00:00.000000000",
          "2024-11-28T00:00:00.000000000",
          "2024-11-29T00:00:00.000000000",
          "2024-12-02T00:00:00.000000000",
          "2024-12-03T00:00:00.000000000",
          "2024-12-04T00:00:00.000000000",
          "2024-12-05T00:00:00.000000000",
          "2024-12-06T00:00:00.000000000",
          "2024-12-09T00:00:00.000000000",
          "2024-12-10T00:00:00.000000000",
          "2024-12-11T00:00:00.000000000",
          "2024-12-12T00:00:00.000000000",
          "2024-12-13T00:00:00.000000000",
          "2024-12-16T00:00:00.000000000",
          "2024-12-17T00:00:00.000000000",
          "2024-12-18T00:00:00.000000000",
          "2024-12-19T00:00:00.000000000",
          "2024-12-20T00:00:00.000000000",
          "2024-12-23T00:00:00.000000000",
          "2024-12-26T00:00:00.000000000",
          "2024-12-27T00:00:00.000000000",
          "2024-12-30T00:00:00.000000000",
          "2025-01-02T00:00:00.000000000",
          "2025-01-03T00:00:00.000000000",
          "2025-01-06T00:00:00.000000000",
          "2025-01-07T00:00:00.000000000",
          "2025-01-08T00:00:00.000000000",
          "2025-01-09T00:00:00.000000000",
          "2025-01-10T00:00:00.000000000",
          "2025-01-13T00:00:00.000000000",
          "2025-01-14T00:00:00.000000000",
          "2025-01-15T00:00:00.000000000",
          "2025-01-16T00:00:00.000000000",
          "2025-01-17T00:00:00.000000000",
          "2025-01-20T00:00:00.000000000",
          "2025-01-21T00:00:00.000000000",
          "2025-01-22T00:00:00.000000000",
          "2025-01-23T00:00:00.000000000",
          "2025-01-24T00:00:00.000000000",
          "2025-01-27T00:00:00.000000000",
          "2025-01-28T00:00:00.000000000",
          "2025-01-29T00:00:00.000000000",
          "2025-01-30T00:00:00.000000000",
          "2025-01-31T00:00:00.000000000",
          "2025-02-03T00:00:00.000000000",
          "2025-02-04T00:00:00.000000000",
          "2025-02-05T00:00:00.000000000",
          "2025-02-06T00:00:00.000000000",
          "2025-02-07T00:00:00.000000000",
          "2025-02-10T00:00:00.000000000",
          "2025-02-11T00:00:00.000000000",
          "2025-02-12T00:00:00.000000000",
          "2025-02-13T00:00:00.000000000",
          "2025-02-14T00:00:00.000000000",
          "2025-02-17T00:00:00.000000000",
          "2025-02-18T00:00:00.000000000",
          "2025-02-19T00:00:00.000000000",
          "2025-02-20T00:00:00.000000000",
          "2025-02-21T00:00:00.000000000",
          "2025-02-24T00:00:00.000000000",
          "2025-02-25T00:00:00.000000000",
          "2025-02-26T00:00:00.000000000",
          "2025-02-27T00:00:00.000000000",
          "2025-02-28T00:00:00.000000000",
          "2025-03-05T00:00:00.000000000",
          "2025-03-06T00:00:00.000000000",
          "2025-03-07T00:00:00.000000000",
          "2025-03-10T00:00:00.000000000",
          "2025-03-11T00:00:00.000000000",
          "2025-03-12T00:00:00.000000000",
          "2025-03-13T00:00:00.000000000",
          "2025-03-14T00:00:00.000000000",
          "2025-03-17T00:00:00.000000000",
          "2025-03-18T00:00:00.000000000",
          "2025-03-19T00:00:00.000000000",
          "2025-03-20T00:00:00.000000000",
          "2025-03-21T00:00:00.000000000",
          "2025-03-24T00:00:00.000000000",
          "2025-03-25T00:00:00.000000000",
          "2025-03-26T00:00:00.000000000",
          "2025-03-27T00:00:00.000000000",
          "2025-03-28T00:00:00.000000000",
          "2025-03-31T00:00:00.000000000",
          "2025-04-01T00:00:00.000000000",
          "2025-04-02T00:00:00.000000000",
          "2025-04-03T00:00:00.000000000",
          "2025-04-04T00:00:00.000000000",
          "2025-04-07T00:00:00.000000000",
          "2025-04-08T00:00:00.000000000",
          "2025-04-09T00:00:00.000000000",
          "2025-04-10T00:00:00.000000000",
          "2025-04-11T00:00:00.000000000",
          "2025-04-14T00:00:00.000000000",
          "2025-04-15T00:00:00.000000000",
          "2025-04-16T00:00:00.000000000",
          "2025-04-17T00:00:00.000000000",
          "2025-04-22T00:00:00.000000000",
          "2025-04-23T00:00:00.000000000",
          "2025-04-24T00:00:00.000000000",
          "2025-04-25T00:00:00.000000000",
          "2025-04-28T00:00:00.000000000",
          "2025-04-29T00:00:00.000000000",
          "2025-04-30T00:00:00.000000000",
          "2025-05-02T00:00:00.000000000",
          "2025-05-05T00:00:00.000000000",
          "2025-05-06T00:00:00.000000000",
          "2025-05-07T00:00:00.000000000",
          "2025-05-08T00:00:00.000000000",
          "2025-05-09T00:00:00.000000000",
          "2025-05-12T00:00:00.000000000",
          "2025-05-13T00:00:00.000000000",
          "2025-05-14T00:00:00.000000000",
          "2025-05-15T00:00:00.000000000",
          "2025-05-16T00:00:00.000000000",
          "2025-05-19T00:00:00.000000000",
          "2025-05-20T00:00:00.000000000",
          "2025-05-21T00:00:00.000000000",
          "2025-05-22T00:00:00.000000000",
          "2025-05-23T00:00:00.000000000",
          "2025-05-26T00:00:00.000000000",
          "2025-05-27T00:00:00.000000000",
          "2025-05-28T00:00:00.000000000",
          "2025-05-29T00:00:00.000000000",
          "2025-05-30T00:00:00.000000000",
          "2025-06-02T00:00:00.000000000",
          "2025-06-03T00:00:00.000000000",
          "2025-06-04T00:00:00.000000000",
          "2025-06-05T00:00:00.000000000",
          "2025-06-06T00:00:00.000000000",
          "2025-06-09T00:00:00.000000000",
          "2025-06-10T00:00:00.000000000",
          "2025-06-11T00:00:00.000000000",
          "2025-06-12T00:00:00.000000000",
          "2025-06-13T00:00:00.000000000",
          "2025-06-16T00:00:00.000000000",
          "2025-06-17T00:00:00.000000000",
          "2025-06-18T00:00:00.000000000",
          "2025-06-20T00:00:00.000000000",
          "2025-06-23T00:00:00.000000000",
          "2025-06-24T00:00:00.000000000",
          "2025-06-25T00:00:00.000000000",
          "2025-06-26T00:00:00.000000000",
          "2025-06-27T00:00:00.000000000",
          "2025-06-30T00:00:00.000000000",
          "2025-07-01T00:00:00.000000000",
          "2025-07-02T00:00:00.000000000",
          "2025-07-03T00:00:00.000000000",
          "2025-07-04T00:00:00.000000000",
          "2025-07-07T00:00:00.000000000",
          "2025-07-08T00:00:00.000000000",
          "2025-07-09T00:00:00.000000000",
          "2025-07-10T00:00:00.000000000",
          "2025-07-11T00:00:00.000000000",
          "2025-07-14T00:00:00.000000000",
          "2025-07-15T00:00:00.000000000",
          "2025-07-16T00:00:00.000000000",
          "2025-07-17T00:00:00.000000000",
          "2025-07-18T00:00:00.000000000",
          "2025-07-21T00:00:00.000000000",
          "2025-07-22T00:00:00.000000000",
          "2025-07-23T00:00:00.000000000",
          "2025-07-24T00:00:00.000000000",
          "2025-07-25T00:00:00.000000000",
          "2025-07-28T00:00:00.000000000",
          "2025-07-29T00:00:00.000000000",
          "2025-07-30T00:00:00.000000000",
          "2025-07-31T00:00:00.000000000",
          "2025-08-01T00:00:00.000000000",
          "2025-08-04T00:00:00.000000000",
          "2025-08-05T00:00:00.000000000",
          "2025-08-06T00:00:00.000000000",
          "2025-08-07T00:00:00.000000000",
          "2025-08-08T00:00:00.000000000",
          "2025-08-11T00:00:00.000000000",
          "2025-08-12T00:00:00.000000000",
          "2025-08-13T00:00:00.000000000",
          "2025-08-14T00:00:00.000000000",
          "2025-08-15T00:00:00.000000000",
          "2025-08-18T00:00:00.000000000",
          "2025-08-19T00:00:00.000000000",
          "2025-08-20T00:00:00.000000000",
          "2025-08-21T00:00:00.000000000",
          "2025-08-22T00:00:00.000000000",
          "2025-08-25T00:00:00.000000000",
          "2025-08-26T00:00:00.000000000",
          "2025-08-27T00:00:00.000000000",
          "2025-08-28T00:00:00.000000000",
          "2025-08-29T00:00:00.000000000",
          "2025-09-01T00:00:00.000000000",
          "2025-09-02T00:00:00.000000000",
          "2025-09-03T00:00:00.000000000",
          "2025-09-04T00:00:00.000000000",
          "2025-09-05T00:00:00.000000000",
          "2025-09-08T00:00:00.000000000",
          "2025-09-09T00:00:00.000000000",
          "2025-09-10T00:00:00.000000000",
          "2025-09-11T00:00:00.000000000",
          "2025-09-12T00:00:00.000000000",
          "2025-09-15T00:00:00.000000000",
          "2025-09-16T00:00:00.000000000",
          "2025-09-17T00:00:00.000000000",
          "2025-09-18T00:00:00.000000000",
          "2025-09-19T00:00:00.000000000",
          "2025-09-22T00:00:00.000000000",
          "2025-09-23T00:00:00.000000000",
          "2025-09-24T00:00:00.000000000",
          "2025-09-25T00:00:00.000000000",
          "2025-09-26T00:00:00.000000000",
          "2025-09-29T00:00:00.000000000",
          "2025-09-30T00:00:00.000000000",
          "2025-10-01T00:00:00.000000000",
          "2025-10-02T00:00:00.000000000"
         ],
         "y": {
          "bdata": "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",
          "dtype": "f8"
         },
         "yaxis": "y3"
        }
       ],
       "layout": {
        "legend": {
         "x": 0.01,
         "y": 0.99
        },
        "template": {
         "data": {
          "bar": [
           {
            "error_x": {
             "color": "#2a3f5f"
            },
            "error_y": {
             "color": "#2a3f5f"
            },
            "marker": {
             "line": {
              "color": "#E5ECF6",
              "width": 0.5
             },
             "pattern": {
              "fillmode": "overlay",
              "size": 10,
              "solidity": 0.2
             }
            },
            "type": "bar"
           }
          ],
          "barpolar": [
           {
            "marker": {
             "line": {
              "color": "#E5ECF6",
              "width": 0.5
             },
             "pattern": {
              "fillmode": "overlay",
              "size": 10,
              "solidity": 0.2
             }
            },
            "type": "barpolar"
           }
          ],
          "carpet": [
           {
            "aaxis": {
             "endlinecolor": "#2a3f5f",
             "gridcolor": "white",
             "linecolor": "white",
             "minorgridcolor": "white",
             "startlinecolor": "#2a3f5f"
            },
            "baxis": {
             "endlinecolor": "#2a3f5f",
             "gridcolor": "white",
             "linecolor": "white",
             "minorgridcolor": "white",
             "startlinecolor": "#2a3f5f"
            },
            "type": "carpet"
           }
          ],
          "choropleth": [
           {
            "colorbar": {
             "outlinewidth": 0,
             "ticks": ""
            },
            "type": "choropleth"
           }
          ],
          "contour": [
           {
            "colorbar": {
             "outlinewidth": 0,
             "ticks": ""
            },
            "colorscale": [
             [
              0,
              "#0d0887"
             ],
             [
              0.1111111111111111,
              "#46039f"
             ],
             [
              0.2222222222222222,
              "#7201a8"
             ],
             [
              0.3333333333333333,
              "#9c179e"
             ],
             [
              0.4444444444444444,
              "#bd3786"
             ],
             [
              0.5555555555555556,
              "#d8576b"
             ],
             [
              0.6666666666666666,
              "#ed7953"
             ],
             [
              0.7777777777777778,
              "#fb9f3a"
             ],
             [
              0.8888888888888888,
              "#fdca26"
             ],
             [
              1,
              "#f0f921"
             ]
            ],
            "type": "contour"
           }
          ],
          "contourcarpet": [
           {
            "colorbar": {
             "outlinewidth": 0,
             "ticks": ""
            },
            "type": "contourcarpet"
           }
          ],
          "heatmap": [
           {
            "colorbar": {
             "outlinewidth": 0,
             "ticks": ""
            },
            "colorscale": [
             [
              0,
              "#0d0887"
             ],
             [
              0.1111111111111111,
              "#46039f"
             ],
             [
              0.2222222222222222,
              "#7201a8"
             ],
             [
              0.3333333333333333,
              "#9c179e"
             ],
             [
              0.4444444444444444,
              "#bd3786"
             ],
             [
              0.5555555555555556,
              "#d8576b"
             ],
             [
              0.6666666666666666,
              "#ed7953"
             ],
             [
              0.7777777777777778,
              "#fb9f3a"
             ],
             [
              0.8888888888888888,
              "#fdca26"
             ],
             [
              1,
              "#f0f921"
             ]
            ],
            "type": "heatmap"
           }
          ],
          "histogram": [
           {
            "marker": {
             "pattern": {
              "fillmode": "overlay",
              "size": 10,
              "solidity": 0.2
             }
            },
            "type": "histogram"
           }
          ],
          "histogram2d": [
           {
            "colorbar": {
             "outlinewidth": 0,
             "ticks": ""
            },
            "colorscale": [
             [
              0,
              "#0d0887"
             ],
             [
              0.1111111111111111,
              "#46039f"
             ],
             [
              0.2222222222222222,
              "#7201a8"
             ],
             [
              0.3333333333333333,
              "#9c179e"
             ],
             [
              0.4444444444444444,
              "#bd3786"
             ],
             [
              0.5555555555555556,
              "#d8576b"
             ],
             [
              0.6666666666666666,
              "#ed7953"
             ],
             [
              0.7777777777777778,
              "#fb9f3a"
             ],
             [
              0.8888888888888888,
              "#fdca26"
             ],
             [
              1,
              "#f0f921"
             ]
            ],
            "type": "histogram2d"
           }
          ],
          "histogram2dcontour": [
           {
            "colorbar": {
             "outlinewidth": 0,
             "ticks": ""
            },
            "colorscale": [
             [
              0,
              "#0d0887"
             ],
             [
              0.1111111111111111,
              "#46039f"
             ],
             [
              0.2222222222222222,
              "#7201a8"
             ],
             [
              0.3333333333333333,
              "#9c179e"
             ],
             [
              0.4444444444444444,
              "#bd3786"
             ],
             [
              0.5555555555555556,
              "#d8576b"
             ],
             [
              0.6666666666666666,
              "#ed7953"
             ],
             [
              0.7777777777777778,
              "#fb9f3a"
             ],
             [
              0.8888888888888888,
              "#fdca26"
             ],
             [
              1,
              "#f0f921"
             ]
            ],
            "type": "histogram2dcontour"
           }
          ],
          "mesh3d": [
           {
            "colorbar": {
             "outlinewidth": 0,
             "ticks": ""
            },
            "type": "mesh3d"
           }
          ],
          "parcoords": [
           {
            "line": {
             "colorbar": {
              "outlinewidth": 0,
              "ticks": ""
             }
            },
            "type": "parcoords"
           }
          ],
          "pie": [
           {
            "automargin": true,
            "type": "pie"
           }
          ],
          "scatter": [
           {
            "fillpattern": {
             "fillmode": "overlay",
             "size": 10,
             "solidity": 0.2
            },
            "type": "scatter"
           }
          ],
          "scatter3d": [
           {
            "line": {
             "colorbar": {
              "outlinewidth": 0,
              "ticks": ""
             }
            },
            "marker": {
             "colorbar": {
              "outlinewidth": 0,
              "ticks": ""
             }
            },
            "type": "scatter3d"
           }
          ],
          "scattercarpet": [
           {
            "marker": {
             "colorbar": {
              "outlinewidth": 0,
              "ticks": ""
             }
            },
            "type": "scattercarpet"
           }
          ],
          "scattergeo": [
           {
            "marker": {
             "colorbar": {
              "outlinewidth": 0,
              "ticks": ""
             }
            },
            "type": "scattergeo"
           }
          ],
          "scattergl": [
           {
            "marker": {
             "colorbar": {
              "outlinewidth": 0,
              "ticks": ""
             }
            },
            "type": "scattergl"
           }
          ],
          "scattermap": [
           {
            "marker": {
             "colorbar": {
              "outlinewidth": 0,
              "ticks": ""
             }
            },
            "type": "scattermap"
           }
          ],
          "scattermapbox": [
           {
            "marker": {
             "colorbar": {
              "outlinewidth": 0,
              "ticks": ""
             }
            },
            "type": "scattermapbox"
           }
          ],
          "scatterpolar": [
           {
            "marker": {
             "colorbar": {
              "outlinewidth": 0,
              "ticks": ""
             }
            },
            "type": "scatterpolar"
           }
          ],
          "scatterpolargl": [
           {
            "marker": {
             "colorbar": {
              "outlinewidth": 0,
              "ticks": ""
             }
            },
            "type": "scatterpolargl"
           }
          ],
          "scatterternary": [
           {
            "marker": {
             "colorbar": {
              "outlinewidth": 0,
              "ticks": ""
             }
            },
            "type": "scatterternary"
           }
          ],
          "surface": [
           {
            "colorbar": {
             "outlinewidth": 0,
             "ticks": ""
            },
            "colorscale": [
             [
              0,
              "#0d0887"
             ],
             [
              0.1111111111111111,
              "#46039f"
             ],
             [
              0.2222222222222222,
              "#7201a8"
             ],
             [
              0.3333333333333333,
              "#9c179e"
             ],
             [
              0.4444444444444444,
              "#bd3786"
             ],
             [
              0.5555555555555556,
              "#d8576b"
             ],
             [
              0.6666666666666666,
              "#ed7953"
             ],
             [
              0.7777777777777778,
              "#fb9f3a"
             ],
             [
              0.8888888888888888,
              "#fdca26"
             ],
             [
              1,
              "#f0f921"
             ]
            ],
            "type": "surface"
           }
          ],
          "table": [
           {
            "cells": {
             "fill": {
              "color": "#EBF0F8"
             },
             "line": {
              "color": "white"
             }
            },
            "header": {
             "fill": {
              "color": "#C8D4E3"
             },
             "line": {
              "color": "white"
             }
            },
            "type": "table"
           }
          ]
         },
         "layout": {
          "annotationdefaults": {
           "arrowcolor": "#2a3f5f",
           "arrowhead": 0,
           "arrowwidth": 1
          },
          "autotypenumbers": "strict",
          "coloraxis": {
           "colorbar": {
            "outlinewidth": 0,
            "ticks": ""
           }
          },
          "colorscale": {
           "diverging": [
            [
             0,
             "#8e0152"
            ],
            [
             0.1,
             "#c51b7d"
            ],
            [
             0.2,
             "#de77ae"
            ],
            [
             0.3,
             "#f1b6da"
            ],
            [
             0.4,
             "#fde0ef"
            ],
            [
             0.5,
             "#f7f7f7"
            ],
            [
             0.6,
             "#e6f5d0"
            ],
            [
             0.7,
             "#b8e186"
            ],
            [
             0.8,
             "#7fbc41"
            ],
            [
             0.9,
             "#4d9221"
            ],
            [
             1,
             "#276419"
            ]
           ],
           "sequential": [
            [
             0,
             "#0d0887"
            ],
            [
             0.1111111111111111,
             "#46039f"
            ],
            [
             0.2222222222222222,
             "#7201a8"
            ],
            [
             0.3333333333333333,
             "#9c179e"
            ],
            [
             0.4444444444444444,
             "#bd3786"
            ],
            [
             0.5555555555555556,
             "#d8576b"
            ],
            [
             0.6666666666666666,
             "#ed7953"
            ],
            [
             0.7777777777777778,
             "#fb9f3a"
            ],
            [
             0.8888888888888888,
             "#fdca26"
            ],
            [
             1,
             "#f0f921"
            ]
           ],
           "sequentialminus": [
            [
             0,
             "#0d0887"
            ],
            [
             0.1111111111111111,
             "#46039f"
            ],
            [
             0.2222222222222222,
             "#7201a8"
            ],
            [
             0.3333333333333333,
             "#9c179e"
            ],
            [
             0.4444444444444444,
             "#bd3786"
            ],
            [
             0.5555555555555556,
             "#d8576b"
            ],
            [
             0.6666666666666666,
             "#ed7953"
            ],
            [
             0.7777777777777778,
             "#fb9f3a"
            ],
            [
             0.8888888888888888,
             "#fdca26"
            ],
            [
             1,
             "#f0f921"
            ]
           ]
          },
          "colorway": [
           "#636efa",
           "#EF553B",
           "#00cc96",
           "#ab63fa",
           "#FFA15A",
           "#19d3f3",
           "#FF6692",
           "#B6E880",
           "#FF97FF",
           "#FECB52"
          ],
          "font": {
           "color": "#2a3f5f"
          },
          "geo": {
           "bgcolor": "white",
           "lakecolor": "white",
           "landcolor": "#E5ECF6",
           "showlakes": true,
           "showland": true,
           "subunitcolor": "white"
          },
          "hoverlabel": {
           "align": "left"
          },
          "hovermode": "closest",
          "mapbox": {
           "style": "light"
          },
          "paper_bgcolor": "white",
          "plot_bgcolor": "#E5ECF6",
          "polar": {
           "angularaxis": {
            "gridcolor": "white",
            "linecolor": "white",
            "ticks": ""
           },
           "bgcolor": "#E5ECF6",
           "radialaxis": {
            "gridcolor": "white",
            "linecolor": "white",
            "ticks": ""
           }
          },
          "scene": {
           "xaxis": {
            "backgroundcolor": "#E5ECF6",
            "gridcolor": "white",
            "gridwidth": 2,
            "linecolor": "white",
            "showbackground": true,
            "ticks": "",
            "zerolinecolor": "white"
           },
           "yaxis": {
            "backgroundcolor": "#E5ECF6",
            "gridcolor": "white",
            "gridwidth": 2,
            "linecolor": "white",
            "showbackground": true,
            "ticks": "",
            "zerolinecolor": "white"
           },
           "zaxis": {
            "backgroundcolor": "#E5ECF6",
            "gridcolor": "white",
            "gridwidth": 2,
            "linecolor": "white",
            "showbackground": true,
            "ticks": "",
            "zerolinecolor": "white"
           }
          },
          "shapedefaults": {
           "line": {
            "color": "#2a3f5f"
           }
          },
          "ternary": {
           "aaxis": {
            "gridcolor": "white",
            "linecolor": "white",
            "ticks": ""
           },
           "baxis": {
            "gridcolor": "white",
            "linecolor": "white",
            "ticks": ""
           },
           "bgcolor": "#E5ECF6",
           "caxis": {
            "gridcolor": "white",
            "linecolor": "white",
            "ticks": ""
           }
          },
          "title": {
           "x": 0.05
          },
          "xaxis": {
           "automargin": true,
           "gridcolor": "white",
           "linecolor": "white",
           "ticks": "",
           "title": {
            "standoff": 15
           },
           "zerolinecolor": "white",
           "zerolinewidth": 2
          },
          "yaxis": {
           "automargin": true,
           "gridcolor": "white",
           "linecolor": "white",
           "ticks": "",
           "title": {
            "standoff": 15
           },
           "zerolinecolor": "white",
           "zerolinewidth": 2
          }
         }
        },
        "title": {
         "text": "Preço PETR4.SA e Volatility Entropy"
        },
        "xaxis": {
         "title": {
          "text": "Data"
         }
        },
        "yaxis": {
         "title": {
          "text": "Preço PETR4.SA"
         }
        },
        "yaxis2": {
         "overlaying": "y",
         "side": "right",
         "title": {
          "text": "Volatility Entropy"
         }
        },
        "yaxis3": {
         "anchor": "free",
         "overlaying": "y",
         "position": 1,
         "showgrid": false,
         "side": "right",
         "title": {
          "text": "Volatility RSI"
         }
        }
       }
      }
     },
     "metadata": {},
     "output_type": "display_data"
    }
   ],
   "source": [
    "import plotly.graph_objects as go\n",
    "\n",
    "fig = go.Figure()\n",
    "\n",
    "fig.add_trace(go.Scatter(\n",
    "    y=data[\"Close\"][\"PETR4.SA\"],\n",
    "    x=data.index,\n",
    "    name=\"Preço PETR4.SA\",\n",
    "    yaxis=\"y1\"\n",
    "))\n",
    "\n",
    "fig.add_trace(go.Scatter(\n",
    "    x=data.index,\n",
    "    y=vol_ent,\n",
    "    name=\"Volatility Entropy\",\n",
    "    yaxis=\"y2\"\n",
    "))\n",
    "\n",
    "fig.add_trace(go.Scatter(\n",
    "    x=data.index,\n",
    "    y=vol_rsi,\n",
    "    name=\"Volatility RSI\",\n",
    "    yaxis=\"y3\"\n",
    "))\n",
    "\n",
    "\n",
    "fig.update_layout(\n",
    "    yaxis3=dict(\n",
    "        title=\"Volatility RSI\",\n",
    "        anchor=\"free\",\n",
    "        overlaying=\"y\",\n",
    "        side=\"right\",\n",
    "        position=1.0,\n",
    "        showgrid=False\n",
    "    )\n",
    ")\n",
    "\n",
    "fig.update_layout(\n",
    "    title=\"Preço PETR4.SA e Volatility Entropy\",\n",
    "    xaxis_title=\"Data\",\n",
    "    yaxis=dict(title=\"Preço PETR4.SA\"),\n",
    "    yaxis2=dict(title=\"Volatility Entropy\", overlaying=\"y\", side=\"right\"),\n",
    "    legend=dict(x=0.01, y=0.99)\n",
    ")\n",
    "\n",
    "fig.show(fig_type=\"png\")"
   ]
  },
  {
   "cell_type": "markdown",
   "id": "b2616779",
   "metadata": {},
   "source": [
    "# Bollinger's Band"
   ]
  },
  {
   "cell_type": "code",
   "execution_count": 9,
   "id": "8294c290",
   "metadata": {},
   "outputs": [],
   "source": [
    "bb = bollinger_bands(data[\"Close\"][\"PETR4.SA\"])"
   ]
  },
  {
   "cell_type": "code",
   "execution_count": 10,
   "id": "9273e72e",
   "metadata": {},
   "outputs": [
    {
     "data": {
      "text/plain": [
       "Date\n",
       "2024-01-03    29.450443\n",
       "2024-01-25    29.692333\n",
       "2024-01-26    30.206362\n",
       "2024-01-29    30.667467\n",
       "2024-01-30    30.478497\n",
       "2024-01-31    30.811092\n",
       "2024-02-01    31.423386\n",
       "2024-02-29    30.342426\n",
       "2024-03-08    27.742077\n",
       "2024-03-11    26.948368\n",
       "2024-04-10    29.926676\n",
       "2024-04-22    31.370472\n",
       "2024-04-25    31.914734\n",
       "2024-04-26    32.365456\n",
       "2024-04-29    32.753994\n",
       "2024-05-17    29.764376\n",
       "2024-06-14    28.935345\n",
       "2024-07-01    32.231037\n",
       "2024-07-29    30.770926\n",
       "2024-07-30    30.579020\n",
       "2024-08-02    29.811415\n",
       "2024-08-05    29.786383\n",
       "2024-08-26    33.954937\n",
       "2024-08-28    33.980675\n",
       "2024-10-07    32.925217\n",
       "2024-11-14    31.981310\n",
       "2024-11-18    32.779343\n",
       "2024-11-19    32.436104\n",
       "2024-11-22    33.826218\n",
       "2024-11-25    33.620277\n",
       "2025-01-31    34.912468\n",
       "2025-02-12    33.606377\n",
       "2025-02-18    35.533092\n",
       "2025-02-19    35.607197\n",
       "2025-03-05    32.068710\n",
       "2025-03-06    31.735237\n",
       "2025-04-07    30.734831\n",
       "2025-04-08    29.641788\n",
       "2025-04-10    28.928532\n",
       "2025-05-12    30.042606\n",
       "2025-05-13    30.498228\n",
       "2025-05-14    30.289402\n",
       "2025-06-04    28.698929\n",
       "2025-06-05    28.708708\n",
       "2025-06-09    28.522923\n",
       "2025-06-12    31.045691\n",
       "2025-06-13    31.808386\n",
       "2025-06-17    32.209290\n",
       "2025-08-08    29.852755\n",
       "2025-09-23    31.900000\n",
       "2025-09-24    32.619999\n",
       "2025-09-25    32.360001\n",
       "Name: PETR4.SA, dtype: float64"
      ]
     },
     "execution_count": 10,
     "metadata": {},
     "output_type": "execute_result"
    }
   ],
   "source": [
    "data[\"Close\"][\"PETR4.SA\"][bb]"
   ]
  },
  {
   "cell_type": "markdown",
   "id": "418522a7",
   "metadata": {},
   "source": [
    "# Hampel Filter"
   ]
  },
  {
   "cell_type": "code",
   "execution_count": 11,
   "id": "c83ba089",
   "metadata": {},
   "outputs": [],
   "source": [
    "hf = hampel_filter(data[\"Close\"][\"PETR4.SA\"], rolling_window=7)"
   ]
  },
  {
   "cell_type": "code",
   "execution_count": 12,
   "id": "80bd8c86",
   "metadata": {},
   "outputs": [
    {
     "data": {
      "text/plain": [
       "Date\n",
       "2024-05-22    30.161884\n",
       "2024-07-04    31.138033\n",
       "2024-10-09    31.938400\n",
       "2025-02-07    33.884270\n",
       "Name: PETR4.SA, dtype: float64"
      ]
     },
     "execution_count": 12,
     "metadata": {},
     "output_type": "execute_result"
    }
   ],
   "source": [
    "data[\"Close\"][\"PETR4.SA\"][hf]"
   ]
  },
  {
   "cell_type": "markdown",
   "id": "d721a459",
   "metadata": {},
   "source": [
    "# ADI-CV Framework"
   ]
  },
  {
   "cell_type": "code",
   "execution_count": 13,
   "id": "d7ad151f",
   "metadata": {},
   "outputs": [
    {
     "data": {
      "text/plain": [
       "(np.float64(1.0), np.float64(0.3049618792144121))"
      ]
     },
     "execution_count": 13,
     "metadata": {},
     "output_type": "execute_result"
    }
   ],
   "source": [
    "adi_cv(data[\"Volume\"][\"PETR4.SA\"])"
   ]
  },
  {
   "cell_type": "markdown",
   "id": "b21e8f9d",
   "metadata": {},
   "source": [
    "# Sampen"
   ]
  },
  {
   "cell_type": "code",
   "execution_count": 14,
   "id": "b778bd0d",
   "metadata": {},
   "outputs": [
    {
     "data": {
      "text/plain": [
       "np.float64(1.630118117671639)"
      ]
     },
     "execution_count": 14,
     "metadata": {},
     "output_type": "execute_result"
    }
   ],
   "source": [
    "sample_entropy(r, m=3)"
   ]
  },
  {
   "cell_type": "code",
   "execution_count": 15,
   "id": "e80832d8",
   "metadata": {},
   "outputs": [
    {
     "data": {
      "text/plain": [
       "np.float64(0.16791509477225003)"
      ]
     },
     "execution_count": 15,
     "metadata": {},
     "output_type": "execute_result"
    }
   ],
   "source": [
    "sample_entropy(pure_sine, m=2)"
   ]
  },
  {
   "cell_type": "markdown",
   "id": "64a5edd7",
   "metadata": {},
   "source": [
    "# Foreca"
   ]
  },
  {
   "cell_type": "code",
   "execution_count": 16,
   "id": "869394e7",
   "metadata": {},
   "outputs": [
    {
     "data": {
      "text/plain": [
       "0.5865781783424653"
      ]
     },
     "execution_count": 16,
     "metadata": {},
     "output_type": "execute_result"
    }
   ],
   "source": [
    "foreca(data[\"Close\"][\"PETR4.SA\"])"
   ]
  },
  {
   "cell_type": "code",
   "execution_count": 17,
   "id": "f3ce2558",
   "metadata": {},
   "outputs": [
    {
     "data": {
      "text/plain": [
       "0.9993976808641186"
      ]
     },
     "execution_count": 17,
     "metadata": {},
     "output_type": "execute_result"
    }
   ],
   "source": [
    "foreca(pure_sine)"
   ]
  },
  {
   "cell_type": "markdown",
   "id": "b461dd41",
   "metadata": {},
   "source": [
    "# Maximum Achievable Accuracy"
   ]
  },
  {
   "cell_type": "code",
   "execution_count": 18,
   "id": "2e1cc3c1",
   "metadata": {},
   "outputs": [
    {
     "data": {
      "text/plain": [
       "np.float64(0.7776350338132325)"
      ]
     },
     "execution_count": 18,
     "metadata": {},
     "output_type": "execute_result"
    }
   ],
   "source": [
    "maximum_achievable_accuracy(r, m=1)"
   ]
  },
  {
   "cell_type": "code",
   "execution_count": 19,
   "id": "4706a8ab",
   "metadata": {},
   "outputs": [
    {
     "data": {
      "text/plain": [
       "np.float64(0.9855199246783082)"
      ]
     },
     "execution_count": 19,
     "metadata": {},
     "output_type": "execute_result"
    }
   ],
   "source": [
    "maximum_achievable_accuracy(pure_sine, m=1)"
   ]
  },
  {
   "cell_type": "markdown",
   "id": "adc90af6",
   "metadata": {},
   "source": [
    "# Hurst's Exponent"
   ]
  },
  {
   "cell_type": "code",
   "execution_count": 20,
   "id": "86205dab",
   "metadata": {},
   "outputs": [
    {
     "data": {
      "text/plain": [
       "(0.4316761914926692, 0.15713104392666477)"
      ]
     },
     "execution_count": 20,
     "metadata": {},
     "output_type": "execute_result"
    }
   ],
   "source": [
    "hurst_exponent(r)"
   ]
  },
  {
   "cell_type": "code",
   "execution_count": 21,
   "id": "4afa7740",
   "metadata": {},
   "outputs": [
    {
     "data": {
      "application/vnd.plotly.v1+json": {
       "config": {
        "plotlyServerURL": "https://plot.ly"
       },
       "data": [
        {
         "name": "Preço PETR4.SA",
         "type": "scatter",
         "x": [
          "2023-10-02T00:00:00.000000000",
          "2023-10-03T00:00:00.000000000",
          "2023-10-04T00:00:00.000000000",
          "2023-10-05T00:00:00.000000000",
          "2023-10-06T00:00:00.000000000",
          "2023-10-09T00:00:00.000000000",
          "2023-10-10T00:00:00.000000000",
          "2023-10-11T00:00:00.000000000",
          "2023-10-13T00:00:00.000000000",
          "2023-10-16T00:00:00.000000000",
          "2023-10-17T00:00:00.000000000",
          "2023-10-18T00:00:00.000000000",
          "2023-10-19T00:00:00.000000000",
          "2023-10-20T00:00:00.000000000",
          "2023-10-23T00:00:00.000000000",
          "2023-10-24T00:00:00.000000000",
          "2023-10-25T00:00:00.000000000",
          "2023-10-26T00:00:00.000000000",
          "2023-10-27T00:00:00.000000000",
          "2023-10-30T00:00:00.000000000",
          "2023-10-31T00:00:00.000000000",
          "2023-11-01T00:00:00.000000000",
          "2023-11-03T00:00:00.000000000",
          "2023-11-06T00:00:00.000000000",
          "2023-11-07T00:00:00.000000000",
          "2023-11-08T00:00:00.000000000",
          "2023-11-09T00:00:00.000000000",
          "2023-11-10T00:00:00.000000000",
          "2023-11-13T00:00:00.000000000",
          "2023-11-14T00:00:00.000000000",
          "2023-11-16T00:00:00.000000000",
          "2023-11-17T00:00:00.000000000",
          "2023-11-20T00:00:00.000000000",
          "2023-11-21T00:00:00.000000000",
          "2023-11-22T00:00:00.000000000",
          "2023-11-23T00:00:00.000000000",
          "2023-11-24T00:00:00.000000000",
          "2023-11-27T00:00:00.000000000",
          "2023-11-28T00:00:00.000000000",
          "2023-11-29T00:00:00.000000000",
          "2023-11-30T00:00:00.000000000",
          "2023-12-01T00:00:00.000000000",
          "2023-12-04T00:00:00.000000000",
          "2023-12-05T00:00:00.000000000",
          "2023-12-06T00:00:00.000000000",
          "2023-12-07T00:00:00.000000000",
          "2023-12-08T00:00:00.000000000",
          "2023-12-11T00:00:00.000000000",
          "2023-12-12T00:00:00.000000000",
          "2023-12-13T00:00:00.000000000",
          "2023-12-14T00:00:00.000000000",
          "2023-12-15T00:00:00.000000000",
          "2023-12-18T00:00:00.000000000",
          "2023-12-19T00:00:00.000000000",
          "2023-12-20T00:00:00.000000000",
          "2023-12-21T00:00:00.000000000",
          "2023-12-22T00:00:00.000000000",
          "2023-12-26T00:00:00.000000000",
          "2023-12-27T00:00:00.000000000",
          "2023-12-28T00:00:00.000000000",
          "2024-01-02T00:00:00.000000000",
          "2024-01-03T00:00:00.000000000",
          "2024-01-04T00:00:00.000000000",
          "2024-01-05T00:00:00.000000000",
          "2024-01-08T00:00:00.000000000",
          "2024-01-09T00:00:00.000000000",
          "2024-01-10T00:00:00.000000000",
          "2024-01-11T00:00:00.000000000",
          "2024-01-12T00:00:00.000000000",
          "2024-01-15T00:00:00.000000000",
          "2024-01-16T00:00:00.000000000",
          "2024-01-17T00:00:00.000000000",
          "2024-01-18T00:00:00.000000000",
          "2024-01-19T00:00:00.000000000",
          "2024-01-22T00:00:00.000000000",
          "2024-01-23T00:00:00.000000000",
          "2024-01-24T00:00:00.000000000",
          "2024-01-25T00:00:00.000000000",
          "2024-01-26T00:00:00.000000000",
          "2024-01-29T00:00:00.000000000",
          "2024-01-30T00:00:00.000000000",
          "2024-01-31T00:00:00.000000000",
          "2024-02-01T00:00:00.000000000",
          "2024-02-02T00:00:00.000000000",
          "2024-02-05T00:00:00.000000000",
          "2024-02-06T00:00:00.000000000",
          "2024-02-07T00:00:00.000000000",
          "2024-02-08T00:00:00.000000000",
          "2024-02-09T00:00:00.000000000",
          "2024-02-14T00:00:00.000000000",
          "2024-02-15T00:00:00.000000000",
          "2024-02-16T00:00:00.000000000",
          "2024-02-19T00:00:00.000000000",
          "2024-02-20T00:00:00.000000000",
          "2024-02-21T00:00:00.000000000",
          "2024-02-22T00:00:00.000000000",
          "2024-02-23T00:00:00.000000000",
          "2024-02-26T00:00:00.000000000",
          "2024-02-27T00:00:00.000000000",
          "2024-02-28T00:00:00.000000000",
          "2024-02-29T00:00:00.000000000",
          "2024-03-01T00:00:00.000000000",
          "2024-03-04T00:00:00.000000000",
          "2024-03-05T00:00:00.000000000",
          "2024-03-06T00:00:00.000000000",
          "2024-03-07T00:00:00.000000000",
          "2024-03-08T00:00:00.000000000",
          "2024-03-11T00:00:00.000000000",
          "2024-03-12T00:00:00.000000000",
          "2024-03-13T00:00:00.000000000",
          "2024-03-14T00:00:00.000000000",
          "2024-03-15T00:00:00.000000000",
          "2024-03-18T00:00:00.000000000",
          "2024-03-19T00:00:00.000000000",
          "2024-03-20T00:00:00.000000000",
          "2024-03-21T00:00:00.000000000",
          "2024-03-22T00:00:00.000000000",
          "2024-03-25T00:00:00.000000000",
          "2024-03-26T00:00:00.000000000",
          "2024-03-27T00:00:00.000000000",
          "2024-03-28T00:00:00.000000000",
          "2024-04-01T00:00:00.000000000",
          "2024-04-02T00:00:00.000000000",
          "2024-04-03T00:00:00.000000000",
          "2024-04-04T00:00:00.000000000",
          "2024-04-05T00:00:00.000000000",
          "2024-04-08T00:00:00.000000000",
          "2024-04-09T00:00:00.000000000",
          "2024-04-10T00:00:00.000000000",
          "2024-04-11T00:00:00.000000000",
          "2024-04-12T00:00:00.000000000",
          "2024-04-15T00:00:00.000000000",
          "2024-04-16T00:00:00.000000000",
          "2024-04-17T00:00:00.000000000",
          "2024-04-18T00:00:00.000000000",
          "2024-04-19T00:00:00.000000000",
          "2024-04-22T00:00:00.000000000",
          "2024-04-23T00:00:00.000000000",
          "2024-04-24T00:00:00.000000000",
          "2024-04-25T00:00:00.000000000",
          "2024-04-26T00:00:00.000000000",
          "2024-04-29T00:00:00.000000000",
          "2024-04-30T00:00:00.000000000",
          "2024-05-02T00:00:00.000000000",
          "2024-05-03T00:00:00.000000000",
          "2024-05-06T00:00:00.000000000",
          "2024-05-07T00:00:00.000000000",
          "2024-05-08T00:00:00.000000000",
          "2024-05-09T00:00:00.000000000",
          "2024-05-10T00:00:00.000000000",
          "2024-05-13T00:00:00.000000000",
          "2024-05-14T00:00:00.000000000",
          "2024-05-15T00:00:00.000000000",
          "2024-05-16T00:00:00.000000000",
          "2024-05-17T00:00:00.000000000",
          "2024-05-20T00:00:00.000000000",
          "2024-05-21T00:00:00.000000000",
          "2024-05-22T00:00:00.000000000",
          "2024-05-23T00:00:00.000000000",
          "2024-05-24T00:00:00.000000000",
          "2024-05-27T00:00:00.000000000",
          "2024-05-28T00:00:00.000000000",
          "2024-05-29T00:00:00.000000000",
          "2024-05-31T00:00:00.000000000",
          "2024-06-03T00:00:00.000000000",
          "2024-06-04T00:00:00.000000000",
          "2024-06-05T00:00:00.000000000",
          "2024-06-06T00:00:00.000000000",
          "2024-06-07T00:00:00.000000000",
          "2024-06-10T00:00:00.000000000",
          "2024-06-11T00:00:00.000000000",
          "2024-06-12T00:00:00.000000000",
          "2024-06-13T00:00:00.000000000",
          "2024-06-14T00:00:00.000000000",
          "2024-06-17T00:00:00.000000000",
          "2024-06-18T00:00:00.000000000",
          "2024-06-19T00:00:00.000000000",
          "2024-06-20T00:00:00.000000000",
          "2024-06-21T00:00:00.000000000",
          "2024-06-24T00:00:00.000000000",
          "2024-06-25T00:00:00.000000000",
          "2024-06-26T00:00:00.000000000",
          "2024-06-27T00:00:00.000000000",
          "2024-06-28T00:00:00.000000000",
          "2024-07-01T00:00:00.000000000",
          "2024-07-02T00:00:00.000000000",
          "2024-07-03T00:00:00.000000000",
          "2024-07-04T00:00:00.000000000",
          "2024-07-05T00:00:00.000000000",
          "2024-07-08T00:00:00.000000000",
          "2024-07-09T00:00:00.000000000",
          "2024-07-10T00:00:00.000000000",
          "2024-07-11T00:00:00.000000000",
          "2024-07-12T00:00:00.000000000",
          "2024-07-15T00:00:00.000000000",
          "2024-07-16T00:00:00.000000000",
          "2024-07-17T00:00:00.000000000",
          "2024-07-18T00:00:00.000000000",
          "2024-07-19T00:00:00.000000000",
          "2024-07-22T00:00:00.000000000",
          "2024-07-23T00:00:00.000000000",
          "2024-07-24T00:00:00.000000000",
          "2024-07-25T00:00:00.000000000",
          "2024-07-26T00:00:00.000000000",
          "2024-07-29T00:00:00.000000000",
          "2024-07-30T00:00:00.000000000",
          "2024-07-31T00:00:00.000000000",
          "2024-08-01T00:00:00.000000000",
          "2024-08-02T00:00:00.000000000",
          "2024-08-05T00:00:00.000000000",
          "2024-08-06T00:00:00.000000000",
          "2024-08-07T00:00:00.000000000",
          "2024-08-08T00:00:00.000000000",
          "2024-08-09T00:00:00.000000000",
          "2024-08-12T00:00:00.000000000",
          "2024-08-13T00:00:00.000000000",
          "2024-08-14T00:00:00.000000000",
          "2024-08-15T00:00:00.000000000",
          "2024-08-16T00:00:00.000000000",
          "2024-08-19T00:00:00.000000000",
          "2024-08-20T00:00:00.000000000",
          "2024-08-21T00:00:00.000000000",
          "2024-08-22T00:00:00.000000000",
          "2024-08-23T00:00:00.000000000",
          "2024-08-26T00:00:00.000000000",
          "2024-08-27T00:00:00.000000000",
          "2024-08-28T00:00:00.000000000",
          "2024-08-29T00:00:00.000000000",
          "2024-08-30T00:00:00.000000000",
          "2024-09-02T00:00:00.000000000",
          "2024-09-03T00:00:00.000000000",
          "2024-09-04T00:00:00.000000000",
          "2024-09-05T00:00:00.000000000",
          "2024-09-06T00:00:00.000000000",
          "2024-09-09T00:00:00.000000000",
          "2024-09-10T00:00:00.000000000",
          "2024-09-11T00:00:00.000000000",
          "2024-09-12T00:00:00.000000000",
          "2024-09-13T00:00:00.000000000",
          "2024-09-16T00:00:00.000000000",
          "2024-09-17T00:00:00.000000000",
          "2024-09-18T00:00:00.000000000",
          "2024-09-19T00:00:00.000000000",
          "2024-09-20T00:00:00.000000000",
          "2024-09-23T00:00:00.000000000",
          "2024-09-24T00:00:00.000000000",
          "2024-09-25T00:00:00.000000000",
          "2024-09-26T00:00:00.000000000",
          "2024-09-27T00:00:00.000000000",
          "2024-09-30T00:00:00.000000000",
          "2024-10-01T00:00:00.000000000",
          "2024-10-02T00:00:00.000000000",
          "2024-10-03T00:00:00.000000000",
          "2024-10-04T00:00:00.000000000",
          "2024-10-07T00:00:00.000000000",
          "2024-10-08T00:00:00.000000000",
          "2024-10-09T00:00:00.000000000",
          "2024-10-10T00:00:00.000000000",
          "2024-10-11T00:00:00.000000000",
          "2024-10-14T00:00:00.000000000",
          "2024-10-15T00:00:00.000000000",
          "2024-10-16T00:00:00.000000000",
          "2024-10-17T00:00:00.000000000",
          "2024-10-18T00:00:00.000000000",
          "2024-10-21T00:00:00.000000000",
          "2024-10-22T00:00:00.000000000",
          "2024-10-23T00:00:00.000000000",
          "2024-10-24T00:00:00.000000000",
          "2024-10-25T00:00:00.000000000",
          "2024-10-28T00:00:00.000000000",
          "2024-10-29T00:00:00.000000000",
          "2024-10-30T00:00:00.000000000",
          "2024-10-31T00:00:00.000000000",
          "2024-11-01T00:00:00.000000000",
          "2024-11-04T00:00:00.000000000",
          "2024-11-05T00:00:00.000000000",
          "2024-11-06T00:00:00.000000000",
          "2024-11-07T00:00:00.000000000",
          "2024-11-08T00:00:00.000000000",
          "2024-11-11T00:00:00.000000000",
          "2024-11-12T00:00:00.000000000",
          "2024-11-13T00:00:00.000000000",
          "2024-11-14T00:00:00.000000000",
          "2024-11-18T00:00:00.000000000",
          "2024-11-19T00:00:00.000000000",
          "2024-11-21T00:00:00.000000000",
          "2024-11-22T00:00:00.000000000",
          "2024-11-25T00:00:00.000000000",
          "2024-11-26T00:00:00.000000000",
          "2024-11-27T00:00:00.000000000",
          "2024-11-28T00:00:00.000000000",
          "2024-11-29T00:00:00.000000000",
          "2024-12-02T00:00:00.000000000",
          "2024-12-03T00:00:00.000000000",
          "2024-12-04T00:00:00.000000000",
          "2024-12-05T00:00:00.000000000",
          "2024-12-06T00:00:00.000000000",
          "2024-12-09T00:00:00.000000000",
          "2024-12-10T00:00:00.000000000",
          "2024-12-11T00:00:00.000000000",
          "2024-12-12T00:00:00.000000000",
          "2024-12-13T00:00:00.000000000",
          "2024-12-16T00:00:00.000000000",
          "2024-12-17T00:00:00.000000000",
          "2024-12-18T00:00:00.000000000",
          "2024-12-19T00:00:00.000000000",
          "2024-12-20T00:00:00.000000000",
          "2024-12-23T00:00:00.000000000",
          "2024-12-26T00:00:00.000000000",
          "2024-12-27T00:00:00.000000000",
          "2024-12-30T00:00:00.000000000",
          "2025-01-02T00:00:00.000000000",
          "2025-01-03T00:00:00.000000000",
          "2025-01-06T00:00:00.000000000",
          "2025-01-07T00:00:00.000000000",
          "2025-01-08T00:00:00.000000000",
          "2025-01-09T00:00:00.000000000",
          "2025-01-10T00:00:00.000000000",
          "2025-01-13T00:00:00.000000000",
          "2025-01-14T00:00:00.000000000",
          "2025-01-15T00:00:00.000000000",
          "2025-01-16T00:00:00.000000000",
          "2025-01-17T00:00:00.000000000",
          "2025-01-20T00:00:00.000000000",
          "2025-01-21T00:00:00.000000000",
          "2025-01-22T00:00:00.000000000",
          "2025-01-23T00:00:00.000000000",
          "2025-01-24T00:00:00.000000000",
          "2025-01-27T00:00:00.000000000",
          "2025-01-28T00:00:00.000000000",
          "2025-01-29T00:00:00.000000000",
          "2025-01-30T00:00:00.000000000",
          "2025-01-31T00:00:00.000000000",
          "2025-02-03T00:00:00.000000000",
          "2025-02-04T00:00:00.000000000",
          "2025-02-05T00:00:00.000000000",
          "2025-02-06T00:00:00.000000000",
          "2025-02-07T00:00:00.000000000",
          "2025-02-10T00:00:00.000000000",
          "2025-02-11T00:00:00.000000000",
          "2025-02-12T00:00:00.000000000",
          "2025-02-13T00:00:00.000000000",
          "2025-02-14T00:00:00.000000000",
          "2025-02-17T00:00:00.000000000",
          "2025-02-18T00:00:00.000000000",
          "2025-02-19T00:00:00.000000000",
          "2025-02-20T00:00:00.000000000",
          "2025-02-21T00:00:00.000000000",
          "2025-02-24T00:00:00.000000000",
          "2025-02-25T00:00:00.000000000",
          "2025-02-26T00:00:00.000000000",
          "2025-02-27T00:00:00.000000000",
          "2025-02-28T00:00:00.000000000",
          "2025-03-05T00:00:00.000000000",
          "2025-03-06T00:00:00.000000000",
          "2025-03-07T00:00:00.000000000",
          "2025-03-10T00:00:00.000000000",
          "2025-03-11T00:00:00.000000000",
          "2025-03-12T00:00:00.000000000",
          "2025-03-13T00:00:00.000000000",
          "2025-03-14T00:00:00.000000000",
          "2025-03-17T00:00:00.000000000",
          "2025-03-18T00:00:00.000000000",
          "2025-03-19T00:00:00.000000000",
          "2025-03-20T00:00:00.000000000",
          "2025-03-21T00:00:00.000000000",
          "2025-03-24T00:00:00.000000000",
          "2025-03-25T00:00:00.000000000",
          "2025-03-26T00:00:00.000000000",
          "2025-03-27T00:00:00.000000000",
          "2025-03-28T00:00:00.000000000",
          "2025-03-31T00:00:00.000000000",
          "2025-04-01T00:00:00.000000000",
          "2025-04-02T00:00:00.000000000",
          "2025-04-03T00:00:00.000000000",
          "2025-04-04T00:00:00.000000000",
          "2025-04-07T00:00:00.000000000",
          "2025-04-08T00:00:00.000000000",
          "2025-04-09T00:00:00.000000000",
          "2025-04-10T00:00:00.000000000",
          "2025-04-11T00:00:00.000000000",
          "2025-04-14T00:00:00.000000000",
          "2025-04-15T00:00:00.000000000",
          "2025-04-16T00:00:00.000000000",
          "2025-04-17T00:00:00.000000000",
          "2025-04-22T00:00:00.000000000",
          "2025-04-23T00:00:00.000000000",
          "2025-04-24T00:00:00.000000000",
          "2025-04-25T00:00:00.000000000",
          "2025-04-28T00:00:00.000000000",
          "2025-04-29T00:00:00.000000000",
          "2025-04-30T00:00:00.000000000",
          "2025-05-02T00:00:00.000000000",
          "2025-05-05T00:00:00.000000000",
          "2025-05-06T00:00:00.000000000",
          "2025-05-07T00:00:00.000000000",
          "2025-05-08T00:00:00.000000000",
          "2025-05-09T00:00:00.000000000",
          "2025-05-12T00:00:00.000000000",
          "2025-05-13T00:00:00.000000000",
          "2025-05-14T00:00:00.000000000",
          "2025-05-15T00:00:00.000000000",
          "2025-05-16T00:00:00.000000000",
          "2025-05-19T00:00:00.000000000",
          "2025-05-20T00:00:00.000000000",
          "2025-05-21T00:00:00.000000000",
          "2025-05-22T00:00:00.000000000",
          "2025-05-23T00:00:00.000000000",
          "2025-05-26T00:00:00.000000000",
          "2025-05-27T00:00:00.000000000",
          "2025-05-28T00:00:00.000000000",
          "2025-05-29T00:00:00.000000000",
          "2025-05-30T00:00:00.000000000",
          "2025-06-02T00:00:00.000000000",
          "2025-06-03T00:00:00.000000000",
          "2025-06-04T00:00:00.000000000",
          "2025-06-05T00:00:00.000000000",
          "2025-06-06T00:00:00.000000000",
          "2025-06-09T00:00:00.000000000",
          "2025-06-10T00:00:00.000000000",
          "2025-06-11T00:00:00.000000000",
          "2025-06-12T00:00:00.000000000",
          "2025-06-13T00:00:00.000000000",
          "2025-06-16T00:00:00.000000000",
          "2025-06-17T00:00:00.000000000",
          "2025-06-18T00:00:00.000000000",
          "2025-06-20T00:00:00.000000000",
          "2025-06-23T00:00:00.000000000",
          "2025-06-24T00:00:00.000000000",
          "2025-06-25T00:00:00.000000000",
          "2025-06-26T00:00:00.000000000",
          "2025-06-27T00:00:00.000000000",
          "2025-06-30T00:00:00.000000000",
          "2025-07-01T00:00:00.000000000",
          "2025-07-02T00:00:00.000000000",
          "2025-07-03T00:00:00.000000000",
          "2025-07-04T00:00:00.000000000",
          "2025-07-07T00:00:00.000000000",
          "2025-07-08T00:00:00.000000000",
          "2025-07-09T00:00:00.000000000",
          "2025-07-10T00:00:00.000000000",
          "2025-07-11T00:00:00.000000000",
          "2025-07-14T00:00:00.000000000",
          "2025-07-15T00:00:00.000000000",
          "2025-07-16T00:00:00.000000000",
          "2025-07-17T00:00:00.000000000",
          "2025-07-18T00:00:00.000000000",
          "2025-07-21T00:00:00.000000000",
          "2025-07-22T00:00:00.000000000",
          "2025-07-23T00:00:00.000000000",
          "2025-07-24T00:00:00.000000000",
          "2025-07-25T00:00:00.000000000",
          "2025-07-28T00:00:00.000000000",
          "2025-07-29T00:00:00.000000000",
          "2025-07-30T00:00:00.000000000",
          "2025-07-31T00:00:00.000000000",
          "2025-08-01T00:00:00.000000000",
          "2025-08-04T00:00:00.000000000",
          "2025-08-05T00:00:00.000000000",
          "2025-08-06T00:00:00.000000000",
          "2025-08-07T00:00:00.000000000",
          "2025-08-08T00:00:00.000000000",
          "2025-08-11T00:00:00.000000000",
          "2025-08-12T00:00:00.000000000",
          "2025-08-13T00:00:00.000000000",
          "2025-08-14T00:00:00.000000000",
          "2025-08-15T00:00:00.000000000",
          "2025-08-18T00:00:00.000000000",
          "2025-08-19T00:00:00.000000000",
          "2025-08-20T00:00:00.000000000",
          "2025-08-21T00:00:00.000000000",
          "2025-08-22T00:00:00.000000000",
          "2025-08-25T00:00:00.000000000",
          "2025-08-26T00:00:00.000000000",
          "2025-08-27T00:00:00.000000000",
          "2025-08-28T00:00:00.000000000",
          "2025-08-29T00:00:00.000000000",
          "2025-09-01T00:00:00.000000000",
          "2025-09-02T00:00:00.000000000",
          "2025-09-03T00:00:00.000000000",
          "2025-09-04T00:00:00.000000000",
          "2025-09-05T00:00:00.000000000",
          "2025-09-08T00:00:00.000000000",
          "2025-09-09T00:00:00.000000000",
          "2025-09-10T00:00:00.000000000",
          "2025-09-11T00:00:00.000000000",
          "2025-09-12T00:00:00.000000000",
          "2025-09-15T00:00:00.000000000",
          "2025-09-16T00:00:00.000000000",
          "2025-09-17T00:00:00.000000000",
          "2025-09-18T00:00:00.000000000",
          "2025-09-19T00:00:00.000000000",
          "2025-09-22T00:00:00.000000000",
          "2025-09-23T00:00:00.000000000",
          "2025-09-24T00:00:00.000000000",
          "2025-09-25T00:00:00.000000000",
          "2025-09-26T00:00:00.000000000",
          "2025-09-29T00:00:00.000000000",
          "2025-09-30T00:00:00.000000000",
          "2025-10-01T00:00:00.000000000",
          "2025-10-02T00:00:00.000000000"
         ],
         "y": {
          "bdata": "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",
          "dtype": "f8"
         },
         "yaxis": "y"
        }
       ],
       "layout": {
        "template": {
         "data": {
          "bar": [
           {
            "error_x": {
             "color": "#2a3f5f"
            },
            "error_y": {
             "color": "#2a3f5f"
            },
            "marker": {
             "line": {
              "color": "#E5ECF6",
              "width": 0.5
             },
             "pattern": {
              "fillmode": "overlay",
              "size": 10,
              "solidity": 0.2
             }
            },
            "type": "bar"
           }
          ],
          "barpolar": [
           {
            "marker": {
             "line": {
              "color": "#E5ECF6",
              "width": 0.5
             },
             "pattern": {
              "fillmode": "overlay",
              "size": 10,
              "solidity": 0.2
             }
            },
            "type": "barpolar"
           }
          ],
          "carpet": [
           {
            "aaxis": {
             "endlinecolor": "#2a3f5f",
             "gridcolor": "white",
             "linecolor": "white",
             "minorgridcolor": "white",
             "startlinecolor": "#2a3f5f"
            },
            "baxis": {
             "endlinecolor": "#2a3f5f",
             "gridcolor": "white",
             "linecolor": "white",
             "minorgridcolor": "white",
             "startlinecolor": "#2a3f5f"
            },
            "type": "carpet"
           }
          ],
          "choropleth": [
           {
            "colorbar": {
             "outlinewidth": 0,
             "ticks": ""
            },
            "type": "choropleth"
           }
          ],
          "contour": [
           {
            "colorbar": {
             "outlinewidth": 0,
             "ticks": ""
            },
            "colorscale": [
             [
              0,
              "#0d0887"
             ],
             [
              0.1111111111111111,
              "#46039f"
             ],
             [
              0.2222222222222222,
              "#7201a8"
             ],
             [
              0.3333333333333333,
              "#9c179e"
             ],
             [
              0.4444444444444444,
              "#bd3786"
             ],
             [
              0.5555555555555556,
              "#d8576b"
             ],
             [
              0.6666666666666666,
              "#ed7953"
             ],
             [
              0.7777777777777778,
              "#fb9f3a"
             ],
             [
              0.8888888888888888,
              "#fdca26"
             ],
             [
              1,
              "#f0f921"
             ]
            ],
            "type": "contour"
           }
          ],
          "contourcarpet": [
           {
            "colorbar": {
             "outlinewidth": 0,
             "ticks": ""
            },
            "type": "contourcarpet"
           }
          ],
          "heatmap": [
           {
            "colorbar": {
             "outlinewidth": 0,
             "ticks": ""
            },
            "colorscale": [
             [
              0,
              "#0d0887"
             ],
             [
              0.1111111111111111,
              "#46039f"
             ],
             [
              0.2222222222222222,
              "#7201a8"
             ],
             [
              0.3333333333333333,
              "#9c179e"
             ],
             [
              0.4444444444444444,
              "#bd3786"
             ],
             [
              0.5555555555555556,
              "#d8576b"
             ],
             [
              0.6666666666666666,
              "#ed7953"
             ],
             [
              0.7777777777777778,
              "#fb9f3a"
             ],
             [
              0.8888888888888888,
              "#fdca26"
             ],
             [
              1,
              "#f0f921"
             ]
            ],
            "type": "heatmap"
           }
          ],
          "histogram": [
           {
            "marker": {
             "pattern": {
              "fillmode": "overlay",
              "size": 10,
              "solidity": 0.2
             }
            },
            "type": "histogram"
           }
          ],
          "histogram2d": [
           {
            "colorbar": {
             "outlinewidth": 0,
             "ticks": ""
            },
            "colorscale": [
             [
              0,
              "#0d0887"
             ],
             [
              0.1111111111111111,
              "#46039f"
             ],
             [
              0.2222222222222222,
              "#7201a8"
             ],
             [
              0.3333333333333333,
              "#9c179e"
             ],
             [
              0.4444444444444444,
              "#bd3786"
             ],
             [
              0.5555555555555556,
              "#d8576b"
             ],
             [
              0.6666666666666666,
              "#ed7953"
             ],
             [
              0.7777777777777778,
              "#fb9f3a"
             ],
             [
              0.8888888888888888,
              "#fdca26"
             ],
             [
              1,
              "#f0f921"
             ]
            ],
            "type": "histogram2d"
           }
          ],
          "histogram2dcontour": [
           {
            "colorbar": {
             "outlinewidth": 0,
             "ticks": ""
            },
            "colorscale": [
             [
              0,
              "#0d0887"
             ],
             [
              0.1111111111111111,
              "#46039f"
             ],
             [
              0.2222222222222222,
              "#7201a8"
             ],
             [
              0.3333333333333333,
              "#9c179e"
             ],
             [
              0.4444444444444444,
              "#bd3786"
             ],
             [
              0.5555555555555556,
              "#d8576b"
             ],
             [
              0.6666666666666666,
              "#ed7953"
             ],
             [
              0.7777777777777778,
              "#fb9f3a"
             ],
             [
              0.8888888888888888,
              "#fdca26"
             ],
             [
              1,
              "#f0f921"
             ]
            ],
            "type": "histogram2dcontour"
           }
          ],
          "mesh3d": [
           {
            "colorbar": {
             "outlinewidth": 0,
             "ticks": ""
            },
            "type": "mesh3d"
           }
          ],
          "parcoords": [
           {
            "line": {
             "colorbar": {
              "outlinewidth": 0,
              "ticks": ""
             }
            },
            "type": "parcoords"
           }
          ],
          "pie": [
           {
            "automargin": true,
            "type": "pie"
           }
          ],
          "scatter": [
           {
            "fillpattern": {
             "fillmode": "overlay",
             "size": 10,
             "solidity": 0.2
            },
            "type": "scatter"
           }
          ],
          "scatter3d": [
           {
            "line": {
             "colorbar": {
              "outlinewidth": 0,
              "ticks": ""
             }
            },
            "marker": {
             "colorbar": {
              "outlinewidth": 0,
              "ticks": ""
             }
            },
            "type": "scatter3d"
           }
          ],
          "scattercarpet": [
           {
            "marker": {
             "colorbar": {
              "outlinewidth": 0,
              "ticks": ""
             }
            },
            "type": "scattercarpet"
           }
          ],
          "scattergeo": [
           {
            "marker": {
             "colorbar": {
              "outlinewidth": 0,
              "ticks": ""
             }
            },
            "type": "scattergeo"
           }
          ],
          "scattergl": [
           {
            "marker": {
             "colorbar": {
              "outlinewidth": 0,
              "ticks": ""
             }
            },
            "type": "scattergl"
           }
          ],
          "scattermap": [
           {
            "marker": {
             "colorbar": {
              "outlinewidth": 0,
              "ticks": ""
             }
            },
            "type": "scattermap"
           }
          ],
          "scattermapbox": [
           {
            "marker": {
             "colorbar": {
              "outlinewidth": 0,
              "ticks": ""
             }
            },
            "type": "scattermapbox"
           }
          ],
          "scatterpolar": [
           {
            "marker": {
             "colorbar": {
              "outlinewidth": 0,
              "ticks": ""
             }
            },
            "type": "scatterpolar"
           }
          ],
          "scatterpolargl": [
           {
            "marker": {
             "colorbar": {
              "outlinewidth": 0,
              "ticks": ""
             }
            },
            "type": "scatterpolargl"
           }
          ],
          "scatterternary": [
           {
            "marker": {
             "colorbar": {
              "outlinewidth": 0,
              "ticks": ""
             }
            },
            "type": "scatterternary"
           }
          ],
          "surface": [
           {
            "colorbar": {
             "outlinewidth": 0,
             "ticks": ""
            },
            "colorscale": [
             [
              0,
              "#0d0887"
             ],
             [
              0.1111111111111111,
              "#46039f"
             ],
             [
              0.2222222222222222,
              "#7201a8"
             ],
             [
              0.3333333333333333,
              "#9c179e"
             ],
             [
              0.4444444444444444,
              "#bd3786"
             ],
             [
              0.5555555555555556,
              "#d8576b"
             ],
             [
              0.6666666666666666,
              "#ed7953"
             ],
             [
              0.7777777777777778,
              "#fb9f3a"
             ],
             [
              0.8888888888888888,
              "#fdca26"
             ],
             [
              1,
              "#f0f921"
             ]
            ],
            "type": "surface"
           }
          ],
          "table": [
           {
            "cells": {
             "fill": {
              "color": "#EBF0F8"
             },
             "line": {
              "color": "white"
             }
            },
            "header": {
             "fill": {
              "color": "#C8D4E3"
             },
             "line": {
              "color": "white"
             }
            },
            "type": "table"
           }
          ]
         },
         "layout": {
          "annotationdefaults": {
           "arrowcolor": "#2a3f5f",
           "arrowhead": 0,
           "arrowwidth": 1
          },
          "autotypenumbers": "strict",
          "coloraxis": {
           "colorbar": {
            "outlinewidth": 0,
            "ticks": ""
           }
          },
          "colorscale": {
           "diverging": [
            [
             0,
             "#8e0152"
            ],
            [
             0.1,
             "#c51b7d"
            ],
            [
             0.2,
             "#de77ae"
            ],
            [
             0.3,
             "#f1b6da"
            ],
            [
             0.4,
             "#fde0ef"
            ],
            [
             0.5,
             "#f7f7f7"
            ],
            [
             0.6,
             "#e6f5d0"
            ],
            [
             0.7,
             "#b8e186"
            ],
            [
             0.8,
             "#7fbc41"
            ],
            [
             0.9,
             "#4d9221"
            ],
            [
             1,
             "#276419"
            ]
           ],
           "sequential": [
            [
             0,
             "#0d0887"
            ],
            [
             0.1111111111111111,
             "#46039f"
            ],
            [
             0.2222222222222222,
             "#7201a8"
            ],
            [
             0.3333333333333333,
             "#9c179e"
            ],
            [
             0.4444444444444444,
             "#bd3786"
            ],
            [
             0.5555555555555556,
             "#d8576b"
            ],
            [
             0.6666666666666666,
             "#ed7953"
            ],
            [
             0.7777777777777778,
             "#fb9f3a"
            ],
            [
             0.8888888888888888,
             "#fdca26"
            ],
            [
             1,
             "#f0f921"
            ]
           ],
           "sequentialminus": [
            [
             0,
             "#0d0887"
            ],
            [
             0.1111111111111111,
             "#46039f"
            ],
            [
             0.2222222222222222,
             "#7201a8"
            ],
            [
             0.3333333333333333,
             "#9c179e"
            ],
            [
             0.4444444444444444,
             "#bd3786"
            ],
            [
             0.5555555555555556,
             "#d8576b"
            ],
            [
             0.6666666666666666,
             "#ed7953"
            ],
            [
             0.7777777777777778,
             "#fb9f3a"
            ],
            [
             0.8888888888888888,
             "#fdca26"
            ],
            [
             1,
             "#f0f921"
            ]
           ]
          },
          "colorway": [
           "#636efa",
           "#EF553B",
           "#00cc96",
           "#ab63fa",
           "#FFA15A",
           "#19d3f3",
           "#FF6692",
           "#B6E880",
           "#FF97FF",
           "#FECB52"
          ],
          "font": {
           "color": "#2a3f5f"
          },
          "geo": {
           "bgcolor": "white",
           "lakecolor": "white",
           "landcolor": "#E5ECF6",
           "showlakes": true,
           "showland": true,
           "subunitcolor": "white"
          },
          "hoverlabel": {
           "align": "left"
          },
          "hovermode": "closest",
          "mapbox": {
           "style": "light"
          },
          "paper_bgcolor": "white",
          "plot_bgcolor": "#E5ECF6",
          "polar": {
           "angularaxis": {
            "gridcolor": "white",
            "linecolor": "white",
            "ticks": ""
           },
           "bgcolor": "#E5ECF6",
           "radialaxis": {
            "gridcolor": "white",
            "linecolor": "white",
            "ticks": ""
           }
          },
          "scene": {
           "xaxis": {
            "backgroundcolor": "#E5ECF6",
            "gridcolor": "white",
            "gridwidth": 2,
            "linecolor": "white",
            "showbackground": true,
            "ticks": "",
            "zerolinecolor": "white"
           },
           "yaxis": {
            "backgroundcolor": "#E5ECF6",
            "gridcolor": "white",
            "gridwidth": 2,
            "linecolor": "white",
            "showbackground": true,
            "ticks": "",
            "zerolinecolor": "white"
           },
           "zaxis": {
            "backgroundcolor": "#E5ECF6",
            "gridcolor": "white",
            "gridwidth": 2,
            "linecolor": "white",
            "showbackground": true,
            "ticks": "",
            "zerolinecolor": "white"
           }
          },
          "shapedefaults": {
           "line": {
            "color": "#2a3f5f"
           }
          },
          "ternary": {
           "aaxis": {
            "gridcolor": "white",
            "linecolor": "white",
            "ticks": ""
           },
           "baxis": {
            "gridcolor": "white",
            "linecolor": "white",
            "ticks": ""
           },
           "bgcolor": "#E5ECF6",
           "caxis": {
            "gridcolor": "white",
            "linecolor": "white",
            "ticks": ""
           }
          },
          "title": {
           "x": 0.05
          },
          "xaxis": {
           "automargin": true,
           "gridcolor": "white",
           "linecolor": "white",
           "ticks": "",
           "title": {
            "standoff": 15
           },
           "zerolinecolor": "white",
           "zerolinewidth": 2
          },
          "yaxis": {
           "automargin": true,
           "gridcolor": "white",
           "linecolor": "white",
           "ticks": "",
           "title": {
            "standoff": 15
           },
           "zerolinecolor": "white",
           "zerolinewidth": 2
          }
         }
        }
       }
      }
     },
     "metadata": {},
     "output_type": "display_data"
    }
   ],
   "source": [
    "fig = go.Figure()\n",
    "\n",
    "fig.add_trace(go.Scatter(\n",
    "    y=data[\"Close\"][\"PETR4.SA\"],\n",
    "    x=data.index,\n",
    "    name=\"Preço PETR4.SA\",\n",
    "    yaxis=\"y1\"\n",
    "))\n",
    "\n",
    "\n",
    "fig.show(fig_type=\"png\")"
   ]
  },
  {
   "cell_type": "code",
   "execution_count": 22,
   "id": "d01899f8",
   "metadata": {},
   "outputs": [],
   "source": [
    "np.random.seed(42)\n",
    "n_points = 1000\n",
    "trend = np.linspace(0, 10, n_points)\n",
    "noise_trend = np.cumsum(standard_normal(n_points) * 0.1)\n",
    "mean_reversion = np.zeros(n_points)\n",
    "for t in range(1, n_points):\n",
    "    mean_reversion[t] = mean_reversion[t-1] * 0.6 + standard_normal() * 0.5\n",
    "brownian = np.cumsum(standard_normal(n_points))"
   ]
  },
  {
   "cell_type": "code",
   "execution_count": 23,
   "id": "77aea94b",
   "metadata": {},
   "outputs": [
    {
     "data": {
      "text/plain": [
       "(0.6419241912818302, 0.000952023886777138)"
      ]
     },
     "execution_count": 23,
     "metadata": {},
     "output_type": "execute_result"
    }
   ],
   "source": [
    "hurst_exponent(noise_trend)"
   ]
  },
  {
   "cell_type": "code",
   "execution_count": 24,
   "id": "df47c202",
   "metadata": {},
   "outputs": [
    {
     "data": {
      "text/plain": [
       "(0.3685698852341455, 0.05402692976986088)"
      ]
     },
     "execution_count": 24,
     "metadata": {},
     "output_type": "execute_result"
    }
   ],
   "source": [
    "hurst_exponent(mean_reversion)"
   ]
  },
  {
   "cell_type": "code",
   "execution_count": 25,
   "id": "c80e44d7",
   "metadata": {},
   "outputs": [
    {
     "data": {
      "text/plain": [
       "(0.8575205638768405, 0.0014654668633357023)"
      ]
     },
     "execution_count": 25,
     "metadata": {},
     "output_type": "execute_result"
    }
   ],
   "source": [
    "hurst_exponent(pure_sine)"
   ]
  }
 ],
 "metadata": {
  "kernelspec": {
   "display_name": "tinyshift",
   "language": "python",
   "name": "python3"
  },
  "language_info": {
   "codemirror_mode": {
    "name": "ipython",
    "version": 3
   },
   "file_extension": ".py",
   "mimetype": "text/x-python",
   "name": "python",
   "nbconvert_exporter": "python",
   "pygments_lexer": "ipython3",
   "version": "3.12.3"
  }
 },
 "nbformat": 4,
 "nbformat_minor": 5
}
