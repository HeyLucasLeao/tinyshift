{
 "cells": [
  {
   "cell_type": "code",
   "execution_count": 1,
   "id": "f56fe688",
   "metadata": {},
   "outputs": [],
   "source": [
    "import sys\n",
    "import os\n",
    "sys.path.append(os.path.abspath(\"../..\"))\n",
    "import numpy as np\n",
    "import yfinance as yf\n",
    "import plotly.express as px\n",
    "from tinyshift.series import relative_strength_index, bollinger_bands, adi_cv, foreca, maximum_achievable_accuracy, sample_entropy, hampel_filter, hurst_exponent, standardize_returns\n",
    "from tinyshift.stats import trailing_window, mad\n",
    "from numpy.random import standard_normal"
   ]
  },
  {
   "cell_type": "code",
   "execution_count": 2,
   "id": "3e5496d5",
   "metadata": {},
   "outputs": [
    {
     "name": "stderr",
     "output_type": "stream",
     "text": [
      "[*********************100%***********************]  1 of 1 completed\n"
     ]
    }
   ],
   "source": [
    "ticker = 'PETR4.SA'\n",
    "period = '2y'\n",
    "data = yf.download(ticker, period=period, interval=\"1d\", auto_adjust=True)\n",
    "t = np.linspace(0, 10, 1000)\n",
    "pure_sine = np.sin(2 * np.pi * 1 * t)  # Perfectly forecastable"
   ]
  },
  {
   "cell_type": "code",
   "execution_count": 3,
   "id": "98b6bb91",
   "metadata": {},
   "outputs": [],
   "source": [
    "r = standardize_returns(data[\"Close\"][\"PETR4.SA\"], log=False)"
   ]
  },
  {
   "cell_type": "markdown",
   "id": "20d495d4",
   "metadata": {},
   "source": [
    "# RSI"
   ]
  },
  {
   "cell_type": "code",
   "execution_count": 4,
   "id": "6ae9593c",
   "metadata": {},
   "outputs": [],
   "source": [
    "vol_rsi = relative_strength_index(data[\"Close\"][\"PETR4.SA\"], rolling_window=14)"
   ]
  },
  {
   "cell_type": "code",
   "execution_count": 5,
   "id": "f05842ae",
   "metadata": {},
   "outputs": [
    {
     "data": {
      "application/vnd.plotly.v1+json": {
       "config": {
        "plotlyServerURL": "https://plot.ly"
       },
       "data": [
        {
         "hovertemplate": "variable=0<br>index=%{x}<br>value=%{y}<extra></extra>",
         "legendgroup": "0",
         "line": {
          "color": "#636efa",
          "dash": "solid"
         },
         "marker": {
          "symbol": "circle"
         },
         "mode": "lines",
         "name": "0",
         "orientation": "v",
         "showlegend": true,
         "type": "scatter",
         "x": {
          "bdata": "AAABAAIAAwAEAAUABgAHAAgACQAKAAsADAANAA4ADwAQABEAEgATABQAFQAWABcAGAAZABoAGwAcAB0AHgAfACAAIQAiACMAJAAlACYAJwAoACkAKgArACwALQAuAC8AMAAxADIAMwA0ADUANgA3ADgAOQA6ADsAPAA9AD4APwBAAEEAQgBDAEQARQBGAEcASABJAEoASwBMAE0ATgBPAFAAUQBSAFMAVABVAFYAVwBYAFkAWgBbAFwAXQBeAF8AYABhAGIAYwBkAGUAZgBnAGgAaQBqAGsAbABtAG4AbwBwAHEAcgBzAHQAdQB2AHcAeAB5AHoAewB8AH0AfgB/AIAAgQCCAIMAhACFAIYAhwCIAIkAigCLAIwAjQCOAI8AkACRAJIAkwCUAJUAlgCXAJgAmQCaAJsAnACdAJ4AnwCgAKEAogCjAKQApQCmAKcAqACpAKoAqwCsAK0ArgCvALAAsQCyALMAtAC1ALYAtwC4ALkAugC7ALwAvQC+AL8AwADBAMIAwwDEAMUAxgDHAMgAyQDKAMsAzADNAM4AzwDQANEA0gDTANQA1QDWANcA2ADZANoA2wDcAN0A3gDfAOAA4QDiAOMA5ADlAOYA5wDoAOkA6gDrAOwA7QDuAO8A8ADxAPIA8wD0APUA9gD3APgA+QD6APsA/AD9AP4A/wAAAQEBAgEDAQQBBQEGAQcBCAEJAQoBCwEMAQ0BDgEPARABEQESARMBFAEVARYBFwEYARkBGgEbARwBHQEeAR8BIAEhASIBIwEkASUBJgEnASgBKQEqASsBLAEtAS4BLwEwATEBMgEzATQBNQE2ATcBOAE5AToBOwE8AT0BPgE/AUABQQFCAUMBRAFFAUYBRwFIAUkBSgFLAUwBTQFOAU8BUAFRAVIBUwFUAVUBVgFXAVgBWQFaAVsBXAFdAV4BXwFgAWEBYgFjAWQBZQFmAWcBaAFpAWoBawFsAW0BbgFvAXABcQFyAXMBdAF1AXYBdwF4AXkBegF7AXwBfQF+AX8BgAGBAYIBgwGEAYUBhgGHAYgBiQGKAYsBjAGNAY4BjwGQAZEBkgGTAZQBlQGWAZcBmAGZAZoBmwGcAZ0BngGfAaABoQGiAaMBpAGlAaYBpwGoAakBqgGrAawBrQGuAa8BsAGxAbIBswG0AbUBtgG3AbgBuQG6AbsBvAG9Ab4BvwHAAcEBwgHDAcQBxQHGAccByAHJAcoBywHMAc0BzgHPAdAB0QHSAdMB1AHVAdYB1wHYAdkB2gHbAdwB3QHeAd8B4AHhAeIB4wHkAeUB5gHnAegB6QHqAesB7AHtAe4B7wHwAfEB8gHzAfQB",
          "dtype": "i2"
         },
         "xaxis": "x",
         "y": {
          "bdata": "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",
          "dtype": "f8"
         },
         "yaxis": "y"
        }
       ],
       "layout": {
        "legend": {
         "title": {
          "text": "variable"
         },
         "tracegroupgap": 0
        },
        "template": {
         "data": {
          "bar": [
           {
            "error_x": {
             "color": "#2a3f5f"
            },
            "error_y": {
             "color": "#2a3f5f"
            },
            "marker": {
             "line": {
              "color": "#E5ECF6",
              "width": 0.5
             },
             "pattern": {
              "fillmode": "overlay",
              "size": 10,
              "solidity": 0.2
             }
            },
            "type": "bar"
           }
          ],
          "barpolar": [
           {
            "marker": {
             "line": {
              "color": "#E5ECF6",
              "width": 0.5
             },
             "pattern": {
              "fillmode": "overlay",
              "size": 10,
              "solidity": 0.2
             }
            },
            "type": "barpolar"
           }
          ],
          "carpet": [
           {
            "aaxis": {
             "endlinecolor": "#2a3f5f",
             "gridcolor": "white",
             "linecolor": "white",
             "minorgridcolor": "white",
             "startlinecolor": "#2a3f5f"
            },
            "baxis": {
             "endlinecolor": "#2a3f5f",
             "gridcolor": "white",
             "linecolor": "white",
             "minorgridcolor": "white",
             "startlinecolor": "#2a3f5f"
            },
            "type": "carpet"
           }
          ],
          "choropleth": [
           {
            "colorbar": {
             "outlinewidth": 0,
             "ticks": ""
            },
            "type": "choropleth"
           }
          ],
          "contour": [
           {
            "colorbar": {
             "outlinewidth": 0,
             "ticks": ""
            },
            "colorscale": [
             [
              0,
              "#0d0887"
             ],
             [
              0.1111111111111111,
              "#46039f"
             ],
             [
              0.2222222222222222,
              "#7201a8"
             ],
             [
              0.3333333333333333,
              "#9c179e"
             ],
             [
              0.4444444444444444,
              "#bd3786"
             ],
             [
              0.5555555555555556,
              "#d8576b"
             ],
             [
              0.6666666666666666,
              "#ed7953"
             ],
             [
              0.7777777777777778,
              "#fb9f3a"
             ],
             [
              0.8888888888888888,
              "#fdca26"
             ],
             [
              1,
              "#f0f921"
             ]
            ],
            "type": "contour"
           }
          ],
          "contourcarpet": [
           {
            "colorbar": {
             "outlinewidth": 0,
             "ticks": ""
            },
            "type": "contourcarpet"
           }
          ],
          "heatmap": [
           {
            "colorbar": {
             "outlinewidth": 0,
             "ticks": ""
            },
            "colorscale": [
             [
              0,
              "#0d0887"
             ],
             [
              0.1111111111111111,
              "#46039f"
             ],
             [
              0.2222222222222222,
              "#7201a8"
             ],
             [
              0.3333333333333333,
              "#9c179e"
             ],
             [
              0.4444444444444444,
              "#bd3786"
             ],
             [
              0.5555555555555556,
              "#d8576b"
             ],
             [
              0.6666666666666666,
              "#ed7953"
             ],
             [
              0.7777777777777778,
              "#fb9f3a"
             ],
             [
              0.8888888888888888,
              "#fdca26"
             ],
             [
              1,
              "#f0f921"
             ]
            ],
            "type": "heatmap"
           }
          ],
          "histogram": [
           {
            "marker": {
             "pattern": {
              "fillmode": "overlay",
              "size": 10,
              "solidity": 0.2
             }
            },
            "type": "histogram"
           }
          ],
          "histogram2d": [
           {
            "colorbar": {
             "outlinewidth": 0,
             "ticks": ""
            },
            "colorscale": [
             [
              0,
              "#0d0887"
             ],
             [
              0.1111111111111111,
              "#46039f"
             ],
             [
              0.2222222222222222,
              "#7201a8"
             ],
             [
              0.3333333333333333,
              "#9c179e"
             ],
             [
              0.4444444444444444,
              "#bd3786"
             ],
             [
              0.5555555555555556,
              "#d8576b"
             ],
             [
              0.6666666666666666,
              "#ed7953"
             ],
             [
              0.7777777777777778,
              "#fb9f3a"
             ],
             [
              0.8888888888888888,
              "#fdca26"
             ],
             [
              1,
              "#f0f921"
             ]
            ],
            "type": "histogram2d"
           }
          ],
          "histogram2dcontour": [
           {
            "colorbar": {
             "outlinewidth": 0,
             "ticks": ""
            },
            "colorscale": [
             [
              0,
              "#0d0887"
             ],
             [
              0.1111111111111111,
              "#46039f"
             ],
             [
              0.2222222222222222,
              "#7201a8"
             ],
             [
              0.3333333333333333,
              "#9c179e"
             ],
             [
              0.4444444444444444,
              "#bd3786"
             ],
             [
              0.5555555555555556,
              "#d8576b"
             ],
             [
              0.6666666666666666,
              "#ed7953"
             ],
             [
              0.7777777777777778,
              "#fb9f3a"
             ],
             [
              0.8888888888888888,
              "#fdca26"
             ],
             [
              1,
              "#f0f921"
             ]
            ],
            "type": "histogram2dcontour"
           }
          ],
          "mesh3d": [
           {
            "colorbar": {
             "outlinewidth": 0,
             "ticks": ""
            },
            "type": "mesh3d"
           }
          ],
          "parcoords": [
           {
            "line": {
             "colorbar": {
              "outlinewidth": 0,
              "ticks": ""
             }
            },
            "type": "parcoords"
           }
          ],
          "pie": [
           {
            "automargin": true,
            "type": "pie"
           }
          ],
          "scatter": [
           {
            "fillpattern": {
             "fillmode": "overlay",
             "size": 10,
             "solidity": 0.2
            },
            "type": "scatter"
           }
          ],
          "scatter3d": [
           {
            "line": {
             "colorbar": {
              "outlinewidth": 0,
              "ticks": ""
             }
            },
            "marker": {
             "colorbar": {
              "outlinewidth": 0,
              "ticks": ""
             }
            },
            "type": "scatter3d"
           }
          ],
          "scattercarpet": [
           {
            "marker": {
             "colorbar": {
              "outlinewidth": 0,
              "ticks": ""
             }
            },
            "type": "scattercarpet"
           }
          ],
          "scattergeo": [
           {
            "marker": {
             "colorbar": {
              "outlinewidth": 0,
              "ticks": ""
             }
            },
            "type": "scattergeo"
           }
          ],
          "scattergl": [
           {
            "marker": {
             "colorbar": {
              "outlinewidth": 0,
              "ticks": ""
             }
            },
            "type": "scattergl"
           }
          ],
          "scattermap": [
           {
            "marker": {
             "colorbar": {
              "outlinewidth": 0,
              "ticks": ""
             }
            },
            "type": "scattermap"
           }
          ],
          "scattermapbox": [
           {
            "marker": {
             "colorbar": {
              "outlinewidth": 0,
              "ticks": ""
             }
            },
            "type": "scattermapbox"
           }
          ],
          "scatterpolar": [
           {
            "marker": {
             "colorbar": {
              "outlinewidth": 0,
              "ticks": ""
             }
            },
            "type": "scatterpolar"
           }
          ],
          "scatterpolargl": [
           {
            "marker": {
             "colorbar": {
              "outlinewidth": 0,
              "ticks": ""
             }
            },
            "type": "scatterpolargl"
           }
          ],
          "scatterternary": [
           {
            "marker": {
             "colorbar": {
              "outlinewidth": 0,
              "ticks": ""
             }
            },
            "type": "scatterternary"
           }
          ],
          "surface": [
           {
            "colorbar": {
             "outlinewidth": 0,
             "ticks": ""
            },
            "colorscale": [
             [
              0,
              "#0d0887"
             ],
             [
              0.1111111111111111,
              "#46039f"
             ],
             [
              0.2222222222222222,
              "#7201a8"
             ],
             [
              0.3333333333333333,
              "#9c179e"
             ],
             [
              0.4444444444444444,
              "#bd3786"
             ],
             [
              0.5555555555555556,
              "#d8576b"
             ],
             [
              0.6666666666666666,
              "#ed7953"
             ],
             [
              0.7777777777777778,
              "#fb9f3a"
             ],
             [
              0.8888888888888888,
              "#fdca26"
             ],
             [
              1,
              "#f0f921"
             ]
            ],
            "type": "surface"
           }
          ],
          "table": [
           {
            "cells": {
             "fill": {
              "color": "#EBF0F8"
             },
             "line": {
              "color": "white"
             }
            },
            "header": {
             "fill": {
              "color": "#C8D4E3"
             },
             "line": {
              "color": "white"
             }
            },
            "type": "table"
           }
          ]
         },
         "layout": {
          "annotationdefaults": {
           "arrowcolor": "#2a3f5f",
           "arrowhead": 0,
           "arrowwidth": 1
          },
          "autotypenumbers": "strict",
          "coloraxis": {
           "colorbar": {
            "outlinewidth": 0,
            "ticks": ""
           }
          },
          "colorscale": {
           "diverging": [
            [
             0,
             "#8e0152"
            ],
            [
             0.1,
             "#c51b7d"
            ],
            [
             0.2,
             "#de77ae"
            ],
            [
             0.3,
             "#f1b6da"
            ],
            [
             0.4,
             "#fde0ef"
            ],
            [
             0.5,
             "#f7f7f7"
            ],
            [
             0.6,
             "#e6f5d0"
            ],
            [
             0.7,
             "#b8e186"
            ],
            [
             0.8,
             "#7fbc41"
            ],
            [
             0.9,
             "#4d9221"
            ],
            [
             1,
             "#276419"
            ]
           ],
           "sequential": [
            [
             0,
             "#0d0887"
            ],
            [
             0.1111111111111111,
             "#46039f"
            ],
            [
             0.2222222222222222,
             "#7201a8"
            ],
            [
             0.3333333333333333,
             "#9c179e"
            ],
            [
             0.4444444444444444,
             "#bd3786"
            ],
            [
             0.5555555555555556,
             "#d8576b"
            ],
            [
             0.6666666666666666,
             "#ed7953"
            ],
            [
             0.7777777777777778,
             "#fb9f3a"
            ],
            [
             0.8888888888888888,
             "#fdca26"
            ],
            [
             1,
             "#f0f921"
            ]
           ],
           "sequentialminus": [
            [
             0,
             "#0d0887"
            ],
            [
             0.1111111111111111,
             "#46039f"
            ],
            [
             0.2222222222222222,
             "#7201a8"
            ],
            [
             0.3333333333333333,
             "#9c179e"
            ],
            [
             0.4444444444444444,
             "#bd3786"
            ],
            [
             0.5555555555555556,
             "#d8576b"
            ],
            [
             0.6666666666666666,
             "#ed7953"
            ],
            [
             0.7777777777777778,
             "#fb9f3a"
            ],
            [
             0.8888888888888888,
             "#fdca26"
            ],
            [
             1,
             "#f0f921"
            ]
           ]
          },
          "colorway": [
           "#636efa",
           "#EF553B",
           "#00cc96",
           "#ab63fa",
           "#FFA15A",
           "#19d3f3",
           "#FF6692",
           "#B6E880",
           "#FF97FF",
           "#FECB52"
          ],
          "font": {
           "color": "#2a3f5f"
          },
          "geo": {
           "bgcolor": "white",
           "lakecolor": "white",
           "landcolor": "#E5ECF6",
           "showlakes": true,
           "showland": true,
           "subunitcolor": "white"
          },
          "hoverlabel": {
           "align": "left"
          },
          "hovermode": "closest",
          "mapbox": {
           "style": "light"
          },
          "paper_bgcolor": "white",
          "plot_bgcolor": "#E5ECF6",
          "polar": {
           "angularaxis": {
            "gridcolor": "white",
            "linecolor": "white",
            "ticks": ""
           },
           "bgcolor": "#E5ECF6",
           "radialaxis": {
            "gridcolor": "white",
            "linecolor": "white",
            "ticks": ""
           }
          },
          "scene": {
           "xaxis": {
            "backgroundcolor": "#E5ECF6",
            "gridcolor": "white",
            "gridwidth": 2,
            "linecolor": "white",
            "showbackground": true,
            "ticks": "",
            "zerolinecolor": "white"
           },
           "yaxis": {
            "backgroundcolor": "#E5ECF6",
            "gridcolor": "white",
            "gridwidth": 2,
            "linecolor": "white",
            "showbackground": true,
            "ticks": "",
            "zerolinecolor": "white"
           },
           "zaxis": {
            "backgroundcolor": "#E5ECF6",
            "gridcolor": "white",
            "gridwidth": 2,
            "linecolor": "white",
            "showbackground": true,
            "ticks": "",
            "zerolinecolor": "white"
           }
          },
          "shapedefaults": {
           "line": {
            "color": "#2a3f5f"
           }
          },
          "ternary": {
           "aaxis": {
            "gridcolor": "white",
            "linecolor": "white",
            "ticks": ""
           },
           "baxis": {
            "gridcolor": "white",
            "linecolor": "white",
            "ticks": ""
           },
           "bgcolor": "#E5ECF6",
           "caxis": {
            "gridcolor": "white",
            "linecolor": "white",
            "ticks": ""
           }
          },
          "title": {
           "x": 0.05
          },
          "xaxis": {
           "automargin": true,
           "gridcolor": "white",
           "linecolor": "white",
           "ticks": "",
           "title": {
            "standoff": 15
           },
           "zerolinecolor": "white",
           "zerolinewidth": 2
          },
          "yaxis": {
           "automargin": true,
           "gridcolor": "white",
           "linecolor": "white",
           "ticks": "",
           "title": {
            "standoff": 15
           },
           "zerolinecolor": "white",
           "zerolinewidth": 2
          }
         }
        },
        "title": {
         "text": "PETR4.SA Closing Prices"
        },
        "xaxis": {
         "anchor": "y",
         "domain": [
          0,
          1
         ],
         "title": {
          "text": "index"
         }
        },
        "yaxis": {
         "anchor": "x",
         "domain": [
          0,
          1
         ],
         "title": {
          "text": "value"
         }
        }
       }
      }
     },
     "metadata": {},
     "output_type": "display_data"
    }
   ],
   "source": [
    "px.line(vol_rsi, title=f\"{ticker} Closing Prices\").show(fig_type=\"png\")"
   ]
  },
  {
   "cell_type": "markdown",
   "id": "dea4f795",
   "metadata": {},
   "source": [
    "# Entropy Volatility"
   ]
  },
  {
   "cell_type": "code",
   "execution_count": 6,
   "id": "3a839c52",
   "metadata": {},
   "outputs": [],
   "source": [
    "vol_ent = trailing_window(r, rolling_window=60, func=sample_entropy, m=1)"
   ]
  },
  {
   "cell_type": "code",
   "execution_count": 7,
   "id": "3bc31ec1",
   "metadata": {},
   "outputs": [
    {
     "data": {
      "application/vnd.plotly.v1+json": {
       "config": {
        "plotlyServerURL": "https://plot.ly"
       },
       "data": [
        {
         "hovertemplate": "variable=0<br>index=%{x}<br>value=%{y}<extra></extra>",
         "legendgroup": "0",
         "line": {
          "color": "#636efa",
          "dash": "solid"
         },
         "marker": {
          "symbol": "circle"
         },
         "mode": "lines",
         "name": "0",
         "orientation": "v",
         "showlegend": true,
         "type": "scatter",
         "x": {
          "bdata": "AAABAAIAAwAEAAUABgAHAAgACQAKAAsADAANAA4ADwAQABEAEgATABQAFQAWABcAGAAZABoAGwAcAB0AHgAfACAAIQAiACMAJAAlACYAJwAoACkAKgArACwALQAuAC8AMAAxADIAMwA0ADUANgA3ADgAOQA6ADsAPAA9AD4APwBAAEEAQgBDAEQARQBGAEcASABJAEoASwBMAE0ATgBPAFAAUQBSAFMAVABVAFYAVwBYAFkAWgBbAFwAXQBeAF8AYABhAGIAYwBkAGUAZgBnAGgAaQBqAGsAbABtAG4AbwBwAHEAcgBzAHQAdQB2AHcAeAB5AHoAewB8AH0AfgB/AIAAgQCCAIMAhACFAIYAhwCIAIkAigCLAIwAjQCOAI8AkACRAJIAkwCUAJUAlgCXAJgAmQCaAJsAnACdAJ4AnwCgAKEAogCjAKQApQCmAKcAqACpAKoAqwCsAK0ArgCvALAAsQCyALMAtAC1ALYAtwC4ALkAugC7ALwAvQC+AL8AwADBAMIAwwDEAMUAxgDHAMgAyQDKAMsAzADNAM4AzwDQANEA0gDTANQA1QDWANcA2ADZANoA2wDcAN0A3gDfAOAA4QDiAOMA5ADlAOYA5wDoAOkA6gDrAOwA7QDuAO8A8ADxAPIA8wD0APUA9gD3APgA+QD6APsA/AD9AP4A/wAAAQEBAgEDAQQBBQEGAQcBCAEJAQoBCwEMAQ0BDgEPARABEQESARMBFAEVARYBFwEYARkBGgEbARwBHQEeAR8BIAEhASIBIwEkASUBJgEnASgBKQEqASsBLAEtAS4BLwEwATEBMgEzATQBNQE2ATcBOAE5AToBOwE8AT0BPgE/AUABQQFCAUMBRAFFAUYBRwFIAUkBSgFLAUwBTQFOAU8BUAFRAVIBUwFUAVUBVgFXAVgBWQFaAVsBXAFdAV4BXwFgAWEBYgFjAWQBZQFmAWcBaAFpAWoBawFsAW0BbgFvAXABcQFyAXMBdAF1AXYBdwF4AXkBegF7AXwBfQF+AX8BgAGBAYIBgwGEAYUBhgGHAYgBiQGKAYsBjAGNAY4BjwGQAZEBkgGTAZQBlQGWAZcBmAGZAZoBmwGcAZ0BngGfAaABoQGiAaMBpAGlAaYBpwGoAakBqgGrAawBrQGuAa8BsAGxAbIBswG0AbUBtgG3AbgBuQG6AbsBvAG9Ab4BvwHAAcEBwgHDAcQBxQHGAccByAHJAcoBywHMAc0BzgHPAdAB0QHSAdMB1AHVAdYB1wHYAdkB2gHbAdwB3QHeAd8B4AHhAeIB4wHkAeUB5gHnAegB6QHqAesB7AHtAe4B7wHwAfEB8gHzAQ==",
          "dtype": "i2"
         },
         "xaxis": "x",
         "y": {
          "bdata": "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",
          "dtype": "f8"
         },
         "yaxis": "y"
        }
       ],
       "layout": {
        "legend": {
         "title": {
          "text": "variable"
         },
         "tracegroupgap": 0
        },
        "template": {
         "data": {
          "bar": [
           {
            "error_x": {
             "color": "#2a3f5f"
            },
            "error_y": {
             "color": "#2a3f5f"
            },
            "marker": {
             "line": {
              "color": "#E5ECF6",
              "width": 0.5
             },
             "pattern": {
              "fillmode": "overlay",
              "size": 10,
              "solidity": 0.2
             }
            },
            "type": "bar"
           }
          ],
          "barpolar": [
           {
            "marker": {
             "line": {
              "color": "#E5ECF6",
              "width": 0.5
             },
             "pattern": {
              "fillmode": "overlay",
              "size": 10,
              "solidity": 0.2
             }
            },
            "type": "barpolar"
           }
          ],
          "carpet": [
           {
            "aaxis": {
             "endlinecolor": "#2a3f5f",
             "gridcolor": "white",
             "linecolor": "white",
             "minorgridcolor": "white",
             "startlinecolor": "#2a3f5f"
            },
            "baxis": {
             "endlinecolor": "#2a3f5f",
             "gridcolor": "white",
             "linecolor": "white",
             "minorgridcolor": "white",
             "startlinecolor": "#2a3f5f"
            },
            "type": "carpet"
           }
          ],
          "choropleth": [
           {
            "colorbar": {
             "outlinewidth": 0,
             "ticks": ""
            },
            "type": "choropleth"
           }
          ],
          "contour": [
           {
            "colorbar": {
             "outlinewidth": 0,
             "ticks": ""
            },
            "colorscale": [
             [
              0,
              "#0d0887"
             ],
             [
              0.1111111111111111,
              "#46039f"
             ],
             [
              0.2222222222222222,
              "#7201a8"
             ],
             [
              0.3333333333333333,
              "#9c179e"
             ],
             [
              0.4444444444444444,
              "#bd3786"
             ],
             [
              0.5555555555555556,
              "#d8576b"
             ],
             [
              0.6666666666666666,
              "#ed7953"
             ],
             [
              0.7777777777777778,
              "#fb9f3a"
             ],
             [
              0.8888888888888888,
              "#fdca26"
             ],
             [
              1,
              "#f0f921"
             ]
            ],
            "type": "contour"
           }
          ],
          "contourcarpet": [
           {
            "colorbar": {
             "outlinewidth": 0,
             "ticks": ""
            },
            "type": "contourcarpet"
           }
          ],
          "heatmap": [
           {
            "colorbar": {
             "outlinewidth": 0,
             "ticks": ""
            },
            "colorscale": [
             [
              0,
              "#0d0887"
             ],
             [
              0.1111111111111111,
              "#46039f"
             ],
             [
              0.2222222222222222,
              "#7201a8"
             ],
             [
              0.3333333333333333,
              "#9c179e"
             ],
             [
              0.4444444444444444,
              "#bd3786"
             ],
             [
              0.5555555555555556,
              "#d8576b"
             ],
             [
              0.6666666666666666,
              "#ed7953"
             ],
             [
              0.7777777777777778,
              "#fb9f3a"
             ],
             [
              0.8888888888888888,
              "#fdca26"
             ],
             [
              1,
              "#f0f921"
             ]
            ],
            "type": "heatmap"
           }
          ],
          "histogram": [
           {
            "marker": {
             "pattern": {
              "fillmode": "overlay",
              "size": 10,
              "solidity": 0.2
             }
            },
            "type": "histogram"
           }
          ],
          "histogram2d": [
           {
            "colorbar": {
             "outlinewidth": 0,
             "ticks": ""
            },
            "colorscale": [
             [
              0,
              "#0d0887"
             ],
             [
              0.1111111111111111,
              "#46039f"
             ],
             [
              0.2222222222222222,
              "#7201a8"
             ],
             [
              0.3333333333333333,
              "#9c179e"
             ],
             [
              0.4444444444444444,
              "#bd3786"
             ],
             [
              0.5555555555555556,
              "#d8576b"
             ],
             [
              0.6666666666666666,
              "#ed7953"
             ],
             [
              0.7777777777777778,
              "#fb9f3a"
             ],
             [
              0.8888888888888888,
              "#fdca26"
             ],
             [
              1,
              "#f0f921"
             ]
            ],
            "type": "histogram2d"
           }
          ],
          "histogram2dcontour": [
           {
            "colorbar": {
             "outlinewidth": 0,
             "ticks": ""
            },
            "colorscale": [
             [
              0,
              "#0d0887"
             ],
             [
              0.1111111111111111,
              "#46039f"
             ],
             [
              0.2222222222222222,
              "#7201a8"
             ],
             [
              0.3333333333333333,
              "#9c179e"
             ],
             [
              0.4444444444444444,
              "#bd3786"
             ],
             [
              0.5555555555555556,
              "#d8576b"
             ],
             [
              0.6666666666666666,
              "#ed7953"
             ],
             [
              0.7777777777777778,
              "#fb9f3a"
             ],
             [
              0.8888888888888888,
              "#fdca26"
             ],
             [
              1,
              "#f0f921"
             ]
            ],
            "type": "histogram2dcontour"
           }
          ],
          "mesh3d": [
           {
            "colorbar": {
             "outlinewidth": 0,
             "ticks": ""
            },
            "type": "mesh3d"
           }
          ],
          "parcoords": [
           {
            "line": {
             "colorbar": {
              "outlinewidth": 0,
              "ticks": ""
             }
            },
            "type": "parcoords"
           }
          ],
          "pie": [
           {
            "automargin": true,
            "type": "pie"
           }
          ],
          "scatter": [
           {
            "fillpattern": {
             "fillmode": "overlay",
             "size": 10,
             "solidity": 0.2
            },
            "type": "scatter"
           }
          ],
          "scatter3d": [
           {
            "line": {
             "colorbar": {
              "outlinewidth": 0,
              "ticks": ""
             }
            },
            "marker": {
             "colorbar": {
              "outlinewidth": 0,
              "ticks": ""
             }
            },
            "type": "scatter3d"
           }
          ],
          "scattercarpet": [
           {
            "marker": {
             "colorbar": {
              "outlinewidth": 0,
              "ticks": ""
             }
            },
            "type": "scattercarpet"
           }
          ],
          "scattergeo": [
           {
            "marker": {
             "colorbar": {
              "outlinewidth": 0,
              "ticks": ""
             }
            },
            "type": "scattergeo"
           }
          ],
          "scattergl": [
           {
            "marker": {
             "colorbar": {
              "outlinewidth": 0,
              "ticks": ""
             }
            },
            "type": "scattergl"
           }
          ],
          "scattermap": [
           {
            "marker": {
             "colorbar": {
              "outlinewidth": 0,
              "ticks": ""
             }
            },
            "type": "scattermap"
           }
          ],
          "scattermapbox": [
           {
            "marker": {
             "colorbar": {
              "outlinewidth": 0,
              "ticks": ""
             }
            },
            "type": "scattermapbox"
           }
          ],
          "scatterpolar": [
           {
            "marker": {
             "colorbar": {
              "outlinewidth": 0,
              "ticks": ""
             }
            },
            "type": "scatterpolar"
           }
          ],
          "scatterpolargl": [
           {
            "marker": {
             "colorbar": {
              "outlinewidth": 0,
              "ticks": ""
             }
            },
            "type": "scatterpolargl"
           }
          ],
          "scatterternary": [
           {
            "marker": {
             "colorbar": {
              "outlinewidth": 0,
              "ticks": ""
             }
            },
            "type": "scatterternary"
           }
          ],
          "surface": [
           {
            "colorbar": {
             "outlinewidth": 0,
             "ticks": ""
            },
            "colorscale": [
             [
              0,
              "#0d0887"
             ],
             [
              0.1111111111111111,
              "#46039f"
             ],
             [
              0.2222222222222222,
              "#7201a8"
             ],
             [
              0.3333333333333333,
              "#9c179e"
             ],
             [
              0.4444444444444444,
              "#bd3786"
             ],
             [
              0.5555555555555556,
              "#d8576b"
             ],
             [
              0.6666666666666666,
              "#ed7953"
             ],
             [
              0.7777777777777778,
              "#fb9f3a"
             ],
             [
              0.8888888888888888,
              "#fdca26"
             ],
             [
              1,
              "#f0f921"
             ]
            ],
            "type": "surface"
           }
          ],
          "table": [
           {
            "cells": {
             "fill": {
              "color": "#EBF0F8"
             },
             "line": {
              "color": "white"
             }
            },
            "header": {
             "fill": {
              "color": "#C8D4E3"
             },
             "line": {
              "color": "white"
             }
            },
            "type": "table"
           }
          ]
         },
         "layout": {
          "annotationdefaults": {
           "arrowcolor": "#2a3f5f",
           "arrowhead": 0,
           "arrowwidth": 1
          },
          "autotypenumbers": "strict",
          "coloraxis": {
           "colorbar": {
            "outlinewidth": 0,
            "ticks": ""
           }
          },
          "colorscale": {
           "diverging": [
            [
             0,
             "#8e0152"
            ],
            [
             0.1,
             "#c51b7d"
            ],
            [
             0.2,
             "#de77ae"
            ],
            [
             0.3,
             "#f1b6da"
            ],
            [
             0.4,
             "#fde0ef"
            ],
            [
             0.5,
             "#f7f7f7"
            ],
            [
             0.6,
             "#e6f5d0"
            ],
            [
             0.7,
             "#b8e186"
            ],
            [
             0.8,
             "#7fbc41"
            ],
            [
             0.9,
             "#4d9221"
            ],
            [
             1,
             "#276419"
            ]
           ],
           "sequential": [
            [
             0,
             "#0d0887"
            ],
            [
             0.1111111111111111,
             "#46039f"
            ],
            [
             0.2222222222222222,
             "#7201a8"
            ],
            [
             0.3333333333333333,
             "#9c179e"
            ],
            [
             0.4444444444444444,
             "#bd3786"
            ],
            [
             0.5555555555555556,
             "#d8576b"
            ],
            [
             0.6666666666666666,
             "#ed7953"
            ],
            [
             0.7777777777777778,
             "#fb9f3a"
            ],
            [
             0.8888888888888888,
             "#fdca26"
            ],
            [
             1,
             "#f0f921"
            ]
           ],
           "sequentialminus": [
            [
             0,
             "#0d0887"
            ],
            [
             0.1111111111111111,
             "#46039f"
            ],
            [
             0.2222222222222222,
             "#7201a8"
            ],
            [
             0.3333333333333333,
             "#9c179e"
            ],
            [
             0.4444444444444444,
             "#bd3786"
            ],
            [
             0.5555555555555556,
             "#d8576b"
            ],
            [
             0.6666666666666666,
             "#ed7953"
            ],
            [
             0.7777777777777778,
             "#fb9f3a"
            ],
            [
             0.8888888888888888,
             "#fdca26"
            ],
            [
             1,
             "#f0f921"
            ]
           ]
          },
          "colorway": [
           "#636efa",
           "#EF553B",
           "#00cc96",
           "#ab63fa",
           "#FFA15A",
           "#19d3f3",
           "#FF6692",
           "#B6E880",
           "#FF97FF",
           "#FECB52"
          ],
          "font": {
           "color": "#2a3f5f"
          },
          "geo": {
           "bgcolor": "white",
           "lakecolor": "white",
           "landcolor": "#E5ECF6",
           "showlakes": true,
           "showland": true,
           "subunitcolor": "white"
          },
          "hoverlabel": {
           "align": "left"
          },
          "hovermode": "closest",
          "mapbox": {
           "style": "light"
          },
          "paper_bgcolor": "white",
          "plot_bgcolor": "#E5ECF6",
          "polar": {
           "angularaxis": {
            "gridcolor": "white",
            "linecolor": "white",
            "ticks": ""
           },
           "bgcolor": "#E5ECF6",
           "radialaxis": {
            "gridcolor": "white",
            "linecolor": "white",
            "ticks": ""
           }
          },
          "scene": {
           "xaxis": {
            "backgroundcolor": "#E5ECF6",
            "gridcolor": "white",
            "gridwidth": 2,
            "linecolor": "white",
            "showbackground": true,
            "ticks": "",
            "zerolinecolor": "white"
           },
           "yaxis": {
            "backgroundcolor": "#E5ECF6",
            "gridcolor": "white",
            "gridwidth": 2,
            "linecolor": "white",
            "showbackground": true,
            "ticks": "",
            "zerolinecolor": "white"
           },
           "zaxis": {
            "backgroundcolor": "#E5ECF6",
            "gridcolor": "white",
            "gridwidth": 2,
            "linecolor": "white",
            "showbackground": true,
            "ticks": "",
            "zerolinecolor": "white"
           }
          },
          "shapedefaults": {
           "line": {
            "color": "#2a3f5f"
           }
          },
          "ternary": {
           "aaxis": {
            "gridcolor": "white",
            "linecolor": "white",
            "ticks": ""
           },
           "baxis": {
            "gridcolor": "white",
            "linecolor": "white",
            "ticks": ""
           },
           "bgcolor": "#E5ECF6",
           "caxis": {
            "gridcolor": "white",
            "linecolor": "white",
            "ticks": ""
           }
          },
          "title": {
           "x": 0.05
          },
          "xaxis": {
           "automargin": true,
           "gridcolor": "white",
           "linecolor": "white",
           "ticks": "",
           "title": {
            "standoff": 15
           },
           "zerolinecolor": "white",
           "zerolinewidth": 2
          },
          "yaxis": {
           "automargin": true,
           "gridcolor": "white",
           "linecolor": "white",
           "ticks": "",
           "title": {
            "standoff": 15
           },
           "zerolinecolor": "white",
           "zerolinewidth": 2
          }
         }
        },
        "title": {
         "text": "PETR4.SA Closing Prices"
        },
        "xaxis": {
         "anchor": "y",
         "domain": [
          0,
          1
         ],
         "title": {
          "text": "index"
         }
        },
        "yaxis": {
         "anchor": "x",
         "domain": [
          0,
          1
         ],
         "title": {
          "text": "value"
         }
        }
       }
      }
     },
     "metadata": {},
     "output_type": "display_data"
    }
   ],
   "source": [
    "px.line(vol_ent, title=f\"{ticker} Closing Prices\").show(fig_type=\"png\")"
   ]
  },
  {
   "cell_type": "code",
   "execution_count": 8,
   "id": "ac74a098",
   "metadata": {},
   "outputs": [
    {
     "data": {
      "application/vnd.plotly.v1+json": {
       "config": {
        "plotlyServerURL": "https://plot.ly"
       },
       "data": [
        {
         "name": "Preço PETR4.SA",
         "type": "scatter",
         "x": [
          "2023-10-03T00:00:00.000000000",
          "2023-10-04T00:00:00.000000000",
          "2023-10-05T00:00:00.000000000",
          "2023-10-06T00:00:00.000000000",
          "2023-10-09T00:00:00.000000000",
          "2023-10-10T00:00:00.000000000",
          "2023-10-11T00:00:00.000000000",
          "2023-10-13T00:00:00.000000000",
          "2023-10-16T00:00:00.000000000",
          "2023-10-17T00:00:00.000000000",
          "2023-10-18T00:00:00.000000000",
          "2023-10-19T00:00:00.000000000",
          "2023-10-20T00:00:00.000000000",
          "2023-10-23T00:00:00.000000000",
          "2023-10-24T00:00:00.000000000",
          "2023-10-25T00:00:00.000000000",
          "2023-10-26T00:00:00.000000000",
          "2023-10-27T00:00:00.000000000",
          "2023-10-30T00:00:00.000000000",
          "2023-10-31T00:00:00.000000000",
          "2023-11-01T00:00:00.000000000",
          "2023-11-03T00:00:00.000000000",
          "2023-11-06T00:00:00.000000000",
          "2023-11-07T00:00:00.000000000",
          "2023-11-08T00:00:00.000000000",
          "2023-11-09T00:00:00.000000000",
          "2023-11-10T00:00:00.000000000",
          "2023-11-13T00:00:00.000000000",
          "2023-11-14T00:00:00.000000000",
          "2023-11-16T00:00:00.000000000",
          "2023-11-17T00:00:00.000000000",
          "2023-11-20T00:00:00.000000000",
          "2023-11-21T00:00:00.000000000",
          "2023-11-22T00:00:00.000000000",
          "2023-11-23T00:00:00.000000000",
          "2023-11-24T00:00:00.000000000",
          "2023-11-27T00:00:00.000000000",
          "2023-11-28T00:00:00.000000000",
          "2023-11-29T00:00:00.000000000",
          "2023-11-30T00:00:00.000000000",
          "2023-12-01T00:00:00.000000000",
          "2023-12-04T00:00:00.000000000",
          "2023-12-05T00:00:00.000000000",
          "2023-12-06T00:00:00.000000000",
          "2023-12-07T00:00:00.000000000",
          "2023-12-08T00:00:00.000000000",
          "2023-12-11T00:00:00.000000000",
          "2023-12-12T00:00:00.000000000",
          "2023-12-13T00:00:00.000000000",
          "2023-12-14T00:00:00.000000000",
          "2023-12-15T00:00:00.000000000",
          "2023-12-18T00:00:00.000000000",
          "2023-12-19T00:00:00.000000000",
          "2023-12-20T00:00:00.000000000",
          "2023-12-21T00:00:00.000000000",
          "2023-12-22T00:00:00.000000000",
          "2023-12-26T00:00:00.000000000",
          "2023-12-27T00:00:00.000000000",
          "2023-12-28T00:00:00.000000000",
          "2024-01-02T00:00:00.000000000",
          "2024-01-03T00:00:00.000000000",
          "2024-01-04T00:00:00.000000000",
          "2024-01-05T00:00:00.000000000",
          "2024-01-08T00:00:00.000000000",
          "2024-01-09T00:00:00.000000000",
          "2024-01-10T00:00:00.000000000",
          "2024-01-11T00:00:00.000000000",
          "2024-01-12T00:00:00.000000000",
          "2024-01-15T00:00:00.000000000",
          "2024-01-16T00:00:00.000000000",
          "2024-01-17T00:00:00.000000000",
          "2024-01-18T00:00:00.000000000",
          "2024-01-19T00:00:00.000000000",
          "2024-01-22T00:00:00.000000000",
          "2024-01-23T00:00:00.000000000",
          "2024-01-24T00:00:00.000000000",
          "2024-01-25T00:00:00.000000000",
          "2024-01-26T00:00:00.000000000",
          "2024-01-29T00:00:00.000000000",
          "2024-01-30T00:00:00.000000000",
          "2024-01-31T00:00:00.000000000",
          "2024-02-01T00:00:00.000000000",
          "2024-02-02T00:00:00.000000000",
          "2024-02-05T00:00:00.000000000",
          "2024-02-06T00:00:00.000000000",
          "2024-02-07T00:00:00.000000000",
          "2024-02-08T00:00:00.000000000",
          "2024-02-09T00:00:00.000000000",
          "2024-02-14T00:00:00.000000000",
          "2024-02-15T00:00:00.000000000",
          "2024-02-16T00:00:00.000000000",
          "2024-02-19T00:00:00.000000000",
          "2024-02-20T00:00:00.000000000",
          "2024-02-21T00:00:00.000000000",
          "2024-02-22T00:00:00.000000000",
          "2024-02-23T00:00:00.000000000",
          "2024-02-26T00:00:00.000000000",
          "2024-02-27T00:00:00.000000000",
          "2024-02-28T00:00:00.000000000",
          "2024-02-29T00:00:00.000000000",
          "2024-03-01T00:00:00.000000000",
          "2024-03-04T00:00:00.000000000",
          "2024-03-05T00:00:00.000000000",
          "2024-03-06T00:00:00.000000000",
          "2024-03-07T00:00:00.000000000",
          "2024-03-08T00:00:00.000000000",
          "2024-03-11T00:00:00.000000000",
          "2024-03-12T00:00:00.000000000",
          "2024-03-13T00:00:00.000000000",
          "2024-03-14T00:00:00.000000000",
          "2024-03-15T00:00:00.000000000",
          "2024-03-18T00:00:00.000000000",
          "2024-03-19T00:00:00.000000000",
          "2024-03-20T00:00:00.000000000",
          "2024-03-21T00:00:00.000000000",
          "2024-03-22T00:00:00.000000000",
          "2024-03-25T00:00:00.000000000",
          "2024-03-26T00:00:00.000000000",
          "2024-03-27T00:00:00.000000000",
          "2024-03-28T00:00:00.000000000",
          "2024-04-01T00:00:00.000000000",
          "2024-04-02T00:00:00.000000000",
          "2024-04-03T00:00:00.000000000",
          "2024-04-04T00:00:00.000000000",
          "2024-04-05T00:00:00.000000000",
          "2024-04-08T00:00:00.000000000",
          "2024-04-09T00:00:00.000000000",
          "2024-04-10T00:00:00.000000000",
          "2024-04-11T00:00:00.000000000",
          "2024-04-12T00:00:00.000000000",
          "2024-04-15T00:00:00.000000000",
          "2024-04-16T00:00:00.000000000",
          "2024-04-17T00:00:00.000000000",
          "2024-04-18T00:00:00.000000000",
          "2024-04-19T00:00:00.000000000",
          "2024-04-22T00:00:00.000000000",
          "2024-04-23T00:00:00.000000000",
          "2024-04-24T00:00:00.000000000",
          "2024-04-25T00:00:00.000000000",
          "2024-04-26T00:00:00.000000000",
          "2024-04-29T00:00:00.000000000",
          "2024-04-30T00:00:00.000000000",
          "2024-05-02T00:00:00.000000000",
          "2024-05-03T00:00:00.000000000",
          "2024-05-06T00:00:00.000000000",
          "2024-05-07T00:00:00.000000000",
          "2024-05-08T00:00:00.000000000",
          "2024-05-09T00:00:00.000000000",
          "2024-05-10T00:00:00.000000000",
          "2024-05-13T00:00:00.000000000",
          "2024-05-14T00:00:00.000000000",
          "2024-05-15T00:00:00.000000000",
          "2024-05-16T00:00:00.000000000",
          "2024-05-17T00:00:00.000000000",
          "2024-05-20T00:00:00.000000000",
          "2024-05-21T00:00:00.000000000",
          "2024-05-22T00:00:00.000000000",
          "2024-05-23T00:00:00.000000000",
          "2024-05-24T00:00:00.000000000",
          "2024-05-27T00:00:00.000000000",
          "2024-05-28T00:00:00.000000000",
          "2024-05-29T00:00:00.000000000",
          "2024-05-31T00:00:00.000000000",
          "2024-06-03T00:00:00.000000000",
          "2024-06-04T00:00:00.000000000",
          "2024-06-05T00:00:00.000000000",
          "2024-06-06T00:00:00.000000000",
          "2024-06-07T00:00:00.000000000",
          "2024-06-10T00:00:00.000000000",
          "2024-06-11T00:00:00.000000000",
          "2024-06-12T00:00:00.000000000",
          "2024-06-13T00:00:00.000000000",
          "2024-06-14T00:00:00.000000000",
          "2024-06-17T00:00:00.000000000",
          "2024-06-18T00:00:00.000000000",
          "2024-06-19T00:00:00.000000000",
          "2024-06-20T00:00:00.000000000",
          "2024-06-21T00:00:00.000000000",
          "2024-06-24T00:00:00.000000000",
          "2024-06-25T00:00:00.000000000",
          "2024-06-26T00:00:00.000000000",
          "2024-06-27T00:00:00.000000000",
          "2024-06-28T00:00:00.000000000",
          "2024-07-01T00:00:00.000000000",
          "2024-07-02T00:00:00.000000000",
          "2024-07-03T00:00:00.000000000",
          "2024-07-04T00:00:00.000000000",
          "2024-07-05T00:00:00.000000000",
          "2024-07-08T00:00:00.000000000",
          "2024-07-09T00:00:00.000000000",
          "2024-07-10T00:00:00.000000000",
          "2024-07-11T00:00:00.000000000",
          "2024-07-12T00:00:00.000000000",
          "2024-07-15T00:00:00.000000000",
          "2024-07-16T00:00:00.000000000",
          "2024-07-17T00:00:00.000000000",
          "2024-07-18T00:00:00.000000000",
          "2024-07-19T00:00:00.000000000",
          "2024-07-22T00:00:00.000000000",
          "2024-07-23T00:00:00.000000000",
          "2024-07-24T00:00:00.000000000",
          "2024-07-25T00:00:00.000000000",
          "2024-07-26T00:00:00.000000000",
          "2024-07-29T00:00:00.000000000",
          "2024-07-30T00:00:00.000000000",
          "2024-07-31T00:00:00.000000000",
          "2024-08-01T00:00:00.000000000",
          "2024-08-02T00:00:00.000000000",
          "2024-08-05T00:00:00.000000000",
          "2024-08-06T00:00:00.000000000",
          "2024-08-07T00:00:00.000000000",
          "2024-08-08T00:00:00.000000000",
          "2024-08-09T00:00:00.000000000",
          "2024-08-12T00:00:00.000000000",
          "2024-08-13T00:00:00.000000000",
          "2024-08-14T00:00:00.000000000",
          "2024-08-15T00:00:00.000000000",
          "2024-08-16T00:00:00.000000000",
          "2024-08-19T00:00:00.000000000",
          "2024-08-20T00:00:00.000000000",
          "2024-08-21T00:00:00.000000000",
          "2024-08-22T00:00:00.000000000",
          "2024-08-23T00:00:00.000000000",
          "2024-08-26T00:00:00.000000000",
          "2024-08-27T00:00:00.000000000",
          "2024-08-28T00:00:00.000000000",
          "2024-08-29T00:00:00.000000000",
          "2024-08-30T00:00:00.000000000",
          "2024-09-02T00:00:00.000000000",
          "2024-09-03T00:00:00.000000000",
          "2024-09-04T00:00:00.000000000",
          "2024-09-05T00:00:00.000000000",
          "2024-09-06T00:00:00.000000000",
          "2024-09-09T00:00:00.000000000",
          "2024-09-10T00:00:00.000000000",
          "2024-09-11T00:00:00.000000000",
          "2024-09-12T00:00:00.000000000",
          "2024-09-13T00:00:00.000000000",
          "2024-09-16T00:00:00.000000000",
          "2024-09-17T00:00:00.000000000",
          "2024-09-18T00:00:00.000000000",
          "2024-09-19T00:00:00.000000000",
          "2024-09-20T00:00:00.000000000",
          "2024-09-23T00:00:00.000000000",
          "2024-09-24T00:00:00.000000000",
          "2024-09-25T00:00:00.000000000",
          "2024-09-26T00:00:00.000000000",
          "2024-09-27T00:00:00.000000000",
          "2024-09-30T00:00:00.000000000",
          "2024-10-01T00:00:00.000000000",
          "2024-10-02T00:00:00.000000000",
          "2024-10-03T00:00:00.000000000",
          "2024-10-04T00:00:00.000000000",
          "2024-10-07T00:00:00.000000000",
          "2024-10-08T00:00:00.000000000",
          "2024-10-09T00:00:00.000000000",
          "2024-10-10T00:00:00.000000000",
          "2024-10-11T00:00:00.000000000",
          "2024-10-14T00:00:00.000000000",
          "2024-10-15T00:00:00.000000000",
          "2024-10-16T00:00:00.000000000",
          "2024-10-17T00:00:00.000000000",
          "2024-10-18T00:00:00.000000000",
          "2024-10-21T00:00:00.000000000",
          "2024-10-22T00:00:00.000000000",
          "2024-10-23T00:00:00.000000000",
          "2024-10-24T00:00:00.000000000",
          "2024-10-25T00:00:00.000000000",
          "2024-10-28T00:00:00.000000000",
          "2024-10-29T00:00:00.000000000",
          "2024-10-30T00:00:00.000000000",
          "2024-10-31T00:00:00.000000000",
          "2024-11-01T00:00:00.000000000",
          "2024-11-04T00:00:00.000000000",
          "2024-11-05T00:00:00.000000000",
          "2024-11-06T00:00:00.000000000",
          "2024-11-07T00:00:00.000000000",
          "2024-11-08T00:00:00.000000000",
          "2024-11-11T00:00:00.000000000",
          "2024-11-12T00:00:00.000000000",
          "2024-11-13T00:00:00.000000000",
          "2024-11-14T00:00:00.000000000",
          "2024-11-18T00:00:00.000000000",
          "2024-11-19T00:00:00.000000000",
          "2024-11-21T00:00:00.000000000",
          "2024-11-22T00:00:00.000000000",
          "2024-11-25T00:00:00.000000000",
          "2024-11-26T00:00:00.000000000",
          "2024-11-27T00:00:00.000000000",
          "2024-11-28T00:00:00.000000000",
          "2024-11-29T00:00:00.000000000",
          "2024-12-02T00:00:00.000000000",
          "2024-12-03T00:00:00.000000000",
          "2024-12-04T00:00:00.000000000",
          "2024-12-05T00:00:00.000000000",
          "2024-12-06T00:00:00.000000000",
          "2024-12-09T00:00:00.000000000",
          "2024-12-10T00:00:00.000000000",
          "2024-12-11T00:00:00.000000000",
          "2024-12-12T00:00:00.000000000",
          "2024-12-13T00:00:00.000000000",
          "2024-12-16T00:00:00.000000000",
          "2024-12-17T00:00:00.000000000",
          "2024-12-18T00:00:00.000000000",
          "2024-12-19T00:00:00.000000000",
          "2024-12-20T00:00:00.000000000",
          "2024-12-23T00:00:00.000000000",
          "2024-12-26T00:00:00.000000000",
          "2024-12-27T00:00:00.000000000",
          "2024-12-30T00:00:00.000000000",
          "2025-01-02T00:00:00.000000000",
          "2025-01-03T00:00:00.000000000",
          "2025-01-06T00:00:00.000000000",
          "2025-01-07T00:00:00.000000000",
          "2025-01-08T00:00:00.000000000",
          "2025-01-09T00:00:00.000000000",
          "2025-01-10T00:00:00.000000000",
          "2025-01-13T00:00:00.000000000",
          "2025-01-14T00:00:00.000000000",
          "2025-01-15T00:00:00.000000000",
          "2025-01-16T00:00:00.000000000",
          "2025-01-17T00:00:00.000000000",
          "2025-01-20T00:00:00.000000000",
          "2025-01-21T00:00:00.000000000",
          "2025-01-22T00:00:00.000000000",
          "2025-01-23T00:00:00.000000000",
          "2025-01-24T00:00:00.000000000",
          "2025-01-27T00:00:00.000000000",
          "2025-01-28T00:00:00.000000000",
          "2025-01-29T00:00:00.000000000",
          "2025-01-30T00:00:00.000000000",
          "2025-01-31T00:00:00.000000000",
          "2025-02-03T00:00:00.000000000",
          "2025-02-04T00:00:00.000000000",
          "2025-02-05T00:00:00.000000000",
          "2025-02-06T00:00:00.000000000",
          "2025-02-07T00:00:00.000000000",
          "2025-02-10T00:00:00.000000000",
          "2025-02-11T00:00:00.000000000",
          "2025-02-12T00:00:00.000000000",
          "2025-02-13T00:00:00.000000000",
          "2025-02-14T00:00:00.000000000",
          "2025-02-17T00:00:00.000000000",
          "2025-02-18T00:00:00.000000000",
          "2025-02-19T00:00:00.000000000",
          "2025-02-20T00:00:00.000000000",
          "2025-02-21T00:00:00.000000000",
          "2025-02-24T00:00:00.000000000",
          "2025-02-25T00:00:00.000000000",
          "2025-02-26T00:00:00.000000000",
          "2025-02-27T00:00:00.000000000",
          "2025-02-28T00:00:00.000000000",
          "2025-03-05T00:00:00.000000000",
          "2025-03-06T00:00:00.000000000",
          "2025-03-07T00:00:00.000000000",
          "2025-03-10T00:00:00.000000000",
          "2025-03-11T00:00:00.000000000",
          "2025-03-12T00:00:00.000000000",
          "2025-03-13T00:00:00.000000000",
          "2025-03-14T00:00:00.000000000",
          "2025-03-17T00:00:00.000000000",
          "2025-03-18T00:00:00.000000000",
          "2025-03-19T00:00:00.000000000",
          "2025-03-20T00:00:00.000000000",
          "2025-03-21T00:00:00.000000000",
          "2025-03-24T00:00:00.000000000",
          "2025-03-25T00:00:00.000000000",
          "2025-03-26T00:00:00.000000000",
          "2025-03-27T00:00:00.000000000",
          "2025-03-28T00:00:00.000000000",
          "2025-03-31T00:00:00.000000000",
          "2025-04-01T00:00:00.000000000",
          "2025-04-02T00:00:00.000000000",
          "2025-04-03T00:00:00.000000000",
          "2025-04-04T00:00:00.000000000",
          "2025-04-07T00:00:00.000000000",
          "2025-04-08T00:00:00.000000000",
          "2025-04-09T00:00:00.000000000",
          "2025-04-10T00:00:00.000000000",
          "2025-04-11T00:00:00.000000000",
          "2025-04-14T00:00:00.000000000",
          "2025-04-15T00:00:00.000000000",
          "2025-04-16T00:00:00.000000000",
          "2025-04-17T00:00:00.000000000",
          "2025-04-22T00:00:00.000000000",
          "2025-04-23T00:00:00.000000000",
          "2025-04-24T00:00:00.000000000",
          "2025-04-25T00:00:00.000000000",
          "2025-04-28T00:00:00.000000000",
          "2025-04-29T00:00:00.000000000",
          "2025-04-30T00:00:00.000000000",
          "2025-05-02T00:00:00.000000000",
          "2025-05-05T00:00:00.000000000",
          "2025-05-06T00:00:00.000000000",
          "2025-05-07T00:00:00.000000000",
          "2025-05-08T00:00:00.000000000",
          "2025-05-09T00:00:00.000000000",
          "2025-05-12T00:00:00.000000000",
          "2025-05-13T00:00:00.000000000",
          "2025-05-14T00:00:00.000000000",
          "2025-05-15T00:00:00.000000000",
          "2025-05-16T00:00:00.000000000",
          "2025-05-19T00:00:00.000000000",
          "2025-05-20T00:00:00.000000000",
          "2025-05-21T00:00:00.000000000",
          "2025-05-22T00:00:00.000000000",
          "2025-05-23T00:00:00.000000000",
          "2025-05-26T00:00:00.000000000",
          "2025-05-27T00:00:00.000000000",
          "2025-05-28T00:00:00.000000000",
          "2025-05-29T00:00:00.000000000",
          "2025-05-30T00:00:00.000000000",
          "2025-06-02T00:00:00.000000000",
          "2025-06-03T00:00:00.000000000",
          "2025-06-04T00:00:00.000000000",
          "2025-06-05T00:00:00.000000000",
          "2025-06-06T00:00:00.000000000",
          "2025-06-09T00:00:00.000000000",
          "2025-06-10T00:00:00.000000000",
          "2025-06-11T00:00:00.000000000",
          "2025-06-12T00:00:00.000000000",
          "2025-06-13T00:00:00.000000000",
          "2025-06-16T00:00:00.000000000",
          "2025-06-17T00:00:00.000000000",
          "2025-06-18T00:00:00.000000000",
          "2025-06-20T00:00:00.000000000",
          "2025-06-23T00:00:00.000000000",
          "2025-06-24T00:00:00.000000000",
          "2025-06-25T00:00:00.000000000",
          "2025-06-26T00:00:00.000000000",
          "2025-06-27T00:00:00.000000000",
          "2025-06-30T00:00:00.000000000",
          "2025-07-01T00:00:00.000000000",
          "2025-07-02T00:00:00.000000000",
          "2025-07-03T00:00:00.000000000",
          "2025-07-04T00:00:00.000000000",
          "2025-07-07T00:00:00.000000000",
          "2025-07-08T00:00:00.000000000",
          "2025-07-09T00:00:00.000000000",
          "2025-07-10T00:00:00.000000000",
          "2025-07-11T00:00:00.000000000",
          "2025-07-14T00:00:00.000000000",
          "2025-07-15T00:00:00.000000000",
          "2025-07-16T00:00:00.000000000",
          "2025-07-17T00:00:00.000000000",
          "2025-07-18T00:00:00.000000000",
          "2025-07-21T00:00:00.000000000",
          "2025-07-22T00:00:00.000000000",
          "2025-07-23T00:00:00.000000000",
          "2025-07-24T00:00:00.000000000",
          "2025-07-25T00:00:00.000000000",
          "2025-07-28T00:00:00.000000000",
          "2025-07-29T00:00:00.000000000",
          "2025-07-30T00:00:00.000000000",
          "2025-07-31T00:00:00.000000000",
          "2025-08-01T00:00:00.000000000",
          "2025-08-04T00:00:00.000000000",
          "2025-08-05T00:00:00.000000000",
          "2025-08-06T00:00:00.000000000",
          "2025-08-07T00:00:00.000000000",
          "2025-08-08T00:00:00.000000000",
          "2025-08-11T00:00:00.000000000",
          "2025-08-12T00:00:00.000000000",
          "2025-08-13T00:00:00.000000000",
          "2025-08-14T00:00:00.000000000",
          "2025-08-15T00:00:00.000000000",
          "2025-08-18T00:00:00.000000000",
          "2025-08-19T00:00:00.000000000",
          "2025-08-20T00:00:00.000000000",
          "2025-08-21T00:00:00.000000000",
          "2025-08-22T00:00:00.000000000",
          "2025-08-25T00:00:00.000000000",
          "2025-08-26T00:00:00.000000000",
          "2025-08-27T00:00:00.000000000",
          "2025-08-28T00:00:00.000000000",
          "2025-08-29T00:00:00.000000000",
          "2025-09-01T00:00:00.000000000",
          "2025-09-02T00:00:00.000000000",
          "2025-09-03T00:00:00.000000000",
          "2025-09-04T00:00:00.000000000",
          "2025-09-05T00:00:00.000000000",
          "2025-09-08T00:00:00.000000000",
          "2025-09-09T00:00:00.000000000",
          "2025-09-10T00:00:00.000000000",
          "2025-09-11T00:00:00.000000000",
          "2025-09-12T00:00:00.000000000",
          "2025-09-15T00:00:00.000000000",
          "2025-09-16T00:00:00.000000000",
          "2025-09-17T00:00:00.000000000",
          "2025-09-18T00:00:00.000000000",
          "2025-09-19T00:00:00.000000000",
          "2025-09-22T00:00:00.000000000",
          "2025-09-23T00:00:00.000000000",
          "2025-09-24T00:00:00.000000000",
          "2025-09-25T00:00:00.000000000",
          "2025-09-26T00:00:00.000000000",
          "2025-09-29T00:00:00.000000000",
          "2025-09-30T00:00:00.000000000",
          "2025-10-01T00:00:00.000000000",
          "2025-10-02T00:00:00.000000000",
          "2025-10-03T00:00:00.000000000"
         ],
         "y": {
          "bdata": "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",
          "dtype": "f8"
         },
         "yaxis": "y"
        },
        {
         "name": "Volatility Entropy",
         "type": "scatter",
         "x": [
          "2023-10-03T00:00:00.000000000",
          "2023-10-04T00:00:00.000000000",
          "2023-10-05T00:00:00.000000000",
          "2023-10-06T00:00:00.000000000",
          "2023-10-09T00:00:00.000000000",
          "2023-10-10T00:00:00.000000000",
          "2023-10-11T00:00:00.000000000",
          "2023-10-13T00:00:00.000000000",
          "2023-10-16T00:00:00.000000000",
          "2023-10-17T00:00:00.000000000",
          "2023-10-18T00:00:00.000000000",
          "2023-10-19T00:00:00.000000000",
          "2023-10-20T00:00:00.000000000",
          "2023-10-23T00:00:00.000000000",
          "2023-10-24T00:00:00.000000000",
          "2023-10-25T00:00:00.000000000",
          "2023-10-26T00:00:00.000000000",
          "2023-10-27T00:00:00.000000000",
          "2023-10-30T00:00:00.000000000",
          "2023-10-31T00:00:00.000000000",
          "2023-11-01T00:00:00.000000000",
          "2023-11-03T00:00:00.000000000",
          "2023-11-06T00:00:00.000000000",
          "2023-11-07T00:00:00.000000000",
          "2023-11-08T00:00:00.000000000",
          "2023-11-09T00:00:00.000000000",
          "2023-11-10T00:00:00.000000000",
          "2023-11-13T00:00:00.000000000",
          "2023-11-14T00:00:00.000000000",
          "2023-11-16T00:00:00.000000000",
          "2023-11-17T00:00:00.000000000",
          "2023-11-20T00:00:00.000000000",
          "2023-11-21T00:00:00.000000000",
          "2023-11-22T00:00:00.000000000",
          "2023-11-23T00:00:00.000000000",
          "2023-11-24T00:00:00.000000000",
          "2023-11-27T00:00:00.000000000",
          "2023-11-28T00:00:00.000000000",
          "2023-11-29T00:00:00.000000000",
          "2023-11-30T00:00:00.000000000",
          "2023-12-01T00:00:00.000000000",
          "2023-12-04T00:00:00.000000000",
          "2023-12-05T00:00:00.000000000",
          "2023-12-06T00:00:00.000000000",
          "2023-12-07T00:00:00.000000000",
          "2023-12-08T00:00:00.000000000",
          "2023-12-11T00:00:00.000000000",
          "2023-12-12T00:00:00.000000000",
          "2023-12-13T00:00:00.000000000",
          "2023-12-14T00:00:00.000000000",
          "2023-12-15T00:00:00.000000000",
          "2023-12-18T00:00:00.000000000",
          "2023-12-19T00:00:00.000000000",
          "2023-12-20T00:00:00.000000000",
          "2023-12-21T00:00:00.000000000",
          "2023-12-22T00:00:00.000000000",
          "2023-12-26T00:00:00.000000000",
          "2023-12-27T00:00:00.000000000",
          "2023-12-28T00:00:00.000000000",
          "2024-01-02T00:00:00.000000000",
          "2024-01-03T00:00:00.000000000",
          "2024-01-04T00:00:00.000000000",
          "2024-01-05T00:00:00.000000000",
          "2024-01-08T00:00:00.000000000",
          "2024-01-09T00:00:00.000000000",
          "2024-01-10T00:00:00.000000000",
          "2024-01-11T00:00:00.000000000",
          "2024-01-12T00:00:00.000000000",
          "2024-01-15T00:00:00.000000000",
          "2024-01-16T00:00:00.000000000",
          "2024-01-17T00:00:00.000000000",
          "2024-01-18T00:00:00.000000000",
          "2024-01-19T00:00:00.000000000",
          "2024-01-22T00:00:00.000000000",
          "2024-01-23T00:00:00.000000000",
          "2024-01-24T00:00:00.000000000",
          "2024-01-25T00:00:00.000000000",
          "2024-01-26T00:00:00.000000000",
          "2024-01-29T00:00:00.000000000",
          "2024-01-30T00:00:00.000000000",
          "2024-01-31T00:00:00.000000000",
          "2024-02-01T00:00:00.000000000",
          "2024-02-02T00:00:00.000000000",
          "2024-02-05T00:00:00.000000000",
          "2024-02-06T00:00:00.000000000",
          "2024-02-07T00:00:00.000000000",
          "2024-02-08T00:00:00.000000000",
          "2024-02-09T00:00:00.000000000",
          "2024-02-14T00:00:00.000000000",
          "2024-02-15T00:00:00.000000000",
          "2024-02-16T00:00:00.000000000",
          "2024-02-19T00:00:00.000000000",
          "2024-02-20T00:00:00.000000000",
          "2024-02-21T00:00:00.000000000",
          "2024-02-22T00:00:00.000000000",
          "2024-02-23T00:00:00.000000000",
          "2024-02-26T00:00:00.000000000",
          "2024-02-27T00:00:00.000000000",
          "2024-02-28T00:00:00.000000000",
          "2024-02-29T00:00:00.000000000",
          "2024-03-01T00:00:00.000000000",
          "2024-03-04T00:00:00.000000000",
          "2024-03-05T00:00:00.000000000",
          "2024-03-06T00:00:00.000000000",
          "2024-03-07T00:00:00.000000000",
          "2024-03-08T00:00:00.000000000",
          "2024-03-11T00:00:00.000000000",
          "2024-03-12T00:00:00.000000000",
          "2024-03-13T00:00:00.000000000",
          "2024-03-14T00:00:00.000000000",
          "2024-03-15T00:00:00.000000000",
          "2024-03-18T00:00:00.000000000",
          "2024-03-19T00:00:00.000000000",
          "2024-03-20T00:00:00.000000000",
          "2024-03-21T00:00:00.000000000",
          "2024-03-22T00:00:00.000000000",
          "2024-03-25T00:00:00.000000000",
          "2024-03-26T00:00:00.000000000",
          "2024-03-27T00:00:00.000000000",
          "2024-03-28T00:00:00.000000000",
          "2024-04-01T00:00:00.000000000",
          "2024-04-02T00:00:00.000000000",
          "2024-04-03T00:00:00.000000000",
          "2024-04-04T00:00:00.000000000",
          "2024-04-05T00:00:00.000000000",
          "2024-04-08T00:00:00.000000000",
          "2024-04-09T00:00:00.000000000",
          "2024-04-10T00:00:00.000000000",
          "2024-04-11T00:00:00.000000000",
          "2024-04-12T00:00:00.000000000",
          "2024-04-15T00:00:00.000000000",
          "2024-04-16T00:00:00.000000000",
          "2024-04-17T00:00:00.000000000",
          "2024-04-18T00:00:00.000000000",
          "2024-04-19T00:00:00.000000000",
          "2024-04-22T00:00:00.000000000",
          "2024-04-23T00:00:00.000000000",
          "2024-04-24T00:00:00.000000000",
          "2024-04-25T00:00:00.000000000",
          "2024-04-26T00:00:00.000000000",
          "2024-04-29T00:00:00.000000000",
          "2024-04-30T00:00:00.000000000",
          "2024-05-02T00:00:00.000000000",
          "2024-05-03T00:00:00.000000000",
          "2024-05-06T00:00:00.000000000",
          "2024-05-07T00:00:00.000000000",
          "2024-05-08T00:00:00.000000000",
          "2024-05-09T00:00:00.000000000",
          "2024-05-10T00:00:00.000000000",
          "2024-05-13T00:00:00.000000000",
          "2024-05-14T00:00:00.000000000",
          "2024-05-15T00:00:00.000000000",
          "2024-05-16T00:00:00.000000000",
          "2024-05-17T00:00:00.000000000",
          "2024-05-20T00:00:00.000000000",
          "2024-05-21T00:00:00.000000000",
          "2024-05-22T00:00:00.000000000",
          "2024-05-23T00:00:00.000000000",
          "2024-05-24T00:00:00.000000000",
          "2024-05-27T00:00:00.000000000",
          "2024-05-28T00:00:00.000000000",
          "2024-05-29T00:00:00.000000000",
          "2024-05-31T00:00:00.000000000",
          "2024-06-03T00:00:00.000000000",
          "2024-06-04T00:00:00.000000000",
          "2024-06-05T00:00:00.000000000",
          "2024-06-06T00:00:00.000000000",
          "2024-06-07T00:00:00.000000000",
          "2024-06-10T00:00:00.000000000",
          "2024-06-11T00:00:00.000000000",
          "2024-06-12T00:00:00.000000000",
          "2024-06-13T00:00:00.000000000",
          "2024-06-14T00:00:00.000000000",
          "2024-06-17T00:00:00.000000000",
          "2024-06-18T00:00:00.000000000",
          "2024-06-19T00:00:00.000000000",
          "2024-06-20T00:00:00.000000000",
          "2024-06-21T00:00:00.000000000",
          "2024-06-24T00:00:00.000000000",
          "2024-06-25T00:00:00.000000000",
          "2024-06-26T00:00:00.000000000",
          "2024-06-27T00:00:00.000000000",
          "2024-06-28T00:00:00.000000000",
          "2024-07-01T00:00:00.000000000",
          "2024-07-02T00:00:00.000000000",
          "2024-07-03T00:00:00.000000000",
          "2024-07-04T00:00:00.000000000",
          "2024-07-05T00:00:00.000000000",
          "2024-07-08T00:00:00.000000000",
          "2024-07-09T00:00:00.000000000",
          "2024-07-10T00:00:00.000000000",
          "2024-07-11T00:00:00.000000000",
          "2024-07-12T00:00:00.000000000",
          "2024-07-15T00:00:00.000000000",
          "2024-07-16T00:00:00.000000000",
          "2024-07-17T00:00:00.000000000",
          "2024-07-18T00:00:00.000000000",
          "2024-07-19T00:00:00.000000000",
          "2024-07-22T00:00:00.000000000",
          "2024-07-23T00:00:00.000000000",
          "2024-07-24T00:00:00.000000000",
          "2024-07-25T00:00:00.000000000",
          "2024-07-26T00:00:00.000000000",
          "2024-07-29T00:00:00.000000000",
          "2024-07-30T00:00:00.000000000",
          "2024-07-31T00:00:00.000000000",
          "2024-08-01T00:00:00.000000000",
          "2024-08-02T00:00:00.000000000",
          "2024-08-05T00:00:00.000000000",
          "2024-08-06T00:00:00.000000000",
          "2024-08-07T00:00:00.000000000",
          "2024-08-08T00:00:00.000000000",
          "2024-08-09T00:00:00.000000000",
          "2024-08-12T00:00:00.000000000",
          "2024-08-13T00:00:00.000000000",
          "2024-08-14T00:00:00.000000000",
          "2024-08-15T00:00:00.000000000",
          "2024-08-16T00:00:00.000000000",
          "2024-08-19T00:00:00.000000000",
          "2024-08-20T00:00:00.000000000",
          "2024-08-21T00:00:00.000000000",
          "2024-08-22T00:00:00.000000000",
          "2024-08-23T00:00:00.000000000",
          "2024-08-26T00:00:00.000000000",
          "2024-08-27T00:00:00.000000000",
          "2024-08-28T00:00:00.000000000",
          "2024-08-29T00:00:00.000000000",
          "2024-08-30T00:00:00.000000000",
          "2024-09-02T00:00:00.000000000",
          "2024-09-03T00:00:00.000000000",
          "2024-09-04T00:00:00.000000000",
          "2024-09-05T00:00:00.000000000",
          "2024-09-06T00:00:00.000000000",
          "2024-09-09T00:00:00.000000000",
          "2024-09-10T00:00:00.000000000",
          "2024-09-11T00:00:00.000000000",
          "2024-09-12T00:00:00.000000000",
          "2024-09-13T00:00:00.000000000",
          "2024-09-16T00:00:00.000000000",
          "2024-09-17T00:00:00.000000000",
          "2024-09-18T00:00:00.000000000",
          "2024-09-19T00:00:00.000000000",
          "2024-09-20T00:00:00.000000000",
          "2024-09-23T00:00:00.000000000",
          "2024-09-24T00:00:00.000000000",
          "2024-09-25T00:00:00.000000000",
          "2024-09-26T00:00:00.000000000",
          "2024-09-27T00:00:00.000000000",
          "2024-09-30T00:00:00.000000000",
          "2024-10-01T00:00:00.000000000",
          "2024-10-02T00:00:00.000000000",
          "2024-10-03T00:00:00.000000000",
          "2024-10-04T00:00:00.000000000",
          "2024-10-07T00:00:00.000000000",
          "2024-10-08T00:00:00.000000000",
          "2024-10-09T00:00:00.000000000",
          "2024-10-10T00:00:00.000000000",
          "2024-10-11T00:00:00.000000000",
          "2024-10-14T00:00:00.000000000",
          "2024-10-15T00:00:00.000000000",
          "2024-10-16T00:00:00.000000000",
          "2024-10-17T00:00:00.000000000",
          "2024-10-18T00:00:00.000000000",
          "2024-10-21T00:00:00.000000000",
          "2024-10-22T00:00:00.000000000",
          "2024-10-23T00:00:00.000000000",
          "2024-10-24T00:00:00.000000000",
          "2024-10-25T00:00:00.000000000",
          "2024-10-28T00:00:00.000000000",
          "2024-10-29T00:00:00.000000000",
          "2024-10-30T00:00:00.000000000",
          "2024-10-31T00:00:00.000000000",
          "2024-11-01T00:00:00.000000000",
          "2024-11-04T00:00:00.000000000",
          "2024-11-05T00:00:00.000000000",
          "2024-11-06T00:00:00.000000000",
          "2024-11-07T00:00:00.000000000",
          "2024-11-08T00:00:00.000000000",
          "2024-11-11T00:00:00.000000000",
          "2024-11-12T00:00:00.000000000",
          "2024-11-13T00:00:00.000000000",
          "2024-11-14T00:00:00.000000000",
          "2024-11-18T00:00:00.000000000",
          "2024-11-19T00:00:00.000000000",
          "2024-11-21T00:00:00.000000000",
          "2024-11-22T00:00:00.000000000",
          "2024-11-25T00:00:00.000000000",
          "2024-11-26T00:00:00.000000000",
          "2024-11-27T00:00:00.000000000",
          "2024-11-28T00:00:00.000000000",
          "2024-11-29T00:00:00.000000000",
          "2024-12-02T00:00:00.000000000",
          "2024-12-03T00:00:00.000000000",
          "2024-12-04T00:00:00.000000000",
          "2024-12-05T00:00:00.000000000",
          "2024-12-06T00:00:00.000000000",
          "2024-12-09T00:00:00.000000000",
          "2024-12-10T00:00:00.000000000",
          "2024-12-11T00:00:00.000000000",
          "2024-12-12T00:00:00.000000000",
          "2024-12-13T00:00:00.000000000",
          "2024-12-16T00:00:00.000000000",
          "2024-12-17T00:00:00.000000000",
          "2024-12-18T00:00:00.000000000",
          "2024-12-19T00:00:00.000000000",
          "2024-12-20T00:00:00.000000000",
          "2024-12-23T00:00:00.000000000",
          "2024-12-26T00:00:00.000000000",
          "2024-12-27T00:00:00.000000000",
          "2024-12-30T00:00:00.000000000",
          "2025-01-02T00:00:00.000000000",
          "2025-01-03T00:00:00.000000000",
          "2025-01-06T00:00:00.000000000",
          "2025-01-07T00:00:00.000000000",
          "2025-01-08T00:00:00.000000000",
          "2025-01-09T00:00:00.000000000",
          "2025-01-10T00:00:00.000000000",
          "2025-01-13T00:00:00.000000000",
          "2025-01-14T00:00:00.000000000",
          "2025-01-15T00:00:00.000000000",
          "2025-01-16T00:00:00.000000000",
          "2025-01-17T00:00:00.000000000",
          "2025-01-20T00:00:00.000000000",
          "2025-01-21T00:00:00.000000000",
          "2025-01-22T00:00:00.000000000",
          "2025-01-23T00:00:00.000000000",
          "2025-01-24T00:00:00.000000000",
          "2025-01-27T00:00:00.000000000",
          "2025-01-28T00:00:00.000000000",
          "2025-01-29T00:00:00.000000000",
          "2025-01-30T00:00:00.000000000",
          "2025-01-31T00:00:00.000000000",
          "2025-02-03T00:00:00.000000000",
          "2025-02-04T00:00:00.000000000",
          "2025-02-05T00:00:00.000000000",
          "2025-02-06T00:00:00.000000000",
          "2025-02-07T00:00:00.000000000",
          "2025-02-10T00:00:00.000000000",
          "2025-02-11T00:00:00.000000000",
          "2025-02-12T00:00:00.000000000",
          "2025-02-13T00:00:00.000000000",
          "2025-02-14T00:00:00.000000000",
          "2025-02-17T00:00:00.000000000",
          "2025-02-18T00:00:00.000000000",
          "2025-02-19T00:00:00.000000000",
          "2025-02-20T00:00:00.000000000",
          "2025-02-21T00:00:00.000000000",
          "2025-02-24T00:00:00.000000000",
          "2025-02-25T00:00:00.000000000",
          "2025-02-26T00:00:00.000000000",
          "2025-02-27T00:00:00.000000000",
          "2025-02-28T00:00:00.000000000",
          "2025-03-05T00:00:00.000000000",
          "2025-03-06T00:00:00.000000000",
          "2025-03-07T00:00:00.000000000",
          "2025-03-10T00:00:00.000000000",
          "2025-03-11T00:00:00.000000000",
          "2025-03-12T00:00:00.000000000",
          "2025-03-13T00:00:00.000000000",
          "2025-03-14T00:00:00.000000000",
          "2025-03-17T00:00:00.000000000",
          "2025-03-18T00:00:00.000000000",
          "2025-03-19T00:00:00.000000000",
          "2025-03-20T00:00:00.000000000",
          "2025-03-21T00:00:00.000000000",
          "2025-03-24T00:00:00.000000000",
          "2025-03-25T00:00:00.000000000",
          "2025-03-26T00:00:00.000000000",
          "2025-03-27T00:00:00.000000000",
          "2025-03-28T00:00:00.000000000",
          "2025-03-31T00:00:00.000000000",
          "2025-04-01T00:00:00.000000000",
          "2025-04-02T00:00:00.000000000",
          "2025-04-03T00:00:00.000000000",
          "2025-04-04T00:00:00.000000000",
          "2025-04-07T00:00:00.000000000",
          "2025-04-08T00:00:00.000000000",
          "2025-04-09T00:00:00.000000000",
          "2025-04-10T00:00:00.000000000",
          "2025-04-11T00:00:00.000000000",
          "2025-04-14T00:00:00.000000000",
          "2025-04-15T00:00:00.000000000",
          "2025-04-16T00:00:00.000000000",
          "2025-04-17T00:00:00.000000000",
          "2025-04-22T00:00:00.000000000",
          "2025-04-23T00:00:00.000000000",
          "2025-04-24T00:00:00.000000000",
          "2025-04-25T00:00:00.000000000",
          "2025-04-28T00:00:00.000000000",
          "2025-04-29T00:00:00.000000000",
          "2025-04-30T00:00:00.000000000",
          "2025-05-02T00:00:00.000000000",
          "2025-05-05T00:00:00.000000000",
          "2025-05-06T00:00:00.000000000",
          "2025-05-07T00:00:00.000000000",
          "2025-05-08T00:00:00.000000000",
          "2025-05-09T00:00:00.000000000",
          "2025-05-12T00:00:00.000000000",
          "2025-05-13T00:00:00.000000000",
          "2025-05-14T00:00:00.000000000",
          "2025-05-15T00:00:00.000000000",
          "2025-05-16T00:00:00.000000000",
          "2025-05-19T00:00:00.000000000",
          "2025-05-20T00:00:00.000000000",
          "2025-05-21T00:00:00.000000000",
          "2025-05-22T00:00:00.000000000",
          "2025-05-23T00:00:00.000000000",
          "2025-05-26T00:00:00.000000000",
          "2025-05-27T00:00:00.000000000",
          "2025-05-28T00:00:00.000000000",
          "2025-05-29T00:00:00.000000000",
          "2025-05-30T00:00:00.000000000",
          "2025-06-02T00:00:00.000000000",
          "2025-06-03T00:00:00.000000000",
          "2025-06-04T00:00:00.000000000",
          "2025-06-05T00:00:00.000000000",
          "2025-06-06T00:00:00.000000000",
          "2025-06-09T00:00:00.000000000",
          "2025-06-10T00:00:00.000000000",
          "2025-06-11T00:00:00.000000000",
          "2025-06-12T00:00:00.000000000",
          "2025-06-13T00:00:00.000000000",
          "2025-06-16T00:00:00.000000000",
          "2025-06-17T00:00:00.000000000",
          "2025-06-18T00:00:00.000000000",
          "2025-06-20T00:00:00.000000000",
          "2025-06-23T00:00:00.000000000",
          "2025-06-24T00:00:00.000000000",
          "2025-06-25T00:00:00.000000000",
          "2025-06-26T00:00:00.000000000",
          "2025-06-27T00:00:00.000000000",
          "2025-06-30T00:00:00.000000000",
          "2025-07-01T00:00:00.000000000",
          "2025-07-02T00:00:00.000000000",
          "2025-07-03T00:00:00.000000000",
          "2025-07-04T00:00:00.000000000",
          "2025-07-07T00:00:00.000000000",
          "2025-07-08T00:00:00.000000000",
          "2025-07-09T00:00:00.000000000",
          "2025-07-10T00:00:00.000000000",
          "2025-07-11T00:00:00.000000000",
          "2025-07-14T00:00:00.000000000",
          "2025-07-15T00:00:00.000000000",
          "2025-07-16T00:00:00.000000000",
          "2025-07-17T00:00:00.000000000",
          "2025-07-18T00:00:00.000000000",
          "2025-07-21T00:00:00.000000000",
          "2025-07-22T00:00:00.000000000",
          "2025-07-23T00:00:00.000000000",
          "2025-07-24T00:00:00.000000000",
          "2025-07-25T00:00:00.000000000",
          "2025-07-28T00:00:00.000000000",
          "2025-07-29T00:00:00.000000000",
          "2025-07-30T00:00:00.000000000",
          "2025-07-31T00:00:00.000000000",
          "2025-08-01T00:00:00.000000000",
          "2025-08-04T00:00:00.000000000",
          "2025-08-05T00:00:00.000000000",
          "2025-08-06T00:00:00.000000000",
          "2025-08-07T00:00:00.000000000",
          "2025-08-08T00:00:00.000000000",
          "2025-08-11T00:00:00.000000000",
          "2025-08-12T00:00:00.000000000",
          "2025-08-13T00:00:00.000000000",
          "2025-08-14T00:00:00.000000000",
          "2025-08-15T00:00:00.000000000",
          "2025-08-18T00:00:00.000000000",
          "2025-08-19T00:00:00.000000000",
          "2025-08-20T00:00:00.000000000",
          "2025-08-21T00:00:00.000000000",
          "2025-08-22T00:00:00.000000000",
          "2025-08-25T00:00:00.000000000",
          "2025-08-26T00:00:00.000000000",
          "2025-08-27T00:00:00.000000000",
          "2025-08-28T00:00:00.000000000",
          "2025-08-29T00:00:00.000000000",
          "2025-09-01T00:00:00.000000000",
          "2025-09-02T00:00:00.000000000",
          "2025-09-03T00:00:00.000000000",
          "2025-09-04T00:00:00.000000000",
          "2025-09-05T00:00:00.000000000",
          "2025-09-08T00:00:00.000000000",
          "2025-09-09T00:00:00.000000000",
          "2025-09-10T00:00:00.000000000",
          "2025-09-11T00:00:00.000000000",
          "2025-09-12T00:00:00.000000000",
          "2025-09-15T00:00:00.000000000",
          "2025-09-16T00:00:00.000000000",
          "2025-09-17T00:00:00.000000000",
          "2025-09-18T00:00:00.000000000",
          "2025-09-19T00:00:00.000000000",
          "2025-09-22T00:00:00.000000000",
          "2025-09-23T00:00:00.000000000",
          "2025-09-24T00:00:00.000000000",
          "2025-09-25T00:00:00.000000000",
          "2025-09-26T00:00:00.000000000",
          "2025-09-29T00:00:00.000000000",
          "2025-09-30T00:00:00.000000000",
          "2025-10-01T00:00:00.000000000",
          "2025-10-02T00:00:00.000000000",
          "2025-10-03T00:00:00.000000000"
         ],
         "y": {
          "bdata": "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",
          "dtype": "f8"
         },
         "yaxis": "y2"
        },
        {
         "name": "Volatility RSI",
         "type": "scatter",
         "x": [
          "2023-10-03T00:00:00.000000000",
          "2023-10-04T00:00:00.000000000",
          "2023-10-05T00:00:00.000000000",
          "2023-10-06T00:00:00.000000000",
          "2023-10-09T00:00:00.000000000",
          "2023-10-10T00:00:00.000000000",
          "2023-10-11T00:00:00.000000000",
          "2023-10-13T00:00:00.000000000",
          "2023-10-16T00:00:00.000000000",
          "2023-10-17T00:00:00.000000000",
          "2023-10-18T00:00:00.000000000",
          "2023-10-19T00:00:00.000000000",
          "2023-10-20T00:00:00.000000000",
          "2023-10-23T00:00:00.000000000",
          "2023-10-24T00:00:00.000000000",
          "2023-10-25T00:00:00.000000000",
          "2023-10-26T00:00:00.000000000",
          "2023-10-27T00:00:00.000000000",
          "2023-10-30T00:00:00.000000000",
          "2023-10-31T00:00:00.000000000",
          "2023-11-01T00:00:00.000000000",
          "2023-11-03T00:00:00.000000000",
          "2023-11-06T00:00:00.000000000",
          "2023-11-07T00:00:00.000000000",
          "2023-11-08T00:00:00.000000000",
          "2023-11-09T00:00:00.000000000",
          "2023-11-10T00:00:00.000000000",
          "2023-11-13T00:00:00.000000000",
          "2023-11-14T00:00:00.000000000",
          "2023-11-16T00:00:00.000000000",
          "2023-11-17T00:00:00.000000000",
          "2023-11-20T00:00:00.000000000",
          "2023-11-21T00:00:00.000000000",
          "2023-11-22T00:00:00.000000000",
          "2023-11-23T00:00:00.000000000",
          "2023-11-24T00:00:00.000000000",
          "2023-11-27T00:00:00.000000000",
          "2023-11-28T00:00:00.000000000",
          "2023-11-29T00:00:00.000000000",
          "2023-11-30T00:00:00.000000000",
          "2023-12-01T00:00:00.000000000",
          "2023-12-04T00:00:00.000000000",
          "2023-12-05T00:00:00.000000000",
          "2023-12-06T00:00:00.000000000",
          "2023-12-07T00:00:00.000000000",
          "2023-12-08T00:00:00.000000000",
          "2023-12-11T00:00:00.000000000",
          "2023-12-12T00:00:00.000000000",
          "2023-12-13T00:00:00.000000000",
          "2023-12-14T00:00:00.000000000",
          "2023-12-15T00:00:00.000000000",
          "2023-12-18T00:00:00.000000000",
          "2023-12-19T00:00:00.000000000",
          "2023-12-20T00:00:00.000000000",
          "2023-12-21T00:00:00.000000000",
          "2023-12-22T00:00:00.000000000",
          "2023-12-26T00:00:00.000000000",
          "2023-12-27T00:00:00.000000000",
          "2023-12-28T00:00:00.000000000",
          "2024-01-02T00:00:00.000000000",
          "2024-01-03T00:00:00.000000000",
          "2024-01-04T00:00:00.000000000",
          "2024-01-05T00:00:00.000000000",
          "2024-01-08T00:00:00.000000000",
          "2024-01-09T00:00:00.000000000",
          "2024-01-10T00:00:00.000000000",
          "2024-01-11T00:00:00.000000000",
          "2024-01-12T00:00:00.000000000",
          "2024-01-15T00:00:00.000000000",
          "2024-01-16T00:00:00.000000000",
          "2024-01-17T00:00:00.000000000",
          "2024-01-18T00:00:00.000000000",
          "2024-01-19T00:00:00.000000000",
          "2024-01-22T00:00:00.000000000",
          "2024-01-23T00:00:00.000000000",
          "2024-01-24T00:00:00.000000000",
          "2024-01-25T00:00:00.000000000",
          "2024-01-26T00:00:00.000000000",
          "2024-01-29T00:00:00.000000000",
          "2024-01-30T00:00:00.000000000",
          "2024-01-31T00:00:00.000000000",
          "2024-02-01T00:00:00.000000000",
          "2024-02-02T00:00:00.000000000",
          "2024-02-05T00:00:00.000000000",
          "2024-02-06T00:00:00.000000000",
          "2024-02-07T00:00:00.000000000",
          "2024-02-08T00:00:00.000000000",
          "2024-02-09T00:00:00.000000000",
          "2024-02-14T00:00:00.000000000",
          "2024-02-15T00:00:00.000000000",
          "2024-02-16T00:00:00.000000000",
          "2024-02-19T00:00:00.000000000",
          "2024-02-20T00:00:00.000000000",
          "2024-02-21T00:00:00.000000000",
          "2024-02-22T00:00:00.000000000",
          "2024-02-23T00:00:00.000000000",
          "2024-02-26T00:00:00.000000000",
          "2024-02-27T00:00:00.000000000",
          "2024-02-28T00:00:00.000000000",
          "2024-02-29T00:00:00.000000000",
          "2024-03-01T00:00:00.000000000",
          "2024-03-04T00:00:00.000000000",
          "2024-03-05T00:00:00.000000000",
          "2024-03-06T00:00:00.000000000",
          "2024-03-07T00:00:00.000000000",
          "2024-03-08T00:00:00.000000000",
          "2024-03-11T00:00:00.000000000",
          "2024-03-12T00:00:00.000000000",
          "2024-03-13T00:00:00.000000000",
          "2024-03-14T00:00:00.000000000",
          "2024-03-15T00:00:00.000000000",
          "2024-03-18T00:00:00.000000000",
          "2024-03-19T00:00:00.000000000",
          "2024-03-20T00:00:00.000000000",
          "2024-03-21T00:00:00.000000000",
          "2024-03-22T00:00:00.000000000",
          "2024-03-25T00:00:00.000000000",
          "2024-03-26T00:00:00.000000000",
          "2024-03-27T00:00:00.000000000",
          "2024-03-28T00:00:00.000000000",
          "2024-04-01T00:00:00.000000000",
          "2024-04-02T00:00:00.000000000",
          "2024-04-03T00:00:00.000000000",
          "2024-04-04T00:00:00.000000000",
          "2024-04-05T00:00:00.000000000",
          "2024-04-08T00:00:00.000000000",
          "2024-04-09T00:00:00.000000000",
          "2024-04-10T00:00:00.000000000",
          "2024-04-11T00:00:00.000000000",
          "2024-04-12T00:00:00.000000000",
          "2024-04-15T00:00:00.000000000",
          "2024-04-16T00:00:00.000000000",
          "2024-04-17T00:00:00.000000000",
          "2024-04-18T00:00:00.000000000",
          "2024-04-19T00:00:00.000000000",
          "2024-04-22T00:00:00.000000000",
          "2024-04-23T00:00:00.000000000",
          "2024-04-24T00:00:00.000000000",
          "2024-04-25T00:00:00.000000000",
          "2024-04-26T00:00:00.000000000",
          "2024-04-29T00:00:00.000000000",
          "2024-04-30T00:00:00.000000000",
          "2024-05-02T00:00:00.000000000",
          "2024-05-03T00:00:00.000000000",
          "2024-05-06T00:00:00.000000000",
          "2024-05-07T00:00:00.000000000",
          "2024-05-08T00:00:00.000000000",
          "2024-05-09T00:00:00.000000000",
          "2024-05-10T00:00:00.000000000",
          "2024-05-13T00:00:00.000000000",
          "2024-05-14T00:00:00.000000000",
          "2024-05-15T00:00:00.000000000",
          "2024-05-16T00:00:00.000000000",
          "2024-05-17T00:00:00.000000000",
          "2024-05-20T00:00:00.000000000",
          "2024-05-21T00:00:00.000000000",
          "2024-05-22T00:00:00.000000000",
          "2024-05-23T00:00:00.000000000",
          "2024-05-24T00:00:00.000000000",
          "2024-05-27T00:00:00.000000000",
          "2024-05-28T00:00:00.000000000",
          "2024-05-29T00:00:00.000000000",
          "2024-05-31T00:00:00.000000000",
          "2024-06-03T00:00:00.000000000",
          "2024-06-04T00:00:00.000000000",
          "2024-06-05T00:00:00.000000000",
          "2024-06-06T00:00:00.000000000",
          "2024-06-07T00:00:00.000000000",
          "2024-06-10T00:00:00.000000000",
          "2024-06-11T00:00:00.000000000",
          "2024-06-12T00:00:00.000000000",
          "2024-06-13T00:00:00.000000000",
          "2024-06-14T00:00:00.000000000",
          "2024-06-17T00:00:00.000000000",
          "2024-06-18T00:00:00.000000000",
          "2024-06-19T00:00:00.000000000",
          "2024-06-20T00:00:00.000000000",
          "2024-06-21T00:00:00.000000000",
          "2024-06-24T00:00:00.000000000",
          "2024-06-25T00:00:00.000000000",
          "2024-06-26T00:00:00.000000000",
          "2024-06-27T00:00:00.000000000",
          "2024-06-28T00:00:00.000000000",
          "2024-07-01T00:00:00.000000000",
          "2024-07-02T00:00:00.000000000",
          "2024-07-03T00:00:00.000000000",
          "2024-07-04T00:00:00.000000000",
          "2024-07-05T00:00:00.000000000",
          "2024-07-08T00:00:00.000000000",
          "2024-07-09T00:00:00.000000000",
          "2024-07-10T00:00:00.000000000",
          "2024-07-11T00:00:00.000000000",
          "2024-07-12T00:00:00.000000000",
          "2024-07-15T00:00:00.000000000",
          "2024-07-16T00:00:00.000000000",
          "2024-07-17T00:00:00.000000000",
          "2024-07-18T00:00:00.000000000",
          "2024-07-19T00:00:00.000000000",
          "2024-07-22T00:00:00.000000000",
          "2024-07-23T00:00:00.000000000",
          "2024-07-24T00:00:00.000000000",
          "2024-07-25T00:00:00.000000000",
          "2024-07-26T00:00:00.000000000",
          "2024-07-29T00:00:00.000000000",
          "2024-07-30T00:00:00.000000000",
          "2024-07-31T00:00:00.000000000",
          "2024-08-01T00:00:00.000000000",
          "2024-08-02T00:00:00.000000000",
          "2024-08-05T00:00:00.000000000",
          "2024-08-06T00:00:00.000000000",
          "2024-08-07T00:00:00.000000000",
          "2024-08-08T00:00:00.000000000",
          "2024-08-09T00:00:00.000000000",
          "2024-08-12T00:00:00.000000000",
          "2024-08-13T00:00:00.000000000",
          "2024-08-14T00:00:00.000000000",
          "2024-08-15T00:00:00.000000000",
          "2024-08-16T00:00:00.000000000",
          "2024-08-19T00:00:00.000000000",
          "2024-08-20T00:00:00.000000000",
          "2024-08-21T00:00:00.000000000",
          "2024-08-22T00:00:00.000000000",
          "2024-08-23T00:00:00.000000000",
          "2024-08-26T00:00:00.000000000",
          "2024-08-27T00:00:00.000000000",
          "2024-08-28T00:00:00.000000000",
          "2024-08-29T00:00:00.000000000",
          "2024-08-30T00:00:00.000000000",
          "2024-09-02T00:00:00.000000000",
          "2024-09-03T00:00:00.000000000",
          "2024-09-04T00:00:00.000000000",
          "2024-09-05T00:00:00.000000000",
          "2024-09-06T00:00:00.000000000",
          "2024-09-09T00:00:00.000000000",
          "2024-09-10T00:00:00.000000000",
          "2024-09-11T00:00:00.000000000",
          "2024-09-12T00:00:00.000000000",
          "2024-09-13T00:00:00.000000000",
          "2024-09-16T00:00:00.000000000",
          "2024-09-17T00:00:00.000000000",
          "2024-09-18T00:00:00.000000000",
          "2024-09-19T00:00:00.000000000",
          "2024-09-20T00:00:00.000000000",
          "2024-09-23T00:00:00.000000000",
          "2024-09-24T00:00:00.000000000",
          "2024-09-25T00:00:00.000000000",
          "2024-09-26T00:00:00.000000000",
          "2024-09-27T00:00:00.000000000",
          "2024-09-30T00:00:00.000000000",
          "2024-10-01T00:00:00.000000000",
          "2024-10-02T00:00:00.000000000",
          "2024-10-03T00:00:00.000000000",
          "2024-10-04T00:00:00.000000000",
          "2024-10-07T00:00:00.000000000",
          "2024-10-08T00:00:00.000000000",
          "2024-10-09T00:00:00.000000000",
          "2024-10-10T00:00:00.000000000",
          "2024-10-11T00:00:00.000000000",
          "2024-10-14T00:00:00.000000000",
          "2024-10-15T00:00:00.000000000",
          "2024-10-16T00:00:00.000000000",
          "2024-10-17T00:00:00.000000000",
          "2024-10-18T00:00:00.000000000",
          "2024-10-21T00:00:00.000000000",
          "2024-10-22T00:00:00.000000000",
          "2024-10-23T00:00:00.000000000",
          "2024-10-24T00:00:00.000000000",
          "2024-10-25T00:00:00.000000000",
          "2024-10-28T00:00:00.000000000",
          "2024-10-29T00:00:00.000000000",
          "2024-10-30T00:00:00.000000000",
          "2024-10-31T00:00:00.000000000",
          "2024-11-01T00:00:00.000000000",
          "2024-11-04T00:00:00.000000000",
          "2024-11-05T00:00:00.000000000",
          "2024-11-06T00:00:00.000000000",
          "2024-11-07T00:00:00.000000000",
          "2024-11-08T00:00:00.000000000",
          "2024-11-11T00:00:00.000000000",
          "2024-11-12T00:00:00.000000000",
          "2024-11-13T00:00:00.000000000",
          "2024-11-14T00:00:00.000000000",
          "2024-11-18T00:00:00.000000000",
          "2024-11-19T00:00:00.000000000",
          "2024-11-21T00:00:00.000000000",
          "2024-11-22T00:00:00.000000000",
          "2024-11-25T00:00:00.000000000",
          "2024-11-26T00:00:00.000000000",
          "2024-11-27T00:00:00.000000000",
          "2024-11-28T00:00:00.000000000",
          "2024-11-29T00:00:00.000000000",
          "2024-12-02T00:00:00.000000000",
          "2024-12-03T00:00:00.000000000",
          "2024-12-04T00:00:00.000000000",
          "2024-12-05T00:00:00.000000000",
          "2024-12-06T00:00:00.000000000",
          "2024-12-09T00:00:00.000000000",
          "2024-12-10T00:00:00.000000000",
          "2024-12-11T00:00:00.000000000",
          "2024-12-12T00:00:00.000000000",
          "2024-12-13T00:00:00.000000000",
          "2024-12-16T00:00:00.000000000",
          "2024-12-17T00:00:00.000000000",
          "2024-12-18T00:00:00.000000000",
          "2024-12-19T00:00:00.000000000",
          "2024-12-20T00:00:00.000000000",
          "2024-12-23T00:00:00.000000000",
          "2024-12-26T00:00:00.000000000",
          "2024-12-27T00:00:00.000000000",
          "2024-12-30T00:00:00.000000000",
          "2025-01-02T00:00:00.000000000",
          "2025-01-03T00:00:00.000000000",
          "2025-01-06T00:00:00.000000000",
          "2025-01-07T00:00:00.000000000",
          "2025-01-08T00:00:00.000000000",
          "2025-01-09T00:00:00.000000000",
          "2025-01-10T00:00:00.000000000",
          "2025-01-13T00:00:00.000000000",
          "2025-01-14T00:00:00.000000000",
          "2025-01-15T00:00:00.000000000",
          "2025-01-16T00:00:00.000000000",
          "2025-01-17T00:00:00.000000000",
          "2025-01-20T00:00:00.000000000",
          "2025-01-21T00:00:00.000000000",
          "2025-01-22T00:00:00.000000000",
          "2025-01-23T00:00:00.000000000",
          "2025-01-24T00:00:00.000000000",
          "2025-01-27T00:00:00.000000000",
          "2025-01-28T00:00:00.000000000",
          "2025-01-29T00:00:00.000000000",
          "2025-01-30T00:00:00.000000000",
          "2025-01-31T00:00:00.000000000",
          "2025-02-03T00:00:00.000000000",
          "2025-02-04T00:00:00.000000000",
          "2025-02-05T00:00:00.000000000",
          "2025-02-06T00:00:00.000000000",
          "2025-02-07T00:00:00.000000000",
          "2025-02-10T00:00:00.000000000",
          "2025-02-11T00:00:00.000000000",
          "2025-02-12T00:00:00.000000000",
          "2025-02-13T00:00:00.000000000",
          "2025-02-14T00:00:00.000000000",
          "2025-02-17T00:00:00.000000000",
          "2025-02-18T00:00:00.000000000",
          "2025-02-19T00:00:00.000000000",
          "2025-02-20T00:00:00.000000000",
          "2025-02-21T00:00:00.000000000",
          "2025-02-24T00:00:00.000000000",
          "2025-02-25T00:00:00.000000000",
          "2025-02-26T00:00:00.000000000",
          "2025-02-27T00:00:00.000000000",
          "2025-02-28T00:00:00.000000000",
          "2025-03-05T00:00:00.000000000",
          "2025-03-06T00:00:00.000000000",
          "2025-03-07T00:00:00.000000000",
          "2025-03-10T00:00:00.000000000",
          "2025-03-11T00:00:00.000000000",
          "2025-03-12T00:00:00.000000000",
          "2025-03-13T00:00:00.000000000",
          "2025-03-14T00:00:00.000000000",
          "2025-03-17T00:00:00.000000000",
          "2025-03-18T00:00:00.000000000",
          "2025-03-19T00:00:00.000000000",
          "2025-03-20T00:00:00.000000000",
          "2025-03-21T00:00:00.000000000",
          "2025-03-24T00:00:00.000000000",
          "2025-03-25T00:00:00.000000000",
          "2025-03-26T00:00:00.000000000",
          "2025-03-27T00:00:00.000000000",
          "2025-03-28T00:00:00.000000000",
          "2025-03-31T00:00:00.000000000",
          "2025-04-01T00:00:00.000000000",
          "2025-04-02T00:00:00.000000000",
          "2025-04-03T00:00:00.000000000",
          "2025-04-04T00:00:00.000000000",
          "2025-04-07T00:00:00.000000000",
          "2025-04-08T00:00:00.000000000",
          "2025-04-09T00:00:00.000000000",
          "2025-04-10T00:00:00.000000000",
          "2025-04-11T00:00:00.000000000",
          "2025-04-14T00:00:00.000000000",
          "2025-04-15T00:00:00.000000000",
          "2025-04-16T00:00:00.000000000",
          "2025-04-17T00:00:00.000000000",
          "2025-04-22T00:00:00.000000000",
          "2025-04-23T00:00:00.000000000",
          "2025-04-24T00:00:00.000000000",
          "2025-04-25T00:00:00.000000000",
          "2025-04-28T00:00:00.000000000",
          "2025-04-29T00:00:00.000000000",
          "2025-04-30T00:00:00.000000000",
          "2025-05-02T00:00:00.000000000",
          "2025-05-05T00:00:00.000000000",
          "2025-05-06T00:00:00.000000000",
          "2025-05-07T00:00:00.000000000",
          "2025-05-08T00:00:00.000000000",
          "2025-05-09T00:00:00.000000000",
          "2025-05-12T00:00:00.000000000",
          "2025-05-13T00:00:00.000000000",
          "2025-05-14T00:00:00.000000000",
          "2025-05-15T00:00:00.000000000",
          "2025-05-16T00:00:00.000000000",
          "2025-05-19T00:00:00.000000000",
          "2025-05-20T00:00:00.000000000",
          "2025-05-21T00:00:00.000000000",
          "2025-05-22T00:00:00.000000000",
          "2025-05-23T00:00:00.000000000",
          "2025-05-26T00:00:00.000000000",
          "2025-05-27T00:00:00.000000000",
          "2025-05-28T00:00:00.000000000",
          "2025-05-29T00:00:00.000000000",
          "2025-05-30T00:00:00.000000000",
          "2025-06-02T00:00:00.000000000",
          "2025-06-03T00:00:00.000000000",
          "2025-06-04T00:00:00.000000000",
          "2025-06-05T00:00:00.000000000",
          "2025-06-06T00:00:00.000000000",
          "2025-06-09T00:00:00.000000000",
          "2025-06-10T00:00:00.000000000",
          "2025-06-11T00:00:00.000000000",
          "2025-06-12T00:00:00.000000000",
          "2025-06-13T00:00:00.000000000",
          "2025-06-16T00:00:00.000000000",
          "2025-06-17T00:00:00.000000000",
          "2025-06-18T00:00:00.000000000",
          "2025-06-20T00:00:00.000000000",
          "2025-06-23T00:00:00.000000000",
          "2025-06-24T00:00:00.000000000",
          "2025-06-25T00:00:00.000000000",
          "2025-06-26T00:00:00.000000000",
          "2025-06-27T00:00:00.000000000",
          "2025-06-30T00:00:00.000000000",
          "2025-07-01T00:00:00.000000000",
          "2025-07-02T00:00:00.000000000",
          "2025-07-03T00:00:00.000000000",
          "2025-07-04T00:00:00.000000000",
          "2025-07-07T00:00:00.000000000",
          "2025-07-08T00:00:00.000000000",
          "2025-07-09T00:00:00.000000000",
          "2025-07-10T00:00:00.000000000",
          "2025-07-11T00:00:00.000000000",
          "2025-07-14T00:00:00.000000000",
          "2025-07-15T00:00:00.000000000",
          "2025-07-16T00:00:00.000000000",
          "2025-07-17T00:00:00.000000000",
          "2025-07-18T00:00:00.000000000",
          "2025-07-21T00:00:00.000000000",
          "2025-07-22T00:00:00.000000000",
          "2025-07-23T00:00:00.000000000",
          "2025-07-24T00:00:00.000000000",
          "2025-07-25T00:00:00.000000000",
          "2025-07-28T00:00:00.000000000",
          "2025-07-29T00:00:00.000000000",
          "2025-07-30T00:00:00.000000000",
          "2025-07-31T00:00:00.000000000",
          "2025-08-01T00:00:00.000000000",
          "2025-08-04T00:00:00.000000000",
          "2025-08-05T00:00:00.000000000",
          "2025-08-06T00:00:00.000000000",
          "2025-08-07T00:00:00.000000000",
          "2025-08-08T00:00:00.000000000",
          "2025-08-11T00:00:00.000000000",
          "2025-08-12T00:00:00.000000000",
          "2025-08-13T00:00:00.000000000",
          "2025-08-14T00:00:00.000000000",
          "2025-08-15T00:00:00.000000000",
          "2025-08-18T00:00:00.000000000",
          "2025-08-19T00:00:00.000000000",
          "2025-08-20T00:00:00.000000000",
          "2025-08-21T00:00:00.000000000",
          "2025-08-22T00:00:00.000000000",
          "2025-08-25T00:00:00.000000000",
          "2025-08-26T00:00:00.000000000",
          "2025-08-27T00:00:00.000000000",
          "2025-08-28T00:00:00.000000000",
          "2025-08-29T00:00:00.000000000",
          "2025-09-01T00:00:00.000000000",
          "2025-09-02T00:00:00.000000000",
          "2025-09-03T00:00:00.000000000",
          "2025-09-04T00:00:00.000000000",
          "2025-09-05T00:00:00.000000000",
          "2025-09-08T00:00:00.000000000",
          "2025-09-09T00:00:00.000000000",
          "2025-09-10T00:00:00.000000000",
          "2025-09-11T00:00:00.000000000",
          "2025-09-12T00:00:00.000000000",
          "2025-09-15T00:00:00.000000000",
          "2025-09-16T00:00:00.000000000",
          "2025-09-17T00:00:00.000000000",
          "2025-09-18T00:00:00.000000000",
          "2025-09-19T00:00:00.000000000",
          "2025-09-22T00:00:00.000000000",
          "2025-09-23T00:00:00.000000000",
          "2025-09-24T00:00:00.000000000",
          "2025-09-25T00:00:00.000000000",
          "2025-09-26T00:00:00.000000000",
          "2025-09-29T00:00:00.000000000",
          "2025-09-30T00:00:00.000000000",
          "2025-10-01T00:00:00.000000000",
          "2025-10-02T00:00:00.000000000",
          "2025-10-03T00:00:00.000000000"
         ],
         "y": {
          "bdata": "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",
          "dtype": "f8"
         },
         "yaxis": "y3"
        }
       ],
       "layout": {
        "legend": {
         "x": 0.01,
         "y": 0.99
        },
        "template": {
         "data": {
          "bar": [
           {
            "error_x": {
             "color": "#2a3f5f"
            },
            "error_y": {
             "color": "#2a3f5f"
            },
            "marker": {
             "line": {
              "color": "#E5ECF6",
              "width": 0.5
             },
             "pattern": {
              "fillmode": "overlay",
              "size": 10,
              "solidity": 0.2
             }
            },
            "type": "bar"
           }
          ],
          "barpolar": [
           {
            "marker": {
             "line": {
              "color": "#E5ECF6",
              "width": 0.5
             },
             "pattern": {
              "fillmode": "overlay",
              "size": 10,
              "solidity": 0.2
             }
            },
            "type": "barpolar"
           }
          ],
          "carpet": [
           {
            "aaxis": {
             "endlinecolor": "#2a3f5f",
             "gridcolor": "white",
             "linecolor": "white",
             "minorgridcolor": "white",
             "startlinecolor": "#2a3f5f"
            },
            "baxis": {
             "endlinecolor": "#2a3f5f",
             "gridcolor": "white",
             "linecolor": "white",
             "minorgridcolor": "white",
             "startlinecolor": "#2a3f5f"
            },
            "type": "carpet"
           }
          ],
          "choropleth": [
           {
            "colorbar": {
             "outlinewidth": 0,
             "ticks": ""
            },
            "type": "choropleth"
           }
          ],
          "contour": [
           {
            "colorbar": {
             "outlinewidth": 0,
             "ticks": ""
            },
            "colorscale": [
             [
              0,
              "#0d0887"
             ],
             [
              0.1111111111111111,
              "#46039f"
             ],
             [
              0.2222222222222222,
              "#7201a8"
             ],
             [
              0.3333333333333333,
              "#9c179e"
             ],
             [
              0.4444444444444444,
              "#bd3786"
             ],
             [
              0.5555555555555556,
              "#d8576b"
             ],
             [
              0.6666666666666666,
              "#ed7953"
             ],
             [
              0.7777777777777778,
              "#fb9f3a"
             ],
             [
              0.8888888888888888,
              "#fdca26"
             ],
             [
              1,
              "#f0f921"
             ]
            ],
            "type": "contour"
           }
          ],
          "contourcarpet": [
           {
            "colorbar": {
             "outlinewidth": 0,
             "ticks": ""
            },
            "type": "contourcarpet"
           }
          ],
          "heatmap": [
           {
            "colorbar": {
             "outlinewidth": 0,
             "ticks": ""
            },
            "colorscale": [
             [
              0,
              "#0d0887"
             ],
             [
              0.1111111111111111,
              "#46039f"
             ],
             [
              0.2222222222222222,
              "#7201a8"
             ],
             [
              0.3333333333333333,
              "#9c179e"
             ],
             [
              0.4444444444444444,
              "#bd3786"
             ],
             [
              0.5555555555555556,
              "#d8576b"
             ],
             [
              0.6666666666666666,
              "#ed7953"
             ],
             [
              0.7777777777777778,
              "#fb9f3a"
             ],
             [
              0.8888888888888888,
              "#fdca26"
             ],
             [
              1,
              "#f0f921"
             ]
            ],
            "type": "heatmap"
           }
          ],
          "histogram": [
           {
            "marker": {
             "pattern": {
              "fillmode": "overlay",
              "size": 10,
              "solidity": 0.2
             }
            },
            "type": "histogram"
           }
          ],
          "histogram2d": [
           {
            "colorbar": {
             "outlinewidth": 0,
             "ticks": ""
            },
            "colorscale": [
             [
              0,
              "#0d0887"
             ],
             [
              0.1111111111111111,
              "#46039f"
             ],
             [
              0.2222222222222222,
              "#7201a8"
             ],
             [
              0.3333333333333333,
              "#9c179e"
             ],
             [
              0.4444444444444444,
              "#bd3786"
             ],
             [
              0.5555555555555556,
              "#d8576b"
             ],
             [
              0.6666666666666666,
              "#ed7953"
             ],
             [
              0.7777777777777778,
              "#fb9f3a"
             ],
             [
              0.8888888888888888,
              "#fdca26"
             ],
             [
              1,
              "#f0f921"
             ]
            ],
            "type": "histogram2d"
           }
          ],
          "histogram2dcontour": [
           {
            "colorbar": {
             "outlinewidth": 0,
             "ticks": ""
            },
            "colorscale": [
             [
              0,
              "#0d0887"
             ],
             [
              0.1111111111111111,
              "#46039f"
             ],
             [
              0.2222222222222222,
              "#7201a8"
             ],
             [
              0.3333333333333333,
              "#9c179e"
             ],
             [
              0.4444444444444444,
              "#bd3786"
             ],
             [
              0.5555555555555556,
              "#d8576b"
             ],
             [
              0.6666666666666666,
              "#ed7953"
             ],
             [
              0.7777777777777778,
              "#fb9f3a"
             ],
             [
              0.8888888888888888,
              "#fdca26"
             ],
             [
              1,
              "#f0f921"
             ]
            ],
            "type": "histogram2dcontour"
           }
          ],
          "mesh3d": [
           {
            "colorbar": {
             "outlinewidth": 0,
             "ticks": ""
            },
            "type": "mesh3d"
           }
          ],
          "parcoords": [
           {
            "line": {
             "colorbar": {
              "outlinewidth": 0,
              "ticks": ""
             }
            },
            "type": "parcoords"
           }
          ],
          "pie": [
           {
            "automargin": true,
            "type": "pie"
           }
          ],
          "scatter": [
           {
            "fillpattern": {
             "fillmode": "overlay",
             "size": 10,
             "solidity": 0.2
            },
            "type": "scatter"
           }
          ],
          "scatter3d": [
           {
            "line": {
             "colorbar": {
              "outlinewidth": 0,
              "ticks": ""
             }
            },
            "marker": {
             "colorbar": {
              "outlinewidth": 0,
              "ticks": ""
             }
            },
            "type": "scatter3d"
           }
          ],
          "scattercarpet": [
           {
            "marker": {
             "colorbar": {
              "outlinewidth": 0,
              "ticks": ""
             }
            },
            "type": "scattercarpet"
           }
          ],
          "scattergeo": [
           {
            "marker": {
             "colorbar": {
              "outlinewidth": 0,
              "ticks": ""
             }
            },
            "type": "scattergeo"
           }
          ],
          "scattergl": [
           {
            "marker": {
             "colorbar": {
              "outlinewidth": 0,
              "ticks": ""
             }
            },
            "type": "scattergl"
           }
          ],
          "scattermap": [
           {
            "marker": {
             "colorbar": {
              "outlinewidth": 0,
              "ticks": ""
             }
            },
            "type": "scattermap"
           }
          ],
          "scattermapbox": [
           {
            "marker": {
             "colorbar": {
              "outlinewidth": 0,
              "ticks": ""
             }
            },
            "type": "scattermapbox"
           }
          ],
          "scatterpolar": [
           {
            "marker": {
             "colorbar": {
              "outlinewidth": 0,
              "ticks": ""
             }
            },
            "type": "scatterpolar"
           }
          ],
          "scatterpolargl": [
           {
            "marker": {
             "colorbar": {
              "outlinewidth": 0,
              "ticks": ""
             }
            },
            "type": "scatterpolargl"
           }
          ],
          "scatterternary": [
           {
            "marker": {
             "colorbar": {
              "outlinewidth": 0,
              "ticks": ""
             }
            },
            "type": "scatterternary"
           }
          ],
          "surface": [
           {
            "colorbar": {
             "outlinewidth": 0,
             "ticks": ""
            },
            "colorscale": [
             [
              0,
              "#0d0887"
             ],
             [
              0.1111111111111111,
              "#46039f"
             ],
             [
              0.2222222222222222,
              "#7201a8"
             ],
             [
              0.3333333333333333,
              "#9c179e"
             ],
             [
              0.4444444444444444,
              "#bd3786"
             ],
             [
              0.5555555555555556,
              "#d8576b"
             ],
             [
              0.6666666666666666,
              "#ed7953"
             ],
             [
              0.7777777777777778,
              "#fb9f3a"
             ],
             [
              0.8888888888888888,
              "#fdca26"
             ],
             [
              1,
              "#f0f921"
             ]
            ],
            "type": "surface"
           }
          ],
          "table": [
           {
            "cells": {
             "fill": {
              "color": "#EBF0F8"
             },
             "line": {
              "color": "white"
             }
            },
            "header": {
             "fill": {
              "color": "#C8D4E3"
             },
             "line": {
              "color": "white"
             }
            },
            "type": "table"
           }
          ]
         },
         "layout": {
          "annotationdefaults": {
           "arrowcolor": "#2a3f5f",
           "arrowhead": 0,
           "arrowwidth": 1
          },
          "autotypenumbers": "strict",
          "coloraxis": {
           "colorbar": {
            "outlinewidth": 0,
            "ticks": ""
           }
          },
          "colorscale": {
           "diverging": [
            [
             0,
             "#8e0152"
            ],
            [
             0.1,
             "#c51b7d"
            ],
            [
             0.2,
             "#de77ae"
            ],
            [
             0.3,
             "#f1b6da"
            ],
            [
             0.4,
             "#fde0ef"
            ],
            [
             0.5,
             "#f7f7f7"
            ],
            [
             0.6,
             "#e6f5d0"
            ],
            [
             0.7,
             "#b8e186"
            ],
            [
             0.8,
             "#7fbc41"
            ],
            [
             0.9,
             "#4d9221"
            ],
            [
             1,
             "#276419"
            ]
           ],
           "sequential": [
            [
             0,
             "#0d0887"
            ],
            [
             0.1111111111111111,
             "#46039f"
            ],
            [
             0.2222222222222222,
             "#7201a8"
            ],
            [
             0.3333333333333333,
             "#9c179e"
            ],
            [
             0.4444444444444444,
             "#bd3786"
            ],
            [
             0.5555555555555556,
             "#d8576b"
            ],
            [
             0.6666666666666666,
             "#ed7953"
            ],
            [
             0.7777777777777778,
             "#fb9f3a"
            ],
            [
             0.8888888888888888,
             "#fdca26"
            ],
            [
             1,
             "#f0f921"
            ]
           ],
           "sequentialminus": [
            [
             0,
             "#0d0887"
            ],
            [
             0.1111111111111111,
             "#46039f"
            ],
            [
             0.2222222222222222,
             "#7201a8"
            ],
            [
             0.3333333333333333,
             "#9c179e"
            ],
            [
             0.4444444444444444,
             "#bd3786"
            ],
            [
             0.5555555555555556,
             "#d8576b"
            ],
            [
             0.6666666666666666,
             "#ed7953"
            ],
            [
             0.7777777777777778,
             "#fb9f3a"
            ],
            [
             0.8888888888888888,
             "#fdca26"
            ],
            [
             1,
             "#f0f921"
            ]
           ]
          },
          "colorway": [
           "#636efa",
           "#EF553B",
           "#00cc96",
           "#ab63fa",
           "#FFA15A",
           "#19d3f3",
           "#FF6692",
           "#B6E880",
           "#FF97FF",
           "#FECB52"
          ],
          "font": {
           "color": "#2a3f5f"
          },
          "geo": {
           "bgcolor": "white",
           "lakecolor": "white",
           "landcolor": "#E5ECF6",
           "showlakes": true,
           "showland": true,
           "subunitcolor": "white"
          },
          "hoverlabel": {
           "align": "left"
          },
          "hovermode": "closest",
          "mapbox": {
           "style": "light"
          },
          "paper_bgcolor": "white",
          "plot_bgcolor": "#E5ECF6",
          "polar": {
           "angularaxis": {
            "gridcolor": "white",
            "linecolor": "white",
            "ticks": ""
           },
           "bgcolor": "#E5ECF6",
           "radialaxis": {
            "gridcolor": "white",
            "linecolor": "white",
            "ticks": ""
           }
          },
          "scene": {
           "xaxis": {
            "backgroundcolor": "#E5ECF6",
            "gridcolor": "white",
            "gridwidth": 2,
            "linecolor": "white",
            "showbackground": true,
            "ticks": "",
            "zerolinecolor": "white"
           },
           "yaxis": {
            "backgroundcolor": "#E5ECF6",
            "gridcolor": "white",
            "gridwidth": 2,
            "linecolor": "white",
            "showbackground": true,
            "ticks": "",
            "zerolinecolor": "white"
           },
           "zaxis": {
            "backgroundcolor": "#E5ECF6",
            "gridcolor": "white",
            "gridwidth": 2,
            "linecolor": "white",
            "showbackground": true,
            "ticks": "",
            "zerolinecolor": "white"
           }
          },
          "shapedefaults": {
           "line": {
            "color": "#2a3f5f"
           }
          },
          "ternary": {
           "aaxis": {
            "gridcolor": "white",
            "linecolor": "white",
            "ticks": ""
           },
           "baxis": {
            "gridcolor": "white",
            "linecolor": "white",
            "ticks": ""
           },
           "bgcolor": "#E5ECF6",
           "caxis": {
            "gridcolor": "white",
            "linecolor": "white",
            "ticks": ""
           }
          },
          "title": {
           "x": 0.05
          },
          "xaxis": {
           "automargin": true,
           "gridcolor": "white",
           "linecolor": "white",
           "ticks": "",
           "title": {
            "standoff": 15
           },
           "zerolinecolor": "white",
           "zerolinewidth": 2
          },
          "yaxis": {
           "automargin": true,
           "gridcolor": "white",
           "linecolor": "white",
           "ticks": "",
           "title": {
            "standoff": 15
           },
           "zerolinecolor": "white",
           "zerolinewidth": 2
          }
         }
        },
        "title": {
         "text": "Preço PETR4.SA e Volatility Entropy"
        },
        "xaxis": {
         "title": {
          "text": "Data"
         }
        },
        "yaxis": {
         "title": {
          "text": "Preço PETR4.SA"
         }
        },
        "yaxis2": {
         "overlaying": "y",
         "side": "right",
         "title": {
          "text": "Volatility Entropy"
         }
        },
        "yaxis3": {
         "anchor": "free",
         "overlaying": "y",
         "position": 1,
         "showgrid": false,
         "side": "right",
         "title": {
          "text": "Volatility RSI"
         }
        }
       }
      }
     },
     "metadata": {},
     "output_type": "display_data"
    }
   ],
   "source": [
    "import plotly.graph_objects as go\n",
    "\n",
    "fig = go.Figure()\n",
    "\n",
    "fig.add_trace(go.Scatter(\n",
    "    y=data[\"Close\"][\"PETR4.SA\"],\n",
    "    x=data.index,\n",
    "    name=\"Preço PETR4.SA\",\n",
    "    yaxis=\"y1\"\n",
    "))\n",
    "\n",
    "fig.add_trace(go.Scatter(\n",
    "    x=data.index,\n",
    "    y=vol_ent,\n",
    "    name=\"Volatility Entropy\",\n",
    "    yaxis=\"y2\"\n",
    "))\n",
    "\n",
    "fig.add_trace(go.Scatter(\n",
    "    x=data.index,\n",
    "    y=vol_rsi,\n",
    "    name=\"Volatility RSI\",\n",
    "    yaxis=\"y3\"\n",
    "))\n",
    "\n",
    "\n",
    "fig.update_layout(\n",
    "    yaxis3=dict(\n",
    "        title=\"Volatility RSI\",\n",
    "        anchor=\"free\",\n",
    "        overlaying=\"y\",\n",
    "        side=\"right\",\n",
    "        position=1.0,\n",
    "        showgrid=False\n",
    "    )\n",
    ")\n",
    "\n",
    "fig.update_layout(\n",
    "    title=\"Preço PETR4.SA e Volatility Entropy\",\n",
    "    xaxis_title=\"Data\",\n",
    "    yaxis=dict(title=\"Preço PETR4.SA\"),\n",
    "    yaxis2=dict(title=\"Volatility Entropy\", overlaying=\"y\", side=\"right\"),\n",
    "    legend=dict(x=0.01, y=0.99)\n",
    ")\n",
    "\n",
    "fig.show(fig_type=\"png\")"
   ]
  },
  {
   "cell_type": "markdown",
   "id": "b2616779",
   "metadata": {},
   "source": [
    "# Bollinger's Band"
   ]
  },
  {
   "cell_type": "code",
   "execution_count": 9,
   "id": "8294c290",
   "metadata": {},
   "outputs": [
    {
     "data": {
      "text/plain": [
       "np.int64(52)"
      ]
     },
     "execution_count": 9,
     "metadata": {},
     "output_type": "execute_result"
    }
   ],
   "source": [
    "np.sum(bollinger_bands(data[\"Close\"][\"PETR4.SA\"]))"
   ]
  },
  {
   "cell_type": "code",
   "execution_count": 10,
   "id": "9273e72e",
   "metadata": {},
   "outputs": [
    {
     "data": {
      "text/plain": [
       "np.int64(170)"
      ]
     },
     "execution_count": 10,
     "metadata": {},
     "output_type": "execute_result"
    }
   ],
   "source": [
    "np.sum(bollinger_bands(data[\"Close\"][\"PETR4.SA\"], center=np.median, spread=mad))"
   ]
  },
  {
   "cell_type": "markdown",
   "id": "418522a7",
   "metadata": {},
   "source": [
    "# Hampel Filter"
   ]
  },
  {
   "cell_type": "code",
   "execution_count": 11,
   "id": "c83ba089",
   "metadata": {},
   "outputs": [],
   "source": [
    "hf = hampel_filter(data[\"Close\"][\"PETR4.SA\"], rolling_window=7)"
   ]
  },
  {
   "cell_type": "code",
   "execution_count": 12,
   "id": "80bd8c86",
   "metadata": {},
   "outputs": [
    {
     "data": {
      "text/plain": [
       "Date\n",
       "2024-05-22    30.161886\n",
       "2024-07-04    31.138037\n",
       "2024-10-09    31.938406\n",
       "2025-02-07    33.884270\n",
       "Name: PETR4.SA, dtype: float64"
      ]
     },
     "execution_count": 12,
     "metadata": {},
     "output_type": "execute_result"
    }
   ],
   "source": [
    "data[\"Close\"][\"PETR4.SA\"][hf]"
   ]
  },
  {
   "cell_type": "markdown",
   "id": "d721a459",
   "metadata": {},
   "source": [
    "# ADI-CV Framework"
   ]
  },
  {
   "cell_type": "code",
   "execution_count": 13,
   "id": "d7ad151f",
   "metadata": {},
   "outputs": [
    {
     "data": {
      "text/plain": [
       "(np.float64(1.0), np.float64(6.46760510320525e+33))"
      ]
     },
     "execution_count": 13,
     "metadata": {},
     "output_type": "execute_result"
    }
   ],
   "source": [
    "adi_cv(r)"
   ]
  },
  {
   "cell_type": "markdown",
   "id": "b21e8f9d",
   "metadata": {},
   "source": [
    "# Sampen"
   ]
  },
  {
   "cell_type": "code",
   "execution_count": 14,
   "id": "b778bd0d",
   "metadata": {},
   "outputs": [
    {
     "data": {
      "text/plain": [
       "np.float64(1.6244757897986408)"
      ]
     },
     "execution_count": 14,
     "metadata": {},
     "output_type": "execute_result"
    }
   ],
   "source": [
    "sample_entropy(r, m=3)"
   ]
  },
  {
   "cell_type": "code",
   "execution_count": 15,
   "id": "e80832d8",
   "metadata": {},
   "outputs": [
    {
     "data": {
      "text/plain": [
       "np.float64(0.16791509477225003)"
      ]
     },
     "execution_count": 15,
     "metadata": {},
     "output_type": "execute_result"
    }
   ],
   "source": [
    "sample_entropy(pure_sine, m=2)"
   ]
  },
  {
   "cell_type": "markdown",
   "id": "64a5edd7",
   "metadata": {},
   "source": [
    "# Foreca"
   ]
  },
  {
   "cell_type": "code",
   "execution_count": 16,
   "id": "869394e7",
   "metadata": {},
   "outputs": [
    {
     "data": {
      "text/plain": [
       "0.07349902258197427"
      ]
     },
     "execution_count": 16,
     "metadata": {},
     "output_type": "execute_result"
    }
   ],
   "source": [
    "foreca(r)"
   ]
  },
  {
   "cell_type": "code",
   "execution_count": 17,
   "id": "7a6b7954",
   "metadata": {},
   "outputs": [
    {
     "data": {
      "text/plain": [
       "array([0.14383075, 0.14383075, 0.14383075, 0.14383075, 0.14383075,\n",
       "       0.14383075, 0.14383075, 0.14383075, 0.14383075, 0.14383075,\n",
       "       0.14383075, 0.14383075, 0.14383075, 0.14383075, 0.14383075,\n",
       "       0.14383075, 0.14383075, 0.14383075, 0.14383075, 0.14383075,\n",
       "       0.14383075, 0.14383075, 0.14383075, 0.14383075, 0.14383075,\n",
       "       0.14383075, 0.14383075, 0.14383075, 0.14383075, 0.14383075,\n",
       "       0.14383075, 0.14383075, 0.14383075, 0.14383075, 0.14383075,\n",
       "       0.14383075, 0.14383075, 0.14383075, 0.14383075, 0.14383075,\n",
       "       0.14383075, 0.14383075, 0.14383075, 0.14383075, 0.14383075,\n",
       "       0.14383075, 0.14383075, 0.14383075, 0.14383075, 0.14383075,\n",
       "       0.14383075, 0.14383075, 0.14383075, 0.14383075, 0.14383075,\n",
       "       0.14383075, 0.14383075, 0.14383075, 0.14383075, 0.14383075,\n",
       "       0.13523053, 0.13534337, 0.13264001, 0.14032901, 0.13470122,\n",
       "       0.12967856, 0.12326388, 0.12346543, 0.11431636, 0.12105159,\n",
       "       0.1210061 , 0.1164302 , 0.12136722, 0.12150846, 0.12041851,\n",
       "       0.12596453, 0.1283164 , 0.13092357, 0.1325557 , 0.13255919,\n",
       "       0.12967171, 0.1292875 , 0.13722297, 0.15134877, 0.15318455,\n",
       "       0.15521535, 0.1319661 , 0.11191362, 0.10817757, 0.11033597,\n",
       "       0.11129778, 0.11132968, 0.11194303, 0.11050732, 0.11168713,\n",
       "       0.10790557, 0.10420258, 0.11926361, 0.11858665, 0.120078  ,\n",
       "       0.13273227, 0.13071561, 0.12245032, 0.11394063, 0.10983082,\n",
       "       0.13388303, 0.14430998, 0.1250746 , 0.14128012, 0.14132077,\n",
       "       0.14494168, 0.15537185, 0.15238327, 0.12410262, 0.12410264,\n",
       "       0.12419626, 0.12730925, 0.11931539, 0.12316824, 0.11669397,\n",
       "       0.10343641, 0.10243313, 0.10366219, 0.1002233 , 0.10464275,\n",
       "       0.10209213, 0.10697905, 0.10550335, 0.10585746, 0.11456133,\n",
       "       0.11699807, 0.11849561, 0.11642965, 0.11618517, 0.1145601 ,\n",
       "       0.13084361, 0.12147806, 0.1251578 , 0.13277609, 0.1322586 ,\n",
       "       0.13712308, 0.1412959 , 0.13402634, 0.13247338, 0.13101313,\n",
       "       0.12407564, 0.111994  , 0.1115644 , 0.11806868, 0.11106973,\n",
       "       0.16007602, 0.15655975, 0.14614536, 0.14539438, 0.14504731,\n",
       "       0.14508331, 0.15314716, 0.14225864, 0.13889281, 0.13492226,\n",
       "       0.13521199, 0.12372708, 0.11939906, 0.11950042, 0.11203608,\n",
       "       0.10847364, 0.10975571, 0.08873023, 0.08851435, 0.0972827 ,\n",
       "       0.10073604, 0.09936535, 0.11324115, 0.12035913, 0.11119563,\n",
       "       0.11113659, 0.11951011, 0.12066641, 0.1090151 , 0.10602891,\n",
       "       0.1081802 , 0.10490541, 0.11187638, 0.10576877, 0.11461686,\n",
       "       0.11241358, 0.12489926, 0.1196773 , 0.12274476, 0.11714675,\n",
       "       0.11572144, 0.11846973, 0.1162501 , 0.11560314, 0.1160147 ,\n",
       "       0.11596594, 0.11762976, 0.14155899, 0.17035475, 0.16945815,\n",
       "       0.17115841, 0.16859189, 0.15979815, 0.16658868, 0.1647512 ,\n",
       "       0.16193143, 0.15733919, 0.15719539, 0.15658755, 0.15613351,\n",
       "       0.12666353, 0.11267978, 0.10108104, 0.09432257, 0.0994104 ,\n",
       "       0.10061053, 0.10656958, 0.10665322, 0.11128804, 0.11139925,\n",
       "       0.11295764, 0.11250869, 0.10640012, 0.10650834, 0.09846211,\n",
       "       0.10120729, 0.09833339, 0.0894814 , 0.08852887, 0.1023228 ,\n",
       "       0.10325349, 0.10148628, 0.09695197, 0.09931998, 0.09847108,\n",
       "       0.10828066, 0.10625387, 0.10482304, 0.10590564, 0.11669138,\n",
       "       0.11300845, 0.11822417, 0.11388998, 0.11508957, 0.12316119,\n",
       "       0.12023733, 0.11760847, 0.11668507, 0.11641535, 0.1285297 ,\n",
       "       0.1297875 , 0.12879782, 0.13009849, 0.13933151, 0.13199119,\n",
       "       0.13506112, 0.13076533, 0.12801135, 0.12635364, 0.13137078,\n",
       "       0.12916872, 0.13007625, 0.1356207 , 0.13446222, 0.14677412,\n",
       "       0.13944463, 0.10688686, 0.10641209, 0.11192983, 0.11405006,\n",
       "       0.11287346, 0.11486729, 0.11959145, 0.11713206, 0.10625146,\n",
       "       0.09757028, 0.11316219, 0.11362928, 0.11663626, 0.11289633,\n",
       "       0.11612748, 0.11041235, 0.12765144, 0.14637583, 0.15208204,\n",
       "       0.15162367, 0.15113577, 0.14457537, 0.14291806, 0.14869701,\n",
       "       0.1388186 , 0.13869521, 0.13984566, 0.12819409, 0.13365547,\n",
       "       0.14700488, 0.1423911 , 0.14280033, 0.13940062, 0.14583963,\n",
       "       0.14777698, 0.15262814, 0.13344463, 0.1347237 , 0.12482201,\n",
       "       0.11038633, 0.12387727, 0.12405428, 0.12793167, 0.12754846,\n",
       "       0.11778852, 0.11837621, 0.12083112, 0.1199632 , 0.11979881,\n",
       "       0.12381572, 0.12362495, 0.13269244, 0.12143089, 0.12177132,\n",
       "       0.13175113, 0.13342802, 0.13064574, 0.13055635, 0.14037073,\n",
       "       0.14203231, 0.14308707, 0.14297658, 0.14600329, 0.14826701,\n",
       "       0.14754511, 0.14028908, 0.12386288, 0.12309805, 0.12424067,\n",
       "       0.12610341, 0.13765204, 0.13923776, 0.10746513, 0.10533851,\n",
       "       0.1342955 , 0.14310513, 0.12407771, 0.1239268 , 0.13531647,\n",
       "       0.13494282, 0.13311833, 0.13304908, 0.12408558, 0.17438416,\n",
       "       0.17776789, 0.12111176, 0.12226995, 0.12260791, 0.13751859,\n",
       "       0.11742428, 0.11834513, 0.11834044, 0.14530288, 0.14611901,\n",
       "       0.14669659, 0.14886661, 0.1654464 , 0.16171499, 0.17010674,\n",
       "       0.16144248, 0.15952003, 0.15389164, 0.14520515, 0.16369834,\n",
       "       0.16326823, 0.16461488, 0.17724582, 0.19296217, 0.22436222,\n",
       "       0.2446119 , 0.20856429, 0.13828337, 0.13532489, 0.13457831,\n",
       "       0.12296786, 0.12125325, 0.12487529, 0.12781193, 0.12473771,\n",
       "       0.12466265, 0.13008388, 0.12961444, 0.1304656 , 0.11864068,\n",
       "       0.11301856, 0.12360912, 0.11869626, 0.11735678, 0.12072994,\n",
       "       0.12225452, 0.12398028, 0.11959807, 0.11991448, 0.11886889,\n",
       "       0.11317859, 0.11177191, 0.11049292, 0.12134419, 0.12332488,\n",
       "       0.12141455, 0.11986933, 0.11674538, 0.11923326, 0.10496669,\n",
       "       0.10143536, 0.10280557, 0.10207262, 0.09635466, 0.09664974,\n",
       "       0.09746228, 0.10086806, 0.11045555, 0.10940881, 0.11017131,\n",
       "       0.12011813, 0.11444571, 0.12109679, 0.12061169, 0.11983748,\n",
       "       0.11853242, 0.11076071, 0.11552482, 0.11071934, 0.11063085,\n",
       "       0.10979637, 0.11045773, 0.11210829, 0.1181081 , 0.1406283 ,\n",
       "       0.12803714, 0.12563366, 0.11297469, 0.12108105, 0.12139584,\n",
       "       0.1266878 , 0.1242604 , 0.11809878, 0.11415205, 0.11083175,\n",
       "       0.11324601, 0.10681943, 0.10592772, 0.10993057, 0.11681273,\n",
       "       0.1156959 , 0.12793831, 0.12922309, 0.13064676, 0.13630983,\n",
       "       0.13501043, 0.14300652, 0.1458027 , 0.14550597, 0.13282949,\n",
       "       0.13281648, 0.1352335 , 0.13228267, 0.13175485, 0.13339248,\n",
       "       0.13596778, 0.12829316, 0.12764996, 0.12917422, 0.11432767,\n",
       "       0.1079038 , 0.11444562, 0.10388555, 0.11904961, 0.12058103,\n",
       "       0.11869331, 0.11094955, 0.09364355, 0.09191255, 0.08427491,\n",
       "       0.08991545, 0.07714269, 0.08051607, 0.08136487, 0.08389682,\n",
       "       0.08789417, 0.09375598, 0.10951575, 0.10912591, 0.10967368,\n",
       "       0.11180067, 0.12916658, 0.12677065, 0.12911438, 0.12847024,\n",
       "       0.12836328, 0.12901556, 0.1265975 , 0.12654158, 0.12880654])"
      ]
     },
     "execution_count": 17,
     "metadata": {},
     "output_type": "execute_result"
    }
   ],
   "source": [
    "trailing_window(r, rolling_window=60, func=foreca)"
   ]
  },
  {
   "cell_type": "code",
   "execution_count": 18,
   "id": "f3ce2558",
   "metadata": {},
   "outputs": [
    {
     "data": {
      "text/plain": [
       "0.9993976808641186"
      ]
     },
     "execution_count": 18,
     "metadata": {},
     "output_type": "execute_result"
    }
   ],
   "source": [
    "foreca(pure_sine)"
   ]
  },
  {
   "cell_type": "code",
   "execution_count": 19,
   "id": "78bcc5cb",
   "metadata": {},
   "outputs": [
    {
     "data": {
      "text/plain": [
       "array([0.87814292, 0.87814292, 0.87814292, 0.87814292, 0.87814292,\n",
       "       0.87814292, 0.87814292, 0.87814292, 0.87814292, 0.87814292,\n",
       "       0.87814292, 0.87814292, 0.87814292, 0.87814292, 0.87814292,\n",
       "       0.87814292, 0.87814292, 0.87814292, 0.87814292, 0.87814292,\n",
       "       0.87814292, 0.87814292, 0.87814292, 0.87814292, 0.87814292,\n",
       "       0.87814292, 0.87814292, 0.87814292, 0.87814292, 0.87814292,\n",
       "       0.87814292, 0.87814292, 0.87814292, 0.87814292, 0.87814292,\n",
       "       0.87814292, 0.87814292, 0.87814292, 0.87814292, 0.87814292,\n",
       "       0.87814292, 0.87814292, 0.87814292, 0.87814292, 0.87814292,\n",
       "       0.87814292, 0.87814292, 0.87814292, 0.87814292, 0.87814292,\n",
       "       0.87814292, 0.87814292, 0.87814292, 0.87814292, 0.87814292,\n",
       "       0.87814292, 0.87814292, 0.87814292, 0.87814292, 0.87814292,\n",
       "       0.85659439, 0.83599743, 0.81701635, 0.79995579, 0.78488091,\n",
       "       0.77171463, 0.76030651, 0.75047711, 0.74204419, 0.73483677,\n",
       "       0.72870169, 0.72350584, 0.7191359 , 0.71549702, 0.7125111 ,\n",
       "       0.71011489, 0.70825837, 0.70690328, 0.70602203, 0.70559683,\n",
       "       0.70561914, 0.70608941, 0.70701709, 0.70842091, 0.7103295 ,\n",
       "       0.71278222, 0.71583036, 0.71953856, 0.72398654, 0.7292709 ,\n",
       "       0.73550688, 0.74282964, 0.75139426, 0.76137323, 0.77294932,\n",
       "       0.78630048, 0.80157218, 0.81883082, 0.83799213, 0.85872118,\n",
       "       0.88031077, 0.90156475, 0.92073967, 0.93561753, 0.94376518,\n",
       "       0.94306497, 0.93375548, 0.91807901, 0.89846048, 0.87705837,\n",
       "       0.85553466, 0.83500622, 0.81611639, 0.79915509, 0.78417832,\n",
       "       0.7711039 , 0.75977908, 0.75002379, 0.74165607, 0.73450573,\n",
       "       0.72842062, 0.72326859, 0.7189373 , 0.7153328 , 0.71237775,\n",
       "       0.71000961, 0.70817897, 0.70684815, 0.70599004, 0.70558734,\n",
       "       0.70563197, 0.70612481, 0.70707577, 0.70850407, 0.71043884,\n",
       "       0.71292001, 0.7159995 , 0.71974266, 0.72423002, 0.72955906,\n",
       "       0.735846  , 0.74322701, 0.75185813, 0.76191257, 0.77357332,\n",
       "       0.78701749, 0.80238787, 0.81974528, 0.83899551, 0.85978801,\n",
       "       0.8813937 , 0.90258966, 0.92160557, 0.93620488, 0.94395386,\n",
       "       0.9427877 , 0.93310249, 0.91717214, 0.89741669, 0.87597363,\n",
       "       0.85447751, 0.83401918, 0.81522129, 0.79835938, 0.78348049,\n",
       "       0.77049754, 0.75925558, 0.74957392, 0.74127098, 0.73417736,\n",
       "       0.72814187, 0.72303339, 0.71874052, 0.7151702 , 0.71224587,\n",
       "       0.70990568, 0.70810083, 0.7067942 , 0.70595919, 0.70557898,\n",
       "       0.70564592, 0.70616136, 0.70713565, 0.70858849, 0.71054954,\n",
       "       0.71305929, 0.71617029, 0.71994862, 0.72447559, 0.7298496 ,\n",
       "       0.73618785, 0.7436275 , 0.75232554, 0.76245593, 0.77420178,\n",
       "       0.78773932, 0.80320856, 0.82066452, 0.84000282, 0.86085699,\n",
       "       0.88247573, 0.90360922, 0.92246047, 0.93677507, 0.94411978,\n",
       "       0.94248894, 0.93243387, 0.91625577, 0.89636879, 0.87488887,\n",
       "       0.85342306, 0.83303637, 0.81433108, 0.79756865, 0.78278741,\n",
       "       0.76989555, 0.75873597, 0.7491275 , 0.74088891, 0.73385163,\n",
       "       0.72786543, 0.72280022, 0.71854555, 0.71500922, 0.71211544,\n",
       "       0.70980307, 0.70802393, 0.70674142, 0.70592948, 0.70557173,\n",
       "       0.70566099, 0.70619905, 0.70719672, 0.70867418, 0.71066161,\n",
       "       0.71320007, 0.71634274, 0.72015644, 0.72472328, 0.73014256,\n",
       "       0.73653244, 0.74403113, 0.75279654, 0.76300333, 0.77483473,\n",
       "       0.78846601, 0.80403424, 0.82158852, 0.841014  , 0.86192797,\n",
       "       0.88355666, 0.90462317, 0.92330407, 0.93732777, 0.94426268,\n",
       "       0.94216895, 0.93174993, 0.9153302 , 0.89531703, 0.87380426,\n",
       "       0.85237141, 0.83205782, 0.81344577, 0.7967829 , 0.78209907,\n",
       "       0.76929789, 0.75822024, 0.7486845 , 0.74050985, 0.73352852,\n",
       "       0.72759129, 0.72256907, 0.71835236, 0.71484983, 0.71198647,\n",
       "       0.7097018 , 0.70794826, 0.70668982, 0.70590091, 0.7055656 ,\n",
       "       0.70567718, 0.70623789, 0.70725899, 0.70876115, 0.71077505,\n",
       "       0.71334235, 0.71651687, 0.72036614, 0.72497309, 0.73043793,\n",
       "       0.73687981, 0.74443792, 0.75327114, 0.76355479, 0.77547219,\n",
       "       0.78919755, 0.80486493, 0.82251725, 0.84202899, 0.86300086,\n",
       "       0.8846363 , 0.90563126, 0.92413607, 0.9378627 , 0.94438232,\n",
       "       0.941828  , 0.93105097, 0.91439571, 0.89426162, 0.87271997,\n",
       "       0.85132264, 0.8310836 , 0.81256538, 0.79600212, 0.78141545,\n",
       "       0.76870454, 0.75770837, 0.74824491, 0.74013376, 0.73320801,\n",
       "       0.72731944, 0.72233993, 0.71816096, 0.71469204, 0.71185893,\n",
       "       0.70960185, 0.70787384, 0.7066394 , 0.70587346, 0.70556058,\n",
       "       0.70569449, 0.70627788, 0.70732246, 0.70884939, 0.71088988,\n",
       "       0.71348615, 0.71669269, 0.72057773, 0.72522505, 0.73073575,\n",
       "       0.73722996, 0.7448479 , 0.75374936, 0.76411033, 0.77611418,\n",
       "       0.78993396, 0.80570061, 0.82345069, 0.8430477 , 0.8640755 ,\n",
       "       0.88571445, 0.90663321, 0.92495616, 0.93837954, 0.94447848,\n",
       "       0.94146637, 0.93033732, 0.9134526 , 0.89320281, 0.87163615,\n",
       "       0.85027687, 0.83011375, 0.81168991, 0.79522631, 0.78073653,\n",
       "       0.76811548, 0.75720033, 0.74780869, 0.73976063, 0.7328901 ,\n",
       "       0.72704985, 0.7221128 , 0.71797133, 0.71453584, 0.71173284,\n",
       "       0.70950323, 0.70780064, 0.70659014, 0.70584714, 0.70555668,\n",
       "       0.70571293, 0.70631901, 0.70738713, 0.70893891, 0.71100609,\n",
       "       0.71363148, 0.7168702 , 0.72079123, 0.72547916, 0.73103601,\n",
       "       0.73758292, 0.74526108, 0.75423124, 0.76466999, 0.77676071,\n",
       "       0.79067526, 0.80654129, 0.8243888 , 0.84407008, 0.86515179,\n",
       "       0.88679093, 0.90762878, 0.92576403, 0.93887801, 0.94455093,\n",
       "       0.94108433, 0.92960926, 0.91250116, 0.89214082, 0.87055297,\n",
       "       0.84923419, 0.82914832, 0.8108194 , 0.79445546, 0.7800623 ,\n",
       "       0.76753069, 0.75669609, 0.74737582, 0.73939044, 0.73257475,\n",
       "       0.72678252, 0.72188764, 0.71778346, 0.71438121, 0.71160818,\n",
       "       0.70940592, 0.70772867, 0.70654205, 0.70582196, 0.7055539 ,\n",
       "       0.70573248, 0.70636131, 0.70745301, 0.70902972, 0.7111237 ,\n",
       "       0.71377833, 0.71704941, 0.72100664, 0.72573544, 0.73133875,\n",
       "       0.7379387 , 0.74567749, 0.75471678, 0.76523377, 0.77741181,\n",
       "       0.79142146, 0.80738695, 0.82533156, 0.84509604, 0.86622957,\n",
       "       0.88786552, 0.90861768, 0.92655937, 0.9393578 , 0.94459944,\n",
       "       0.94068217, 0.92886713, 0.91154166, 0.89107588, 0.86947057,\n",
       "       0.84819467, 0.82818734, 0.80995383, 0.79368956, 0.77939273,\n",
       "       0.76695015, 0.75619564, 0.74694629, 0.73902318, 0.73226196,\n",
       "       0.72651743, 0.72166446, 0.71759735, 0.71422816, 0.71148494,\n",
       "       0.70930991, 0.70765793, 0.70649512, 0.7057979 , 0.70555222,\n",
       "       0.70575316, 0.70640475, 0.7075201 , 0.70912182, 0.7112427 ,\n",
       "       0.71392673, 0.71723033, 0.72122397, 0.7259939 , 0.73164398,\n",
       "       0.73829732, 0.74609715, 0.75520601, 0.76580171, 0.7780675 ,\n",
       "       0.79217257, 0.8082376 , 0.82627892, 0.84612552, 0.86730873,\n",
       "       0.88893801, 0.90959964, 0.92734188, 0.93981862, 0.9446238 ,\n",
       "       0.94026017, 0.92811124, 0.9105744 , 0.8900082 , 0.86838911,\n",
       "       0.84715842, 0.82723087, 0.80909323, 0.7929286 , 0.7787278 ,\n",
       "       0.76637383, 0.75569896, 0.74652008, 0.73865881, 0.73195171,\n",
       "       0.72625456, 0.72144324, 0.71741297, 0.71407666, 0.71136311,\n",
       "       0.70921522, 0.70758841, 0.70644936, 0.70577497, 0.70555167,\n",
       "       0.70577497, 0.70644936, 0.70758841, 0.70921522, 0.71136311,\n",
       "       0.71407666, 0.71741297, 0.72144324, 0.72625456, 0.73195171,\n",
       "       0.73865881, 0.74652008, 0.75569896, 0.76637383, 0.7787278 ,\n",
       "       0.7929286 , 0.80909323, 0.82723087, 0.84715842, 0.86838911,\n",
       "       0.8900082 , 0.9105744 , 0.92811124, 0.94026017, 0.9446238 ,\n",
       "       0.93981862, 0.92734188, 0.90959964, 0.88893801, 0.86730873,\n",
       "       0.84612552, 0.82627892, 0.8082376 , 0.79217257, 0.7780675 ,\n",
       "       0.76580171, 0.75520601, 0.74609715, 0.73829732, 0.73164398,\n",
       "       0.7259939 , 0.72122397, 0.71723033, 0.71392673, 0.7112427 ,\n",
       "       0.70912182, 0.7075201 , 0.70640475, 0.70575316, 0.70555222,\n",
       "       0.7057979 , 0.70649512, 0.70765793, 0.70930991, 0.71148494,\n",
       "       0.71422816, 0.71759735, 0.72166446, 0.72651743, 0.73226196,\n",
       "       0.73902318, 0.74694629, 0.75619564, 0.76695015, 0.77939273,\n",
       "       0.79368956, 0.80995383, 0.82818734, 0.84819467, 0.86947057,\n",
       "       0.89107588, 0.91154166, 0.92886713, 0.94068217, 0.94459944,\n",
       "       0.9393578 , 0.92655937, 0.90861768, 0.88786552, 0.86622957,\n",
       "       0.84509604, 0.82533156, 0.80738695, 0.79142146, 0.77741181,\n",
       "       0.76523377, 0.75471678, 0.74567749, 0.7379387 , 0.73133875,\n",
       "       0.72573544, 0.72100664, 0.71704941, 0.71377833, 0.7111237 ,\n",
       "       0.70902972, 0.70745301, 0.70636131, 0.70573248, 0.7055539 ,\n",
       "       0.70582196, 0.70654205, 0.70772867, 0.70940592, 0.71160818,\n",
       "       0.71438121, 0.71778346, 0.72188764, 0.72678252, 0.73257475,\n",
       "       0.73939044, 0.74737582, 0.75669609, 0.76753069, 0.7800623 ,\n",
       "       0.79445546, 0.8108194 , 0.82914832, 0.84923419, 0.87055297,\n",
       "       0.89214082, 0.91250116, 0.92960926, 0.94108433, 0.94455093,\n",
       "       0.93887801, 0.92576403, 0.90762878, 0.88679093, 0.86515179,\n",
       "       0.84407008, 0.8243888 , 0.80654129, 0.79067526, 0.77676071,\n",
       "       0.76466999, 0.75423124, 0.74526108, 0.73758292, 0.73103601,\n",
       "       0.72547916, 0.72079123, 0.7168702 , 0.71363148, 0.71100609,\n",
       "       0.70893891, 0.70738713, 0.70631901, 0.70571293, 0.70555668,\n",
       "       0.70584714, 0.70659014, 0.70780064, 0.70950323, 0.71173284,\n",
       "       0.71453584, 0.71797133, 0.7221128 , 0.72704985, 0.7328901 ,\n",
       "       0.73976063, 0.74780869, 0.75720033, 0.76811548, 0.78073653,\n",
       "       0.79522631, 0.81168991, 0.83011375, 0.85027687, 0.87163615,\n",
       "       0.89320281, 0.9134526 , 0.93033732, 0.94146637, 0.94447848,\n",
       "       0.93837954, 0.92495616, 0.90663321, 0.88571445, 0.8640755 ,\n",
       "       0.8430477 , 0.82345069, 0.80570061, 0.78993396, 0.77611418,\n",
       "       0.76411033, 0.75374936, 0.7448479 , 0.73722996, 0.73073575,\n",
       "       0.72522505, 0.72057773, 0.71669269, 0.71348615, 0.71088988,\n",
       "       0.70884939, 0.70732246, 0.70627788, 0.70569449, 0.70556058,\n",
       "       0.70587346, 0.7066394 , 0.70787384, 0.70960185, 0.71185893,\n",
       "       0.71469204, 0.71816096, 0.72233993, 0.72731944, 0.73320801,\n",
       "       0.74013376, 0.74824491, 0.75770837, 0.76870454, 0.78141545,\n",
       "       0.79600212, 0.81256538, 0.8310836 , 0.85132264, 0.87271997,\n",
       "       0.89426162, 0.91439571, 0.93105097, 0.941828  , 0.94438232,\n",
       "       0.9378627 , 0.92413607, 0.90563126, 0.8846363 , 0.86300086,\n",
       "       0.84202899, 0.82251725, 0.80486493, 0.78919755, 0.77547219,\n",
       "       0.76355479, 0.75327114, 0.74443792, 0.73687981, 0.73043793,\n",
       "       0.72497309, 0.72036614, 0.71651687, 0.71334235, 0.71077505,\n",
       "       0.70876115, 0.70725899, 0.70623789, 0.70567718, 0.7055656 ,\n",
       "       0.70590091, 0.70668982, 0.70794826, 0.7097018 , 0.71198647,\n",
       "       0.71484983, 0.71835236, 0.72256907, 0.72759129, 0.73352852,\n",
       "       0.74050985, 0.7486845 , 0.75822024, 0.76929789, 0.78209907,\n",
       "       0.7967829 , 0.81344577, 0.83205782, 0.85237141, 0.87380426,\n",
       "       0.89531703, 0.9153302 , 0.93174993, 0.94216895, 0.94426268,\n",
       "       0.93732777, 0.92330407, 0.90462317, 0.88355666, 0.86192797,\n",
       "       0.841014  , 0.82158852, 0.80403424, 0.78846601, 0.77483473,\n",
       "       0.76300333, 0.75279654, 0.74403113, 0.73653244, 0.73014256,\n",
       "       0.72472328, 0.72015644, 0.71634274, 0.71320007, 0.71066161,\n",
       "       0.70867418, 0.70719672, 0.70619905, 0.70566099, 0.70557173,\n",
       "       0.70592948, 0.70674142, 0.70802393, 0.70980307, 0.71211544,\n",
       "       0.71500922, 0.71854555, 0.72280022, 0.72786543, 0.73385163,\n",
       "       0.74088891, 0.7491275 , 0.75873597, 0.76989555, 0.78278741,\n",
       "       0.79756865, 0.81433108, 0.83303637, 0.85342306, 0.87488887,\n",
       "       0.89636879, 0.91625577, 0.93243387, 0.94248894, 0.94411978,\n",
       "       0.93677507, 0.92246047, 0.90360922, 0.88247573, 0.86085699,\n",
       "       0.84000282, 0.82066452, 0.80320856, 0.78773932, 0.77420178,\n",
       "       0.76245593, 0.75232554, 0.7436275 , 0.73618785, 0.7298496 ,\n",
       "       0.72447559, 0.71994862, 0.71617029, 0.71305929, 0.71054954,\n",
       "       0.70858849, 0.70713565, 0.70616136, 0.70564592, 0.70557898,\n",
       "       0.70595919, 0.7067942 , 0.70810083, 0.70990568, 0.71224587,\n",
       "       0.7151702 , 0.71874052, 0.72303339, 0.72814187, 0.73417736,\n",
       "       0.74127098, 0.74957392, 0.75925558, 0.77049754, 0.78348049,\n",
       "       0.79835938, 0.81522129, 0.83401918, 0.85447751, 0.87597363,\n",
       "       0.89741669, 0.91717214, 0.93310249, 0.9427877 , 0.94395386,\n",
       "       0.93620488, 0.92160557, 0.90258966, 0.8813937 , 0.85978801,\n",
       "       0.83899551, 0.81974528, 0.80238787, 0.78701749, 0.77357332,\n",
       "       0.76191257, 0.75185813, 0.74322701, 0.735846  , 0.72955906,\n",
       "       0.72423002, 0.71974266, 0.7159995 , 0.71292001, 0.71043884,\n",
       "       0.70850407, 0.70707577, 0.70612481, 0.70563197, 0.70558734,\n",
       "       0.70599004, 0.70684815, 0.70817897, 0.71000961, 0.71237775,\n",
       "       0.7153328 , 0.7189373 , 0.72326859, 0.72842062, 0.73450573,\n",
       "       0.74165607, 0.75002379, 0.75977908, 0.7711039 , 0.78417832,\n",
       "       0.79915509, 0.81611639, 0.83500622, 0.85553466, 0.87705837,\n",
       "       0.89846048, 0.91807901, 0.93375548, 0.94306497, 0.94376518,\n",
       "       0.93561753, 0.92073967, 0.90156475, 0.88031077, 0.85872118,\n",
       "       0.83799213, 0.81883082, 0.80157218, 0.78630048, 0.77294932,\n",
       "       0.76137323, 0.75139426, 0.74282964, 0.73550688, 0.7292709 ,\n",
       "       0.72398654, 0.71953856, 0.71583036, 0.71278222, 0.7103295 ,\n",
       "       0.70842091, 0.70701709, 0.70608941, 0.70561914, 0.70559683,\n",
       "       0.70602203, 0.70690328, 0.70825837, 0.71011489, 0.7125111 ,\n",
       "       0.71549702, 0.7191359 , 0.72350584, 0.72870169, 0.73483677,\n",
       "       0.74204419, 0.75047711, 0.76030651, 0.77171463, 0.78488091,\n",
       "       0.79995579, 0.81701635, 0.83599743, 0.85659439, 0.87814292])"
      ]
     },
     "execution_count": 19,
     "metadata": {},
     "output_type": "execute_result"
    }
   ],
   "source": [
    "trailing_window(pure_sine, rolling_window=60, func=foreca)"
   ]
  },
  {
   "cell_type": "markdown",
   "id": "adc90af6",
   "metadata": {},
   "source": [
    "# Hurst's Exponent"
   ]
  },
  {
   "cell_type": "code",
   "execution_count": 22,
   "id": "86205dab",
   "metadata": {},
   "outputs": [
    {
     "data": {
      "text/plain": [
       "(0.4297225166410454, 0.15931552616930444)"
      ]
     },
     "execution_count": 22,
     "metadata": {},
     "output_type": "execute_result"
    }
   ],
   "source": [
    "hurst_exponent(r)"
   ]
  },
  {
   "cell_type": "code",
   "execution_count": 23,
   "id": "4afa7740",
   "metadata": {},
   "outputs": [
    {
     "data": {
      "application/vnd.plotly.v1+json": {
       "config": {
        "plotlyServerURL": "https://plot.ly"
       },
       "data": [
        {
         "name": "Preço PETR4.SA",
         "type": "scatter",
         "x": [
          "2023-10-03T00:00:00.000000000",
          "2023-10-04T00:00:00.000000000",
          "2023-10-05T00:00:00.000000000",
          "2023-10-06T00:00:00.000000000",
          "2023-10-09T00:00:00.000000000",
          "2023-10-10T00:00:00.000000000",
          "2023-10-11T00:00:00.000000000",
          "2023-10-13T00:00:00.000000000",
          "2023-10-16T00:00:00.000000000",
          "2023-10-17T00:00:00.000000000",
          "2023-10-18T00:00:00.000000000",
          "2023-10-19T00:00:00.000000000",
          "2023-10-20T00:00:00.000000000",
          "2023-10-23T00:00:00.000000000",
          "2023-10-24T00:00:00.000000000",
          "2023-10-25T00:00:00.000000000",
          "2023-10-26T00:00:00.000000000",
          "2023-10-27T00:00:00.000000000",
          "2023-10-30T00:00:00.000000000",
          "2023-10-31T00:00:00.000000000",
          "2023-11-01T00:00:00.000000000",
          "2023-11-03T00:00:00.000000000",
          "2023-11-06T00:00:00.000000000",
          "2023-11-07T00:00:00.000000000",
          "2023-11-08T00:00:00.000000000",
          "2023-11-09T00:00:00.000000000",
          "2023-11-10T00:00:00.000000000",
          "2023-11-13T00:00:00.000000000",
          "2023-11-14T00:00:00.000000000",
          "2023-11-16T00:00:00.000000000",
          "2023-11-17T00:00:00.000000000",
          "2023-11-20T00:00:00.000000000",
          "2023-11-21T00:00:00.000000000",
          "2023-11-22T00:00:00.000000000",
          "2023-11-23T00:00:00.000000000",
          "2023-11-24T00:00:00.000000000",
          "2023-11-27T00:00:00.000000000",
          "2023-11-28T00:00:00.000000000",
          "2023-11-29T00:00:00.000000000",
          "2023-11-30T00:00:00.000000000",
          "2023-12-01T00:00:00.000000000",
          "2023-12-04T00:00:00.000000000",
          "2023-12-05T00:00:00.000000000",
          "2023-12-06T00:00:00.000000000",
          "2023-12-07T00:00:00.000000000",
          "2023-12-08T00:00:00.000000000",
          "2023-12-11T00:00:00.000000000",
          "2023-12-12T00:00:00.000000000",
          "2023-12-13T00:00:00.000000000",
          "2023-12-14T00:00:00.000000000",
          "2023-12-15T00:00:00.000000000",
          "2023-12-18T00:00:00.000000000",
          "2023-12-19T00:00:00.000000000",
          "2023-12-20T00:00:00.000000000",
          "2023-12-21T00:00:00.000000000",
          "2023-12-22T00:00:00.000000000",
          "2023-12-26T00:00:00.000000000",
          "2023-12-27T00:00:00.000000000",
          "2023-12-28T00:00:00.000000000",
          "2024-01-02T00:00:00.000000000",
          "2024-01-03T00:00:00.000000000",
          "2024-01-04T00:00:00.000000000",
          "2024-01-05T00:00:00.000000000",
          "2024-01-08T00:00:00.000000000",
          "2024-01-09T00:00:00.000000000",
          "2024-01-10T00:00:00.000000000",
          "2024-01-11T00:00:00.000000000",
          "2024-01-12T00:00:00.000000000",
          "2024-01-15T00:00:00.000000000",
          "2024-01-16T00:00:00.000000000",
          "2024-01-17T00:00:00.000000000",
          "2024-01-18T00:00:00.000000000",
          "2024-01-19T00:00:00.000000000",
          "2024-01-22T00:00:00.000000000",
          "2024-01-23T00:00:00.000000000",
          "2024-01-24T00:00:00.000000000",
          "2024-01-25T00:00:00.000000000",
          "2024-01-26T00:00:00.000000000",
          "2024-01-29T00:00:00.000000000",
          "2024-01-30T00:00:00.000000000",
          "2024-01-31T00:00:00.000000000",
          "2024-02-01T00:00:00.000000000",
          "2024-02-02T00:00:00.000000000",
          "2024-02-05T00:00:00.000000000",
          "2024-02-06T00:00:00.000000000",
          "2024-02-07T00:00:00.000000000",
          "2024-02-08T00:00:00.000000000",
          "2024-02-09T00:00:00.000000000",
          "2024-02-14T00:00:00.000000000",
          "2024-02-15T00:00:00.000000000",
          "2024-02-16T00:00:00.000000000",
          "2024-02-19T00:00:00.000000000",
          "2024-02-20T00:00:00.000000000",
          "2024-02-21T00:00:00.000000000",
          "2024-02-22T00:00:00.000000000",
          "2024-02-23T00:00:00.000000000",
          "2024-02-26T00:00:00.000000000",
          "2024-02-27T00:00:00.000000000",
          "2024-02-28T00:00:00.000000000",
          "2024-02-29T00:00:00.000000000",
          "2024-03-01T00:00:00.000000000",
          "2024-03-04T00:00:00.000000000",
          "2024-03-05T00:00:00.000000000",
          "2024-03-06T00:00:00.000000000",
          "2024-03-07T00:00:00.000000000",
          "2024-03-08T00:00:00.000000000",
          "2024-03-11T00:00:00.000000000",
          "2024-03-12T00:00:00.000000000",
          "2024-03-13T00:00:00.000000000",
          "2024-03-14T00:00:00.000000000",
          "2024-03-15T00:00:00.000000000",
          "2024-03-18T00:00:00.000000000",
          "2024-03-19T00:00:00.000000000",
          "2024-03-20T00:00:00.000000000",
          "2024-03-21T00:00:00.000000000",
          "2024-03-22T00:00:00.000000000",
          "2024-03-25T00:00:00.000000000",
          "2024-03-26T00:00:00.000000000",
          "2024-03-27T00:00:00.000000000",
          "2024-03-28T00:00:00.000000000",
          "2024-04-01T00:00:00.000000000",
          "2024-04-02T00:00:00.000000000",
          "2024-04-03T00:00:00.000000000",
          "2024-04-04T00:00:00.000000000",
          "2024-04-05T00:00:00.000000000",
          "2024-04-08T00:00:00.000000000",
          "2024-04-09T00:00:00.000000000",
          "2024-04-10T00:00:00.000000000",
          "2024-04-11T00:00:00.000000000",
          "2024-04-12T00:00:00.000000000",
          "2024-04-15T00:00:00.000000000",
          "2024-04-16T00:00:00.000000000",
          "2024-04-17T00:00:00.000000000",
          "2024-04-18T00:00:00.000000000",
          "2024-04-19T00:00:00.000000000",
          "2024-04-22T00:00:00.000000000",
          "2024-04-23T00:00:00.000000000",
          "2024-04-24T00:00:00.000000000",
          "2024-04-25T00:00:00.000000000",
          "2024-04-26T00:00:00.000000000",
          "2024-04-29T00:00:00.000000000",
          "2024-04-30T00:00:00.000000000",
          "2024-05-02T00:00:00.000000000",
          "2024-05-03T00:00:00.000000000",
          "2024-05-06T00:00:00.000000000",
          "2024-05-07T00:00:00.000000000",
          "2024-05-08T00:00:00.000000000",
          "2024-05-09T00:00:00.000000000",
          "2024-05-10T00:00:00.000000000",
          "2024-05-13T00:00:00.000000000",
          "2024-05-14T00:00:00.000000000",
          "2024-05-15T00:00:00.000000000",
          "2024-05-16T00:00:00.000000000",
          "2024-05-17T00:00:00.000000000",
          "2024-05-20T00:00:00.000000000",
          "2024-05-21T00:00:00.000000000",
          "2024-05-22T00:00:00.000000000",
          "2024-05-23T00:00:00.000000000",
          "2024-05-24T00:00:00.000000000",
          "2024-05-27T00:00:00.000000000",
          "2024-05-28T00:00:00.000000000",
          "2024-05-29T00:00:00.000000000",
          "2024-05-31T00:00:00.000000000",
          "2024-06-03T00:00:00.000000000",
          "2024-06-04T00:00:00.000000000",
          "2024-06-05T00:00:00.000000000",
          "2024-06-06T00:00:00.000000000",
          "2024-06-07T00:00:00.000000000",
          "2024-06-10T00:00:00.000000000",
          "2024-06-11T00:00:00.000000000",
          "2024-06-12T00:00:00.000000000",
          "2024-06-13T00:00:00.000000000",
          "2024-06-14T00:00:00.000000000",
          "2024-06-17T00:00:00.000000000",
          "2024-06-18T00:00:00.000000000",
          "2024-06-19T00:00:00.000000000",
          "2024-06-20T00:00:00.000000000",
          "2024-06-21T00:00:00.000000000",
          "2024-06-24T00:00:00.000000000",
          "2024-06-25T00:00:00.000000000",
          "2024-06-26T00:00:00.000000000",
          "2024-06-27T00:00:00.000000000",
          "2024-06-28T00:00:00.000000000",
          "2024-07-01T00:00:00.000000000",
          "2024-07-02T00:00:00.000000000",
          "2024-07-03T00:00:00.000000000",
          "2024-07-04T00:00:00.000000000",
          "2024-07-05T00:00:00.000000000",
          "2024-07-08T00:00:00.000000000",
          "2024-07-09T00:00:00.000000000",
          "2024-07-10T00:00:00.000000000",
          "2024-07-11T00:00:00.000000000",
          "2024-07-12T00:00:00.000000000",
          "2024-07-15T00:00:00.000000000",
          "2024-07-16T00:00:00.000000000",
          "2024-07-17T00:00:00.000000000",
          "2024-07-18T00:00:00.000000000",
          "2024-07-19T00:00:00.000000000",
          "2024-07-22T00:00:00.000000000",
          "2024-07-23T00:00:00.000000000",
          "2024-07-24T00:00:00.000000000",
          "2024-07-25T00:00:00.000000000",
          "2024-07-26T00:00:00.000000000",
          "2024-07-29T00:00:00.000000000",
          "2024-07-30T00:00:00.000000000",
          "2024-07-31T00:00:00.000000000",
          "2024-08-01T00:00:00.000000000",
          "2024-08-02T00:00:00.000000000",
          "2024-08-05T00:00:00.000000000",
          "2024-08-06T00:00:00.000000000",
          "2024-08-07T00:00:00.000000000",
          "2024-08-08T00:00:00.000000000",
          "2024-08-09T00:00:00.000000000",
          "2024-08-12T00:00:00.000000000",
          "2024-08-13T00:00:00.000000000",
          "2024-08-14T00:00:00.000000000",
          "2024-08-15T00:00:00.000000000",
          "2024-08-16T00:00:00.000000000",
          "2024-08-19T00:00:00.000000000",
          "2024-08-20T00:00:00.000000000",
          "2024-08-21T00:00:00.000000000",
          "2024-08-22T00:00:00.000000000",
          "2024-08-23T00:00:00.000000000",
          "2024-08-26T00:00:00.000000000",
          "2024-08-27T00:00:00.000000000",
          "2024-08-28T00:00:00.000000000",
          "2024-08-29T00:00:00.000000000",
          "2024-08-30T00:00:00.000000000",
          "2024-09-02T00:00:00.000000000",
          "2024-09-03T00:00:00.000000000",
          "2024-09-04T00:00:00.000000000",
          "2024-09-05T00:00:00.000000000",
          "2024-09-06T00:00:00.000000000",
          "2024-09-09T00:00:00.000000000",
          "2024-09-10T00:00:00.000000000",
          "2024-09-11T00:00:00.000000000",
          "2024-09-12T00:00:00.000000000",
          "2024-09-13T00:00:00.000000000",
          "2024-09-16T00:00:00.000000000",
          "2024-09-17T00:00:00.000000000",
          "2024-09-18T00:00:00.000000000",
          "2024-09-19T00:00:00.000000000",
          "2024-09-20T00:00:00.000000000",
          "2024-09-23T00:00:00.000000000",
          "2024-09-24T00:00:00.000000000",
          "2024-09-25T00:00:00.000000000",
          "2024-09-26T00:00:00.000000000",
          "2024-09-27T00:00:00.000000000",
          "2024-09-30T00:00:00.000000000",
          "2024-10-01T00:00:00.000000000",
          "2024-10-02T00:00:00.000000000",
          "2024-10-03T00:00:00.000000000",
          "2024-10-04T00:00:00.000000000",
          "2024-10-07T00:00:00.000000000",
          "2024-10-08T00:00:00.000000000",
          "2024-10-09T00:00:00.000000000",
          "2024-10-10T00:00:00.000000000",
          "2024-10-11T00:00:00.000000000",
          "2024-10-14T00:00:00.000000000",
          "2024-10-15T00:00:00.000000000",
          "2024-10-16T00:00:00.000000000",
          "2024-10-17T00:00:00.000000000",
          "2024-10-18T00:00:00.000000000",
          "2024-10-21T00:00:00.000000000",
          "2024-10-22T00:00:00.000000000",
          "2024-10-23T00:00:00.000000000",
          "2024-10-24T00:00:00.000000000",
          "2024-10-25T00:00:00.000000000",
          "2024-10-28T00:00:00.000000000",
          "2024-10-29T00:00:00.000000000",
          "2024-10-30T00:00:00.000000000",
          "2024-10-31T00:00:00.000000000",
          "2024-11-01T00:00:00.000000000",
          "2024-11-04T00:00:00.000000000",
          "2024-11-05T00:00:00.000000000",
          "2024-11-06T00:00:00.000000000",
          "2024-11-07T00:00:00.000000000",
          "2024-11-08T00:00:00.000000000",
          "2024-11-11T00:00:00.000000000",
          "2024-11-12T00:00:00.000000000",
          "2024-11-13T00:00:00.000000000",
          "2024-11-14T00:00:00.000000000",
          "2024-11-18T00:00:00.000000000",
          "2024-11-19T00:00:00.000000000",
          "2024-11-21T00:00:00.000000000",
          "2024-11-22T00:00:00.000000000",
          "2024-11-25T00:00:00.000000000",
          "2024-11-26T00:00:00.000000000",
          "2024-11-27T00:00:00.000000000",
          "2024-11-28T00:00:00.000000000",
          "2024-11-29T00:00:00.000000000",
          "2024-12-02T00:00:00.000000000",
          "2024-12-03T00:00:00.000000000",
          "2024-12-04T00:00:00.000000000",
          "2024-12-05T00:00:00.000000000",
          "2024-12-06T00:00:00.000000000",
          "2024-12-09T00:00:00.000000000",
          "2024-12-10T00:00:00.000000000",
          "2024-12-11T00:00:00.000000000",
          "2024-12-12T00:00:00.000000000",
          "2024-12-13T00:00:00.000000000",
          "2024-12-16T00:00:00.000000000",
          "2024-12-17T00:00:00.000000000",
          "2024-12-18T00:00:00.000000000",
          "2024-12-19T00:00:00.000000000",
          "2024-12-20T00:00:00.000000000",
          "2024-12-23T00:00:00.000000000",
          "2024-12-26T00:00:00.000000000",
          "2024-12-27T00:00:00.000000000",
          "2024-12-30T00:00:00.000000000",
          "2025-01-02T00:00:00.000000000",
          "2025-01-03T00:00:00.000000000",
          "2025-01-06T00:00:00.000000000",
          "2025-01-07T00:00:00.000000000",
          "2025-01-08T00:00:00.000000000",
          "2025-01-09T00:00:00.000000000",
          "2025-01-10T00:00:00.000000000",
          "2025-01-13T00:00:00.000000000",
          "2025-01-14T00:00:00.000000000",
          "2025-01-15T00:00:00.000000000",
          "2025-01-16T00:00:00.000000000",
          "2025-01-17T00:00:00.000000000",
          "2025-01-20T00:00:00.000000000",
          "2025-01-21T00:00:00.000000000",
          "2025-01-22T00:00:00.000000000",
          "2025-01-23T00:00:00.000000000",
          "2025-01-24T00:00:00.000000000",
          "2025-01-27T00:00:00.000000000",
          "2025-01-28T00:00:00.000000000",
          "2025-01-29T00:00:00.000000000",
          "2025-01-30T00:00:00.000000000",
          "2025-01-31T00:00:00.000000000",
          "2025-02-03T00:00:00.000000000",
          "2025-02-04T00:00:00.000000000",
          "2025-02-05T00:00:00.000000000",
          "2025-02-06T00:00:00.000000000",
          "2025-02-07T00:00:00.000000000",
          "2025-02-10T00:00:00.000000000",
          "2025-02-11T00:00:00.000000000",
          "2025-02-12T00:00:00.000000000",
          "2025-02-13T00:00:00.000000000",
          "2025-02-14T00:00:00.000000000",
          "2025-02-17T00:00:00.000000000",
          "2025-02-18T00:00:00.000000000",
          "2025-02-19T00:00:00.000000000",
          "2025-02-20T00:00:00.000000000",
          "2025-02-21T00:00:00.000000000",
          "2025-02-24T00:00:00.000000000",
          "2025-02-25T00:00:00.000000000",
          "2025-02-26T00:00:00.000000000",
          "2025-02-27T00:00:00.000000000",
          "2025-02-28T00:00:00.000000000",
          "2025-03-05T00:00:00.000000000",
          "2025-03-06T00:00:00.000000000",
          "2025-03-07T00:00:00.000000000",
          "2025-03-10T00:00:00.000000000",
          "2025-03-11T00:00:00.000000000",
          "2025-03-12T00:00:00.000000000",
          "2025-03-13T00:00:00.000000000",
          "2025-03-14T00:00:00.000000000",
          "2025-03-17T00:00:00.000000000",
          "2025-03-18T00:00:00.000000000",
          "2025-03-19T00:00:00.000000000",
          "2025-03-20T00:00:00.000000000",
          "2025-03-21T00:00:00.000000000",
          "2025-03-24T00:00:00.000000000",
          "2025-03-25T00:00:00.000000000",
          "2025-03-26T00:00:00.000000000",
          "2025-03-27T00:00:00.000000000",
          "2025-03-28T00:00:00.000000000",
          "2025-03-31T00:00:00.000000000",
          "2025-04-01T00:00:00.000000000",
          "2025-04-02T00:00:00.000000000",
          "2025-04-03T00:00:00.000000000",
          "2025-04-04T00:00:00.000000000",
          "2025-04-07T00:00:00.000000000",
          "2025-04-08T00:00:00.000000000",
          "2025-04-09T00:00:00.000000000",
          "2025-04-10T00:00:00.000000000",
          "2025-04-11T00:00:00.000000000",
          "2025-04-14T00:00:00.000000000",
          "2025-04-15T00:00:00.000000000",
          "2025-04-16T00:00:00.000000000",
          "2025-04-17T00:00:00.000000000",
          "2025-04-22T00:00:00.000000000",
          "2025-04-23T00:00:00.000000000",
          "2025-04-24T00:00:00.000000000",
          "2025-04-25T00:00:00.000000000",
          "2025-04-28T00:00:00.000000000",
          "2025-04-29T00:00:00.000000000",
          "2025-04-30T00:00:00.000000000",
          "2025-05-02T00:00:00.000000000",
          "2025-05-05T00:00:00.000000000",
          "2025-05-06T00:00:00.000000000",
          "2025-05-07T00:00:00.000000000",
          "2025-05-08T00:00:00.000000000",
          "2025-05-09T00:00:00.000000000",
          "2025-05-12T00:00:00.000000000",
          "2025-05-13T00:00:00.000000000",
          "2025-05-14T00:00:00.000000000",
          "2025-05-15T00:00:00.000000000",
          "2025-05-16T00:00:00.000000000",
          "2025-05-19T00:00:00.000000000",
          "2025-05-20T00:00:00.000000000",
          "2025-05-21T00:00:00.000000000",
          "2025-05-22T00:00:00.000000000",
          "2025-05-23T00:00:00.000000000",
          "2025-05-26T00:00:00.000000000",
          "2025-05-27T00:00:00.000000000",
          "2025-05-28T00:00:00.000000000",
          "2025-05-29T00:00:00.000000000",
          "2025-05-30T00:00:00.000000000",
          "2025-06-02T00:00:00.000000000",
          "2025-06-03T00:00:00.000000000",
          "2025-06-04T00:00:00.000000000",
          "2025-06-05T00:00:00.000000000",
          "2025-06-06T00:00:00.000000000",
          "2025-06-09T00:00:00.000000000",
          "2025-06-10T00:00:00.000000000",
          "2025-06-11T00:00:00.000000000",
          "2025-06-12T00:00:00.000000000",
          "2025-06-13T00:00:00.000000000",
          "2025-06-16T00:00:00.000000000",
          "2025-06-17T00:00:00.000000000",
          "2025-06-18T00:00:00.000000000",
          "2025-06-20T00:00:00.000000000",
          "2025-06-23T00:00:00.000000000",
          "2025-06-24T00:00:00.000000000",
          "2025-06-25T00:00:00.000000000",
          "2025-06-26T00:00:00.000000000",
          "2025-06-27T00:00:00.000000000",
          "2025-06-30T00:00:00.000000000",
          "2025-07-01T00:00:00.000000000",
          "2025-07-02T00:00:00.000000000",
          "2025-07-03T00:00:00.000000000",
          "2025-07-04T00:00:00.000000000",
          "2025-07-07T00:00:00.000000000",
          "2025-07-08T00:00:00.000000000",
          "2025-07-09T00:00:00.000000000",
          "2025-07-10T00:00:00.000000000",
          "2025-07-11T00:00:00.000000000",
          "2025-07-14T00:00:00.000000000",
          "2025-07-15T00:00:00.000000000",
          "2025-07-16T00:00:00.000000000",
          "2025-07-17T00:00:00.000000000",
          "2025-07-18T00:00:00.000000000",
          "2025-07-21T00:00:00.000000000",
          "2025-07-22T00:00:00.000000000",
          "2025-07-23T00:00:00.000000000",
          "2025-07-24T00:00:00.000000000",
          "2025-07-25T00:00:00.000000000",
          "2025-07-28T00:00:00.000000000",
          "2025-07-29T00:00:00.000000000",
          "2025-07-30T00:00:00.000000000",
          "2025-07-31T00:00:00.000000000",
          "2025-08-01T00:00:00.000000000",
          "2025-08-04T00:00:00.000000000",
          "2025-08-05T00:00:00.000000000",
          "2025-08-06T00:00:00.000000000",
          "2025-08-07T00:00:00.000000000",
          "2025-08-08T00:00:00.000000000",
          "2025-08-11T00:00:00.000000000",
          "2025-08-12T00:00:00.000000000",
          "2025-08-13T00:00:00.000000000",
          "2025-08-14T00:00:00.000000000",
          "2025-08-15T00:00:00.000000000",
          "2025-08-18T00:00:00.000000000",
          "2025-08-19T00:00:00.000000000",
          "2025-08-20T00:00:00.000000000",
          "2025-08-21T00:00:00.000000000",
          "2025-08-22T00:00:00.000000000",
          "2025-08-25T00:00:00.000000000",
          "2025-08-26T00:00:00.000000000",
          "2025-08-27T00:00:00.000000000",
          "2025-08-28T00:00:00.000000000",
          "2025-08-29T00:00:00.000000000",
          "2025-09-01T00:00:00.000000000",
          "2025-09-02T00:00:00.000000000",
          "2025-09-03T00:00:00.000000000",
          "2025-09-04T00:00:00.000000000",
          "2025-09-05T00:00:00.000000000",
          "2025-09-08T00:00:00.000000000",
          "2025-09-09T00:00:00.000000000",
          "2025-09-10T00:00:00.000000000",
          "2025-09-11T00:00:00.000000000",
          "2025-09-12T00:00:00.000000000",
          "2025-09-15T00:00:00.000000000",
          "2025-09-16T00:00:00.000000000",
          "2025-09-17T00:00:00.000000000",
          "2025-09-18T00:00:00.000000000",
          "2025-09-19T00:00:00.000000000",
          "2025-09-22T00:00:00.000000000",
          "2025-09-23T00:00:00.000000000",
          "2025-09-24T00:00:00.000000000",
          "2025-09-25T00:00:00.000000000",
          "2025-09-26T00:00:00.000000000",
          "2025-09-29T00:00:00.000000000",
          "2025-09-30T00:00:00.000000000",
          "2025-10-01T00:00:00.000000000",
          "2025-10-02T00:00:00.000000000",
          "2025-10-03T00:00:00.000000000"
         ],
         "y": {
          "bdata": "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",
          "dtype": "f8"
         },
         "yaxis": "y"
        }
       ],
       "layout": {
        "template": {
         "data": {
          "bar": [
           {
            "error_x": {
             "color": "#2a3f5f"
            },
            "error_y": {
             "color": "#2a3f5f"
            },
            "marker": {
             "line": {
              "color": "#E5ECF6",
              "width": 0.5
             },
             "pattern": {
              "fillmode": "overlay",
              "size": 10,
              "solidity": 0.2
             }
            },
            "type": "bar"
           }
          ],
          "barpolar": [
           {
            "marker": {
             "line": {
              "color": "#E5ECF6",
              "width": 0.5
             },
             "pattern": {
              "fillmode": "overlay",
              "size": 10,
              "solidity": 0.2
             }
            },
            "type": "barpolar"
           }
          ],
          "carpet": [
           {
            "aaxis": {
             "endlinecolor": "#2a3f5f",
             "gridcolor": "white",
             "linecolor": "white",
             "minorgridcolor": "white",
             "startlinecolor": "#2a3f5f"
            },
            "baxis": {
             "endlinecolor": "#2a3f5f",
             "gridcolor": "white",
             "linecolor": "white",
             "minorgridcolor": "white",
             "startlinecolor": "#2a3f5f"
            },
            "type": "carpet"
           }
          ],
          "choropleth": [
           {
            "colorbar": {
             "outlinewidth": 0,
             "ticks": ""
            },
            "type": "choropleth"
           }
          ],
          "contour": [
           {
            "colorbar": {
             "outlinewidth": 0,
             "ticks": ""
            },
            "colorscale": [
             [
              0,
              "#0d0887"
             ],
             [
              0.1111111111111111,
              "#46039f"
             ],
             [
              0.2222222222222222,
              "#7201a8"
             ],
             [
              0.3333333333333333,
              "#9c179e"
             ],
             [
              0.4444444444444444,
              "#bd3786"
             ],
             [
              0.5555555555555556,
              "#d8576b"
             ],
             [
              0.6666666666666666,
              "#ed7953"
             ],
             [
              0.7777777777777778,
              "#fb9f3a"
             ],
             [
              0.8888888888888888,
              "#fdca26"
             ],
             [
              1,
              "#f0f921"
             ]
            ],
            "type": "contour"
           }
          ],
          "contourcarpet": [
           {
            "colorbar": {
             "outlinewidth": 0,
             "ticks": ""
            },
            "type": "contourcarpet"
           }
          ],
          "heatmap": [
           {
            "colorbar": {
             "outlinewidth": 0,
             "ticks": ""
            },
            "colorscale": [
             [
              0,
              "#0d0887"
             ],
             [
              0.1111111111111111,
              "#46039f"
             ],
             [
              0.2222222222222222,
              "#7201a8"
             ],
             [
              0.3333333333333333,
              "#9c179e"
             ],
             [
              0.4444444444444444,
              "#bd3786"
             ],
             [
              0.5555555555555556,
              "#d8576b"
             ],
             [
              0.6666666666666666,
              "#ed7953"
             ],
             [
              0.7777777777777778,
              "#fb9f3a"
             ],
             [
              0.8888888888888888,
              "#fdca26"
             ],
             [
              1,
              "#f0f921"
             ]
            ],
            "type": "heatmap"
           }
          ],
          "histogram": [
           {
            "marker": {
             "pattern": {
              "fillmode": "overlay",
              "size": 10,
              "solidity": 0.2
             }
            },
            "type": "histogram"
           }
          ],
          "histogram2d": [
           {
            "colorbar": {
             "outlinewidth": 0,
             "ticks": ""
            },
            "colorscale": [
             [
              0,
              "#0d0887"
             ],
             [
              0.1111111111111111,
              "#46039f"
             ],
             [
              0.2222222222222222,
              "#7201a8"
             ],
             [
              0.3333333333333333,
              "#9c179e"
             ],
             [
              0.4444444444444444,
              "#bd3786"
             ],
             [
              0.5555555555555556,
              "#d8576b"
             ],
             [
              0.6666666666666666,
              "#ed7953"
             ],
             [
              0.7777777777777778,
              "#fb9f3a"
             ],
             [
              0.8888888888888888,
              "#fdca26"
             ],
             [
              1,
              "#f0f921"
             ]
            ],
            "type": "histogram2d"
           }
          ],
          "histogram2dcontour": [
           {
            "colorbar": {
             "outlinewidth": 0,
             "ticks": ""
            },
            "colorscale": [
             [
              0,
              "#0d0887"
             ],
             [
              0.1111111111111111,
              "#46039f"
             ],
             [
              0.2222222222222222,
              "#7201a8"
             ],
             [
              0.3333333333333333,
              "#9c179e"
             ],
             [
              0.4444444444444444,
              "#bd3786"
             ],
             [
              0.5555555555555556,
              "#d8576b"
             ],
             [
              0.6666666666666666,
              "#ed7953"
             ],
             [
              0.7777777777777778,
              "#fb9f3a"
             ],
             [
              0.8888888888888888,
              "#fdca26"
             ],
             [
              1,
              "#f0f921"
             ]
            ],
            "type": "histogram2dcontour"
           }
          ],
          "mesh3d": [
           {
            "colorbar": {
             "outlinewidth": 0,
             "ticks": ""
            },
            "type": "mesh3d"
           }
          ],
          "parcoords": [
           {
            "line": {
             "colorbar": {
              "outlinewidth": 0,
              "ticks": ""
             }
            },
            "type": "parcoords"
           }
          ],
          "pie": [
           {
            "automargin": true,
            "type": "pie"
           }
          ],
          "scatter": [
           {
            "fillpattern": {
             "fillmode": "overlay",
             "size": 10,
             "solidity": 0.2
            },
            "type": "scatter"
           }
          ],
          "scatter3d": [
           {
            "line": {
             "colorbar": {
              "outlinewidth": 0,
              "ticks": ""
             }
            },
            "marker": {
             "colorbar": {
              "outlinewidth": 0,
              "ticks": ""
             }
            },
            "type": "scatter3d"
           }
          ],
          "scattercarpet": [
           {
            "marker": {
             "colorbar": {
              "outlinewidth": 0,
              "ticks": ""
             }
            },
            "type": "scattercarpet"
           }
          ],
          "scattergeo": [
           {
            "marker": {
             "colorbar": {
              "outlinewidth": 0,
              "ticks": ""
             }
            },
            "type": "scattergeo"
           }
          ],
          "scattergl": [
           {
            "marker": {
             "colorbar": {
              "outlinewidth": 0,
              "ticks": ""
             }
            },
            "type": "scattergl"
           }
          ],
          "scattermap": [
           {
            "marker": {
             "colorbar": {
              "outlinewidth": 0,
              "ticks": ""
             }
            },
            "type": "scattermap"
           }
          ],
          "scattermapbox": [
           {
            "marker": {
             "colorbar": {
              "outlinewidth": 0,
              "ticks": ""
             }
            },
            "type": "scattermapbox"
           }
          ],
          "scatterpolar": [
           {
            "marker": {
             "colorbar": {
              "outlinewidth": 0,
              "ticks": ""
             }
            },
            "type": "scatterpolar"
           }
          ],
          "scatterpolargl": [
           {
            "marker": {
             "colorbar": {
              "outlinewidth": 0,
              "ticks": ""
             }
            },
            "type": "scatterpolargl"
           }
          ],
          "scatterternary": [
           {
            "marker": {
             "colorbar": {
              "outlinewidth": 0,
              "ticks": ""
             }
            },
            "type": "scatterternary"
           }
          ],
          "surface": [
           {
            "colorbar": {
             "outlinewidth": 0,
             "ticks": ""
            },
            "colorscale": [
             [
              0,
              "#0d0887"
             ],
             [
              0.1111111111111111,
              "#46039f"
             ],
             [
              0.2222222222222222,
              "#7201a8"
             ],
             [
              0.3333333333333333,
              "#9c179e"
             ],
             [
              0.4444444444444444,
              "#bd3786"
             ],
             [
              0.5555555555555556,
              "#d8576b"
             ],
             [
              0.6666666666666666,
              "#ed7953"
             ],
             [
              0.7777777777777778,
              "#fb9f3a"
             ],
             [
              0.8888888888888888,
              "#fdca26"
             ],
             [
              1,
              "#f0f921"
             ]
            ],
            "type": "surface"
           }
          ],
          "table": [
           {
            "cells": {
             "fill": {
              "color": "#EBF0F8"
             },
             "line": {
              "color": "white"
             }
            },
            "header": {
             "fill": {
              "color": "#C8D4E3"
             },
             "line": {
              "color": "white"
             }
            },
            "type": "table"
           }
          ]
         },
         "layout": {
          "annotationdefaults": {
           "arrowcolor": "#2a3f5f",
           "arrowhead": 0,
           "arrowwidth": 1
          },
          "autotypenumbers": "strict",
          "coloraxis": {
           "colorbar": {
            "outlinewidth": 0,
            "ticks": ""
           }
          },
          "colorscale": {
           "diverging": [
            [
             0,
             "#8e0152"
            ],
            [
             0.1,
             "#c51b7d"
            ],
            [
             0.2,
             "#de77ae"
            ],
            [
             0.3,
             "#f1b6da"
            ],
            [
             0.4,
             "#fde0ef"
            ],
            [
             0.5,
             "#f7f7f7"
            ],
            [
             0.6,
             "#e6f5d0"
            ],
            [
             0.7,
             "#b8e186"
            ],
            [
             0.8,
             "#7fbc41"
            ],
            [
             0.9,
             "#4d9221"
            ],
            [
             1,
             "#276419"
            ]
           ],
           "sequential": [
            [
             0,
             "#0d0887"
            ],
            [
             0.1111111111111111,
             "#46039f"
            ],
            [
             0.2222222222222222,
             "#7201a8"
            ],
            [
             0.3333333333333333,
             "#9c179e"
            ],
            [
             0.4444444444444444,
             "#bd3786"
            ],
            [
             0.5555555555555556,
             "#d8576b"
            ],
            [
             0.6666666666666666,
             "#ed7953"
            ],
            [
             0.7777777777777778,
             "#fb9f3a"
            ],
            [
             0.8888888888888888,
             "#fdca26"
            ],
            [
             1,
             "#f0f921"
            ]
           ],
           "sequentialminus": [
            [
             0,
             "#0d0887"
            ],
            [
             0.1111111111111111,
             "#46039f"
            ],
            [
             0.2222222222222222,
             "#7201a8"
            ],
            [
             0.3333333333333333,
             "#9c179e"
            ],
            [
             0.4444444444444444,
             "#bd3786"
            ],
            [
             0.5555555555555556,
             "#d8576b"
            ],
            [
             0.6666666666666666,
             "#ed7953"
            ],
            [
             0.7777777777777778,
             "#fb9f3a"
            ],
            [
             0.8888888888888888,
             "#fdca26"
            ],
            [
             1,
             "#f0f921"
            ]
           ]
          },
          "colorway": [
           "#636efa",
           "#EF553B",
           "#00cc96",
           "#ab63fa",
           "#FFA15A",
           "#19d3f3",
           "#FF6692",
           "#B6E880",
           "#FF97FF",
           "#FECB52"
          ],
          "font": {
           "color": "#2a3f5f"
          },
          "geo": {
           "bgcolor": "white",
           "lakecolor": "white",
           "landcolor": "#E5ECF6",
           "showlakes": true,
           "showland": true,
           "subunitcolor": "white"
          },
          "hoverlabel": {
           "align": "left"
          },
          "hovermode": "closest",
          "mapbox": {
           "style": "light"
          },
          "paper_bgcolor": "white",
          "plot_bgcolor": "#E5ECF6",
          "polar": {
           "angularaxis": {
            "gridcolor": "white",
            "linecolor": "white",
            "ticks": ""
           },
           "bgcolor": "#E5ECF6",
           "radialaxis": {
            "gridcolor": "white",
            "linecolor": "white",
            "ticks": ""
           }
          },
          "scene": {
           "xaxis": {
            "backgroundcolor": "#E5ECF6",
            "gridcolor": "white",
            "gridwidth": 2,
            "linecolor": "white",
            "showbackground": true,
            "ticks": "",
            "zerolinecolor": "white"
           },
           "yaxis": {
            "backgroundcolor": "#E5ECF6",
            "gridcolor": "white",
            "gridwidth": 2,
            "linecolor": "white",
            "showbackground": true,
            "ticks": "",
            "zerolinecolor": "white"
           },
           "zaxis": {
            "backgroundcolor": "#E5ECF6",
            "gridcolor": "white",
            "gridwidth": 2,
            "linecolor": "white",
            "showbackground": true,
            "ticks": "",
            "zerolinecolor": "white"
           }
          },
          "shapedefaults": {
           "line": {
            "color": "#2a3f5f"
           }
          },
          "ternary": {
           "aaxis": {
            "gridcolor": "white",
            "linecolor": "white",
            "ticks": ""
           },
           "baxis": {
            "gridcolor": "white",
            "linecolor": "white",
            "ticks": ""
           },
           "bgcolor": "#E5ECF6",
           "caxis": {
            "gridcolor": "white",
            "linecolor": "white",
            "ticks": ""
           }
          },
          "title": {
           "x": 0.05
          },
          "xaxis": {
           "automargin": true,
           "gridcolor": "white",
           "linecolor": "white",
           "ticks": "",
           "title": {
            "standoff": 15
           },
           "zerolinecolor": "white",
           "zerolinewidth": 2
          },
          "yaxis": {
           "automargin": true,
           "gridcolor": "white",
           "linecolor": "white",
           "ticks": "",
           "title": {
            "standoff": 15
           },
           "zerolinecolor": "white",
           "zerolinewidth": 2
          }
         }
        }
       }
      }
     },
     "metadata": {},
     "output_type": "display_data"
    }
   ],
   "source": [
    "fig = go.Figure()\n",
    "\n",
    "fig.add_trace(go.Scatter(\n",
    "    y=data[\"Close\"][\"PETR4.SA\"],\n",
    "    x=data.index,\n",
    "    name=\"Preço PETR4.SA\",\n",
    "    yaxis=\"y1\"\n",
    "))\n",
    "\n",
    "\n",
    "fig.show(fig_type=\"png\")"
   ]
  },
  {
   "cell_type": "code",
   "execution_count": 24,
   "id": "d01899f8",
   "metadata": {},
   "outputs": [],
   "source": [
    "np.random.seed(42)\n",
    "n_points = 1000\n",
    "trend = np.linspace(0, 10, n_points)\n",
    "noise_trend = np.cumsum(standard_normal(n_points) * 0.1)\n",
    "mean_reversion = np.zeros(n_points)\n",
    "for t in range(1, n_points):\n",
    "    mean_reversion[t] = mean_reversion[t-1] * 0.6 + standard_normal() * 0.5\n",
    "brownian = np.cumsum(standard_normal(n_points))"
   ]
  },
  {
   "cell_type": "code",
   "execution_count": 25,
   "id": "77aea94b",
   "metadata": {},
   "outputs": [
    {
     "data": {
      "text/plain": [
       "(0.6419241912818302, 0.000952023886777138)"
      ]
     },
     "execution_count": 25,
     "metadata": {},
     "output_type": "execute_result"
    }
   ],
   "source": [
    "hurst_exponent(noise_trend)"
   ]
  },
  {
   "cell_type": "code",
   "execution_count": 26,
   "id": "df47c202",
   "metadata": {},
   "outputs": [
    {
     "data": {
      "text/plain": [
       "(0.3685698852341455, 0.05402692976986088)"
      ]
     },
     "execution_count": 26,
     "metadata": {},
     "output_type": "execute_result"
    }
   ],
   "source": [
    "hurst_exponent(mean_reversion)"
   ]
  },
  {
   "cell_type": "code",
   "execution_count": 27,
   "id": "c80e44d7",
   "metadata": {},
   "outputs": [
    {
     "data": {
      "text/plain": [
       "(0.8575205638768405, 0.0014654668633357023)"
      ]
     },
     "execution_count": 27,
     "metadata": {},
     "output_type": "execute_result"
    }
   ],
   "source": [
    "hurst_exponent(pure_sine)"
   ]
  }
 ],
 "metadata": {
  "kernelspec": {
   "display_name": "tinyshift",
   "language": "python",
   "name": "python3"
  },
  "language_info": {
   "codemirror_mode": {
    "name": "ipython",
    "version": 3
   },
   "file_extension": ".py",
   "mimetype": "text/x-python",
   "name": "python",
   "nbconvert_exporter": "python",
   "pygments_lexer": "ipython3",
   "version": "3.12.3"
  }
 },
 "nbformat": 4,
 "nbformat_minor": 5
}
