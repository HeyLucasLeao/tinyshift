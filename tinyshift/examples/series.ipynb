{
 "cells": [
  {
   "cell_type": "code",
   "execution_count": null,
   "id": "f56fe688",
   "metadata": {},
   "outputs": [],
   "source": [
    "import sys\n",
    "import os\n",
    "sys.path.append(os.path.abspath(\"../..\"))\n",
    "import numpy as np\n",
    "import yfinance as yf\n",
    "import plotly.express as px\n",
    "from tinyshift.series import relative_strength_index, bollinger_bands, adi_cv, foreca, maximum_achievable_accuracy, sample_entropy, hampel_filter, hurst_exponent, standardize_returns\n",
    "from tinyshift.stats import trailing_window, mad\n",
    "from numpy.random import standard_normal"
   ]
  },
  {
   "cell_type": "code",
   "execution_count": 67,
   "id": "3e5496d5",
   "metadata": {},
   "outputs": [
    {
     "name": "stderr",
     "output_type": "stream",
     "text": [
      "[*********************100%***********************]  1 of 1 completed\n"
     ]
    }
   ],
   "source": [
    "ticker = 'PETR4.SA'\n",
    "period = '2y'\n",
    "data = yf.download(ticker, period=period, interval=\"1d\", auto_adjust=True)\n",
    "t = np.linspace(0, 10, 1000)\n",
    "pure_sine = np.sin(2 * np.pi * 1 * t)  # Perfectly forecastable"
   ]
  },
  {
   "cell_type": "code",
   "execution_count": 68,
   "id": "98b6bb91",
   "metadata": {},
   "outputs": [],
   "source": [
    "r = standardize_returns(data[\"Close\"][\"PETR4.SA\"], log=False)"
   ]
  },
  {
   "cell_type": "markdown",
   "id": "20d495d4",
   "metadata": {},
   "source": [
    "# RSI"
   ]
  },
  {
   "cell_type": "code",
   "execution_count": 69,
   "id": "6ae9593c",
   "metadata": {},
   "outputs": [],
   "source": [
    "vol_rsi = relative_strength_index(data[\"Close\"][\"PETR4.SA\"], rolling_window=14)"
   ]
  },
  {
   "cell_type": "code",
   "execution_count": 70,
   "id": "f05842ae",
   "metadata": {},
   "outputs": [
    {
     "data": {
      "application/vnd.plotly.v1+json": {
       "config": {
        "plotlyServerURL": "https://plot.ly"
       },
       "data": [
        {
         "hovertemplate": "variable=0<br>index=%{x}<br>value=%{y}<extra></extra>",
         "legendgroup": "0",
         "line": {
          "color": "#636efa",
          "dash": "solid"
         },
         "marker": {
          "symbol": "circle"
         },
         "mode": "lines",
         "name": "0",
         "orientation": "v",
         "showlegend": true,
         "type": "scatter",
         "x": {
          "bdata": "AAABAAIAAwAEAAUABgAHAAgACQAKAAsADAANAA4ADwAQABEAEgATABQAFQAWABcAGAAZABoAGwAcAB0AHgAfACAAIQAiACMAJAAlACYAJwAoACkAKgArACwALQAuAC8AMAAxADIAMwA0ADUANgA3ADgAOQA6ADsAPAA9AD4APwBAAEEAQgBDAEQARQBGAEcASABJAEoASwBMAE0ATgBPAFAAUQBSAFMAVABVAFYAVwBYAFkAWgBbAFwAXQBeAF8AYABhAGIAYwBkAGUAZgBnAGgAaQBqAGsAbABtAG4AbwBwAHEAcgBzAHQAdQB2AHcAeAB5AHoAewB8AH0AfgB/AIAAgQCCAIMAhACFAIYAhwCIAIkAigCLAIwAjQCOAI8AkACRAJIAkwCUAJUAlgCXAJgAmQCaAJsAnACdAJ4AnwCgAKEAogCjAKQApQCmAKcAqACpAKoAqwCsAK0ArgCvALAAsQCyALMAtAC1ALYAtwC4ALkAugC7ALwAvQC+AL8AwADBAMIAwwDEAMUAxgDHAMgAyQDKAMsAzADNAM4AzwDQANEA0gDTANQA1QDWANcA2ADZANoA2wDcAN0A3gDfAOAA4QDiAOMA5ADlAOYA5wDoAOkA6gDrAOwA7QDuAO8A8ADxAPIA8wD0APUA9gD3APgA+QD6APsA/AD9AP4A/wAAAQEBAgEDAQQBBQEGAQcBCAEJAQoBCwEMAQ0BDgEPARABEQESARMBFAEVARYBFwEYARkBGgEbARwBHQEeAR8BIAEhASIBIwEkASUBJgEnASgBKQEqASsBLAEtAS4BLwEwATEBMgEzATQBNQE2ATcBOAE5AToBOwE8AT0BPgE/AUABQQFCAUMBRAFFAUYBRwFIAUkBSgFLAUwBTQFOAU8BUAFRAVIBUwFUAVUBVgFXAVgBWQFaAVsBXAFdAV4BXwFgAWEBYgFjAWQBZQFmAWcBaAFpAWoBawFsAW0BbgFvAXABcQFyAXMBdAF1AXYBdwF4AXkBegF7AXwBfQF+AX8BgAGBAYIBgwGEAYUBhgGHAYgBiQGKAYsBjAGNAY4BjwGQAZEBkgGTAZQBlQGWAZcBmAGZAZoBmwGcAZ0BngGfAaABoQGiAaMBpAGlAaYBpwGoAakBqgGrAawBrQGuAa8BsAGxAbIBswG0AbUBtgG3AbgBuQG6AbsBvAG9Ab4BvwHAAcEBwgHDAcQBxQHGAccByAHJAcoBywHMAc0BzgHPAdAB0QHSAdMB1AHVAdYB1wHYAdkB2gHbAdwB3QHeAd8B4AHhAeIB4wHkAeUB5gHnAegB6QHqAesB7AHtAe4B7wHwAfEB8gHzAfQB",
          "dtype": "i2"
         },
         "xaxis": "x",
         "y": {
          "bdata": "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",
          "dtype": "f8"
         },
         "yaxis": "y"
        }
       ],
       "layout": {
        "legend": {
         "title": {
          "text": "variable"
         },
         "tracegroupgap": 0
        },
        "template": {
         "data": {
          "bar": [
           {
            "error_x": {
             "color": "#2a3f5f"
            },
            "error_y": {
             "color": "#2a3f5f"
            },
            "marker": {
             "line": {
              "color": "#E5ECF6",
              "width": 0.5
             },
             "pattern": {
              "fillmode": "overlay",
              "size": 10,
              "solidity": 0.2
             }
            },
            "type": "bar"
           }
          ],
          "barpolar": [
           {
            "marker": {
             "line": {
              "color": "#E5ECF6",
              "width": 0.5
             },
             "pattern": {
              "fillmode": "overlay",
              "size": 10,
              "solidity": 0.2
             }
            },
            "type": "barpolar"
           }
          ],
          "carpet": [
           {
            "aaxis": {
             "endlinecolor": "#2a3f5f",
             "gridcolor": "white",
             "linecolor": "white",
             "minorgridcolor": "white",
             "startlinecolor": "#2a3f5f"
            },
            "baxis": {
             "endlinecolor": "#2a3f5f",
             "gridcolor": "white",
             "linecolor": "white",
             "minorgridcolor": "white",
             "startlinecolor": "#2a3f5f"
            },
            "type": "carpet"
           }
          ],
          "choropleth": [
           {
            "colorbar": {
             "outlinewidth": 0,
             "ticks": ""
            },
            "type": "choropleth"
           }
          ],
          "contour": [
           {
            "colorbar": {
             "outlinewidth": 0,
             "ticks": ""
            },
            "colorscale": [
             [
              0,
              "#0d0887"
             ],
             [
              0.1111111111111111,
              "#46039f"
             ],
             [
              0.2222222222222222,
              "#7201a8"
             ],
             [
              0.3333333333333333,
              "#9c179e"
             ],
             [
              0.4444444444444444,
              "#bd3786"
             ],
             [
              0.5555555555555556,
              "#d8576b"
             ],
             [
              0.6666666666666666,
              "#ed7953"
             ],
             [
              0.7777777777777778,
              "#fb9f3a"
             ],
             [
              0.8888888888888888,
              "#fdca26"
             ],
             [
              1,
              "#f0f921"
             ]
            ],
            "type": "contour"
           }
          ],
          "contourcarpet": [
           {
            "colorbar": {
             "outlinewidth": 0,
             "ticks": ""
            },
            "type": "contourcarpet"
           }
          ],
          "heatmap": [
           {
            "colorbar": {
             "outlinewidth": 0,
             "ticks": ""
            },
            "colorscale": [
             [
              0,
              "#0d0887"
             ],
             [
              0.1111111111111111,
              "#46039f"
             ],
             [
              0.2222222222222222,
              "#7201a8"
             ],
             [
              0.3333333333333333,
              "#9c179e"
             ],
             [
              0.4444444444444444,
              "#bd3786"
             ],
             [
              0.5555555555555556,
              "#d8576b"
             ],
             [
              0.6666666666666666,
              "#ed7953"
             ],
             [
              0.7777777777777778,
              "#fb9f3a"
             ],
             [
              0.8888888888888888,
              "#fdca26"
             ],
             [
              1,
              "#f0f921"
             ]
            ],
            "type": "heatmap"
           }
          ],
          "histogram": [
           {
            "marker": {
             "pattern": {
              "fillmode": "overlay",
              "size": 10,
              "solidity": 0.2
             }
            },
            "type": "histogram"
           }
          ],
          "histogram2d": [
           {
            "colorbar": {
             "outlinewidth": 0,
             "ticks": ""
            },
            "colorscale": [
             [
              0,
              "#0d0887"
             ],
             [
              0.1111111111111111,
              "#46039f"
             ],
             [
              0.2222222222222222,
              "#7201a8"
             ],
             [
              0.3333333333333333,
              "#9c179e"
             ],
             [
              0.4444444444444444,
              "#bd3786"
             ],
             [
              0.5555555555555556,
              "#d8576b"
             ],
             [
              0.6666666666666666,
              "#ed7953"
             ],
             [
              0.7777777777777778,
              "#fb9f3a"
             ],
             [
              0.8888888888888888,
              "#fdca26"
             ],
             [
              1,
              "#f0f921"
             ]
            ],
            "type": "histogram2d"
           }
          ],
          "histogram2dcontour": [
           {
            "colorbar": {
             "outlinewidth": 0,
             "ticks": ""
            },
            "colorscale": [
             [
              0,
              "#0d0887"
             ],
             [
              0.1111111111111111,
              "#46039f"
             ],
             [
              0.2222222222222222,
              "#7201a8"
             ],
             [
              0.3333333333333333,
              "#9c179e"
             ],
             [
              0.4444444444444444,
              "#bd3786"
             ],
             [
              0.5555555555555556,
              "#d8576b"
             ],
             [
              0.6666666666666666,
              "#ed7953"
             ],
             [
              0.7777777777777778,
              "#fb9f3a"
             ],
             [
              0.8888888888888888,
              "#fdca26"
             ],
             [
              1,
              "#f0f921"
             ]
            ],
            "type": "histogram2dcontour"
           }
          ],
          "mesh3d": [
           {
            "colorbar": {
             "outlinewidth": 0,
             "ticks": ""
            },
            "type": "mesh3d"
           }
          ],
          "parcoords": [
           {
            "line": {
             "colorbar": {
              "outlinewidth": 0,
              "ticks": ""
             }
            },
            "type": "parcoords"
           }
          ],
          "pie": [
           {
            "automargin": true,
            "type": "pie"
           }
          ],
          "scatter": [
           {
            "fillpattern": {
             "fillmode": "overlay",
             "size": 10,
             "solidity": 0.2
            },
            "type": "scatter"
           }
          ],
          "scatter3d": [
           {
            "line": {
             "colorbar": {
              "outlinewidth": 0,
              "ticks": ""
             }
            },
            "marker": {
             "colorbar": {
              "outlinewidth": 0,
              "ticks": ""
             }
            },
            "type": "scatter3d"
           }
          ],
          "scattercarpet": [
           {
            "marker": {
             "colorbar": {
              "outlinewidth": 0,
              "ticks": ""
             }
            },
            "type": "scattercarpet"
           }
          ],
          "scattergeo": [
           {
            "marker": {
             "colorbar": {
              "outlinewidth": 0,
              "ticks": ""
             }
            },
            "type": "scattergeo"
           }
          ],
          "scattergl": [
           {
            "marker": {
             "colorbar": {
              "outlinewidth": 0,
              "ticks": ""
             }
            },
            "type": "scattergl"
           }
          ],
          "scattermap": [
           {
            "marker": {
             "colorbar": {
              "outlinewidth": 0,
              "ticks": ""
             }
            },
            "type": "scattermap"
           }
          ],
          "scattermapbox": [
           {
            "marker": {
             "colorbar": {
              "outlinewidth": 0,
              "ticks": ""
             }
            },
            "type": "scattermapbox"
           }
          ],
          "scatterpolar": [
           {
            "marker": {
             "colorbar": {
              "outlinewidth": 0,
              "ticks": ""
             }
            },
            "type": "scatterpolar"
           }
          ],
          "scatterpolargl": [
           {
            "marker": {
             "colorbar": {
              "outlinewidth": 0,
              "ticks": ""
             }
            },
            "type": "scatterpolargl"
           }
          ],
          "scatterternary": [
           {
            "marker": {
             "colorbar": {
              "outlinewidth": 0,
              "ticks": ""
             }
            },
            "type": "scatterternary"
           }
          ],
          "surface": [
           {
            "colorbar": {
             "outlinewidth": 0,
             "ticks": ""
            },
            "colorscale": [
             [
              0,
              "#0d0887"
             ],
             [
              0.1111111111111111,
              "#46039f"
             ],
             [
              0.2222222222222222,
              "#7201a8"
             ],
             [
              0.3333333333333333,
              "#9c179e"
             ],
             [
              0.4444444444444444,
              "#bd3786"
             ],
             [
              0.5555555555555556,
              "#d8576b"
             ],
             [
              0.6666666666666666,
              "#ed7953"
             ],
             [
              0.7777777777777778,
              "#fb9f3a"
             ],
             [
              0.8888888888888888,
              "#fdca26"
             ],
             [
              1,
              "#f0f921"
             ]
            ],
            "type": "surface"
           }
          ],
          "table": [
           {
            "cells": {
             "fill": {
              "color": "#EBF0F8"
             },
             "line": {
              "color": "white"
             }
            },
            "header": {
             "fill": {
              "color": "#C8D4E3"
             },
             "line": {
              "color": "white"
             }
            },
            "type": "table"
           }
          ]
         },
         "layout": {
          "annotationdefaults": {
           "arrowcolor": "#2a3f5f",
           "arrowhead": 0,
           "arrowwidth": 1
          },
          "autotypenumbers": "strict",
          "coloraxis": {
           "colorbar": {
            "outlinewidth": 0,
            "ticks": ""
           }
          },
          "colorscale": {
           "diverging": [
            [
             0,
             "#8e0152"
            ],
            [
             0.1,
             "#c51b7d"
            ],
            [
             0.2,
             "#de77ae"
            ],
            [
             0.3,
             "#f1b6da"
            ],
            [
             0.4,
             "#fde0ef"
            ],
            [
             0.5,
             "#f7f7f7"
            ],
            [
             0.6,
             "#e6f5d0"
            ],
            [
             0.7,
             "#b8e186"
            ],
            [
             0.8,
             "#7fbc41"
            ],
            [
             0.9,
             "#4d9221"
            ],
            [
             1,
             "#276419"
            ]
           ],
           "sequential": [
            [
             0,
             "#0d0887"
            ],
            [
             0.1111111111111111,
             "#46039f"
            ],
            [
             0.2222222222222222,
             "#7201a8"
            ],
            [
             0.3333333333333333,
             "#9c179e"
            ],
            [
             0.4444444444444444,
             "#bd3786"
            ],
            [
             0.5555555555555556,
             "#d8576b"
            ],
            [
             0.6666666666666666,
             "#ed7953"
            ],
            [
             0.7777777777777778,
             "#fb9f3a"
            ],
            [
             0.8888888888888888,
             "#fdca26"
            ],
            [
             1,
             "#f0f921"
            ]
           ],
           "sequentialminus": [
            [
             0,
             "#0d0887"
            ],
            [
             0.1111111111111111,
             "#46039f"
            ],
            [
             0.2222222222222222,
             "#7201a8"
            ],
            [
             0.3333333333333333,
             "#9c179e"
            ],
            [
             0.4444444444444444,
             "#bd3786"
            ],
            [
             0.5555555555555556,
             "#d8576b"
            ],
            [
             0.6666666666666666,
             "#ed7953"
            ],
            [
             0.7777777777777778,
             "#fb9f3a"
            ],
            [
             0.8888888888888888,
             "#fdca26"
            ],
            [
             1,
             "#f0f921"
            ]
           ]
          },
          "colorway": [
           "#636efa",
           "#EF553B",
           "#00cc96",
           "#ab63fa",
           "#FFA15A",
           "#19d3f3",
           "#FF6692",
           "#B6E880",
           "#FF97FF",
           "#FECB52"
          ],
          "font": {
           "color": "#2a3f5f"
          },
          "geo": {
           "bgcolor": "white",
           "lakecolor": "white",
           "landcolor": "#E5ECF6",
           "showlakes": true,
           "showland": true,
           "subunitcolor": "white"
          },
          "hoverlabel": {
           "align": "left"
          },
          "hovermode": "closest",
          "mapbox": {
           "style": "light"
          },
          "paper_bgcolor": "white",
          "plot_bgcolor": "#E5ECF6",
          "polar": {
           "angularaxis": {
            "gridcolor": "white",
            "linecolor": "white",
            "ticks": ""
           },
           "bgcolor": "#E5ECF6",
           "radialaxis": {
            "gridcolor": "white",
            "linecolor": "white",
            "ticks": ""
           }
          },
          "scene": {
           "xaxis": {
            "backgroundcolor": "#E5ECF6",
            "gridcolor": "white",
            "gridwidth": 2,
            "linecolor": "white",
            "showbackground": true,
            "ticks": "",
            "zerolinecolor": "white"
           },
           "yaxis": {
            "backgroundcolor": "#E5ECF6",
            "gridcolor": "white",
            "gridwidth": 2,
            "linecolor": "white",
            "showbackground": true,
            "ticks": "",
            "zerolinecolor": "white"
           },
           "zaxis": {
            "backgroundcolor": "#E5ECF6",
            "gridcolor": "white",
            "gridwidth": 2,
            "linecolor": "white",
            "showbackground": true,
            "ticks": "",
            "zerolinecolor": "white"
           }
          },
          "shapedefaults": {
           "line": {
            "color": "#2a3f5f"
           }
          },
          "ternary": {
           "aaxis": {
            "gridcolor": "white",
            "linecolor": "white",
            "ticks": ""
           },
           "baxis": {
            "gridcolor": "white",
            "linecolor": "white",
            "ticks": ""
           },
           "bgcolor": "#E5ECF6",
           "caxis": {
            "gridcolor": "white",
            "linecolor": "white",
            "ticks": ""
           }
          },
          "title": {
           "x": 0.05
          },
          "xaxis": {
           "automargin": true,
           "gridcolor": "white",
           "linecolor": "white",
           "ticks": "",
           "title": {
            "standoff": 15
           },
           "zerolinecolor": "white",
           "zerolinewidth": 2
          },
          "yaxis": {
           "automargin": true,
           "gridcolor": "white",
           "linecolor": "white",
           "ticks": "",
           "title": {
            "standoff": 15
           },
           "zerolinecolor": "white",
           "zerolinewidth": 2
          }
         }
        },
        "title": {
         "text": "PETR4.SA Closing Prices"
        },
        "xaxis": {
         "anchor": "y",
         "domain": [
          0,
          1
         ],
         "title": {
          "text": "index"
         }
        },
        "yaxis": {
         "anchor": "x",
         "domain": [
          0,
          1
         ],
         "title": {
          "text": "value"
         }
        }
       }
      }
     },
     "metadata": {},
     "output_type": "display_data"
    }
   ],
   "source": [
    "px.line(vol_rsi, title=f\"{ticker} Closing Prices\").show(fig_type=\"png\")"
   ]
  },
  {
   "cell_type": "markdown",
   "id": "dea4f795",
   "metadata": {},
   "source": [
    "# Entropy Volatility"
   ]
  },
  {
   "cell_type": "code",
   "execution_count": 71,
   "id": "3a839c52",
   "metadata": {},
   "outputs": [],
   "source": [
    "vol_ent = trailing_window(r, rolling_window=60, func=sample_entropy, m=1)"
   ]
  },
  {
   "cell_type": "code",
   "execution_count": 72,
   "id": "3bc31ec1",
   "metadata": {},
   "outputs": [
    {
     "data": {
      "application/vnd.plotly.v1+json": {
       "config": {
        "plotlyServerURL": "https://plot.ly"
       },
       "data": [
        {
         "hovertemplate": "variable=0<br>index=%{x}<br>value=%{y}<extra></extra>",
         "legendgroup": "0",
         "line": {
          "color": "#636efa",
          "dash": "solid"
         },
         "marker": {
          "symbol": "circle"
         },
         "mode": "lines",
         "name": "0",
         "orientation": "v",
         "showlegend": true,
         "type": "scatter",
         "x": {
          "bdata": "AAABAAIAAwAEAAUABgAHAAgACQAKAAsADAANAA4ADwAQABEAEgATABQAFQAWABcAGAAZABoAGwAcAB0AHgAfACAAIQAiACMAJAAlACYAJwAoACkAKgArACwALQAuAC8AMAAxADIAMwA0ADUANgA3ADgAOQA6ADsAPAA9AD4APwBAAEEAQgBDAEQARQBGAEcASABJAEoASwBMAE0ATgBPAFAAUQBSAFMAVABVAFYAVwBYAFkAWgBbAFwAXQBeAF8AYABhAGIAYwBkAGUAZgBnAGgAaQBqAGsAbABtAG4AbwBwAHEAcgBzAHQAdQB2AHcAeAB5AHoAewB8AH0AfgB/AIAAgQCCAIMAhACFAIYAhwCIAIkAigCLAIwAjQCOAI8AkACRAJIAkwCUAJUAlgCXAJgAmQCaAJsAnACdAJ4AnwCgAKEAogCjAKQApQCmAKcAqACpAKoAqwCsAK0ArgCvALAAsQCyALMAtAC1ALYAtwC4ALkAugC7ALwAvQC+AL8AwADBAMIAwwDEAMUAxgDHAMgAyQDKAMsAzADNAM4AzwDQANEA0gDTANQA1QDWANcA2ADZANoA2wDcAN0A3gDfAOAA4QDiAOMA5ADlAOYA5wDoAOkA6gDrAOwA7QDuAO8A8ADxAPIA8wD0APUA9gD3APgA+QD6APsA/AD9AP4A/wAAAQEBAgEDAQQBBQEGAQcBCAEJAQoBCwEMAQ0BDgEPARABEQESARMBFAEVARYBFwEYARkBGgEbARwBHQEeAR8BIAEhASIBIwEkASUBJgEnASgBKQEqASsBLAEtAS4BLwEwATEBMgEzATQBNQE2ATcBOAE5AToBOwE8AT0BPgE/AUABQQFCAUMBRAFFAUYBRwFIAUkBSgFLAUwBTQFOAU8BUAFRAVIBUwFUAVUBVgFXAVgBWQFaAVsBXAFdAV4BXwFgAWEBYgFjAWQBZQFmAWcBaAFpAWoBawFsAW0BbgFvAXABcQFyAXMBdAF1AXYBdwF4AXkBegF7AXwBfQF+AX8BgAGBAYIBgwGEAYUBhgGHAYgBiQGKAYsBjAGNAY4BjwGQAZEBkgGTAZQBlQGWAZcBmAGZAZoBmwGcAZ0BngGfAaABoQGiAaMBpAGlAaYBpwGoAakBqgGrAawBrQGuAa8BsAGxAbIBswG0AbUBtgG3AbgBuQG6AbsBvAG9Ab4BvwHAAcEBwgHDAcQBxQHGAccByAHJAcoBywHMAc0BzgHPAdAB0QHSAdMB1AHVAdYB1wHYAdkB2gHbAdwB3QHeAd8B4AHhAeIB4wHkAeUB5gHnAegB6QHqAesB7AHtAe4B7wHwAfEB8gHzAQ==",
          "dtype": "i2"
         },
         "xaxis": "x",
         "y": {
          "bdata": "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",
          "dtype": "f8"
         },
         "yaxis": "y"
        }
       ],
       "layout": {
        "legend": {
         "title": {
          "text": "variable"
         },
         "tracegroupgap": 0
        },
        "template": {
         "data": {
          "bar": [
           {
            "error_x": {
             "color": "#2a3f5f"
            },
            "error_y": {
             "color": "#2a3f5f"
            },
            "marker": {
             "line": {
              "color": "#E5ECF6",
              "width": 0.5
             },
             "pattern": {
              "fillmode": "overlay",
              "size": 10,
              "solidity": 0.2
             }
            },
            "type": "bar"
           }
          ],
          "barpolar": [
           {
            "marker": {
             "line": {
              "color": "#E5ECF6",
              "width": 0.5
             },
             "pattern": {
              "fillmode": "overlay",
              "size": 10,
              "solidity": 0.2
             }
            },
            "type": "barpolar"
           }
          ],
          "carpet": [
           {
            "aaxis": {
             "endlinecolor": "#2a3f5f",
             "gridcolor": "white",
             "linecolor": "white",
             "minorgridcolor": "white",
             "startlinecolor": "#2a3f5f"
            },
            "baxis": {
             "endlinecolor": "#2a3f5f",
             "gridcolor": "white",
             "linecolor": "white",
             "minorgridcolor": "white",
             "startlinecolor": "#2a3f5f"
            },
            "type": "carpet"
           }
          ],
          "choropleth": [
           {
            "colorbar": {
             "outlinewidth": 0,
             "ticks": ""
            },
            "type": "choropleth"
           }
          ],
          "contour": [
           {
            "colorbar": {
             "outlinewidth": 0,
             "ticks": ""
            },
            "colorscale": [
             [
              0,
              "#0d0887"
             ],
             [
              0.1111111111111111,
              "#46039f"
             ],
             [
              0.2222222222222222,
              "#7201a8"
             ],
             [
              0.3333333333333333,
              "#9c179e"
             ],
             [
              0.4444444444444444,
              "#bd3786"
             ],
             [
              0.5555555555555556,
              "#d8576b"
             ],
             [
              0.6666666666666666,
              "#ed7953"
             ],
             [
              0.7777777777777778,
              "#fb9f3a"
             ],
             [
              0.8888888888888888,
              "#fdca26"
             ],
             [
              1,
              "#f0f921"
             ]
            ],
            "type": "contour"
           }
          ],
          "contourcarpet": [
           {
            "colorbar": {
             "outlinewidth": 0,
             "ticks": ""
            },
            "type": "contourcarpet"
           }
          ],
          "heatmap": [
           {
            "colorbar": {
             "outlinewidth": 0,
             "ticks": ""
            },
            "colorscale": [
             [
              0,
              "#0d0887"
             ],
             [
              0.1111111111111111,
              "#46039f"
             ],
             [
              0.2222222222222222,
              "#7201a8"
             ],
             [
              0.3333333333333333,
              "#9c179e"
             ],
             [
              0.4444444444444444,
              "#bd3786"
             ],
             [
              0.5555555555555556,
              "#d8576b"
             ],
             [
              0.6666666666666666,
              "#ed7953"
             ],
             [
              0.7777777777777778,
              "#fb9f3a"
             ],
             [
              0.8888888888888888,
              "#fdca26"
             ],
             [
              1,
              "#f0f921"
             ]
            ],
            "type": "heatmap"
           }
          ],
          "histogram": [
           {
            "marker": {
             "pattern": {
              "fillmode": "overlay",
              "size": 10,
              "solidity": 0.2
             }
            },
            "type": "histogram"
           }
          ],
          "histogram2d": [
           {
            "colorbar": {
             "outlinewidth": 0,
             "ticks": ""
            },
            "colorscale": [
             [
              0,
              "#0d0887"
             ],
             [
              0.1111111111111111,
              "#46039f"
             ],
             [
              0.2222222222222222,
              "#7201a8"
             ],
             [
              0.3333333333333333,
              "#9c179e"
             ],
             [
              0.4444444444444444,
              "#bd3786"
             ],
             [
              0.5555555555555556,
              "#d8576b"
             ],
             [
              0.6666666666666666,
              "#ed7953"
             ],
             [
              0.7777777777777778,
              "#fb9f3a"
             ],
             [
              0.8888888888888888,
              "#fdca26"
             ],
             [
              1,
              "#f0f921"
             ]
            ],
            "type": "histogram2d"
           }
          ],
          "histogram2dcontour": [
           {
            "colorbar": {
             "outlinewidth": 0,
             "ticks": ""
            },
            "colorscale": [
             [
              0,
              "#0d0887"
             ],
             [
              0.1111111111111111,
              "#46039f"
             ],
             [
              0.2222222222222222,
              "#7201a8"
             ],
             [
              0.3333333333333333,
              "#9c179e"
             ],
             [
              0.4444444444444444,
              "#bd3786"
             ],
             [
              0.5555555555555556,
              "#d8576b"
             ],
             [
              0.6666666666666666,
              "#ed7953"
             ],
             [
              0.7777777777777778,
              "#fb9f3a"
             ],
             [
              0.8888888888888888,
              "#fdca26"
             ],
             [
              1,
              "#f0f921"
             ]
            ],
            "type": "histogram2dcontour"
           }
          ],
          "mesh3d": [
           {
            "colorbar": {
             "outlinewidth": 0,
             "ticks": ""
            },
            "type": "mesh3d"
           }
          ],
          "parcoords": [
           {
            "line": {
             "colorbar": {
              "outlinewidth": 0,
              "ticks": ""
             }
            },
            "type": "parcoords"
           }
          ],
          "pie": [
           {
            "automargin": true,
            "type": "pie"
           }
          ],
          "scatter": [
           {
            "fillpattern": {
             "fillmode": "overlay",
             "size": 10,
             "solidity": 0.2
            },
            "type": "scatter"
           }
          ],
          "scatter3d": [
           {
            "line": {
             "colorbar": {
              "outlinewidth": 0,
              "ticks": ""
             }
            },
            "marker": {
             "colorbar": {
              "outlinewidth": 0,
              "ticks": ""
             }
            },
            "type": "scatter3d"
           }
          ],
          "scattercarpet": [
           {
            "marker": {
             "colorbar": {
              "outlinewidth": 0,
              "ticks": ""
             }
            },
            "type": "scattercarpet"
           }
          ],
          "scattergeo": [
           {
            "marker": {
             "colorbar": {
              "outlinewidth": 0,
              "ticks": ""
             }
            },
            "type": "scattergeo"
           }
          ],
          "scattergl": [
           {
            "marker": {
             "colorbar": {
              "outlinewidth": 0,
              "ticks": ""
             }
            },
            "type": "scattergl"
           }
          ],
          "scattermap": [
           {
            "marker": {
             "colorbar": {
              "outlinewidth": 0,
              "ticks": ""
             }
            },
            "type": "scattermap"
           }
          ],
          "scattermapbox": [
           {
            "marker": {
             "colorbar": {
              "outlinewidth": 0,
              "ticks": ""
             }
            },
            "type": "scattermapbox"
           }
          ],
          "scatterpolar": [
           {
            "marker": {
             "colorbar": {
              "outlinewidth": 0,
              "ticks": ""
             }
            },
            "type": "scatterpolar"
           }
          ],
          "scatterpolargl": [
           {
            "marker": {
             "colorbar": {
              "outlinewidth": 0,
              "ticks": ""
             }
            },
            "type": "scatterpolargl"
           }
          ],
          "scatterternary": [
           {
            "marker": {
             "colorbar": {
              "outlinewidth": 0,
              "ticks": ""
             }
            },
            "type": "scatterternary"
           }
          ],
          "surface": [
           {
            "colorbar": {
             "outlinewidth": 0,
             "ticks": ""
            },
            "colorscale": [
             [
              0,
              "#0d0887"
             ],
             [
              0.1111111111111111,
              "#46039f"
             ],
             [
              0.2222222222222222,
              "#7201a8"
             ],
             [
              0.3333333333333333,
              "#9c179e"
             ],
             [
              0.4444444444444444,
              "#bd3786"
             ],
             [
              0.5555555555555556,
              "#d8576b"
             ],
             [
              0.6666666666666666,
              "#ed7953"
             ],
             [
              0.7777777777777778,
              "#fb9f3a"
             ],
             [
              0.8888888888888888,
              "#fdca26"
             ],
             [
              1,
              "#f0f921"
             ]
            ],
            "type": "surface"
           }
          ],
          "table": [
           {
            "cells": {
             "fill": {
              "color": "#EBF0F8"
             },
             "line": {
              "color": "white"
             }
            },
            "header": {
             "fill": {
              "color": "#C8D4E3"
             },
             "line": {
              "color": "white"
             }
            },
            "type": "table"
           }
          ]
         },
         "layout": {
          "annotationdefaults": {
           "arrowcolor": "#2a3f5f",
           "arrowhead": 0,
           "arrowwidth": 1
          },
          "autotypenumbers": "strict",
          "coloraxis": {
           "colorbar": {
            "outlinewidth": 0,
            "ticks": ""
           }
          },
          "colorscale": {
           "diverging": [
            [
             0,
             "#8e0152"
            ],
            [
             0.1,
             "#c51b7d"
            ],
            [
             0.2,
             "#de77ae"
            ],
            [
             0.3,
             "#f1b6da"
            ],
            [
             0.4,
             "#fde0ef"
            ],
            [
             0.5,
             "#f7f7f7"
            ],
            [
             0.6,
             "#e6f5d0"
            ],
            [
             0.7,
             "#b8e186"
            ],
            [
             0.8,
             "#7fbc41"
            ],
            [
             0.9,
             "#4d9221"
            ],
            [
             1,
             "#276419"
            ]
           ],
           "sequential": [
            [
             0,
             "#0d0887"
            ],
            [
             0.1111111111111111,
             "#46039f"
            ],
            [
             0.2222222222222222,
             "#7201a8"
            ],
            [
             0.3333333333333333,
             "#9c179e"
            ],
            [
             0.4444444444444444,
             "#bd3786"
            ],
            [
             0.5555555555555556,
             "#d8576b"
            ],
            [
             0.6666666666666666,
             "#ed7953"
            ],
            [
             0.7777777777777778,
             "#fb9f3a"
            ],
            [
             0.8888888888888888,
             "#fdca26"
            ],
            [
             1,
             "#f0f921"
            ]
           ],
           "sequentialminus": [
            [
             0,
             "#0d0887"
            ],
            [
             0.1111111111111111,
             "#46039f"
            ],
            [
             0.2222222222222222,
             "#7201a8"
            ],
            [
             0.3333333333333333,
             "#9c179e"
            ],
            [
             0.4444444444444444,
             "#bd3786"
            ],
            [
             0.5555555555555556,
             "#d8576b"
            ],
            [
             0.6666666666666666,
             "#ed7953"
            ],
            [
             0.7777777777777778,
             "#fb9f3a"
            ],
            [
             0.8888888888888888,
             "#fdca26"
            ],
            [
             1,
             "#f0f921"
            ]
           ]
          },
          "colorway": [
           "#636efa",
           "#EF553B",
           "#00cc96",
           "#ab63fa",
           "#FFA15A",
           "#19d3f3",
           "#FF6692",
           "#B6E880",
           "#FF97FF",
           "#FECB52"
          ],
          "font": {
           "color": "#2a3f5f"
          },
          "geo": {
           "bgcolor": "white",
           "lakecolor": "white",
           "landcolor": "#E5ECF6",
           "showlakes": true,
           "showland": true,
           "subunitcolor": "white"
          },
          "hoverlabel": {
           "align": "left"
          },
          "hovermode": "closest",
          "mapbox": {
           "style": "light"
          },
          "paper_bgcolor": "white",
          "plot_bgcolor": "#E5ECF6",
          "polar": {
           "angularaxis": {
            "gridcolor": "white",
            "linecolor": "white",
            "ticks": ""
           },
           "bgcolor": "#E5ECF6",
           "radialaxis": {
            "gridcolor": "white",
            "linecolor": "white",
            "ticks": ""
           }
          },
          "scene": {
           "xaxis": {
            "backgroundcolor": "#E5ECF6",
            "gridcolor": "white",
            "gridwidth": 2,
            "linecolor": "white",
            "showbackground": true,
            "ticks": "",
            "zerolinecolor": "white"
           },
           "yaxis": {
            "backgroundcolor": "#E5ECF6",
            "gridcolor": "white",
            "gridwidth": 2,
            "linecolor": "white",
            "showbackground": true,
            "ticks": "",
            "zerolinecolor": "white"
           },
           "zaxis": {
            "backgroundcolor": "#E5ECF6",
            "gridcolor": "white",
            "gridwidth": 2,
            "linecolor": "white",
            "showbackground": true,
            "ticks": "",
            "zerolinecolor": "white"
           }
          },
          "shapedefaults": {
           "line": {
            "color": "#2a3f5f"
           }
          },
          "ternary": {
           "aaxis": {
            "gridcolor": "white",
            "linecolor": "white",
            "ticks": ""
           },
           "baxis": {
            "gridcolor": "white",
            "linecolor": "white",
            "ticks": ""
           },
           "bgcolor": "#E5ECF6",
           "caxis": {
            "gridcolor": "white",
            "linecolor": "white",
            "ticks": ""
           }
          },
          "title": {
           "x": 0.05
          },
          "xaxis": {
           "automargin": true,
           "gridcolor": "white",
           "linecolor": "white",
           "ticks": "",
           "title": {
            "standoff": 15
           },
           "zerolinecolor": "white",
           "zerolinewidth": 2
          },
          "yaxis": {
           "automargin": true,
           "gridcolor": "white",
           "linecolor": "white",
           "ticks": "",
           "title": {
            "standoff": 15
           },
           "zerolinecolor": "white",
           "zerolinewidth": 2
          }
         }
        },
        "title": {
         "text": "PETR4.SA Closing Prices"
        },
        "xaxis": {
         "anchor": "y",
         "domain": [
          0,
          1
         ],
         "title": {
          "text": "index"
         }
        },
        "yaxis": {
         "anchor": "x",
         "domain": [
          0,
          1
         ],
         "title": {
          "text": "value"
         }
        }
       }
      }
     },
     "metadata": {},
     "output_type": "display_data"
    }
   ],
   "source": [
    "px.line(vol_ent, title=f\"{ticker} Closing Prices\").show(fig_type=\"png\")"
   ]
  },
  {
   "cell_type": "code",
   "execution_count": 73,
   "id": "ac74a098",
   "metadata": {},
   "outputs": [
    {
     "data": {
      "application/vnd.plotly.v1+json": {
       "config": {
        "plotlyServerURL": "https://plot.ly"
       },
       "data": [
        {
         "name": "Preço PETR4.SA",
         "type": "scatter",
         "x": [
          "2023-10-03T00:00:00.000000000",
          "2023-10-04T00:00:00.000000000",
          "2023-10-05T00:00:00.000000000",
          "2023-10-06T00:00:00.000000000",
          "2023-10-09T00:00:00.000000000",
          "2023-10-10T00:00:00.000000000",
          "2023-10-11T00:00:00.000000000",
          "2023-10-13T00:00:00.000000000",
          "2023-10-16T00:00:00.000000000",
          "2023-10-17T00:00:00.000000000",
          "2023-10-18T00:00:00.000000000",
          "2023-10-19T00:00:00.000000000",
          "2023-10-20T00:00:00.000000000",
          "2023-10-23T00:00:00.000000000",
          "2023-10-24T00:00:00.000000000",
          "2023-10-25T00:00:00.000000000",
          "2023-10-26T00:00:00.000000000",
          "2023-10-27T00:00:00.000000000",
          "2023-10-30T00:00:00.000000000",
          "2023-10-31T00:00:00.000000000",
          "2023-11-01T00:00:00.000000000",
          "2023-11-03T00:00:00.000000000",
          "2023-11-06T00:00:00.000000000",
          "2023-11-07T00:00:00.000000000",
          "2023-11-08T00:00:00.000000000",
          "2023-11-09T00:00:00.000000000",
          "2023-11-10T00:00:00.000000000",
          "2023-11-13T00:00:00.000000000",
          "2023-11-14T00:00:00.000000000",
          "2023-11-16T00:00:00.000000000",
          "2023-11-17T00:00:00.000000000",
          "2023-11-20T00:00:00.000000000",
          "2023-11-21T00:00:00.000000000",
          "2023-11-22T00:00:00.000000000",
          "2023-11-23T00:00:00.000000000",
          "2023-11-24T00:00:00.000000000",
          "2023-11-27T00:00:00.000000000",
          "2023-11-28T00:00:00.000000000",
          "2023-11-29T00:00:00.000000000",
          "2023-11-30T00:00:00.000000000",
          "2023-12-01T00:00:00.000000000",
          "2023-12-04T00:00:00.000000000",
          "2023-12-05T00:00:00.000000000",
          "2023-12-06T00:00:00.000000000",
          "2023-12-07T00:00:00.000000000",
          "2023-12-08T00:00:00.000000000",
          "2023-12-11T00:00:00.000000000",
          "2023-12-12T00:00:00.000000000",
          "2023-12-13T00:00:00.000000000",
          "2023-12-14T00:00:00.000000000",
          "2023-12-15T00:00:00.000000000",
          "2023-12-18T00:00:00.000000000",
          "2023-12-19T00:00:00.000000000",
          "2023-12-20T00:00:00.000000000",
          "2023-12-21T00:00:00.000000000",
          "2023-12-22T00:00:00.000000000",
          "2023-12-26T00:00:00.000000000",
          "2023-12-27T00:00:00.000000000",
          "2023-12-28T00:00:00.000000000",
          "2024-01-02T00:00:00.000000000",
          "2024-01-03T00:00:00.000000000",
          "2024-01-04T00:00:00.000000000",
          "2024-01-05T00:00:00.000000000",
          "2024-01-08T00:00:00.000000000",
          "2024-01-09T00:00:00.000000000",
          "2024-01-10T00:00:00.000000000",
          "2024-01-11T00:00:00.000000000",
          "2024-01-12T00:00:00.000000000",
          "2024-01-15T00:00:00.000000000",
          "2024-01-16T00:00:00.000000000",
          "2024-01-17T00:00:00.000000000",
          "2024-01-18T00:00:00.000000000",
          "2024-01-19T00:00:00.000000000",
          "2024-01-22T00:00:00.000000000",
          "2024-01-23T00:00:00.000000000",
          "2024-01-24T00:00:00.000000000",
          "2024-01-25T00:00:00.000000000",
          "2024-01-26T00:00:00.000000000",
          "2024-01-29T00:00:00.000000000",
          "2024-01-30T00:00:00.000000000",
          "2024-01-31T00:00:00.000000000",
          "2024-02-01T00:00:00.000000000",
          "2024-02-02T00:00:00.000000000",
          "2024-02-05T00:00:00.000000000",
          "2024-02-06T00:00:00.000000000",
          "2024-02-07T00:00:00.000000000",
          "2024-02-08T00:00:00.000000000",
          "2024-02-09T00:00:00.000000000",
          "2024-02-14T00:00:00.000000000",
          "2024-02-15T00:00:00.000000000",
          "2024-02-16T00:00:00.000000000",
          "2024-02-19T00:00:00.000000000",
          "2024-02-20T00:00:00.000000000",
          "2024-02-21T00:00:00.000000000",
          "2024-02-22T00:00:00.000000000",
          "2024-02-23T00:00:00.000000000",
          "2024-02-26T00:00:00.000000000",
          "2024-02-27T00:00:00.000000000",
          "2024-02-28T00:00:00.000000000",
          "2024-02-29T00:00:00.000000000",
          "2024-03-01T00:00:00.000000000",
          "2024-03-04T00:00:00.000000000",
          "2024-03-05T00:00:00.000000000",
          "2024-03-06T00:00:00.000000000",
          "2024-03-07T00:00:00.000000000",
          "2024-03-08T00:00:00.000000000",
          "2024-03-11T00:00:00.000000000",
          "2024-03-12T00:00:00.000000000",
          "2024-03-13T00:00:00.000000000",
          "2024-03-14T00:00:00.000000000",
          "2024-03-15T00:00:00.000000000",
          "2024-03-18T00:00:00.000000000",
          "2024-03-19T00:00:00.000000000",
          "2024-03-20T00:00:00.000000000",
          "2024-03-21T00:00:00.000000000",
          "2024-03-22T00:00:00.000000000",
          "2024-03-25T00:00:00.000000000",
          "2024-03-26T00:00:00.000000000",
          "2024-03-27T00:00:00.000000000",
          "2024-03-28T00:00:00.000000000",
          "2024-04-01T00:00:00.000000000",
          "2024-04-02T00:00:00.000000000",
          "2024-04-03T00:00:00.000000000",
          "2024-04-04T00:00:00.000000000",
          "2024-04-05T00:00:00.000000000",
          "2024-04-08T00:00:00.000000000",
          "2024-04-09T00:00:00.000000000",
          "2024-04-10T00:00:00.000000000",
          "2024-04-11T00:00:00.000000000",
          "2024-04-12T00:00:00.000000000",
          "2024-04-15T00:00:00.000000000",
          "2024-04-16T00:00:00.000000000",
          "2024-04-17T00:00:00.000000000",
          "2024-04-18T00:00:00.000000000",
          "2024-04-19T00:00:00.000000000",
          "2024-04-22T00:00:00.000000000",
          "2024-04-23T00:00:00.000000000",
          "2024-04-24T00:00:00.000000000",
          "2024-04-25T00:00:00.000000000",
          "2024-04-26T00:00:00.000000000",
          "2024-04-29T00:00:00.000000000",
          "2024-04-30T00:00:00.000000000",
          "2024-05-02T00:00:00.000000000",
          "2024-05-03T00:00:00.000000000",
          "2024-05-06T00:00:00.000000000",
          "2024-05-07T00:00:00.000000000",
          "2024-05-08T00:00:00.000000000",
          "2024-05-09T00:00:00.000000000",
          "2024-05-10T00:00:00.000000000",
          "2024-05-13T00:00:00.000000000",
          "2024-05-14T00:00:00.000000000",
          "2024-05-15T00:00:00.000000000",
          "2024-05-16T00:00:00.000000000",
          "2024-05-17T00:00:00.000000000",
          "2024-05-20T00:00:00.000000000",
          "2024-05-21T00:00:00.000000000",
          "2024-05-22T00:00:00.000000000",
          "2024-05-23T00:00:00.000000000",
          "2024-05-24T00:00:00.000000000",
          "2024-05-27T00:00:00.000000000",
          "2024-05-28T00:00:00.000000000",
          "2024-05-29T00:00:00.000000000",
          "2024-05-31T00:00:00.000000000",
          "2024-06-03T00:00:00.000000000",
          "2024-06-04T00:00:00.000000000",
          "2024-06-05T00:00:00.000000000",
          "2024-06-06T00:00:00.000000000",
          "2024-06-07T00:00:00.000000000",
          "2024-06-10T00:00:00.000000000",
          "2024-06-11T00:00:00.000000000",
          "2024-06-12T00:00:00.000000000",
          "2024-06-13T00:00:00.000000000",
          "2024-06-14T00:00:00.000000000",
          "2024-06-17T00:00:00.000000000",
          "2024-06-18T00:00:00.000000000",
          "2024-06-19T00:00:00.000000000",
          "2024-06-20T00:00:00.000000000",
          "2024-06-21T00:00:00.000000000",
          "2024-06-24T00:00:00.000000000",
          "2024-06-25T00:00:00.000000000",
          "2024-06-26T00:00:00.000000000",
          "2024-06-27T00:00:00.000000000",
          "2024-06-28T00:00:00.000000000",
          "2024-07-01T00:00:00.000000000",
          "2024-07-02T00:00:00.000000000",
          "2024-07-03T00:00:00.000000000",
          "2024-07-04T00:00:00.000000000",
          "2024-07-05T00:00:00.000000000",
          "2024-07-08T00:00:00.000000000",
          "2024-07-09T00:00:00.000000000",
          "2024-07-10T00:00:00.000000000",
          "2024-07-11T00:00:00.000000000",
          "2024-07-12T00:00:00.000000000",
          "2024-07-15T00:00:00.000000000",
          "2024-07-16T00:00:00.000000000",
          "2024-07-17T00:00:00.000000000",
          "2024-07-18T00:00:00.000000000",
          "2024-07-19T00:00:00.000000000",
          "2024-07-22T00:00:00.000000000",
          "2024-07-23T00:00:00.000000000",
          "2024-07-24T00:00:00.000000000",
          "2024-07-25T00:00:00.000000000",
          "2024-07-26T00:00:00.000000000",
          "2024-07-29T00:00:00.000000000",
          "2024-07-30T00:00:00.000000000",
          "2024-07-31T00:00:00.000000000",
          "2024-08-01T00:00:00.000000000",
          "2024-08-02T00:00:00.000000000",
          "2024-08-05T00:00:00.000000000",
          "2024-08-06T00:00:00.000000000",
          "2024-08-07T00:00:00.000000000",
          "2024-08-08T00:00:00.000000000",
          "2024-08-09T00:00:00.000000000",
          "2024-08-12T00:00:00.000000000",
          "2024-08-13T00:00:00.000000000",
          "2024-08-14T00:00:00.000000000",
          "2024-08-15T00:00:00.000000000",
          "2024-08-16T00:00:00.000000000",
          "2024-08-19T00:00:00.000000000",
          "2024-08-20T00:00:00.000000000",
          "2024-08-21T00:00:00.000000000",
          "2024-08-22T00:00:00.000000000",
          "2024-08-23T00:00:00.000000000",
          "2024-08-26T00:00:00.000000000",
          "2024-08-27T00:00:00.000000000",
          "2024-08-28T00:00:00.000000000",
          "2024-08-29T00:00:00.000000000",
          "2024-08-30T00:00:00.000000000",
          "2024-09-02T00:00:00.000000000",
          "2024-09-03T00:00:00.000000000",
          "2024-09-04T00:00:00.000000000",
          "2024-09-05T00:00:00.000000000",
          "2024-09-06T00:00:00.000000000",
          "2024-09-09T00:00:00.000000000",
          "2024-09-10T00:00:00.000000000",
          "2024-09-11T00:00:00.000000000",
          "2024-09-12T00:00:00.000000000",
          "2024-09-13T00:00:00.000000000",
          "2024-09-16T00:00:00.000000000",
          "2024-09-17T00:00:00.000000000",
          "2024-09-18T00:00:00.000000000",
          "2024-09-19T00:00:00.000000000",
          "2024-09-20T00:00:00.000000000",
          "2024-09-23T00:00:00.000000000",
          "2024-09-24T00:00:00.000000000",
          "2024-09-25T00:00:00.000000000",
          "2024-09-26T00:00:00.000000000",
          "2024-09-27T00:00:00.000000000",
          "2024-09-30T00:00:00.000000000",
          "2024-10-01T00:00:00.000000000",
          "2024-10-02T00:00:00.000000000",
          "2024-10-03T00:00:00.000000000",
          "2024-10-04T00:00:00.000000000",
          "2024-10-07T00:00:00.000000000",
          "2024-10-08T00:00:00.000000000",
          "2024-10-09T00:00:00.000000000",
          "2024-10-10T00:00:00.000000000",
          "2024-10-11T00:00:00.000000000",
          "2024-10-14T00:00:00.000000000",
          "2024-10-15T00:00:00.000000000",
          "2024-10-16T00:00:00.000000000",
          "2024-10-17T00:00:00.000000000",
          "2024-10-18T00:00:00.000000000",
          "2024-10-21T00:00:00.000000000",
          "2024-10-22T00:00:00.000000000",
          "2024-10-23T00:00:00.000000000",
          "2024-10-24T00:00:00.000000000",
          "2024-10-25T00:00:00.000000000",
          "2024-10-28T00:00:00.000000000",
          "2024-10-29T00:00:00.000000000",
          "2024-10-30T00:00:00.000000000",
          "2024-10-31T00:00:00.000000000",
          "2024-11-01T00:00:00.000000000",
          "2024-11-04T00:00:00.000000000",
          "2024-11-05T00:00:00.000000000",
          "2024-11-06T00:00:00.000000000",
          "2024-11-07T00:00:00.000000000",
          "2024-11-08T00:00:00.000000000",
          "2024-11-11T00:00:00.000000000",
          "2024-11-12T00:00:00.000000000",
          "2024-11-13T00:00:00.000000000",
          "2024-11-14T00:00:00.000000000",
          "2024-11-18T00:00:00.000000000",
          "2024-11-19T00:00:00.000000000",
          "2024-11-21T00:00:00.000000000",
          "2024-11-22T00:00:00.000000000",
          "2024-11-25T00:00:00.000000000",
          "2024-11-26T00:00:00.000000000",
          "2024-11-27T00:00:00.000000000",
          "2024-11-28T00:00:00.000000000",
          "2024-11-29T00:00:00.000000000",
          "2024-12-02T00:00:00.000000000",
          "2024-12-03T00:00:00.000000000",
          "2024-12-04T00:00:00.000000000",
          "2024-12-05T00:00:00.000000000",
          "2024-12-06T00:00:00.000000000",
          "2024-12-09T00:00:00.000000000",
          "2024-12-10T00:00:00.000000000",
          "2024-12-11T00:00:00.000000000",
          "2024-12-12T00:00:00.000000000",
          "2024-12-13T00:00:00.000000000",
          "2024-12-16T00:00:00.000000000",
          "2024-12-17T00:00:00.000000000",
          "2024-12-18T00:00:00.000000000",
          "2024-12-19T00:00:00.000000000",
          "2024-12-20T00:00:00.000000000",
          "2024-12-23T00:00:00.000000000",
          "2024-12-26T00:00:00.000000000",
          "2024-12-27T00:00:00.000000000",
          "2024-12-30T00:00:00.000000000",
          "2025-01-02T00:00:00.000000000",
          "2025-01-03T00:00:00.000000000",
          "2025-01-06T00:00:00.000000000",
          "2025-01-07T00:00:00.000000000",
          "2025-01-08T00:00:00.000000000",
          "2025-01-09T00:00:00.000000000",
          "2025-01-10T00:00:00.000000000",
          "2025-01-13T00:00:00.000000000",
          "2025-01-14T00:00:00.000000000",
          "2025-01-15T00:00:00.000000000",
          "2025-01-16T00:00:00.000000000",
          "2025-01-17T00:00:00.000000000",
          "2025-01-20T00:00:00.000000000",
          "2025-01-21T00:00:00.000000000",
          "2025-01-22T00:00:00.000000000",
          "2025-01-23T00:00:00.000000000",
          "2025-01-24T00:00:00.000000000",
          "2025-01-27T00:00:00.000000000",
          "2025-01-28T00:00:00.000000000",
          "2025-01-29T00:00:00.000000000",
          "2025-01-30T00:00:00.000000000",
          "2025-01-31T00:00:00.000000000",
          "2025-02-03T00:00:00.000000000",
          "2025-02-04T00:00:00.000000000",
          "2025-02-05T00:00:00.000000000",
          "2025-02-06T00:00:00.000000000",
          "2025-02-07T00:00:00.000000000",
          "2025-02-10T00:00:00.000000000",
          "2025-02-11T00:00:00.000000000",
          "2025-02-12T00:00:00.000000000",
          "2025-02-13T00:00:00.000000000",
          "2025-02-14T00:00:00.000000000",
          "2025-02-17T00:00:00.000000000",
          "2025-02-18T00:00:00.000000000",
          "2025-02-19T00:00:00.000000000",
          "2025-02-20T00:00:00.000000000",
          "2025-02-21T00:00:00.000000000",
          "2025-02-24T00:00:00.000000000",
          "2025-02-25T00:00:00.000000000",
          "2025-02-26T00:00:00.000000000",
          "2025-02-27T00:00:00.000000000",
          "2025-02-28T00:00:00.000000000",
          "2025-03-05T00:00:00.000000000",
          "2025-03-06T00:00:00.000000000",
          "2025-03-07T00:00:00.000000000",
          "2025-03-10T00:00:00.000000000",
          "2025-03-11T00:00:00.000000000",
          "2025-03-12T00:00:00.000000000",
          "2025-03-13T00:00:00.000000000",
          "2025-03-14T00:00:00.000000000",
          "2025-03-17T00:00:00.000000000",
          "2025-03-18T00:00:00.000000000",
          "2025-03-19T00:00:00.000000000",
          "2025-03-20T00:00:00.000000000",
          "2025-03-21T00:00:00.000000000",
          "2025-03-24T00:00:00.000000000",
          "2025-03-25T00:00:00.000000000",
          "2025-03-26T00:00:00.000000000",
          "2025-03-27T00:00:00.000000000",
          "2025-03-28T00:00:00.000000000",
          "2025-03-31T00:00:00.000000000",
          "2025-04-01T00:00:00.000000000",
          "2025-04-02T00:00:00.000000000",
          "2025-04-03T00:00:00.000000000",
          "2025-04-04T00:00:00.000000000",
          "2025-04-07T00:00:00.000000000",
          "2025-04-08T00:00:00.000000000",
          "2025-04-09T00:00:00.000000000",
          "2025-04-10T00:00:00.000000000",
          "2025-04-11T00:00:00.000000000",
          "2025-04-14T00:00:00.000000000",
          "2025-04-15T00:00:00.000000000",
          "2025-04-16T00:00:00.000000000",
          "2025-04-17T00:00:00.000000000",
          "2025-04-22T00:00:00.000000000",
          "2025-04-23T00:00:00.000000000",
          "2025-04-24T00:00:00.000000000",
          "2025-04-25T00:00:00.000000000",
          "2025-04-28T00:00:00.000000000",
          "2025-04-29T00:00:00.000000000",
          "2025-04-30T00:00:00.000000000",
          "2025-05-02T00:00:00.000000000",
          "2025-05-05T00:00:00.000000000",
          "2025-05-06T00:00:00.000000000",
          "2025-05-07T00:00:00.000000000",
          "2025-05-08T00:00:00.000000000",
          "2025-05-09T00:00:00.000000000",
          "2025-05-12T00:00:00.000000000",
          "2025-05-13T00:00:00.000000000",
          "2025-05-14T00:00:00.000000000",
          "2025-05-15T00:00:00.000000000",
          "2025-05-16T00:00:00.000000000",
          "2025-05-19T00:00:00.000000000",
          "2025-05-20T00:00:00.000000000",
          "2025-05-21T00:00:00.000000000",
          "2025-05-22T00:00:00.000000000",
          "2025-05-23T00:00:00.000000000",
          "2025-05-26T00:00:00.000000000",
          "2025-05-27T00:00:00.000000000",
          "2025-05-28T00:00:00.000000000",
          "2025-05-29T00:00:00.000000000",
          "2025-05-30T00:00:00.000000000",
          "2025-06-02T00:00:00.000000000",
          "2025-06-03T00:00:00.000000000",
          "2025-06-04T00:00:00.000000000",
          "2025-06-05T00:00:00.000000000",
          "2025-06-06T00:00:00.000000000",
          "2025-06-09T00:00:00.000000000",
          "2025-06-10T00:00:00.000000000",
          "2025-06-11T00:00:00.000000000",
          "2025-06-12T00:00:00.000000000",
          "2025-06-13T00:00:00.000000000",
          "2025-06-16T00:00:00.000000000",
          "2025-06-17T00:00:00.000000000",
          "2025-06-18T00:00:00.000000000",
          "2025-06-20T00:00:00.000000000",
          "2025-06-23T00:00:00.000000000",
          "2025-06-24T00:00:00.000000000",
          "2025-06-25T00:00:00.000000000",
          "2025-06-26T00:00:00.000000000",
          "2025-06-27T00:00:00.000000000",
          "2025-06-30T00:00:00.000000000",
          "2025-07-01T00:00:00.000000000",
          "2025-07-02T00:00:00.000000000",
          "2025-07-03T00:00:00.000000000",
          "2025-07-04T00:00:00.000000000",
          "2025-07-07T00:00:00.000000000",
          "2025-07-08T00:00:00.000000000",
          "2025-07-09T00:00:00.000000000",
          "2025-07-10T00:00:00.000000000",
          "2025-07-11T00:00:00.000000000",
          "2025-07-14T00:00:00.000000000",
          "2025-07-15T00:00:00.000000000",
          "2025-07-16T00:00:00.000000000",
          "2025-07-17T00:00:00.000000000",
          "2025-07-18T00:00:00.000000000",
          "2025-07-21T00:00:00.000000000",
          "2025-07-22T00:00:00.000000000",
          "2025-07-23T00:00:00.000000000",
          "2025-07-24T00:00:00.000000000",
          "2025-07-25T00:00:00.000000000",
          "2025-07-28T00:00:00.000000000",
          "2025-07-29T00:00:00.000000000",
          "2025-07-30T00:00:00.000000000",
          "2025-07-31T00:00:00.000000000",
          "2025-08-01T00:00:00.000000000",
          "2025-08-04T00:00:00.000000000",
          "2025-08-05T00:00:00.000000000",
          "2025-08-06T00:00:00.000000000",
          "2025-08-07T00:00:00.000000000",
          "2025-08-08T00:00:00.000000000",
          "2025-08-11T00:00:00.000000000",
          "2025-08-12T00:00:00.000000000",
          "2025-08-13T00:00:00.000000000",
          "2025-08-14T00:00:00.000000000",
          "2025-08-15T00:00:00.000000000",
          "2025-08-18T00:00:00.000000000",
          "2025-08-19T00:00:00.000000000",
          "2025-08-20T00:00:00.000000000",
          "2025-08-21T00:00:00.000000000",
          "2025-08-22T00:00:00.000000000",
          "2025-08-25T00:00:00.000000000",
          "2025-08-26T00:00:00.000000000",
          "2025-08-27T00:00:00.000000000",
          "2025-08-28T00:00:00.000000000",
          "2025-08-29T00:00:00.000000000",
          "2025-09-01T00:00:00.000000000",
          "2025-09-02T00:00:00.000000000",
          "2025-09-03T00:00:00.000000000",
          "2025-09-04T00:00:00.000000000",
          "2025-09-05T00:00:00.000000000",
          "2025-09-08T00:00:00.000000000",
          "2025-09-09T00:00:00.000000000",
          "2025-09-10T00:00:00.000000000",
          "2025-09-11T00:00:00.000000000",
          "2025-09-12T00:00:00.000000000",
          "2025-09-15T00:00:00.000000000",
          "2025-09-16T00:00:00.000000000",
          "2025-09-17T00:00:00.000000000",
          "2025-09-18T00:00:00.000000000",
          "2025-09-19T00:00:00.000000000",
          "2025-09-22T00:00:00.000000000",
          "2025-09-23T00:00:00.000000000",
          "2025-09-24T00:00:00.000000000",
          "2025-09-25T00:00:00.000000000",
          "2025-09-26T00:00:00.000000000",
          "2025-09-29T00:00:00.000000000",
          "2025-09-30T00:00:00.000000000",
          "2025-10-01T00:00:00.000000000",
          "2025-10-02T00:00:00.000000000",
          "2025-10-03T00:00:00.000000000"
         ],
         "y": {
          "bdata": "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",
          "dtype": "f8"
         },
         "yaxis": "y"
        },
        {
         "name": "Volatility Entropy",
         "type": "scatter",
         "x": [
          "2023-10-03T00:00:00.000000000",
          "2023-10-04T00:00:00.000000000",
          "2023-10-05T00:00:00.000000000",
          "2023-10-06T00:00:00.000000000",
          "2023-10-09T00:00:00.000000000",
          "2023-10-10T00:00:00.000000000",
          "2023-10-11T00:00:00.000000000",
          "2023-10-13T00:00:00.000000000",
          "2023-10-16T00:00:00.000000000",
          "2023-10-17T00:00:00.000000000",
          "2023-10-18T00:00:00.000000000",
          "2023-10-19T00:00:00.000000000",
          "2023-10-20T00:00:00.000000000",
          "2023-10-23T00:00:00.000000000",
          "2023-10-24T00:00:00.000000000",
          "2023-10-25T00:00:00.000000000",
          "2023-10-26T00:00:00.000000000",
          "2023-10-27T00:00:00.000000000",
          "2023-10-30T00:00:00.000000000",
          "2023-10-31T00:00:00.000000000",
          "2023-11-01T00:00:00.000000000",
          "2023-11-03T00:00:00.000000000",
          "2023-11-06T00:00:00.000000000",
          "2023-11-07T00:00:00.000000000",
          "2023-11-08T00:00:00.000000000",
          "2023-11-09T00:00:00.000000000",
          "2023-11-10T00:00:00.000000000",
          "2023-11-13T00:00:00.000000000",
          "2023-11-14T00:00:00.000000000",
          "2023-11-16T00:00:00.000000000",
          "2023-11-17T00:00:00.000000000",
          "2023-11-20T00:00:00.000000000",
          "2023-11-21T00:00:00.000000000",
          "2023-11-22T00:00:00.000000000",
          "2023-11-23T00:00:00.000000000",
          "2023-11-24T00:00:00.000000000",
          "2023-11-27T00:00:00.000000000",
          "2023-11-28T00:00:00.000000000",
          "2023-11-29T00:00:00.000000000",
          "2023-11-30T00:00:00.000000000",
          "2023-12-01T00:00:00.000000000",
          "2023-12-04T00:00:00.000000000",
          "2023-12-05T00:00:00.000000000",
          "2023-12-06T00:00:00.000000000",
          "2023-12-07T00:00:00.000000000",
          "2023-12-08T00:00:00.000000000",
          "2023-12-11T00:00:00.000000000",
          "2023-12-12T00:00:00.000000000",
          "2023-12-13T00:00:00.000000000",
          "2023-12-14T00:00:00.000000000",
          "2023-12-15T00:00:00.000000000",
          "2023-12-18T00:00:00.000000000",
          "2023-12-19T00:00:00.000000000",
          "2023-12-20T00:00:00.000000000",
          "2023-12-21T00:00:00.000000000",
          "2023-12-22T00:00:00.000000000",
          "2023-12-26T00:00:00.000000000",
          "2023-12-27T00:00:00.000000000",
          "2023-12-28T00:00:00.000000000",
          "2024-01-02T00:00:00.000000000",
          "2024-01-03T00:00:00.000000000",
          "2024-01-04T00:00:00.000000000",
          "2024-01-05T00:00:00.000000000",
          "2024-01-08T00:00:00.000000000",
          "2024-01-09T00:00:00.000000000",
          "2024-01-10T00:00:00.000000000",
          "2024-01-11T00:00:00.000000000",
          "2024-01-12T00:00:00.000000000",
          "2024-01-15T00:00:00.000000000",
          "2024-01-16T00:00:00.000000000",
          "2024-01-17T00:00:00.000000000",
          "2024-01-18T00:00:00.000000000",
          "2024-01-19T00:00:00.000000000",
          "2024-01-22T00:00:00.000000000",
          "2024-01-23T00:00:00.000000000",
          "2024-01-24T00:00:00.000000000",
          "2024-01-25T00:00:00.000000000",
          "2024-01-26T00:00:00.000000000",
          "2024-01-29T00:00:00.000000000",
          "2024-01-30T00:00:00.000000000",
          "2024-01-31T00:00:00.000000000",
          "2024-02-01T00:00:00.000000000",
          "2024-02-02T00:00:00.000000000",
          "2024-02-05T00:00:00.000000000",
          "2024-02-06T00:00:00.000000000",
          "2024-02-07T00:00:00.000000000",
          "2024-02-08T00:00:00.000000000",
          "2024-02-09T00:00:00.000000000",
          "2024-02-14T00:00:00.000000000",
          "2024-02-15T00:00:00.000000000",
          "2024-02-16T00:00:00.000000000",
          "2024-02-19T00:00:00.000000000",
          "2024-02-20T00:00:00.000000000",
          "2024-02-21T00:00:00.000000000",
          "2024-02-22T00:00:00.000000000",
          "2024-02-23T00:00:00.000000000",
          "2024-02-26T00:00:00.000000000",
          "2024-02-27T00:00:00.000000000",
          "2024-02-28T00:00:00.000000000",
          "2024-02-29T00:00:00.000000000",
          "2024-03-01T00:00:00.000000000",
          "2024-03-04T00:00:00.000000000",
          "2024-03-05T00:00:00.000000000",
          "2024-03-06T00:00:00.000000000",
          "2024-03-07T00:00:00.000000000",
          "2024-03-08T00:00:00.000000000",
          "2024-03-11T00:00:00.000000000",
          "2024-03-12T00:00:00.000000000",
          "2024-03-13T00:00:00.000000000",
          "2024-03-14T00:00:00.000000000",
          "2024-03-15T00:00:00.000000000",
          "2024-03-18T00:00:00.000000000",
          "2024-03-19T00:00:00.000000000",
          "2024-03-20T00:00:00.000000000",
          "2024-03-21T00:00:00.000000000",
          "2024-03-22T00:00:00.000000000",
          "2024-03-25T00:00:00.000000000",
          "2024-03-26T00:00:00.000000000",
          "2024-03-27T00:00:00.000000000",
          "2024-03-28T00:00:00.000000000",
          "2024-04-01T00:00:00.000000000",
          "2024-04-02T00:00:00.000000000",
          "2024-04-03T00:00:00.000000000",
          "2024-04-04T00:00:00.000000000",
          "2024-04-05T00:00:00.000000000",
          "2024-04-08T00:00:00.000000000",
          "2024-04-09T00:00:00.000000000",
          "2024-04-10T00:00:00.000000000",
          "2024-04-11T00:00:00.000000000",
          "2024-04-12T00:00:00.000000000",
          "2024-04-15T00:00:00.000000000",
          "2024-04-16T00:00:00.000000000",
          "2024-04-17T00:00:00.000000000",
          "2024-04-18T00:00:00.000000000",
          "2024-04-19T00:00:00.000000000",
          "2024-04-22T00:00:00.000000000",
          "2024-04-23T00:00:00.000000000",
          "2024-04-24T00:00:00.000000000",
          "2024-04-25T00:00:00.000000000",
          "2024-04-26T00:00:00.000000000",
          "2024-04-29T00:00:00.000000000",
          "2024-04-30T00:00:00.000000000",
          "2024-05-02T00:00:00.000000000",
          "2024-05-03T00:00:00.000000000",
          "2024-05-06T00:00:00.000000000",
          "2024-05-07T00:00:00.000000000",
          "2024-05-08T00:00:00.000000000",
          "2024-05-09T00:00:00.000000000",
          "2024-05-10T00:00:00.000000000",
          "2024-05-13T00:00:00.000000000",
          "2024-05-14T00:00:00.000000000",
          "2024-05-15T00:00:00.000000000",
          "2024-05-16T00:00:00.000000000",
          "2024-05-17T00:00:00.000000000",
          "2024-05-20T00:00:00.000000000",
          "2024-05-21T00:00:00.000000000",
          "2024-05-22T00:00:00.000000000",
          "2024-05-23T00:00:00.000000000",
          "2024-05-24T00:00:00.000000000",
          "2024-05-27T00:00:00.000000000",
          "2024-05-28T00:00:00.000000000",
          "2024-05-29T00:00:00.000000000",
          "2024-05-31T00:00:00.000000000",
          "2024-06-03T00:00:00.000000000",
          "2024-06-04T00:00:00.000000000",
          "2024-06-05T00:00:00.000000000",
          "2024-06-06T00:00:00.000000000",
          "2024-06-07T00:00:00.000000000",
          "2024-06-10T00:00:00.000000000",
          "2024-06-11T00:00:00.000000000",
          "2024-06-12T00:00:00.000000000",
          "2024-06-13T00:00:00.000000000",
          "2024-06-14T00:00:00.000000000",
          "2024-06-17T00:00:00.000000000",
          "2024-06-18T00:00:00.000000000",
          "2024-06-19T00:00:00.000000000",
          "2024-06-20T00:00:00.000000000",
          "2024-06-21T00:00:00.000000000",
          "2024-06-24T00:00:00.000000000",
          "2024-06-25T00:00:00.000000000",
          "2024-06-26T00:00:00.000000000",
          "2024-06-27T00:00:00.000000000",
          "2024-06-28T00:00:00.000000000",
          "2024-07-01T00:00:00.000000000",
          "2024-07-02T00:00:00.000000000",
          "2024-07-03T00:00:00.000000000",
          "2024-07-04T00:00:00.000000000",
          "2024-07-05T00:00:00.000000000",
          "2024-07-08T00:00:00.000000000",
          "2024-07-09T00:00:00.000000000",
          "2024-07-10T00:00:00.000000000",
          "2024-07-11T00:00:00.000000000",
          "2024-07-12T00:00:00.000000000",
          "2024-07-15T00:00:00.000000000",
          "2024-07-16T00:00:00.000000000",
          "2024-07-17T00:00:00.000000000",
          "2024-07-18T00:00:00.000000000",
          "2024-07-19T00:00:00.000000000",
          "2024-07-22T00:00:00.000000000",
          "2024-07-23T00:00:00.000000000",
          "2024-07-24T00:00:00.000000000",
          "2024-07-25T00:00:00.000000000",
          "2024-07-26T00:00:00.000000000",
          "2024-07-29T00:00:00.000000000",
          "2024-07-30T00:00:00.000000000",
          "2024-07-31T00:00:00.000000000",
          "2024-08-01T00:00:00.000000000",
          "2024-08-02T00:00:00.000000000",
          "2024-08-05T00:00:00.000000000",
          "2024-08-06T00:00:00.000000000",
          "2024-08-07T00:00:00.000000000",
          "2024-08-08T00:00:00.000000000",
          "2024-08-09T00:00:00.000000000",
          "2024-08-12T00:00:00.000000000",
          "2024-08-13T00:00:00.000000000",
          "2024-08-14T00:00:00.000000000",
          "2024-08-15T00:00:00.000000000",
          "2024-08-16T00:00:00.000000000",
          "2024-08-19T00:00:00.000000000",
          "2024-08-20T00:00:00.000000000",
          "2024-08-21T00:00:00.000000000",
          "2024-08-22T00:00:00.000000000",
          "2024-08-23T00:00:00.000000000",
          "2024-08-26T00:00:00.000000000",
          "2024-08-27T00:00:00.000000000",
          "2024-08-28T00:00:00.000000000",
          "2024-08-29T00:00:00.000000000",
          "2024-08-30T00:00:00.000000000",
          "2024-09-02T00:00:00.000000000",
          "2024-09-03T00:00:00.000000000",
          "2024-09-04T00:00:00.000000000",
          "2024-09-05T00:00:00.000000000",
          "2024-09-06T00:00:00.000000000",
          "2024-09-09T00:00:00.000000000",
          "2024-09-10T00:00:00.000000000",
          "2024-09-11T00:00:00.000000000",
          "2024-09-12T00:00:00.000000000",
          "2024-09-13T00:00:00.000000000",
          "2024-09-16T00:00:00.000000000",
          "2024-09-17T00:00:00.000000000",
          "2024-09-18T00:00:00.000000000",
          "2024-09-19T00:00:00.000000000",
          "2024-09-20T00:00:00.000000000",
          "2024-09-23T00:00:00.000000000",
          "2024-09-24T00:00:00.000000000",
          "2024-09-25T00:00:00.000000000",
          "2024-09-26T00:00:00.000000000",
          "2024-09-27T00:00:00.000000000",
          "2024-09-30T00:00:00.000000000",
          "2024-10-01T00:00:00.000000000",
          "2024-10-02T00:00:00.000000000",
          "2024-10-03T00:00:00.000000000",
          "2024-10-04T00:00:00.000000000",
          "2024-10-07T00:00:00.000000000",
          "2024-10-08T00:00:00.000000000",
          "2024-10-09T00:00:00.000000000",
          "2024-10-10T00:00:00.000000000",
          "2024-10-11T00:00:00.000000000",
          "2024-10-14T00:00:00.000000000",
          "2024-10-15T00:00:00.000000000",
          "2024-10-16T00:00:00.000000000",
          "2024-10-17T00:00:00.000000000",
          "2024-10-18T00:00:00.000000000",
          "2024-10-21T00:00:00.000000000",
          "2024-10-22T00:00:00.000000000",
          "2024-10-23T00:00:00.000000000",
          "2024-10-24T00:00:00.000000000",
          "2024-10-25T00:00:00.000000000",
          "2024-10-28T00:00:00.000000000",
          "2024-10-29T00:00:00.000000000",
          "2024-10-30T00:00:00.000000000",
          "2024-10-31T00:00:00.000000000",
          "2024-11-01T00:00:00.000000000",
          "2024-11-04T00:00:00.000000000",
          "2024-11-05T00:00:00.000000000",
          "2024-11-06T00:00:00.000000000",
          "2024-11-07T00:00:00.000000000",
          "2024-11-08T00:00:00.000000000",
          "2024-11-11T00:00:00.000000000",
          "2024-11-12T00:00:00.000000000",
          "2024-11-13T00:00:00.000000000",
          "2024-11-14T00:00:00.000000000",
          "2024-11-18T00:00:00.000000000",
          "2024-11-19T00:00:00.000000000",
          "2024-11-21T00:00:00.000000000",
          "2024-11-22T00:00:00.000000000",
          "2024-11-25T00:00:00.000000000",
          "2024-11-26T00:00:00.000000000",
          "2024-11-27T00:00:00.000000000",
          "2024-11-28T00:00:00.000000000",
          "2024-11-29T00:00:00.000000000",
          "2024-12-02T00:00:00.000000000",
          "2024-12-03T00:00:00.000000000",
          "2024-12-04T00:00:00.000000000",
          "2024-12-05T00:00:00.000000000",
          "2024-12-06T00:00:00.000000000",
          "2024-12-09T00:00:00.000000000",
          "2024-12-10T00:00:00.000000000",
          "2024-12-11T00:00:00.000000000",
          "2024-12-12T00:00:00.000000000",
          "2024-12-13T00:00:00.000000000",
          "2024-12-16T00:00:00.000000000",
          "2024-12-17T00:00:00.000000000",
          "2024-12-18T00:00:00.000000000",
          "2024-12-19T00:00:00.000000000",
          "2024-12-20T00:00:00.000000000",
          "2024-12-23T00:00:00.000000000",
          "2024-12-26T00:00:00.000000000",
          "2024-12-27T00:00:00.000000000",
          "2024-12-30T00:00:00.000000000",
          "2025-01-02T00:00:00.000000000",
          "2025-01-03T00:00:00.000000000",
          "2025-01-06T00:00:00.000000000",
          "2025-01-07T00:00:00.000000000",
          "2025-01-08T00:00:00.000000000",
          "2025-01-09T00:00:00.000000000",
          "2025-01-10T00:00:00.000000000",
          "2025-01-13T00:00:00.000000000",
          "2025-01-14T00:00:00.000000000",
          "2025-01-15T00:00:00.000000000",
          "2025-01-16T00:00:00.000000000",
          "2025-01-17T00:00:00.000000000",
          "2025-01-20T00:00:00.000000000",
          "2025-01-21T00:00:00.000000000",
          "2025-01-22T00:00:00.000000000",
          "2025-01-23T00:00:00.000000000",
          "2025-01-24T00:00:00.000000000",
          "2025-01-27T00:00:00.000000000",
          "2025-01-28T00:00:00.000000000",
          "2025-01-29T00:00:00.000000000",
          "2025-01-30T00:00:00.000000000",
          "2025-01-31T00:00:00.000000000",
          "2025-02-03T00:00:00.000000000",
          "2025-02-04T00:00:00.000000000",
          "2025-02-05T00:00:00.000000000",
          "2025-02-06T00:00:00.000000000",
          "2025-02-07T00:00:00.000000000",
          "2025-02-10T00:00:00.000000000",
          "2025-02-11T00:00:00.000000000",
          "2025-02-12T00:00:00.000000000",
          "2025-02-13T00:00:00.000000000",
          "2025-02-14T00:00:00.000000000",
          "2025-02-17T00:00:00.000000000",
          "2025-02-18T00:00:00.000000000",
          "2025-02-19T00:00:00.000000000",
          "2025-02-20T00:00:00.000000000",
          "2025-02-21T00:00:00.000000000",
          "2025-02-24T00:00:00.000000000",
          "2025-02-25T00:00:00.000000000",
          "2025-02-26T00:00:00.000000000",
          "2025-02-27T00:00:00.000000000",
          "2025-02-28T00:00:00.000000000",
          "2025-03-05T00:00:00.000000000",
          "2025-03-06T00:00:00.000000000",
          "2025-03-07T00:00:00.000000000",
          "2025-03-10T00:00:00.000000000",
          "2025-03-11T00:00:00.000000000",
          "2025-03-12T00:00:00.000000000",
          "2025-03-13T00:00:00.000000000",
          "2025-03-14T00:00:00.000000000",
          "2025-03-17T00:00:00.000000000",
          "2025-03-18T00:00:00.000000000",
          "2025-03-19T00:00:00.000000000",
          "2025-03-20T00:00:00.000000000",
          "2025-03-21T00:00:00.000000000",
          "2025-03-24T00:00:00.000000000",
          "2025-03-25T00:00:00.000000000",
          "2025-03-26T00:00:00.000000000",
          "2025-03-27T00:00:00.000000000",
          "2025-03-28T00:00:00.000000000",
          "2025-03-31T00:00:00.000000000",
          "2025-04-01T00:00:00.000000000",
          "2025-04-02T00:00:00.000000000",
          "2025-04-03T00:00:00.000000000",
          "2025-04-04T00:00:00.000000000",
          "2025-04-07T00:00:00.000000000",
          "2025-04-08T00:00:00.000000000",
          "2025-04-09T00:00:00.000000000",
          "2025-04-10T00:00:00.000000000",
          "2025-04-11T00:00:00.000000000",
          "2025-04-14T00:00:00.000000000",
          "2025-04-15T00:00:00.000000000",
          "2025-04-16T00:00:00.000000000",
          "2025-04-17T00:00:00.000000000",
          "2025-04-22T00:00:00.000000000",
          "2025-04-23T00:00:00.000000000",
          "2025-04-24T00:00:00.000000000",
          "2025-04-25T00:00:00.000000000",
          "2025-04-28T00:00:00.000000000",
          "2025-04-29T00:00:00.000000000",
          "2025-04-30T00:00:00.000000000",
          "2025-05-02T00:00:00.000000000",
          "2025-05-05T00:00:00.000000000",
          "2025-05-06T00:00:00.000000000",
          "2025-05-07T00:00:00.000000000",
          "2025-05-08T00:00:00.000000000",
          "2025-05-09T00:00:00.000000000",
          "2025-05-12T00:00:00.000000000",
          "2025-05-13T00:00:00.000000000",
          "2025-05-14T00:00:00.000000000",
          "2025-05-15T00:00:00.000000000",
          "2025-05-16T00:00:00.000000000",
          "2025-05-19T00:00:00.000000000",
          "2025-05-20T00:00:00.000000000",
          "2025-05-21T00:00:00.000000000",
          "2025-05-22T00:00:00.000000000",
          "2025-05-23T00:00:00.000000000",
          "2025-05-26T00:00:00.000000000",
          "2025-05-27T00:00:00.000000000",
          "2025-05-28T00:00:00.000000000",
          "2025-05-29T00:00:00.000000000",
          "2025-05-30T00:00:00.000000000",
          "2025-06-02T00:00:00.000000000",
          "2025-06-03T00:00:00.000000000",
          "2025-06-04T00:00:00.000000000",
          "2025-06-05T00:00:00.000000000",
          "2025-06-06T00:00:00.000000000",
          "2025-06-09T00:00:00.000000000",
          "2025-06-10T00:00:00.000000000",
          "2025-06-11T00:00:00.000000000",
          "2025-06-12T00:00:00.000000000",
          "2025-06-13T00:00:00.000000000",
          "2025-06-16T00:00:00.000000000",
          "2025-06-17T00:00:00.000000000",
          "2025-06-18T00:00:00.000000000",
          "2025-06-20T00:00:00.000000000",
          "2025-06-23T00:00:00.000000000",
          "2025-06-24T00:00:00.000000000",
          "2025-06-25T00:00:00.000000000",
          "2025-06-26T00:00:00.000000000",
          "2025-06-27T00:00:00.000000000",
          "2025-06-30T00:00:00.000000000",
          "2025-07-01T00:00:00.000000000",
          "2025-07-02T00:00:00.000000000",
          "2025-07-03T00:00:00.000000000",
          "2025-07-04T00:00:00.000000000",
          "2025-07-07T00:00:00.000000000",
          "2025-07-08T00:00:00.000000000",
          "2025-07-09T00:00:00.000000000",
          "2025-07-10T00:00:00.000000000",
          "2025-07-11T00:00:00.000000000",
          "2025-07-14T00:00:00.000000000",
          "2025-07-15T00:00:00.000000000",
          "2025-07-16T00:00:00.000000000",
          "2025-07-17T00:00:00.000000000",
          "2025-07-18T00:00:00.000000000",
          "2025-07-21T00:00:00.000000000",
          "2025-07-22T00:00:00.000000000",
          "2025-07-23T00:00:00.000000000",
          "2025-07-24T00:00:00.000000000",
          "2025-07-25T00:00:00.000000000",
          "2025-07-28T00:00:00.000000000",
          "2025-07-29T00:00:00.000000000",
          "2025-07-30T00:00:00.000000000",
          "2025-07-31T00:00:00.000000000",
          "2025-08-01T00:00:00.000000000",
          "2025-08-04T00:00:00.000000000",
          "2025-08-05T00:00:00.000000000",
          "2025-08-06T00:00:00.000000000",
          "2025-08-07T00:00:00.000000000",
          "2025-08-08T00:00:00.000000000",
          "2025-08-11T00:00:00.000000000",
          "2025-08-12T00:00:00.000000000",
          "2025-08-13T00:00:00.000000000",
          "2025-08-14T00:00:00.000000000",
          "2025-08-15T00:00:00.000000000",
          "2025-08-18T00:00:00.000000000",
          "2025-08-19T00:00:00.000000000",
          "2025-08-20T00:00:00.000000000",
          "2025-08-21T00:00:00.000000000",
          "2025-08-22T00:00:00.000000000",
          "2025-08-25T00:00:00.000000000",
          "2025-08-26T00:00:00.000000000",
          "2025-08-27T00:00:00.000000000",
          "2025-08-28T00:00:00.000000000",
          "2025-08-29T00:00:00.000000000",
          "2025-09-01T00:00:00.000000000",
          "2025-09-02T00:00:00.000000000",
          "2025-09-03T00:00:00.000000000",
          "2025-09-04T00:00:00.000000000",
          "2025-09-05T00:00:00.000000000",
          "2025-09-08T00:00:00.000000000",
          "2025-09-09T00:00:00.000000000",
          "2025-09-10T00:00:00.000000000",
          "2025-09-11T00:00:00.000000000",
          "2025-09-12T00:00:00.000000000",
          "2025-09-15T00:00:00.000000000",
          "2025-09-16T00:00:00.000000000",
          "2025-09-17T00:00:00.000000000",
          "2025-09-18T00:00:00.000000000",
          "2025-09-19T00:00:00.000000000",
          "2025-09-22T00:00:00.000000000",
          "2025-09-23T00:00:00.000000000",
          "2025-09-24T00:00:00.000000000",
          "2025-09-25T00:00:00.000000000",
          "2025-09-26T00:00:00.000000000",
          "2025-09-29T00:00:00.000000000",
          "2025-09-30T00:00:00.000000000",
          "2025-10-01T00:00:00.000000000",
          "2025-10-02T00:00:00.000000000",
          "2025-10-03T00:00:00.000000000"
         ],
         "y": {
          "bdata": "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",
          "dtype": "f8"
         },
         "yaxis": "y2"
        },
        {
         "name": "Volatility RSI",
         "type": "scatter",
         "x": [
          "2023-10-03T00:00:00.000000000",
          "2023-10-04T00:00:00.000000000",
          "2023-10-05T00:00:00.000000000",
          "2023-10-06T00:00:00.000000000",
          "2023-10-09T00:00:00.000000000",
          "2023-10-10T00:00:00.000000000",
          "2023-10-11T00:00:00.000000000",
          "2023-10-13T00:00:00.000000000",
          "2023-10-16T00:00:00.000000000",
          "2023-10-17T00:00:00.000000000",
          "2023-10-18T00:00:00.000000000",
          "2023-10-19T00:00:00.000000000",
          "2023-10-20T00:00:00.000000000",
          "2023-10-23T00:00:00.000000000",
          "2023-10-24T00:00:00.000000000",
          "2023-10-25T00:00:00.000000000",
          "2023-10-26T00:00:00.000000000",
          "2023-10-27T00:00:00.000000000",
          "2023-10-30T00:00:00.000000000",
          "2023-10-31T00:00:00.000000000",
          "2023-11-01T00:00:00.000000000",
          "2023-11-03T00:00:00.000000000",
          "2023-11-06T00:00:00.000000000",
          "2023-11-07T00:00:00.000000000",
          "2023-11-08T00:00:00.000000000",
          "2023-11-09T00:00:00.000000000",
          "2023-11-10T00:00:00.000000000",
          "2023-11-13T00:00:00.000000000",
          "2023-11-14T00:00:00.000000000",
          "2023-11-16T00:00:00.000000000",
          "2023-11-17T00:00:00.000000000",
          "2023-11-20T00:00:00.000000000",
          "2023-11-21T00:00:00.000000000",
          "2023-11-22T00:00:00.000000000",
          "2023-11-23T00:00:00.000000000",
          "2023-11-24T00:00:00.000000000",
          "2023-11-27T00:00:00.000000000",
          "2023-11-28T00:00:00.000000000",
          "2023-11-29T00:00:00.000000000",
          "2023-11-30T00:00:00.000000000",
          "2023-12-01T00:00:00.000000000",
          "2023-12-04T00:00:00.000000000",
          "2023-12-05T00:00:00.000000000",
          "2023-12-06T00:00:00.000000000",
          "2023-12-07T00:00:00.000000000",
          "2023-12-08T00:00:00.000000000",
          "2023-12-11T00:00:00.000000000",
          "2023-12-12T00:00:00.000000000",
          "2023-12-13T00:00:00.000000000",
          "2023-12-14T00:00:00.000000000",
          "2023-12-15T00:00:00.000000000",
          "2023-12-18T00:00:00.000000000",
          "2023-12-19T00:00:00.000000000",
          "2023-12-20T00:00:00.000000000",
          "2023-12-21T00:00:00.000000000",
          "2023-12-22T00:00:00.000000000",
          "2023-12-26T00:00:00.000000000",
          "2023-12-27T00:00:00.000000000",
          "2023-12-28T00:00:00.000000000",
          "2024-01-02T00:00:00.000000000",
          "2024-01-03T00:00:00.000000000",
          "2024-01-04T00:00:00.000000000",
          "2024-01-05T00:00:00.000000000",
          "2024-01-08T00:00:00.000000000",
          "2024-01-09T00:00:00.000000000",
          "2024-01-10T00:00:00.000000000",
          "2024-01-11T00:00:00.000000000",
          "2024-01-12T00:00:00.000000000",
          "2024-01-15T00:00:00.000000000",
          "2024-01-16T00:00:00.000000000",
          "2024-01-17T00:00:00.000000000",
          "2024-01-18T00:00:00.000000000",
          "2024-01-19T00:00:00.000000000",
          "2024-01-22T00:00:00.000000000",
          "2024-01-23T00:00:00.000000000",
          "2024-01-24T00:00:00.000000000",
          "2024-01-25T00:00:00.000000000",
          "2024-01-26T00:00:00.000000000",
          "2024-01-29T00:00:00.000000000",
          "2024-01-30T00:00:00.000000000",
          "2024-01-31T00:00:00.000000000",
          "2024-02-01T00:00:00.000000000",
          "2024-02-02T00:00:00.000000000",
          "2024-02-05T00:00:00.000000000",
          "2024-02-06T00:00:00.000000000",
          "2024-02-07T00:00:00.000000000",
          "2024-02-08T00:00:00.000000000",
          "2024-02-09T00:00:00.000000000",
          "2024-02-14T00:00:00.000000000",
          "2024-02-15T00:00:00.000000000",
          "2024-02-16T00:00:00.000000000",
          "2024-02-19T00:00:00.000000000",
          "2024-02-20T00:00:00.000000000",
          "2024-02-21T00:00:00.000000000",
          "2024-02-22T00:00:00.000000000",
          "2024-02-23T00:00:00.000000000",
          "2024-02-26T00:00:00.000000000",
          "2024-02-27T00:00:00.000000000",
          "2024-02-28T00:00:00.000000000",
          "2024-02-29T00:00:00.000000000",
          "2024-03-01T00:00:00.000000000",
          "2024-03-04T00:00:00.000000000",
          "2024-03-05T00:00:00.000000000",
          "2024-03-06T00:00:00.000000000",
          "2024-03-07T00:00:00.000000000",
          "2024-03-08T00:00:00.000000000",
          "2024-03-11T00:00:00.000000000",
          "2024-03-12T00:00:00.000000000",
          "2024-03-13T00:00:00.000000000",
          "2024-03-14T00:00:00.000000000",
          "2024-03-15T00:00:00.000000000",
          "2024-03-18T00:00:00.000000000",
          "2024-03-19T00:00:00.000000000",
          "2024-03-20T00:00:00.000000000",
          "2024-03-21T00:00:00.000000000",
          "2024-03-22T00:00:00.000000000",
          "2024-03-25T00:00:00.000000000",
          "2024-03-26T00:00:00.000000000",
          "2024-03-27T00:00:00.000000000",
          "2024-03-28T00:00:00.000000000",
          "2024-04-01T00:00:00.000000000",
          "2024-04-02T00:00:00.000000000",
          "2024-04-03T00:00:00.000000000",
          "2024-04-04T00:00:00.000000000",
          "2024-04-05T00:00:00.000000000",
          "2024-04-08T00:00:00.000000000",
          "2024-04-09T00:00:00.000000000",
          "2024-04-10T00:00:00.000000000",
          "2024-04-11T00:00:00.000000000",
          "2024-04-12T00:00:00.000000000",
          "2024-04-15T00:00:00.000000000",
          "2024-04-16T00:00:00.000000000",
          "2024-04-17T00:00:00.000000000",
          "2024-04-18T00:00:00.000000000",
          "2024-04-19T00:00:00.000000000",
          "2024-04-22T00:00:00.000000000",
          "2024-04-23T00:00:00.000000000",
          "2024-04-24T00:00:00.000000000",
          "2024-04-25T00:00:00.000000000",
          "2024-04-26T00:00:00.000000000",
          "2024-04-29T00:00:00.000000000",
          "2024-04-30T00:00:00.000000000",
          "2024-05-02T00:00:00.000000000",
          "2024-05-03T00:00:00.000000000",
          "2024-05-06T00:00:00.000000000",
          "2024-05-07T00:00:00.000000000",
          "2024-05-08T00:00:00.000000000",
          "2024-05-09T00:00:00.000000000",
          "2024-05-10T00:00:00.000000000",
          "2024-05-13T00:00:00.000000000",
          "2024-05-14T00:00:00.000000000",
          "2024-05-15T00:00:00.000000000",
          "2024-05-16T00:00:00.000000000",
          "2024-05-17T00:00:00.000000000",
          "2024-05-20T00:00:00.000000000",
          "2024-05-21T00:00:00.000000000",
          "2024-05-22T00:00:00.000000000",
          "2024-05-23T00:00:00.000000000",
          "2024-05-24T00:00:00.000000000",
          "2024-05-27T00:00:00.000000000",
          "2024-05-28T00:00:00.000000000",
          "2024-05-29T00:00:00.000000000",
          "2024-05-31T00:00:00.000000000",
          "2024-06-03T00:00:00.000000000",
          "2024-06-04T00:00:00.000000000",
          "2024-06-05T00:00:00.000000000",
          "2024-06-06T00:00:00.000000000",
          "2024-06-07T00:00:00.000000000",
          "2024-06-10T00:00:00.000000000",
          "2024-06-11T00:00:00.000000000",
          "2024-06-12T00:00:00.000000000",
          "2024-06-13T00:00:00.000000000",
          "2024-06-14T00:00:00.000000000",
          "2024-06-17T00:00:00.000000000",
          "2024-06-18T00:00:00.000000000",
          "2024-06-19T00:00:00.000000000",
          "2024-06-20T00:00:00.000000000",
          "2024-06-21T00:00:00.000000000",
          "2024-06-24T00:00:00.000000000",
          "2024-06-25T00:00:00.000000000",
          "2024-06-26T00:00:00.000000000",
          "2024-06-27T00:00:00.000000000",
          "2024-06-28T00:00:00.000000000",
          "2024-07-01T00:00:00.000000000",
          "2024-07-02T00:00:00.000000000",
          "2024-07-03T00:00:00.000000000",
          "2024-07-04T00:00:00.000000000",
          "2024-07-05T00:00:00.000000000",
          "2024-07-08T00:00:00.000000000",
          "2024-07-09T00:00:00.000000000",
          "2024-07-10T00:00:00.000000000",
          "2024-07-11T00:00:00.000000000",
          "2024-07-12T00:00:00.000000000",
          "2024-07-15T00:00:00.000000000",
          "2024-07-16T00:00:00.000000000",
          "2024-07-17T00:00:00.000000000",
          "2024-07-18T00:00:00.000000000",
          "2024-07-19T00:00:00.000000000",
          "2024-07-22T00:00:00.000000000",
          "2024-07-23T00:00:00.000000000",
          "2024-07-24T00:00:00.000000000",
          "2024-07-25T00:00:00.000000000",
          "2024-07-26T00:00:00.000000000",
          "2024-07-29T00:00:00.000000000",
          "2024-07-30T00:00:00.000000000",
          "2024-07-31T00:00:00.000000000",
          "2024-08-01T00:00:00.000000000",
          "2024-08-02T00:00:00.000000000",
          "2024-08-05T00:00:00.000000000",
          "2024-08-06T00:00:00.000000000",
          "2024-08-07T00:00:00.000000000",
          "2024-08-08T00:00:00.000000000",
          "2024-08-09T00:00:00.000000000",
          "2024-08-12T00:00:00.000000000",
          "2024-08-13T00:00:00.000000000",
          "2024-08-14T00:00:00.000000000",
          "2024-08-15T00:00:00.000000000",
          "2024-08-16T00:00:00.000000000",
          "2024-08-19T00:00:00.000000000",
          "2024-08-20T00:00:00.000000000",
          "2024-08-21T00:00:00.000000000",
          "2024-08-22T00:00:00.000000000",
          "2024-08-23T00:00:00.000000000",
          "2024-08-26T00:00:00.000000000",
          "2024-08-27T00:00:00.000000000",
          "2024-08-28T00:00:00.000000000",
          "2024-08-29T00:00:00.000000000",
          "2024-08-30T00:00:00.000000000",
          "2024-09-02T00:00:00.000000000",
          "2024-09-03T00:00:00.000000000",
          "2024-09-04T00:00:00.000000000",
          "2024-09-05T00:00:00.000000000",
          "2024-09-06T00:00:00.000000000",
          "2024-09-09T00:00:00.000000000",
          "2024-09-10T00:00:00.000000000",
          "2024-09-11T00:00:00.000000000",
          "2024-09-12T00:00:00.000000000",
          "2024-09-13T00:00:00.000000000",
          "2024-09-16T00:00:00.000000000",
          "2024-09-17T00:00:00.000000000",
          "2024-09-18T00:00:00.000000000",
          "2024-09-19T00:00:00.000000000",
          "2024-09-20T00:00:00.000000000",
          "2024-09-23T00:00:00.000000000",
          "2024-09-24T00:00:00.000000000",
          "2024-09-25T00:00:00.000000000",
          "2024-09-26T00:00:00.000000000",
          "2024-09-27T00:00:00.000000000",
          "2024-09-30T00:00:00.000000000",
          "2024-10-01T00:00:00.000000000",
          "2024-10-02T00:00:00.000000000",
          "2024-10-03T00:00:00.000000000",
          "2024-10-04T00:00:00.000000000",
          "2024-10-07T00:00:00.000000000",
          "2024-10-08T00:00:00.000000000",
          "2024-10-09T00:00:00.000000000",
          "2024-10-10T00:00:00.000000000",
          "2024-10-11T00:00:00.000000000",
          "2024-10-14T00:00:00.000000000",
          "2024-10-15T00:00:00.000000000",
          "2024-10-16T00:00:00.000000000",
          "2024-10-17T00:00:00.000000000",
          "2024-10-18T00:00:00.000000000",
          "2024-10-21T00:00:00.000000000",
          "2024-10-22T00:00:00.000000000",
          "2024-10-23T00:00:00.000000000",
          "2024-10-24T00:00:00.000000000",
          "2024-10-25T00:00:00.000000000",
          "2024-10-28T00:00:00.000000000",
          "2024-10-29T00:00:00.000000000",
          "2024-10-30T00:00:00.000000000",
          "2024-10-31T00:00:00.000000000",
          "2024-11-01T00:00:00.000000000",
          "2024-11-04T00:00:00.000000000",
          "2024-11-05T00:00:00.000000000",
          "2024-11-06T00:00:00.000000000",
          "2024-11-07T00:00:00.000000000",
          "2024-11-08T00:00:00.000000000",
          "2024-11-11T00:00:00.000000000",
          "2024-11-12T00:00:00.000000000",
          "2024-11-13T00:00:00.000000000",
          "2024-11-14T00:00:00.000000000",
          "2024-11-18T00:00:00.000000000",
          "2024-11-19T00:00:00.000000000",
          "2024-11-21T00:00:00.000000000",
          "2024-11-22T00:00:00.000000000",
          "2024-11-25T00:00:00.000000000",
          "2024-11-26T00:00:00.000000000",
          "2024-11-27T00:00:00.000000000",
          "2024-11-28T00:00:00.000000000",
          "2024-11-29T00:00:00.000000000",
          "2024-12-02T00:00:00.000000000",
          "2024-12-03T00:00:00.000000000",
          "2024-12-04T00:00:00.000000000",
          "2024-12-05T00:00:00.000000000",
          "2024-12-06T00:00:00.000000000",
          "2024-12-09T00:00:00.000000000",
          "2024-12-10T00:00:00.000000000",
          "2024-12-11T00:00:00.000000000",
          "2024-12-12T00:00:00.000000000",
          "2024-12-13T00:00:00.000000000",
          "2024-12-16T00:00:00.000000000",
          "2024-12-17T00:00:00.000000000",
          "2024-12-18T00:00:00.000000000",
          "2024-12-19T00:00:00.000000000",
          "2024-12-20T00:00:00.000000000",
          "2024-12-23T00:00:00.000000000",
          "2024-12-26T00:00:00.000000000",
          "2024-12-27T00:00:00.000000000",
          "2024-12-30T00:00:00.000000000",
          "2025-01-02T00:00:00.000000000",
          "2025-01-03T00:00:00.000000000",
          "2025-01-06T00:00:00.000000000",
          "2025-01-07T00:00:00.000000000",
          "2025-01-08T00:00:00.000000000",
          "2025-01-09T00:00:00.000000000",
          "2025-01-10T00:00:00.000000000",
          "2025-01-13T00:00:00.000000000",
          "2025-01-14T00:00:00.000000000",
          "2025-01-15T00:00:00.000000000",
          "2025-01-16T00:00:00.000000000",
          "2025-01-17T00:00:00.000000000",
          "2025-01-20T00:00:00.000000000",
          "2025-01-21T00:00:00.000000000",
          "2025-01-22T00:00:00.000000000",
          "2025-01-23T00:00:00.000000000",
          "2025-01-24T00:00:00.000000000",
          "2025-01-27T00:00:00.000000000",
          "2025-01-28T00:00:00.000000000",
          "2025-01-29T00:00:00.000000000",
          "2025-01-30T00:00:00.000000000",
          "2025-01-31T00:00:00.000000000",
          "2025-02-03T00:00:00.000000000",
          "2025-02-04T00:00:00.000000000",
          "2025-02-05T00:00:00.000000000",
          "2025-02-06T00:00:00.000000000",
          "2025-02-07T00:00:00.000000000",
          "2025-02-10T00:00:00.000000000",
          "2025-02-11T00:00:00.000000000",
          "2025-02-12T00:00:00.000000000",
          "2025-02-13T00:00:00.000000000",
          "2025-02-14T00:00:00.000000000",
          "2025-02-17T00:00:00.000000000",
          "2025-02-18T00:00:00.000000000",
          "2025-02-19T00:00:00.000000000",
          "2025-02-20T00:00:00.000000000",
          "2025-02-21T00:00:00.000000000",
          "2025-02-24T00:00:00.000000000",
          "2025-02-25T00:00:00.000000000",
          "2025-02-26T00:00:00.000000000",
          "2025-02-27T00:00:00.000000000",
          "2025-02-28T00:00:00.000000000",
          "2025-03-05T00:00:00.000000000",
          "2025-03-06T00:00:00.000000000",
          "2025-03-07T00:00:00.000000000",
          "2025-03-10T00:00:00.000000000",
          "2025-03-11T00:00:00.000000000",
          "2025-03-12T00:00:00.000000000",
          "2025-03-13T00:00:00.000000000",
          "2025-03-14T00:00:00.000000000",
          "2025-03-17T00:00:00.000000000",
          "2025-03-18T00:00:00.000000000",
          "2025-03-19T00:00:00.000000000",
          "2025-03-20T00:00:00.000000000",
          "2025-03-21T00:00:00.000000000",
          "2025-03-24T00:00:00.000000000",
          "2025-03-25T00:00:00.000000000",
          "2025-03-26T00:00:00.000000000",
          "2025-03-27T00:00:00.000000000",
          "2025-03-28T00:00:00.000000000",
          "2025-03-31T00:00:00.000000000",
          "2025-04-01T00:00:00.000000000",
          "2025-04-02T00:00:00.000000000",
          "2025-04-03T00:00:00.000000000",
          "2025-04-04T00:00:00.000000000",
          "2025-04-07T00:00:00.000000000",
          "2025-04-08T00:00:00.000000000",
          "2025-04-09T00:00:00.000000000",
          "2025-04-10T00:00:00.000000000",
          "2025-04-11T00:00:00.000000000",
          "2025-04-14T00:00:00.000000000",
          "2025-04-15T00:00:00.000000000",
          "2025-04-16T00:00:00.000000000",
          "2025-04-17T00:00:00.000000000",
          "2025-04-22T00:00:00.000000000",
          "2025-04-23T00:00:00.000000000",
          "2025-04-24T00:00:00.000000000",
          "2025-04-25T00:00:00.000000000",
          "2025-04-28T00:00:00.000000000",
          "2025-04-29T00:00:00.000000000",
          "2025-04-30T00:00:00.000000000",
          "2025-05-02T00:00:00.000000000",
          "2025-05-05T00:00:00.000000000",
          "2025-05-06T00:00:00.000000000",
          "2025-05-07T00:00:00.000000000",
          "2025-05-08T00:00:00.000000000",
          "2025-05-09T00:00:00.000000000",
          "2025-05-12T00:00:00.000000000",
          "2025-05-13T00:00:00.000000000",
          "2025-05-14T00:00:00.000000000",
          "2025-05-15T00:00:00.000000000",
          "2025-05-16T00:00:00.000000000",
          "2025-05-19T00:00:00.000000000",
          "2025-05-20T00:00:00.000000000",
          "2025-05-21T00:00:00.000000000",
          "2025-05-22T00:00:00.000000000",
          "2025-05-23T00:00:00.000000000",
          "2025-05-26T00:00:00.000000000",
          "2025-05-27T00:00:00.000000000",
          "2025-05-28T00:00:00.000000000",
          "2025-05-29T00:00:00.000000000",
          "2025-05-30T00:00:00.000000000",
          "2025-06-02T00:00:00.000000000",
          "2025-06-03T00:00:00.000000000",
          "2025-06-04T00:00:00.000000000",
          "2025-06-05T00:00:00.000000000",
          "2025-06-06T00:00:00.000000000",
          "2025-06-09T00:00:00.000000000",
          "2025-06-10T00:00:00.000000000",
          "2025-06-11T00:00:00.000000000",
          "2025-06-12T00:00:00.000000000",
          "2025-06-13T00:00:00.000000000",
          "2025-06-16T00:00:00.000000000",
          "2025-06-17T00:00:00.000000000",
          "2025-06-18T00:00:00.000000000",
          "2025-06-20T00:00:00.000000000",
          "2025-06-23T00:00:00.000000000",
          "2025-06-24T00:00:00.000000000",
          "2025-06-25T00:00:00.000000000",
          "2025-06-26T00:00:00.000000000",
          "2025-06-27T00:00:00.000000000",
          "2025-06-30T00:00:00.000000000",
          "2025-07-01T00:00:00.000000000",
          "2025-07-02T00:00:00.000000000",
          "2025-07-03T00:00:00.000000000",
          "2025-07-04T00:00:00.000000000",
          "2025-07-07T00:00:00.000000000",
          "2025-07-08T00:00:00.000000000",
          "2025-07-09T00:00:00.000000000",
          "2025-07-10T00:00:00.000000000",
          "2025-07-11T00:00:00.000000000",
          "2025-07-14T00:00:00.000000000",
          "2025-07-15T00:00:00.000000000",
          "2025-07-16T00:00:00.000000000",
          "2025-07-17T00:00:00.000000000",
          "2025-07-18T00:00:00.000000000",
          "2025-07-21T00:00:00.000000000",
          "2025-07-22T00:00:00.000000000",
          "2025-07-23T00:00:00.000000000",
          "2025-07-24T00:00:00.000000000",
          "2025-07-25T00:00:00.000000000",
          "2025-07-28T00:00:00.000000000",
          "2025-07-29T00:00:00.000000000",
          "2025-07-30T00:00:00.000000000",
          "2025-07-31T00:00:00.000000000",
          "2025-08-01T00:00:00.000000000",
          "2025-08-04T00:00:00.000000000",
          "2025-08-05T00:00:00.000000000",
          "2025-08-06T00:00:00.000000000",
          "2025-08-07T00:00:00.000000000",
          "2025-08-08T00:00:00.000000000",
          "2025-08-11T00:00:00.000000000",
          "2025-08-12T00:00:00.000000000",
          "2025-08-13T00:00:00.000000000",
          "2025-08-14T00:00:00.000000000",
          "2025-08-15T00:00:00.000000000",
          "2025-08-18T00:00:00.000000000",
          "2025-08-19T00:00:00.000000000",
          "2025-08-20T00:00:00.000000000",
          "2025-08-21T00:00:00.000000000",
          "2025-08-22T00:00:00.000000000",
          "2025-08-25T00:00:00.000000000",
          "2025-08-26T00:00:00.000000000",
          "2025-08-27T00:00:00.000000000",
          "2025-08-28T00:00:00.000000000",
          "2025-08-29T00:00:00.000000000",
          "2025-09-01T00:00:00.000000000",
          "2025-09-02T00:00:00.000000000",
          "2025-09-03T00:00:00.000000000",
          "2025-09-04T00:00:00.000000000",
          "2025-09-05T00:00:00.000000000",
          "2025-09-08T00:00:00.000000000",
          "2025-09-09T00:00:00.000000000",
          "2025-09-10T00:00:00.000000000",
          "2025-09-11T00:00:00.000000000",
          "2025-09-12T00:00:00.000000000",
          "2025-09-15T00:00:00.000000000",
          "2025-09-16T00:00:00.000000000",
          "2025-09-17T00:00:00.000000000",
          "2025-09-18T00:00:00.000000000",
          "2025-09-19T00:00:00.000000000",
          "2025-09-22T00:00:00.000000000",
          "2025-09-23T00:00:00.000000000",
          "2025-09-24T00:00:00.000000000",
          "2025-09-25T00:00:00.000000000",
          "2025-09-26T00:00:00.000000000",
          "2025-09-29T00:00:00.000000000",
          "2025-09-30T00:00:00.000000000",
          "2025-10-01T00:00:00.000000000",
          "2025-10-02T00:00:00.000000000",
          "2025-10-03T00:00:00.000000000"
         ],
         "y": {
          "bdata": "7fGL/0ajTUDt8Yv/RqNNQO3xi/9Go01A7fGL/0ajTUDt8Yv/RqNNQO3xi/9Go01A7fGL/0ajTUDt8Yv/RqNNQO3xi/9Go01A7fGL/0ajTUDt8Yv/RqNNQO3xi/9Go01A7fGL/0ajTUDt8Yv/RqNNQIWtMTF+nU5AVC8pTsj3TkDXe8GIaNRNQJ4O3be/BU1A8QVH55PlS0ASemlCiNZKQJE4UpuP2UtAcivwGdbxTECCNcA2xdVMQIX4adSRsUpABnQZH/I6SEC88cMtPXJKQBUaLXvW50lAqs/6OiG+TEC7LtrIvQVOQFyOyWZitktALRN/oaapTkDK4xyc1btOQO+SDM9pRE1AxeC29yPBTUC+hGe+ychNQNFD/Bm+GU5A1SWGEZUeTUB+vF0cfOVOQFY0/yTdCU1ACep70ZdET0BBZxV0kw1OQEF83QtqiUpAbHv+tt3ZSUAgS0+tADxFQGd80APn+URAP2Q91UFNSUBxSsFYXdFIQHzAWDJ4w0dAp0guIVa1SUAXNfJJb1pMQEoB/nDjnkxAL3uQLgoUTkDP/OT7nlpPQGukeYHCwE9As1sf9wbJT0AYhTCmSnZQQIE5liAZVVFA044D7v1fUUCa8vQiHvhQQD47PuMiyVFAMvuvD7MtU0CyZHhA5x9SQMMvjCHcO1JA2vNiiAZIUUBwFsi93T1QQFQ9G4QMZU5A3yz6JuKPT0CuY4cUmexPQM2Sxvb1rlBAGcvjAPVQTkCC124R3QFNQPlKHqKpHUxAifzEaHjtSkB4AbbDdclLQBR3sKwXAU5A0yRBwE8jTEDqruZ/eL1QQEDQD6AfrVFAQCtD2CRmUkCgTaf2jaFRQJBxDlTZK1JA2ANsMK4JU0BFmsxvvnJRQJ7Gon8Aq1FAzySS03ofUkCENGaBDMpSQJE7t/WvwVFAaNRtlustUED1qC9rQLtOQFrRTY/2KFFAuV+tbQ2aUUA8CUsr+tVRQAirrGZFn1BA7zdL4wa0UECg/TkQyKVPQHN9ApvRGU5AshXudlBMUEC+keTL9CFQQGgWBXAmCEdAzckGofkhRkCtOqqSGktGQJTlQFzf80VALX8opgOHRUC5YdaYG05JQOOK4xEBlUdABFutsSd0PUB85VBpC2o6QLpOCVPkQkFAhI5dxB2GQEAuC0AQhEBAQOKe/SEkn0BAoPysiUKzQEB4LYCFzSVAQEpEIxgFv0JAvKC0IV6SQEBSBgWY1fhBQHhEyj+XF0RAcKYmWns+Q0B3jZvyWmREQKQ8UTJtYUdAA8+RqLRgSEAZuMYJjmxLQGJ8xCP9t0pAt++eEh0vSUAAb/Hmf5hJQA29+HhuYUtAKr1rgjq2S0DBkONRpF9OQOgr1UpvHE1A8AysiByUS0DoB1bYJdBMQCjVWc83aE1A9Uclv8VcTkAq/Y5aqphOQDAcpEOcX1BAE0cScuqgUUCB8jZtVmdRQEdjdaaO2lBAPkHS1qMUUkAJa6gFR7JSQGNIEZ5sLVNAmLE327fGUkBEnO6NtPFSQKNJL4EZQ1FAQZ2neNehUUAgUMf8E0NSQOXqPW0K91JAEpiQgnZfU0DuY+UjjA9TQH2SCvAuG1NA/JJUbX2MUEDfyc2gbHFGQMs/FNzzZENAfCRsh7QBQkACvYr7ZEFCQN/+rlkuFEJAnq50ny1KREAjk8+qeTpDQDZX84UDqUJAuBdHJRmJREBbolWUttxHQOJnCScQrkdAhvb3D0+GS0Ca7UTDYK1KQODe+9w1+0hAwGIspswtSUDWG+DRk+pJQGoqCWJ2okRAgjSTnKLxRkB925/WRpVHQDBVkeJF3URAsII4gJHBQ0Akga403ZNBQA5nYaf0NEJAqfccGZzyRkANb73mFRFHQFziyveaSklAVkql5MEASkDevqY1pV5LQKP77Z34O0tAcg1HeW55S0D3NCXWF9dNQPL9ZTeFBE9AstPY3LJtUEAArpRvzxRQQJBfrXFPiUxAjxJ65ioUSkDhG7kAGOdKQAJUzxTsRE5AMmutmrk3TkDvaQyWjlhMQGBdlDhbV01AWSZQPXleTECYIA6kv8VNQF7+BCOUME1ACv2HfBEITkDYfAyqnpRNQCVydRn6Tk5Ayz0yQ/qUSUDnJ21gpxxHQHfTw0KhuEhAbhRFoV51SEB3Od/0jTxIQHy72RL9cERAu2m7LuVyQ0C2TOEQMPNHQBkln2srZ0VACqd2AQiAQUDCMxWKYWhBQG2X1H6x1URARDan/26lREDrzGYVpaBHQK9UPqAvNEZAzM2lBT4BSkC4AJjROfxIQBH9UVHspktA+V4j6Y66TUBya8zy90VOQCiwC+fI8k1ADxGK93obTUAj8l8xO9FLQDjrNSEwV0xA15CVNhXzSkCzChZkId5RQEwCsmyyhlBADq+8UXExUUBZT/tGoIRQQCAUg3AkklBAa+10uN40T0DlUuRx6+VMQB8yMAIQ70xA0/YJjrO4S0DYvjQ4qEtIQOGYDW3yCUpALeNTdFBpR0Bar7fYPkBHQB4BY2M3lEVAZMITF0/sREBUhA6m4YVHQPIYmqGcykZAxCEbejNkQ0D7lnpsVgpEQEenIP2WAERAnB3yPtccRkBScZDxk/FGQLlR7HvSa0hAM+jyORbMREA2CaWUPjtEQPogenQR0UNAFk67pz8YSUAbDdGHFVxLQJHFwGKHMk1A7X/fOCWnTEDrLPoA3LROQCak+xd9sEpAdTjkPFP0SEA47+mx+cpKQG6RY1dYpUpAuVv/TnMNS0C6WPqPSmlJQBuRRM7PbkhAfW0JFJwGR0C1SLEr4YZGQBwhYNtl10NANrQERLo+Q0DwgeRibW5BQDhO2E6NGkNAdtCoGljJRED62oI6eX9EQPqZb0bpGERA7fMoyhhJQ0BE8H3NTsdDQHA0exX5VEFAeDq94v0GQkAecFsI+XlBQIixTBfQkkFA9auWjBuuQkCQCrqarGhIQFshKzbJ7EhA4yKI9A9LTUBsC5umCeVMQDpqzgw+D09AWKg/MBmBUUAEcaHh4+xPQFNxpWxBMVBAGkafGBuZUkB38xrWdsRRQOZoAKhVl1FABs+mf4cUUUAWdbMPkltPQK/w/9y1RlBAhscyvHW8UEAeUxoZPlhRQATbzfw0alBArCvcYcofUUBe3CUnfBBOQALn/9us0FBAfOYGxvMKUUCbG0CGn6FRQGtku7H8zk5AJ1G9QbNuTUB8mAxOk4RMQDGu2kejBU5AkrMbm6jdSEDOHc8FIDBIQBXYkRfuzUZABfRC4rnbRkBrUfDU819IQF7Dnq7yyEdAqvK84Z+1SkD8eMYqbmpNQBaZE6z7IUtAxIe8Vs8tSkA84rTiZ6pNQCUrx/v98ktAYN0+q46oTEBcHJFKUxxNQIjM0QNntk1AiiWCnBcKTEACeOE5a0lOQHFRWsRSrExAoPM3bFZpTUC43XUeqNxNQCDU3wAe6k1AQtCLjRk/TECqxMD3q0pKQFsZtMUJ70hAxmiDuvtaTEC4OMCdgflLQGYrjADROkpAQnMg4Z40TUABtCKeh8pOQJGtXE/cRE1A45C/mQKFSkAiHXNvS7JIQBX0WpM6O0hAIDbF6nPXRkAz0LmCqLNIQDPQuYKos0hAOHTpQ+4GRUBEh+G3WlxFQO6Zf2w4vkxARIBjnrPjTUD4pMob0m9QQOrjF56yl1BAa2oTety2UEDWPIWq8D9QQLoAjU13Rk5Ag/YEGb/uTECD9gQZv+5MQEM3zoghlkRA4Mn463LIQUCsgv/ULrs7QIghDDywCDpAQIOsqgm6PkDsVHLRiKs+QDD0HWXszDtAMPQdZezMO0AYbkMStUpAQCF7igndbEZAhycmvntsSUBMAbv9y41JQPcsm4O0aElAg0Z9CpLNSUCx3D6OF2lMQBdD9KmCHkxAzUIDvLlvTUBAesXRvO1OQC6RMuSBBlBA6rQCplNmTkBXHbyCIZ1MQIcrV9wGS01Av6auBS2YTEAAa02ahNtFQH4Z6W2MukBAxEzf+UcCO0As6T1vo+k2QLxByjiOVUFAmK+aqlZ7O0DY+67zbQNAQMzPRWAinT9AaGRRFLEmPUBoZFEUsSY9QCC1VWO9EkFAyvIOQfxcQUAmQyvtt5NAQDImxguHQkBA7kbjfm+zQED+q5kJqmRAQMIfeyhnQkFA7GACwqNpP0D0Fsuv9eZDQKYd449PzEBA3w2wRfwDQ0CiVNfbtaNDQM9LZVZ0fkVAE2HTShpcRkCz87fqAFhJQLu7FJKiEktAS4sJzMQqSkArXJcZLf9JQHjUUN2JnEpAqXNOg81qSkC0tK3hOQFLQG44OX4PI0lAxOA/wI4gR0Bqqhlf4oFHQPaiB0WxAUdA61uHCwdcSECr+8L5Cs1HQNgp8ML9u0ZAv7ArVVPtRECOHMTPBzBGQGv10WltQUZAqI/szBn5QUD9U2aQhQ1CQC9Vc/lQgURAaTttKMAXQkDmxNDqDulHQKvMWtV3q0xAnolt9J4/T0DRndpQ5s9QQLQgvE6E109ANrGfpo/3UEC4SwLHhuFQQDJFf/fUm1BAUR0FGeatTEACDm5yRcRJQCvH6/H/EUlABhM1gZonSkBpQFGE/ftIQIFagcgvx0lAvbp3KFJNSkAn1hYlh9BMQAt0cJV/R01A6GRA8KcHTUC3PZbgzKJMQGeS7VjkyU5AUw2B7cZmTUAhHYXie9dMQKi+pwWuw05Ae8yXaa3ES0AgZJ5mICxKQONuQFvVLElAvYlwIApER0BdsjPy+rlEQHl6MTl9JkVAwhhsl6s8R0BuMVkO7AxLQOp52anjukpALC/fxxL3SkBJ1UOnijZLQG1HeZx5r01A6imPyMdkT0DCv3mS809OQCkkUkHh/0pAiI9ZdpCiSkCKiF17j5xLQG2GemmH4EtAaZKlvloUTUCojRHNt55BQDNq9k3230JAEbnvSJBpQ0A+0JZ0VW1CQMAjxvgz3UBAQkgiLx3TQEAStmY/qVZCQA49kMXO70BAKUAzPWNmQkAm353DmPlCQKsMvNfzDklAA4jftqkfSkAGSsH+tbtIQFGxhIBoKUpArobWqn7AS0BTZ0ed9rZMQPdzDOmOHU1A5ozhxF4KTkDqzKOcc81LQOrMo5xzzUtAxPSkwO8qSEBaAxN4aBBJQEJ+/VJVzEpA3YVGGt0/TkDwwG/+2z5NQJj8NFwmhktAfgHnacY3TUBlx7kntbRNQHVWjOAP205AU0v/++EPTED5NXI4d0dJQBvEu+VcaktAGcHMMAGETkAcMbw/GONQQF0MAf00tk9AGdEOzXLaTkCYhmnfm6FLQGodBHvEXElAZ/LTvyHcSEDT0GpUqARHQPHAA+TmiUZA",
          "dtype": "f8"
         },
         "yaxis": "y3"
        }
       ],
       "layout": {
        "legend": {
         "x": 0.01,
         "y": 0.99
        },
        "template": {
         "data": {
          "bar": [
           {
            "error_x": {
             "color": "#2a3f5f"
            },
            "error_y": {
             "color": "#2a3f5f"
            },
            "marker": {
             "line": {
              "color": "#E5ECF6",
              "width": 0.5
             },
             "pattern": {
              "fillmode": "overlay",
              "size": 10,
              "solidity": 0.2
             }
            },
            "type": "bar"
           }
          ],
          "barpolar": [
           {
            "marker": {
             "line": {
              "color": "#E5ECF6",
              "width": 0.5
             },
             "pattern": {
              "fillmode": "overlay",
              "size": 10,
              "solidity": 0.2
             }
            },
            "type": "barpolar"
           }
          ],
          "carpet": [
           {
            "aaxis": {
             "endlinecolor": "#2a3f5f",
             "gridcolor": "white",
             "linecolor": "white",
             "minorgridcolor": "white",
             "startlinecolor": "#2a3f5f"
            },
            "baxis": {
             "endlinecolor": "#2a3f5f",
             "gridcolor": "white",
             "linecolor": "white",
             "minorgridcolor": "white",
             "startlinecolor": "#2a3f5f"
            },
            "type": "carpet"
           }
          ],
          "choropleth": [
           {
            "colorbar": {
             "outlinewidth": 0,
             "ticks": ""
            },
            "type": "choropleth"
           }
          ],
          "contour": [
           {
            "colorbar": {
             "outlinewidth": 0,
             "ticks": ""
            },
            "colorscale": [
             [
              0,
              "#0d0887"
             ],
             [
              0.1111111111111111,
              "#46039f"
             ],
             [
              0.2222222222222222,
              "#7201a8"
             ],
             [
              0.3333333333333333,
              "#9c179e"
             ],
             [
              0.4444444444444444,
              "#bd3786"
             ],
             [
              0.5555555555555556,
              "#d8576b"
             ],
             [
              0.6666666666666666,
              "#ed7953"
             ],
             [
              0.7777777777777778,
              "#fb9f3a"
             ],
             [
              0.8888888888888888,
              "#fdca26"
             ],
             [
              1,
              "#f0f921"
             ]
            ],
            "type": "contour"
           }
          ],
          "contourcarpet": [
           {
            "colorbar": {
             "outlinewidth": 0,
             "ticks": ""
            },
            "type": "contourcarpet"
           }
          ],
          "heatmap": [
           {
            "colorbar": {
             "outlinewidth": 0,
             "ticks": ""
            },
            "colorscale": [
             [
              0,
              "#0d0887"
             ],
             [
              0.1111111111111111,
              "#46039f"
             ],
             [
              0.2222222222222222,
              "#7201a8"
             ],
             [
              0.3333333333333333,
              "#9c179e"
             ],
             [
              0.4444444444444444,
              "#bd3786"
             ],
             [
              0.5555555555555556,
              "#d8576b"
             ],
             [
              0.6666666666666666,
              "#ed7953"
             ],
             [
              0.7777777777777778,
              "#fb9f3a"
             ],
             [
              0.8888888888888888,
              "#fdca26"
             ],
             [
              1,
              "#f0f921"
             ]
            ],
            "type": "heatmap"
           }
          ],
          "histogram": [
           {
            "marker": {
             "pattern": {
              "fillmode": "overlay",
              "size": 10,
              "solidity": 0.2
             }
            },
            "type": "histogram"
           }
          ],
          "histogram2d": [
           {
            "colorbar": {
             "outlinewidth": 0,
             "ticks": ""
            },
            "colorscale": [
             [
              0,
              "#0d0887"
             ],
             [
              0.1111111111111111,
              "#46039f"
             ],
             [
              0.2222222222222222,
              "#7201a8"
             ],
             [
              0.3333333333333333,
              "#9c179e"
             ],
             [
              0.4444444444444444,
              "#bd3786"
             ],
             [
              0.5555555555555556,
              "#d8576b"
             ],
             [
              0.6666666666666666,
              "#ed7953"
             ],
             [
              0.7777777777777778,
              "#fb9f3a"
             ],
             [
              0.8888888888888888,
              "#fdca26"
             ],
             [
              1,
              "#f0f921"
             ]
            ],
            "type": "histogram2d"
           }
          ],
          "histogram2dcontour": [
           {
            "colorbar": {
             "outlinewidth": 0,
             "ticks": ""
            },
            "colorscale": [
             [
              0,
              "#0d0887"
             ],
             [
              0.1111111111111111,
              "#46039f"
             ],
             [
              0.2222222222222222,
              "#7201a8"
             ],
             [
              0.3333333333333333,
              "#9c179e"
             ],
             [
              0.4444444444444444,
              "#bd3786"
             ],
             [
              0.5555555555555556,
              "#d8576b"
             ],
             [
              0.6666666666666666,
              "#ed7953"
             ],
             [
              0.7777777777777778,
              "#fb9f3a"
             ],
             [
              0.8888888888888888,
              "#fdca26"
             ],
             [
              1,
              "#f0f921"
             ]
            ],
            "type": "histogram2dcontour"
           }
          ],
          "mesh3d": [
           {
            "colorbar": {
             "outlinewidth": 0,
             "ticks": ""
            },
            "type": "mesh3d"
           }
          ],
          "parcoords": [
           {
            "line": {
             "colorbar": {
              "outlinewidth": 0,
              "ticks": ""
             }
            },
            "type": "parcoords"
           }
          ],
          "pie": [
           {
            "automargin": true,
            "type": "pie"
           }
          ],
          "scatter": [
           {
            "fillpattern": {
             "fillmode": "overlay",
             "size": 10,
             "solidity": 0.2
            },
            "type": "scatter"
           }
          ],
          "scatter3d": [
           {
            "line": {
             "colorbar": {
              "outlinewidth": 0,
              "ticks": ""
             }
            },
            "marker": {
             "colorbar": {
              "outlinewidth": 0,
              "ticks": ""
             }
            },
            "type": "scatter3d"
           }
          ],
          "scattercarpet": [
           {
            "marker": {
             "colorbar": {
              "outlinewidth": 0,
              "ticks": ""
             }
            },
            "type": "scattercarpet"
           }
          ],
          "scattergeo": [
           {
            "marker": {
             "colorbar": {
              "outlinewidth": 0,
              "ticks": ""
             }
            },
            "type": "scattergeo"
           }
          ],
          "scattergl": [
           {
            "marker": {
             "colorbar": {
              "outlinewidth": 0,
              "ticks": ""
             }
            },
            "type": "scattergl"
           }
          ],
          "scattermap": [
           {
            "marker": {
             "colorbar": {
              "outlinewidth": 0,
              "ticks": ""
             }
            },
            "type": "scattermap"
           }
          ],
          "scattermapbox": [
           {
            "marker": {
             "colorbar": {
              "outlinewidth": 0,
              "ticks": ""
             }
            },
            "type": "scattermapbox"
           }
          ],
          "scatterpolar": [
           {
            "marker": {
             "colorbar": {
              "outlinewidth": 0,
              "ticks": ""
             }
            },
            "type": "scatterpolar"
           }
          ],
          "scatterpolargl": [
           {
            "marker": {
             "colorbar": {
              "outlinewidth": 0,
              "ticks": ""
             }
            },
            "type": "scatterpolargl"
           }
          ],
          "scatterternary": [
           {
            "marker": {
             "colorbar": {
              "outlinewidth": 0,
              "ticks": ""
             }
            },
            "type": "scatterternary"
           }
          ],
          "surface": [
           {
            "colorbar": {
             "outlinewidth": 0,
             "ticks": ""
            },
            "colorscale": [
             [
              0,
              "#0d0887"
             ],
             [
              0.1111111111111111,
              "#46039f"
             ],
             [
              0.2222222222222222,
              "#7201a8"
             ],
             [
              0.3333333333333333,
              "#9c179e"
             ],
             [
              0.4444444444444444,
              "#bd3786"
             ],
             [
              0.5555555555555556,
              "#d8576b"
             ],
             [
              0.6666666666666666,
              "#ed7953"
             ],
             [
              0.7777777777777778,
              "#fb9f3a"
             ],
             [
              0.8888888888888888,
              "#fdca26"
             ],
             [
              1,
              "#f0f921"
             ]
            ],
            "type": "surface"
           }
          ],
          "table": [
           {
            "cells": {
             "fill": {
              "color": "#EBF0F8"
             },
             "line": {
              "color": "white"
             }
            },
            "header": {
             "fill": {
              "color": "#C8D4E3"
             },
             "line": {
              "color": "white"
             }
            },
            "type": "table"
           }
          ]
         },
         "layout": {
          "annotationdefaults": {
           "arrowcolor": "#2a3f5f",
           "arrowhead": 0,
           "arrowwidth": 1
          },
          "autotypenumbers": "strict",
          "coloraxis": {
           "colorbar": {
            "outlinewidth": 0,
            "ticks": ""
           }
          },
          "colorscale": {
           "diverging": [
            [
             0,
             "#8e0152"
            ],
            [
             0.1,
             "#c51b7d"
            ],
            [
             0.2,
             "#de77ae"
            ],
            [
             0.3,
             "#f1b6da"
            ],
            [
             0.4,
             "#fde0ef"
            ],
            [
             0.5,
             "#f7f7f7"
            ],
            [
             0.6,
             "#e6f5d0"
            ],
            [
             0.7,
             "#b8e186"
            ],
            [
             0.8,
             "#7fbc41"
            ],
            [
             0.9,
             "#4d9221"
            ],
            [
             1,
             "#276419"
            ]
           ],
           "sequential": [
            [
             0,
             "#0d0887"
            ],
            [
             0.1111111111111111,
             "#46039f"
            ],
            [
             0.2222222222222222,
             "#7201a8"
            ],
            [
             0.3333333333333333,
             "#9c179e"
            ],
            [
             0.4444444444444444,
             "#bd3786"
            ],
            [
             0.5555555555555556,
             "#d8576b"
            ],
            [
             0.6666666666666666,
             "#ed7953"
            ],
            [
             0.7777777777777778,
             "#fb9f3a"
            ],
            [
             0.8888888888888888,
             "#fdca26"
            ],
            [
             1,
             "#f0f921"
            ]
           ],
           "sequentialminus": [
            [
             0,
             "#0d0887"
            ],
            [
             0.1111111111111111,
             "#46039f"
            ],
            [
             0.2222222222222222,
             "#7201a8"
            ],
            [
             0.3333333333333333,
             "#9c179e"
            ],
            [
             0.4444444444444444,
             "#bd3786"
            ],
            [
             0.5555555555555556,
             "#d8576b"
            ],
            [
             0.6666666666666666,
             "#ed7953"
            ],
            [
             0.7777777777777778,
             "#fb9f3a"
            ],
            [
             0.8888888888888888,
             "#fdca26"
            ],
            [
             1,
             "#f0f921"
            ]
           ]
          },
          "colorway": [
           "#636efa",
           "#EF553B",
           "#00cc96",
           "#ab63fa",
           "#FFA15A",
           "#19d3f3",
           "#FF6692",
           "#B6E880",
           "#FF97FF",
           "#FECB52"
          ],
          "font": {
           "color": "#2a3f5f"
          },
          "geo": {
           "bgcolor": "white",
           "lakecolor": "white",
           "landcolor": "#E5ECF6",
           "showlakes": true,
           "showland": true,
           "subunitcolor": "white"
          },
          "hoverlabel": {
           "align": "left"
          },
          "hovermode": "closest",
          "mapbox": {
           "style": "light"
          },
          "paper_bgcolor": "white",
          "plot_bgcolor": "#E5ECF6",
          "polar": {
           "angularaxis": {
            "gridcolor": "white",
            "linecolor": "white",
            "ticks": ""
           },
           "bgcolor": "#E5ECF6",
           "radialaxis": {
            "gridcolor": "white",
            "linecolor": "white",
            "ticks": ""
           }
          },
          "scene": {
           "xaxis": {
            "backgroundcolor": "#E5ECF6",
            "gridcolor": "white",
            "gridwidth": 2,
            "linecolor": "white",
            "showbackground": true,
            "ticks": "",
            "zerolinecolor": "white"
           },
           "yaxis": {
            "backgroundcolor": "#E5ECF6",
            "gridcolor": "white",
            "gridwidth": 2,
            "linecolor": "white",
            "showbackground": true,
            "ticks": "",
            "zerolinecolor": "white"
           },
           "zaxis": {
            "backgroundcolor": "#E5ECF6",
            "gridcolor": "white",
            "gridwidth": 2,
            "linecolor": "white",
            "showbackground": true,
            "ticks": "",
            "zerolinecolor": "white"
           }
          },
          "shapedefaults": {
           "line": {
            "color": "#2a3f5f"
           }
          },
          "ternary": {
           "aaxis": {
            "gridcolor": "white",
            "linecolor": "white",
            "ticks": ""
           },
           "baxis": {
            "gridcolor": "white",
            "linecolor": "white",
            "ticks": ""
           },
           "bgcolor": "#E5ECF6",
           "caxis": {
            "gridcolor": "white",
            "linecolor": "white",
            "ticks": ""
           }
          },
          "title": {
           "x": 0.05
          },
          "xaxis": {
           "automargin": true,
           "gridcolor": "white",
           "linecolor": "white",
           "ticks": "",
           "title": {
            "standoff": 15
           },
           "zerolinecolor": "white",
           "zerolinewidth": 2
          },
          "yaxis": {
           "automargin": true,
           "gridcolor": "white",
           "linecolor": "white",
           "ticks": "",
           "title": {
            "standoff": 15
           },
           "zerolinecolor": "white",
           "zerolinewidth": 2
          }
         }
        },
        "title": {
         "text": "Preço PETR4.SA e Volatility Entropy"
        },
        "xaxis": {
         "title": {
          "text": "Data"
         }
        },
        "yaxis": {
         "title": {
          "text": "Preço PETR4.SA"
         }
        },
        "yaxis2": {
         "overlaying": "y",
         "side": "right",
         "title": {
          "text": "Volatility Entropy"
         }
        },
        "yaxis3": {
         "anchor": "free",
         "overlaying": "y",
         "position": 1,
         "showgrid": false,
         "side": "right",
         "title": {
          "text": "Volatility RSI"
         }
        }
       }
      }
     },
     "metadata": {},
     "output_type": "display_data"
    }
   ],
   "source": [
    "import plotly.graph_objects as go\n",
    "\n",
    "fig = go.Figure()\n",
    "\n",
    "fig.add_trace(go.Scatter(\n",
    "    y=data[\"Close\"][\"PETR4.SA\"],\n",
    "    x=data.index,\n",
    "    name=\"Preço PETR4.SA\",\n",
    "    yaxis=\"y1\"\n",
    "))\n",
    "\n",
    "fig.add_trace(go.Scatter(\n",
    "    x=data.index,\n",
    "    y=vol_ent,\n",
    "    name=\"Volatility Entropy\",\n",
    "    yaxis=\"y2\"\n",
    "))\n",
    "\n",
    "fig.add_trace(go.Scatter(\n",
    "    x=data.index,\n",
    "    y=vol_rsi,\n",
    "    name=\"Volatility RSI\",\n",
    "    yaxis=\"y3\"\n",
    "))\n",
    "\n",
    "\n",
    "fig.update_layout(\n",
    "    yaxis3=dict(\n",
    "        title=\"Volatility RSI\",\n",
    "        anchor=\"free\",\n",
    "        overlaying=\"y\",\n",
    "        side=\"right\",\n",
    "        position=1.0,\n",
    "        showgrid=False\n",
    "    )\n",
    ")\n",
    "\n",
    "fig.update_layout(\n",
    "    title=\"Preço PETR4.SA e Volatility Entropy\",\n",
    "    xaxis_title=\"Data\",\n",
    "    yaxis=dict(title=\"Preço PETR4.SA\"),\n",
    "    yaxis2=dict(title=\"Volatility Entropy\", overlaying=\"y\", side=\"right\"),\n",
    "    legend=dict(x=0.01, y=0.99)\n",
    ")\n",
    "\n",
    "fig.show(fig_type=\"png\")"
   ]
  },
  {
   "cell_type": "markdown",
   "id": "b2616779",
   "metadata": {},
   "source": [
    "# Bollinger's Band"
   ]
  },
  {
   "cell_type": "code",
   "execution_count": 74,
   "id": "8294c290",
   "metadata": {},
   "outputs": [
    {
     "data": {
      "text/plain": [
       "np.int64(52)"
      ]
     },
     "execution_count": 74,
     "metadata": {},
     "output_type": "execute_result"
    }
   ],
   "source": [
    "np.sum(bollinger_bands(data[\"Close\"][\"PETR4.SA\"]))"
   ]
  },
  {
   "cell_type": "code",
   "execution_count": 75,
   "id": "9273e72e",
   "metadata": {},
   "outputs": [
    {
     "data": {
      "text/plain": [
       "np.int64(171)"
      ]
     },
     "execution_count": 75,
     "metadata": {},
     "output_type": "execute_result"
    }
   ],
   "source": [
    "np.sum(bollinger_bands(data[\"Close\"][\"PETR4.SA\"], center=np.median, spread=mad))"
   ]
  },
  {
   "cell_type": "markdown",
   "id": "418522a7",
   "metadata": {},
   "source": [
    "# Hampel Filter"
   ]
  },
  {
   "cell_type": "code",
   "execution_count": 76,
   "id": "c83ba089",
   "metadata": {},
   "outputs": [],
   "source": [
    "hf = hampel_filter(data[\"Close\"][\"PETR4.SA\"], rolling_window=7)"
   ]
  },
  {
   "cell_type": "code",
   "execution_count": 77,
   "id": "80bd8c86",
   "metadata": {},
   "outputs": [
    {
     "data": {
      "text/plain": [
       "Date\n",
       "2024-05-22    30.161886\n",
       "2024-07-04    31.138035\n",
       "2024-10-09    31.938404\n",
       "2025-02-07    33.884270\n",
       "Name: PETR4.SA, dtype: float64"
      ]
     },
     "execution_count": 77,
     "metadata": {},
     "output_type": "execute_result"
    }
   ],
   "source": [
    "data[\"Close\"][\"PETR4.SA\"][hf]"
   ]
  },
  {
   "cell_type": "markdown",
   "id": "d721a459",
   "metadata": {},
   "source": [
    "# ADI-CV Framework"
   ]
  },
  {
   "cell_type": "code",
   "execution_count": 78,
   "id": "d7ad151f",
   "metadata": {},
   "outputs": [
    {
     "data": {
      "text/plain": [
       "(np.float64(1.0), np.float64(3.5212516673006367e+34))"
      ]
     },
     "execution_count": 78,
     "metadata": {},
     "output_type": "execute_result"
    }
   ],
   "source": [
    "adi_cv(r)"
   ]
  },
  {
   "cell_type": "markdown",
   "id": "b21e8f9d",
   "metadata": {},
   "source": [
    "# Sampen"
   ]
  },
  {
   "cell_type": "code",
   "execution_count": 79,
   "id": "b778bd0d",
   "metadata": {},
   "outputs": [
    {
     "data": {
      "text/plain": [
       "np.float64(1.6244757897986408)"
      ]
     },
     "execution_count": 79,
     "metadata": {},
     "output_type": "execute_result"
    }
   ],
   "source": [
    "sample_entropy(r, m=3)"
   ]
  },
  {
   "cell_type": "code",
   "execution_count": 80,
   "id": "e80832d8",
   "metadata": {},
   "outputs": [
    {
     "data": {
      "text/plain": [
       "np.float64(0.16791509477225003)"
      ]
     },
     "execution_count": 80,
     "metadata": {},
     "output_type": "execute_result"
    }
   ],
   "source": [
    "sample_entropy(pure_sine, m=2)"
   ]
  },
  {
   "cell_type": "markdown",
   "id": "64a5edd7",
   "metadata": {},
   "source": [
    "# Foreca"
   ]
  },
  {
   "cell_type": "code",
   "execution_count": 81,
   "id": "869394e7",
   "metadata": {},
   "outputs": [
    {
     "data": {
      "text/plain": [
       "0.0734990424026184"
      ]
     },
     "execution_count": 81,
     "metadata": {},
     "output_type": "execute_result"
    }
   ],
   "source": [
    "foreca(r)"
   ]
  },
  {
   "cell_type": "code",
   "execution_count": 107,
   "id": "7a6b7954",
   "metadata": {},
   "outputs": [
    {
     "data": {
      "text/plain": [
       "array([0.14383013, 0.14383013, 0.14383013, 0.14383013, 0.14383013,\n",
       "       0.14383013, 0.14383013, 0.14383013, 0.14383013, 0.14383013,\n",
       "       0.14383013, 0.14383013, 0.14383013, 0.14383013, 0.14383013,\n",
       "       0.14383013, 0.14383013, 0.14383013, 0.14383013, 0.14383013,\n",
       "       0.14383013, 0.14383013, 0.14383013, 0.14383013, 0.14383013,\n",
       "       0.14383013, 0.14383013, 0.14383013, 0.14383013, 0.14383013,\n",
       "       0.14383013, 0.14383013, 0.14383013, 0.14383013, 0.14383013,\n",
       "       0.14383013, 0.14383013, 0.14383013, 0.14383013, 0.14383013,\n",
       "       0.14383013, 0.14383013, 0.14383013, 0.14383013, 0.14383013,\n",
       "       0.14383013, 0.14383013, 0.14383013, 0.14383013, 0.14383013,\n",
       "       0.14383013, 0.14383013, 0.14383013, 0.14383013, 0.14383013,\n",
       "       0.14383013, 0.14383013, 0.14383013, 0.14383013, 0.14383013,\n",
       "       0.13523018, 0.13534302, 0.13263958, 0.14032919, 0.13470107,\n",
       "       0.1296781 , 0.12326309, 0.12346454, 0.11431563, 0.12105058,\n",
       "       0.12100511, 0.11642946, 0.12136719, 0.12150853, 0.12041836,\n",
       "       0.1259648 , 0.12831633, 0.1309238 , 0.13255587, 0.13255932,\n",
       "       0.12967175, 0.12928744, 0.13722299, 0.15134838, 0.15318401,\n",
       "       0.15521496, 0.1319655 , 0.11191294, 0.10817776, 0.11033674,\n",
       "       0.1112987 , 0.11133064, 0.11194391, 0.11050815, 0.11168798,\n",
       "       0.10790661, 0.10420352, 0.11926456, 0.11858755, 0.12007874,\n",
       "       0.1327332 , 0.13071623, 0.12245162, 0.11394201, 0.10983069,\n",
       "       0.13388301, 0.14431039, 0.12507495, 0.14128037, 0.141321  ,\n",
       "       0.14494204, 0.15537192, 0.15238317, 0.12410254, 0.12410256,\n",
       "       0.12419618, 0.12730915, 0.11931545, 0.12316823, 0.11669406,\n",
       "       0.10343674, 0.10243353, 0.1036625 , 0.10022352, 0.10464308,\n",
       "       0.10209227, 0.10697939, 0.10550381, 0.10585796, 0.11456181,\n",
       "       0.11699859, 0.11849613, 0.11642983, 0.11618536, 0.11456044,\n",
       "       0.13084353, 0.12147822, 0.12515806, 0.13277645, 0.13225901,\n",
       "       0.13712306, 0.14129561, 0.13402622, 0.13247322, 0.13101283,\n",
       "       0.12407488, 0.11199361, 0.11156397, 0.11806804, 0.11106931,\n",
       "       0.16007606, 0.15655967, 0.14614502, 0.14539413, 0.14504707,\n",
       "       0.14508315, 0.15314696, 0.14225861, 0.13889281, 0.13492212,\n",
       "       0.13521183, 0.12372702, 0.11939888, 0.11950034, 0.11203591,\n",
       "       0.10847354, 0.10975571, 0.08873036, 0.08851443, 0.09728277,\n",
       "       0.10073607, 0.09936525, 0.11324103, 0.12035836, 0.11119527,\n",
       "       0.11113626, 0.1195099 , 0.12066621, 0.10901485, 0.10602864,\n",
       "       0.10817981, 0.10490508, 0.11187612, 0.10576903, 0.11461719,\n",
       "       0.11241377, 0.12489936, 0.11967731, 0.12274478, 0.11714686,\n",
       "       0.11572163, 0.11846992, 0.11625035, 0.11560355, 0.11601517,\n",
       "       0.11596637, 0.11763031, 0.14155969, 0.17035573, 0.16945905,\n",
       "       0.17115923, 0.16859263, 0.15979921, 0.16658979, 0.16475222,\n",
       "       0.16193201, 0.1573399 , 0.15719608, 0.15658829, 0.15613423,\n",
       "       0.12666491, 0.11268078, 0.10108244, 0.09432371, 0.09941097,\n",
       "       0.10061112, 0.1065703 , 0.10665391, 0.11128862, 0.11140009,\n",
       "       0.11295843, 0.11250914, 0.10639991, 0.10650811, 0.09846175,\n",
       "       0.10120692, 0.09833275, 0.08948068, 0.08852794, 0.10232177,\n",
       "       0.1032524 , 0.10148502, 0.09695082, 0.0993193 , 0.09847034,\n",
       "       0.10827972, 0.10625281, 0.104822  , 0.1059046 , 0.11669058,\n",
       "       0.11300779, 0.11822355, 0.11388975, 0.11508935, 0.12316089,\n",
       "       0.12023692, 0.11760793, 0.11668475, 0.11641578, 0.12852947,\n",
       "       0.12978732, 0.12879753, 0.13009818, 0.13933157, 0.13199132,\n",
       "       0.13506127, 0.13076501, 0.12801089, 0.12635317, 0.13137039,\n",
       "       0.12916833, 0.13007577, 0.13562014, 0.13446155, 0.14677373,\n",
       "       0.13944449, 0.10688629, 0.10641146, 0.11192904, 0.11404947,\n",
       "       0.11287302, 0.11486682, 0.11959073, 0.11713144, 0.10625104,\n",
       "       0.09757015, 0.11316226, 0.11362924, 0.11663634, 0.11289619,\n",
       "       0.11612729, 0.11041232, 0.12765189, 0.14637632, 0.15208208,\n",
       "       0.15162356, 0.15113566, 0.14457542, 0.142918  , 0.14869724,\n",
       "       0.13881859, 0.13869547, 0.1398458 , 0.1281941 , 0.1336553 ,\n",
       "       0.14700495, 0.14239061, 0.14279981, 0.13940008, 0.14583955,\n",
       "       0.14777692, 0.15262792, 0.1334435 , 0.13472252, 0.12482087,\n",
       "       0.11038537, 0.12387602, 0.12405296, 0.12793013, 0.12754686,\n",
       "       0.11778664, 0.11837435, 0.12082937, 0.11996121, 0.1197971 ,\n",
       "       0.12381424, 0.1236234 , 0.13269087, 0.1214295 , 0.12176993,\n",
       "       0.13174974, 0.13342667, 0.13064411, 0.1305547 , 0.14036913,\n",
       "       0.14203079, 0.1430857 , 0.1429752 , 0.14600171, 0.14826559,\n",
       "       0.14754351, 0.14028759, 0.12386159, 0.12309673, 0.12423942,\n",
       "       0.1261022 , 0.13765075, 0.13923627, 0.10746365, 0.10533735,\n",
       "       0.13429478, 0.14310456, 0.12407729, 0.12392638, 0.13531616,\n",
       "       0.13494254, 0.1331181 , 0.13304885, 0.12408564, 0.17438454,\n",
       "       0.1777683 , 0.12111184, 0.12226997, 0.12260783, 0.13751829,\n",
       "       0.11742339, 0.11834428, 0.11833955, 0.14530292, 0.14611881,\n",
       "       0.14669643, 0.14886643, 0.16544589, 0.16171486, 0.17010658,\n",
       "       0.16144225, 0.1595199 , 0.15389172, 0.14520549, 0.16369874,\n",
       "       0.16326888, 0.16461548, 0.1772452 , 0.19296174, 0.22436221,\n",
       "       0.24461206, 0.20856465, 0.13828351, 0.13532507, 0.13457847,\n",
       "       0.12296808, 0.12125347, 0.12487544, 0.12781204, 0.12473795,\n",
       "       0.12466289, 0.13008405, 0.12961466, 0.13046583, 0.11864093,\n",
       "       0.1130188 , 0.12360946, 0.11869656, 0.1173571 , 0.12073022,\n",
       "       0.12225484, 0.12398055, 0.11959835, 0.11991477, 0.11886924,\n",
       "       0.1131789 , 0.11177229, 0.11049322, 0.12134458, 0.1233252 ,\n",
       "       0.12141487, 0.11986962, 0.11674569, 0.11923356, 0.1049669 ,\n",
       "       0.10143562, 0.10280566, 0.10207273, 0.09635491, 0.09665   ,\n",
       "       0.09746253, 0.10086832, 0.11045585, 0.10940907, 0.11017151,\n",
       "       0.12011835, 0.11444601, 0.12109713, 0.12061212, 0.11983785,\n",
       "       0.11853262, 0.11076089, 0.115525  , 0.11071956, 0.11063108,\n",
       "       0.10979653, 0.1104579 , 0.11210828, 0.11810823, 0.14062852,\n",
       "       0.12803739, 0.12563382, 0.11297475, 0.12108116, 0.12139596,\n",
       "       0.12668788, 0.12426045, 0.11809887, 0.11415211, 0.11083177,\n",
       "       0.11324606, 0.10681938, 0.1059277 , 0.10993051, 0.1168127 ,\n",
       "       0.11569588, 0.12793838, 0.12922316, 0.13064684, 0.13630982,\n",
       "       0.13501044, 0.14300645, 0.14580268, 0.14550595, 0.13282951,\n",
       "       0.1328165 , 0.13523352, 0.1322827 , 0.1317549 , 0.13339251,\n",
       "       0.13596781, 0.12829313, 0.12764996, 0.12917422, 0.11432767,\n",
       "       0.1079038 , 0.11444562, 0.10388555, 0.11904961, 0.12058103,\n",
       "       0.11869331, 0.11094955, 0.09364355, 0.09191255, 0.08427491,\n",
       "       0.08991545, 0.07714269, 0.08051607, 0.08136487, 0.08389682,\n",
       "       0.08789417, 0.09375598, 0.10951575, 0.10912591, 0.10967368,\n",
       "       0.11180067, 0.12916658, 0.12677065, 0.12911438, 0.12847024,\n",
       "       0.12836328, 0.12901556, 0.1265975 , 0.12654158, 0.12880654])"
      ]
     },
     "execution_count": 107,
     "metadata": {},
     "output_type": "execute_result"
    }
   ],
   "source": [
    "trailing_window(r, rolling_window=60, func=foreca)"
   ]
  },
  {
   "cell_type": "code",
   "execution_count": 102,
   "id": "f3ce2558",
   "metadata": {},
   "outputs": [
    {
     "data": {
      "text/plain": [
       "0.9993976808641186"
      ]
     },
     "execution_count": 102,
     "metadata": {},
     "output_type": "execute_result"
    }
   ],
   "source": [
    "foreca(pure_sine)"
   ]
  },
  {
   "cell_type": "code",
   "execution_count": 106,
   "id": "78bcc5cb",
   "metadata": {},
   "outputs": [
    {
     "data": {
      "text/plain": [
       "array([0.87814292, 0.87814292, 0.87814292, 0.87814292, 0.87814292,\n",
       "       0.87814292, 0.87814292, 0.87814292, 0.87814292, 0.87814292,\n",
       "       0.87814292, 0.87814292, 0.87814292, 0.87814292, 0.87814292,\n",
       "       0.87814292, 0.87814292, 0.87814292, 0.87814292, 0.87814292,\n",
       "       0.87814292, 0.87814292, 0.87814292, 0.87814292, 0.87814292,\n",
       "       0.87814292, 0.87814292, 0.87814292, 0.87814292, 0.87814292,\n",
       "       0.87814292, 0.87814292, 0.87814292, 0.87814292, 0.87814292,\n",
       "       0.87814292, 0.87814292, 0.87814292, 0.87814292, 0.87814292,\n",
       "       0.87814292, 0.87814292, 0.87814292, 0.87814292, 0.87814292,\n",
       "       0.87814292, 0.87814292, 0.87814292, 0.87814292, 0.87814292,\n",
       "       0.87814292, 0.87814292, 0.87814292, 0.87814292, 0.87814292,\n",
       "       0.87814292, 0.87814292, 0.87814292, 0.87814292, 0.87814292,\n",
       "       0.85659439, 0.83599743, 0.81701635, 0.79995579, 0.78488091,\n",
       "       0.77171463, 0.76030651, 0.75047711, 0.74204419, 0.73483677,\n",
       "       0.72870169, 0.72350584, 0.7191359 , 0.71549702, 0.7125111 ,\n",
       "       0.71011489, 0.70825837, 0.70690328, 0.70602203, 0.70559683,\n",
       "       0.70561914, 0.70608941, 0.70701709, 0.70842091, 0.7103295 ,\n",
       "       0.71278222, 0.71583036, 0.71953856, 0.72398654, 0.7292709 ,\n",
       "       0.73550688, 0.74282964, 0.75139426, 0.76137323, 0.77294932,\n",
       "       0.78630048, 0.80157218, 0.81883082, 0.83799213, 0.85872118,\n",
       "       0.88031077, 0.90156475, 0.92073967, 0.93561753, 0.94376518,\n",
       "       0.94306497, 0.93375548, 0.91807901, 0.89846048, 0.87705837,\n",
       "       0.85553466, 0.83500622, 0.81611639, 0.79915509, 0.78417832,\n",
       "       0.7711039 , 0.75977908, 0.75002379, 0.74165607, 0.73450573,\n",
       "       0.72842062, 0.72326859, 0.7189373 , 0.7153328 , 0.71237775,\n",
       "       0.71000961, 0.70817897, 0.70684815, 0.70599004, 0.70558734,\n",
       "       0.70563197, 0.70612481, 0.70707577, 0.70850407, 0.71043884,\n",
       "       0.71292001, 0.7159995 , 0.71974266, 0.72423002, 0.72955906,\n",
       "       0.735846  , 0.74322701, 0.75185813, 0.76191257, 0.77357332,\n",
       "       0.78701749, 0.80238787, 0.81974528, 0.83899551, 0.85978801,\n",
       "       0.8813937 , 0.90258966, 0.92160557, 0.93620488, 0.94395386,\n",
       "       0.9427877 , 0.93310249, 0.91717214, 0.89741669, 0.87597363,\n",
       "       0.85447751, 0.83401918, 0.81522129, 0.79835938, 0.78348049,\n",
       "       0.77049754, 0.75925558, 0.74957392, 0.74127098, 0.73417736,\n",
       "       0.72814187, 0.72303339, 0.71874052, 0.7151702 , 0.71224587,\n",
       "       0.70990568, 0.70810083, 0.7067942 , 0.70595919, 0.70557898,\n",
       "       0.70564592, 0.70616136, 0.70713565, 0.70858849, 0.71054954,\n",
       "       0.71305929, 0.71617029, 0.71994862, 0.72447559, 0.7298496 ,\n",
       "       0.73618785, 0.7436275 , 0.75232554, 0.76245593, 0.77420178,\n",
       "       0.78773932, 0.80320856, 0.82066452, 0.84000282, 0.86085699,\n",
       "       0.88247573, 0.90360922, 0.92246047, 0.93677507, 0.94411978,\n",
       "       0.94248894, 0.93243387, 0.91625577, 0.89636879, 0.87488887,\n",
       "       0.85342306, 0.83303637, 0.81433108, 0.79756865, 0.78278741,\n",
       "       0.76989555, 0.75873597, 0.7491275 , 0.74088891, 0.73385163,\n",
       "       0.72786543, 0.72280022, 0.71854555, 0.71500922, 0.71211544,\n",
       "       0.70980307, 0.70802393, 0.70674142, 0.70592948, 0.70557173,\n",
       "       0.70566099, 0.70619905, 0.70719672, 0.70867418, 0.71066161,\n",
       "       0.71320007, 0.71634274, 0.72015644, 0.72472328, 0.73014256,\n",
       "       0.73653244, 0.74403113, 0.75279654, 0.76300333, 0.77483473,\n",
       "       0.78846601, 0.80403424, 0.82158852, 0.841014  , 0.86192797,\n",
       "       0.88355666, 0.90462317, 0.92330407, 0.93732777, 0.94426268,\n",
       "       0.94216895, 0.93174993, 0.9153302 , 0.89531703, 0.87380426,\n",
       "       0.85237141, 0.83205782, 0.81344577, 0.7967829 , 0.78209907,\n",
       "       0.76929789, 0.75822024, 0.7486845 , 0.74050985, 0.73352852,\n",
       "       0.72759129, 0.72256907, 0.71835236, 0.71484983, 0.71198647,\n",
       "       0.7097018 , 0.70794826, 0.70668982, 0.70590091, 0.7055656 ,\n",
       "       0.70567718, 0.70623789, 0.70725899, 0.70876115, 0.71077505,\n",
       "       0.71334235, 0.71651687, 0.72036614, 0.72497309, 0.73043793,\n",
       "       0.73687981, 0.74443792, 0.75327114, 0.76355479, 0.77547219,\n",
       "       0.78919755, 0.80486493, 0.82251725, 0.84202899, 0.86300086,\n",
       "       0.8846363 , 0.90563126, 0.92413607, 0.9378627 , 0.94438232,\n",
       "       0.941828  , 0.93105097, 0.91439571, 0.89426162, 0.87271997,\n",
       "       0.85132264, 0.8310836 , 0.81256538, 0.79600212, 0.78141545,\n",
       "       0.76870454, 0.75770837, 0.74824491, 0.74013376, 0.73320801,\n",
       "       0.72731944, 0.72233993, 0.71816096, 0.71469204, 0.71185893,\n",
       "       0.70960185, 0.70787384, 0.7066394 , 0.70587346, 0.70556058,\n",
       "       0.70569449, 0.70627788, 0.70732246, 0.70884939, 0.71088988,\n",
       "       0.71348615, 0.71669269, 0.72057773, 0.72522505, 0.73073575,\n",
       "       0.73722996, 0.7448479 , 0.75374936, 0.76411033, 0.77611418,\n",
       "       0.78993396, 0.80570061, 0.82345069, 0.8430477 , 0.8640755 ,\n",
       "       0.88571445, 0.90663321, 0.92495616, 0.93837954, 0.94447848,\n",
       "       0.94146637, 0.93033732, 0.9134526 , 0.89320281, 0.87163615,\n",
       "       0.85027687, 0.83011375, 0.81168991, 0.79522631, 0.78073653,\n",
       "       0.76811548, 0.75720033, 0.74780869, 0.73976063, 0.7328901 ,\n",
       "       0.72704985, 0.7221128 , 0.71797133, 0.71453584, 0.71173284,\n",
       "       0.70950323, 0.70780064, 0.70659014, 0.70584714, 0.70555668,\n",
       "       0.70571293, 0.70631901, 0.70738713, 0.70893891, 0.71100609,\n",
       "       0.71363148, 0.7168702 , 0.72079123, 0.72547916, 0.73103601,\n",
       "       0.73758292, 0.74526108, 0.75423124, 0.76466999, 0.77676071,\n",
       "       0.79067526, 0.80654129, 0.8243888 , 0.84407008, 0.86515179,\n",
       "       0.88679093, 0.90762878, 0.92576403, 0.93887801, 0.94455093,\n",
       "       0.94108433, 0.92960926, 0.91250116, 0.89214082, 0.87055297,\n",
       "       0.84923419, 0.82914832, 0.8108194 , 0.79445546, 0.7800623 ,\n",
       "       0.76753069, 0.75669609, 0.74737582, 0.73939044, 0.73257475,\n",
       "       0.72678252, 0.72188764, 0.71778346, 0.71438121, 0.71160818,\n",
       "       0.70940592, 0.70772867, 0.70654205, 0.70582196, 0.7055539 ,\n",
       "       0.70573248, 0.70636131, 0.70745301, 0.70902972, 0.7111237 ,\n",
       "       0.71377833, 0.71704941, 0.72100664, 0.72573544, 0.73133875,\n",
       "       0.7379387 , 0.74567749, 0.75471678, 0.76523377, 0.77741181,\n",
       "       0.79142146, 0.80738695, 0.82533156, 0.84509604, 0.86622957,\n",
       "       0.88786552, 0.90861768, 0.92655937, 0.9393578 , 0.94459944,\n",
       "       0.94068217, 0.92886713, 0.91154166, 0.89107588, 0.86947057,\n",
       "       0.84819467, 0.82818734, 0.80995383, 0.79368956, 0.77939273,\n",
       "       0.76695015, 0.75619564, 0.74694629, 0.73902318, 0.73226196,\n",
       "       0.72651743, 0.72166446, 0.71759735, 0.71422816, 0.71148494,\n",
       "       0.70930991, 0.70765793, 0.70649512, 0.7057979 , 0.70555222,\n",
       "       0.70575316, 0.70640475, 0.7075201 , 0.70912182, 0.7112427 ,\n",
       "       0.71392673, 0.71723033, 0.72122397, 0.7259939 , 0.73164398,\n",
       "       0.73829732, 0.74609715, 0.75520601, 0.76580171, 0.7780675 ,\n",
       "       0.79217257, 0.8082376 , 0.82627892, 0.84612552, 0.86730873,\n",
       "       0.88893801, 0.90959964, 0.92734188, 0.93981862, 0.9446238 ,\n",
       "       0.94026017, 0.92811124, 0.9105744 , 0.8900082 , 0.86838911,\n",
       "       0.84715842, 0.82723087, 0.80909323, 0.7929286 , 0.7787278 ,\n",
       "       0.76637383, 0.75569896, 0.74652008, 0.73865881, 0.73195171,\n",
       "       0.72625456, 0.72144324, 0.71741297, 0.71407666, 0.71136311,\n",
       "       0.70921522, 0.70758841, 0.70644936, 0.70577497, 0.70555167,\n",
       "       0.70577497, 0.70644936, 0.70758841, 0.70921522, 0.71136311,\n",
       "       0.71407666, 0.71741297, 0.72144324, 0.72625456, 0.73195171,\n",
       "       0.73865881, 0.74652008, 0.75569896, 0.76637383, 0.7787278 ,\n",
       "       0.7929286 , 0.80909323, 0.82723087, 0.84715842, 0.86838911,\n",
       "       0.8900082 , 0.9105744 , 0.92811124, 0.94026017, 0.9446238 ,\n",
       "       0.93981862, 0.92734188, 0.90959964, 0.88893801, 0.86730873,\n",
       "       0.84612552, 0.82627892, 0.8082376 , 0.79217257, 0.7780675 ,\n",
       "       0.76580171, 0.75520601, 0.74609715, 0.73829732, 0.73164398,\n",
       "       0.7259939 , 0.72122397, 0.71723033, 0.71392673, 0.7112427 ,\n",
       "       0.70912182, 0.7075201 , 0.70640475, 0.70575316, 0.70555222,\n",
       "       0.7057979 , 0.70649512, 0.70765793, 0.70930991, 0.71148494,\n",
       "       0.71422816, 0.71759735, 0.72166446, 0.72651743, 0.73226196,\n",
       "       0.73902318, 0.74694629, 0.75619564, 0.76695015, 0.77939273,\n",
       "       0.79368956, 0.80995383, 0.82818734, 0.84819467, 0.86947057,\n",
       "       0.89107588, 0.91154166, 0.92886713, 0.94068217, 0.94459944,\n",
       "       0.9393578 , 0.92655937, 0.90861768, 0.88786552, 0.86622957,\n",
       "       0.84509604, 0.82533156, 0.80738695, 0.79142146, 0.77741181,\n",
       "       0.76523377, 0.75471678, 0.74567749, 0.7379387 , 0.73133875,\n",
       "       0.72573544, 0.72100664, 0.71704941, 0.71377833, 0.7111237 ,\n",
       "       0.70902972, 0.70745301, 0.70636131, 0.70573248, 0.7055539 ,\n",
       "       0.70582196, 0.70654205, 0.70772867, 0.70940592, 0.71160818,\n",
       "       0.71438121, 0.71778346, 0.72188764, 0.72678252, 0.73257475,\n",
       "       0.73939044, 0.74737582, 0.75669609, 0.76753069, 0.7800623 ,\n",
       "       0.79445546, 0.8108194 , 0.82914832, 0.84923419, 0.87055297,\n",
       "       0.89214082, 0.91250116, 0.92960926, 0.94108433, 0.94455093,\n",
       "       0.93887801, 0.92576403, 0.90762878, 0.88679093, 0.86515179,\n",
       "       0.84407008, 0.8243888 , 0.80654129, 0.79067526, 0.77676071,\n",
       "       0.76466999, 0.75423124, 0.74526108, 0.73758292, 0.73103601,\n",
       "       0.72547916, 0.72079123, 0.7168702 , 0.71363148, 0.71100609,\n",
       "       0.70893891, 0.70738713, 0.70631901, 0.70571293, 0.70555668,\n",
       "       0.70584714, 0.70659014, 0.70780064, 0.70950323, 0.71173284,\n",
       "       0.71453584, 0.71797133, 0.7221128 , 0.72704985, 0.7328901 ,\n",
       "       0.73976063, 0.74780869, 0.75720033, 0.76811548, 0.78073653,\n",
       "       0.79522631, 0.81168991, 0.83011375, 0.85027687, 0.87163615,\n",
       "       0.89320281, 0.9134526 , 0.93033732, 0.94146637, 0.94447848,\n",
       "       0.93837954, 0.92495616, 0.90663321, 0.88571445, 0.8640755 ,\n",
       "       0.8430477 , 0.82345069, 0.80570061, 0.78993396, 0.77611418,\n",
       "       0.76411033, 0.75374936, 0.7448479 , 0.73722996, 0.73073575,\n",
       "       0.72522505, 0.72057773, 0.71669269, 0.71348615, 0.71088988,\n",
       "       0.70884939, 0.70732246, 0.70627788, 0.70569449, 0.70556058,\n",
       "       0.70587346, 0.7066394 , 0.70787384, 0.70960185, 0.71185893,\n",
       "       0.71469204, 0.71816096, 0.72233993, 0.72731944, 0.73320801,\n",
       "       0.74013376, 0.74824491, 0.75770837, 0.76870454, 0.78141545,\n",
       "       0.79600212, 0.81256538, 0.8310836 , 0.85132264, 0.87271997,\n",
       "       0.89426162, 0.91439571, 0.93105097, 0.941828  , 0.94438232,\n",
       "       0.9378627 , 0.92413607, 0.90563126, 0.8846363 , 0.86300086,\n",
       "       0.84202899, 0.82251725, 0.80486493, 0.78919755, 0.77547219,\n",
       "       0.76355479, 0.75327114, 0.74443792, 0.73687981, 0.73043793,\n",
       "       0.72497309, 0.72036614, 0.71651687, 0.71334235, 0.71077505,\n",
       "       0.70876115, 0.70725899, 0.70623789, 0.70567718, 0.7055656 ,\n",
       "       0.70590091, 0.70668982, 0.70794826, 0.7097018 , 0.71198647,\n",
       "       0.71484983, 0.71835236, 0.72256907, 0.72759129, 0.73352852,\n",
       "       0.74050985, 0.7486845 , 0.75822024, 0.76929789, 0.78209907,\n",
       "       0.7967829 , 0.81344577, 0.83205782, 0.85237141, 0.87380426,\n",
       "       0.89531703, 0.9153302 , 0.93174993, 0.94216895, 0.94426268,\n",
       "       0.93732777, 0.92330407, 0.90462317, 0.88355666, 0.86192797,\n",
       "       0.841014  , 0.82158852, 0.80403424, 0.78846601, 0.77483473,\n",
       "       0.76300333, 0.75279654, 0.74403113, 0.73653244, 0.73014256,\n",
       "       0.72472328, 0.72015644, 0.71634274, 0.71320007, 0.71066161,\n",
       "       0.70867418, 0.70719672, 0.70619905, 0.70566099, 0.70557173,\n",
       "       0.70592948, 0.70674142, 0.70802393, 0.70980307, 0.71211544,\n",
       "       0.71500922, 0.71854555, 0.72280022, 0.72786543, 0.73385163,\n",
       "       0.74088891, 0.7491275 , 0.75873597, 0.76989555, 0.78278741,\n",
       "       0.79756865, 0.81433108, 0.83303637, 0.85342306, 0.87488887,\n",
       "       0.89636879, 0.91625577, 0.93243387, 0.94248894, 0.94411978,\n",
       "       0.93677507, 0.92246047, 0.90360922, 0.88247573, 0.86085699,\n",
       "       0.84000282, 0.82066452, 0.80320856, 0.78773932, 0.77420178,\n",
       "       0.76245593, 0.75232554, 0.7436275 , 0.73618785, 0.7298496 ,\n",
       "       0.72447559, 0.71994862, 0.71617029, 0.71305929, 0.71054954,\n",
       "       0.70858849, 0.70713565, 0.70616136, 0.70564592, 0.70557898,\n",
       "       0.70595919, 0.7067942 , 0.70810083, 0.70990568, 0.71224587,\n",
       "       0.7151702 , 0.71874052, 0.72303339, 0.72814187, 0.73417736,\n",
       "       0.74127098, 0.74957392, 0.75925558, 0.77049754, 0.78348049,\n",
       "       0.79835938, 0.81522129, 0.83401918, 0.85447751, 0.87597363,\n",
       "       0.89741669, 0.91717214, 0.93310249, 0.9427877 , 0.94395386,\n",
       "       0.93620488, 0.92160557, 0.90258966, 0.8813937 , 0.85978801,\n",
       "       0.83899551, 0.81974528, 0.80238787, 0.78701749, 0.77357332,\n",
       "       0.76191257, 0.75185813, 0.74322701, 0.735846  , 0.72955906,\n",
       "       0.72423002, 0.71974266, 0.7159995 , 0.71292001, 0.71043884,\n",
       "       0.70850407, 0.70707577, 0.70612481, 0.70563197, 0.70558734,\n",
       "       0.70599004, 0.70684815, 0.70817897, 0.71000961, 0.71237775,\n",
       "       0.7153328 , 0.7189373 , 0.72326859, 0.72842062, 0.73450573,\n",
       "       0.74165607, 0.75002379, 0.75977908, 0.7711039 , 0.78417832,\n",
       "       0.79915509, 0.81611639, 0.83500622, 0.85553466, 0.87705837,\n",
       "       0.89846048, 0.91807901, 0.93375548, 0.94306497, 0.94376518,\n",
       "       0.93561753, 0.92073967, 0.90156475, 0.88031077, 0.85872118,\n",
       "       0.83799213, 0.81883082, 0.80157218, 0.78630048, 0.77294932,\n",
       "       0.76137323, 0.75139426, 0.74282964, 0.73550688, 0.7292709 ,\n",
       "       0.72398654, 0.71953856, 0.71583036, 0.71278222, 0.7103295 ,\n",
       "       0.70842091, 0.70701709, 0.70608941, 0.70561914, 0.70559683,\n",
       "       0.70602203, 0.70690328, 0.70825837, 0.71011489, 0.7125111 ,\n",
       "       0.71549702, 0.7191359 , 0.72350584, 0.72870169, 0.73483677,\n",
       "       0.74204419, 0.75047711, 0.76030651, 0.77171463, 0.78488091,\n",
       "       0.79995579, 0.81701635, 0.83599743, 0.85659439, 0.87814292])"
      ]
     },
     "execution_count": 106,
     "metadata": {},
     "output_type": "execute_result"
    }
   ],
   "source": [
    "trailing_window(pure_sine, rolling_window=60, func=foreca)"
   ]
  },
  {
   "cell_type": "markdown",
   "id": "b461dd41",
   "metadata": {},
   "source": [
    "# Maximum Achievable Accuracy"
   ]
  },
  {
   "cell_type": "code",
   "execution_count": 113,
   "id": "2e1cc3c1",
   "metadata": {},
   "outputs": [
    {
     "data": {
      "text/plain": [
       "np.float64(0.7843987348655999)"
      ]
     },
     "execution_count": 113,
     "metadata": {},
     "output_type": "execute_result"
    }
   ],
   "source": [
    "maximum_achievable_accuracy(r, m=2)"
   ]
  },
  {
   "cell_type": "code",
   "execution_count": 84,
   "id": "4706a8ab",
   "metadata": {},
   "outputs": [
    {
     "data": {
      "text/plain": [
       "np.float64(0.9855199246783082)"
      ]
     },
     "execution_count": 84,
     "metadata": {},
     "output_type": "execute_result"
    }
   ],
   "source": [
    "maximum_achievable_accuracy(pure_sine, m=1)"
   ]
  },
  {
   "cell_type": "markdown",
   "id": "adc90af6",
   "metadata": {},
   "source": [
    "# Hurst's Exponent"
   ]
  },
  {
   "cell_type": "code",
   "execution_count": 114,
   "id": "86205dab",
   "metadata": {},
   "outputs": [
    {
     "data": {
      "text/plain": [
       "(0.4297225535020972, 0.1593157776805273)"
      ]
     },
     "execution_count": 114,
     "metadata": {},
     "output_type": "execute_result"
    }
   ],
   "source": [
    "hurst_exponent(r)"
   ]
  },
  {
   "cell_type": "code",
   "execution_count": 86,
   "id": "4afa7740",
   "metadata": {},
   "outputs": [
    {
     "data": {
      "application/vnd.plotly.v1+json": {
       "config": {
        "plotlyServerURL": "https://plot.ly"
       },
       "data": [
        {
         "name": "Preço PETR4.SA",
         "type": "scatter",
         "x": [
          "2023-10-03T00:00:00.000000000",
          "2023-10-04T00:00:00.000000000",
          "2023-10-05T00:00:00.000000000",
          "2023-10-06T00:00:00.000000000",
          "2023-10-09T00:00:00.000000000",
          "2023-10-10T00:00:00.000000000",
          "2023-10-11T00:00:00.000000000",
          "2023-10-13T00:00:00.000000000",
          "2023-10-16T00:00:00.000000000",
          "2023-10-17T00:00:00.000000000",
          "2023-10-18T00:00:00.000000000",
          "2023-10-19T00:00:00.000000000",
          "2023-10-20T00:00:00.000000000",
          "2023-10-23T00:00:00.000000000",
          "2023-10-24T00:00:00.000000000",
          "2023-10-25T00:00:00.000000000",
          "2023-10-26T00:00:00.000000000",
          "2023-10-27T00:00:00.000000000",
          "2023-10-30T00:00:00.000000000",
          "2023-10-31T00:00:00.000000000",
          "2023-11-01T00:00:00.000000000",
          "2023-11-03T00:00:00.000000000",
          "2023-11-06T00:00:00.000000000",
          "2023-11-07T00:00:00.000000000",
          "2023-11-08T00:00:00.000000000",
          "2023-11-09T00:00:00.000000000",
          "2023-11-10T00:00:00.000000000",
          "2023-11-13T00:00:00.000000000",
          "2023-11-14T00:00:00.000000000",
          "2023-11-16T00:00:00.000000000",
          "2023-11-17T00:00:00.000000000",
          "2023-11-20T00:00:00.000000000",
          "2023-11-21T00:00:00.000000000",
          "2023-11-22T00:00:00.000000000",
          "2023-11-23T00:00:00.000000000",
          "2023-11-24T00:00:00.000000000",
          "2023-11-27T00:00:00.000000000",
          "2023-11-28T00:00:00.000000000",
          "2023-11-29T00:00:00.000000000",
          "2023-11-30T00:00:00.000000000",
          "2023-12-01T00:00:00.000000000",
          "2023-12-04T00:00:00.000000000",
          "2023-12-05T00:00:00.000000000",
          "2023-12-06T00:00:00.000000000",
          "2023-12-07T00:00:00.000000000",
          "2023-12-08T00:00:00.000000000",
          "2023-12-11T00:00:00.000000000",
          "2023-12-12T00:00:00.000000000",
          "2023-12-13T00:00:00.000000000",
          "2023-12-14T00:00:00.000000000",
          "2023-12-15T00:00:00.000000000",
          "2023-12-18T00:00:00.000000000",
          "2023-12-19T00:00:00.000000000",
          "2023-12-20T00:00:00.000000000",
          "2023-12-21T00:00:00.000000000",
          "2023-12-22T00:00:00.000000000",
          "2023-12-26T00:00:00.000000000",
          "2023-12-27T00:00:00.000000000",
          "2023-12-28T00:00:00.000000000",
          "2024-01-02T00:00:00.000000000",
          "2024-01-03T00:00:00.000000000",
          "2024-01-04T00:00:00.000000000",
          "2024-01-05T00:00:00.000000000",
          "2024-01-08T00:00:00.000000000",
          "2024-01-09T00:00:00.000000000",
          "2024-01-10T00:00:00.000000000",
          "2024-01-11T00:00:00.000000000",
          "2024-01-12T00:00:00.000000000",
          "2024-01-15T00:00:00.000000000",
          "2024-01-16T00:00:00.000000000",
          "2024-01-17T00:00:00.000000000",
          "2024-01-18T00:00:00.000000000",
          "2024-01-19T00:00:00.000000000",
          "2024-01-22T00:00:00.000000000",
          "2024-01-23T00:00:00.000000000",
          "2024-01-24T00:00:00.000000000",
          "2024-01-25T00:00:00.000000000",
          "2024-01-26T00:00:00.000000000",
          "2024-01-29T00:00:00.000000000",
          "2024-01-30T00:00:00.000000000",
          "2024-01-31T00:00:00.000000000",
          "2024-02-01T00:00:00.000000000",
          "2024-02-02T00:00:00.000000000",
          "2024-02-05T00:00:00.000000000",
          "2024-02-06T00:00:00.000000000",
          "2024-02-07T00:00:00.000000000",
          "2024-02-08T00:00:00.000000000",
          "2024-02-09T00:00:00.000000000",
          "2024-02-14T00:00:00.000000000",
          "2024-02-15T00:00:00.000000000",
          "2024-02-16T00:00:00.000000000",
          "2024-02-19T00:00:00.000000000",
          "2024-02-20T00:00:00.000000000",
          "2024-02-21T00:00:00.000000000",
          "2024-02-22T00:00:00.000000000",
          "2024-02-23T00:00:00.000000000",
          "2024-02-26T00:00:00.000000000",
          "2024-02-27T00:00:00.000000000",
          "2024-02-28T00:00:00.000000000",
          "2024-02-29T00:00:00.000000000",
          "2024-03-01T00:00:00.000000000",
          "2024-03-04T00:00:00.000000000",
          "2024-03-05T00:00:00.000000000",
          "2024-03-06T00:00:00.000000000",
          "2024-03-07T00:00:00.000000000",
          "2024-03-08T00:00:00.000000000",
          "2024-03-11T00:00:00.000000000",
          "2024-03-12T00:00:00.000000000",
          "2024-03-13T00:00:00.000000000",
          "2024-03-14T00:00:00.000000000",
          "2024-03-15T00:00:00.000000000",
          "2024-03-18T00:00:00.000000000",
          "2024-03-19T00:00:00.000000000",
          "2024-03-20T00:00:00.000000000",
          "2024-03-21T00:00:00.000000000",
          "2024-03-22T00:00:00.000000000",
          "2024-03-25T00:00:00.000000000",
          "2024-03-26T00:00:00.000000000",
          "2024-03-27T00:00:00.000000000",
          "2024-03-28T00:00:00.000000000",
          "2024-04-01T00:00:00.000000000",
          "2024-04-02T00:00:00.000000000",
          "2024-04-03T00:00:00.000000000",
          "2024-04-04T00:00:00.000000000",
          "2024-04-05T00:00:00.000000000",
          "2024-04-08T00:00:00.000000000",
          "2024-04-09T00:00:00.000000000",
          "2024-04-10T00:00:00.000000000",
          "2024-04-11T00:00:00.000000000",
          "2024-04-12T00:00:00.000000000",
          "2024-04-15T00:00:00.000000000",
          "2024-04-16T00:00:00.000000000",
          "2024-04-17T00:00:00.000000000",
          "2024-04-18T00:00:00.000000000",
          "2024-04-19T00:00:00.000000000",
          "2024-04-22T00:00:00.000000000",
          "2024-04-23T00:00:00.000000000",
          "2024-04-24T00:00:00.000000000",
          "2024-04-25T00:00:00.000000000",
          "2024-04-26T00:00:00.000000000",
          "2024-04-29T00:00:00.000000000",
          "2024-04-30T00:00:00.000000000",
          "2024-05-02T00:00:00.000000000",
          "2024-05-03T00:00:00.000000000",
          "2024-05-06T00:00:00.000000000",
          "2024-05-07T00:00:00.000000000",
          "2024-05-08T00:00:00.000000000",
          "2024-05-09T00:00:00.000000000",
          "2024-05-10T00:00:00.000000000",
          "2024-05-13T00:00:00.000000000",
          "2024-05-14T00:00:00.000000000",
          "2024-05-15T00:00:00.000000000",
          "2024-05-16T00:00:00.000000000",
          "2024-05-17T00:00:00.000000000",
          "2024-05-20T00:00:00.000000000",
          "2024-05-21T00:00:00.000000000",
          "2024-05-22T00:00:00.000000000",
          "2024-05-23T00:00:00.000000000",
          "2024-05-24T00:00:00.000000000",
          "2024-05-27T00:00:00.000000000",
          "2024-05-28T00:00:00.000000000",
          "2024-05-29T00:00:00.000000000",
          "2024-05-31T00:00:00.000000000",
          "2024-06-03T00:00:00.000000000",
          "2024-06-04T00:00:00.000000000",
          "2024-06-05T00:00:00.000000000",
          "2024-06-06T00:00:00.000000000",
          "2024-06-07T00:00:00.000000000",
          "2024-06-10T00:00:00.000000000",
          "2024-06-11T00:00:00.000000000",
          "2024-06-12T00:00:00.000000000",
          "2024-06-13T00:00:00.000000000",
          "2024-06-14T00:00:00.000000000",
          "2024-06-17T00:00:00.000000000",
          "2024-06-18T00:00:00.000000000",
          "2024-06-19T00:00:00.000000000",
          "2024-06-20T00:00:00.000000000",
          "2024-06-21T00:00:00.000000000",
          "2024-06-24T00:00:00.000000000",
          "2024-06-25T00:00:00.000000000",
          "2024-06-26T00:00:00.000000000",
          "2024-06-27T00:00:00.000000000",
          "2024-06-28T00:00:00.000000000",
          "2024-07-01T00:00:00.000000000",
          "2024-07-02T00:00:00.000000000",
          "2024-07-03T00:00:00.000000000",
          "2024-07-04T00:00:00.000000000",
          "2024-07-05T00:00:00.000000000",
          "2024-07-08T00:00:00.000000000",
          "2024-07-09T00:00:00.000000000",
          "2024-07-10T00:00:00.000000000",
          "2024-07-11T00:00:00.000000000",
          "2024-07-12T00:00:00.000000000",
          "2024-07-15T00:00:00.000000000",
          "2024-07-16T00:00:00.000000000",
          "2024-07-17T00:00:00.000000000",
          "2024-07-18T00:00:00.000000000",
          "2024-07-19T00:00:00.000000000",
          "2024-07-22T00:00:00.000000000",
          "2024-07-23T00:00:00.000000000",
          "2024-07-24T00:00:00.000000000",
          "2024-07-25T00:00:00.000000000",
          "2024-07-26T00:00:00.000000000",
          "2024-07-29T00:00:00.000000000",
          "2024-07-30T00:00:00.000000000",
          "2024-07-31T00:00:00.000000000",
          "2024-08-01T00:00:00.000000000",
          "2024-08-02T00:00:00.000000000",
          "2024-08-05T00:00:00.000000000",
          "2024-08-06T00:00:00.000000000",
          "2024-08-07T00:00:00.000000000",
          "2024-08-08T00:00:00.000000000",
          "2024-08-09T00:00:00.000000000",
          "2024-08-12T00:00:00.000000000",
          "2024-08-13T00:00:00.000000000",
          "2024-08-14T00:00:00.000000000",
          "2024-08-15T00:00:00.000000000",
          "2024-08-16T00:00:00.000000000",
          "2024-08-19T00:00:00.000000000",
          "2024-08-20T00:00:00.000000000",
          "2024-08-21T00:00:00.000000000",
          "2024-08-22T00:00:00.000000000",
          "2024-08-23T00:00:00.000000000",
          "2024-08-26T00:00:00.000000000",
          "2024-08-27T00:00:00.000000000",
          "2024-08-28T00:00:00.000000000",
          "2024-08-29T00:00:00.000000000",
          "2024-08-30T00:00:00.000000000",
          "2024-09-02T00:00:00.000000000",
          "2024-09-03T00:00:00.000000000",
          "2024-09-04T00:00:00.000000000",
          "2024-09-05T00:00:00.000000000",
          "2024-09-06T00:00:00.000000000",
          "2024-09-09T00:00:00.000000000",
          "2024-09-10T00:00:00.000000000",
          "2024-09-11T00:00:00.000000000",
          "2024-09-12T00:00:00.000000000",
          "2024-09-13T00:00:00.000000000",
          "2024-09-16T00:00:00.000000000",
          "2024-09-17T00:00:00.000000000",
          "2024-09-18T00:00:00.000000000",
          "2024-09-19T00:00:00.000000000",
          "2024-09-20T00:00:00.000000000",
          "2024-09-23T00:00:00.000000000",
          "2024-09-24T00:00:00.000000000",
          "2024-09-25T00:00:00.000000000",
          "2024-09-26T00:00:00.000000000",
          "2024-09-27T00:00:00.000000000",
          "2024-09-30T00:00:00.000000000",
          "2024-10-01T00:00:00.000000000",
          "2024-10-02T00:00:00.000000000",
          "2024-10-03T00:00:00.000000000",
          "2024-10-04T00:00:00.000000000",
          "2024-10-07T00:00:00.000000000",
          "2024-10-08T00:00:00.000000000",
          "2024-10-09T00:00:00.000000000",
          "2024-10-10T00:00:00.000000000",
          "2024-10-11T00:00:00.000000000",
          "2024-10-14T00:00:00.000000000",
          "2024-10-15T00:00:00.000000000",
          "2024-10-16T00:00:00.000000000",
          "2024-10-17T00:00:00.000000000",
          "2024-10-18T00:00:00.000000000",
          "2024-10-21T00:00:00.000000000",
          "2024-10-22T00:00:00.000000000",
          "2024-10-23T00:00:00.000000000",
          "2024-10-24T00:00:00.000000000",
          "2024-10-25T00:00:00.000000000",
          "2024-10-28T00:00:00.000000000",
          "2024-10-29T00:00:00.000000000",
          "2024-10-30T00:00:00.000000000",
          "2024-10-31T00:00:00.000000000",
          "2024-11-01T00:00:00.000000000",
          "2024-11-04T00:00:00.000000000",
          "2024-11-05T00:00:00.000000000",
          "2024-11-06T00:00:00.000000000",
          "2024-11-07T00:00:00.000000000",
          "2024-11-08T00:00:00.000000000",
          "2024-11-11T00:00:00.000000000",
          "2024-11-12T00:00:00.000000000",
          "2024-11-13T00:00:00.000000000",
          "2024-11-14T00:00:00.000000000",
          "2024-11-18T00:00:00.000000000",
          "2024-11-19T00:00:00.000000000",
          "2024-11-21T00:00:00.000000000",
          "2024-11-22T00:00:00.000000000",
          "2024-11-25T00:00:00.000000000",
          "2024-11-26T00:00:00.000000000",
          "2024-11-27T00:00:00.000000000",
          "2024-11-28T00:00:00.000000000",
          "2024-11-29T00:00:00.000000000",
          "2024-12-02T00:00:00.000000000",
          "2024-12-03T00:00:00.000000000",
          "2024-12-04T00:00:00.000000000",
          "2024-12-05T00:00:00.000000000",
          "2024-12-06T00:00:00.000000000",
          "2024-12-09T00:00:00.000000000",
          "2024-12-10T00:00:00.000000000",
          "2024-12-11T00:00:00.000000000",
          "2024-12-12T00:00:00.000000000",
          "2024-12-13T00:00:00.000000000",
          "2024-12-16T00:00:00.000000000",
          "2024-12-17T00:00:00.000000000",
          "2024-12-18T00:00:00.000000000",
          "2024-12-19T00:00:00.000000000",
          "2024-12-20T00:00:00.000000000",
          "2024-12-23T00:00:00.000000000",
          "2024-12-26T00:00:00.000000000",
          "2024-12-27T00:00:00.000000000",
          "2024-12-30T00:00:00.000000000",
          "2025-01-02T00:00:00.000000000",
          "2025-01-03T00:00:00.000000000",
          "2025-01-06T00:00:00.000000000",
          "2025-01-07T00:00:00.000000000",
          "2025-01-08T00:00:00.000000000",
          "2025-01-09T00:00:00.000000000",
          "2025-01-10T00:00:00.000000000",
          "2025-01-13T00:00:00.000000000",
          "2025-01-14T00:00:00.000000000",
          "2025-01-15T00:00:00.000000000",
          "2025-01-16T00:00:00.000000000",
          "2025-01-17T00:00:00.000000000",
          "2025-01-20T00:00:00.000000000",
          "2025-01-21T00:00:00.000000000",
          "2025-01-22T00:00:00.000000000",
          "2025-01-23T00:00:00.000000000",
          "2025-01-24T00:00:00.000000000",
          "2025-01-27T00:00:00.000000000",
          "2025-01-28T00:00:00.000000000",
          "2025-01-29T00:00:00.000000000",
          "2025-01-30T00:00:00.000000000",
          "2025-01-31T00:00:00.000000000",
          "2025-02-03T00:00:00.000000000",
          "2025-02-04T00:00:00.000000000",
          "2025-02-05T00:00:00.000000000",
          "2025-02-06T00:00:00.000000000",
          "2025-02-07T00:00:00.000000000",
          "2025-02-10T00:00:00.000000000",
          "2025-02-11T00:00:00.000000000",
          "2025-02-12T00:00:00.000000000",
          "2025-02-13T00:00:00.000000000",
          "2025-02-14T00:00:00.000000000",
          "2025-02-17T00:00:00.000000000",
          "2025-02-18T00:00:00.000000000",
          "2025-02-19T00:00:00.000000000",
          "2025-02-20T00:00:00.000000000",
          "2025-02-21T00:00:00.000000000",
          "2025-02-24T00:00:00.000000000",
          "2025-02-25T00:00:00.000000000",
          "2025-02-26T00:00:00.000000000",
          "2025-02-27T00:00:00.000000000",
          "2025-02-28T00:00:00.000000000",
          "2025-03-05T00:00:00.000000000",
          "2025-03-06T00:00:00.000000000",
          "2025-03-07T00:00:00.000000000",
          "2025-03-10T00:00:00.000000000",
          "2025-03-11T00:00:00.000000000",
          "2025-03-12T00:00:00.000000000",
          "2025-03-13T00:00:00.000000000",
          "2025-03-14T00:00:00.000000000",
          "2025-03-17T00:00:00.000000000",
          "2025-03-18T00:00:00.000000000",
          "2025-03-19T00:00:00.000000000",
          "2025-03-20T00:00:00.000000000",
          "2025-03-21T00:00:00.000000000",
          "2025-03-24T00:00:00.000000000",
          "2025-03-25T00:00:00.000000000",
          "2025-03-26T00:00:00.000000000",
          "2025-03-27T00:00:00.000000000",
          "2025-03-28T00:00:00.000000000",
          "2025-03-31T00:00:00.000000000",
          "2025-04-01T00:00:00.000000000",
          "2025-04-02T00:00:00.000000000",
          "2025-04-03T00:00:00.000000000",
          "2025-04-04T00:00:00.000000000",
          "2025-04-07T00:00:00.000000000",
          "2025-04-08T00:00:00.000000000",
          "2025-04-09T00:00:00.000000000",
          "2025-04-10T00:00:00.000000000",
          "2025-04-11T00:00:00.000000000",
          "2025-04-14T00:00:00.000000000",
          "2025-04-15T00:00:00.000000000",
          "2025-04-16T00:00:00.000000000",
          "2025-04-17T00:00:00.000000000",
          "2025-04-22T00:00:00.000000000",
          "2025-04-23T00:00:00.000000000",
          "2025-04-24T00:00:00.000000000",
          "2025-04-25T00:00:00.000000000",
          "2025-04-28T00:00:00.000000000",
          "2025-04-29T00:00:00.000000000",
          "2025-04-30T00:00:00.000000000",
          "2025-05-02T00:00:00.000000000",
          "2025-05-05T00:00:00.000000000",
          "2025-05-06T00:00:00.000000000",
          "2025-05-07T00:00:00.000000000",
          "2025-05-08T00:00:00.000000000",
          "2025-05-09T00:00:00.000000000",
          "2025-05-12T00:00:00.000000000",
          "2025-05-13T00:00:00.000000000",
          "2025-05-14T00:00:00.000000000",
          "2025-05-15T00:00:00.000000000",
          "2025-05-16T00:00:00.000000000",
          "2025-05-19T00:00:00.000000000",
          "2025-05-20T00:00:00.000000000",
          "2025-05-21T00:00:00.000000000",
          "2025-05-22T00:00:00.000000000",
          "2025-05-23T00:00:00.000000000",
          "2025-05-26T00:00:00.000000000",
          "2025-05-27T00:00:00.000000000",
          "2025-05-28T00:00:00.000000000",
          "2025-05-29T00:00:00.000000000",
          "2025-05-30T00:00:00.000000000",
          "2025-06-02T00:00:00.000000000",
          "2025-06-03T00:00:00.000000000",
          "2025-06-04T00:00:00.000000000",
          "2025-06-05T00:00:00.000000000",
          "2025-06-06T00:00:00.000000000",
          "2025-06-09T00:00:00.000000000",
          "2025-06-10T00:00:00.000000000",
          "2025-06-11T00:00:00.000000000",
          "2025-06-12T00:00:00.000000000",
          "2025-06-13T00:00:00.000000000",
          "2025-06-16T00:00:00.000000000",
          "2025-06-17T00:00:00.000000000",
          "2025-06-18T00:00:00.000000000",
          "2025-06-20T00:00:00.000000000",
          "2025-06-23T00:00:00.000000000",
          "2025-06-24T00:00:00.000000000",
          "2025-06-25T00:00:00.000000000",
          "2025-06-26T00:00:00.000000000",
          "2025-06-27T00:00:00.000000000",
          "2025-06-30T00:00:00.000000000",
          "2025-07-01T00:00:00.000000000",
          "2025-07-02T00:00:00.000000000",
          "2025-07-03T00:00:00.000000000",
          "2025-07-04T00:00:00.000000000",
          "2025-07-07T00:00:00.000000000",
          "2025-07-08T00:00:00.000000000",
          "2025-07-09T00:00:00.000000000",
          "2025-07-10T00:00:00.000000000",
          "2025-07-11T00:00:00.000000000",
          "2025-07-14T00:00:00.000000000",
          "2025-07-15T00:00:00.000000000",
          "2025-07-16T00:00:00.000000000",
          "2025-07-17T00:00:00.000000000",
          "2025-07-18T00:00:00.000000000",
          "2025-07-21T00:00:00.000000000",
          "2025-07-22T00:00:00.000000000",
          "2025-07-23T00:00:00.000000000",
          "2025-07-24T00:00:00.000000000",
          "2025-07-25T00:00:00.000000000",
          "2025-07-28T00:00:00.000000000",
          "2025-07-29T00:00:00.000000000",
          "2025-07-30T00:00:00.000000000",
          "2025-07-31T00:00:00.000000000",
          "2025-08-01T00:00:00.000000000",
          "2025-08-04T00:00:00.000000000",
          "2025-08-05T00:00:00.000000000",
          "2025-08-06T00:00:00.000000000",
          "2025-08-07T00:00:00.000000000",
          "2025-08-08T00:00:00.000000000",
          "2025-08-11T00:00:00.000000000",
          "2025-08-12T00:00:00.000000000",
          "2025-08-13T00:00:00.000000000",
          "2025-08-14T00:00:00.000000000",
          "2025-08-15T00:00:00.000000000",
          "2025-08-18T00:00:00.000000000",
          "2025-08-19T00:00:00.000000000",
          "2025-08-20T00:00:00.000000000",
          "2025-08-21T00:00:00.000000000",
          "2025-08-22T00:00:00.000000000",
          "2025-08-25T00:00:00.000000000",
          "2025-08-26T00:00:00.000000000",
          "2025-08-27T00:00:00.000000000",
          "2025-08-28T00:00:00.000000000",
          "2025-08-29T00:00:00.000000000",
          "2025-09-01T00:00:00.000000000",
          "2025-09-02T00:00:00.000000000",
          "2025-09-03T00:00:00.000000000",
          "2025-09-04T00:00:00.000000000",
          "2025-09-05T00:00:00.000000000",
          "2025-09-08T00:00:00.000000000",
          "2025-09-09T00:00:00.000000000",
          "2025-09-10T00:00:00.000000000",
          "2025-09-11T00:00:00.000000000",
          "2025-09-12T00:00:00.000000000",
          "2025-09-15T00:00:00.000000000",
          "2025-09-16T00:00:00.000000000",
          "2025-09-17T00:00:00.000000000",
          "2025-09-18T00:00:00.000000000",
          "2025-09-19T00:00:00.000000000",
          "2025-09-22T00:00:00.000000000",
          "2025-09-23T00:00:00.000000000",
          "2025-09-24T00:00:00.000000000",
          "2025-09-25T00:00:00.000000000",
          "2025-09-26T00:00:00.000000000",
          "2025-09-29T00:00:00.000000000",
          "2025-09-30T00:00:00.000000000",
          "2025-10-01T00:00:00.000000000",
          "2025-10-02T00:00:00.000000000",
          "2025-10-03T00:00:00.000000000"
         ],
         "y": {
          "bdata": "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",
          "dtype": "f8"
         },
         "yaxis": "y"
        }
       ],
       "layout": {
        "template": {
         "data": {
          "bar": [
           {
            "error_x": {
             "color": "#2a3f5f"
            },
            "error_y": {
             "color": "#2a3f5f"
            },
            "marker": {
             "line": {
              "color": "#E5ECF6",
              "width": 0.5
             },
             "pattern": {
              "fillmode": "overlay",
              "size": 10,
              "solidity": 0.2
             }
            },
            "type": "bar"
           }
          ],
          "barpolar": [
           {
            "marker": {
             "line": {
              "color": "#E5ECF6",
              "width": 0.5
             },
             "pattern": {
              "fillmode": "overlay",
              "size": 10,
              "solidity": 0.2
             }
            },
            "type": "barpolar"
           }
          ],
          "carpet": [
           {
            "aaxis": {
             "endlinecolor": "#2a3f5f",
             "gridcolor": "white",
             "linecolor": "white",
             "minorgridcolor": "white",
             "startlinecolor": "#2a3f5f"
            },
            "baxis": {
             "endlinecolor": "#2a3f5f",
             "gridcolor": "white",
             "linecolor": "white",
             "minorgridcolor": "white",
             "startlinecolor": "#2a3f5f"
            },
            "type": "carpet"
           }
          ],
          "choropleth": [
           {
            "colorbar": {
             "outlinewidth": 0,
             "ticks": ""
            },
            "type": "choropleth"
           }
          ],
          "contour": [
           {
            "colorbar": {
             "outlinewidth": 0,
             "ticks": ""
            },
            "colorscale": [
             [
              0,
              "#0d0887"
             ],
             [
              0.1111111111111111,
              "#46039f"
             ],
             [
              0.2222222222222222,
              "#7201a8"
             ],
             [
              0.3333333333333333,
              "#9c179e"
             ],
             [
              0.4444444444444444,
              "#bd3786"
             ],
             [
              0.5555555555555556,
              "#d8576b"
             ],
             [
              0.6666666666666666,
              "#ed7953"
             ],
             [
              0.7777777777777778,
              "#fb9f3a"
             ],
             [
              0.8888888888888888,
              "#fdca26"
             ],
             [
              1,
              "#f0f921"
             ]
            ],
            "type": "contour"
           }
          ],
          "contourcarpet": [
           {
            "colorbar": {
             "outlinewidth": 0,
             "ticks": ""
            },
            "type": "contourcarpet"
           }
          ],
          "heatmap": [
           {
            "colorbar": {
             "outlinewidth": 0,
             "ticks": ""
            },
            "colorscale": [
             [
              0,
              "#0d0887"
             ],
             [
              0.1111111111111111,
              "#46039f"
             ],
             [
              0.2222222222222222,
              "#7201a8"
             ],
             [
              0.3333333333333333,
              "#9c179e"
             ],
             [
              0.4444444444444444,
              "#bd3786"
             ],
             [
              0.5555555555555556,
              "#d8576b"
             ],
             [
              0.6666666666666666,
              "#ed7953"
             ],
             [
              0.7777777777777778,
              "#fb9f3a"
             ],
             [
              0.8888888888888888,
              "#fdca26"
             ],
             [
              1,
              "#f0f921"
             ]
            ],
            "type": "heatmap"
           }
          ],
          "histogram": [
           {
            "marker": {
             "pattern": {
              "fillmode": "overlay",
              "size": 10,
              "solidity": 0.2
             }
            },
            "type": "histogram"
           }
          ],
          "histogram2d": [
           {
            "colorbar": {
             "outlinewidth": 0,
             "ticks": ""
            },
            "colorscale": [
             [
              0,
              "#0d0887"
             ],
             [
              0.1111111111111111,
              "#46039f"
             ],
             [
              0.2222222222222222,
              "#7201a8"
             ],
             [
              0.3333333333333333,
              "#9c179e"
             ],
             [
              0.4444444444444444,
              "#bd3786"
             ],
             [
              0.5555555555555556,
              "#d8576b"
             ],
             [
              0.6666666666666666,
              "#ed7953"
             ],
             [
              0.7777777777777778,
              "#fb9f3a"
             ],
             [
              0.8888888888888888,
              "#fdca26"
             ],
             [
              1,
              "#f0f921"
             ]
            ],
            "type": "histogram2d"
           }
          ],
          "histogram2dcontour": [
           {
            "colorbar": {
             "outlinewidth": 0,
             "ticks": ""
            },
            "colorscale": [
             [
              0,
              "#0d0887"
             ],
             [
              0.1111111111111111,
              "#46039f"
             ],
             [
              0.2222222222222222,
              "#7201a8"
             ],
             [
              0.3333333333333333,
              "#9c179e"
             ],
             [
              0.4444444444444444,
              "#bd3786"
             ],
             [
              0.5555555555555556,
              "#d8576b"
             ],
             [
              0.6666666666666666,
              "#ed7953"
             ],
             [
              0.7777777777777778,
              "#fb9f3a"
             ],
             [
              0.8888888888888888,
              "#fdca26"
             ],
             [
              1,
              "#f0f921"
             ]
            ],
            "type": "histogram2dcontour"
           }
          ],
          "mesh3d": [
           {
            "colorbar": {
             "outlinewidth": 0,
             "ticks": ""
            },
            "type": "mesh3d"
           }
          ],
          "parcoords": [
           {
            "line": {
             "colorbar": {
              "outlinewidth": 0,
              "ticks": ""
             }
            },
            "type": "parcoords"
           }
          ],
          "pie": [
           {
            "automargin": true,
            "type": "pie"
           }
          ],
          "scatter": [
           {
            "fillpattern": {
             "fillmode": "overlay",
             "size": 10,
             "solidity": 0.2
            },
            "type": "scatter"
           }
          ],
          "scatter3d": [
           {
            "line": {
             "colorbar": {
              "outlinewidth": 0,
              "ticks": ""
             }
            },
            "marker": {
             "colorbar": {
              "outlinewidth": 0,
              "ticks": ""
             }
            },
            "type": "scatter3d"
           }
          ],
          "scattercarpet": [
           {
            "marker": {
             "colorbar": {
              "outlinewidth": 0,
              "ticks": ""
             }
            },
            "type": "scattercarpet"
           }
          ],
          "scattergeo": [
           {
            "marker": {
             "colorbar": {
              "outlinewidth": 0,
              "ticks": ""
             }
            },
            "type": "scattergeo"
           }
          ],
          "scattergl": [
           {
            "marker": {
             "colorbar": {
              "outlinewidth": 0,
              "ticks": ""
             }
            },
            "type": "scattergl"
           }
          ],
          "scattermap": [
           {
            "marker": {
             "colorbar": {
              "outlinewidth": 0,
              "ticks": ""
             }
            },
            "type": "scattermap"
           }
          ],
          "scattermapbox": [
           {
            "marker": {
             "colorbar": {
              "outlinewidth": 0,
              "ticks": ""
             }
            },
            "type": "scattermapbox"
           }
          ],
          "scatterpolar": [
           {
            "marker": {
             "colorbar": {
              "outlinewidth": 0,
              "ticks": ""
             }
            },
            "type": "scatterpolar"
           }
          ],
          "scatterpolargl": [
           {
            "marker": {
             "colorbar": {
              "outlinewidth": 0,
              "ticks": ""
             }
            },
            "type": "scatterpolargl"
           }
          ],
          "scatterternary": [
           {
            "marker": {
             "colorbar": {
              "outlinewidth": 0,
              "ticks": ""
             }
            },
            "type": "scatterternary"
           }
          ],
          "surface": [
           {
            "colorbar": {
             "outlinewidth": 0,
             "ticks": ""
            },
            "colorscale": [
             [
              0,
              "#0d0887"
             ],
             [
              0.1111111111111111,
              "#46039f"
             ],
             [
              0.2222222222222222,
              "#7201a8"
             ],
             [
              0.3333333333333333,
              "#9c179e"
             ],
             [
              0.4444444444444444,
              "#bd3786"
             ],
             [
              0.5555555555555556,
              "#d8576b"
             ],
             [
              0.6666666666666666,
              "#ed7953"
             ],
             [
              0.7777777777777778,
              "#fb9f3a"
             ],
             [
              0.8888888888888888,
              "#fdca26"
             ],
             [
              1,
              "#f0f921"
             ]
            ],
            "type": "surface"
           }
          ],
          "table": [
           {
            "cells": {
             "fill": {
              "color": "#EBF0F8"
             },
             "line": {
              "color": "white"
             }
            },
            "header": {
             "fill": {
              "color": "#C8D4E3"
             },
             "line": {
              "color": "white"
             }
            },
            "type": "table"
           }
          ]
         },
         "layout": {
          "annotationdefaults": {
           "arrowcolor": "#2a3f5f",
           "arrowhead": 0,
           "arrowwidth": 1
          },
          "autotypenumbers": "strict",
          "coloraxis": {
           "colorbar": {
            "outlinewidth": 0,
            "ticks": ""
           }
          },
          "colorscale": {
           "diverging": [
            [
             0,
             "#8e0152"
            ],
            [
             0.1,
             "#c51b7d"
            ],
            [
             0.2,
             "#de77ae"
            ],
            [
             0.3,
             "#f1b6da"
            ],
            [
             0.4,
             "#fde0ef"
            ],
            [
             0.5,
             "#f7f7f7"
            ],
            [
             0.6,
             "#e6f5d0"
            ],
            [
             0.7,
             "#b8e186"
            ],
            [
             0.8,
             "#7fbc41"
            ],
            [
             0.9,
             "#4d9221"
            ],
            [
             1,
             "#276419"
            ]
           ],
           "sequential": [
            [
             0,
             "#0d0887"
            ],
            [
             0.1111111111111111,
             "#46039f"
            ],
            [
             0.2222222222222222,
             "#7201a8"
            ],
            [
             0.3333333333333333,
             "#9c179e"
            ],
            [
             0.4444444444444444,
             "#bd3786"
            ],
            [
             0.5555555555555556,
             "#d8576b"
            ],
            [
             0.6666666666666666,
             "#ed7953"
            ],
            [
             0.7777777777777778,
             "#fb9f3a"
            ],
            [
             0.8888888888888888,
             "#fdca26"
            ],
            [
             1,
             "#f0f921"
            ]
           ],
           "sequentialminus": [
            [
             0,
             "#0d0887"
            ],
            [
             0.1111111111111111,
             "#46039f"
            ],
            [
             0.2222222222222222,
             "#7201a8"
            ],
            [
             0.3333333333333333,
             "#9c179e"
            ],
            [
             0.4444444444444444,
             "#bd3786"
            ],
            [
             0.5555555555555556,
             "#d8576b"
            ],
            [
             0.6666666666666666,
             "#ed7953"
            ],
            [
             0.7777777777777778,
             "#fb9f3a"
            ],
            [
             0.8888888888888888,
             "#fdca26"
            ],
            [
             1,
             "#f0f921"
            ]
           ]
          },
          "colorway": [
           "#636efa",
           "#EF553B",
           "#00cc96",
           "#ab63fa",
           "#FFA15A",
           "#19d3f3",
           "#FF6692",
           "#B6E880",
           "#FF97FF",
           "#FECB52"
          ],
          "font": {
           "color": "#2a3f5f"
          },
          "geo": {
           "bgcolor": "white",
           "lakecolor": "white",
           "landcolor": "#E5ECF6",
           "showlakes": true,
           "showland": true,
           "subunitcolor": "white"
          },
          "hoverlabel": {
           "align": "left"
          },
          "hovermode": "closest",
          "mapbox": {
           "style": "light"
          },
          "paper_bgcolor": "white",
          "plot_bgcolor": "#E5ECF6",
          "polar": {
           "angularaxis": {
            "gridcolor": "white",
            "linecolor": "white",
            "ticks": ""
           },
           "bgcolor": "#E5ECF6",
           "radialaxis": {
            "gridcolor": "white",
            "linecolor": "white",
            "ticks": ""
           }
          },
          "scene": {
           "xaxis": {
            "backgroundcolor": "#E5ECF6",
            "gridcolor": "white",
            "gridwidth": 2,
            "linecolor": "white",
            "showbackground": true,
            "ticks": "",
            "zerolinecolor": "white"
           },
           "yaxis": {
            "backgroundcolor": "#E5ECF6",
            "gridcolor": "white",
            "gridwidth": 2,
            "linecolor": "white",
            "showbackground": true,
            "ticks": "",
            "zerolinecolor": "white"
           },
           "zaxis": {
            "backgroundcolor": "#E5ECF6",
            "gridcolor": "white",
            "gridwidth": 2,
            "linecolor": "white",
            "showbackground": true,
            "ticks": "",
            "zerolinecolor": "white"
           }
          },
          "shapedefaults": {
           "line": {
            "color": "#2a3f5f"
           }
          },
          "ternary": {
           "aaxis": {
            "gridcolor": "white",
            "linecolor": "white",
            "ticks": ""
           },
           "baxis": {
            "gridcolor": "white",
            "linecolor": "white",
            "ticks": ""
           },
           "bgcolor": "#E5ECF6",
           "caxis": {
            "gridcolor": "white",
            "linecolor": "white",
            "ticks": ""
           }
          },
          "title": {
           "x": 0.05
          },
          "xaxis": {
           "automargin": true,
           "gridcolor": "white",
           "linecolor": "white",
           "ticks": "",
           "title": {
            "standoff": 15
           },
           "zerolinecolor": "white",
           "zerolinewidth": 2
          },
          "yaxis": {
           "automargin": true,
           "gridcolor": "white",
           "linecolor": "white",
           "ticks": "",
           "title": {
            "standoff": 15
           },
           "zerolinecolor": "white",
           "zerolinewidth": 2
          }
         }
        }
       }
      }
     },
     "metadata": {},
     "output_type": "display_data"
    }
   ],
   "source": [
    "fig = go.Figure()\n",
    "\n",
    "fig.add_trace(go.Scatter(\n",
    "    y=data[\"Close\"][\"PETR4.SA\"],\n",
    "    x=data.index,\n",
    "    name=\"Preço PETR4.SA\",\n",
    "    yaxis=\"y1\"\n",
    "))\n",
    "\n",
    "\n",
    "fig.show(fig_type=\"png\")"
   ]
  },
  {
   "cell_type": "code",
   "execution_count": 87,
   "id": "d01899f8",
   "metadata": {},
   "outputs": [],
   "source": [
    "np.random.seed(42)\n",
    "n_points = 1000\n",
    "trend = np.linspace(0, 10, n_points)\n",
    "noise_trend = np.cumsum(standard_normal(n_points) * 0.1)\n",
    "mean_reversion = np.zeros(n_points)\n",
    "for t in range(1, n_points):\n",
    "    mean_reversion[t] = mean_reversion[t-1] * 0.6 + standard_normal() * 0.5\n",
    "brownian = np.cumsum(standard_normal(n_points))"
   ]
  },
  {
   "cell_type": "code",
   "execution_count": 88,
   "id": "77aea94b",
   "metadata": {},
   "outputs": [
    {
     "data": {
      "text/plain": [
       "(0.6419241912818302, 0.000952023886777138)"
      ]
     },
     "execution_count": 88,
     "metadata": {},
     "output_type": "execute_result"
    }
   ],
   "source": [
    "hurst_exponent(noise_trend)"
   ]
  },
  {
   "cell_type": "code",
   "execution_count": 89,
   "id": "df47c202",
   "metadata": {},
   "outputs": [
    {
     "data": {
      "text/plain": [
       "(0.3685698852341455, 0.05402692976986088)"
      ]
     },
     "execution_count": 89,
     "metadata": {},
     "output_type": "execute_result"
    }
   ],
   "source": [
    "hurst_exponent(mean_reversion)"
   ]
  },
  {
   "cell_type": "code",
   "execution_count": 90,
   "id": "c80e44d7",
   "metadata": {},
   "outputs": [
    {
     "data": {
      "text/plain": [
       "(0.8575205638768405, 0.0014654668633357023)"
      ]
     },
     "execution_count": 90,
     "metadata": {},
     "output_type": "execute_result"
    }
   ],
   "source": [
    "hurst_exponent(pure_sine)"
   ]
  }
 ],
 "metadata": {
  "kernelspec": {
   "display_name": "tinyshift",
   "language": "python",
   "name": "python3"
  },
  "language_info": {
   "codemirror_mode": {
    "name": "ipython",
    "version": 3
   },
   "file_extension": ".py",
   "mimetype": "text/x-python",
   "name": "python",
   "nbconvert_exporter": "python",
   "pygments_lexer": "ipython3",
   "version": "3.12.3"
  }
 },
 "nbformat": 4,
 "nbformat_minor": 5
}
