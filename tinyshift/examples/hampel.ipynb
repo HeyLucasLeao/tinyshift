{
 "cells": [
  {
   "cell_type": "code",
   "execution_count": 211,
   "id": "0d347d11",
   "metadata": {},
   "outputs": [],
   "source": [
    "import numpy as np\n",
    "from tinyshift.stats import StatisticalInterval\n",
    "from sklearn.utils import check_array\n",
    "from sklearn.model_selection import train_test_split\n",
    "from sklearn.datasets import make_classification\n",
    "import pandas as pd"
   ]
  },
  {
   "cell_type": "code",
   "execution_count": 212,
   "id": "ef334326",
   "metadata": {},
   "outputs": [],
   "source": [
    "\n",
    "weights = [0.2, 0.8]\n",
    "\n",
    "X, y = make_classification(\n",
    "    n_samples=100000, \n",
    "    n_features=20, \n",
    "    n_informative=2,      \n",
    "    weights=weights, \n",
    "    random_state=42,\n",
    "    n_redundant=2)\n",
    "\n",
    "num_samples = X.shape[0]\n",
    "\n",
    "categorical_col1 = np.random.choice(['A', 'B', 'C'], size=num_samples)\n",
    "categorical_col2 = np.random.choice(['X', 'Y', 'Z'], size=num_samples)\n",
    "\n",
    "df = pd.DataFrame(X, columns=[f'feature_{i}' for i in range(X.shape[1])])\n",
    "df_train, df_test = train_test_split(df, test_size=0.2, random_state=42)"
   ]
  },
  {
   "cell_type": "code",
   "execution_count": 585,
   "id": "e8aa93c9",
   "metadata": {},
   "outputs": [],
   "source": [
    "def hampel_filter_v1(X, rolling_window=3, factor=3):\n",
    "    X = np.asarray(X)\n",
    "    is_outlier = np.zeros(X.shape[0], dtype=bool)\n",
    "\n",
    "    for i in range(rolling_window, X.shape[0] - rolling_window):\n",
    "        window = X[i - rolling_window : i]\n",
    "        median = np.median(window)\n",
    "        mad = np.median(np.abs(window - np.median(window)))\n",
    "        threshold = factor * mad\n",
    "        \n",
    "        if abs(X[i - rolling_window] - median) > threshold:\n",
    "            is_outlier[i - rolling_window] = True\n",
    "\n",
    "    \n",
    "    return is_outlier"
   ]
  },
  {
   "cell_type": "code",
   "execution_count": 580,
   "id": "812688cf",
   "metadata": {},
   "outputs": [],
   "source": [
    "def hampel_filter_v2(X, rolling_window=3, factor=3):\n",
    "    X = np.asarray(X)\n",
    "    is_outlier = np.zeros(X.shape[0], dtype=bool)\n",
    "    window_indeces = [np.arange(i - rolling_window, i) for i in range(rolling_window, X.shape[0] - rolling_window)]\n",
    "    medians = np.median(X[window_indeces], axis=1)[:, None]\n",
    "    mad = np.median(np.abs(X[window_indeces] - medians), axis=1)\n",
    "    thresholds = factor * mad \n",
    "    for i, indeces in enumerate(window_indeces):\n",
    "        is_outlier[indeces] = abs(X[i] - medians[i]) > thresholds[i]\n",
    "    return is_outlier"
   ]
  },
  {
   "cell_type": "code",
   "execution_count": 586,
   "id": "da9fc11f",
   "metadata": {},
   "outputs": [
    {
     "name": "stdout",
     "output_type": "stream",
     "text": [
      "CPU times: user 2.89 s, sys: 19.6 ms, total: 2.91 s\n",
      "Wall time: 2.96 s\n"
     ]
    }
   ],
   "source": [
    "%%time\n",
    "outlier_v1 = hampel_filter(df_train[\"feature_0\"], rolling_window=3)"
   ]
  },
  {
   "cell_type": "code",
   "execution_count": 587,
   "id": "f1afae45",
   "metadata": {},
   "outputs": [
    {
     "name": "stdout",
     "output_type": "stream",
     "text": [
      "CPU times: user 250 ms, sys: 8.95 ms, total: 259 ms\n",
      "Wall time: 264 ms\n"
     ]
    }
   ],
   "source": [
    "%%time\n",
    "outlier_v2 = hampel_filter_v2(df_train[\"feature_0\"], rolling_window=3)"
   ]
  },
  {
   "cell_type": "code",
   "execution_count": 588,
   "id": "e8d23bd8",
   "metadata": {},
   "outputs": [],
   "source": [
    "dados = np.array([1, 2, 3, 10, 4, 3, 2, 1])  # 10 é um outlier"
   ]
  },
  {
   "cell_type": "code",
   "execution_count": 591,
   "id": "e93732a9",
   "metadata": {},
   "outputs": [
    {
     "data": {
      "text/plain": [
       "array([False, False, False, False, False, False, False, False])"
      ]
     },
     "execution_count": 591,
     "metadata": {},
     "output_type": "execute_result"
    }
   ],
   "source": [
    "hampel_filter_v2(dados)"
   ]
  },
  {
   "cell_type": "code",
   "execution_count": 422,
   "id": "2c8a850d",
   "metadata": {},
   "outputs": [
    {
     "data": {
      "text/plain": [
       "array([False,  True, False, ..., False, False, False], shape=(80000,))"
      ]
     },
     "execution_count": 422,
     "metadata": {},
     "output_type": "execute_result"
    }
   ],
   "source": [
    "filtered_v2 "
   ]
  },
  {
   "cell_type": "code",
   "execution_count": null,
   "id": "ad21bfdd",
   "metadata": {},
   "outputs": [],
   "source": []
  }
 ],
 "metadata": {
  "kernelspec": {
   "display_name": "tinyshift",
   "language": "python",
   "name": "python3"
  },
  "language_info": {
   "codemirror_mode": {
    "name": "ipython",
    "version": 3
   },
   "file_extension": ".py",
   "mimetype": "text/x-python",
   "name": "python",
   "nbconvert_exporter": "python",
   "pygments_lexer": "ipython3",
   "version": "3.10.16"
  }
 },
 "nbformat": 4,
 "nbformat_minor": 5
}
