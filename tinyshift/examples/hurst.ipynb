{
 "cells": [
  {
   "cell_type": "code",
   "execution_count": 114,
   "id": "b930d2ac",
   "metadata": {},
   "outputs": [],
   "source": [
    "import numpy as np\n",
    "import pandas as pd\n",
    "from sklearn.datasets import make_classification\n",
    "from sklearn.model_selection import train_test_split\n",
    "from itertools import repeat\n",
    "import math"
   ]
  },
  {
   "cell_type": "code",
   "execution_count": 115,
   "id": "e3c489e6",
   "metadata": {},
   "outputs": [],
   "source": [
    "weights = [0.2, 0.8]\n",
    "\n",
    "X, y = make_classification(\n",
    "    n_samples=100000, \n",
    "    n_features=20, \n",
    "    n_informative=2,      \n",
    "    weights=weights, \n",
    "    random_state=42,\n",
    "    n_redundant=2)\n",
    "\n",
    "num_samples = X.shape[0]\n",
    "\n",
    "categorical_col1 = np.random.choice(['A', 'B', 'C'], size=num_samples)\n",
    "categorical_col2 = np.random.choice(['X', 'Y', 'Z'], size=num_samples)\n",
    "\n",
    "df = pd.DataFrame(X, columns=[f'feature_{i}' for i in range(X.shape[1])])\n",
    "\n",
    "df_train, df_test = train_test_split(df, test_size=0.2, random_state=42)"
   ]
  },
  {
   "cell_type": "code",
   "execution_count": 116,
   "id": "a71ca223",
   "metadata": {},
   "outputs": [],
   "source": [
    "X = np.asarray(df_train[\"feature_0\"])"
   ]
  },
  {
   "cell_type": "code",
   "execution_count": 117,
   "id": "33a79f42",
   "metadata": {},
   "outputs": [
    {
     "data": {
      "text/plain": [
       "'Convenção de hurst é que separar as amostras em pequenas amostras na qual o tamanho é proporcional à potência de dois'"
      ]
     },
     "execution_count": 117,
     "metadata": {},
     "output_type": "execute_result"
    }
   ],
   "source": [
    "\"\"\"Convenção de hurst é que separar as amostras em pequenas amostras na qual o tamanho é proporcional à potência de dois\"\"\""
   ]
  },
  {
   "cell_type": "code",
   "execution_count": 118,
   "id": "9bfdb93d",
   "metadata": {},
   "outputs": [],
   "source": [
    "def hurst_v1(X):\n",
    "    X = np.asarray(X)\n",
    "    #rolling = np.diff(X)\n",
    "    rolling = X\n",
    "    size = len(X)\n",
    "    exp = np.floor(math.log2(size)).astype(int)\n",
    "    subsample_sizes = []\n",
    "    for pow in range(1, exp + 1):\n",
    "        subsample = 2 ** pow\n",
    "        if size % subsample == 0:\n",
    "            subsample_sizes.append(subsample)\n",
    "    for subsample in subsample_sizes:\n",
    "        window_indices = [np.arange(i, i + subsample) for i in range(0, size, subsample)]\n",
    "        mean = np.mean(rolling[window_indices], axis=1)\n",
    "        S = np.std(rolling[window_indices], axis=1, ddof=1)\n",
    "        demeaned = rolling[window_indices] - mean[:, None]\n",
    "        cumsum = np.cumsum(demeaned, axis=1)\n",
    "        R = np.max(cumsum, axis=1) - np.min(cumsum, axis=1)\n",
    "        r_s = R / S\n",
    "    return r_s\n"
   ]
  },
  {
   "cell_type": "code",
   "execution_count": 121,
   "id": "1cacb351",
   "metadata": {},
   "outputs": [],
   "source": [
    "import numpy as np\n",
    "import math\n",
    "from scipy.stats import linregress\n",
    "\n",
    "def hurst_v2(X):\n",
    "    X = np.asarray(X)\n",
    "    rolling = np.diff(X)\n",
    "    size = len(rolling)\n",
    "    \n",
    "    if size < 10:\n",
    "        raise ValueError(\"Dados insuficientes para calcular o expoente de Hurst.\")\n",
    "    \n",
    "    max_pow = int(np.floor(math.log2(size)))\n",
    "    subsample_sizes = [2 ** pow for pow in range(1, max_pow + 1)]\n",
    "\n",
    "    r_s = []\n",
    "    valid_sizes = []\n",
    "    \n",
    "    for subsample in subsample_sizes:\n",
    "        length_windows = size // subsample\n",
    "        \n",
    "        windows = rolling[:length_windows * subsample].reshape(length_windows, subsample)\n",
    "        \n",
    "        mean = np.mean(windows, axis=1, keepdims=True)\n",
    "        S = np.std(windows, axis=1, ddof=1)\n",
    "        demeaned = windows - mean\n",
    "        cumsum = np.cumsum(demeaned, axis=1)\n",
    "        R = np.max(cumsum, axis=1) - np.min(cumsum, axis=1)\n",
    "        \n",
    "        r_s.append(np.mean(R / S)) \n",
    "        valid_sizes.append(subsample)\n",
    "    \n",
    "    \n",
    "    log_sizes = np.log(valid_sizes)\n",
    "    log_r_s = np.log(r_s)\n",
    "    slope, _, _, _, _ = linregress(log_sizes, log_r_s)\n",
    "    \n",
    "    return slope"
   ]
  },
  {
   "cell_type": "code",
   "execution_count": 122,
   "id": "f0b14a7c",
   "metadata": {},
   "outputs": [
    {
     "data": {
      "text/plain": [
       "np.float64(0.1586313770243084)"
      ]
     },
     "execution_count": 122,
     "metadata": {},
     "output_type": "execute_result"
    }
   ],
   "source": [
    "hurst_v2(X)"
   ]
  }
 ],
 "metadata": {
  "kernelspec": {
   "display_name": "tinyshift",
   "language": "python",
   "name": "python3"
  },
  "language_info": {
   "codemirror_mode": {
    "name": "ipython",
    "version": 3
   },
   "file_extension": ".py",
   "mimetype": "text/x-python",
   "name": "python",
   "nbconvert_exporter": "python",
   "pygments_lexer": "ipython3",
   "version": "3.10.16"
  }
 },
 "nbformat": 4,
 "nbformat_minor": 5
}
